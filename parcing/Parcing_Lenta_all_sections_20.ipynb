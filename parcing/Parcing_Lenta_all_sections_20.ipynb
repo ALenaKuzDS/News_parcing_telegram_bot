{
 "cells": [
  {
   "cell_type": "markdown",
   "metadata": {
    "id": "L_2Vw-KDXPz8"
   },
   "source": [
    "# Проект по анализу данных с сайта РИА Новости"
   ]
  },
  {
   "cell_type": "markdown",
   "metadata": {
    "id": "Jj02ygTIXPz-"
   },
   "source": [
    "### Часть 1.1\n",
    "### Реализация парсера"
   ]
  },
  {
   "cell_type": "code",
   "execution_count": 1,
   "metadata": {
    "id": "sLvaFNoGXPz-"
   },
   "outputs": [
    {
     "name": "stderr",
     "output_type": "stream",
     "text": [
      "[nltk_data] Downloading package stopwords to\n",
      "[nltk_data]     C:\\Users\\kukof\\AppData\\Roaming\\nltk_data...\n",
      "[nltk_data]   Package stopwords is already up-to-date!\n"
     ]
    }
   ],
   "source": [
    "import time\n",
    "from tqdm import tqdm\n",
    "from bs4 import BeautifulSoup\n",
    "from selenium import webdriver\n",
    "from dataclasses import dataclass\n",
    "from scipy.stats import mannwhitneyu\n",
    "import matplotlib.pyplot as plt\n",
    "import seaborn as sns\n",
    "import numpy as np\n",
    "import pandas as pd\n",
    "import datetime\n",
    "import random\n",
    "from wordcloud import WordCloud, STOPWORDS\n",
    "import requests\n",
    "import nltk\n",
    "from nltk.corpus import stopwords\n",
    "nltk.download(\"stopwords\")\n",
    "\n",
    "sns.set(style=\"darkgrid\")\n",
    "%matplotlib inline"
   ]
  },
  {
   "cell_type": "code",
   "execution_count": 2,
   "outputs": [],
   "source": [
    "SLEEP = random.randint(1,5)\n",
    "DEPTH = 10\n",
    "BASE_URL = 'https://lenta.ru/rubrics/'\n",
    "TOPICS = ['world/crime','world/society','world/politic', 'world/accident', 'world/conflict','russia/society','russia/politic', 'russia/accident', 'russia/regions', 'russia/moscow','forces/investigations','forces/violation', 'forces/police', 'forces/crimerussia','media/internet', 'media/hackers', 'media/soc_network', 'media/memes','media/press', 'media/tv', 'media/factchecking','sport/football', 'sport/boxing', 'sport/winter','sport/other','sport/hockey','sport/auto','sport/olympiad','sport/fitness','culture/kino', 'culture/series', 'culture/music/', 'culture/books/', 'culture/art/','culture/theatre','culture/photographic','science/science', 'science/inrussia','science/cosmos', 'science/mil','science/history', 'science/natural' , 'science/future', 'science/digital','science/gadget', 'science/games' , 'science/soft','economics/economy', 'economics/companies', 'economics/markets', 'economics/finance', 'economics/business_climate', 'economics/social','economics/crypto','economics/investments','realty/city','/realty/home', 'realty/region','realty/climate','realty/transport','life/people','life/animals','life/food','life/accident','life/persons','life/lucky','life/anomalies','travel/rus','travel/world','travel/events','travel/accident','travel/opinion','style/look','style/exterior','style/phenomenon','style/luxury','style/personality','wellness/dietology','wellness/selfcare','wellness/interior_ideas','wellness/mental_health','wellness/relationships']\n",
    "stts = ['/4', '/6', '/8']"
   ],
   "metadata": {
    "collapsed": false
   }
  },
  {
   "cell_type": "markdown",
   "source": [
    "\n"
   ],
   "metadata": {
    "collapsed": false
   }
  },
  {
   "cell_type": "code",
   "execution_count": 3,
   "metadata": {
    "id": "12FLG9pcXPz_"
   },
   "outputs": [],
   "source": [
    "@dataclass\n",
    "class Article:\n",
    "    id: str = None\n",
    "    url: str = None\n",
    "    source: str = None\n",
    "    title: str = None\n",
    "    content: str = None\n",
    "    datetime: str = None"
   ]
  },
  {
   "cell_type": "code",
   "execution_count": 4,
   "metadata": {
    "id": "WkccHzEPXPz_"
   },
   "outputs": [],
   "source": [
    "# set webdriver params\n",
    "chrome_options = webdriver.ChromeOptions()\n",
    "chrome_options.add_argument('headless')\n",
    "chrome_options.add_argument('no-sandbox')\n",
    "chrome_options.add_argument('disable-dev-shm-usage')\n",
    "driver = webdriver.Chrome(options=chrome_options)\n",
    "\n",
    "# driver = webdriver.Chrome('./chromedriver')"
   ]
  },
  {
   "cell_type": "code",
   "execution_count": 5,
   "metadata": {
    "id": "97RgMNehXPz_"
   },
   "outputs": [],
   "source": [
    "def get_pages():\n",
    "\n",
    "    \"\"\"Load and scroll pages\"\"\"\n",
    "\n",
    "    items, topics_order = [], []\n",
    "\n",
    "    for topic in tqdm(TOPICS):\n",
    "        try:\n",
    "            old_size = len(items)\n",
    "            for st_i in stts:\n",
    "                URL = BASE_URL + topic + st_i\n",
    "                print(URL)\n",
    "                driver.get(URL)\n",
    "                time.sleep(SLEEP)\n",
    "\n",
    "            # push to list 20 next articles\n",
    "                driver.execute_script(\"document.getElementsByClassName('loadmore__button')[0].click()\")\n",
    "                time.sleep(SLEEP)\n",
    "\n",
    "            # scroll page to automatically load more articles\n",
    "                for i in tqdm(range(DEPTH), leave=False):\n",
    "                    try:\n",
    "                    #driver.execute_script(f'window.scrollTo(0, document.body.scrollHeight - 1200)')\n",
    "                        # Scroll down to bottom\n",
    "                        driver.execute_script(\"window.scrollTo(0, document.body.scrollHeight);\")\n",
    "                        time.sleep(SLEEP)\n",
    "                    except:\n",
    "                        pass\n",
    "\n",
    "            # find all pages\n",
    "\n",
    "            #req = requests.get(URL)\n",
    "            #soup = BeautifulSoup(req.content, 'html.parser')\n",
    "            #soup.find_all('li', {'class' : 'rubric-page__item _news'})\n",
    "                html = driver.page_source\n",
    "                soup = BeautifulSoup(html, \"html.parser\")\n",
    "                items += soup.find_all('li', {'class' : 'rubric-page__item _news'})\n",
    "\n",
    "            # number of pages can not be multiple of deepth*20\n",
    "            # that's why we count topics_order dynamically\n",
    "                new_size = len(items)\n",
    "                if new_size > old_size:\n",
    "                    topics_order.extend([topic] * (new_size - old_size))\n",
    "        except:\n",
    "            pass\n",
    "\n",
    "    return items, topics_order"
   ]
  },
  {
   "cell_type": "code",
   "execution_count": 6,
   "metadata": {
    "id": "sV-n6jw9XP0A"
   },
   "outputs": [],
   "source": [
    "def parse_page(page):\n",
    "    \"\"\"Extract from page desired fields\"\"\"\n",
    "\n",
    "    # Create article data class object\n",
    "    article = Article()\n",
    "\n",
    "    # article id\n",
    "    article.id = page.find('a', {'class': 'card-full-news _subrubric'})['href']\n",
    "\n",
    "    # article url\n",
    "    article.url = 'https://lenta.ru/' + article.id\n",
    "\n",
    "    # load page\n",
    "    driver.get(article.url)\n",
    "    time.sleep(random.randint(1,5))\n",
    "    html = driver.page_source\n",
    "\n",
    "    #soup = BeautifulSoup(html, \"html.parser\")\n",
    "    response = requests.get(article.url)\n",
    "\n",
    "    soup = BeautifulSoup(response.content, 'html.parser')\n",
    "\n",
    "    # article source\n",
    "    article.source = article.url[8: article.url.find('.')]\n",
    "\n",
    "    # process article title\n",
    "    title = soup.find('span', {'class': 'topic-body__title'})\n",
    "    title_2 = soup.find('div', {'class': 'topic-body__title-yandex'})\n",
    "\n",
    "    if title:\n",
    "        article.title = title.text\n",
    "    else:\n",
    "        article.title = title_2.text if title_2 else ''\n",
    "\n",
    "\n",
    "    # article content\n",
    "    article.content = soup.find('div', {'class': 'topic-body__content'}).text\n",
    "\n",
    "    # article datetime\n",
    "    article.datetime = soup.find('a', {'class': 'topic-header__item topic-header__time'})['href']\n",
    "\n",
    "    return article"
   ]
  },
  {
   "cell_type": "code",
   "execution_count": 7,
   "metadata": {
    "id": "fRINr7HSXP0A",
    "colab": {
     "base_uri": "https://localhost:8080/"
    },
    "outputId": "298bd668-15fb-4433-de44-b931cb7851e3"
   },
   "outputs": [
    {
     "name": "stderr",
     "output_type": "stream",
     "text": [
      "  0%|          | 0/82 [00:00<?, ?it/s]"
     ]
    },
    {
     "name": "stdout",
     "output_type": "stream",
     "text": [
      "https://lenta.ru/rubrics/world/crime/4\n"
     ]
    },
    {
     "name": "stderr",
     "output_type": "stream",
     "text": [
      "\n",
      "  0%|          | 0/10 [00:00<?, ?it/s]\u001B[A\n",
      " 10%|█         | 1/10 [00:03<00:27,  3.09s/it]\u001B[A\n",
      " 20%|██        | 2/10 [00:06<00:24,  3.06s/it]\u001B[A\n",
      " 30%|███       | 3/10 [00:09<00:21,  3.04s/it]\u001B[A\n",
      " 40%|████      | 4/10 [00:12<00:18,  3.03s/it]\u001B[A\n",
      " 50%|█████     | 5/10 [00:15<00:15,  3.04s/it]\u001B[A\n",
      " 60%|██████    | 6/10 [00:18<00:12,  3.05s/it]\u001B[A\n",
      " 70%|███████   | 7/10 [00:21<00:09,  3.05s/it]\u001B[A\n",
      " 80%|████████  | 8/10 [00:24<00:06,  3.05s/it]\u001B[A\n",
      " 90%|█████████ | 9/10 [00:27<00:03,  3.04s/it]\u001B[A\n",
      "100%|██████████| 10/10 [00:30<00:00,  3.04s/it]\u001B[A\n",
      "                                               \u001B[A"
     ]
    },
    {
     "name": "stdout",
     "output_type": "stream",
     "text": [
      "https://lenta.ru/rubrics/world/crime/6\n"
     ]
    },
    {
     "name": "stderr",
     "output_type": "stream",
     "text": [
      "\n",
      "  0%|          | 0/10 [00:00<?, ?it/s]\u001B[A\n",
      " 10%|█         | 1/10 [00:03<00:27,  3.02s/it]\u001B[A\n",
      " 20%|██        | 2/10 [00:06<00:24,  3.02s/it]\u001B[A\n",
      " 30%|███       | 3/10 [00:09<00:21,  3.02s/it]\u001B[A\n",
      " 40%|████      | 4/10 [00:12<00:18,  3.02s/it]\u001B[A\n",
      " 50%|█████     | 5/10 [00:15<00:15,  3.01s/it]\u001B[A\n",
      " 60%|██████    | 6/10 [00:18<00:12,  3.01s/it]\u001B[A\n",
      " 70%|███████   | 7/10 [00:21<00:09,  3.02s/it]\u001B[A\n",
      " 80%|████████  | 8/10 [00:24<00:06,  3.02s/it]\u001B[A\n",
      " 90%|█████████ | 9/10 [00:27<00:03,  3.02s/it]\u001B[A\n",
      "100%|██████████| 10/10 [00:30<00:00,  3.02s/it]\u001B[A\n",
      "                                               \u001B[A"
     ]
    },
    {
     "name": "stdout",
     "output_type": "stream",
     "text": [
      "https://lenta.ru/rubrics/world/crime/8\n"
     ]
    },
    {
     "name": "stderr",
     "output_type": "stream",
     "text": [
      "\n",
      "  0%|          | 0/10 [00:00<?, ?it/s]\u001B[A\n",
      " 10%|█         | 1/10 [00:03<00:27,  3.03s/it]\u001B[A\n",
      " 20%|██        | 2/10 [00:06<00:24,  3.02s/it]\u001B[A\n",
      " 30%|███       | 3/10 [00:09<00:21,  3.02s/it]\u001B[A\n",
      " 40%|████      | 4/10 [00:12<00:18,  3.02s/it]\u001B[A\n",
      " 50%|█████     | 5/10 [00:15<00:15,  3.02s/it]\u001B[A\n",
      " 60%|██████    | 6/10 [00:18<00:12,  3.02s/it]\u001B[A\n",
      " 70%|███████   | 7/10 [00:21<00:09,  3.02s/it]\u001B[A\n",
      " 80%|████████  | 8/10 [00:24<00:06,  3.02s/it]\u001B[A\n",
      " 90%|█████████ | 9/10 [00:27<00:03,  3.02s/it]\u001B[A\n",
      "100%|██████████| 10/10 [00:30<00:00,  3.02s/it]\u001B[A\n",
      "  1%|          | 1/82 [02:13<3:00:29, 133.70s/it]A"
     ]
    },
    {
     "name": "stdout",
     "output_type": "stream",
     "text": [
      "https://lenta.ru/rubrics/world/society/4\n"
     ]
    },
    {
     "name": "stderr",
     "output_type": "stream",
     "text": [
      "\n",
      "  0%|          | 0/10 [00:00<?, ?it/s]\u001B[A\n",
      " 10%|█         | 1/10 [00:03<00:27,  3.01s/it]\u001B[A\n",
      " 20%|██        | 2/10 [00:06<00:24,  3.02s/it]\u001B[A\n",
      " 30%|███       | 3/10 [00:09<00:21,  3.02s/it]\u001B[A\n",
      " 40%|████      | 4/10 [00:12<00:18,  3.02s/it]\u001B[A\n",
      " 50%|█████     | 5/10 [00:15<00:15,  3.02s/it]\u001B[A\n",
      " 60%|██████    | 6/10 [00:18<00:12,  3.02s/it]\u001B[A\n",
      " 70%|███████   | 7/10 [00:21<00:09,  3.02s/it]\u001B[A\n",
      " 80%|████████  | 8/10 [00:24<00:06,  3.02s/it]\u001B[A\n",
      " 90%|█████████ | 9/10 [00:27<00:03,  3.02s/it]\u001B[A\n",
      "100%|██████████| 10/10 [00:30<00:00,  3.02s/it]\u001B[A\n",
      "                                               \u001B[A"
     ]
    },
    {
     "name": "stdout",
     "output_type": "stream",
     "text": [
      "https://lenta.ru/rubrics/world/society/6\n"
     ]
    },
    {
     "name": "stderr",
     "output_type": "stream",
     "text": [
      "\n",
      "  0%|          | 0/10 [00:00<?, ?it/s]\u001B[A\n",
      " 10%|█         | 1/10 [00:03<00:27,  3.02s/it]\u001B[A\n",
      " 20%|██        | 2/10 [00:06<00:24,  3.02s/it]\u001B[A\n",
      " 30%|███       | 3/10 [00:09<00:21,  3.02s/it]\u001B[A\n",
      " 40%|████      | 4/10 [00:12<00:18,  3.02s/it]\u001B[A\n",
      " 50%|█████     | 5/10 [00:15<00:15,  3.02s/it]\u001B[A\n",
      " 60%|██████    | 6/10 [00:18<00:12,  3.02s/it]\u001B[A\n",
      " 70%|███████   | 7/10 [00:21<00:09,  3.02s/it]\u001B[A\n",
      " 80%|████████  | 8/10 [00:24<00:06,  3.02s/it]\u001B[A\n",
      " 90%|█████████ | 9/10 [00:27<00:03,  3.02s/it]\u001B[A\n",
      "100%|██████████| 10/10 [00:30<00:00,  3.02s/it]\u001B[A\n",
      "                                               \u001B[A"
     ]
    },
    {
     "name": "stdout",
     "output_type": "stream",
     "text": [
      "https://lenta.ru/rubrics/world/society/8\n"
     ]
    },
    {
     "name": "stderr",
     "output_type": "stream",
     "text": [
      "\n",
      "  0%|          | 0/10 [00:00<?, ?it/s]\u001B[A\n",
      " 10%|█         | 1/10 [00:03<00:27,  3.02s/it]\u001B[A\n",
      " 20%|██        | 2/10 [00:06<00:24,  3.02s/it]\u001B[A\n",
      " 30%|███       | 3/10 [00:09<00:21,  3.02s/it]\u001B[A\n",
      " 40%|████      | 4/10 [00:12<00:18,  3.02s/it]\u001B[A\n",
      " 50%|█████     | 5/10 [00:15<00:15,  3.02s/it]\u001B[A\n",
      " 60%|██████    | 6/10 [00:18<00:12,  3.02s/it]\u001B[A\n",
      " 70%|███████   | 7/10 [00:21<00:09,  3.02s/it]\u001B[A\n",
      " 80%|████████  | 8/10 [00:24<00:06,  3.02s/it]\u001B[A\n",
      " 90%|█████████ | 9/10 [00:27<00:03,  3.02s/it]\u001B[A\n",
      "100%|██████████| 10/10 [00:30<00:00,  3.02s/it]\u001B[A\n",
      "  2%|▏         | 2/82 [04:23<2:55:16, 131.45s/it]A"
     ]
    },
    {
     "name": "stdout",
     "output_type": "stream",
     "text": [
      "https://lenta.ru/rubrics/world/politic/4\n"
     ]
    },
    {
     "name": "stderr",
     "output_type": "stream",
     "text": [
      "\n",
      "  0%|          | 0/10 [00:00<?, ?it/s]\u001B[A\n",
      " 10%|█         | 1/10 [00:03<00:27,  3.01s/it]\u001B[A\n",
      " 20%|██        | 2/10 [00:06<00:24,  3.02s/it]\u001B[A\n",
      " 30%|███       | 3/10 [00:09<00:21,  3.02s/it]\u001B[A\n",
      " 40%|████      | 4/10 [00:12<00:18,  3.02s/it]\u001B[A\n",
      " 50%|█████     | 5/10 [00:15<00:15,  3.02s/it]\u001B[A\n",
      " 60%|██████    | 6/10 [00:18<00:12,  3.02s/it]\u001B[A\n",
      " 70%|███████   | 7/10 [00:21<00:09,  3.02s/it]\u001B[A\n",
      " 80%|████████  | 8/10 [00:24<00:06,  3.02s/it]\u001B[A\n",
      " 90%|█████████ | 9/10 [00:27<00:03,  3.02s/it]\u001B[A\n",
      "100%|██████████| 10/10 [00:30<00:00,  3.02s/it]\u001B[A\n",
      "                                               \u001B[A"
     ]
    },
    {
     "name": "stdout",
     "output_type": "stream",
     "text": [
      "https://lenta.ru/rubrics/world/politic/6\n"
     ]
    },
    {
     "name": "stderr",
     "output_type": "stream",
     "text": [
      "\n",
      "  0%|          | 0/10 [00:00<?, ?it/s]\u001B[A\n",
      " 10%|█         | 1/10 [00:03<00:27,  3.04s/it]\u001B[A\n",
      " 20%|██        | 2/10 [00:06<00:24,  3.03s/it]\u001B[A\n",
      " 30%|███       | 3/10 [00:09<00:21,  3.02s/it]\u001B[A\n",
      " 40%|████      | 4/10 [00:12<00:18,  3.02s/it]\u001B[A\n",
      " 50%|█████     | 5/10 [00:15<00:15,  3.02s/it]\u001B[A\n",
      " 60%|██████    | 6/10 [00:18<00:12,  3.02s/it]\u001B[A\n",
      " 70%|███████   | 7/10 [00:21<00:09,  3.02s/it]\u001B[A\n",
      " 80%|████████  | 8/10 [00:24<00:06,  3.02s/it]\u001B[A\n",
      " 90%|█████████ | 9/10 [00:27<00:03,  3.02s/it]\u001B[A\n",
      "100%|██████████| 10/10 [00:30<00:00,  3.02s/it]\u001B[A\n",
      "                                               \u001B[A"
     ]
    },
    {
     "name": "stdout",
     "output_type": "stream",
     "text": [
      "https://lenta.ru/rubrics/world/politic/8\n"
     ]
    },
    {
     "name": "stderr",
     "output_type": "stream",
     "text": [
      "\n",
      "  0%|          | 0/10 [00:00<?, ?it/s]\u001B[A\n",
      " 10%|█         | 1/10 [00:03<00:27,  3.02s/it]\u001B[A\n",
      " 20%|██        | 2/10 [00:06<00:24,  3.02s/it]\u001B[A\n",
      " 30%|███       | 3/10 [00:09<00:21,  3.02s/it]\u001B[A\n",
      " 40%|████      | 4/10 [00:12<00:18,  3.02s/it]\u001B[A\n",
      " 50%|█████     | 5/10 [00:15<00:15,  3.02s/it]\u001B[A\n",
      " 60%|██████    | 6/10 [00:18<00:12,  3.02s/it]\u001B[A\n",
      " 70%|███████   | 7/10 [00:21<00:09,  3.02s/it]\u001B[A\n",
      " 80%|████████  | 8/10 [00:24<00:06,  3.02s/it]\u001B[A\n",
      " 90%|█████████ | 9/10 [00:27<00:03,  3.02s/it]\u001B[A\n",
      "100%|██████████| 10/10 [00:30<00:00,  3.02s/it]\u001B[A\n",
      "  4%|▎         | 3/82 [06:33<2:52:21, 130.90s/it]A"
     ]
    },
    {
     "name": "stdout",
     "output_type": "stream",
     "text": [
      "https://lenta.ru/rubrics/world/accident/4\n"
     ]
    },
    {
     "name": "stderr",
     "output_type": "stream",
     "text": [
      "\n",
      "  0%|          | 0/10 [00:00<?, ?it/s]\u001B[A\n",
      " 10%|█         | 1/10 [00:03<00:27,  3.05s/it]\u001B[A\n",
      " 20%|██        | 2/10 [00:06<00:24,  3.04s/it]\u001B[A\n",
      " 30%|███       | 3/10 [00:09<00:21,  3.03s/it]\u001B[A\n",
      " 40%|████      | 4/10 [00:12<00:18,  3.02s/it]\u001B[A\n",
      " 50%|█████     | 5/10 [00:15<00:15,  3.02s/it]\u001B[A\n",
      " 60%|██████    | 6/10 [00:18<00:12,  3.02s/it]\u001B[A\n",
      " 70%|███████   | 7/10 [00:21<00:09,  3.02s/it]\u001B[A\n",
      " 80%|████████  | 8/10 [00:24<00:06,  3.02s/it]\u001B[A\n",
      " 90%|█████████ | 9/10 [00:27<00:03,  3.02s/it]\u001B[A\n",
      "100%|██████████| 10/10 [00:30<00:00,  3.02s/it]\u001B[A\n",
      "                                               \u001B[A"
     ]
    },
    {
     "name": "stdout",
     "output_type": "stream",
     "text": [
      "https://lenta.ru/rubrics/world/accident/6\n"
     ]
    },
    {
     "name": "stderr",
     "output_type": "stream",
     "text": [
      "\n",
      "  0%|          | 0/10 [00:00<?, ?it/s]\u001B[A\n",
      " 10%|█         | 1/10 [00:03<00:27,  3.02s/it]\u001B[A\n",
      " 20%|██        | 2/10 [00:06<00:24,  3.02s/it]\u001B[A\n",
      " 30%|███       | 3/10 [00:09<00:21,  3.02s/it]\u001B[A\n",
      " 40%|████      | 4/10 [00:12<00:18,  3.02s/it]\u001B[A\n",
      " 50%|█████     | 5/10 [00:15<00:15,  3.02s/it]\u001B[A\n",
      " 60%|██████    | 6/10 [00:18<00:12,  3.02s/it]\u001B[A\n",
      " 70%|███████   | 7/10 [00:21<00:09,  3.02s/it]\u001B[A\n",
      " 80%|████████  | 8/10 [00:24<00:06,  3.02s/it]\u001B[A\n",
      " 90%|█████████ | 9/10 [00:27<00:03,  3.02s/it]\u001B[A\n",
      "100%|██████████| 10/10 [00:30<00:00,  3.02s/it]\u001B[A\n",
      "                                               \u001B[A"
     ]
    },
    {
     "name": "stdout",
     "output_type": "stream",
     "text": [
      "https://lenta.ru/rubrics/world/accident/8\n"
     ]
    },
    {
     "name": "stderr",
     "output_type": "stream",
     "text": [
      "\n",
      "  0%|          | 0/10 [00:00<?, ?it/s]\u001B[A\n",
      " 10%|█         | 1/10 [00:03<00:27,  3.03s/it]\u001B[A\n",
      " 20%|██        | 2/10 [00:06<00:24,  3.02s/it]\u001B[A\n",
      " 30%|███       | 3/10 [00:09<00:21,  3.02s/it]\u001B[A\n",
      " 40%|████      | 4/10 [00:12<00:18,  3.02s/it]\u001B[A\n",
      " 50%|█████     | 5/10 [00:15<00:15,  3.02s/it]\u001B[A\n",
      " 60%|██████    | 6/10 [00:18<00:12,  3.02s/it]\u001B[A\n",
      " 70%|███████   | 7/10 [00:21<00:09,  3.02s/it]\u001B[A\n",
      " 80%|████████  | 8/10 [00:24<00:06,  3.02s/it]\u001B[A\n",
      " 90%|█████████ | 9/10 [00:27<00:03,  3.02s/it]\u001B[A\n",
      "100%|██████████| 10/10 [00:30<00:00,  3.02s/it]\u001B[A\n",
      "  5%|▍         | 4/82 [08:40<2:47:47, 129.07s/it]A"
     ]
    },
    {
     "name": "stdout",
     "output_type": "stream",
     "text": [
      "https://lenta.ru/rubrics/world/conflict/4\n"
     ]
    },
    {
     "name": "stderr",
     "output_type": "stream",
     "text": [
      "\n",
      "  0%|          | 0/10 [00:00<?, ?it/s]\u001B[A\n",
      " 10%|█         | 1/10 [00:03<00:27,  3.02s/it]\u001B[A\n",
      " 20%|██        | 2/10 [00:06<00:24,  3.01s/it]\u001B[A\n",
      " 30%|███       | 3/10 [00:09<00:21,  3.01s/it]\u001B[A\n",
      " 40%|████      | 4/10 [00:12<00:18,  3.02s/it]\u001B[A\n",
      " 50%|█████     | 5/10 [00:15<00:15,  3.02s/it]\u001B[A\n",
      " 60%|██████    | 6/10 [00:18<00:12,  3.02s/it]\u001B[A\n",
      " 70%|███████   | 7/10 [00:21<00:09,  3.02s/it]\u001B[A\n",
      " 80%|████████  | 8/10 [00:24<00:06,  3.02s/it]\u001B[A\n",
      " 90%|█████████ | 9/10 [00:27<00:03,  3.02s/it]\u001B[A\n",
      "100%|██████████| 10/10 [00:30<00:00,  3.02s/it]\u001B[A\n",
      "                                               \u001B[A"
     ]
    },
    {
     "name": "stdout",
     "output_type": "stream",
     "text": [
      "https://lenta.ru/rubrics/world/conflict/6\n"
     ]
    },
    {
     "name": "stderr",
     "output_type": "stream",
     "text": [
      "\n",
      "  0%|          | 0/10 [00:00<?, ?it/s]\u001B[A\n",
      " 10%|█         | 1/10 [00:03<00:27,  3.02s/it]\u001B[A\n",
      " 20%|██        | 2/10 [00:06<00:24,  3.02s/it]\u001B[A\n",
      " 30%|███       | 3/10 [00:09<00:21,  3.02s/it]\u001B[A\n",
      " 40%|████      | 4/10 [00:12<00:18,  3.02s/it]\u001B[A\n",
      " 50%|█████     | 5/10 [00:15<00:15,  3.02s/it]\u001B[A\n",
      " 60%|██████    | 6/10 [00:18<00:12,  3.01s/it]\u001B[A\n",
      " 70%|███████   | 7/10 [00:21<00:09,  3.01s/it]\u001B[A\n",
      " 80%|████████  | 8/10 [00:24<00:06,  3.01s/it]\u001B[A\n",
      " 90%|█████████ | 9/10 [00:27<00:03,  3.02s/it]\u001B[A\n",
      "100%|██████████| 10/10 [00:30<00:00,  3.01s/it]\u001B[A\n",
      "                                               \u001B[A"
     ]
    },
    {
     "name": "stdout",
     "output_type": "stream",
     "text": [
      "https://lenta.ru/rubrics/world/conflict/8\n"
     ]
    },
    {
     "name": "stderr",
     "output_type": "stream",
     "text": [
      "\n",
      "  0%|          | 0/10 [00:00<?, ?it/s]\u001B[A\n",
      " 10%|█         | 1/10 [00:03<00:27,  3.03s/it]\u001B[A\n",
      " 20%|██        | 2/10 [00:06<00:24,  3.02s/it]\u001B[A\n",
      " 30%|███       | 3/10 [00:09<00:21,  3.02s/it]\u001B[A\n",
      " 40%|████      | 4/10 [00:12<00:18,  3.02s/it]\u001B[A\n",
      " 50%|█████     | 5/10 [00:15<00:15,  3.02s/it]\u001B[A\n",
      " 60%|██████    | 6/10 [00:18<00:12,  3.02s/it]\u001B[A\n",
      " 70%|███████   | 7/10 [00:21<00:09,  3.02s/it]\u001B[A\n",
      " 80%|████████  | 8/10 [00:24<00:06,  3.02s/it]\u001B[A\n",
      " 90%|█████████ | 9/10 [00:27<00:03,  3.02s/it]\u001B[A\n",
      "100%|██████████| 10/10 [00:30<00:00,  3.02s/it]\u001B[A\n",
      "  6%|▌         | 5/82 [10:46<2:44:36, 128.26s/it]A"
     ]
    },
    {
     "name": "stdout",
     "output_type": "stream",
     "text": [
      "https://lenta.ru/rubrics/russia/society/4\n"
     ]
    },
    {
     "name": "stderr",
     "output_type": "stream",
     "text": [
      "\n",
      "  0%|          | 0/10 [00:00<?, ?it/s]\u001B[A\n",
      " 10%|█         | 1/10 [00:03<00:27,  3.04s/it]\u001B[A\n",
      " 20%|██        | 2/10 [00:06<00:24,  3.02s/it]\u001B[A\n",
      " 30%|███       | 3/10 [00:09<00:21,  3.02s/it]\u001B[A\n",
      " 40%|████      | 4/10 [00:12<00:18,  3.02s/it]\u001B[A\n",
      " 50%|█████     | 5/10 [00:15<00:15,  3.02s/it]\u001B[A\n",
      " 60%|██████    | 6/10 [00:18<00:12,  3.01s/it]\u001B[A\n",
      " 70%|███████   | 7/10 [00:21<00:09,  3.02s/it]\u001B[A\n",
      " 80%|████████  | 8/10 [00:24<00:06,  3.02s/it]\u001B[A\n",
      " 90%|█████████ | 9/10 [00:27<00:03,  3.02s/it]\u001B[A\n",
      "100%|██████████| 10/10 [00:30<00:00,  3.02s/it]\u001B[A\n",
      "                                               \u001B[A"
     ]
    },
    {
     "name": "stdout",
     "output_type": "stream",
     "text": [
      "https://lenta.ru/rubrics/russia/society/6\n"
     ]
    },
    {
     "name": "stderr",
     "output_type": "stream",
     "text": [
      "\n",
      "  0%|          | 0/10 [00:00<?, ?it/s]\u001B[A\n",
      " 10%|█         | 1/10 [00:03<00:27,  3.03s/it]\u001B[A\n",
      " 20%|██        | 2/10 [00:06<00:24,  3.02s/it]\u001B[A\n",
      " 30%|███       | 3/10 [00:09<00:21,  3.02s/it]\u001B[A\n",
      " 40%|████      | 4/10 [00:12<00:18,  3.02s/it]\u001B[A\n",
      " 50%|█████     | 5/10 [00:15<00:15,  3.02s/it]\u001B[A\n",
      " 60%|██████    | 6/10 [00:18<00:12,  3.02s/it]\u001B[A\n",
      " 70%|███████   | 7/10 [00:21<00:09,  3.02s/it]\u001B[A\n",
      " 80%|████████  | 8/10 [00:24<00:06,  3.02s/it]\u001B[A\n",
      " 90%|█████████ | 9/10 [00:27<00:03,  3.02s/it]\u001B[A\n",
      "100%|██████████| 10/10 [00:30<00:00,  3.02s/it]\u001B[A\n",
      "                                               \u001B[A"
     ]
    },
    {
     "name": "stdout",
     "output_type": "stream",
     "text": [
      "https://lenta.ru/rubrics/russia/society/8\n"
     ]
    },
    {
     "name": "stderr",
     "output_type": "stream",
     "text": [
      "\n",
      "  0%|          | 0/10 [00:00<?, ?it/s]\u001B[A\n",
      " 10%|█         | 1/10 [00:03<00:27,  3.02s/it]\u001B[A\n",
      " 20%|██        | 2/10 [00:06<00:24,  3.02s/it]\u001B[A\n",
      " 30%|███       | 3/10 [00:09<00:21,  3.02s/it]\u001B[A\n",
      " 40%|████      | 4/10 [00:12<00:18,  3.01s/it]\u001B[A\n",
      " 50%|█████     | 5/10 [00:15<00:15,  3.01s/it]\u001B[A\n",
      " 60%|██████    | 6/10 [00:18<00:12,  3.01s/it]\u001B[A\n",
      " 70%|███████   | 7/10 [00:21<00:09,  3.01s/it]\u001B[A\n",
      " 80%|████████  | 8/10 [00:24<00:06,  3.02s/it]\u001B[A\n",
      " 90%|█████████ | 9/10 [00:27<00:03,  3.02s/it]\u001B[A\n",
      "100%|██████████| 10/10 [00:30<00:00,  3.02s/it]\u001B[A\n",
      "  7%|▋         | 6/82 [13:00<2:44:53, 130.17s/it]A"
     ]
    },
    {
     "name": "stdout",
     "output_type": "stream",
     "text": [
      "https://lenta.ru/rubrics/russia/politic/4\n"
     ]
    },
    {
     "name": "stderr",
     "output_type": "stream",
     "text": [
      "\n",
      "  0%|          | 0/10 [00:00<?, ?it/s]\u001B[A\n",
      " 10%|█         | 1/10 [00:03<00:27,  3.02s/it]\u001B[A\n",
      " 20%|██        | 2/10 [00:06<00:24,  3.02s/it]\u001B[A\n",
      " 30%|███       | 3/10 [00:09<00:21,  3.03s/it]\u001B[A\n",
      " 40%|████      | 4/10 [00:12<00:18,  3.02s/it]\u001B[A\n",
      " 50%|█████     | 5/10 [00:15<00:15,  3.02s/it]\u001B[A\n",
      " 60%|██████    | 6/10 [00:18<00:12,  3.02s/it]\u001B[A\n",
      " 70%|███████   | 7/10 [00:21<00:09,  3.02s/it]\u001B[A\n",
      " 80%|████████  | 8/10 [00:24<00:06,  3.02s/it]\u001B[A\n",
      " 90%|█████████ | 9/10 [00:27<00:03,  3.02s/it]\u001B[A\n",
      "100%|██████████| 10/10 [00:30<00:00,  3.02s/it]\u001B[A\n",
      "                                               \u001B[A"
     ]
    },
    {
     "name": "stdout",
     "output_type": "stream",
     "text": [
      "https://lenta.ru/rubrics/russia/politic/6\n"
     ]
    },
    {
     "name": "stderr",
     "output_type": "stream",
     "text": [
      "\n",
      "  0%|          | 0/10 [00:00<?, ?it/s]\u001B[A\n",
      " 10%|█         | 1/10 [00:03<00:27,  3.05s/it]\u001B[A\n",
      " 20%|██        | 2/10 [00:06<00:24,  3.04s/it]\u001B[A\n",
      " 30%|███       | 3/10 [00:09<00:21,  3.03s/it]\u001B[A\n",
      " 40%|████      | 4/10 [00:12<00:18,  3.03s/it]\u001B[A\n",
      " 50%|█████     | 5/10 [00:15<00:15,  3.02s/it]\u001B[A\n",
      " 60%|██████    | 6/10 [00:18<00:12,  3.02s/it]\u001B[A\n",
      " 70%|███████   | 7/10 [00:21<00:09,  3.02s/it]\u001B[A\n",
      " 80%|████████  | 8/10 [00:24<00:06,  3.02s/it]\u001B[A\n",
      " 90%|█████████ | 9/10 [00:27<00:03,  3.02s/it]\u001B[A\n",
      "100%|██████████| 10/10 [00:30<00:00,  3.02s/it]\u001B[A\n",
      "                                               \u001B[A"
     ]
    },
    {
     "name": "stdout",
     "output_type": "stream",
     "text": [
      "https://lenta.ru/rubrics/russia/politic/8\n"
     ]
    },
    {
     "name": "stderr",
     "output_type": "stream",
     "text": [
      "\n",
      "  0%|          | 0/10 [00:00<?, ?it/s]\u001B[A\n",
      " 10%|█         | 1/10 [00:03<00:27,  3.03s/it]\u001B[A\n",
      " 20%|██        | 2/10 [00:06<00:24,  3.02s/it]\u001B[A\n",
      " 30%|███       | 3/10 [00:09<00:21,  3.02s/it]\u001B[A\n",
      " 40%|████      | 4/10 [00:12<00:18,  3.02s/it]\u001B[A\n",
      " 50%|█████     | 5/10 [00:15<00:15,  3.02s/it]\u001B[A\n",
      " 60%|██████    | 6/10 [00:18<00:12,  3.02s/it]\u001B[A\n",
      " 70%|███████   | 7/10 [00:21<00:09,  3.02s/it]\u001B[A\n",
      " 80%|████████  | 8/10 [00:24<00:06,  3.01s/it]\u001B[A\n",
      " 90%|█████████ | 9/10 [00:27<00:03,  3.02s/it]\u001B[A\n",
      "100%|██████████| 10/10 [00:30<00:00,  3.02s/it]\u001B[A\n",
      "  9%|▊         | 7/82 [15:11<2:42:50, 130.27s/it]A"
     ]
    },
    {
     "name": "stdout",
     "output_type": "stream",
     "text": [
      "https://lenta.ru/rubrics/russia/accident/4\n"
     ]
    },
    {
     "name": "stderr",
     "output_type": "stream",
     "text": [
      "\n",
      "  0%|          | 0/10 [00:00<?, ?it/s]\u001B[A\n",
      " 10%|█         | 1/10 [00:03<00:27,  3.01s/it]\u001B[A\n",
      " 20%|██        | 2/10 [00:06<00:24,  3.02s/it]\u001B[A\n",
      " 30%|███       | 3/10 [00:09<00:21,  3.02s/it]\u001B[A\n",
      " 40%|████      | 4/10 [00:12<00:18,  3.02s/it]\u001B[A\n",
      " 50%|█████     | 5/10 [00:15<00:15,  3.02s/it]\u001B[A\n",
      " 60%|██████    | 6/10 [00:18<00:12,  3.02s/it]\u001B[A\n",
      " 70%|███████   | 7/10 [00:21<00:09,  3.02s/it]\u001B[A\n",
      " 80%|████████  | 8/10 [00:24<00:06,  3.02s/it]\u001B[A\n",
      " 90%|█████████ | 9/10 [00:27<00:03,  3.01s/it]\u001B[A\n",
      "100%|██████████| 10/10 [00:30<00:00,  3.02s/it]\u001B[A\n",
      "                                               \u001B[A"
     ]
    },
    {
     "name": "stdout",
     "output_type": "stream",
     "text": [
      "https://lenta.ru/rubrics/russia/accident/6\n"
     ]
    },
    {
     "name": "stderr",
     "output_type": "stream",
     "text": [
      "\n",
      "  0%|          | 0/10 [00:00<?, ?it/s]\u001B[A\n",
      " 10%|█         | 1/10 [00:03<00:27,  3.02s/it]\u001B[A\n",
      " 20%|██        | 2/10 [00:06<00:24,  3.02s/it]\u001B[A\n",
      " 30%|███       | 3/10 [00:09<00:21,  3.02s/it]\u001B[A\n",
      " 40%|████      | 4/10 [00:12<00:18,  3.02s/it]\u001B[A\n",
      " 50%|█████     | 5/10 [00:15<00:15,  3.02s/it]\u001B[A\n",
      " 60%|██████    | 6/10 [00:18<00:12,  3.02s/it]\u001B[A\n",
      " 70%|███████   | 7/10 [00:21<00:09,  3.02s/it]\u001B[A\n",
      " 80%|████████  | 8/10 [00:24<00:06,  3.02s/it]\u001B[A\n",
      " 90%|█████████ | 9/10 [00:27<00:03,  3.02s/it]\u001B[A\n",
      "100%|██████████| 10/10 [00:30<00:00,  3.02s/it]\u001B[A\n",
      "                                               \u001B[A"
     ]
    },
    {
     "name": "stdout",
     "output_type": "stream",
     "text": [
      "https://lenta.ru/rubrics/russia/accident/8\n"
     ]
    },
    {
     "name": "stderr",
     "output_type": "stream",
     "text": [
      "\n",
      "  0%|          | 0/10 [00:00<?, ?it/s]\u001B[A\n",
      " 10%|█         | 1/10 [00:03<00:27,  3.02s/it]\u001B[A\n",
      " 20%|██        | 2/10 [00:06<00:24,  3.02s/it]\u001B[A\n",
      " 30%|███       | 3/10 [00:09<00:21,  3.02s/it]\u001B[A\n",
      " 40%|████      | 4/10 [00:12<00:18,  3.02s/it]\u001B[A\n",
      " 50%|█████     | 5/10 [00:15<00:15,  3.02s/it]\u001B[A\n",
      " 60%|██████    | 6/10 [00:18<00:12,  3.02s/it]\u001B[A\n",
      " 70%|███████   | 7/10 [00:21<00:09,  3.02s/it]\u001B[A\n",
      " 80%|████████  | 8/10 [00:24<00:06,  3.02s/it]\u001B[A\n",
      " 90%|█████████ | 9/10 [00:27<00:03,  3.02s/it]\u001B[A\n",
      "100%|██████████| 10/10 [00:30<00:00,  3.02s/it]\u001B[A\n",
      " 10%|▉         | 8/82 [17:24<2:42:00, 131.36s/it]A"
     ]
    },
    {
     "name": "stdout",
     "output_type": "stream",
     "text": [
      "https://lenta.ru/rubrics/russia/regions/4\n"
     ]
    },
    {
     "name": "stderr",
     "output_type": "stream",
     "text": [
      "\n",
      "  0%|          | 0/10 [00:00<?, ?it/s]\u001B[A\n",
      " 10%|█         | 1/10 [00:03<00:27,  3.03s/it]\u001B[A\n",
      " 20%|██        | 2/10 [00:06<00:24,  3.02s/it]\u001B[A\n",
      " 30%|███       | 3/10 [00:09<00:21,  3.02s/it]\u001B[A\n",
      " 40%|████      | 4/10 [00:12<00:18,  3.02s/it]\u001B[A\n",
      " 50%|█████     | 5/10 [00:15<00:15,  3.02s/it]\u001B[A\n",
      " 60%|██████    | 6/10 [00:18<00:12,  3.02s/it]\u001B[A\n",
      " 70%|███████   | 7/10 [00:21<00:09,  3.02s/it]\u001B[A\n",
      " 80%|████████  | 8/10 [00:24<00:06,  3.02s/it]\u001B[A\n",
      " 90%|█████████ | 9/10 [00:27<00:03,  3.02s/it]\u001B[A\n",
      "100%|██████████| 10/10 [00:30<00:00,  3.02s/it]\u001B[A\n",
      "                                               \u001B[A"
     ]
    },
    {
     "name": "stdout",
     "output_type": "stream",
     "text": [
      "https://lenta.ru/rubrics/russia/regions/6\n"
     ]
    },
    {
     "name": "stderr",
     "output_type": "stream",
     "text": [
      "\n",
      "  0%|          | 0/10 [00:00<?, ?it/s]\u001B[A\n",
      " 10%|█         | 1/10 [00:03<00:27,  3.03s/it]\u001B[A\n",
      " 20%|██        | 2/10 [00:06<00:24,  3.03s/it]\u001B[A\n",
      " 30%|███       | 3/10 [00:09<00:21,  3.02s/it]\u001B[A\n",
      " 40%|████      | 4/10 [00:12<00:18,  3.02s/it]\u001B[A\n",
      " 50%|█████     | 5/10 [00:15<00:15,  3.02s/it]\u001B[A\n",
      " 60%|██████    | 6/10 [00:18<00:12,  3.02s/it]\u001B[A\n",
      " 70%|███████   | 7/10 [00:21<00:09,  3.02s/it]\u001B[A\n",
      " 80%|████████  | 8/10 [00:24<00:06,  3.02s/it]\u001B[A\n",
      " 90%|█████████ | 9/10 [00:27<00:03,  3.02s/it]\u001B[A\n",
      "100%|██████████| 10/10 [00:30<00:00,  3.02s/it]\u001B[A\n",
      "                                               \u001B[A"
     ]
    },
    {
     "name": "stdout",
     "output_type": "stream",
     "text": [
      "https://lenta.ru/rubrics/russia/regions/8\n"
     ]
    },
    {
     "name": "stderr",
     "output_type": "stream",
     "text": [
      "\n",
      "  0%|          | 0/10 [00:00<?, ?it/s]\u001B[A\n",
      " 10%|█         | 1/10 [00:03<00:27,  3.01s/it]\u001B[A\n",
      " 20%|██        | 2/10 [00:06<00:24,  3.02s/it]\u001B[A\n",
      " 30%|███       | 3/10 [00:09<00:21,  3.02s/it]\u001B[A\n",
      " 40%|████      | 4/10 [00:12<00:18,  3.02s/it]\u001B[A\n",
      " 50%|█████     | 5/10 [00:15<00:15,  3.02s/it]\u001B[A\n",
      " 60%|██████    | 6/10 [00:18<00:12,  3.02s/it]\u001B[A\n",
      " 70%|███████   | 7/10 [00:21<00:09,  3.02s/it]\u001B[A\n",
      " 80%|████████  | 8/10 [00:24<00:06,  3.02s/it]\u001B[A\n",
      " 90%|█████████ | 9/10 [00:27<00:03,  3.02s/it]\u001B[A\n",
      "100%|██████████| 10/10 [00:30<00:00,  3.02s/it]\u001B[A\n",
      " 11%|█         | 9/82 [19:37<2:40:06, 131.59s/it]A"
     ]
    },
    {
     "name": "stdout",
     "output_type": "stream",
     "text": [
      "https://lenta.ru/rubrics/russia/moscow/4\n"
     ]
    },
    {
     "name": "stderr",
     "output_type": "stream",
     "text": [
      "\n",
      "  0%|          | 0/10 [00:00<?, ?it/s]\u001B[A\n",
      " 10%|█         | 1/10 [00:03<00:27,  3.02s/it]\u001B[A\n",
      " 20%|██        | 2/10 [00:06<00:24,  3.02s/it]\u001B[A\n",
      " 30%|███       | 3/10 [00:09<00:21,  3.02s/it]\u001B[A\n",
      " 40%|████      | 4/10 [00:12<00:18,  3.02s/it]\u001B[A\n",
      " 50%|█████     | 5/10 [00:15<00:15,  3.02s/it]\u001B[A\n",
      " 60%|██████    | 6/10 [00:18<00:12,  3.02s/it]\u001B[A\n",
      " 70%|███████   | 7/10 [00:21<00:09,  3.02s/it]\u001B[A\n",
      " 80%|████████  | 8/10 [00:24<00:06,  3.02s/it]\u001B[A\n",
      " 90%|█████████ | 9/10 [00:27<00:03,  3.02s/it]\u001B[A\n",
      "100%|██████████| 10/10 [00:30<00:00,  3.02s/it]\u001B[A\n",
      "                                               \u001B[A"
     ]
    },
    {
     "name": "stdout",
     "output_type": "stream",
     "text": [
      "https://lenta.ru/rubrics/russia/moscow/6\n"
     ]
    },
    {
     "name": "stderr",
     "output_type": "stream",
     "text": [
      "\n",
      "  0%|          | 0/10 [00:00<?, ?it/s]\u001B[A\n",
      " 10%|█         | 1/10 [00:03<00:27,  3.01s/it]\u001B[A\n",
      " 20%|██        | 2/10 [00:06<00:24,  3.01s/it]\u001B[A\n",
      " 30%|███       | 3/10 [00:09<00:21,  3.02s/it]\u001B[A\n",
      " 40%|████      | 4/10 [00:12<00:18,  3.02s/it]\u001B[A\n",
      " 50%|█████     | 5/10 [00:15<00:15,  3.02s/it]\u001B[A\n",
      " 60%|██████    | 6/10 [00:18<00:12,  3.02s/it]\u001B[A\n",
      " 70%|███████   | 7/10 [00:21<00:09,  3.02s/it]\u001B[A\n",
      " 80%|████████  | 8/10 [00:24<00:06,  3.02s/it]\u001B[A\n",
      " 90%|█████████ | 9/10 [00:27<00:03,  3.02s/it]\u001B[A\n",
      "100%|██████████| 10/10 [00:30<00:00,  3.02s/it]\u001B[A\n",
      "                                               \u001B[A"
     ]
    },
    {
     "name": "stdout",
     "output_type": "stream",
     "text": [
      "https://lenta.ru/rubrics/russia/moscow/8\n"
     ]
    },
    {
     "name": "stderr",
     "output_type": "stream",
     "text": [
      "\n",
      "  0%|          | 0/10 [00:00<?, ?it/s]\u001B[A\n",
      " 10%|█         | 1/10 [00:03<00:27,  3.01s/it]\u001B[A\n",
      " 20%|██        | 2/10 [00:06<00:24,  3.02s/it]\u001B[A\n",
      " 30%|███       | 3/10 [00:09<00:21,  3.02s/it]\u001B[A\n",
      " 40%|████      | 4/10 [00:12<00:18,  3.02s/it]\u001B[A\n",
      " 50%|█████     | 5/10 [00:15<00:15,  3.02s/it]\u001B[A\n",
      " 60%|██████    | 6/10 [00:18<00:12,  3.02s/it]\u001B[A\n",
      " 70%|███████   | 7/10 [00:21<00:09,  3.02s/it]\u001B[A\n",
      " 80%|████████  | 8/10 [00:24<00:06,  3.02s/it]\u001B[A\n",
      " 90%|█████████ | 9/10 [00:27<00:03,  3.02s/it]\u001B[A\n",
      "100%|██████████| 10/10 [00:30<00:00,  3.02s/it]\u001B[A\n",
      " 12%|█▏        | 10/82 [21:46<2:37:15, 131.05s/it]"
     ]
    },
    {
     "name": "stdout",
     "output_type": "stream",
     "text": [
      "https://lenta.ru/rubrics/forces/investigations/4\n"
     ]
    },
    {
     "name": "stderr",
     "output_type": "stream",
     "text": [
      "\n",
      "  0%|          | 0/10 [00:00<?, ?it/s]\u001B[A\n",
      " 10%|█         | 1/10 [00:03<00:27,  3.04s/it]\u001B[A\n",
      " 20%|██        | 2/10 [00:06<00:24,  3.03s/it]\u001B[A\n",
      " 30%|███       | 3/10 [00:09<00:21,  3.03s/it]\u001B[A\n",
      " 40%|████      | 4/10 [00:12<00:18,  3.02s/it]\u001B[A\n",
      " 50%|█████     | 5/10 [00:15<00:15,  3.02s/it]\u001B[A\n",
      " 60%|██████    | 6/10 [00:18<00:12,  3.02s/it]\u001B[A\n",
      " 70%|███████   | 7/10 [00:21<00:09,  3.02s/it]\u001B[A\n",
      " 80%|████████  | 8/10 [00:24<00:06,  3.02s/it]\u001B[A\n",
      " 90%|█████████ | 9/10 [00:27<00:03,  3.02s/it]\u001B[A\n",
      "100%|██████████| 10/10 [00:30<00:00,  3.02s/it]\u001B[A\n",
      "                                               \u001B[A"
     ]
    },
    {
     "name": "stdout",
     "output_type": "stream",
     "text": [
      "https://lenta.ru/rubrics/forces/investigations/6\n"
     ]
    },
    {
     "name": "stderr",
     "output_type": "stream",
     "text": [
      "\n",
      "  0%|          | 0/10 [00:00<?, ?it/s]\u001B[A\n",
      " 10%|█         | 1/10 [00:03<00:27,  3.02s/it]\u001B[A\n",
      " 20%|██        | 2/10 [00:06<00:24,  3.02s/it]\u001B[A\n",
      " 30%|███       | 3/10 [00:09<00:21,  3.02s/it]\u001B[A\n",
      " 40%|████      | 4/10 [00:12<00:18,  3.02s/it]\u001B[A\n",
      " 50%|█████     | 5/10 [00:15<00:15,  3.02s/it]\u001B[A\n",
      " 60%|██████    | 6/10 [00:18<00:12,  3.02s/it]\u001B[A\n",
      " 70%|███████   | 7/10 [00:21<00:09,  3.02s/it]\u001B[A\n",
      " 80%|████████  | 8/10 [00:24<00:06,  3.02s/it]\u001B[A\n",
      " 90%|█████████ | 9/10 [00:27<00:03,  3.02s/it]\u001B[A\n",
      "100%|██████████| 10/10 [00:30<00:00,  3.02s/it]\u001B[A\n",
      "                                               \u001B[A"
     ]
    },
    {
     "name": "stdout",
     "output_type": "stream",
     "text": [
      "https://lenta.ru/rubrics/forces/investigations/8\n"
     ]
    },
    {
     "name": "stderr",
     "output_type": "stream",
     "text": [
      "\n",
      "  0%|          | 0/10 [00:00<?, ?it/s]\u001B[A\n",
      " 10%|█         | 1/10 [00:03<00:27,  3.01s/it]\u001B[A\n",
      " 20%|██        | 2/10 [00:06<00:24,  3.02s/it]\u001B[A\n",
      " 30%|███       | 3/10 [00:09<00:21,  3.02s/it]\u001B[A\n",
      " 40%|████      | 4/10 [00:12<00:18,  3.02s/it]\u001B[A\n",
      " 50%|█████     | 5/10 [00:15<00:15,  3.02s/it]\u001B[A\n",
      " 60%|██████    | 6/10 [00:18<00:12,  3.02s/it]\u001B[A\n",
      " 70%|███████   | 7/10 [00:21<00:09,  3.02s/it]\u001B[A\n",
      " 80%|████████  | 8/10 [00:24<00:06,  3.02s/it]\u001B[A\n",
      " 90%|█████████ | 9/10 [00:27<00:03,  3.02s/it]\u001B[A\n",
      "100%|██████████| 10/10 [00:30<00:00,  3.02s/it]\u001B[A\n",
      " 13%|█▎        | 11/82 [23:46<2:31:02, 127.64s/it]"
     ]
    },
    {
     "name": "stdout",
     "output_type": "stream",
     "text": [
      "https://lenta.ru/rubrics/forces/violation/4\n"
     ]
    },
    {
     "name": "stderr",
     "output_type": "stream",
     "text": [
      "\n",
      "  0%|          | 0/10 [00:00<?, ?it/s]\u001B[A\n",
      " 10%|█         | 1/10 [00:03<00:27,  3.04s/it]\u001B[A\n",
      " 20%|██        | 2/10 [00:06<00:24,  3.03s/it]\u001B[A\n",
      " 30%|███       | 3/10 [00:09<00:21,  3.02s/it]\u001B[A\n",
      " 40%|████      | 4/10 [00:12<00:18,  3.02s/it]\u001B[A\n",
      " 50%|█████     | 5/10 [00:15<00:15,  3.02s/it]\u001B[A\n",
      " 60%|██████    | 6/10 [00:18<00:12,  3.02s/it]\u001B[A\n",
      " 70%|███████   | 7/10 [00:21<00:09,  3.02s/it]\u001B[A\n",
      " 80%|████████  | 8/10 [00:24<00:06,  3.02s/it]\u001B[A\n",
      " 90%|█████████ | 9/10 [00:27<00:03,  3.02s/it]\u001B[A\n",
      "100%|██████████| 10/10 [00:30<00:00,  3.02s/it]\u001B[A\n",
      "                                               \u001B[A"
     ]
    },
    {
     "name": "stdout",
     "output_type": "stream",
     "text": [
      "https://lenta.ru/rubrics/forces/violation/6\n"
     ]
    },
    {
     "name": "stderr",
     "output_type": "stream",
     "text": [
      "\n",
      "  0%|          | 0/10 [00:00<?, ?it/s]\u001B[A\n",
      " 10%|█         | 1/10 [00:03<00:27,  3.02s/it]\u001B[A\n",
      " 20%|██        | 2/10 [00:06<00:24,  3.02s/it]\u001B[A\n",
      " 30%|███       | 3/10 [00:09<00:21,  3.02s/it]\u001B[A\n",
      " 40%|████      | 4/10 [00:12<00:18,  3.02s/it]\u001B[A\n",
      " 50%|█████     | 5/10 [00:15<00:15,  3.02s/it]\u001B[A\n",
      " 60%|██████    | 6/10 [00:18<00:12,  3.02s/it]\u001B[A\n",
      " 70%|███████   | 7/10 [00:21<00:09,  3.02s/it]\u001B[A\n",
      " 80%|████████  | 8/10 [00:24<00:06,  3.02s/it]\u001B[A\n",
      " 90%|█████████ | 9/10 [00:27<00:03,  3.02s/it]\u001B[A\n",
      "100%|██████████| 10/10 [00:30<00:00,  3.02s/it]\u001B[A\n",
      "                                               \u001B[A"
     ]
    },
    {
     "name": "stdout",
     "output_type": "stream",
     "text": [
      "https://lenta.ru/rubrics/forces/violation/8\n"
     ]
    },
    {
     "name": "stderr",
     "output_type": "stream",
     "text": [
      "\n",
      "  0%|          | 0/10 [00:00<?, ?it/s]\u001B[A\n",
      " 10%|█         | 1/10 [00:03<00:27,  3.01s/it]\u001B[A\n",
      " 20%|██        | 2/10 [00:06<00:24,  3.01s/it]\u001B[A\n",
      " 30%|███       | 3/10 [00:09<00:21,  3.02s/it]\u001B[A\n",
      " 40%|████      | 4/10 [00:12<00:18,  3.02s/it]\u001B[A\n",
      " 50%|█████     | 5/10 [00:15<00:15,  3.02s/it]\u001B[A\n",
      " 60%|██████    | 6/10 [00:18<00:12,  3.02s/it]\u001B[A\n",
      " 70%|███████   | 7/10 [00:21<00:09,  3.02s/it]\u001B[A\n",
      " 80%|████████  | 8/10 [00:24<00:06,  3.02s/it]\u001B[A\n",
      " 90%|█████████ | 9/10 [00:27<00:03,  3.02s/it]\u001B[A\n",
      "100%|██████████| 10/10 [00:30<00:00,  3.02s/it]\u001B[A\n",
      " 15%|█▍        | 12/82 [25:46<2:26:12, 125.32s/it]"
     ]
    },
    {
     "name": "stdout",
     "output_type": "stream",
     "text": [
      "https://lenta.ru/rubrics/forces/police/4\n"
     ]
    },
    {
     "name": "stderr",
     "output_type": "stream",
     "text": [
      "\n",
      "  0%|          | 0/10 [00:00<?, ?it/s]\u001B[A\n",
      " 10%|█         | 1/10 [00:03<00:27,  3.02s/it]\u001B[A\n",
      " 20%|██        | 2/10 [00:06<00:24,  3.02s/it]\u001B[A\n",
      " 30%|███       | 3/10 [00:09<00:21,  3.02s/it]\u001B[A\n",
      " 40%|████      | 4/10 [00:12<00:18,  3.02s/it]\u001B[A\n",
      " 50%|█████     | 5/10 [00:15<00:15,  3.02s/it]\u001B[A\n",
      " 60%|██████    | 6/10 [00:18<00:12,  3.02s/it]\u001B[A\n",
      " 70%|███████   | 7/10 [00:21<00:09,  3.02s/it]\u001B[A\n",
      " 80%|████████  | 8/10 [00:24<00:06,  3.02s/it]\u001B[A\n",
      " 90%|█████████ | 9/10 [00:27<00:03,  3.02s/it]\u001B[A\n",
      "100%|██████████| 10/10 [00:30<00:00,  3.02s/it]\u001B[A\n",
      "                                               \u001B[A"
     ]
    },
    {
     "name": "stdout",
     "output_type": "stream",
     "text": [
      "https://lenta.ru/rubrics/forces/police/6\n"
     ]
    },
    {
     "name": "stderr",
     "output_type": "stream",
     "text": [
      "\n",
      "  0%|          | 0/10 [00:00<?, ?it/s]\u001B[A\n",
      " 10%|█         | 1/10 [00:03<00:27,  3.01s/it]\u001B[A\n",
      " 20%|██        | 2/10 [00:06<00:24,  3.01s/it]\u001B[A\n",
      " 30%|███       | 3/10 [00:09<00:21,  3.02s/it]\u001B[A\n",
      " 40%|████      | 4/10 [00:12<00:18,  3.01s/it]\u001B[A\n",
      " 50%|█████     | 5/10 [00:15<00:15,  3.02s/it]\u001B[A\n",
      " 60%|██████    | 6/10 [00:18<00:12,  3.01s/it]\u001B[A\n",
      " 70%|███████   | 7/10 [00:21<00:09,  3.02s/it]\u001B[A\n",
      " 80%|████████  | 8/10 [00:24<00:06,  3.02s/it]\u001B[A\n",
      " 90%|█████████ | 9/10 [00:27<00:03,  3.02s/it]\u001B[A\n",
      "100%|██████████| 10/10 [00:30<00:00,  3.02s/it]\u001B[A\n",
      "                                               \u001B[A"
     ]
    },
    {
     "name": "stdout",
     "output_type": "stream",
     "text": [
      "https://lenta.ru/rubrics/forces/police/8\n"
     ]
    },
    {
     "name": "stderr",
     "output_type": "stream",
     "text": [
      "\n",
      "  0%|          | 0/10 [00:00<?, ?it/s]\u001B[A\n",
      " 10%|█         | 1/10 [00:03<00:27,  3.02s/it]\u001B[A\n",
      " 20%|██        | 2/10 [00:06<00:24,  3.02s/it]\u001B[A\n",
      " 30%|███       | 3/10 [00:09<00:21,  3.02s/it]\u001B[A\n",
      " 40%|████      | 4/10 [00:12<00:18,  3.02s/it]\u001B[A\n",
      " 50%|█████     | 5/10 [00:15<00:15,  3.02s/it]\u001B[A\n",
      " 60%|██████    | 6/10 [00:18<00:12,  3.02s/it]\u001B[A\n",
      " 70%|███████   | 7/10 [00:21<00:09,  3.02s/it]\u001B[A\n",
      " 80%|████████  | 8/10 [00:24<00:06,  3.02s/it]\u001B[A\n",
      " 90%|█████████ | 9/10 [00:27<00:03,  3.02s/it]\u001B[A\n",
      "100%|██████████| 10/10 [00:30<00:00,  3.02s/it]\u001B[A\n",
      " 16%|█▌        | 13/82 [27:47<2:22:24, 123.84s/it]"
     ]
    },
    {
     "name": "stdout",
     "output_type": "stream",
     "text": [
      "https://lenta.ru/rubrics/forces/crimerussia/4\n"
     ]
    },
    {
     "name": "stderr",
     "output_type": "stream",
     "text": [
      "\n",
      "  0%|          | 0/10 [00:00<?, ?it/s]\u001B[A\n",
      " 10%|█         | 1/10 [00:03<00:27,  3.02s/it]\u001B[A\n",
      " 20%|██        | 2/10 [00:06<00:24,  3.02s/it]\u001B[A\n",
      " 30%|███       | 3/10 [00:09<00:21,  3.02s/it]\u001B[A\n",
      " 40%|████      | 4/10 [00:12<00:18,  3.02s/it]\u001B[A\n",
      " 50%|█████     | 5/10 [00:15<00:15,  3.02s/it]\u001B[A\n",
      " 60%|██████    | 6/10 [00:18<00:12,  3.02s/it]\u001B[A\n",
      " 70%|███████   | 7/10 [00:21<00:09,  3.02s/it]\u001B[A\n",
      " 80%|████████  | 8/10 [00:24<00:06,  3.02s/it]\u001B[A\n",
      " 90%|█████████ | 9/10 [00:27<00:03,  3.02s/it]\u001B[A\n",
      "100%|██████████| 10/10 [00:30<00:00,  3.02s/it]\u001B[A\n",
      "                                               \u001B[A"
     ]
    },
    {
     "name": "stdout",
     "output_type": "stream",
     "text": [
      "https://lenta.ru/rubrics/forces/crimerussia/6\n"
     ]
    },
    {
     "name": "stderr",
     "output_type": "stream",
     "text": [
      "\n",
      "  0%|          | 0/10 [00:00<?, ?it/s]\u001B[A\n",
      " 10%|█         | 1/10 [00:03<00:27,  3.03s/it]\u001B[A\n",
      " 20%|██        | 2/10 [00:06<00:24,  3.02s/it]\u001B[A\n",
      " 30%|███       | 3/10 [00:09<00:21,  3.02s/it]\u001B[A\n",
      " 40%|████      | 4/10 [00:12<00:18,  3.02s/it]\u001B[A\n",
      " 50%|█████     | 5/10 [00:15<00:15,  3.02s/it]\u001B[A\n",
      " 60%|██████    | 6/10 [00:18<00:12,  3.01s/it]\u001B[A\n",
      " 70%|███████   | 7/10 [00:21<00:09,  3.01s/it]\u001B[A\n",
      " 80%|████████  | 8/10 [00:24<00:06,  3.01s/it]\u001B[A\n",
      " 90%|█████████ | 9/10 [00:27<00:03,  3.01s/it]\u001B[A\n",
      "100%|██████████| 10/10 [00:30<00:00,  3.02s/it]\u001B[A\n",
      "                                               \u001B[A"
     ]
    },
    {
     "name": "stdout",
     "output_type": "stream",
     "text": [
      "https://lenta.ru/rubrics/forces/crimerussia/8\n"
     ]
    },
    {
     "name": "stderr",
     "output_type": "stream",
     "text": [
      "\n",
      "  0%|          | 0/10 [00:00<?, ?it/s]\u001B[A\n",
      " 10%|█         | 1/10 [00:03<00:27,  3.03s/it]\u001B[A\n",
      " 20%|██        | 2/10 [00:06<00:24,  3.02s/it]\u001B[A\n",
      " 30%|███       | 3/10 [00:09<00:21,  3.02s/it]\u001B[A\n",
      " 40%|████      | 4/10 [00:12<00:18,  3.02s/it]\u001B[A\n",
      " 50%|█████     | 5/10 [00:15<00:15,  3.02s/it]\u001B[A\n",
      " 60%|██████    | 6/10 [00:18<00:12,  3.02s/it]\u001B[A\n",
      " 70%|███████   | 7/10 [00:21<00:09,  3.02s/it]\u001B[A\n",
      " 80%|████████  | 8/10 [00:24<00:06,  3.02s/it]\u001B[A\n",
      " 90%|█████████ | 9/10 [00:27<00:03,  3.02s/it]\u001B[A\n",
      "100%|██████████| 10/10 [00:30<00:00,  3.02s/it]\u001B[A\n",
      " 17%|█▋        | 14/82 [29:46<2:18:49, 122.49s/it]"
     ]
    },
    {
     "name": "stdout",
     "output_type": "stream",
     "text": [
      "https://lenta.ru/rubrics/media/internet/4\n"
     ]
    },
    {
     "name": "stderr",
     "output_type": "stream",
     "text": [
      "\n",
      "  0%|          | 0/10 [00:00<?, ?it/s]\u001B[A\n",
      " 10%|█         | 1/10 [00:03<00:27,  3.02s/it]\u001B[A\n",
      " 20%|██        | 2/10 [00:06<00:24,  3.02s/it]\u001B[A\n",
      " 30%|███       | 3/10 [00:09<00:21,  3.02s/it]\u001B[A\n",
      " 40%|████      | 4/10 [00:12<00:18,  3.02s/it]\u001B[A\n",
      " 50%|█████     | 5/10 [00:15<00:15,  3.02s/it]\u001B[A\n",
      " 60%|██████    | 6/10 [00:18<00:12,  3.02s/it]\u001B[A\n",
      " 70%|███████   | 7/10 [00:21<00:09,  3.02s/it]\u001B[A\n",
      " 80%|████████  | 8/10 [00:24<00:06,  3.02s/it]\u001B[A\n",
      " 90%|█████████ | 9/10 [00:27<00:03,  3.01s/it]\u001B[A\n",
      "100%|██████████| 10/10 [00:30<00:00,  3.01s/it]\u001B[A\n",
      "                                               \u001B[A"
     ]
    },
    {
     "name": "stdout",
     "output_type": "stream",
     "text": [
      "https://lenta.ru/rubrics/media/internet/6\n"
     ]
    },
    {
     "name": "stderr",
     "output_type": "stream",
     "text": [
      "\n",
      "  0%|          | 0/10 [00:00<?, ?it/s]\u001B[A\n",
      " 10%|█         | 1/10 [00:03<00:27,  3.03s/it]\u001B[A\n",
      " 20%|██        | 2/10 [00:06<00:24,  3.02s/it]\u001B[A\n",
      " 30%|███       | 3/10 [00:09<00:21,  3.02s/it]\u001B[A\n",
      " 40%|████      | 4/10 [00:12<00:18,  3.02s/it]\u001B[A\n",
      " 50%|█████     | 5/10 [00:15<00:15,  3.02s/it]\u001B[A\n",
      " 60%|██████    | 6/10 [00:18<00:12,  3.02s/it]\u001B[A\n",
      " 70%|███████   | 7/10 [00:21<00:09,  3.02s/it]\u001B[A\n",
      " 80%|████████  | 8/10 [00:24<00:06,  3.02s/it]\u001B[A\n",
      " 90%|█████████ | 9/10 [00:27<00:03,  3.02s/it]\u001B[A\n",
      "100%|██████████| 10/10 [00:30<00:00,  3.02s/it]\u001B[A\n",
      "                                               \u001B[A"
     ]
    },
    {
     "name": "stdout",
     "output_type": "stream",
     "text": [
      "https://lenta.ru/rubrics/media/internet/8\n"
     ]
    },
    {
     "name": "stderr",
     "output_type": "stream",
     "text": [
      "\n",
      "  0%|          | 0/10 [00:00<?, ?it/s]\u001B[A\n",
      " 10%|█         | 1/10 [00:03<00:27,  3.01s/it]\u001B[A\n",
      " 20%|██        | 2/10 [00:06<00:24,  3.01s/it]\u001B[A\n",
      " 30%|███       | 3/10 [00:09<00:21,  3.02s/it]\u001B[A\n",
      " 40%|████      | 4/10 [00:12<00:18,  3.01s/it]\u001B[A\n",
      " 50%|█████     | 5/10 [00:15<00:15,  3.02s/it]\u001B[A\n",
      " 60%|██████    | 6/10 [00:18<00:12,  3.02s/it]\u001B[A\n",
      " 70%|███████   | 7/10 [00:21<00:09,  3.02s/it]\u001B[A\n",
      " 80%|████████  | 8/10 [00:24<00:06,  3.02s/it]\u001B[A\n",
      " 90%|█████████ | 9/10 [00:27<00:03,  3.02s/it]\u001B[A\n",
      "100%|██████████| 10/10 [00:30<00:00,  3.02s/it]\u001B[A\n",
      " 18%|█▊        | 15/82 [31:49<2:16:57, 122.65s/it]"
     ]
    },
    {
     "name": "stdout",
     "output_type": "stream",
     "text": [
      "https://lenta.ru/rubrics/media/hackers/4\n"
     ]
    },
    {
     "name": "stderr",
     "output_type": "stream",
     "text": [
      "\n",
      "  0%|          | 0/10 [00:00<?, ?it/s]\u001B[A\n",
      " 10%|█         | 1/10 [00:03<00:27,  3.01s/it]\u001B[A\n",
      " 20%|██        | 2/10 [00:06<00:24,  3.02s/it]\u001B[A\n",
      " 30%|███       | 3/10 [00:09<00:21,  3.02s/it]\u001B[A\n",
      " 40%|████      | 4/10 [00:12<00:18,  3.02s/it]\u001B[A\n",
      " 50%|█████     | 5/10 [00:15<00:15,  3.02s/it]\u001B[A\n",
      " 60%|██████    | 6/10 [00:18<00:12,  3.02s/it]\u001B[A\n",
      " 70%|███████   | 7/10 [00:21<00:09,  3.02s/it]\u001B[A\n",
      " 80%|████████  | 8/10 [00:24<00:06,  3.02s/it]\u001B[A\n",
      " 90%|█████████ | 9/10 [00:27<00:03,  3.02s/it]\u001B[A\n",
      "100%|██████████| 10/10 [00:30<00:00,  3.02s/it]\u001B[A\n",
      "                                               \u001B[A"
     ]
    },
    {
     "name": "stdout",
     "output_type": "stream",
     "text": [
      "https://lenta.ru/rubrics/media/hackers/6\n"
     ]
    },
    {
     "name": "stderr",
     "output_type": "stream",
     "text": [
      "\n",
      "  0%|          | 0/10 [00:00<?, ?it/s]\u001B[A\n",
      " 10%|█         | 1/10 [00:03<00:27,  3.01s/it]\u001B[A\n",
      " 20%|██        | 2/10 [00:06<00:24,  3.02s/it]\u001B[A\n",
      " 30%|███       | 3/10 [00:09<00:21,  3.02s/it]\u001B[A\n",
      " 40%|████      | 4/10 [00:12<00:18,  3.02s/it]\u001B[A\n",
      " 50%|█████     | 5/10 [00:15<00:15,  3.02s/it]\u001B[A\n",
      " 60%|██████    | 6/10 [00:18<00:12,  3.02s/it]\u001B[A\n",
      " 70%|███████   | 7/10 [00:21<00:09,  3.02s/it]\u001B[A\n",
      " 80%|████████  | 8/10 [00:24<00:06,  3.02s/it]\u001B[A\n",
      " 90%|█████████ | 9/10 [00:27<00:03,  3.02s/it]\u001B[A\n",
      "100%|██████████| 10/10 [00:30<00:00,  3.02s/it]\u001B[A\n",
      "                                               \u001B[A"
     ]
    },
    {
     "name": "stdout",
     "output_type": "stream",
     "text": [
      "https://lenta.ru/rubrics/media/hackers/8\n"
     ]
    },
    {
     "name": "stderr",
     "output_type": "stream",
     "text": [
      "\n",
      "  0%|          | 0/10 [00:00<?, ?it/s]\u001B[A\n",
      " 10%|█         | 1/10 [00:03<00:27,  3.02s/it]\u001B[A\n",
      " 20%|██        | 2/10 [00:06<00:24,  3.02s/it]\u001B[A\n",
      " 30%|███       | 3/10 [00:09<00:21,  3.02s/it]\u001B[A\n",
      " 40%|████      | 4/10 [00:12<00:18,  3.02s/it]\u001B[A\n",
      " 50%|█████     | 5/10 [00:15<00:15,  3.02s/it]\u001B[A\n",
      " 60%|██████    | 6/10 [00:18<00:12,  3.02s/it]\u001B[A\n",
      " 70%|███████   | 7/10 [00:21<00:09,  3.02s/it]\u001B[A\n",
      " 80%|████████  | 8/10 [00:24<00:06,  3.02s/it]\u001B[A\n",
      " 90%|█████████ | 9/10 [00:27<00:03,  3.02s/it]\u001B[A\n",
      "100%|██████████| 10/10 [00:30<00:00,  3.02s/it]\u001B[A\n",
      " 20%|█▉        | 16/82 [33:49<2:14:07, 121.93s/it]"
     ]
    },
    {
     "name": "stdout",
     "output_type": "stream",
     "text": [
      "https://lenta.ru/rubrics/media/soc_network/4\n"
     ]
    },
    {
     "name": "stderr",
     "output_type": "stream",
     "text": [
      "\n",
      "  0%|          | 0/10 [00:00<?, ?it/s]\u001B[A\n",
      " 10%|█         | 1/10 [00:03<00:27,  3.02s/it]\u001B[A\n",
      " 20%|██        | 2/10 [00:06<00:24,  3.02s/it]\u001B[A\n",
      " 30%|███       | 3/10 [00:09<00:21,  3.02s/it]\u001B[A\n",
      " 40%|████      | 4/10 [00:12<00:18,  3.02s/it]\u001B[A\n",
      " 50%|█████     | 5/10 [00:15<00:15,  3.02s/it]\u001B[A\n",
      " 60%|██████    | 6/10 [00:18<00:12,  3.02s/it]\u001B[A\n",
      " 70%|███████   | 7/10 [00:21<00:09,  3.02s/it]\u001B[A\n",
      " 80%|████████  | 8/10 [00:24<00:06,  3.02s/it]\u001B[A\n",
      " 90%|█████████ | 9/10 [00:27<00:03,  3.02s/it]\u001B[A\n",
      "100%|██████████| 10/10 [00:30<00:00,  3.02s/it]\u001B[A\n",
      "                                               \u001B[A"
     ]
    },
    {
     "name": "stdout",
     "output_type": "stream",
     "text": [
      "https://lenta.ru/rubrics/media/soc_network/6\n"
     ]
    },
    {
     "name": "stderr",
     "output_type": "stream",
     "text": [
      "\n",
      "  0%|          | 0/10 [00:00<?, ?it/s]\u001B[A\n",
      " 10%|█         | 1/10 [00:03<00:27,  3.01s/it]\u001B[A\n",
      " 20%|██        | 2/10 [00:06<00:24,  3.01s/it]\u001B[A\n",
      " 30%|███       | 3/10 [00:09<00:21,  3.01s/it]\u001B[A\n",
      " 40%|████      | 4/10 [00:12<00:18,  3.02s/it]\u001B[A\n",
      " 50%|█████     | 5/10 [00:15<00:15,  3.02s/it]\u001B[A\n",
      " 60%|██████    | 6/10 [00:18<00:12,  3.02s/it]\u001B[A\n",
      " 70%|███████   | 7/10 [00:21<00:09,  3.02s/it]\u001B[A\n",
      " 80%|████████  | 8/10 [00:24<00:06,  3.01s/it]\u001B[A\n",
      " 90%|█████████ | 9/10 [00:27<00:03,  3.01s/it]\u001B[A\n",
      "100%|██████████| 10/10 [00:30<00:00,  3.02s/it]\u001B[A\n",
      "                                               \u001B[A"
     ]
    },
    {
     "name": "stdout",
     "output_type": "stream",
     "text": [
      "https://lenta.ru/rubrics/media/soc_network/8\n"
     ]
    },
    {
     "name": "stderr",
     "output_type": "stream",
     "text": [
      "\n",
      "  0%|          | 0/10 [00:00<?, ?it/s]\u001B[A\n",
      " 10%|█         | 1/10 [00:03<00:27,  3.03s/it]\u001B[A\n",
      " 20%|██        | 2/10 [00:06<00:24,  3.02s/it]\u001B[A\n",
      " 30%|███       | 3/10 [00:09<00:21,  3.02s/it]\u001B[A\n",
      " 40%|████      | 4/10 [00:12<00:18,  3.02s/it]\u001B[A\n",
      " 50%|█████     | 5/10 [00:15<00:15,  3.02s/it]\u001B[A\n",
      " 60%|██████    | 6/10 [00:18<00:12,  3.02s/it]\u001B[A\n",
      " 70%|███████   | 7/10 [00:21<00:09,  3.02s/it]\u001B[A\n",
      " 80%|████████  | 8/10 [00:24<00:06,  3.01s/it]\u001B[A\n",
      " 90%|█████████ | 9/10 [00:27<00:03,  3.01s/it]\u001B[A\n",
      "100%|██████████| 10/10 [00:30<00:00,  3.01s/it]\u001B[A\n",
      " 21%|██        | 17/82 [35:49<2:11:28, 121.37s/it]"
     ]
    },
    {
     "name": "stdout",
     "output_type": "stream",
     "text": [
      "https://lenta.ru/rubrics/media/memes/4\n"
     ]
    },
    {
     "name": "stderr",
     "output_type": "stream",
     "text": [
      "\n",
      "  0%|          | 0/10 [00:00<?, ?it/s]\u001B[A\n",
      " 10%|█         | 1/10 [00:03<00:27,  3.01s/it]\u001B[A\n",
      " 20%|██        | 2/10 [00:06<00:24,  3.02s/it]\u001B[A\n",
      " 30%|███       | 3/10 [00:09<00:21,  3.02s/it]\u001B[A\n",
      " 40%|████      | 4/10 [00:12<00:18,  3.01s/it]\u001B[A\n",
      " 50%|█████     | 5/10 [00:15<00:15,  3.02s/it]\u001B[A\n",
      " 60%|██████    | 6/10 [00:18<00:12,  3.01s/it]\u001B[A\n",
      " 70%|███████   | 7/10 [00:21<00:09,  3.02s/it]\u001B[A\n",
      " 80%|████████  | 8/10 [00:24<00:06,  3.02s/it]\u001B[A\n",
      " 90%|█████████ | 9/10 [00:27<00:03,  3.02s/it]\u001B[A\n",
      "100%|██████████| 10/10 [00:30<00:00,  3.02s/it]\u001B[A\n",
      "                                               \u001B[A"
     ]
    },
    {
     "name": "stdout",
     "output_type": "stream",
     "text": [
      "https://lenta.ru/rubrics/media/memes/6\n"
     ]
    },
    {
     "name": "stderr",
     "output_type": "stream",
     "text": [
      "\n",
      "  0%|          | 0/10 [00:00<?, ?it/s]\u001B[A\n",
      " 10%|█         | 1/10 [00:03<00:27,  3.02s/it]\u001B[A\n",
      " 20%|██        | 2/10 [00:06<00:24,  3.02s/it]\u001B[A\n",
      " 30%|███       | 3/10 [00:09<00:21,  3.02s/it]\u001B[A\n",
      " 40%|████      | 4/10 [00:12<00:18,  3.02s/it]\u001B[A\n",
      " 50%|█████     | 5/10 [00:15<00:15,  3.02s/it]\u001B[A\n",
      " 60%|██████    | 6/10 [00:18<00:12,  3.02s/it]\u001B[A\n",
      " 70%|███████   | 7/10 [00:21<00:09,  3.02s/it]\u001B[A\n",
      " 80%|████████  | 8/10 [00:24<00:06,  3.02s/it]\u001B[A\n",
      " 90%|█████████ | 9/10 [00:27<00:03,  3.02s/it]\u001B[A\n",
      "100%|██████████| 10/10 [00:30<00:00,  3.02s/it]\u001B[A\n",
      "                                               \u001B[A"
     ]
    },
    {
     "name": "stdout",
     "output_type": "stream",
     "text": [
      "https://lenta.ru/rubrics/media/memes/8\n"
     ]
    },
    {
     "name": "stderr",
     "output_type": "stream",
     "text": [
      "\n",
      "  0%|          | 0/10 [00:00<?, ?it/s]\u001B[A\n",
      " 10%|█         | 1/10 [00:03<00:27,  3.02s/it]\u001B[A\n",
      " 20%|██        | 2/10 [00:06<00:24,  3.02s/it]\u001B[A\n",
      " 30%|███       | 3/10 [00:09<00:21,  3.02s/it]\u001B[A\n",
      " 40%|████      | 4/10 [00:12<00:18,  3.02s/it]\u001B[A\n",
      " 50%|█████     | 5/10 [00:15<00:15,  3.02s/it]\u001B[A\n",
      " 60%|██████    | 6/10 [00:18<00:12,  3.02s/it]\u001B[A\n",
      " 70%|███████   | 7/10 [00:21<00:09,  3.02s/it]\u001B[A\n",
      " 80%|████████  | 8/10 [00:24<00:06,  3.02s/it]\u001B[A\n",
      " 90%|█████████ | 9/10 [00:27<00:03,  3.02s/it]\u001B[A\n",
      "100%|██████████| 10/10 [00:30<00:00,  3.02s/it]\u001B[A\n",
      " 22%|██▏       | 18/82 [37:51<2:09:29, 121.40s/it]"
     ]
    },
    {
     "name": "stdout",
     "output_type": "stream",
     "text": [
      "https://lenta.ru/rubrics/media/press/4\n"
     ]
    },
    {
     "name": "stderr",
     "output_type": "stream",
     "text": [
      "\n",
      "  0%|          | 0/10 [00:00<?, ?it/s]\u001B[A\n",
      " 10%|█         | 1/10 [00:03<00:27,  3.01s/it]\u001B[A\n",
      " 20%|██        | 2/10 [00:06<00:24,  3.02s/it]\u001B[A\n",
      " 30%|███       | 3/10 [00:09<00:21,  3.02s/it]\u001B[A\n",
      " 40%|████      | 4/10 [00:12<00:18,  3.02s/it]\u001B[A\n",
      " 50%|█████     | 5/10 [00:15<00:15,  3.02s/it]\u001B[A\n",
      " 60%|██████    | 6/10 [00:18<00:12,  3.02s/it]\u001B[A\n",
      " 70%|███████   | 7/10 [00:21<00:09,  3.02s/it]\u001B[A\n",
      " 80%|████████  | 8/10 [00:24<00:06,  3.02s/it]\u001B[A\n",
      " 90%|█████████ | 9/10 [00:27<00:03,  3.02s/it]\u001B[A\n",
      "100%|██████████| 10/10 [00:30<00:00,  3.02s/it]\u001B[A\n",
      "                                               \u001B[A"
     ]
    },
    {
     "name": "stdout",
     "output_type": "stream",
     "text": [
      "https://lenta.ru/rubrics/media/press/6\n"
     ]
    },
    {
     "name": "stderr",
     "output_type": "stream",
     "text": [
      "\n",
      "  0%|          | 0/10 [00:00<?, ?it/s]\u001B[A\n",
      " 10%|█         | 1/10 [00:03<00:27,  3.01s/it]\u001B[A\n",
      " 20%|██        | 2/10 [00:06<00:24,  3.02s/it]\u001B[A\n",
      " 30%|███       | 3/10 [00:09<00:21,  3.02s/it]\u001B[A\n",
      " 40%|████      | 4/10 [00:12<00:18,  3.02s/it]\u001B[A\n",
      " 50%|█████     | 5/10 [00:15<00:15,  3.02s/it]\u001B[A\n",
      " 60%|██████    | 6/10 [00:18<00:12,  3.02s/it]\u001B[A\n",
      " 70%|███████   | 7/10 [00:21<00:09,  3.02s/it]\u001B[A\n",
      " 80%|████████  | 8/10 [00:24<00:06,  3.02s/it]\u001B[A\n",
      " 90%|█████████ | 9/10 [00:27<00:03,  3.02s/it]\u001B[A\n",
      "100%|██████████| 10/10 [00:30<00:00,  3.02s/it]\u001B[A\n",
      "                                               \u001B[A"
     ]
    },
    {
     "name": "stdout",
     "output_type": "stream",
     "text": [
      "https://lenta.ru/rubrics/media/press/8\n"
     ]
    },
    {
     "name": "stderr",
     "output_type": "stream",
     "text": [
      "\n",
      "  0%|          | 0/10 [00:00<?, ?it/s]\u001B[A\n",
      " 10%|█         | 1/10 [00:03<00:27,  3.02s/it]\u001B[A\n",
      " 20%|██        | 2/10 [00:06<00:24,  3.02s/it]\u001B[A\n",
      " 30%|███       | 3/10 [00:09<00:21,  3.01s/it]\u001B[A\n",
      " 40%|████      | 4/10 [00:12<00:18,  3.02s/it]\u001B[A\n",
      " 50%|█████     | 5/10 [00:15<00:15,  3.02s/it]\u001B[A\n",
      " 60%|██████    | 6/10 [00:18<00:12,  3.02s/it]\u001B[A\n",
      " 70%|███████   | 7/10 [00:21<00:09,  3.02s/it]\u001B[A\n",
      " 80%|████████  | 8/10 [00:24<00:06,  3.02s/it]\u001B[A\n",
      " 90%|█████████ | 9/10 [00:27<00:03,  3.02s/it]\u001B[A\n",
      "100%|██████████| 10/10 [00:30<00:00,  3.02s/it]\u001B[A\n",
      " 23%|██▎       | 19/82 [39:51<2:07:05, 121.04s/it]"
     ]
    },
    {
     "name": "stdout",
     "output_type": "stream",
     "text": [
      "https://lenta.ru/rubrics/media/tv/4\n"
     ]
    },
    {
     "name": "stderr",
     "output_type": "stream",
     "text": [
      "\n",
      "  0%|          | 0/10 [00:00<?, ?it/s]\u001B[A\n",
      " 10%|█         | 1/10 [00:03<00:27,  3.02s/it]\u001B[A\n",
      " 20%|██        | 2/10 [00:06<00:24,  3.02s/it]\u001B[A\n",
      " 30%|███       | 3/10 [00:09<00:21,  3.02s/it]\u001B[A\n",
      " 40%|████      | 4/10 [00:12<00:18,  3.02s/it]\u001B[A\n",
      " 50%|█████     | 5/10 [00:15<00:15,  3.02s/it]\u001B[A\n",
      " 60%|██████    | 6/10 [00:18<00:12,  3.02s/it]\u001B[A\n",
      " 70%|███████   | 7/10 [00:21<00:09,  3.02s/it]\u001B[A\n",
      " 80%|████████  | 8/10 [00:24<00:06,  3.02s/it]\u001B[A\n",
      " 90%|█████████ | 9/10 [00:27<00:03,  3.02s/it]\u001B[A\n",
      "100%|██████████| 10/10 [00:30<00:00,  3.02s/it]\u001B[A\n",
      "                                               \u001B[A"
     ]
    },
    {
     "name": "stdout",
     "output_type": "stream",
     "text": [
      "https://lenta.ru/rubrics/media/tv/6\n"
     ]
    },
    {
     "name": "stderr",
     "output_type": "stream",
     "text": [
      "\n",
      "  0%|          | 0/10 [00:00<?, ?it/s]\u001B[A\n",
      " 10%|█         | 1/10 [00:03<00:27,  3.01s/it]\u001B[A\n",
      " 20%|██        | 2/10 [00:06<00:24,  3.01s/it]\u001B[A\n",
      " 30%|███       | 3/10 [00:09<00:21,  3.02s/it]\u001B[A\n",
      " 40%|████      | 4/10 [00:12<00:18,  3.02s/it]\u001B[A\n",
      " 50%|█████     | 5/10 [00:15<00:15,  3.01s/it]\u001B[A\n",
      " 60%|██████    | 6/10 [00:18<00:12,  3.02s/it]\u001B[A\n",
      " 70%|███████   | 7/10 [00:21<00:09,  3.02s/it]\u001B[A\n",
      " 80%|████████  | 8/10 [00:24<00:06,  3.02s/it]\u001B[A\n",
      " 90%|█████████ | 9/10 [00:27<00:03,  3.02s/it]\u001B[A\n",
      "100%|██████████| 10/10 [00:30<00:00,  3.02s/it]\u001B[A\n",
      "                                               \u001B[A"
     ]
    },
    {
     "name": "stdout",
     "output_type": "stream",
     "text": [
      "https://lenta.ru/rubrics/media/tv/8\n"
     ]
    },
    {
     "name": "stderr",
     "output_type": "stream",
     "text": [
      "\n",
      "  0%|          | 0/10 [00:00<?, ?it/s]\u001B[A\n",
      " 10%|█         | 1/10 [00:03<00:27,  3.03s/it]\u001B[A\n",
      " 20%|██        | 2/10 [00:06<00:24,  3.02s/it]\u001B[A\n",
      " 30%|███       | 3/10 [00:09<00:21,  3.02s/it]\u001B[A\n",
      " 40%|████      | 4/10 [00:12<00:18,  3.02s/it]\u001B[A\n",
      " 50%|█████     | 5/10 [00:15<00:15,  3.02s/it]\u001B[A\n",
      " 60%|██████    | 6/10 [00:18<00:12,  3.02s/it]\u001B[A\n",
      " 70%|███████   | 7/10 [00:21<00:09,  3.02s/it]\u001B[A\n",
      " 80%|████████  | 8/10 [00:24<00:06,  3.02s/it]\u001B[A\n",
      " 90%|█████████ | 9/10 [00:27<00:03,  3.02s/it]\u001B[A\n",
      "100%|██████████| 10/10 [00:30<00:00,  3.02s/it]\u001B[A\n",
      " 24%|██▍       | 20/82 [41:53<2:05:15, 121.22s/it]"
     ]
    },
    {
     "name": "stdout",
     "output_type": "stream",
     "text": [
      "https://lenta.ru/rubrics/media/factchecking/4\n"
     ]
    },
    {
     "name": "stderr",
     "output_type": "stream",
     "text": [
      "\n",
      "  0%|          | 0/10 [00:00<?, ?it/s]\u001B[A\n",
      " 10%|█         | 1/10 [00:03<00:27,  3.01s/it]\u001B[A\n",
      " 20%|██        | 2/10 [00:06<00:24,  3.01s/it]\u001B[A\n",
      " 30%|███       | 3/10 [00:09<00:21,  3.02s/it]\u001B[A\n",
      " 40%|████      | 4/10 [00:12<00:18,  3.01s/it]\u001B[A\n",
      " 50%|█████     | 5/10 [00:15<00:15,  3.02s/it]\u001B[A\n",
      " 60%|██████    | 6/10 [00:18<00:12,  3.02s/it]\u001B[A\n",
      " 70%|███████   | 7/10 [00:21<00:09,  3.02s/it]\u001B[A\n",
      " 80%|████████  | 8/10 [00:24<00:06,  3.02s/it]\u001B[A\n",
      " 90%|█████████ | 9/10 [00:27<00:03,  3.02s/it]\u001B[A\n",
      "100%|██████████| 10/10 [00:30<00:00,  3.02s/it]\u001B[A\n",
      "                                               \u001B[A"
     ]
    },
    {
     "name": "stdout",
     "output_type": "stream",
     "text": [
      "https://lenta.ru/rubrics/media/factchecking/6\n"
     ]
    },
    {
     "name": "stderr",
     "output_type": "stream",
     "text": [
      "\n",
      "  0%|          | 0/10 [00:00<?, ?it/s]\u001B[A\n",
      " 10%|█         | 1/10 [00:03<00:27,  3.02s/it]\u001B[A\n",
      " 20%|██        | 2/10 [00:06<00:24,  3.02s/it]\u001B[A\n",
      " 30%|███       | 3/10 [00:09<00:21,  3.02s/it]\u001B[A\n",
      " 40%|████      | 4/10 [00:12<00:18,  3.02s/it]\u001B[A\n",
      " 50%|█████     | 5/10 [00:15<00:15,  3.02s/it]\u001B[A\n",
      " 60%|██████    | 6/10 [00:18<00:12,  3.02s/it]\u001B[A\n",
      " 70%|███████   | 7/10 [00:21<00:09,  3.02s/it]\u001B[A\n",
      " 80%|████████  | 8/10 [00:24<00:06,  3.02s/it]\u001B[A\n",
      " 90%|█████████ | 9/10 [00:27<00:03,  3.02s/it]\u001B[A\n",
      "100%|██████████| 10/10 [00:30<00:00,  3.02s/it]\u001B[A\n",
      "                                               \u001B[A"
     ]
    },
    {
     "name": "stdout",
     "output_type": "stream",
     "text": [
      "https://lenta.ru/rubrics/media/factchecking/8\n"
     ]
    },
    {
     "name": "stderr",
     "output_type": "stream",
     "text": [
      "\n",
      "  0%|          | 0/10 [00:00<?, ?it/s]\u001B[A\n",
      " 10%|█         | 1/10 [00:03<00:27,  3.01s/it]\u001B[A\n",
      " 20%|██        | 2/10 [00:06<00:24,  3.02s/it]\u001B[A\n",
      " 30%|███       | 3/10 [00:09<00:21,  3.02s/it]\u001B[A\n",
      " 40%|████      | 4/10 [00:12<00:18,  3.02s/it]\u001B[A\n",
      " 50%|█████     | 5/10 [00:15<00:15,  3.02s/it]\u001B[A\n",
      " 60%|██████    | 6/10 [00:18<00:12,  3.02s/it]\u001B[A\n",
      " 70%|███████   | 7/10 [00:21<00:09,  3.02s/it]\u001B[A\n",
      " 80%|████████  | 8/10 [00:24<00:06,  3.02s/it]\u001B[A\n",
      " 90%|█████████ | 9/10 [00:27<00:03,  3.02s/it]\u001B[A\n",
      "100%|██████████| 10/10 [00:30<00:00,  3.02s/it]\u001B[A\n",
      " 26%|██▌       | 21/82 [43:54<2:03:18, 121.29s/it]"
     ]
    },
    {
     "name": "stdout",
     "output_type": "stream",
     "text": [
      "https://lenta.ru/rubrics/sport/football/4\n"
     ]
    },
    {
     "name": "stderr",
     "output_type": "stream",
     "text": [
      "\n",
      "  0%|          | 0/10 [00:00<?, ?it/s]\u001B[A\n",
      " 10%|█         | 1/10 [00:03<00:27,  3.01s/it]\u001B[A\n",
      " 20%|██        | 2/10 [00:06<00:24,  3.02s/it]\u001B[A\n",
      " 30%|███       | 3/10 [00:09<00:21,  3.02s/it]\u001B[A\n",
      " 40%|████      | 4/10 [00:12<00:18,  3.02s/it]\u001B[A\n",
      " 50%|█████     | 5/10 [00:15<00:15,  3.02s/it]\u001B[A\n",
      " 60%|██████    | 6/10 [00:18<00:12,  3.02s/it]\u001B[A\n",
      " 70%|███████   | 7/10 [00:21<00:09,  3.02s/it]\u001B[A\n",
      " 80%|████████  | 8/10 [00:24<00:06,  3.02s/it]\u001B[A\n",
      " 90%|█████████ | 9/10 [00:27<00:03,  3.02s/it]\u001B[A\n",
      "100%|██████████| 10/10 [00:30<00:00,  3.02s/it]\u001B[A\n",
      "                                               \u001B[A"
     ]
    },
    {
     "name": "stdout",
     "output_type": "stream",
     "text": [
      "https://lenta.ru/rubrics/sport/football/6\n"
     ]
    },
    {
     "name": "stderr",
     "output_type": "stream",
     "text": [
      "\n",
      "  0%|          | 0/10 [00:00<?, ?it/s]\u001B[A\n",
      " 10%|█         | 1/10 [00:03<00:27,  3.02s/it]\u001B[A\n",
      " 20%|██        | 2/10 [00:06<00:24,  3.02s/it]\u001B[A\n",
      " 30%|███       | 3/10 [00:09<00:21,  3.02s/it]\u001B[A\n",
      " 40%|████      | 4/10 [00:12<00:18,  3.02s/it]\u001B[A\n",
      " 50%|█████     | 5/10 [00:15<00:15,  3.02s/it]\u001B[A\n",
      " 60%|██████    | 6/10 [00:18<00:12,  3.02s/it]\u001B[A\n",
      " 70%|███████   | 7/10 [00:21<00:09,  3.02s/it]\u001B[A\n",
      " 80%|████████  | 8/10 [00:24<00:06,  3.02s/it]\u001B[A\n",
      " 90%|█████████ | 9/10 [00:27<00:03,  3.02s/it]\u001B[A\n",
      "100%|██████████| 10/10 [00:30<00:00,  3.02s/it]\u001B[A\n",
      "                                               \u001B[A"
     ]
    },
    {
     "name": "stdout",
     "output_type": "stream",
     "text": [
      "https://lenta.ru/rubrics/sport/football/8\n"
     ]
    },
    {
     "name": "stderr",
     "output_type": "stream",
     "text": [
      "\n",
      "  0%|          | 0/10 [00:00<?, ?it/s]\u001B[A\n",
      " 10%|█         | 1/10 [00:03<00:27,  3.01s/it]\u001B[A\n",
      " 20%|██        | 2/10 [00:06<00:24,  3.02s/it]\u001B[A\n",
      " 30%|███       | 3/10 [00:09<00:21,  3.01s/it]\u001B[A\n",
      " 40%|████      | 4/10 [00:12<00:18,  3.02s/it]\u001B[A\n",
      " 50%|█████     | 5/10 [00:15<00:15,  3.02s/it]\u001B[A\n",
      " 60%|██████    | 6/10 [00:18<00:12,  3.02s/it]\u001B[A\n",
      " 70%|███████   | 7/10 [00:21<00:09,  3.02s/it]\u001B[A\n",
      " 80%|████████  | 8/10 [00:24<00:06,  3.02s/it]\u001B[A\n",
      " 90%|█████████ | 9/10 [00:27<00:03,  3.02s/it]\u001B[A\n",
      "100%|██████████| 10/10 [00:30<00:00,  3.02s/it]\u001B[A\n",
      " 27%|██▋       | 22/82 [45:55<2:01:14, 121.25s/it]"
     ]
    },
    {
     "name": "stdout",
     "output_type": "stream",
     "text": [
      "https://lenta.ru/rubrics/sport/boxing/4\n"
     ]
    },
    {
     "name": "stderr",
     "output_type": "stream",
     "text": [
      "\n",
      "  0%|          | 0/10 [00:00<?, ?it/s]\u001B[A\n",
      " 10%|█         | 1/10 [00:03<00:27,  3.03s/it]\u001B[A\n",
      " 20%|██        | 2/10 [00:06<00:24,  3.02s/it]\u001B[A\n",
      " 30%|███       | 3/10 [00:09<00:21,  3.02s/it]\u001B[A\n",
      " 40%|████      | 4/10 [00:12<00:18,  3.02s/it]\u001B[A\n",
      " 50%|█████     | 5/10 [00:15<00:15,  3.02s/it]\u001B[A\n",
      " 60%|██████    | 6/10 [00:18<00:12,  3.02s/it]\u001B[A\n",
      " 70%|███████   | 7/10 [00:21<00:09,  3.02s/it]\u001B[A\n",
      " 80%|████████  | 8/10 [00:24<00:06,  3.02s/it]\u001B[A\n",
      " 90%|█████████ | 9/10 [00:27<00:03,  3.02s/it]\u001B[A\n",
      "100%|██████████| 10/10 [00:30<00:00,  3.02s/it]\u001B[A\n",
      "                                               \u001B[A"
     ]
    },
    {
     "name": "stdout",
     "output_type": "stream",
     "text": [
      "https://lenta.ru/rubrics/sport/boxing/6\n"
     ]
    },
    {
     "name": "stderr",
     "output_type": "stream",
     "text": [
      "\n",
      "  0%|          | 0/10 [00:00<?, ?it/s]\u001B[A\n",
      " 10%|█         | 1/10 [00:03<00:27,  3.03s/it]\u001B[A\n",
      " 20%|██        | 2/10 [00:06<00:24,  3.02s/it]\u001B[A\n",
      " 30%|███       | 3/10 [00:09<00:21,  3.02s/it]\u001B[A\n",
      " 40%|████      | 4/10 [00:12<00:18,  3.02s/it]\u001B[A\n",
      " 50%|█████     | 5/10 [00:15<00:15,  3.02s/it]\u001B[A\n",
      " 60%|██████    | 6/10 [00:18<00:12,  3.02s/it]\u001B[A\n",
      " 70%|███████   | 7/10 [00:21<00:09,  3.02s/it]\u001B[A\n",
      " 80%|████████  | 8/10 [00:24<00:06,  3.02s/it]\u001B[A\n",
      " 90%|█████████ | 9/10 [00:27<00:03,  3.02s/it]\u001B[A\n",
      "100%|██████████| 10/10 [00:30<00:00,  3.02s/it]\u001B[A\n",
      "                                               \u001B[A"
     ]
    },
    {
     "name": "stdout",
     "output_type": "stream",
     "text": [
      "https://lenta.ru/rubrics/sport/boxing/8\n"
     ]
    },
    {
     "name": "stderr",
     "output_type": "stream",
     "text": [
      "\n",
      "  0%|          | 0/10 [00:00<?, ?it/s]\u001B[A\n",
      " 10%|█         | 1/10 [00:03<00:27,  3.03s/it]\u001B[A\n",
      " 20%|██        | 2/10 [00:06<00:24,  3.03s/it]\u001B[A\n",
      " 30%|███       | 3/10 [00:09<00:21,  3.02s/it]\u001B[A\n",
      " 40%|████      | 4/10 [00:12<00:18,  3.02s/it]\u001B[A\n",
      " 50%|█████     | 5/10 [00:15<00:15,  3.02s/it]\u001B[A\n",
      " 60%|██████    | 6/10 [00:18<00:12,  3.02s/it]\u001B[A\n",
      " 70%|███████   | 7/10 [00:21<00:09,  3.02s/it]\u001B[A\n",
      " 80%|████████  | 8/10 [00:24<00:06,  3.02s/it]\u001B[A\n",
      " 90%|█████████ | 9/10 [00:27<00:03,  3.02s/it]\u001B[A\n",
      "100%|██████████| 10/10 [00:30<00:00,  3.02s/it]\u001B[A\n",
      " 28%|██▊       | 23/82 [47:57<1:59:19, 121.34s/it]"
     ]
    },
    {
     "name": "stdout",
     "output_type": "stream",
     "text": [
      "https://lenta.ru/rubrics/sport/winter/4\n"
     ]
    },
    {
     "name": "stderr",
     "output_type": "stream",
     "text": [
      "\n",
      "  0%|          | 0/10 [00:00<?, ?it/s]\u001B[A\n",
      " 10%|█         | 1/10 [00:03<00:27,  3.02s/it]\u001B[A\n",
      " 20%|██        | 2/10 [00:06<00:24,  3.02s/it]\u001B[A\n",
      " 30%|███       | 3/10 [00:09<00:21,  3.02s/it]\u001B[A\n",
      " 40%|████      | 4/10 [00:12<00:18,  3.02s/it]\u001B[A\n",
      " 50%|█████     | 5/10 [00:15<00:15,  3.02s/it]\u001B[A\n",
      " 60%|██████    | 6/10 [00:18<00:12,  3.02s/it]\u001B[A\n",
      " 70%|███████   | 7/10 [00:21<00:09,  3.02s/it]\u001B[A\n",
      " 80%|████████  | 8/10 [00:24<00:06,  3.02s/it]\u001B[A\n",
      " 90%|█████████ | 9/10 [00:27<00:03,  3.02s/it]\u001B[A\n",
      "100%|██████████| 10/10 [00:30<00:00,  3.02s/it]\u001B[A\n",
      "                                               \u001B[A"
     ]
    },
    {
     "name": "stdout",
     "output_type": "stream",
     "text": [
      "https://lenta.ru/rubrics/sport/winter/6\n"
     ]
    },
    {
     "name": "stderr",
     "output_type": "stream",
     "text": [
      "\n",
      "  0%|          | 0/10 [00:00<?, ?it/s]\u001B[A\n",
      " 10%|█         | 1/10 [00:03<00:27,  3.02s/it]\u001B[A\n",
      " 20%|██        | 2/10 [00:06<00:24,  3.01s/it]\u001B[A\n",
      " 30%|███       | 3/10 [00:09<00:21,  3.01s/it]\u001B[A\n",
      " 40%|████      | 4/10 [00:12<00:18,  3.02s/it]\u001B[A\n",
      " 50%|█████     | 5/10 [00:15<00:15,  3.02s/it]\u001B[A\n",
      " 60%|██████    | 6/10 [00:18<00:12,  3.02s/it]\u001B[A\n",
      " 70%|███████   | 7/10 [00:21<00:09,  3.02s/it]\u001B[A\n",
      " 80%|████████  | 8/10 [00:24<00:06,  3.02s/it]\u001B[A\n",
      " 90%|█████████ | 9/10 [00:27<00:03,  3.02s/it]\u001B[A\n",
      "100%|██████████| 10/10 [00:30<00:00,  3.02s/it]\u001B[A\n",
      "                                               \u001B[A"
     ]
    },
    {
     "name": "stdout",
     "output_type": "stream",
     "text": [
      "https://lenta.ru/rubrics/sport/winter/8\n"
     ]
    },
    {
     "name": "stderr",
     "output_type": "stream",
     "text": [
      "\n",
      "  0%|          | 0/10 [00:00<?, ?it/s]\u001B[A\n",
      " 10%|█         | 1/10 [00:03<00:27,  3.02s/it]\u001B[A\n",
      " 20%|██        | 2/10 [00:06<00:24,  3.02s/it]\u001B[A\n",
      " 30%|███       | 3/10 [00:09<00:21,  3.02s/it]\u001B[A\n",
      " 40%|████      | 4/10 [00:12<00:18,  3.02s/it]\u001B[A\n",
      " 50%|█████     | 5/10 [00:15<00:15,  3.02s/it]\u001B[A\n",
      " 60%|██████    | 6/10 [00:18<00:12,  3.02s/it]\u001B[A\n",
      " 70%|███████   | 7/10 [00:21<00:09,  3.02s/it]\u001B[A\n",
      " 80%|████████  | 8/10 [00:24<00:06,  3.02s/it]\u001B[A\n",
      " 90%|█████████ | 9/10 [00:27<00:03,  3.02s/it]\u001B[A\n",
      "100%|██████████| 10/10 [00:30<00:00,  3.02s/it]\u001B[A\n",
      " 29%|██▉       | 24/82 [49:59<1:57:28, 121.52s/it]"
     ]
    },
    {
     "name": "stdout",
     "output_type": "stream",
     "text": [
      "https://lenta.ru/rubrics/sport/other/4\n"
     ]
    },
    {
     "name": "stderr",
     "output_type": "stream",
     "text": [
      "\n",
      "  0%|          | 0/10 [00:00<?, ?it/s]\u001B[A\n",
      " 10%|█         | 1/10 [00:03<00:27,  3.01s/it]\u001B[A\n",
      " 20%|██        | 2/10 [00:06<00:24,  3.01s/it]\u001B[A\n",
      " 30%|███       | 3/10 [00:09<00:21,  3.02s/it]\u001B[A\n",
      " 40%|████      | 4/10 [00:12<00:18,  3.02s/it]\u001B[A\n",
      " 50%|█████     | 5/10 [00:15<00:15,  3.02s/it]\u001B[A\n",
      " 60%|██████    | 6/10 [00:18<00:12,  3.02s/it]\u001B[A\n",
      " 70%|███████   | 7/10 [00:21<00:09,  3.02s/it]\u001B[A\n",
      " 80%|████████  | 8/10 [00:24<00:06,  3.02s/it]\u001B[A\n",
      " 90%|█████████ | 9/10 [00:27<00:03,  3.02s/it]\u001B[A\n",
      "100%|██████████| 10/10 [00:30<00:00,  3.02s/it]\u001B[A\n",
      "                                               \u001B[A"
     ]
    },
    {
     "name": "stdout",
     "output_type": "stream",
     "text": [
      "https://lenta.ru/rubrics/sport/other/6\n"
     ]
    },
    {
     "name": "stderr",
     "output_type": "stream",
     "text": [
      "\n",
      "  0%|          | 0/10 [00:00<?, ?it/s]\u001B[A\n",
      " 10%|█         | 1/10 [00:03<00:27,  3.01s/it]\u001B[A\n",
      " 20%|██        | 2/10 [00:06<00:24,  3.01s/it]\u001B[A\n",
      " 30%|███       | 3/10 [00:09<00:21,  3.02s/it]\u001B[A\n",
      " 40%|████      | 4/10 [00:12<00:18,  3.02s/it]\u001B[A\n",
      " 50%|█████     | 5/10 [00:15<00:15,  3.02s/it]\u001B[A\n",
      " 60%|██████    | 6/10 [00:18<00:12,  3.02s/it]\u001B[A\n",
      " 70%|███████   | 7/10 [00:21<00:09,  3.02s/it]\u001B[A\n",
      " 80%|████████  | 8/10 [00:24<00:06,  3.02s/it]\u001B[A\n",
      " 90%|█████████ | 9/10 [00:27<00:03,  3.02s/it]\u001B[A\n",
      "100%|██████████| 10/10 [00:30<00:00,  3.02s/it]\u001B[A\n",
      "                                               \u001B[A"
     ]
    },
    {
     "name": "stdout",
     "output_type": "stream",
     "text": [
      "https://lenta.ru/rubrics/sport/other/8\n"
     ]
    },
    {
     "name": "stderr",
     "output_type": "stream",
     "text": [
      "\n",
      "  0%|          | 0/10 [00:00<?, ?it/s]\u001B[A\n",
      " 10%|█         | 1/10 [00:03<00:27,  3.02s/it]\u001B[A\n",
      " 20%|██        | 2/10 [00:06<00:24,  3.02s/it]\u001B[A\n",
      " 30%|███       | 3/10 [00:09<00:21,  3.02s/it]\u001B[A\n",
      " 40%|████      | 4/10 [00:12<00:18,  3.02s/it]\u001B[A\n",
      " 50%|█████     | 5/10 [00:15<00:15,  3.02s/it]\u001B[A\n",
      " 60%|██████    | 6/10 [00:18<00:12,  3.02s/it]\u001B[A\n",
      " 70%|███████   | 7/10 [00:21<00:09,  3.02s/it]\u001B[A\n",
      " 80%|████████  | 8/10 [00:24<00:06,  3.02s/it]\u001B[A\n",
      " 90%|█████████ | 9/10 [00:27<00:03,  3.02s/it]\u001B[A\n",
      "100%|██████████| 10/10 [00:30<00:00,  3.02s/it]\u001B[A\n",
      " 30%|███       | 25/82 [52:01<1:55:34, 121.66s/it]"
     ]
    },
    {
     "name": "stdout",
     "output_type": "stream",
     "text": [
      "https://lenta.ru/rubrics/sport/hockey/4\n"
     ]
    },
    {
     "name": "stderr",
     "output_type": "stream",
     "text": [
      "\n",
      "  0%|          | 0/10 [00:00<?, ?it/s]\u001B[A\n",
      " 10%|█         | 1/10 [00:03<00:27,  3.01s/it]\u001B[A\n",
      " 20%|██        | 2/10 [00:06<00:24,  3.01s/it]\u001B[A\n",
      " 30%|███       | 3/10 [00:09<00:21,  3.01s/it]\u001B[A\n",
      " 40%|████      | 4/10 [00:12<00:18,  3.01s/it]\u001B[A\n",
      " 50%|█████     | 5/10 [00:15<00:15,  3.01s/it]\u001B[A\n",
      " 60%|██████    | 6/10 [00:18<00:12,  3.02s/it]\u001B[A\n",
      " 70%|███████   | 7/10 [00:21<00:09,  3.02s/it]\u001B[A\n",
      " 80%|████████  | 8/10 [00:24<00:06,  3.02s/it]\u001B[A\n",
      " 90%|█████████ | 9/10 [00:27<00:03,  3.02s/it]\u001B[A\n",
      "100%|██████████| 10/10 [00:30<00:00,  3.01s/it]\u001B[A\n",
      "                                               \u001B[A"
     ]
    },
    {
     "name": "stdout",
     "output_type": "stream",
     "text": [
      "https://lenta.ru/rubrics/sport/hockey/6\n"
     ]
    },
    {
     "name": "stderr",
     "output_type": "stream",
     "text": [
      "\n",
      "  0%|          | 0/10 [00:00<?, ?it/s]\u001B[A\n",
      " 10%|█         | 1/10 [00:03<00:27,  3.01s/it]\u001B[A\n",
      " 20%|██        | 2/10 [00:06<00:24,  3.01s/it]\u001B[A\n",
      " 30%|███       | 3/10 [00:09<00:21,  3.02s/it]\u001B[A\n",
      " 40%|████      | 4/10 [00:12<00:18,  3.02s/it]\u001B[A\n",
      " 50%|█████     | 5/10 [00:15<00:15,  3.02s/it]\u001B[A\n",
      " 60%|██████    | 6/10 [00:18<00:12,  3.02s/it]\u001B[A\n",
      " 70%|███████   | 7/10 [00:21<00:09,  3.02s/it]\u001B[A\n",
      " 80%|████████  | 8/10 [00:24<00:06,  3.02s/it]\u001B[A\n",
      " 90%|█████████ | 9/10 [00:27<00:03,  3.02s/it]\u001B[A\n",
      "100%|██████████| 10/10 [00:30<00:00,  3.02s/it]\u001B[A\n",
      "                                               \u001B[A"
     ]
    },
    {
     "name": "stdout",
     "output_type": "stream",
     "text": [
      "https://lenta.ru/rubrics/sport/hockey/8\n"
     ]
    },
    {
     "name": "stderr",
     "output_type": "stream",
     "text": [
      "\n",
      "  0%|          | 0/10 [00:00<?, ?it/s]\u001B[A\n",
      " 10%|█         | 1/10 [00:03<00:27,  3.03s/it]\u001B[A\n",
      " 20%|██        | 2/10 [00:06<00:24,  3.02s/it]\u001B[A\n",
      " 30%|███       | 3/10 [00:09<00:21,  3.02s/it]\u001B[A\n",
      " 40%|████      | 4/10 [00:12<00:18,  3.02s/it]\u001B[A\n",
      " 50%|█████     | 5/10 [00:15<00:15,  3.02s/it]\u001B[A\n",
      " 60%|██████    | 6/10 [00:18<00:12,  3.02s/it]\u001B[A\n",
      " 70%|███████   | 7/10 [00:21<00:09,  3.02s/it]\u001B[A\n",
      " 80%|████████  | 8/10 [00:24<00:06,  3.02s/it]\u001B[A\n",
      " 90%|█████████ | 9/10 [00:27<00:03,  3.02s/it]\u001B[A\n",
      "100%|██████████| 10/10 [00:30<00:00,  3.02s/it]\u001B[A\n",
      " 32%|███▏      | 26/82 [54:02<1:53:23, 121.50s/it]"
     ]
    },
    {
     "name": "stdout",
     "output_type": "stream",
     "text": [
      "https://lenta.ru/rubrics/sport/auto/4\n"
     ]
    },
    {
     "name": "stderr",
     "output_type": "stream",
     "text": [
      "\n",
      "  0%|          | 0/10 [00:00<?, ?it/s]\u001B[A\n",
      " 10%|█         | 1/10 [00:03<00:27,  3.01s/it]\u001B[A\n",
      " 20%|██        | 2/10 [00:06<00:24,  3.02s/it]\u001B[A\n",
      " 30%|███       | 3/10 [00:09<00:21,  3.02s/it]\u001B[A\n",
      " 40%|████      | 4/10 [00:12<00:18,  3.02s/it]\u001B[A\n",
      " 50%|█████     | 5/10 [00:15<00:15,  3.01s/it]\u001B[A\n",
      " 60%|██████    | 6/10 [00:18<00:12,  3.02s/it]\u001B[A\n",
      " 70%|███████   | 7/10 [00:21<00:09,  3.01s/it]\u001B[A\n",
      " 80%|████████  | 8/10 [00:24<00:06,  3.01s/it]\u001B[A\n",
      " 90%|█████████ | 9/10 [00:27<00:03,  3.02s/it]\u001B[A\n",
      "100%|██████████| 10/10 [00:30<00:00,  3.02s/it]\u001B[A\n",
      "                                               \u001B[A"
     ]
    },
    {
     "name": "stdout",
     "output_type": "stream",
     "text": [
      "https://lenta.ru/rubrics/sport/auto/6\n"
     ]
    },
    {
     "name": "stderr",
     "output_type": "stream",
     "text": [
      "\n",
      "  0%|          | 0/10 [00:00<?, ?it/s]\u001B[A\n",
      " 10%|█         | 1/10 [00:03<00:27,  3.01s/it]\u001B[A\n",
      " 20%|██        | 2/10 [00:06<00:24,  3.02s/it]\u001B[A\n",
      " 30%|███       | 3/10 [00:09<00:21,  3.02s/it]\u001B[A\n",
      " 40%|████      | 4/10 [00:12<00:18,  3.02s/it]\u001B[A\n",
      " 50%|█████     | 5/10 [00:15<00:15,  3.02s/it]\u001B[A\n",
      " 60%|██████    | 6/10 [00:18<00:12,  3.02s/it]\u001B[A\n",
      " 70%|███████   | 7/10 [00:21<00:09,  3.02s/it]\u001B[A\n",
      " 80%|████████  | 8/10 [00:24<00:06,  3.02s/it]\u001B[A\n",
      " 90%|█████████ | 9/10 [00:27<00:03,  3.02s/it]\u001B[A\n",
      "100%|██████████| 10/10 [00:30<00:00,  3.02s/it]\u001B[A\n",
      "                                               \u001B[A"
     ]
    },
    {
     "name": "stdout",
     "output_type": "stream",
     "text": [
      "https://lenta.ru/rubrics/sport/auto/8\n"
     ]
    },
    {
     "name": "stderr",
     "output_type": "stream",
     "text": [
      "\n",
      "  0%|          | 0/10 [00:00<?, ?it/s]\u001B[A\n",
      " 10%|█         | 1/10 [00:03<00:27,  3.02s/it]\u001B[A\n",
      " 20%|██        | 2/10 [00:06<00:24,  3.02s/it]\u001B[A\n",
      " 30%|███       | 3/10 [00:09<00:21,  3.02s/it]\u001B[A\n",
      " 40%|████      | 4/10 [00:12<00:18,  3.02s/it]\u001B[A\n",
      " 50%|█████     | 5/10 [00:15<00:15,  3.02s/it]\u001B[A\n",
      " 60%|██████    | 6/10 [00:18<00:12,  3.02s/it]\u001B[A\n",
      " 70%|███████   | 7/10 [00:21<00:09,  3.02s/it]\u001B[A\n",
      " 80%|████████  | 8/10 [00:24<00:06,  3.02s/it]\u001B[A\n",
      " 90%|█████████ | 9/10 [00:27<00:03,  3.02s/it]\u001B[A\n",
      "100%|██████████| 10/10 [00:30<00:00,  3.02s/it]\u001B[A\n",
      " 33%|███▎      | 27/82 [56:04<1:51:28, 121.61s/it]"
     ]
    },
    {
     "name": "stdout",
     "output_type": "stream",
     "text": [
      "https://lenta.ru/rubrics/sport/olympiad/4\n"
     ]
    },
    {
     "name": "stderr",
     "output_type": "stream",
     "text": [
      "\n",
      "  0%|          | 0/10 [00:00<?, ?it/s]\u001B[A\n",
      " 10%|█         | 1/10 [00:03<00:27,  3.01s/it]\u001B[A\n",
      " 20%|██        | 2/10 [00:06<00:24,  3.02s/it]\u001B[A\n",
      " 30%|███       | 3/10 [00:09<00:21,  3.02s/it]\u001B[A\n",
      " 40%|████      | 4/10 [00:12<00:18,  3.02s/it]\u001B[A\n",
      " 50%|█████     | 5/10 [00:15<00:15,  3.01s/it]\u001B[A\n",
      " 60%|██████    | 6/10 [00:18<00:12,  3.02s/it]\u001B[A\n",
      " 70%|███████   | 7/10 [00:21<00:09,  3.02s/it]\u001B[A\n",
      " 80%|████████  | 8/10 [00:24<00:06,  3.02s/it]\u001B[A\n",
      " 90%|█████████ | 9/10 [00:27<00:03,  3.02s/it]\u001B[A\n",
      "100%|██████████| 10/10 [00:30<00:00,  3.02s/it]\u001B[A\n",
      "                                               \u001B[A"
     ]
    },
    {
     "name": "stdout",
     "output_type": "stream",
     "text": [
      "https://lenta.ru/rubrics/sport/olympiad/6\n"
     ]
    },
    {
     "name": "stderr",
     "output_type": "stream",
     "text": [
      "\n",
      "  0%|          | 0/10 [00:00<?, ?it/s]\u001B[A\n",
      " 10%|█         | 1/10 [00:03<00:27,  3.02s/it]\u001B[A\n",
      " 20%|██        | 2/10 [00:06<00:24,  3.02s/it]\u001B[A\n",
      " 30%|███       | 3/10 [00:09<00:21,  3.02s/it]\u001B[A\n",
      " 40%|████      | 4/10 [00:12<00:18,  3.02s/it]\u001B[A\n",
      " 50%|█████     | 5/10 [00:15<00:15,  3.02s/it]\u001B[A\n",
      " 60%|██████    | 6/10 [00:18<00:12,  3.02s/it]\u001B[A\n",
      " 70%|███████   | 7/10 [00:21<00:09,  3.02s/it]\u001B[A\n",
      " 80%|████████  | 8/10 [00:24<00:06,  3.02s/it]\u001B[A\n",
      " 90%|█████████ | 9/10 [00:27<00:03,  3.02s/it]\u001B[A\n",
      "100%|██████████| 10/10 [00:30<00:00,  3.02s/it]\u001B[A\n",
      "                                               \u001B[A"
     ]
    },
    {
     "name": "stdout",
     "output_type": "stream",
     "text": [
      "https://lenta.ru/rubrics/sport/olympiad/8\n"
     ]
    },
    {
     "name": "stderr",
     "output_type": "stream",
     "text": [
      "\n",
      "  0%|          | 0/10 [00:00<?, ?it/s]\u001B[A\n",
      " 10%|█         | 1/10 [00:03<00:27,  3.02s/it]\u001B[A\n",
      " 20%|██        | 2/10 [00:06<00:24,  3.01s/it]\u001B[A\n",
      " 30%|███       | 3/10 [00:09<00:21,  3.02s/it]\u001B[A\n",
      " 40%|████      | 4/10 [00:12<00:18,  3.02s/it]\u001B[A\n",
      " 50%|█████     | 5/10 [00:15<00:15,  3.02s/it]\u001B[A\n",
      " 60%|██████    | 6/10 [00:18<00:12,  3.02s/it]\u001B[A\n",
      " 70%|███████   | 7/10 [00:21<00:09,  3.02s/it]\u001B[A\n",
      " 80%|████████  | 8/10 [00:24<00:06,  3.02s/it]\u001B[A\n",
      " 90%|█████████ | 9/10 [00:27<00:03,  3.02s/it]\u001B[A\n",
      "100%|██████████| 10/10 [00:30<00:00,  3.02s/it]\u001B[A\n",
      " 34%|███▍      | 28/82 [58:07<1:49:46, 121.97s/it]"
     ]
    },
    {
     "name": "stdout",
     "output_type": "stream",
     "text": [
      "https://lenta.ru/rubrics/sport/fitness/4\n"
     ]
    },
    {
     "name": "stderr",
     "output_type": "stream",
     "text": [
      "\n",
      "  0%|          | 0/10 [00:00<?, ?it/s]\u001B[A\n",
      " 10%|█         | 1/10 [00:03<00:27,  3.01s/it]\u001B[A\n",
      " 20%|██        | 2/10 [00:06<00:24,  3.01s/it]\u001B[A\n",
      " 30%|███       | 3/10 [00:09<00:21,  3.01s/it]\u001B[A\n",
      " 40%|████      | 4/10 [00:12<00:18,  3.02s/it]\u001B[A\n",
      " 50%|█████     | 5/10 [00:15<00:15,  3.02s/it]\u001B[A\n",
      " 60%|██████    | 6/10 [00:18<00:12,  3.02s/it]\u001B[A\n",
      " 70%|███████   | 7/10 [00:21<00:09,  3.01s/it]\u001B[A\n",
      " 80%|████████  | 8/10 [00:24<00:06,  3.02s/it]\u001B[A\n",
      " 90%|█████████ | 9/10 [00:27<00:03,  3.02s/it]\u001B[A\n",
      "100%|██████████| 10/10 [00:30<00:00,  3.02s/it]\u001B[A\n",
      "                                               \u001B[A"
     ]
    },
    {
     "name": "stdout",
     "output_type": "stream",
     "text": [
      "https://lenta.ru/rubrics/sport/fitness/6\n"
     ]
    },
    {
     "name": "stderr",
     "output_type": "stream",
     "text": [
      "\n",
      "  0%|          | 0/10 [00:00<?, ?it/s]\u001B[A\n",
      " 10%|█         | 1/10 [00:03<00:27,  3.03s/it]\u001B[A\n",
      " 20%|██        | 2/10 [00:06<00:24,  3.02s/it]\u001B[A\n",
      " 30%|███       | 3/10 [00:09<00:21,  3.02s/it]\u001B[A\n",
      " 40%|████      | 4/10 [00:12<00:18,  3.02s/it]\u001B[A\n",
      " 50%|█████     | 5/10 [00:15<00:15,  3.02s/it]\u001B[A\n",
      " 60%|██████    | 6/10 [00:18<00:12,  3.02s/it]\u001B[A\n",
      " 70%|███████   | 7/10 [00:21<00:09,  3.02s/it]\u001B[A\n",
      " 80%|████████  | 8/10 [00:24<00:06,  3.02s/it]\u001B[A\n",
      " 90%|█████████ | 9/10 [00:27<00:03,  3.02s/it]\u001B[A\n",
      "100%|██████████| 10/10 [00:30<00:00,  3.02s/it]\u001B[A\n",
      "                                               \u001B[A"
     ]
    },
    {
     "name": "stdout",
     "output_type": "stream",
     "text": [
      "https://lenta.ru/rubrics/sport/fitness/8\n"
     ]
    },
    {
     "name": "stderr",
     "output_type": "stream",
     "text": [
      "\n",
      "  0%|          | 0/10 [00:00<?, ?it/s]\u001B[A\n",
      " 10%|█         | 1/10 [00:03<00:27,  3.02s/it]\u001B[A\n",
      " 20%|██        | 2/10 [00:06<00:24,  3.02s/it]\u001B[A\n",
      " 30%|███       | 3/10 [00:09<00:21,  3.02s/it]\u001B[A\n",
      " 40%|████      | 4/10 [00:12<00:18,  3.02s/it]\u001B[A\n",
      " 50%|█████     | 5/10 [00:15<00:15,  3.02s/it]\u001B[A\n",
      " 60%|██████    | 6/10 [00:18<00:12,  3.02s/it]\u001B[A\n",
      " 70%|███████   | 7/10 [00:21<00:09,  3.02s/it]\u001B[A\n",
      " 80%|████████  | 8/10 [00:24<00:06,  3.02s/it]\u001B[A\n",
      " 90%|█████████ | 9/10 [00:27<00:03,  3.02s/it]\u001B[A\n",
      "100%|██████████| 10/10 [00:30<00:00,  3.01s/it]\u001B[A\n",
      " 35%|███▌      | 29/82 [1:00:10<1:48:03, 122.33s/it]"
     ]
    },
    {
     "name": "stdout",
     "output_type": "stream",
     "text": [
      "https://lenta.ru/rubrics/culture/kino/4\n"
     ]
    },
    {
     "name": "stderr",
     "output_type": "stream",
     "text": [
      "\n",
      "  0%|          | 0/10 [00:00<?, ?it/s]\u001B[A\n",
      " 10%|█         | 1/10 [00:03<00:27,  3.01s/it]\u001B[A\n",
      " 20%|██        | 2/10 [00:06<00:24,  3.02s/it]\u001B[A\n",
      " 30%|███       | 3/10 [00:09<00:21,  3.02s/it]\u001B[A\n",
      " 40%|████      | 4/10 [00:12<00:18,  3.02s/it]\u001B[A\n",
      " 50%|█████     | 5/10 [00:15<00:15,  3.02s/it]\u001B[A\n",
      " 60%|██████    | 6/10 [00:18<00:12,  3.02s/it]\u001B[A\n",
      " 70%|███████   | 7/10 [00:21<00:09,  3.02s/it]\u001B[A\n",
      " 80%|████████  | 8/10 [00:24<00:06,  3.02s/it]\u001B[A\n",
      " 90%|█████████ | 9/10 [00:27<00:03,  3.02s/it]\u001B[A\n",
      "100%|██████████| 10/10 [00:30<00:00,  3.02s/it]\u001B[A\n",
      "                                               \u001B[A"
     ]
    },
    {
     "name": "stdout",
     "output_type": "stream",
     "text": [
      "https://lenta.ru/rubrics/culture/kino/6\n"
     ]
    },
    {
     "name": "stderr",
     "output_type": "stream",
     "text": [
      "\n",
      "  0%|          | 0/10 [00:00<?, ?it/s]\u001B[A\n",
      " 10%|█         | 1/10 [00:03<00:27,  3.01s/it]\u001B[A\n",
      " 20%|██        | 2/10 [00:06<00:24,  3.01s/it]\u001B[A\n",
      " 30%|███       | 3/10 [00:09<00:21,  3.02s/it]\u001B[A\n",
      " 40%|████      | 4/10 [00:12<00:18,  3.02s/it]\u001B[A\n",
      " 50%|█████     | 5/10 [00:15<00:15,  3.02s/it]\u001B[A\n",
      " 60%|██████    | 6/10 [00:18<00:12,  3.02s/it]\u001B[A\n",
      " 70%|███████   | 7/10 [00:21<00:09,  3.02s/it]\u001B[A\n",
      " 80%|████████  | 8/10 [00:24<00:06,  3.02s/it]\u001B[A\n",
      " 90%|█████████ | 9/10 [00:27<00:03,  3.02s/it]\u001B[A\n",
      "100%|██████████| 10/10 [00:30<00:00,  3.02s/it]\u001B[A\n",
      "                                               \u001B[A"
     ]
    },
    {
     "name": "stdout",
     "output_type": "stream",
     "text": [
      "https://lenta.ru/rubrics/culture/kino/8\n"
     ]
    },
    {
     "name": "stderr",
     "output_type": "stream",
     "text": [
      "\n",
      "  0%|          | 0/10 [00:00<?, ?it/s]\u001B[A\n",
      " 10%|█         | 1/10 [00:03<00:27,  3.01s/it]\u001B[A\n",
      " 20%|██        | 2/10 [00:06<00:24,  3.02s/it]\u001B[A\n",
      " 30%|███       | 3/10 [00:09<00:21,  3.02s/it]\u001B[A\n",
      " 40%|████      | 4/10 [00:12<00:18,  3.02s/it]\u001B[A\n",
      " 50%|█████     | 5/10 [00:15<00:15,  3.02s/it]\u001B[A\n",
      " 60%|██████    | 6/10 [00:18<00:12,  3.02s/it]\u001B[A\n",
      " 70%|███████   | 7/10 [00:21<00:09,  3.01s/it]\u001B[A\n",
      " 80%|████████  | 8/10 [00:24<00:06,  3.02s/it]\u001B[A\n",
      " 90%|█████████ | 9/10 [00:27<00:03,  3.02s/it]\u001B[A\n",
      "100%|██████████| 10/10 [00:30<00:00,  3.02s/it]\u001B[A\n",
      " 37%|███▋      | 30/82 [1:02:11<1:45:42, 121.97s/it]"
     ]
    },
    {
     "name": "stdout",
     "output_type": "stream",
     "text": [
      "https://lenta.ru/rubrics/culture/series/4\n"
     ]
    },
    {
     "name": "stderr",
     "output_type": "stream",
     "text": [
      "\n",
      "  0%|          | 0/10 [00:00<?, ?it/s]\u001B[A\n",
      " 10%|█         | 1/10 [00:03<00:27,  3.01s/it]\u001B[A\n",
      " 20%|██        | 2/10 [00:06<00:24,  3.02s/it]\u001B[A\n",
      " 30%|███       | 3/10 [00:09<00:21,  3.01s/it]\u001B[A\n",
      " 40%|████      | 4/10 [00:12<00:18,  3.02s/it]\u001B[A\n",
      " 50%|█████     | 5/10 [00:15<00:15,  3.02s/it]\u001B[A\n",
      " 60%|██████    | 6/10 [00:18<00:12,  3.02s/it]\u001B[A\n",
      " 70%|███████   | 7/10 [00:21<00:09,  3.02s/it]\u001B[A\n",
      " 80%|████████  | 8/10 [00:24<00:06,  3.02s/it]\u001B[A\n",
      " 90%|█████████ | 9/10 [00:27<00:03,  3.02s/it]\u001B[A\n",
      "100%|██████████| 10/10 [00:30<00:00,  3.02s/it]\u001B[A\n",
      "                                               \u001B[A"
     ]
    },
    {
     "name": "stdout",
     "output_type": "stream",
     "text": [
      "https://lenta.ru/rubrics/culture/series/6\n"
     ]
    },
    {
     "name": "stderr",
     "output_type": "stream",
     "text": [
      "\n",
      "  0%|          | 0/10 [00:00<?, ?it/s]\u001B[A\n",
      " 10%|█         | 1/10 [00:03<00:27,  3.02s/it]\u001B[A\n",
      " 20%|██        | 2/10 [00:06<00:24,  3.02s/it]\u001B[A\n",
      " 30%|███       | 3/10 [00:09<00:21,  3.02s/it]\u001B[A\n",
      " 40%|████      | 4/10 [00:12<00:18,  3.02s/it]\u001B[A\n",
      " 50%|█████     | 5/10 [00:15<00:15,  3.02s/it]\u001B[A\n",
      " 60%|██████    | 6/10 [00:18<00:12,  3.02s/it]\u001B[A\n",
      " 70%|███████   | 7/10 [00:21<00:09,  3.02s/it]\u001B[A\n",
      " 80%|████████  | 8/10 [00:24<00:06,  3.02s/it]\u001B[A\n",
      " 90%|█████████ | 9/10 [00:27<00:03,  3.02s/it]\u001B[A\n",
      "100%|██████████| 10/10 [00:30<00:00,  3.02s/it]\u001B[A\n",
      "                                               \u001B[A"
     ]
    },
    {
     "name": "stdout",
     "output_type": "stream",
     "text": [
      "https://lenta.ru/rubrics/culture/series/8\n"
     ]
    },
    {
     "name": "stderr",
     "output_type": "stream",
     "text": [
      "\n",
      "  0%|          | 0/10 [00:00<?, ?it/s]\u001B[A\n",
      " 10%|█         | 1/10 [00:03<00:27,  3.02s/it]\u001B[A\n",
      " 20%|██        | 2/10 [00:06<00:24,  3.02s/it]\u001B[A\n",
      " 30%|███       | 3/10 [00:09<00:21,  3.02s/it]\u001B[A\n",
      " 40%|████      | 4/10 [00:12<00:18,  3.02s/it]\u001B[A\n",
      " 50%|█████     | 5/10 [00:15<00:15,  3.02s/it]\u001B[A\n",
      " 60%|██████    | 6/10 [00:18<00:12,  3.02s/it]\u001B[A\n",
      " 70%|███████   | 7/10 [00:21<00:09,  3.02s/it]\u001B[A\n",
      " 80%|████████  | 8/10 [00:24<00:06,  3.02s/it]\u001B[A\n",
      " 90%|█████████ | 9/10 [00:27<00:03,  3.02s/it]\u001B[A\n",
      "100%|██████████| 10/10 [00:30<00:00,  3.02s/it]\u001B[A\n",
      " 38%|███▊      | 31/82 [1:04:14<1:43:49, 122.15s/it]"
     ]
    },
    {
     "name": "stdout",
     "output_type": "stream",
     "text": [
      "https://lenta.ru/rubrics/culture/music//4\n"
     ]
    },
    {
     "name": "stderr",
     "output_type": "stream",
     "text": [
      "\n",
      "  0%|          | 0/10 [00:00<?, ?it/s]\u001B[A\n",
      " 10%|█         | 1/10 [00:03<00:27,  3.02s/it]\u001B[A\n",
      " 20%|██        | 2/10 [00:06<00:24,  3.02s/it]\u001B[A\n",
      " 30%|███       | 3/10 [00:09<00:21,  3.02s/it]\u001B[A\n",
      " 40%|████      | 4/10 [00:12<00:18,  3.02s/it]\u001B[A\n",
      " 50%|█████     | 5/10 [00:15<00:15,  3.02s/it]\u001B[A\n",
      " 60%|██████    | 6/10 [00:18<00:12,  3.02s/it]\u001B[A\n",
      " 70%|███████   | 7/10 [00:21<00:09,  3.01s/it]\u001B[A\n",
      " 80%|████████  | 8/10 [00:24<00:06,  3.02s/it]\u001B[A\n",
      " 90%|█████████ | 9/10 [00:27<00:03,  3.02s/it]\u001B[A\n",
      "100%|██████████| 10/10 [00:30<00:00,  3.02s/it]\u001B[A\n",
      "                                               \u001B[A"
     ]
    },
    {
     "name": "stdout",
     "output_type": "stream",
     "text": [
      "https://lenta.ru/rubrics/culture/music//6\n"
     ]
    },
    {
     "name": "stderr",
     "output_type": "stream",
     "text": [
      "\n",
      "  0%|          | 0/10 [00:00<?, ?it/s]\u001B[A\n",
      " 10%|█         | 1/10 [00:03<00:27,  3.02s/it]\u001B[A\n",
      " 20%|██        | 2/10 [00:06<00:24,  3.02s/it]\u001B[A\n",
      " 30%|███       | 3/10 [00:09<00:21,  3.02s/it]\u001B[A\n",
      " 40%|████      | 4/10 [00:12<00:18,  3.02s/it]\u001B[A\n",
      " 50%|█████     | 5/10 [00:15<00:15,  3.02s/it]\u001B[A\n",
      " 60%|██████    | 6/10 [00:18<00:12,  3.02s/it]\u001B[A\n",
      " 70%|███████   | 7/10 [00:21<00:09,  3.02s/it]\u001B[A\n",
      " 80%|████████  | 8/10 [00:24<00:06,  3.02s/it]\u001B[A\n",
      " 90%|█████████ | 9/10 [00:27<00:03,  3.02s/it]\u001B[A\n",
      "100%|██████████| 10/10 [00:30<00:00,  3.02s/it]\u001B[A\n",
      "                                               \u001B[A"
     ]
    },
    {
     "name": "stdout",
     "output_type": "stream",
     "text": [
      "https://lenta.ru/rubrics/culture/music//8\n"
     ]
    },
    {
     "name": "stderr",
     "output_type": "stream",
     "text": [
      "\n",
      "  0%|          | 0/10 [00:00<?, ?it/s]\u001B[A\n",
      " 10%|█         | 1/10 [00:03<00:27,  3.01s/it]\u001B[A\n",
      " 20%|██        | 2/10 [00:06<00:24,  3.01s/it]\u001B[A\n",
      " 30%|███       | 3/10 [00:09<00:21,  3.01s/it]\u001B[A\n",
      " 40%|████      | 4/10 [00:12<00:18,  3.02s/it]\u001B[A\n",
      " 50%|█████     | 5/10 [00:15<00:15,  3.02s/it]\u001B[A\n",
      " 60%|██████    | 6/10 [00:18<00:12,  3.02s/it]\u001B[A\n",
      " 70%|███████   | 7/10 [00:21<00:09,  3.02s/it]\u001B[A\n",
      " 80%|████████  | 8/10 [00:24<00:06,  3.02s/it]\u001B[A\n",
      " 90%|█████████ | 9/10 [00:27<00:03,  3.02s/it]\u001B[A\n",
      "100%|██████████| 10/10 [00:30<00:00,  3.02s/it]\u001B[A\n",
      " 39%|███▉      | 32/82 [1:06:14<1:41:20, 121.61s/it]"
     ]
    },
    {
     "name": "stdout",
     "output_type": "stream",
     "text": [
      "https://lenta.ru/rubrics/culture/books//4\n"
     ]
    },
    {
     "name": "stderr",
     "output_type": "stream",
     "text": [
      "\n",
      "  0%|          | 0/10 [00:00<?, ?it/s]\u001B[A\n",
      " 10%|█         | 1/10 [00:03<00:27,  3.02s/it]\u001B[A\n",
      " 20%|██        | 2/10 [00:06<00:24,  3.02s/it]\u001B[A\n",
      " 30%|███       | 3/10 [00:09<00:21,  3.02s/it]\u001B[A\n",
      " 40%|████      | 4/10 [00:12<00:18,  3.02s/it]\u001B[A\n",
      " 50%|█████     | 5/10 [00:15<00:15,  3.01s/it]\u001B[A\n",
      " 60%|██████    | 6/10 [00:18<00:12,  3.02s/it]\u001B[A\n",
      " 70%|███████   | 7/10 [00:21<00:09,  3.02s/it]\u001B[A\n",
      " 80%|████████  | 8/10 [00:24<00:06,  3.02s/it]\u001B[A\n",
      " 90%|█████████ | 9/10 [00:27<00:03,  3.02s/it]\u001B[A\n",
      "100%|██████████| 10/10 [00:30<00:00,  3.02s/it]\u001B[A\n",
      "                                               \u001B[A"
     ]
    },
    {
     "name": "stdout",
     "output_type": "stream",
     "text": [
      "https://lenta.ru/rubrics/culture/books//6\n"
     ]
    },
    {
     "name": "stderr",
     "output_type": "stream",
     "text": [
      "\n",
      "  0%|          | 0/10 [00:00<?, ?it/s]\u001B[A\n",
      " 10%|█         | 1/10 [00:03<00:27,  3.02s/it]\u001B[A\n",
      " 20%|██        | 2/10 [00:06<00:24,  3.02s/it]\u001B[A\n",
      " 30%|███       | 3/10 [00:09<00:21,  3.02s/it]\u001B[A\n",
      " 40%|████      | 4/10 [00:12<00:18,  3.02s/it]\u001B[A\n",
      " 50%|█████     | 5/10 [00:15<00:15,  3.02s/it]\u001B[A\n",
      " 60%|██████    | 6/10 [00:18<00:12,  3.02s/it]\u001B[A\n",
      " 70%|███████   | 7/10 [00:21<00:09,  3.02s/it]\u001B[A\n",
      " 80%|████████  | 8/10 [00:24<00:06,  3.02s/it]\u001B[A\n",
      " 90%|█████████ | 9/10 [00:27<00:03,  3.02s/it]\u001B[A\n",
      "100%|██████████| 10/10 [00:30<00:00,  3.02s/it]\u001B[A\n",
      "                                               \u001B[A"
     ]
    },
    {
     "name": "stdout",
     "output_type": "stream",
     "text": [
      "https://lenta.ru/rubrics/culture/books//8\n"
     ]
    },
    {
     "name": "stderr",
     "output_type": "stream",
     "text": [
      "\n",
      "  0%|          | 0/10 [00:00<?, ?it/s]\u001B[A\n",
      " 10%|█         | 1/10 [00:03<00:27,  3.02s/it]\u001B[A\n",
      " 20%|██        | 2/10 [00:06<00:24,  3.02s/it]\u001B[A\n",
      " 30%|███       | 3/10 [00:09<00:21,  3.02s/it]\u001B[A\n",
      " 40%|████      | 4/10 [00:12<00:18,  3.02s/it]\u001B[A\n",
      " 50%|█████     | 5/10 [00:15<00:15,  3.02s/it]\u001B[A\n",
      " 60%|██████    | 6/10 [00:18<00:12,  3.02s/it]\u001B[A\n",
      " 70%|███████   | 7/10 [00:21<00:09,  3.02s/it]\u001B[A\n",
      " 80%|████████  | 8/10 [00:24<00:06,  3.02s/it]\u001B[A\n",
      " 90%|█████████ | 9/10 [00:27<00:03,  3.02s/it]\u001B[A\n",
      "100%|██████████| 10/10 [00:30<00:00,  3.02s/it]\u001B[A\n",
      " 40%|████      | 33/82 [1:08:16<1:39:22, 121.68s/it]"
     ]
    },
    {
     "name": "stdout",
     "output_type": "stream",
     "text": [
      "https://lenta.ru/rubrics/culture/art//4\n"
     ]
    },
    {
     "name": "stderr",
     "output_type": "stream",
     "text": [
      "\n",
      "  0%|          | 0/10 [00:00<?, ?it/s]\u001B[A\n",
      " 10%|█         | 1/10 [00:03<00:27,  3.02s/it]\u001B[A\n",
      " 20%|██        | 2/10 [00:06<00:24,  3.01s/it]\u001B[A\n",
      " 30%|███       | 3/10 [00:09<00:21,  3.02s/it]\u001B[A\n",
      " 40%|████      | 4/10 [00:12<00:18,  3.02s/it]\u001B[A\n",
      " 50%|█████     | 5/10 [00:15<00:15,  3.02s/it]\u001B[A\n",
      " 60%|██████    | 6/10 [00:18<00:12,  3.02s/it]\u001B[A\n",
      " 70%|███████   | 7/10 [00:21<00:09,  3.02s/it]\u001B[A\n",
      " 80%|████████  | 8/10 [00:24<00:06,  3.02s/it]\u001B[A\n",
      " 90%|█████████ | 9/10 [00:27<00:03,  3.02s/it]\u001B[A\n",
      "100%|██████████| 10/10 [00:30<00:00,  3.02s/it]\u001B[A\n",
      "                                               \u001B[A"
     ]
    },
    {
     "name": "stdout",
     "output_type": "stream",
     "text": [
      "https://lenta.ru/rubrics/culture/art//6\n"
     ]
    },
    {
     "name": "stderr",
     "output_type": "stream",
     "text": [
      "\n",
      "  0%|          | 0/10 [00:00<?, ?it/s]\u001B[A\n",
      " 10%|█         | 1/10 [00:03<00:27,  3.02s/it]\u001B[A\n",
      " 20%|██        | 2/10 [00:06<00:24,  3.02s/it]\u001B[A\n",
      " 30%|███       | 3/10 [00:09<00:21,  3.02s/it]\u001B[A\n",
      " 40%|████      | 4/10 [00:12<00:18,  3.02s/it]\u001B[A\n",
      " 50%|█████     | 5/10 [00:15<00:15,  3.02s/it]\u001B[A\n",
      " 60%|██████    | 6/10 [00:18<00:12,  3.02s/it]\u001B[A\n",
      " 70%|███████   | 7/10 [00:21<00:09,  3.02s/it]\u001B[A\n",
      " 80%|████████  | 8/10 [00:24<00:06,  3.02s/it]\u001B[A\n",
      " 90%|█████████ | 9/10 [00:27<00:03,  3.02s/it]\u001B[A\n",
      "100%|██████████| 10/10 [00:30<00:00,  3.02s/it]\u001B[A\n",
      "                                               \u001B[A"
     ]
    },
    {
     "name": "stdout",
     "output_type": "stream",
     "text": [
      "https://lenta.ru/rubrics/culture/art//8\n"
     ]
    },
    {
     "name": "stderr",
     "output_type": "stream",
     "text": [
      "\n",
      "  0%|          | 0/10 [00:00<?, ?it/s]\u001B[A\n",
      " 10%|█         | 1/10 [00:03<00:27,  3.01s/it]\u001B[A\n",
      " 20%|██        | 2/10 [00:06<00:24,  3.02s/it]\u001B[A\n",
      " 30%|███       | 3/10 [00:09<00:21,  3.02s/it]\u001B[A\n",
      " 40%|████      | 4/10 [00:12<00:18,  3.02s/it]\u001B[A\n",
      " 50%|█████     | 5/10 [00:15<00:15,  3.02s/it]\u001B[A\n",
      " 60%|██████    | 6/10 [00:18<00:12,  3.02s/it]\u001B[A\n",
      " 70%|███████   | 7/10 [00:21<00:09,  3.01s/it]\u001B[A\n",
      " 80%|████████  | 8/10 [00:24<00:06,  3.02s/it]\u001B[A\n",
      " 90%|█████████ | 9/10 [00:27<00:03,  3.02s/it]\u001B[A\n",
      "100%|██████████| 10/10 [00:30<00:00,  3.02s/it]\u001B[A\n",
      " 41%|████▏     | 34/82 [1:10:15<1:36:49, 121.04s/it]"
     ]
    },
    {
     "name": "stdout",
     "output_type": "stream",
     "text": [
      "https://lenta.ru/rubrics/culture/theatre/4\n"
     ]
    },
    {
     "name": "stderr",
     "output_type": "stream",
     "text": [
      "\n",
      "  0%|          | 0/10 [00:00<?, ?it/s]\u001B[A\n",
      " 10%|█         | 1/10 [00:03<00:27,  3.02s/it]\u001B[A\n",
      " 20%|██        | 2/10 [00:06<00:24,  3.02s/it]\u001B[A\n",
      " 30%|███       | 3/10 [00:09<00:21,  3.02s/it]\u001B[A\n",
      " 40%|████      | 4/10 [00:12<00:18,  3.02s/it]\u001B[A\n",
      " 50%|█████     | 5/10 [00:15<00:15,  3.02s/it]\u001B[A\n",
      " 60%|██████    | 6/10 [00:18<00:12,  3.02s/it]\u001B[A\n",
      " 70%|███████   | 7/10 [00:21<00:09,  3.02s/it]\u001B[A\n",
      " 80%|████████  | 8/10 [00:24<00:06,  3.02s/it]\u001B[A\n",
      " 90%|█████████ | 9/10 [00:27<00:03,  3.02s/it]\u001B[A\n",
      "100%|██████████| 10/10 [00:30<00:00,  3.02s/it]\u001B[A\n",
      "                                               \u001B[A"
     ]
    },
    {
     "name": "stdout",
     "output_type": "stream",
     "text": [
      "https://lenta.ru/rubrics/culture/theatre/6\n"
     ]
    },
    {
     "name": "stderr",
     "output_type": "stream",
     "text": [
      "\n",
      "  0%|          | 0/10 [00:00<?, ?it/s]\u001B[A\n",
      " 10%|█         | 1/10 [00:03<00:27,  3.01s/it]\u001B[A\n",
      " 20%|██        | 2/10 [00:06<00:24,  3.02s/it]\u001B[A\n",
      " 30%|███       | 3/10 [00:09<00:21,  3.02s/it]\u001B[A\n",
      " 40%|████      | 4/10 [00:12<00:18,  3.02s/it]\u001B[A\n",
      " 50%|█████     | 5/10 [00:15<00:15,  3.01s/it]\u001B[A\n",
      " 60%|██████    | 6/10 [00:18<00:12,  3.01s/it]\u001B[A\n",
      " 70%|███████   | 7/10 [00:21<00:09,  3.01s/it]\u001B[A\n",
      " 80%|████████  | 8/10 [00:24<00:06,  3.01s/it]\u001B[A\n",
      " 90%|█████████ | 9/10 [00:27<00:03,  3.01s/it]\u001B[A\n",
      "100%|██████████| 10/10 [00:30<00:00,  3.01s/it]\u001B[A\n",
      "                                               \u001B[A"
     ]
    },
    {
     "name": "stdout",
     "output_type": "stream",
     "text": [
      "https://lenta.ru/rubrics/culture/theatre/8\n"
     ]
    },
    {
     "name": "stderr",
     "output_type": "stream",
     "text": [
      "\n",
      "  0%|          | 0/10 [00:00<?, ?it/s]\u001B[A\n",
      " 10%|█         | 1/10 [00:03<00:27,  3.02s/it]\u001B[A\n",
      " 20%|██        | 2/10 [00:06<00:24,  3.01s/it]\u001B[A\n",
      " 30%|███       | 3/10 [00:09<00:21,  3.02s/it]\u001B[A\n",
      " 40%|████      | 4/10 [00:12<00:18,  3.02s/it]\u001B[A\n",
      " 50%|█████     | 5/10 [00:15<00:15,  3.02s/it]\u001B[A\n",
      " 60%|██████    | 6/10 [00:18<00:12,  3.02s/it]\u001B[A\n",
      " 70%|███████   | 7/10 [00:21<00:09,  3.02s/it]\u001B[A\n",
      " 80%|████████  | 8/10 [00:24<00:06,  3.02s/it]\u001B[A\n",
      " 90%|█████████ | 9/10 [00:27<00:03,  3.02s/it]\u001B[A\n",
      "100%|██████████| 10/10 [00:30<00:00,  3.02s/it]\u001B[A\n",
      " 43%|████▎     | 35/82 [1:12:16<1:34:50, 121.08s/it]"
     ]
    },
    {
     "name": "stdout",
     "output_type": "stream",
     "text": [
      "https://lenta.ru/rubrics/culture/photographic/4\n"
     ]
    },
    {
     "name": "stderr",
     "output_type": "stream",
     "text": [
      "\n",
      "  0%|          | 0/10 [00:00<?, ?it/s]\u001B[A\n",
      " 10%|█         | 1/10 [00:03<00:27,  3.02s/it]\u001B[A\n",
      " 20%|██        | 2/10 [00:06<00:24,  3.02s/it]\u001B[A\n",
      " 30%|███       | 3/10 [00:09<00:21,  3.02s/it]\u001B[A\n",
      " 40%|████      | 4/10 [00:12<00:18,  3.02s/it]\u001B[A\n",
      " 50%|█████     | 5/10 [00:15<00:15,  3.02s/it]\u001B[A\n",
      " 60%|██████    | 6/10 [00:18<00:12,  3.02s/it]\u001B[A\n",
      " 70%|███████   | 7/10 [00:21<00:09,  3.02s/it]\u001B[A\n",
      " 80%|████████  | 8/10 [00:24<00:06,  3.02s/it]\u001B[A\n",
      " 90%|█████████ | 9/10 [00:27<00:03,  3.02s/it]\u001B[A\n",
      "100%|██████████| 10/10 [00:30<00:00,  3.02s/it]\u001B[A\n",
      "                                               \u001B[A"
     ]
    },
    {
     "name": "stdout",
     "output_type": "stream",
     "text": [
      "https://lenta.ru/rubrics/culture/photographic/6\n"
     ]
    },
    {
     "name": "stderr",
     "output_type": "stream",
     "text": [
      " 44%|████▍     | 36/82 [1:13:05<1:16:07, 99.29s/it] "
     ]
    },
    {
     "name": "stdout",
     "output_type": "stream",
     "text": [
      "https://lenta.ru/rubrics/science/science/4\n"
     ]
    },
    {
     "name": "stderr",
     "output_type": "stream",
     "text": [
      "\n",
      "  0%|          | 0/10 [00:00<?, ?it/s]\u001B[A\n",
      " 10%|█         | 1/10 [00:03<00:27,  3.02s/it]\u001B[A\n",
      " 20%|██        | 2/10 [00:06<00:24,  3.02s/it]\u001B[A\n",
      " 30%|███       | 3/10 [00:09<00:21,  3.02s/it]\u001B[A\n",
      " 40%|████      | 4/10 [00:12<00:18,  3.02s/it]\u001B[A\n",
      " 50%|█████     | 5/10 [00:15<00:15,  3.02s/it]\u001B[A\n",
      " 60%|██████    | 6/10 [00:18<00:12,  3.02s/it]\u001B[A\n",
      " 70%|███████   | 7/10 [00:21<00:09,  3.02s/it]\u001B[A\n",
      " 80%|████████  | 8/10 [00:24<00:06,  3.02s/it]\u001B[A\n",
      " 90%|█████████ | 9/10 [00:27<00:03,  3.02s/it]\u001B[A\n",
      "100%|██████████| 10/10 [00:30<00:00,  3.02s/it]\u001B[A\n",
      "                                               \u001B[A"
     ]
    },
    {
     "name": "stdout",
     "output_type": "stream",
     "text": [
      "https://lenta.ru/rubrics/science/science/6\n"
     ]
    },
    {
     "name": "stderr",
     "output_type": "stream",
     "text": [
      "\n",
      "  0%|          | 0/10 [00:00<?, ?it/s]\u001B[A\n",
      " 10%|█         | 1/10 [00:03<00:27,  3.01s/it]\u001B[A\n",
      " 20%|██        | 2/10 [00:06<00:24,  3.01s/it]\u001B[A\n",
      " 30%|███       | 3/10 [00:09<00:21,  3.02s/it]\u001B[A\n",
      " 40%|████      | 4/10 [00:12<00:18,  3.02s/it]\u001B[A\n",
      " 50%|█████     | 5/10 [00:15<00:15,  3.02s/it]\u001B[A\n",
      " 60%|██████    | 6/10 [00:18<00:12,  3.02s/it]\u001B[A\n",
      " 70%|███████   | 7/10 [00:21<00:09,  3.02s/it]\u001B[A\n",
      " 80%|████████  | 8/10 [00:24<00:06,  3.02s/it]\u001B[A\n",
      " 90%|█████████ | 9/10 [00:27<00:03,  3.02s/it]\u001B[A\n",
      "100%|██████████| 10/10 [00:30<00:00,  3.02s/it]\u001B[A\n",
      "                                               \u001B[A"
     ]
    },
    {
     "name": "stdout",
     "output_type": "stream",
     "text": [
      "https://lenta.ru/rubrics/science/science/8\n"
     ]
    },
    {
     "name": "stderr",
     "output_type": "stream",
     "text": [
      "\n",
      "  0%|          | 0/10 [00:00<?, ?it/s]\u001B[A\n",
      " 10%|█         | 1/10 [00:03<00:27,  3.01s/it]\u001B[A\n",
      " 20%|██        | 2/10 [00:06<00:24,  3.01s/it]\u001B[A\n",
      " 30%|███       | 3/10 [00:09<00:21,  3.02s/it]\u001B[A\n",
      " 40%|████      | 4/10 [00:12<00:18,  3.02s/it]\u001B[A\n",
      " 50%|█████     | 5/10 [00:15<00:15,  3.02s/it]\u001B[A\n",
      " 60%|██████    | 6/10 [00:18<00:12,  3.02s/it]\u001B[A\n",
      " 70%|███████   | 7/10 [00:21<00:09,  3.02s/it]\u001B[A\n",
      " 80%|████████  | 8/10 [00:24<00:06,  3.02s/it]\u001B[A\n",
      " 90%|█████████ | 9/10 [00:27<00:03,  3.02s/it]\u001B[A\n",
      "100%|██████████| 10/10 [00:30<00:00,  3.02s/it]\u001B[A\n",
      " 45%|████▌     | 37/82 [1:15:05<1:19:10, 105.57s/it]"
     ]
    },
    {
     "name": "stdout",
     "output_type": "stream",
     "text": [
      "https://lenta.ru/rubrics/science/inrussia/4\n"
     ]
    },
    {
     "name": "stderr",
     "output_type": "stream",
     "text": [
      "\n",
      "  0%|          | 0/10 [00:00<?, ?it/s]\u001B[A\n",
      " 10%|█         | 1/10 [00:03<00:27,  3.02s/it]\u001B[A\n",
      " 20%|██        | 2/10 [00:06<00:24,  3.02s/it]\u001B[A\n",
      " 30%|███       | 3/10 [00:09<00:21,  3.01s/it]\u001B[A\n",
      " 40%|████      | 4/10 [00:12<00:18,  3.02s/it]\u001B[A\n",
      " 50%|█████     | 5/10 [00:15<00:15,  3.02s/it]\u001B[A\n",
      " 60%|██████    | 6/10 [00:18<00:12,  3.02s/it]\u001B[A\n",
      " 70%|███████   | 7/10 [00:21<00:09,  3.02s/it]\u001B[A\n",
      " 80%|████████  | 8/10 [00:24<00:06,  3.02s/it]\u001B[A\n",
      " 90%|█████████ | 9/10 [00:27<00:03,  3.02s/it]\u001B[A\n",
      "100%|██████████| 10/10 [00:30<00:00,  3.02s/it]\u001B[A\n",
      "                                               \u001B[A"
     ]
    },
    {
     "name": "stdout",
     "output_type": "stream",
     "text": [
      "https://lenta.ru/rubrics/science/inrussia/6\n"
     ]
    },
    {
     "name": "stderr",
     "output_type": "stream",
     "text": [
      "\n",
      "  0%|          | 0/10 [00:00<?, ?it/s]\u001B[A\n",
      " 10%|█         | 1/10 [00:03<00:27,  3.01s/it]\u001B[A\n",
      " 20%|██        | 2/10 [00:06<00:24,  3.02s/it]\u001B[A\n",
      " 30%|███       | 3/10 [00:09<00:21,  3.02s/it]\u001B[A\n",
      " 40%|████      | 4/10 [00:12<00:18,  3.02s/it]\u001B[A\n",
      " 50%|█████     | 5/10 [00:15<00:15,  3.02s/it]\u001B[A\n",
      " 60%|██████    | 6/10 [00:18<00:12,  3.02s/it]\u001B[A\n",
      " 70%|███████   | 7/10 [00:21<00:09,  3.02s/it]\u001B[A\n",
      " 80%|████████  | 8/10 [00:24<00:06,  3.02s/it]\u001B[A\n",
      " 90%|█████████ | 9/10 [00:27<00:03,  3.02s/it]\u001B[A\n",
      "100%|██████████| 10/10 [00:30<00:00,  3.02s/it]\u001B[A\n",
      "                                               \u001B[A"
     ]
    },
    {
     "name": "stdout",
     "output_type": "stream",
     "text": [
      "https://lenta.ru/rubrics/science/inrussia/8\n"
     ]
    },
    {
     "name": "stderr",
     "output_type": "stream",
     "text": [
      "\n",
      "  0%|          | 0/10 [00:00<?, ?it/s]\u001B[A\n",
      " 10%|█         | 1/10 [00:03<00:27,  3.01s/it]\u001B[A\n",
      " 20%|██        | 2/10 [00:06<00:24,  3.02s/it]\u001B[A\n",
      " 30%|███       | 3/10 [00:09<00:21,  3.02s/it]\u001B[A\n",
      " 40%|████      | 4/10 [00:12<00:18,  3.02s/it]\u001B[A\n",
      " 50%|█████     | 5/10 [00:15<00:15,  3.02s/it]\u001B[A\n",
      " 60%|██████    | 6/10 [00:18<00:12,  3.02s/it]\u001B[A\n",
      " 70%|███████   | 7/10 [00:21<00:09,  3.02s/it]\u001B[A\n",
      " 80%|████████  | 8/10 [00:24<00:06,  3.01s/it]\u001B[A\n",
      " 90%|█████████ | 9/10 [00:27<00:03,  3.02s/it]\u001B[A\n",
      "100%|██████████| 10/10 [00:30<00:00,  3.02s/it]\u001B[A\n",
      " 46%|████▋     | 38/82 [1:17:06<1:20:47, 110.16s/it]"
     ]
    },
    {
     "name": "stdout",
     "output_type": "stream",
     "text": [
      "https://lenta.ru/rubrics/science/cosmos/4\n"
     ]
    },
    {
     "name": "stderr",
     "output_type": "stream",
     "text": [
      "\n",
      "  0%|          | 0/10 [00:00<?, ?it/s]\u001B[A\n",
      " 10%|█         | 1/10 [00:03<00:27,  3.02s/it]\u001B[A\n",
      " 20%|██        | 2/10 [00:06<00:24,  3.02s/it]\u001B[A\n",
      " 30%|███       | 3/10 [00:09<00:21,  3.02s/it]\u001B[A\n",
      " 40%|████      | 4/10 [00:12<00:18,  3.02s/it]\u001B[A\n",
      " 50%|█████     | 5/10 [00:15<00:15,  3.02s/it]\u001B[A\n",
      " 60%|██████    | 6/10 [00:18<00:12,  3.02s/it]\u001B[A\n",
      " 70%|███████   | 7/10 [00:21<00:09,  3.02s/it]\u001B[A\n",
      " 80%|████████  | 8/10 [00:24<00:06,  3.02s/it]\u001B[A\n",
      " 90%|█████████ | 9/10 [00:27<00:03,  3.02s/it]\u001B[A\n",
      "100%|██████████| 10/10 [00:30<00:00,  3.02s/it]\u001B[A\n",
      "                                               \u001B[A"
     ]
    },
    {
     "name": "stdout",
     "output_type": "stream",
     "text": [
      "https://lenta.ru/rubrics/science/cosmos/6\n"
     ]
    },
    {
     "name": "stderr",
     "output_type": "stream",
     "text": [
      "\n",
      "  0%|          | 0/10 [00:00<?, ?it/s]\u001B[A\n",
      " 10%|█         | 1/10 [00:03<00:27,  3.02s/it]\u001B[A\n",
      " 20%|██        | 2/10 [00:06<00:24,  3.02s/it]\u001B[A\n",
      " 30%|███       | 3/10 [00:09<00:21,  3.02s/it]\u001B[A\n",
      " 40%|████      | 4/10 [00:12<00:18,  3.02s/it]\u001B[A\n",
      " 50%|█████     | 5/10 [00:15<00:15,  3.02s/it]\u001B[A\n",
      " 60%|██████    | 6/10 [00:18<00:12,  3.02s/it]\u001B[A\n",
      " 70%|███████   | 7/10 [00:21<00:09,  3.02s/it]\u001B[A\n",
      " 80%|████████  | 8/10 [00:24<00:06,  3.02s/it]\u001B[A\n",
      " 90%|█████████ | 9/10 [00:27<00:03,  3.02s/it]\u001B[A\n",
      "100%|██████████| 10/10 [00:30<00:00,  3.01s/it]\u001B[A\n",
      "                                               \u001B[A"
     ]
    },
    {
     "name": "stdout",
     "output_type": "stream",
     "text": [
      "https://lenta.ru/rubrics/science/cosmos/8\n"
     ]
    },
    {
     "name": "stderr",
     "output_type": "stream",
     "text": [
      "\n",
      "  0%|          | 0/10 [00:00<?, ?it/s]\u001B[A\n",
      " 10%|█         | 1/10 [00:03<00:27,  3.02s/it]\u001B[A\n",
      " 20%|██        | 2/10 [00:06<00:24,  3.01s/it]\u001B[A\n",
      " 30%|███       | 3/10 [00:09<00:21,  3.02s/it]\u001B[A\n",
      " 40%|████      | 4/10 [00:12<00:18,  3.02s/it]\u001B[A\n",
      " 50%|█████     | 5/10 [00:15<00:15,  3.02s/it]\u001B[A\n",
      " 60%|██████    | 6/10 [00:18<00:12,  3.02s/it]\u001B[A\n",
      " 70%|███████   | 7/10 [00:21<00:09,  3.02s/it]\u001B[A\n",
      " 80%|████████  | 8/10 [00:24<00:06,  3.02s/it]\u001B[A\n",
      " 90%|█████████ | 9/10 [00:27<00:03,  3.02s/it]\u001B[A\n",
      "100%|██████████| 10/10 [00:30<00:00,  3.02s/it]\u001B[A\n",
      " 48%|████▊     | 39/82 [1:19:07<1:21:17, 113.44s/it]"
     ]
    },
    {
     "name": "stdout",
     "output_type": "stream",
     "text": [
      "https://lenta.ru/rubrics/science/mil/4\n"
     ]
    },
    {
     "name": "stderr",
     "output_type": "stream",
     "text": [
      "\n",
      "  0%|          | 0/10 [00:00<?, ?it/s]\u001B[A\n",
      " 10%|█         | 1/10 [00:03<00:27,  3.01s/it]\u001B[A\n",
      " 20%|██        | 2/10 [00:06<00:24,  3.01s/it]\u001B[A\n",
      " 30%|███       | 3/10 [00:09<00:21,  3.02s/it]\u001B[A\n",
      " 40%|████      | 4/10 [00:12<00:18,  3.02s/it]\u001B[A\n",
      " 50%|█████     | 5/10 [00:15<00:15,  3.02s/it]\u001B[A\n",
      " 60%|██████    | 6/10 [00:18<00:12,  3.02s/it]\u001B[A\n",
      " 70%|███████   | 7/10 [00:21<00:09,  3.02s/it]\u001B[A\n",
      " 80%|████████  | 8/10 [00:24<00:06,  3.02s/it]\u001B[A\n",
      " 90%|█████████ | 9/10 [00:27<00:03,  3.02s/it]\u001B[A\n",
      "100%|██████████| 10/10 [00:30<00:00,  3.02s/it]\u001B[A\n",
      "                                               \u001B[A"
     ]
    },
    {
     "name": "stdout",
     "output_type": "stream",
     "text": [
      "https://lenta.ru/rubrics/science/mil/6\n"
     ]
    },
    {
     "name": "stderr",
     "output_type": "stream",
     "text": [
      "\n",
      "  0%|          | 0/10 [00:00<?, ?it/s]\u001B[A\n",
      " 10%|█         | 1/10 [00:03<00:27,  3.03s/it]\u001B[A\n",
      " 20%|██        | 2/10 [00:06<00:24,  3.02s/it]\u001B[A\n",
      " 30%|███       | 3/10 [00:09<00:21,  3.02s/it]\u001B[A\n",
      " 40%|████      | 4/10 [00:12<00:18,  3.02s/it]\u001B[A\n",
      " 50%|█████     | 5/10 [00:15<00:15,  3.02s/it]\u001B[A\n",
      " 60%|██████    | 6/10 [00:18<00:12,  3.02s/it]\u001B[A\n",
      " 70%|███████   | 7/10 [00:21<00:09,  3.02s/it]\u001B[A\n",
      " 80%|████████  | 8/10 [00:24<00:06,  3.02s/it]\u001B[A\n",
      " 90%|█████████ | 9/10 [00:27<00:03,  3.02s/it]\u001B[A\n",
      "100%|██████████| 10/10 [00:30<00:00,  3.02s/it]\u001B[A\n",
      "                                               \u001B[A"
     ]
    },
    {
     "name": "stdout",
     "output_type": "stream",
     "text": [
      "https://lenta.ru/rubrics/science/mil/8\n"
     ]
    },
    {
     "name": "stderr",
     "output_type": "stream",
     "text": [
      "\n",
      "  0%|          | 0/10 [00:00<?, ?it/s]\u001B[A\n",
      " 10%|█         | 1/10 [00:03<00:27,  3.01s/it]\u001B[A\n",
      " 20%|██        | 2/10 [00:06<00:24,  3.01s/it]\u001B[A\n",
      " 30%|███       | 3/10 [00:09<00:21,  3.01s/it]\u001B[A\n",
      " 40%|████      | 4/10 [00:12<00:18,  3.02s/it]\u001B[A\n",
      " 50%|█████     | 5/10 [00:15<00:15,  3.02s/it]\u001B[A\n",
      " 60%|██████    | 6/10 [00:18<00:12,  3.02s/it]\u001B[A\n",
      " 70%|███████   | 7/10 [00:21<00:09,  3.02s/it]\u001B[A\n",
      " 80%|████████  | 8/10 [00:24<00:06,  3.02s/it]\u001B[A\n",
      " 90%|█████████ | 9/10 [00:27<00:03,  3.02s/it]\u001B[A\n",
      "100%|██████████| 10/10 [00:30<00:00,  3.02s/it]\u001B[A\n",
      " 49%|████▉     | 40/82 [1:21:08<1:20:58, 115.68s/it]"
     ]
    },
    {
     "name": "stdout",
     "output_type": "stream",
     "text": [
      "https://lenta.ru/rubrics/science/history/4\n"
     ]
    },
    {
     "name": "stderr",
     "output_type": "stream",
     "text": [
      "\n",
      "  0%|          | 0/10 [00:00<?, ?it/s]\u001B[A\n",
      " 10%|█         | 1/10 [00:03<00:27,  3.02s/it]\u001B[A\n",
      " 20%|██        | 2/10 [00:06<00:24,  3.02s/it]\u001B[A\n",
      " 30%|███       | 3/10 [00:09<00:21,  3.02s/it]\u001B[A\n",
      " 40%|████      | 4/10 [00:12<00:18,  3.02s/it]\u001B[A\n",
      " 50%|█████     | 5/10 [00:15<00:15,  3.02s/it]\u001B[A\n",
      " 60%|██████    | 6/10 [00:18<00:12,  3.02s/it]\u001B[A\n",
      " 70%|███████   | 7/10 [00:21<00:09,  3.02s/it]\u001B[A\n",
      " 80%|████████  | 8/10 [00:24<00:06,  3.02s/it]\u001B[A\n",
      " 90%|█████████ | 9/10 [00:27<00:03,  3.02s/it]\u001B[A\n",
      "100%|██████████| 10/10 [00:30<00:00,  3.02s/it]\u001B[A\n",
      "                                               \u001B[A"
     ]
    },
    {
     "name": "stdout",
     "output_type": "stream",
     "text": [
      "https://lenta.ru/rubrics/science/history/6\n"
     ]
    },
    {
     "name": "stderr",
     "output_type": "stream",
     "text": [
      "\n",
      "  0%|          | 0/10 [00:00<?, ?it/s]\u001B[A\n",
      " 10%|█         | 1/10 [00:03<00:27,  3.01s/it]\u001B[A\n",
      " 20%|██        | 2/10 [00:06<00:24,  3.02s/it]\u001B[A\n",
      " 30%|███       | 3/10 [00:09<00:21,  3.02s/it]\u001B[A\n",
      " 40%|████      | 4/10 [00:12<00:18,  3.02s/it]\u001B[A\n",
      " 50%|█████     | 5/10 [00:15<00:15,  3.02s/it]\u001B[A\n",
      " 60%|██████    | 6/10 [00:18<00:12,  3.02s/it]\u001B[A\n",
      " 70%|███████   | 7/10 [00:21<00:09,  3.02s/it]\u001B[A\n",
      " 80%|████████  | 8/10 [00:24<00:06,  3.02s/it]\u001B[A\n",
      " 90%|█████████ | 9/10 [00:27<00:03,  3.02s/it]\u001B[A\n",
      "100%|██████████| 10/10 [00:30<00:00,  3.02s/it]\u001B[A\n",
      "                                               \u001B[A"
     ]
    },
    {
     "name": "stdout",
     "output_type": "stream",
     "text": [
      "https://lenta.ru/rubrics/science/history/8\n"
     ]
    },
    {
     "name": "stderr",
     "output_type": "stream",
     "text": [
      "\n",
      "  0%|          | 0/10 [00:00<?, ?it/s]\u001B[A\n",
      " 10%|█         | 1/10 [00:03<00:27,  3.01s/it]\u001B[A\n",
      " 20%|██        | 2/10 [00:06<00:24,  3.02s/it]\u001B[A\n",
      " 30%|███       | 3/10 [00:09<00:21,  3.02s/it]\u001B[A\n",
      " 40%|████      | 4/10 [00:12<00:18,  3.02s/it]\u001B[A\n",
      " 50%|█████     | 5/10 [00:15<00:15,  3.02s/it]\u001B[A\n",
      " 60%|██████    | 6/10 [00:18<00:12,  3.02s/it]\u001B[A\n",
      " 70%|███████   | 7/10 [00:21<00:09,  3.02s/it]\u001B[A\n",
      " 80%|████████  | 8/10 [00:24<00:06,  3.02s/it]\u001B[A\n",
      " 90%|█████████ | 9/10 [00:27<00:03,  3.02s/it]\u001B[A\n",
      "100%|██████████| 10/10 [00:30<00:00,  3.02s/it]\u001B[A\n",
      " 50%|█████     | 41/82 [1:23:09<1:20:08, 117.27s/it]"
     ]
    },
    {
     "name": "stdout",
     "output_type": "stream",
     "text": [
      "https://lenta.ru/rubrics/science/natural/4\n"
     ]
    },
    {
     "name": "stderr",
     "output_type": "stream",
     "text": [
      "\n",
      "  0%|          | 0/10 [00:00<?, ?it/s]\u001B[A\n",
      " 10%|█         | 1/10 [00:03<00:27,  3.02s/it]\u001B[A\n",
      " 20%|██        | 2/10 [00:06<00:24,  3.01s/it]\u001B[A\n",
      " 30%|███       | 3/10 [00:09<00:21,  3.02s/it]\u001B[A\n",
      " 40%|████      | 4/10 [00:12<00:18,  3.02s/it]\u001B[A\n",
      " 50%|█████     | 5/10 [00:15<00:15,  3.02s/it]\u001B[A\n",
      " 60%|██████    | 6/10 [00:18<00:12,  3.02s/it]\u001B[A\n",
      " 70%|███████   | 7/10 [00:21<00:09,  3.01s/it]\u001B[A\n",
      " 80%|████████  | 8/10 [00:24<00:06,  3.02s/it]\u001B[A\n",
      " 90%|█████████ | 9/10 [00:27<00:03,  3.02s/it]\u001B[A\n",
      "100%|██████████| 10/10 [00:30<00:00,  3.02s/it]\u001B[A\n",
      "                                               \u001B[A"
     ]
    },
    {
     "name": "stdout",
     "output_type": "stream",
     "text": [
      "https://lenta.ru/rubrics/science/natural/6\n"
     ]
    },
    {
     "name": "stderr",
     "output_type": "stream",
     "text": [
      "\n",
      "  0%|          | 0/10 [00:00<?, ?it/s]\u001B[A\n",
      " 10%|█         | 1/10 [00:03<00:27,  3.01s/it]\u001B[A\n",
      " 20%|██        | 2/10 [00:06<00:24,  3.01s/it]\u001B[A\n",
      " 30%|███       | 3/10 [00:09<00:21,  3.02s/it]\u001B[A\n",
      " 40%|████      | 4/10 [00:12<00:18,  3.02s/it]\u001B[A\n",
      " 50%|█████     | 5/10 [00:15<00:15,  3.02s/it]\u001B[A\n",
      " 60%|██████    | 6/10 [00:18<00:12,  3.02s/it]\u001B[A\n",
      " 70%|███████   | 7/10 [00:21<00:09,  3.02s/it]\u001B[A\n",
      " 80%|████████  | 8/10 [00:24<00:06,  3.02s/it]\u001B[A\n",
      " 90%|█████████ | 9/10 [00:27<00:03,  3.02s/it]\u001B[A\n",
      "100%|██████████| 10/10 [00:30<00:00,  3.02s/it]\u001B[A\n",
      "                                               \u001B[A"
     ]
    },
    {
     "name": "stdout",
     "output_type": "stream",
     "text": [
      "https://lenta.ru/rubrics/science/natural/8\n"
     ]
    },
    {
     "name": "stderr",
     "output_type": "stream",
     "text": [
      "\n",
      "  0%|          | 0/10 [00:00<?, ?it/s]\u001B[A\n",
      " 10%|█         | 1/10 [00:03<00:27,  3.02s/it]\u001B[A\n",
      " 20%|██        | 2/10 [00:06<00:24,  3.02s/it]\u001B[A\n",
      " 30%|███       | 3/10 [00:09<00:21,  3.01s/it]\u001B[A\n",
      " 40%|████      | 4/10 [00:12<00:18,  3.01s/it]\u001B[A\n",
      " 50%|█████     | 5/10 [00:15<00:15,  3.02s/it]\u001B[A\n",
      " 60%|██████    | 6/10 [00:18<00:12,  3.02s/it]\u001B[A\n",
      " 70%|███████   | 7/10 [00:21<00:09,  3.02s/it]\u001B[A\n",
      " 80%|████████  | 8/10 [00:24<00:06,  3.02s/it]\u001B[A\n",
      " 90%|█████████ | 9/10 [00:27<00:03,  3.02s/it]\u001B[A\n",
      "100%|██████████| 10/10 [00:30<00:00,  3.02s/it]\u001B[A\n",
      " 51%|█████     | 42/82 [1:25:10<1:18:57, 118.43s/it]"
     ]
    },
    {
     "name": "stdout",
     "output_type": "stream",
     "text": [
      "https://lenta.ru/rubrics/science/future/4\n"
     ]
    },
    {
     "name": "stderr",
     "output_type": "stream",
     "text": [
      "\n",
      "  0%|          | 0/10 [00:00<?, ?it/s]\u001B[A\n",
      " 10%|█         | 1/10 [00:03<00:27,  3.02s/it]\u001B[A\n",
      " 20%|██        | 2/10 [00:06<00:24,  3.02s/it]\u001B[A\n",
      " 30%|███       | 3/10 [00:09<00:21,  3.02s/it]\u001B[A\n",
      " 40%|████      | 4/10 [00:12<00:18,  3.02s/it]\u001B[A\n",
      " 50%|█████     | 5/10 [00:15<00:15,  3.02s/it]\u001B[A\n",
      " 60%|██████    | 6/10 [00:18<00:12,  3.02s/it]\u001B[A\n",
      " 70%|███████   | 7/10 [00:21<00:09,  3.02s/it]\u001B[A\n",
      " 80%|████████  | 8/10 [00:24<00:06,  3.01s/it]\u001B[A\n",
      " 90%|█████████ | 9/10 [00:27<00:03,  3.02s/it]\u001B[A\n",
      "100%|██████████| 10/10 [00:30<00:00,  3.02s/it]\u001B[A\n",
      "                                               \u001B[A"
     ]
    },
    {
     "name": "stdout",
     "output_type": "stream",
     "text": [
      "https://lenta.ru/rubrics/science/future/6\n"
     ]
    },
    {
     "name": "stderr",
     "output_type": "stream",
     "text": [
      "\n",
      "  0%|          | 0/10 [00:00<?, ?it/s]\u001B[A\n",
      " 10%|█         | 1/10 [00:03<00:27,  3.02s/it]\u001B[A\n",
      " 20%|██        | 2/10 [00:06<00:24,  3.02s/it]\u001B[A\n",
      " 30%|███       | 3/10 [00:09<00:21,  3.02s/it]\u001B[A\n",
      " 40%|████      | 4/10 [00:12<00:18,  3.02s/it]\u001B[A\n",
      " 50%|█████     | 5/10 [00:15<00:15,  3.02s/it]\u001B[A\n",
      " 60%|██████    | 6/10 [00:18<00:12,  3.02s/it]\u001B[A\n",
      " 70%|███████   | 7/10 [00:21<00:09,  3.02s/it]\u001B[A\n",
      " 80%|████████  | 8/10 [00:24<00:06,  3.02s/it]\u001B[A\n",
      " 90%|█████████ | 9/10 [00:27<00:03,  3.02s/it]\u001B[A\n",
      "100%|██████████| 10/10 [00:30<00:00,  3.02s/it]\u001B[A\n",
      "                                               \u001B[A"
     ]
    },
    {
     "name": "stdout",
     "output_type": "stream",
     "text": [
      "https://lenta.ru/rubrics/science/future/8\n"
     ]
    },
    {
     "name": "stderr",
     "output_type": "stream",
     "text": [
      "\n",
      "  0%|          | 0/10 [00:00<?, ?it/s]\u001B[A\n",
      " 10%|█         | 1/10 [00:03<00:27,  3.01s/it]\u001B[A\n",
      " 20%|██        | 2/10 [00:06<00:24,  3.02s/it]\u001B[A\n",
      " 30%|███       | 3/10 [00:09<00:21,  3.02s/it]\u001B[A\n",
      " 40%|████      | 4/10 [00:12<00:18,  3.01s/it]\u001B[A\n",
      " 50%|█████     | 5/10 [00:15<00:15,  3.02s/it]\u001B[A\n",
      " 60%|██████    | 6/10 [00:18<00:12,  3.02s/it]\u001B[A\n",
      " 70%|███████   | 7/10 [00:21<00:09,  3.02s/it]\u001B[A\n",
      " 80%|████████  | 8/10 [00:24<00:06,  3.02s/it]\u001B[A\n",
      " 90%|█████████ | 9/10 [00:27<00:03,  3.01s/it]\u001B[A\n",
      "100%|██████████| 10/10 [00:30<00:00,  3.02s/it]\u001B[A\n",
      " 52%|█████▏    | 43/82 [1:27:13<1:17:49, 119.72s/it]"
     ]
    },
    {
     "name": "stdout",
     "output_type": "stream",
     "text": [
      "https://lenta.ru/rubrics/science/digital/4\n"
     ]
    },
    {
     "name": "stderr",
     "output_type": "stream",
     "text": [
      "\n",
      "  0%|          | 0/10 [00:00<?, ?it/s]\u001B[A\n",
      " 10%|█         | 1/10 [00:03<00:27,  3.01s/it]\u001B[A\n",
      " 20%|██        | 2/10 [00:06<00:24,  3.02s/it]\u001B[A\n",
      " 30%|███       | 3/10 [00:09<00:21,  3.01s/it]\u001B[A\n",
      " 40%|████      | 4/10 [00:12<00:18,  3.02s/it]\u001B[A\n",
      " 50%|█████     | 5/10 [00:15<00:15,  3.02s/it]\u001B[A\n",
      " 60%|██████    | 6/10 [00:18<00:12,  3.02s/it]\u001B[A\n",
      " 70%|███████   | 7/10 [00:21<00:09,  3.02s/it]\u001B[A\n",
      " 80%|████████  | 8/10 [00:24<00:06,  3.02s/it]\u001B[A\n",
      " 90%|█████████ | 9/10 [00:27<00:03,  3.02s/it]\u001B[A\n",
      "100%|██████████| 10/10 [00:30<00:00,  3.02s/it]\u001B[A\n",
      "                                               \u001B[A"
     ]
    },
    {
     "name": "stdout",
     "output_type": "stream",
     "text": [
      "https://lenta.ru/rubrics/science/digital/6\n"
     ]
    },
    {
     "name": "stderr",
     "output_type": "stream",
     "text": [
      "\n",
      "  0%|          | 0/10 [00:00<?, ?it/s]\u001B[A\n",
      " 10%|█         | 1/10 [00:03<00:27,  3.02s/it]\u001B[A\n",
      " 20%|██        | 2/10 [00:06<00:24,  3.02s/it]\u001B[A\n",
      " 30%|███       | 3/10 [00:09<00:21,  3.02s/it]\u001B[A\n",
      " 40%|████      | 4/10 [00:12<00:18,  3.02s/it]\u001B[A\n",
      " 50%|█████     | 5/10 [00:15<00:15,  3.02s/it]\u001B[A\n",
      " 60%|██████    | 6/10 [00:18<00:12,  3.02s/it]\u001B[A\n",
      " 70%|███████   | 7/10 [00:21<00:09,  3.02s/it]\u001B[A\n",
      " 80%|████████  | 8/10 [00:24<00:06,  3.02s/it]\u001B[A\n",
      " 90%|█████████ | 9/10 [00:27<00:03,  3.02s/it]\u001B[A\n",
      "100%|██████████| 10/10 [00:30<00:00,  3.02s/it]\u001B[A\n",
      "                                               \u001B[A"
     ]
    },
    {
     "name": "stdout",
     "output_type": "stream",
     "text": [
      "https://lenta.ru/rubrics/science/digital/8\n"
     ]
    },
    {
     "name": "stderr",
     "output_type": "stream",
     "text": [
      "\n",
      "  0%|          | 0/10 [00:00<?, ?it/s]\u001B[A\n",
      " 10%|█         | 1/10 [00:03<00:27,  3.02s/it]\u001B[A\n",
      " 20%|██        | 2/10 [00:06<00:24,  3.02s/it]\u001B[A\n",
      " 30%|███       | 3/10 [00:09<00:21,  3.02s/it]\u001B[A\n",
      " 40%|████      | 4/10 [00:12<00:18,  3.01s/it]\u001B[A\n",
      " 50%|█████     | 5/10 [00:15<00:15,  3.02s/it]\u001B[A\n",
      " 60%|██████    | 6/10 [00:18<00:12,  3.02s/it]\u001B[A\n",
      " 70%|███████   | 7/10 [00:21<00:09,  3.02s/it]\u001B[A\n",
      " 80%|████████  | 8/10 [00:24<00:06,  3.02s/it]\u001B[A\n",
      " 90%|█████████ | 9/10 [00:27<00:03,  3.02s/it]\u001B[A\n",
      "100%|██████████| 10/10 [00:30<00:00,  3.02s/it]\u001B[A\n",
      " 54%|█████▎    | 44/82 [1:29:14<1:16:00, 120.01s/it]"
     ]
    },
    {
     "name": "stdout",
     "output_type": "stream",
     "text": [
      "https://lenta.ru/rubrics/science/gadget/4\n"
     ]
    },
    {
     "name": "stderr",
     "output_type": "stream",
     "text": [
      "\n",
      "  0%|          | 0/10 [00:00<?, ?it/s]\u001B[A\n",
      " 10%|█         | 1/10 [00:03<00:27,  3.01s/it]\u001B[A\n",
      " 20%|██        | 2/10 [00:06<00:24,  3.02s/it]\u001B[A\n",
      " 30%|███       | 3/10 [00:09<00:21,  3.02s/it]\u001B[A\n",
      " 40%|████      | 4/10 [00:12<00:18,  3.02s/it]\u001B[A\n",
      " 50%|█████     | 5/10 [00:15<00:15,  3.02s/it]\u001B[A\n",
      " 60%|██████    | 6/10 [00:18<00:12,  3.02s/it]\u001B[A\n",
      " 70%|███████   | 7/10 [00:21<00:09,  3.02s/it]\u001B[A\n",
      " 80%|████████  | 8/10 [00:24<00:06,  3.02s/it]\u001B[A\n",
      " 90%|█████████ | 9/10 [00:27<00:03,  3.02s/it]\u001B[A\n",
      "100%|██████████| 10/10 [00:30<00:00,  3.02s/it]\u001B[A\n",
      "                                               \u001B[A"
     ]
    },
    {
     "name": "stdout",
     "output_type": "stream",
     "text": [
      "https://lenta.ru/rubrics/science/gadget/6\n"
     ]
    },
    {
     "name": "stderr",
     "output_type": "stream",
     "text": [
      "\n",
      "  0%|          | 0/10 [00:00<?, ?it/s]\u001B[A\n",
      " 10%|█         | 1/10 [00:03<00:27,  3.01s/it]\u001B[A\n",
      " 20%|██        | 2/10 [00:06<00:24,  3.02s/it]\u001B[A\n",
      " 30%|███       | 3/10 [00:09<00:21,  3.02s/it]\u001B[A\n",
      " 40%|████      | 4/10 [00:12<00:18,  3.02s/it]\u001B[A\n",
      " 50%|█████     | 5/10 [00:15<00:15,  3.02s/it]\u001B[A\n",
      " 60%|██████    | 6/10 [00:18<00:12,  3.02s/it]\u001B[A\n",
      " 70%|███████   | 7/10 [00:21<00:09,  3.02s/it]\u001B[A\n",
      " 80%|████████  | 8/10 [00:24<00:06,  3.02s/it]\u001B[A\n",
      " 90%|█████████ | 9/10 [00:27<00:03,  3.02s/it]\u001B[A\n",
      "100%|██████████| 10/10 [00:30<00:00,  3.02s/it]\u001B[A\n",
      "                                               \u001B[A"
     ]
    },
    {
     "name": "stdout",
     "output_type": "stream",
     "text": [
      "https://lenta.ru/rubrics/science/gadget/8\n"
     ]
    },
    {
     "name": "stderr",
     "output_type": "stream",
     "text": [
      "\n",
      "  0%|          | 0/10 [00:00<?, ?it/s]\u001B[A\n",
      " 10%|█         | 1/10 [00:03<00:27,  3.02s/it]\u001B[A\n",
      " 20%|██        | 2/10 [00:06<00:24,  3.02s/it]\u001B[A\n",
      " 30%|███       | 3/10 [00:09<00:21,  3.02s/it]\u001B[A\n",
      " 40%|████      | 4/10 [00:12<00:18,  3.02s/it]\u001B[A\n",
      " 50%|█████     | 5/10 [00:15<00:15,  3.02s/it]\u001B[A\n",
      " 60%|██████    | 6/10 [00:18<00:12,  3.02s/it]\u001B[A\n",
      " 70%|███████   | 7/10 [00:21<00:09,  3.02s/it]\u001B[A\n",
      " 80%|████████  | 8/10 [00:24<00:06,  3.02s/it]\u001B[A\n",
      " 90%|█████████ | 9/10 [00:27<00:03,  3.02s/it]\u001B[A\n",
      "100%|██████████| 10/10 [00:30<00:00,  3.02s/it]\u001B[A\n",
      " 55%|█████▍    | 45/82 [1:31:15<1:14:19, 120.53s/it]"
     ]
    },
    {
     "name": "stdout",
     "output_type": "stream",
     "text": [
      "https://lenta.ru/rubrics/science/games/4\n"
     ]
    },
    {
     "name": "stderr",
     "output_type": "stream",
     "text": [
      "\n",
      "  0%|          | 0/10 [00:00<?, ?it/s]\u001B[A\n",
      " 10%|█         | 1/10 [00:03<00:27,  3.01s/it]\u001B[A\n",
      " 20%|██        | 2/10 [00:06<00:24,  3.01s/it]\u001B[A\n",
      " 30%|███       | 3/10 [00:09<00:21,  3.02s/it]\u001B[A\n",
      " 40%|████      | 4/10 [00:12<00:18,  3.02s/it]\u001B[A\n",
      " 50%|█████     | 5/10 [00:15<00:15,  3.02s/it]\u001B[A\n",
      " 60%|██████    | 6/10 [00:18<00:12,  3.02s/it]\u001B[A\n",
      " 70%|███████   | 7/10 [00:21<00:09,  3.02s/it]\u001B[A\n",
      " 80%|████████  | 8/10 [00:24<00:06,  3.02s/it]\u001B[A\n",
      " 90%|█████████ | 9/10 [00:27<00:03,  3.02s/it]\u001B[A\n",
      "100%|██████████| 10/10 [00:30<00:00,  3.02s/it]\u001B[A\n",
      "                                               \u001B[A"
     ]
    },
    {
     "name": "stdout",
     "output_type": "stream",
     "text": [
      "https://lenta.ru/rubrics/science/games/6\n"
     ]
    },
    {
     "name": "stderr",
     "output_type": "stream",
     "text": [
      "\n",
      "  0%|          | 0/10 [00:00<?, ?it/s]\u001B[A\n",
      " 10%|█         | 1/10 [00:03<00:27,  3.02s/it]\u001B[A\n",
      " 20%|██        | 2/10 [00:06<00:24,  3.02s/it]\u001B[A\n",
      " 30%|███       | 3/10 [00:09<00:21,  3.01s/it]\u001B[A\n",
      " 40%|████      | 4/10 [00:12<00:18,  3.02s/it]\u001B[A\n",
      " 50%|█████     | 5/10 [00:15<00:15,  3.01s/it]\u001B[A\n",
      " 60%|██████    | 6/10 [00:18<00:12,  3.01s/it]\u001B[A\n",
      " 70%|███████   | 7/10 [00:21<00:09,  3.02s/it]\u001B[A\n",
      " 80%|████████  | 8/10 [00:24<00:06,  3.02s/it]\u001B[A\n",
      " 90%|█████████ | 9/10 [00:27<00:03,  3.02s/it]\u001B[A\n",
      "100%|██████████| 10/10 [00:30<00:00,  3.02s/it]\u001B[A\n",
      "                                               \u001B[A"
     ]
    },
    {
     "name": "stdout",
     "output_type": "stream",
     "text": [
      "https://lenta.ru/rubrics/science/games/8\n"
     ]
    },
    {
     "name": "stderr",
     "output_type": "stream",
     "text": [
      "\n",
      "  0%|          | 0/10 [00:00<?, ?it/s]\u001B[A\n",
      " 10%|█         | 1/10 [00:03<00:27,  3.01s/it]\u001B[A\n",
      " 20%|██        | 2/10 [00:06<00:24,  3.01s/it]\u001B[A\n",
      " 30%|███       | 3/10 [00:09<00:21,  3.01s/it]\u001B[A\n",
      " 40%|████      | 4/10 [00:12<00:18,  3.02s/it]\u001B[A\n",
      " 50%|█████     | 5/10 [00:15<00:15,  3.02s/it]\u001B[A\n",
      " 60%|██████    | 6/10 [00:18<00:12,  3.02s/it]\u001B[A\n",
      " 70%|███████   | 7/10 [00:21<00:09,  3.02s/it]\u001B[A\n",
      " 80%|████████  | 8/10 [00:24<00:06,  3.02s/it]\u001B[A\n",
      " 90%|█████████ | 9/10 [00:27<00:03,  3.02s/it]\u001B[A\n",
      "100%|██████████| 10/10 [00:30<00:00,  3.02s/it]\u001B[A\n",
      " 56%|█████▌    | 46/82 [1:33:15<1:12:14, 120.41s/it]"
     ]
    },
    {
     "name": "stdout",
     "output_type": "stream",
     "text": [
      "https://lenta.ru/rubrics/science/soft/4\n"
     ]
    },
    {
     "name": "stderr",
     "output_type": "stream",
     "text": [
      "\n",
      "  0%|          | 0/10 [00:00<?, ?it/s]\u001B[A\n",
      " 10%|█         | 1/10 [00:03<00:27,  3.03s/it]\u001B[A\n",
      " 20%|██        | 2/10 [00:06<00:24,  3.02s/it]\u001B[A\n",
      " 30%|███       | 3/10 [00:09<00:21,  3.02s/it]\u001B[A\n",
      " 40%|████      | 4/10 [00:12<00:18,  3.02s/it]\u001B[A\n",
      " 50%|█████     | 5/10 [00:15<00:15,  3.02s/it]\u001B[A\n",
      " 60%|██████    | 6/10 [00:18<00:12,  3.02s/it]\u001B[A\n",
      " 70%|███████   | 7/10 [00:21<00:09,  3.02s/it]\u001B[A\n",
      " 80%|████████  | 8/10 [00:24<00:06,  3.02s/it]\u001B[A\n",
      " 90%|█████████ | 9/10 [00:27<00:03,  3.02s/it]\u001B[A\n",
      "100%|██████████| 10/10 [00:30<00:00,  3.02s/it]\u001B[A\n",
      "                                               \u001B[A"
     ]
    },
    {
     "name": "stdout",
     "output_type": "stream",
     "text": [
      "https://lenta.ru/rubrics/science/soft/6\n"
     ]
    },
    {
     "name": "stderr",
     "output_type": "stream",
     "text": [
      "\n",
      "  0%|          | 0/10 [00:00<?, ?it/s]\u001B[A\n",
      " 10%|█         | 1/10 [00:03<00:27,  3.01s/it]\u001B[A\n",
      " 20%|██        | 2/10 [00:06<00:24,  3.01s/it]\u001B[A\n",
      " 30%|███       | 3/10 [00:09<00:21,  3.02s/it]\u001B[A\n",
      " 40%|████      | 4/10 [00:12<00:18,  3.02s/it]\u001B[A\n",
      " 50%|█████     | 5/10 [00:15<00:15,  3.02s/it]\u001B[A\n",
      " 60%|██████    | 6/10 [00:18<00:12,  3.02s/it]\u001B[A\n",
      " 70%|███████   | 7/10 [00:21<00:09,  3.02s/it]\u001B[A\n",
      " 80%|████████  | 8/10 [00:24<00:06,  3.02s/it]\u001B[A\n",
      " 90%|█████████ | 9/10 [00:27<00:03,  3.02s/it]\u001B[A\n",
      "100%|██████████| 10/10 [00:30<00:00,  3.02s/it]\u001B[A\n",
      "                                               \u001B[A"
     ]
    },
    {
     "name": "stdout",
     "output_type": "stream",
     "text": [
      "https://lenta.ru/rubrics/science/soft/8\n"
     ]
    },
    {
     "name": "stderr",
     "output_type": "stream",
     "text": [
      "\n",
      "  0%|          | 0/10 [00:00<?, ?it/s]\u001B[A\n",
      " 10%|█         | 1/10 [00:03<00:27,  3.01s/it]\u001B[A\n",
      " 20%|██        | 2/10 [00:06<00:24,  3.01s/it]\u001B[A\n",
      " 30%|███       | 3/10 [00:09<00:21,  3.02s/it]\u001B[A\n",
      " 40%|████      | 4/10 [00:12<00:18,  3.01s/it]\u001B[A\n",
      " 50%|█████     | 5/10 [00:15<00:15,  3.02s/it]\u001B[A\n",
      " 60%|██████    | 6/10 [00:18<00:12,  3.02s/it]\u001B[A\n",
      " 70%|███████   | 7/10 [00:21<00:09,  3.02s/it]\u001B[A\n",
      " 80%|████████  | 8/10 [00:24<00:06,  3.02s/it]\u001B[A\n",
      " 90%|█████████ | 9/10 [00:27<00:03,  3.02s/it]\u001B[A\n",
      "100%|██████████| 10/10 [00:30<00:00,  3.02s/it]\u001B[A\n",
      " 57%|█████▋    | 47/82 [1:35:18<1:10:42, 121.21s/it]"
     ]
    },
    {
     "name": "stdout",
     "output_type": "stream",
     "text": [
      "https://lenta.ru/rubrics/economics/economy/4\n"
     ]
    },
    {
     "name": "stderr",
     "output_type": "stream",
     "text": [
      "\n",
      "  0%|          | 0/10 [00:00<?, ?it/s]\u001B[A\n",
      " 10%|█         | 1/10 [00:03<00:27,  3.01s/it]\u001B[A\n",
      " 20%|██        | 2/10 [00:06<00:24,  3.02s/it]\u001B[A\n",
      " 30%|███       | 3/10 [00:09<00:21,  3.02s/it]\u001B[A\n",
      " 40%|████      | 4/10 [00:12<00:18,  3.02s/it]\u001B[A\n",
      " 50%|█████     | 5/10 [00:15<00:15,  3.02s/it]\u001B[A\n",
      " 60%|██████    | 6/10 [00:18<00:12,  3.02s/it]\u001B[A\n",
      " 70%|███████   | 7/10 [00:21<00:09,  3.02s/it]\u001B[A\n",
      " 80%|████████  | 8/10 [00:24<00:06,  3.02s/it]\u001B[A\n",
      " 90%|█████████ | 9/10 [00:27<00:03,  3.02s/it]\u001B[A\n",
      "100%|██████████| 10/10 [00:30<00:00,  3.02s/it]\u001B[A\n",
      "                                               \u001B[A"
     ]
    },
    {
     "name": "stdout",
     "output_type": "stream",
     "text": [
      "https://lenta.ru/rubrics/economics/economy/6\n"
     ]
    },
    {
     "name": "stderr",
     "output_type": "stream",
     "text": [
      "\n",
      "  0%|          | 0/10 [00:00<?, ?it/s]\u001B[A\n",
      " 10%|█         | 1/10 [00:03<00:27,  3.01s/it]\u001B[A\n",
      " 20%|██        | 2/10 [00:06<00:24,  3.01s/it]\u001B[A\n",
      " 30%|███       | 3/10 [00:09<00:21,  3.02s/it]\u001B[A\n",
      " 40%|████      | 4/10 [00:12<00:18,  3.02s/it]\u001B[A\n",
      " 50%|█████     | 5/10 [00:15<00:15,  3.02s/it]\u001B[A\n",
      " 60%|██████    | 6/10 [00:18<00:12,  3.02s/it]\u001B[A\n",
      " 70%|███████   | 7/10 [00:21<00:09,  3.02s/it]\u001B[A\n",
      " 80%|████████  | 8/10 [00:24<00:06,  3.02s/it]\u001B[A\n",
      " 90%|█████████ | 9/10 [00:27<00:03,  3.02s/it]\u001B[A\n",
      "100%|██████████| 10/10 [00:30<00:00,  3.02s/it]\u001B[A\n",
      "                                               \u001B[A"
     ]
    },
    {
     "name": "stdout",
     "output_type": "stream",
     "text": [
      "https://lenta.ru/rubrics/economics/economy/8\n"
     ]
    },
    {
     "name": "stderr",
     "output_type": "stream",
     "text": [
      "\n",
      "  0%|          | 0/10 [00:00<?, ?it/s]\u001B[A\n",
      " 10%|█         | 1/10 [00:03<00:27,  3.01s/it]\u001B[A\n",
      " 20%|██        | 2/10 [00:06<00:24,  3.02s/it]\u001B[A\n",
      " 30%|███       | 3/10 [00:09<00:21,  3.01s/it]\u001B[A\n",
      " 40%|████      | 4/10 [00:12<00:18,  3.02s/it]\u001B[A\n",
      " 50%|█████     | 5/10 [00:15<00:15,  3.02s/it]\u001B[A\n",
      " 60%|██████    | 6/10 [00:18<00:12,  3.02s/it]\u001B[A\n",
      " 70%|███████   | 7/10 [00:21<00:09,  3.02s/it]\u001B[A\n",
      " 80%|████████  | 8/10 [00:24<00:06,  3.02s/it]\u001B[A\n",
      " 90%|█████████ | 9/10 [00:27<00:03,  3.02s/it]\u001B[A\n",
      "100%|██████████| 10/10 [00:30<00:00,  3.02s/it]\u001B[A\n",
      " 59%|█████▊    | 48/82 [1:37:22<1:09:09, 122.05s/it]"
     ]
    },
    {
     "name": "stdout",
     "output_type": "stream",
     "text": [
      "https://lenta.ru/rubrics/economics/companies/4\n"
     ]
    },
    {
     "name": "stderr",
     "output_type": "stream",
     "text": [
      "\n",
      "  0%|          | 0/10 [00:00<?, ?it/s]\u001B[A\n",
      " 10%|█         | 1/10 [00:03<00:27,  3.01s/it]\u001B[A\n",
      " 20%|██        | 2/10 [00:06<00:24,  3.01s/it]\u001B[A\n",
      " 30%|███       | 3/10 [00:09<00:21,  3.02s/it]\u001B[A\n",
      " 40%|████      | 4/10 [00:12<00:18,  3.01s/it]\u001B[A\n",
      " 50%|█████     | 5/10 [00:15<00:15,  3.02s/it]\u001B[A\n",
      " 60%|██████    | 6/10 [00:18<00:12,  3.02s/it]\u001B[A\n",
      " 70%|███████   | 7/10 [00:21<00:09,  3.02s/it]\u001B[A\n",
      " 80%|████████  | 8/10 [00:24<00:06,  3.02s/it]\u001B[A\n",
      " 90%|█████████ | 9/10 [00:27<00:03,  3.02s/it]\u001B[A\n",
      "100%|██████████| 10/10 [00:30<00:00,  3.02s/it]\u001B[A\n",
      "                                               \u001B[A"
     ]
    },
    {
     "name": "stdout",
     "output_type": "stream",
     "text": [
      "https://lenta.ru/rubrics/economics/companies/6\n"
     ]
    },
    {
     "name": "stderr",
     "output_type": "stream",
     "text": [
      "\n",
      "  0%|          | 0/10 [00:00<?, ?it/s]\u001B[A\n",
      " 10%|█         | 1/10 [00:03<00:27,  3.01s/it]\u001B[A\n",
      " 20%|██        | 2/10 [00:06<00:24,  3.01s/it]\u001B[A\n",
      " 30%|███       | 3/10 [00:09<00:21,  3.01s/it]\u001B[A\n",
      " 40%|████      | 4/10 [00:12<00:18,  3.02s/it]\u001B[A\n",
      " 50%|█████     | 5/10 [00:15<00:15,  3.02s/it]\u001B[A\n",
      " 60%|██████    | 6/10 [00:18<00:12,  3.02s/it]\u001B[A\n",
      " 70%|███████   | 7/10 [00:21<00:09,  3.01s/it]\u001B[A\n",
      " 80%|████████  | 8/10 [00:24<00:06,  3.02s/it]\u001B[A\n",
      " 90%|█████████ | 9/10 [00:27<00:03,  3.02s/it]\u001B[A\n",
      "100%|██████████| 10/10 [00:30<00:00,  3.02s/it]\u001B[A\n",
      "                                               \u001B[A"
     ]
    },
    {
     "name": "stdout",
     "output_type": "stream",
     "text": [
      "https://lenta.ru/rubrics/economics/companies/8\n"
     ]
    },
    {
     "name": "stderr",
     "output_type": "stream",
     "text": [
      "\n",
      "  0%|          | 0/10 [00:00<?, ?it/s]\u001B[A\n",
      " 10%|█         | 1/10 [00:03<00:27,  3.01s/it]\u001B[A\n",
      " 20%|██        | 2/10 [00:06<00:24,  3.01s/it]\u001B[A\n",
      " 30%|███       | 3/10 [00:09<00:21,  3.01s/it]\u001B[A\n",
      " 40%|████      | 4/10 [00:12<00:18,  3.02s/it]\u001B[A\n",
      " 50%|█████     | 5/10 [00:15<00:15,  3.02s/it]\u001B[A\n",
      " 60%|██████    | 6/10 [00:18<00:12,  3.02s/it]\u001B[A\n",
      " 70%|███████   | 7/10 [00:21<00:09,  3.02s/it]\u001B[A\n",
      " 80%|████████  | 8/10 [00:24<00:06,  3.02s/it]\u001B[A\n",
      " 90%|█████████ | 9/10 [00:27<00:03,  3.02s/it]\u001B[A\n",
      "100%|██████████| 10/10 [00:30<00:00,  3.02s/it]\u001B[A\n",
      " 60%|█████▉    | 49/82 [1:39:27<1:07:27, 122.64s/it]"
     ]
    },
    {
     "name": "stdout",
     "output_type": "stream",
     "text": [
      "https://lenta.ru/rubrics/economics/markets/4\n"
     ]
    },
    {
     "name": "stderr",
     "output_type": "stream",
     "text": [
      "\n",
      "  0%|          | 0/10 [00:00<?, ?it/s]\u001B[A\n",
      " 10%|█         | 1/10 [00:03<00:27,  3.01s/it]\u001B[A\n",
      " 20%|██        | 2/10 [00:06<00:24,  3.01s/it]\u001B[A\n",
      " 30%|███       | 3/10 [00:09<00:21,  3.02s/it]\u001B[A\n",
      " 40%|████      | 4/10 [00:12<00:18,  3.02s/it]\u001B[A\n",
      " 50%|█████     | 5/10 [00:15<00:15,  3.02s/it]\u001B[A\n",
      " 60%|██████    | 6/10 [00:18<00:12,  3.02s/it]\u001B[A\n",
      " 70%|███████   | 7/10 [00:21<00:09,  3.02s/it]\u001B[A\n",
      " 80%|████████  | 8/10 [00:24<00:06,  3.02s/it]\u001B[A\n",
      " 90%|█████████ | 9/10 [00:27<00:03,  3.02s/it]\u001B[A\n",
      "100%|██████████| 10/10 [00:30<00:00,  3.02s/it]\u001B[A\n",
      "                                               \u001B[A"
     ]
    },
    {
     "name": "stdout",
     "output_type": "stream",
     "text": [
      "https://lenta.ru/rubrics/economics/markets/6\n"
     ]
    },
    {
     "name": "stderr",
     "output_type": "stream",
     "text": [
      "\n",
      "  0%|          | 0/10 [00:00<?, ?it/s]\u001B[A\n",
      " 10%|█         | 1/10 [00:03<00:27,  3.02s/it]\u001B[A\n",
      " 20%|██        | 2/10 [00:06<00:24,  3.02s/it]\u001B[A\n",
      " 30%|███       | 3/10 [00:09<00:21,  3.02s/it]\u001B[A\n",
      " 40%|████      | 4/10 [00:12<00:18,  3.02s/it]\u001B[A\n",
      " 50%|█████     | 5/10 [00:15<00:15,  3.02s/it]\u001B[A\n",
      " 60%|██████    | 6/10 [00:18<00:12,  3.02s/it]\u001B[A\n",
      " 70%|███████   | 7/10 [00:21<00:09,  3.02s/it]\u001B[A\n",
      " 80%|████████  | 8/10 [00:24<00:06,  3.02s/it]\u001B[A\n",
      " 90%|█████████ | 9/10 [00:27<00:03,  3.02s/it]\u001B[A\n",
      "100%|██████████| 10/10 [00:30<00:00,  3.02s/it]\u001B[A\n",
      "                                               \u001B[A"
     ]
    },
    {
     "name": "stdout",
     "output_type": "stream",
     "text": [
      "https://lenta.ru/rubrics/economics/markets/8\n"
     ]
    },
    {
     "name": "stderr",
     "output_type": "stream",
     "text": [
      "\n",
      "  0%|          | 0/10 [00:00<?, ?it/s]\u001B[A\n",
      " 10%|█         | 1/10 [00:03<00:27,  3.02s/it]\u001B[A\n",
      " 20%|██        | 2/10 [00:06<00:24,  3.02s/it]\u001B[A\n",
      " 30%|███       | 3/10 [00:09<00:21,  3.02s/it]\u001B[A\n",
      " 40%|████      | 4/10 [00:12<00:18,  3.02s/it]\u001B[A\n",
      " 50%|█████     | 5/10 [00:15<00:15,  3.02s/it]\u001B[A\n",
      " 60%|██████    | 6/10 [00:18<00:12,  3.02s/it]\u001B[A\n",
      " 70%|███████   | 7/10 [00:21<00:09,  3.02s/it]\u001B[A\n",
      " 80%|████████  | 8/10 [00:24<00:06,  3.02s/it]\u001B[A\n",
      " 90%|█████████ | 9/10 [00:27<00:03,  3.02s/it]\u001B[A\n",
      "100%|██████████| 10/10 [00:30<00:00,  3.02s/it]\u001B[A\n",
      " 61%|██████    | 50/82 [1:41:30<1:05:32, 122.89s/it]"
     ]
    },
    {
     "name": "stdout",
     "output_type": "stream",
     "text": [
      "https://lenta.ru/rubrics/economics/finance/4\n"
     ]
    },
    {
     "name": "stderr",
     "output_type": "stream",
     "text": [
      "\n",
      "  0%|          | 0/10 [00:00<?, ?it/s]\u001B[A\n",
      " 10%|█         | 1/10 [00:03<00:27,  3.02s/it]\u001B[A\n",
      " 20%|██        | 2/10 [00:06<00:24,  3.02s/it]\u001B[A\n",
      " 30%|███       | 3/10 [00:09<00:21,  3.02s/it]\u001B[A\n",
      " 40%|████      | 4/10 [00:12<00:18,  3.02s/it]\u001B[A\n",
      " 50%|█████     | 5/10 [00:15<00:15,  3.02s/it]\u001B[A\n",
      " 60%|██████    | 6/10 [00:18<00:12,  3.02s/it]\u001B[A\n",
      " 70%|███████   | 7/10 [00:21<00:09,  3.02s/it]\u001B[A\n",
      " 80%|████████  | 8/10 [00:24<00:06,  3.02s/it]\u001B[A\n",
      " 90%|█████████ | 9/10 [00:27<00:03,  3.02s/it]\u001B[A\n",
      "100%|██████████| 10/10 [00:30<00:00,  3.02s/it]\u001B[A\n",
      "                                               \u001B[A"
     ]
    },
    {
     "name": "stdout",
     "output_type": "stream",
     "text": [
      "https://lenta.ru/rubrics/economics/finance/6\n"
     ]
    },
    {
     "name": "stderr",
     "output_type": "stream",
     "text": [
      "\n",
      "  0%|          | 0/10 [00:00<?, ?it/s]\u001B[A\n",
      " 10%|█         | 1/10 [00:03<00:27,  3.01s/it]\u001B[A\n",
      " 20%|██        | 2/10 [00:06<00:24,  3.01s/it]\u001B[A\n",
      " 30%|███       | 3/10 [00:09<00:21,  3.01s/it]\u001B[A\n",
      " 40%|████      | 4/10 [00:12<00:18,  3.02s/it]\u001B[A\n",
      " 50%|█████     | 5/10 [00:15<00:15,  3.02s/it]\u001B[A\n",
      " 60%|██████    | 6/10 [00:18<00:12,  3.02s/it]\u001B[A\n",
      " 70%|███████   | 7/10 [00:21<00:09,  3.02s/it]\u001B[A\n",
      " 80%|████████  | 8/10 [00:24<00:06,  3.02s/it]\u001B[A\n",
      " 90%|█████████ | 9/10 [00:27<00:03,  3.02s/it]\u001B[A\n",
      "100%|██████████| 10/10 [00:30<00:00,  3.02s/it]\u001B[A\n",
      "                                               \u001B[A"
     ]
    },
    {
     "name": "stdout",
     "output_type": "stream",
     "text": [
      "https://lenta.ru/rubrics/economics/finance/8\n"
     ]
    },
    {
     "name": "stderr",
     "output_type": "stream",
     "text": [
      "\n",
      "  0%|          | 0/10 [00:00<?, ?it/s]\u001B[A\n",
      " 10%|█         | 1/10 [00:03<00:27,  3.01s/it]\u001B[A\n",
      " 20%|██        | 2/10 [00:06<00:24,  3.02s/it]\u001B[A\n",
      " 30%|███       | 3/10 [00:09<00:21,  3.02s/it]\u001B[A\n",
      " 40%|████      | 4/10 [00:12<00:18,  3.02s/it]\u001B[A\n",
      " 50%|█████     | 5/10 [00:15<00:15,  3.02s/it]\u001B[A\n",
      " 60%|██████    | 6/10 [00:18<00:12,  3.02s/it]\u001B[A\n",
      " 70%|███████   | 7/10 [00:21<00:09,  3.02s/it]\u001B[A\n",
      " 80%|████████  | 8/10 [00:24<00:06,  3.02s/it]\u001B[A\n",
      " 90%|█████████ | 9/10 [00:27<00:03,  3.02s/it]\u001B[A\n",
      "100%|██████████| 10/10 [00:30<00:00,  3.02s/it]\u001B[A\n",
      " 62%|██████▏   | 51/82 [1:43:33<1:03:28, 122.84s/it]"
     ]
    },
    {
     "name": "stdout",
     "output_type": "stream",
     "text": [
      "https://lenta.ru/rubrics/economics/business_climate/4\n"
     ]
    },
    {
     "name": "stderr",
     "output_type": "stream",
     "text": [
      "\n",
      "  0%|          | 0/10 [00:00<?, ?it/s]\u001B[A\n",
      " 10%|█         | 1/10 [00:03<00:27,  3.01s/it]\u001B[A\n",
      " 20%|██        | 2/10 [00:06<00:24,  3.02s/it]\u001B[A\n",
      " 30%|███       | 3/10 [00:09<00:21,  3.02s/it]\u001B[A\n",
      " 40%|████      | 4/10 [00:12<00:18,  3.02s/it]\u001B[A\n",
      " 50%|█████     | 5/10 [00:15<00:15,  3.02s/it]\u001B[A\n",
      " 60%|██████    | 6/10 [00:18<00:12,  3.02s/it]\u001B[A\n",
      " 70%|███████   | 7/10 [00:21<00:09,  3.02s/it]\u001B[A\n",
      " 80%|████████  | 8/10 [00:24<00:06,  3.02s/it]\u001B[A\n",
      " 90%|█████████ | 9/10 [00:27<00:03,  3.02s/it]\u001B[A\n",
      "100%|██████████| 10/10 [00:30<00:00,  3.02s/it]\u001B[A\n",
      "                                               \u001B[A"
     ]
    },
    {
     "name": "stdout",
     "output_type": "stream",
     "text": [
      "https://lenta.ru/rubrics/economics/business_climate/6\n"
     ]
    },
    {
     "name": "stderr",
     "output_type": "stream",
     "text": [
      "\n",
      "  0%|          | 0/10 [00:00<?, ?it/s]\u001B[A\n",
      " 10%|█         | 1/10 [00:03<00:27,  3.01s/it]\u001B[A\n",
      " 20%|██        | 2/10 [00:06<00:24,  3.01s/it]\u001B[A\n",
      " 30%|███       | 3/10 [00:09<00:21,  3.01s/it]\u001B[A\n",
      " 40%|████      | 4/10 [00:12<00:18,  3.02s/it]\u001B[A\n",
      " 50%|█████     | 5/10 [00:15<00:15,  3.01s/it]\u001B[A\n",
      " 60%|██████    | 6/10 [00:18<00:12,  3.02s/it]\u001B[A\n",
      " 70%|███████   | 7/10 [00:21<00:09,  3.02s/it]\u001B[A\n",
      " 80%|████████  | 8/10 [00:24<00:06,  3.02s/it]\u001B[A\n",
      " 90%|█████████ | 9/10 [00:27<00:03,  3.02s/it]\u001B[A\n",
      "100%|██████████| 10/10 [00:30<00:00,  3.01s/it]\u001B[A\n",
      "                                               \u001B[A"
     ]
    },
    {
     "name": "stdout",
     "output_type": "stream",
     "text": [
      "https://lenta.ru/rubrics/economics/business_climate/8\n"
     ]
    },
    {
     "name": "stderr",
     "output_type": "stream",
     "text": [
      "\n",
      "  0%|          | 0/10 [00:00<?, ?it/s]\u001B[A\n",
      " 10%|█         | 1/10 [00:03<00:27,  3.01s/it]\u001B[A\n",
      " 20%|██        | 2/10 [00:06<00:24,  3.02s/it]\u001B[A\n",
      " 30%|███       | 3/10 [00:09<00:21,  3.02s/it]\u001B[A\n",
      " 40%|████      | 4/10 [00:12<00:18,  3.02s/it]\u001B[A\n",
      " 50%|█████     | 5/10 [00:15<00:15,  3.02s/it]\u001B[A\n",
      " 60%|██████    | 6/10 [00:18<00:12,  3.02s/it]\u001B[A\n",
      " 70%|███████   | 7/10 [00:21<00:09,  3.02s/it]\u001B[A\n",
      " 80%|████████  | 8/10 [00:24<00:06,  3.02s/it]\u001B[A\n",
      " 90%|█████████ | 9/10 [00:27<00:03,  3.02s/it]\u001B[A\n",
      "100%|██████████| 10/10 [00:30<00:00,  3.02s/it]\u001B[A\n",
      " 63%|██████▎   | 52/82 [1:45:36<1:01:29, 122.97s/it]"
     ]
    },
    {
     "name": "stdout",
     "output_type": "stream",
     "text": [
      "https://lenta.ru/rubrics/economics/social/4\n"
     ]
    },
    {
     "name": "stderr",
     "output_type": "stream",
     "text": [
      "\n",
      "  0%|          | 0/10 [00:00<?, ?it/s]\u001B[A\n",
      " 10%|█         | 1/10 [00:03<00:27,  3.01s/it]\u001B[A\n",
      " 20%|██        | 2/10 [00:06<00:24,  3.01s/it]\u001B[A\n",
      " 30%|███       | 3/10 [00:09<00:21,  3.02s/it]\u001B[A\n",
      " 40%|████      | 4/10 [00:12<00:18,  3.02s/it]\u001B[A\n",
      " 50%|█████     | 5/10 [00:15<00:15,  3.02s/it]\u001B[A\n",
      " 60%|██████    | 6/10 [00:18<00:12,  3.02s/it]\u001B[A\n",
      " 70%|███████   | 7/10 [00:21<00:09,  3.02s/it]\u001B[A\n",
      " 80%|████████  | 8/10 [00:24<00:06,  3.02s/it]\u001B[A\n",
      " 90%|█████████ | 9/10 [00:27<00:03,  3.02s/it]\u001B[A\n",
      "100%|██████████| 10/10 [00:30<00:00,  3.02s/it]\u001B[A\n",
      "                                               \u001B[A"
     ]
    },
    {
     "name": "stdout",
     "output_type": "stream",
     "text": [
      "https://lenta.ru/rubrics/economics/social/6\n"
     ]
    },
    {
     "name": "stderr",
     "output_type": "stream",
     "text": [
      "\n",
      "  0%|          | 0/10 [00:00<?, ?it/s]\u001B[A\n",
      " 10%|█         | 1/10 [00:03<00:27,  3.01s/it]\u001B[A\n",
      " 20%|██        | 2/10 [00:06<00:24,  3.02s/it]\u001B[A\n",
      " 30%|███       | 3/10 [00:09<00:21,  3.02s/it]\u001B[A\n",
      " 40%|████      | 4/10 [00:12<00:18,  3.02s/it]\u001B[A\n",
      " 50%|█████     | 5/10 [00:15<00:15,  3.02s/it]\u001B[A\n",
      " 60%|██████    | 6/10 [00:18<00:12,  3.02s/it]\u001B[A\n",
      " 70%|███████   | 7/10 [00:21<00:09,  3.02s/it]\u001B[A\n",
      " 80%|████████  | 8/10 [00:24<00:06,  3.02s/it]\u001B[A\n",
      " 90%|█████████ | 9/10 [00:27<00:03,  3.02s/it]\u001B[A\n",
      "100%|██████████| 10/10 [00:30<00:00,  3.02s/it]\u001B[A\n",
      "                                               \u001B[A"
     ]
    },
    {
     "name": "stdout",
     "output_type": "stream",
     "text": [
      "https://lenta.ru/rubrics/economics/social/8\n"
     ]
    },
    {
     "name": "stderr",
     "output_type": "stream",
     "text": [
      "\n",
      "  0%|          | 0/10 [00:00<?, ?it/s]\u001B[A\n",
      " 10%|█         | 1/10 [00:03<00:27,  3.02s/it]\u001B[A\n",
      " 20%|██        | 2/10 [00:06<00:24,  3.02s/it]\u001B[A\n",
      " 30%|███       | 3/10 [00:09<00:21,  3.02s/it]\u001B[A\n",
      " 40%|████      | 4/10 [00:12<00:18,  3.02s/it]\u001B[A\n",
      " 50%|█████     | 5/10 [00:15<00:15,  3.02s/it]\u001B[A\n",
      " 60%|██████    | 6/10 [00:18<00:12,  3.02s/it]\u001B[A\n",
      " 70%|███████   | 7/10 [00:21<00:09,  3.02s/it]\u001B[A\n",
      " 80%|████████  | 8/10 [00:24<00:06,  3.02s/it]\u001B[A\n",
      " 90%|█████████ | 9/10 [00:27<00:03,  3.02s/it]\u001B[A\n",
      "100%|██████████| 10/10 [00:30<00:00,  3.02s/it]\u001B[A\n",
      " 65%|██████▍   | 53/82 [1:47:38<59:20, 122.79s/it]  "
     ]
    },
    {
     "name": "stdout",
     "output_type": "stream",
     "text": [
      "https://lenta.ru/rubrics/economics/crypto/4\n"
     ]
    },
    {
     "name": "stderr",
     "output_type": "stream",
     "text": [
      "\n",
      "  0%|          | 0/10 [00:00<?, ?it/s]\u001B[A\n",
      " 10%|█         | 1/10 [00:03<00:27,  3.01s/it]\u001B[A\n",
      " 20%|██        | 2/10 [00:06<00:24,  3.01s/it]\u001B[A\n",
      " 30%|███       | 3/10 [00:09<00:21,  3.01s/it]\u001B[A\n",
      " 40%|████      | 4/10 [00:12<00:18,  3.02s/it]\u001B[A\n",
      " 50%|█████     | 5/10 [00:15<00:15,  3.02s/it]\u001B[A\n",
      " 60%|██████    | 6/10 [00:18<00:12,  3.02s/it]\u001B[A\n",
      " 70%|███████   | 7/10 [00:21<00:09,  3.01s/it]\u001B[A\n",
      " 80%|████████  | 8/10 [00:24<00:06,  3.01s/it]\u001B[A\n",
      " 90%|█████████ | 9/10 [00:27<00:03,  3.02s/it]\u001B[A\n",
      "100%|██████████| 10/10 [00:30<00:00,  3.02s/it]\u001B[A\n",
      "                                               \u001B[A"
     ]
    },
    {
     "name": "stdout",
     "output_type": "stream",
     "text": [
      "https://lenta.ru/rubrics/economics/crypto/6\n"
     ]
    },
    {
     "name": "stderr",
     "output_type": "stream",
     "text": [
      "\n",
      "  0%|          | 0/10 [00:00<?, ?it/s]\u001B[A\n",
      " 10%|█         | 1/10 [00:03<00:27,  3.01s/it]\u001B[A\n",
      " 20%|██        | 2/10 [00:06<00:24,  3.02s/it]\u001B[A\n",
      " 30%|███       | 3/10 [00:09<00:21,  3.02s/it]\u001B[A\n",
      " 40%|████      | 4/10 [00:12<00:18,  3.02s/it]\u001B[A\n",
      " 50%|█████     | 5/10 [00:15<00:15,  3.02s/it]\u001B[A\n",
      " 60%|██████    | 6/10 [00:18<00:12,  3.02s/it]\u001B[A\n",
      " 70%|███████   | 7/10 [00:21<00:09,  3.02s/it]\u001B[A\n",
      " 80%|████████  | 8/10 [00:24<00:06,  3.02s/it]\u001B[A\n",
      " 90%|█████████ | 9/10 [00:27<00:03,  3.02s/it]\u001B[A\n",
      "100%|██████████| 10/10 [00:30<00:00,  3.02s/it]\u001B[A\n",
      "                                               \u001B[A"
     ]
    },
    {
     "name": "stdout",
     "output_type": "stream",
     "text": [
      "https://lenta.ru/rubrics/economics/crypto/8\n"
     ]
    },
    {
     "name": "stderr",
     "output_type": "stream",
     "text": [
      "\n",
      "  0%|          | 0/10 [00:00<?, ?it/s]\u001B[A\n",
      " 10%|█         | 1/10 [00:03<00:27,  3.03s/it]\u001B[A\n",
      " 20%|██        | 2/10 [00:06<00:24,  3.03s/it]\u001B[A\n",
      " 30%|███       | 3/10 [00:09<00:21,  3.02s/it]\u001B[A\n",
      " 40%|████      | 4/10 [00:12<00:18,  3.02s/it]\u001B[A\n",
      " 50%|█████     | 5/10 [00:15<00:15,  3.02s/it]\u001B[A\n",
      " 60%|██████    | 6/10 [00:18<00:12,  3.02s/it]\u001B[A\n",
      " 70%|███████   | 7/10 [00:21<00:09,  3.02s/it]\u001B[A\n",
      " 80%|████████  | 8/10 [00:24<00:06,  3.02s/it]\u001B[A\n",
      " 90%|█████████ | 9/10 [00:27<00:03,  3.02s/it]\u001B[A\n",
      "100%|██████████| 10/10 [00:30<00:00,  3.02s/it]\u001B[A\n",
      " 66%|██████▌   | 54/82 [1:49:44<57:45, 123.77s/it]"
     ]
    },
    {
     "name": "stdout",
     "output_type": "stream",
     "text": [
      "https://lenta.ru/rubrics/economics/investments/4\n"
     ]
    },
    {
     "name": "stderr",
     "output_type": "stream",
     "text": [
      "\n",
      "  0%|          | 0/10 [00:00<?, ?it/s]\u001B[A\n",
      " 10%|█         | 1/10 [00:03<00:27,  3.02s/it]\u001B[A\n",
      " 20%|██        | 2/10 [00:06<00:24,  3.02s/it]\u001B[A\n",
      " 30%|███       | 3/10 [00:09<00:21,  3.02s/it]\u001B[A\n",
      " 40%|████      | 4/10 [00:12<00:18,  3.02s/it]\u001B[A\n",
      " 50%|█████     | 5/10 [00:15<00:15,  3.02s/it]\u001B[A\n",
      " 60%|██████    | 6/10 [00:18<00:12,  3.02s/it]\u001B[A\n",
      " 70%|███████   | 7/10 [00:21<00:09,  3.02s/it]\u001B[A\n",
      " 80%|████████  | 8/10 [00:24<00:06,  3.02s/it]\u001B[A\n",
      " 90%|█████████ | 9/10 [00:27<00:03,  3.02s/it]\u001B[A\n",
      "100%|██████████| 10/10 [00:30<00:00,  3.02s/it]\u001B[A\n",
      "                                               \u001B[A"
     ]
    },
    {
     "name": "stdout",
     "output_type": "stream",
     "text": [
      "https://lenta.ru/rubrics/economics/investments/6\n"
     ]
    },
    {
     "name": "stderr",
     "output_type": "stream",
     "text": [
      "\n",
      "  0%|          | 0/10 [00:00<?, ?it/s]\u001B[A\n",
      " 10%|█         | 1/10 [00:03<00:27,  3.01s/it]\u001B[A\n",
      " 20%|██        | 2/10 [00:06<00:24,  3.01s/it]\u001B[A\n",
      " 30%|███       | 3/10 [00:09<00:21,  3.02s/it]\u001B[A\n",
      " 40%|████      | 4/10 [00:12<00:18,  3.02s/it]\u001B[A\n",
      " 50%|█████     | 5/10 [00:15<00:15,  3.02s/it]\u001B[A\n",
      " 60%|██████    | 6/10 [00:18<00:12,  3.02s/it]\u001B[A\n",
      " 70%|███████   | 7/10 [00:21<00:09,  3.02s/it]\u001B[A\n",
      " 80%|████████  | 8/10 [00:24<00:06,  3.02s/it]\u001B[A\n",
      " 90%|█████████ | 9/10 [00:27<00:03,  3.02s/it]\u001B[A\n",
      "100%|██████████| 10/10 [00:30<00:00,  3.02s/it]\u001B[A\n",
      "                                               \u001B[A"
     ]
    },
    {
     "name": "stdout",
     "output_type": "stream",
     "text": [
      "https://lenta.ru/rubrics/economics/investments/8\n"
     ]
    },
    {
     "name": "stderr",
     "output_type": "stream",
     "text": [
      "\n",
      "  0%|          | 0/10 [00:00<?, ?it/s]\u001B[A\n",
      " 10%|█         | 1/10 [00:03<00:27,  3.01s/it]\u001B[A\n",
      " 20%|██        | 2/10 [00:06<00:24,  3.01s/it]\u001B[A\n",
      " 30%|███       | 3/10 [00:09<00:21,  3.02s/it]\u001B[A\n",
      " 40%|████      | 4/10 [00:12<00:18,  3.02s/it]\u001B[A\n",
      " 50%|█████     | 5/10 [00:15<00:15,  3.02s/it]\u001B[A\n",
      " 60%|██████    | 6/10 [00:18<00:12,  3.02s/it]\u001B[A\n",
      " 70%|███████   | 7/10 [00:21<00:09,  3.02s/it]\u001B[A\n",
      " 80%|████████  | 8/10 [00:24<00:06,  3.02s/it]\u001B[A\n",
      " 90%|█████████ | 9/10 [00:27<00:03,  3.02s/it]\u001B[A\n",
      "100%|██████████| 10/10 [00:30<00:00,  3.02s/it]\u001B[A\n",
      " 67%|██████▋   | 55/82 [1:51:51<56:00, 124.48s/it]"
     ]
    },
    {
     "name": "stdout",
     "output_type": "stream",
     "text": [
      "https://lenta.ru/rubrics/realty/city/4\n"
     ]
    },
    {
     "name": "stderr",
     "output_type": "stream",
     "text": [
      "\n",
      "  0%|          | 0/10 [00:00<?, ?it/s]\u001B[A\n",
      " 10%|█         | 1/10 [00:03<00:27,  3.01s/it]\u001B[A\n",
      " 20%|██        | 2/10 [00:06<00:24,  3.02s/it]\u001B[A\n",
      " 30%|███       | 3/10 [00:09<00:21,  3.02s/it]\u001B[A\n",
      " 40%|████      | 4/10 [00:12<00:18,  3.02s/it]\u001B[A\n",
      " 50%|█████     | 5/10 [00:15<00:15,  3.02s/it]\u001B[A\n",
      " 60%|██████    | 6/10 [00:18<00:12,  3.02s/it]\u001B[A\n",
      " 70%|███████   | 7/10 [00:21<00:09,  3.02s/it]\u001B[A\n",
      " 80%|████████  | 8/10 [00:24<00:06,  3.02s/it]\u001B[A\n",
      " 90%|█████████ | 9/10 [00:27<00:03,  3.02s/it]\u001B[A\n",
      "100%|██████████| 10/10 [00:30<00:00,  3.02s/it]\u001B[A\n",
      "                                               \u001B[A"
     ]
    },
    {
     "name": "stdout",
     "output_type": "stream",
     "text": [
      "https://lenta.ru/rubrics/realty/city/6\n"
     ]
    },
    {
     "name": "stderr",
     "output_type": "stream",
     "text": [
      "\n",
      "  0%|          | 0/10 [00:00<?, ?it/s]\u001B[A\n",
      " 10%|█         | 1/10 [00:03<00:27,  3.02s/it]\u001B[A\n",
      " 20%|██        | 2/10 [00:06<00:24,  3.02s/it]\u001B[A\n",
      " 30%|███       | 3/10 [00:09<00:21,  3.02s/it]\u001B[A\n",
      " 40%|████      | 4/10 [00:12<00:18,  3.02s/it]\u001B[A\n",
      " 50%|█████     | 5/10 [00:15<00:15,  3.02s/it]\u001B[A\n",
      " 60%|██████    | 6/10 [00:18<00:12,  3.02s/it]\u001B[A\n",
      " 70%|███████   | 7/10 [00:21<00:09,  3.02s/it]\u001B[A\n",
      " 80%|████████  | 8/10 [00:24<00:06,  3.02s/it]\u001B[A\n",
      " 90%|█████████ | 9/10 [00:27<00:03,  3.02s/it]\u001B[A\n",
      "100%|██████████| 10/10 [00:30<00:00,  3.02s/it]\u001B[A\n",
      "                                               \u001B[A"
     ]
    },
    {
     "name": "stdout",
     "output_type": "stream",
     "text": [
      "https://lenta.ru/rubrics/realty/city/8\n"
     ]
    },
    {
     "name": "stderr",
     "output_type": "stream",
     "text": [
      "\n",
      "  0%|          | 0/10 [00:00<?, ?it/s]\u001B[A\n",
      " 10%|█         | 1/10 [00:03<00:27,  3.02s/it]\u001B[A\n",
      " 20%|██        | 2/10 [00:06<00:24,  3.02s/it]\u001B[A\n",
      " 30%|███       | 3/10 [00:09<00:21,  3.02s/it]\u001B[A\n",
      " 40%|████      | 4/10 [00:12<00:18,  3.02s/it]\u001B[A\n",
      " 50%|█████     | 5/10 [00:15<00:15,  3.02s/it]\u001B[A\n",
      " 60%|██████    | 6/10 [00:18<00:12,  3.02s/it]\u001B[A\n",
      " 70%|███████   | 7/10 [00:21<00:09,  3.02s/it]\u001B[A\n",
      " 80%|████████  | 8/10 [00:24<00:06,  3.02s/it]\u001B[A\n",
      " 90%|█████████ | 9/10 [00:27<00:03,  3.02s/it]\u001B[A\n",
      "100%|██████████| 10/10 [00:30<00:00,  3.02s/it]\u001B[A\n",
      " 68%|██████▊   | 56/82 [1:53:48<53:03, 122.46s/it]"
     ]
    },
    {
     "name": "stdout",
     "output_type": "stream",
     "text": [
      "https://lenta.ru/rubrics//realty/home/4\n"
     ]
    },
    {
     "name": "stderr",
     "output_type": "stream",
     "text": [
      "\n",
      "  0%|          | 0/10 [00:00<?, ?it/s]\u001B[A\n",
      " 10%|█         | 1/10 [00:03<00:27,  3.02s/it]\u001B[A\n",
      " 20%|██        | 2/10 [00:06<00:24,  3.02s/it]\u001B[A\n",
      " 30%|███       | 3/10 [00:09<00:21,  3.02s/it]\u001B[A\n",
      " 40%|████      | 4/10 [00:12<00:18,  3.02s/it]\u001B[A\n",
      " 50%|█████     | 5/10 [00:15<00:15,  3.02s/it]\u001B[A\n",
      " 60%|██████    | 6/10 [00:18<00:12,  3.02s/it]\u001B[A\n",
      " 70%|███████   | 7/10 [00:21<00:09,  3.02s/it]\u001B[A\n",
      " 80%|████████  | 8/10 [00:24<00:06,  3.02s/it]\u001B[A\n",
      " 90%|█████████ | 9/10 [00:27<00:03,  3.02s/it]\u001B[A\n",
      "100%|██████████| 10/10 [00:30<00:00,  3.02s/it]\u001B[A\n",
      "                                               \u001B[A"
     ]
    },
    {
     "name": "stdout",
     "output_type": "stream",
     "text": [
      "https://lenta.ru/rubrics//realty/home/6\n"
     ]
    },
    {
     "name": "stderr",
     "output_type": "stream",
     "text": [
      "\n",
      "  0%|          | 0/10 [00:00<?, ?it/s]\u001B[A\n",
      " 10%|█         | 1/10 [00:03<00:27,  3.02s/it]\u001B[A\n",
      " 20%|██        | 2/10 [00:06<00:24,  3.02s/it]\u001B[A\n",
      " 30%|███       | 3/10 [00:09<00:21,  3.02s/it]\u001B[A\n",
      " 40%|████      | 4/10 [00:12<00:18,  3.01s/it]\u001B[A\n",
      " 50%|█████     | 5/10 [00:15<00:15,  3.02s/it]\u001B[A\n",
      " 60%|██████    | 6/10 [00:18<00:12,  3.02s/it]\u001B[A\n",
      " 70%|███████   | 7/10 [00:21<00:09,  3.02s/it]\u001B[A\n",
      " 80%|████████  | 8/10 [00:24<00:06,  3.02s/it]\u001B[A\n",
      " 90%|█████████ | 9/10 [00:27<00:03,  3.02s/it]\u001B[A\n",
      "100%|██████████| 10/10 [00:30<00:00,  3.02s/it]\u001B[A\n",
      "                                               \u001B[A"
     ]
    },
    {
     "name": "stdout",
     "output_type": "stream",
     "text": [
      "https://lenta.ru/rubrics//realty/home/8\n"
     ]
    },
    {
     "name": "stderr",
     "output_type": "stream",
     "text": [
      "\n",
      "  0%|          | 0/10 [00:00<?, ?it/s]\u001B[A\n",
      " 10%|█         | 1/10 [00:03<00:27,  3.01s/it]\u001B[A\n",
      " 20%|██        | 2/10 [00:06<00:24,  3.01s/it]\u001B[A\n",
      " 30%|███       | 3/10 [00:09<00:21,  3.02s/it]\u001B[A\n",
      " 40%|████      | 4/10 [00:12<00:18,  3.02s/it]\u001B[A\n",
      " 50%|█████     | 5/10 [00:15<00:15,  3.02s/it]\u001B[A\n",
      " 60%|██████    | 6/10 [00:18<00:12,  3.02s/it]\u001B[A\n",
      " 70%|███████   | 7/10 [00:21<00:09,  3.02s/it]\u001B[A\n",
      " 80%|████████  | 8/10 [00:24<00:06,  3.02s/it]\u001B[A\n",
      " 90%|█████████ | 9/10 [00:27<00:03,  3.02s/it]\u001B[A\n",
      "100%|██████████| 10/10 [00:30<00:00,  3.02s/it]\u001B[A\n",
      " 70%|██████▉   | 57/82 [1:55:46<50:27, 121.09s/it]"
     ]
    },
    {
     "name": "stdout",
     "output_type": "stream",
     "text": [
      "https://lenta.ru/rubrics/realty/region/4\n"
     ]
    },
    {
     "name": "stderr",
     "output_type": "stream",
     "text": [
      "\n",
      "  0%|          | 0/10 [00:00<?, ?it/s]\u001B[A\n",
      " 10%|█         | 1/10 [00:03<00:27,  3.02s/it]\u001B[A\n",
      " 20%|██        | 2/10 [00:06<00:24,  3.02s/it]\u001B[A\n",
      " 30%|███       | 3/10 [00:09<00:21,  3.02s/it]\u001B[A\n",
      " 40%|████      | 4/10 [00:12<00:18,  3.02s/it]\u001B[A\n",
      " 50%|█████     | 5/10 [00:15<00:15,  3.02s/it]\u001B[A\n",
      " 60%|██████    | 6/10 [00:18<00:12,  3.02s/it]\u001B[A\n",
      " 70%|███████   | 7/10 [00:21<00:09,  3.02s/it]\u001B[A\n",
      " 80%|████████  | 8/10 [00:24<00:06,  3.02s/it]\u001B[A\n",
      " 90%|█████████ | 9/10 [00:27<00:03,  3.02s/it]\u001B[A\n",
      "100%|██████████| 10/10 [00:30<00:00,  3.01s/it]\u001B[A\n",
      "                                               \u001B[A"
     ]
    },
    {
     "name": "stdout",
     "output_type": "stream",
     "text": [
      "https://lenta.ru/rubrics/realty/region/6\n"
     ]
    },
    {
     "name": "stderr",
     "output_type": "stream",
     "text": [
      "\n",
      "  0%|          | 0/10 [00:00<?, ?it/s]\u001B[A\n",
      " 10%|█         | 1/10 [00:03<00:27,  3.02s/it]\u001B[A\n",
      " 20%|██        | 2/10 [00:06<00:24,  3.02s/it]\u001B[A\n",
      " 30%|███       | 3/10 [00:09<00:21,  3.02s/it]\u001B[A\n",
      " 40%|████      | 4/10 [00:12<00:18,  3.02s/it]\u001B[A\n",
      " 50%|█████     | 5/10 [00:15<00:15,  3.02s/it]\u001B[A\n",
      " 60%|██████    | 6/10 [00:18<00:12,  3.02s/it]\u001B[A\n",
      " 70%|███████   | 7/10 [00:21<00:09,  3.02s/it]\u001B[A\n",
      " 80%|████████  | 8/10 [00:24<00:06,  3.02s/it]\u001B[A\n",
      " 90%|█████████ | 9/10 [00:27<00:03,  3.02s/it]\u001B[A\n",
      "100%|██████████| 10/10 [00:30<00:00,  3.02s/it]\u001B[A\n",
      "                                               \u001B[A"
     ]
    },
    {
     "name": "stdout",
     "output_type": "stream",
     "text": [
      "https://lenta.ru/rubrics/realty/region/8\n"
     ]
    },
    {
     "name": "stderr",
     "output_type": "stream",
     "text": [
      "\n",
      "  0%|          | 0/10 [00:00<?, ?it/s]\u001B[A\n",
      " 10%|█         | 1/10 [00:03<00:27,  3.01s/it]\u001B[A\n",
      " 20%|██        | 2/10 [00:06<00:24,  3.01s/it]\u001B[A\n",
      " 30%|███       | 3/10 [00:09<00:21,  3.02s/it]\u001B[A\n",
      " 40%|████      | 4/10 [00:12<00:18,  3.02s/it]\u001B[A\n",
      " 50%|█████     | 5/10 [00:15<00:15,  3.02s/it]\u001B[A\n",
      " 60%|██████    | 6/10 [00:18<00:12,  3.02s/it]\u001B[A\n",
      " 70%|███████   | 7/10 [00:21<00:09,  3.02s/it]\u001B[A\n",
      " 80%|████████  | 8/10 [00:24<00:06,  3.02s/it]\u001B[A\n",
      " 90%|█████████ | 9/10 [00:27<00:03,  3.02s/it]\u001B[A\n",
      "100%|██████████| 10/10 [00:30<00:00,  3.02s/it]\u001B[A\n",
      " 71%|███████   | 58/82 [1:57:45<48:10, 120.43s/it]"
     ]
    },
    {
     "name": "stdout",
     "output_type": "stream",
     "text": [
      "https://lenta.ru/rubrics/realty/climate/4\n"
     ]
    },
    {
     "name": "stderr",
     "output_type": "stream",
     "text": [
      "\n",
      "  0%|          | 0/10 [00:00<?, ?it/s]\u001B[A\n",
      " 10%|█         | 1/10 [00:03<00:27,  3.01s/it]\u001B[A\n",
      " 20%|██        | 2/10 [00:06<00:24,  3.02s/it]\u001B[A\n",
      " 30%|███       | 3/10 [00:09<00:21,  3.02s/it]\u001B[A\n",
      " 40%|████      | 4/10 [00:12<00:18,  3.02s/it]\u001B[A\n",
      " 50%|█████     | 5/10 [00:15<00:15,  3.02s/it]\u001B[A\n",
      " 60%|██████    | 6/10 [00:18<00:12,  3.02s/it]\u001B[A\n",
      " 70%|███████   | 7/10 [00:21<00:09,  3.02s/it]\u001B[A\n",
      " 80%|████████  | 8/10 [00:24<00:06,  3.02s/it]\u001B[A\n",
      " 90%|█████████ | 9/10 [00:27<00:03,  3.02s/it]\u001B[A\n",
      "100%|██████████| 10/10 [00:30<00:00,  3.02s/it]\u001B[A\n",
      "                                               \u001B[A"
     ]
    },
    {
     "name": "stdout",
     "output_type": "stream",
     "text": [
      "https://lenta.ru/rubrics/realty/climate/6\n"
     ]
    },
    {
     "name": "stderr",
     "output_type": "stream",
     "text": [
      "\n",
      "  0%|          | 0/10 [00:00<?, ?it/s]\u001B[A\n",
      " 10%|█         | 1/10 [00:03<00:27,  3.01s/it]\u001B[A\n",
      " 20%|██        | 2/10 [00:06<00:24,  3.01s/it]\u001B[A\n",
      " 30%|███       | 3/10 [00:09<00:21,  3.02s/it]\u001B[A\n",
      " 40%|████      | 4/10 [00:12<00:18,  3.02s/it]\u001B[A\n",
      " 50%|█████     | 5/10 [00:15<00:15,  3.02s/it]\u001B[A\n",
      " 60%|██████    | 6/10 [00:18<00:12,  3.02s/it]\u001B[A\n",
      " 70%|███████   | 7/10 [00:21<00:09,  3.01s/it]\u001B[A\n",
      " 80%|████████  | 8/10 [00:24<00:06,  3.02s/it]\u001B[A\n",
      " 90%|█████████ | 9/10 [00:27<00:03,  3.02s/it]\u001B[A\n",
      "100%|██████████| 10/10 [00:30<00:00,  3.02s/it]\u001B[A\n",
      "                                               \u001B[A"
     ]
    },
    {
     "name": "stdout",
     "output_type": "stream",
     "text": [
      "https://lenta.ru/rubrics/realty/climate/8\n"
     ]
    },
    {
     "name": "stderr",
     "output_type": "stream",
     "text": [
      "\n",
      "  0%|          | 0/10 [00:00<?, ?it/s]\u001B[A\n",
      " 10%|█         | 1/10 [00:03<00:27,  3.01s/it]\u001B[A\n",
      " 20%|██        | 2/10 [00:06<00:24,  3.02s/it]\u001B[A\n",
      " 30%|███       | 3/10 [00:09<00:21,  3.01s/it]\u001B[A\n",
      " 40%|████      | 4/10 [00:12<00:18,  3.02s/it]\u001B[A\n",
      " 50%|█████     | 5/10 [00:15<00:15,  3.01s/it]\u001B[A\n",
      " 60%|██████    | 6/10 [00:18<00:12,  3.01s/it]\u001B[A\n",
      " 70%|███████   | 7/10 [00:21<00:09,  3.02s/it]\u001B[A\n",
      " 80%|████████  | 8/10 [00:24<00:06,  3.02s/it]\u001B[A\n",
      " 90%|█████████ | 9/10 [00:27<00:03,  3.02s/it]\u001B[A\n",
      "100%|██████████| 10/10 [00:30<00:00,  3.02s/it]\u001B[A\n",
      " 72%|███████▏  | 59/82 [1:59:43<45:54, 119.75s/it]"
     ]
    },
    {
     "name": "stdout",
     "output_type": "stream",
     "text": [
      "https://lenta.ru/rubrics/realty/transport/4\n"
     ]
    },
    {
     "name": "stderr",
     "output_type": "stream",
     "text": [
      "\n",
      "  0%|          | 0/10 [00:00<?, ?it/s]\u001B[A\n",
      " 10%|█         | 1/10 [00:03<00:27,  3.01s/it]\u001B[A\n",
      " 20%|██        | 2/10 [00:06<00:24,  3.02s/it]\u001B[A\n",
      " 30%|███       | 3/10 [00:09<00:21,  3.02s/it]\u001B[A\n",
      " 40%|████      | 4/10 [00:12<00:18,  3.02s/it]\u001B[A\n",
      " 50%|█████     | 5/10 [00:15<00:15,  3.02s/it]\u001B[A\n",
      " 60%|██████    | 6/10 [00:18<00:12,  3.02s/it]\u001B[A\n",
      " 70%|███████   | 7/10 [00:21<00:09,  3.02s/it]\u001B[A\n",
      " 80%|████████  | 8/10 [00:24<00:06,  3.02s/it]\u001B[A\n",
      " 90%|█████████ | 9/10 [00:27<00:03,  3.02s/it]\u001B[A\n",
      "100%|██████████| 10/10 [00:30<00:00,  3.02s/it]\u001B[A\n",
      "                                               \u001B[A"
     ]
    },
    {
     "name": "stdout",
     "output_type": "stream",
     "text": [
      "https://lenta.ru/rubrics/realty/transport/6\n"
     ]
    },
    {
     "name": "stderr",
     "output_type": "stream",
     "text": [
      "\n",
      "  0%|          | 0/10 [00:00<?, ?it/s]\u001B[A\n",
      " 10%|█         | 1/10 [00:03<00:27,  3.02s/it]\u001B[A\n",
      " 20%|██        | 2/10 [00:06<00:24,  3.02s/it]\u001B[A\n",
      " 30%|███       | 3/10 [00:09<00:21,  3.02s/it]\u001B[A\n",
      " 40%|████      | 4/10 [00:12<00:18,  3.02s/it]\u001B[A\n",
      " 50%|█████     | 5/10 [00:15<00:15,  3.02s/it]\u001B[A\n",
      " 60%|██████    | 6/10 [00:18<00:12,  3.02s/it]\u001B[A\n",
      " 70%|███████   | 7/10 [00:21<00:09,  3.02s/it]\u001B[A\n",
      " 80%|████████  | 8/10 [00:24<00:06,  3.02s/it]\u001B[A\n",
      " 90%|█████████ | 9/10 [00:27<00:03,  3.02s/it]\u001B[A\n",
      "100%|██████████| 10/10 [00:30<00:00,  3.02s/it]\u001B[A\n",
      "                                               \u001B[A"
     ]
    },
    {
     "name": "stdout",
     "output_type": "stream",
     "text": [
      "https://lenta.ru/rubrics/realty/transport/8\n"
     ]
    },
    {
     "name": "stderr",
     "output_type": "stream",
     "text": [
      "\n",
      "  0%|          | 0/10 [00:00<?, ?it/s]\u001B[A\n",
      " 10%|█         | 1/10 [00:03<00:27,  3.01s/it]\u001B[A\n",
      " 20%|██        | 2/10 [00:06<00:24,  3.02s/it]\u001B[A\n",
      " 30%|███       | 3/10 [00:09<00:21,  3.02s/it]\u001B[A\n",
      " 40%|████      | 4/10 [00:12<00:18,  3.02s/it]\u001B[A\n",
      " 50%|█████     | 5/10 [00:15<00:15,  3.02s/it]\u001B[A\n",
      " 60%|██████    | 6/10 [00:18<00:12,  3.02s/it]\u001B[A\n",
      " 70%|███████   | 7/10 [00:21<00:09,  3.02s/it]\u001B[A\n",
      " 80%|████████  | 8/10 [00:24<00:06,  3.02s/it]\u001B[A\n",
      " 90%|█████████ | 9/10 [00:27<00:03,  3.02s/it]\u001B[A\n",
      "100%|██████████| 10/10 [00:30<00:00,  3.02s/it]\u001B[A\n",
      " 73%|███████▎  | 60/82 [2:01:41<43:44, 119.30s/it]"
     ]
    },
    {
     "name": "stdout",
     "output_type": "stream",
     "text": [
      "https://lenta.ru/rubrics/life/people/4\n"
     ]
    },
    {
     "name": "stderr",
     "output_type": "stream",
     "text": [
      "\n",
      "  0%|          | 0/10 [00:00<?, ?it/s]\u001B[A\n",
      " 10%|█         | 1/10 [00:03<00:27,  3.02s/it]\u001B[A\n",
      " 20%|██        | 2/10 [00:06<00:24,  3.02s/it]\u001B[A\n",
      " 30%|███       | 3/10 [00:09<00:21,  3.02s/it]\u001B[A\n",
      " 40%|████      | 4/10 [00:12<00:18,  3.02s/it]\u001B[A\n",
      " 50%|█████     | 5/10 [00:15<00:15,  3.02s/it]\u001B[A\n",
      " 60%|██████    | 6/10 [00:18<00:12,  3.02s/it]\u001B[A\n",
      " 70%|███████   | 7/10 [00:21<00:09,  3.02s/it]\u001B[A\n",
      " 80%|████████  | 8/10 [00:24<00:06,  3.02s/it]\u001B[A\n",
      " 90%|█████████ | 9/10 [00:27<00:03,  3.02s/it]\u001B[A\n",
      "100%|██████████| 10/10 [00:30<00:00,  3.02s/it]\u001B[A\n",
      "                                               \u001B[A"
     ]
    },
    {
     "name": "stdout",
     "output_type": "stream",
     "text": [
      "https://lenta.ru/rubrics/life/people/6\n"
     ]
    },
    {
     "name": "stderr",
     "output_type": "stream",
     "text": [
      "\n",
      "  0%|          | 0/10 [00:00<?, ?it/s]\u001B[A\n",
      " 10%|█         | 1/10 [00:03<00:27,  3.03s/it]\u001B[A\n",
      " 20%|██        | 2/10 [00:06<00:24,  3.02s/it]\u001B[A\n",
      " 30%|███       | 3/10 [00:09<00:21,  3.02s/it]\u001B[A\n",
      " 40%|████      | 4/10 [00:12<00:18,  3.02s/it]\u001B[A\n",
      " 50%|█████     | 5/10 [00:15<00:15,  3.02s/it]\u001B[A\n",
      " 60%|██████    | 6/10 [00:18<00:12,  3.02s/it]\u001B[A\n",
      " 70%|███████   | 7/10 [00:21<00:09,  3.02s/it]\u001B[A\n",
      " 80%|████████  | 8/10 [00:24<00:06,  3.02s/it]\u001B[A\n",
      " 90%|█████████ | 9/10 [00:27<00:03,  3.02s/it]\u001B[A\n",
      "100%|██████████| 10/10 [00:30<00:00,  3.02s/it]\u001B[A\n",
      "                                               \u001B[A"
     ]
    },
    {
     "name": "stdout",
     "output_type": "stream",
     "text": [
      "https://lenta.ru/rubrics/life/people/8\n"
     ]
    },
    {
     "name": "stderr",
     "output_type": "stream",
     "text": [
      "\n",
      "  0%|          | 0/10 [00:00<?, ?it/s]\u001B[A\n",
      " 10%|█         | 1/10 [00:03<00:27,  3.01s/it]\u001B[A\n",
      " 20%|██        | 2/10 [00:06<00:24,  3.02s/it]\u001B[A\n",
      " 30%|███       | 3/10 [00:09<00:21,  3.02s/it]\u001B[A\n",
      " 40%|████      | 4/10 [00:12<00:18,  3.02s/it]\u001B[A\n",
      " 50%|█████     | 5/10 [00:15<00:15,  3.02s/it]\u001B[A\n",
      " 60%|██████    | 6/10 [00:18<00:12,  3.02s/it]\u001B[A\n",
      " 70%|███████   | 7/10 [00:21<00:09,  3.02s/it]\u001B[A\n",
      " 80%|████████  | 8/10 [00:24<00:06,  3.02s/it]\u001B[A\n",
      " 90%|█████████ | 9/10 [00:27<00:03,  3.02s/it]\u001B[A\n",
      "100%|██████████| 10/10 [00:30<00:00,  3.02s/it]\u001B[A\n",
      " 74%|███████▍  | 61/82 [2:03:41<41:49, 119.48s/it]"
     ]
    },
    {
     "name": "stdout",
     "output_type": "stream",
     "text": [
      "https://lenta.ru/rubrics/life/animals/4\n"
     ]
    },
    {
     "name": "stderr",
     "output_type": "stream",
     "text": [
      "\n",
      "  0%|          | 0/10 [00:00<?, ?it/s]\u001B[A\n",
      " 10%|█         | 1/10 [00:03<00:27,  3.01s/it]\u001B[A\n",
      " 20%|██        | 2/10 [00:06<00:24,  3.01s/it]\u001B[A\n",
      " 30%|███       | 3/10 [00:09<00:21,  3.02s/it]\u001B[A\n",
      " 40%|████      | 4/10 [00:12<00:18,  3.02s/it]\u001B[A\n",
      " 50%|█████     | 5/10 [00:15<00:15,  3.02s/it]\u001B[A\n",
      " 60%|██████    | 6/10 [00:18<00:12,  3.02s/it]\u001B[A\n",
      " 70%|███████   | 7/10 [00:21<00:09,  3.02s/it]\u001B[A\n",
      " 80%|████████  | 8/10 [00:24<00:06,  3.02s/it]\u001B[A\n",
      " 90%|█████████ | 9/10 [00:27<00:03,  3.02s/it]\u001B[A\n",
      "100%|██████████| 10/10 [00:30<00:00,  3.02s/it]\u001B[A\n",
      "                                               \u001B[A"
     ]
    },
    {
     "name": "stdout",
     "output_type": "stream",
     "text": [
      "https://lenta.ru/rubrics/life/animals/6\n"
     ]
    },
    {
     "name": "stderr",
     "output_type": "stream",
     "text": [
      "\n",
      "  0%|          | 0/10 [00:00<?, ?it/s]\u001B[A\n",
      " 10%|█         | 1/10 [00:03<00:27,  3.01s/it]\u001B[A\n",
      " 20%|██        | 2/10 [00:06<00:24,  3.02s/it]\u001B[A\n",
      " 30%|███       | 3/10 [00:09<00:21,  3.02s/it]\u001B[A\n",
      " 40%|████      | 4/10 [00:12<00:18,  3.02s/it]\u001B[A\n",
      " 50%|█████     | 5/10 [00:15<00:15,  3.02s/it]\u001B[A\n",
      " 60%|██████    | 6/10 [00:18<00:12,  3.02s/it]\u001B[A\n",
      " 70%|███████   | 7/10 [00:21<00:09,  3.02s/it]\u001B[A\n",
      " 80%|████████  | 8/10 [00:24<00:06,  3.02s/it]\u001B[A\n",
      " 90%|█████████ | 9/10 [00:27<00:03,  3.02s/it]\u001B[A\n",
      "100%|██████████| 10/10 [00:30<00:00,  3.02s/it]\u001B[A\n",
      "                                               \u001B[A"
     ]
    },
    {
     "name": "stdout",
     "output_type": "stream",
     "text": [
      "https://lenta.ru/rubrics/life/animals/8\n"
     ]
    },
    {
     "name": "stderr",
     "output_type": "stream",
     "text": [
      "\n",
      "  0%|          | 0/10 [00:00<?, ?it/s]\u001B[A\n",
      " 10%|█         | 1/10 [00:03<00:27,  3.01s/it]\u001B[A\n",
      " 20%|██        | 2/10 [00:06<00:24,  3.02s/it]\u001B[A\n",
      " 30%|███       | 3/10 [00:09<00:21,  3.02s/it]\u001B[A\n",
      " 40%|████      | 4/10 [00:12<00:18,  3.02s/it]\u001B[A\n",
      " 50%|█████     | 5/10 [00:15<00:15,  3.02s/it]\u001B[A\n",
      " 60%|██████    | 6/10 [00:18<00:12,  3.02s/it]\u001B[A\n",
      " 70%|███████   | 7/10 [00:21<00:09,  3.02s/it]\u001B[A\n",
      " 80%|████████  | 8/10 [00:24<00:06,  3.02s/it]\u001B[A\n",
      " 90%|█████████ | 9/10 [00:27<00:03,  3.02s/it]\u001B[A\n",
      "100%|██████████| 10/10 [00:30<00:00,  3.02s/it]\u001B[A\n",
      " 76%|███████▌  | 62/82 [2:05:41<39:52, 119.63s/it]"
     ]
    },
    {
     "name": "stdout",
     "output_type": "stream",
     "text": [
      "https://lenta.ru/rubrics/life/food/4\n"
     ]
    },
    {
     "name": "stderr",
     "output_type": "stream",
     "text": [
      "\n",
      "  0%|          | 0/10 [00:00<?, ?it/s]\u001B[A\n",
      " 10%|█         | 1/10 [00:03<00:27,  3.02s/it]\u001B[A\n",
      " 20%|██        | 2/10 [00:06<00:24,  3.02s/it]\u001B[A\n",
      " 30%|███       | 3/10 [00:09<00:21,  3.01s/it]\u001B[A\n",
      " 40%|████      | 4/10 [00:12<00:18,  3.02s/it]\u001B[A\n",
      " 50%|█████     | 5/10 [00:15<00:15,  3.02s/it]\u001B[A\n",
      " 60%|██████    | 6/10 [00:18<00:12,  3.02s/it]\u001B[A\n",
      " 70%|███████   | 7/10 [00:21<00:09,  3.02s/it]\u001B[A\n",
      " 80%|████████  | 8/10 [00:24<00:06,  3.02s/it]\u001B[A\n",
      " 90%|█████████ | 9/10 [00:27<00:03,  3.02s/it]\u001B[A\n",
      "100%|██████████| 10/10 [00:30<00:00,  3.02s/it]\u001B[A\n",
      "                                               \u001B[A"
     ]
    },
    {
     "name": "stdout",
     "output_type": "stream",
     "text": [
      "https://lenta.ru/rubrics/life/food/6\n"
     ]
    },
    {
     "name": "stderr",
     "output_type": "stream",
     "text": [
      "\n",
      "  0%|          | 0/10 [00:00<?, ?it/s]\u001B[A\n",
      " 10%|█         | 1/10 [00:03<00:27,  3.01s/it]\u001B[A\n",
      " 20%|██        | 2/10 [00:06<00:24,  3.02s/it]\u001B[A\n",
      " 30%|███       | 3/10 [00:09<00:21,  3.02s/it]\u001B[A\n",
      " 40%|████      | 4/10 [00:12<00:18,  3.02s/it]\u001B[A\n",
      " 50%|█████     | 5/10 [00:15<00:15,  3.02s/it]\u001B[A\n",
      " 60%|██████    | 6/10 [00:18<00:12,  3.02s/it]\u001B[A\n",
      " 70%|███████   | 7/10 [00:21<00:09,  3.02s/it]\u001B[A\n",
      " 80%|████████  | 8/10 [00:24<00:06,  3.02s/it]\u001B[A\n",
      " 90%|█████████ | 9/10 [00:27<00:03,  3.02s/it]\u001B[A\n",
      "100%|██████████| 10/10 [00:30<00:00,  3.02s/it]\u001B[A\n",
      "                                               \u001B[A"
     ]
    },
    {
     "name": "stdout",
     "output_type": "stream",
     "text": [
      "https://lenta.ru/rubrics/life/food/8\n"
     ]
    },
    {
     "name": "stderr",
     "output_type": "stream",
     "text": [
      "\n",
      "  0%|          | 0/10 [00:00<?, ?it/s]\u001B[A\n",
      " 10%|█         | 1/10 [00:03<00:27,  3.01s/it]\u001B[A\n",
      " 20%|██        | 2/10 [00:06<00:24,  3.02s/it]\u001B[A\n",
      " 30%|███       | 3/10 [00:09<00:21,  3.02s/it]\u001B[A\n",
      " 40%|████      | 4/10 [00:12<00:18,  3.02s/it]\u001B[A\n",
      " 50%|█████     | 5/10 [00:15<00:15,  3.02s/it]\u001B[A\n",
      " 60%|██████    | 6/10 [00:18<00:12,  3.02s/it]\u001B[A\n",
      " 70%|███████   | 7/10 [00:21<00:09,  3.02s/it]\u001B[A\n",
      " 80%|████████  | 8/10 [00:24<00:06,  3.02s/it]\u001B[A\n",
      " 90%|█████████ | 9/10 [00:27<00:03,  3.02s/it]\u001B[A\n",
      "100%|██████████| 10/10 [00:30<00:00,  3.02s/it]\u001B[A\n",
      " 77%|███████▋  | 63/82 [2:07:41<37:53, 119.68s/it]"
     ]
    },
    {
     "name": "stdout",
     "output_type": "stream",
     "text": [
      "https://lenta.ru/rubrics/life/accident/4\n"
     ]
    },
    {
     "name": "stderr",
     "output_type": "stream",
     "text": [
      "\n",
      "  0%|          | 0/10 [00:00<?, ?it/s]\u001B[A\n",
      " 10%|█         | 1/10 [00:03<00:27,  3.03s/it]\u001B[A\n",
      " 20%|██        | 2/10 [00:06<00:24,  3.02s/it]\u001B[A\n",
      " 30%|███       | 3/10 [00:09<00:21,  3.02s/it]\u001B[A\n",
      " 40%|████      | 4/10 [00:12<00:18,  3.02s/it]\u001B[A\n",
      " 50%|█████     | 5/10 [00:15<00:15,  3.02s/it]\u001B[A\n",
      " 60%|██████    | 6/10 [00:18<00:12,  3.02s/it]\u001B[A\n",
      " 70%|███████   | 7/10 [00:21<00:09,  3.02s/it]\u001B[A\n",
      " 80%|████████  | 8/10 [00:24<00:06,  3.02s/it]\u001B[A\n",
      " 90%|█████████ | 9/10 [00:27<00:03,  3.02s/it]\u001B[A\n",
      "100%|██████████| 10/10 [00:30<00:00,  3.02s/it]\u001B[A\n",
      "                                               \u001B[A"
     ]
    },
    {
     "name": "stdout",
     "output_type": "stream",
     "text": [
      "https://lenta.ru/rubrics/life/accident/6\n"
     ]
    },
    {
     "name": "stderr",
     "output_type": "stream",
     "text": [
      "\n",
      "  0%|          | 0/10 [00:00<?, ?it/s]\u001B[A\n",
      " 10%|█         | 1/10 [00:03<00:27,  3.01s/it]\u001B[A\n",
      " 20%|██        | 2/10 [00:06<00:24,  3.02s/it]\u001B[A\n",
      " 30%|███       | 3/10 [00:09<00:21,  3.02s/it]\u001B[A\n",
      " 40%|████      | 4/10 [00:12<00:18,  3.02s/it]\u001B[A\n",
      " 50%|█████     | 5/10 [00:15<00:15,  3.02s/it]\u001B[A\n",
      " 60%|██████    | 6/10 [00:18<00:12,  3.02s/it]\u001B[A\n",
      " 70%|███████   | 7/10 [00:21<00:09,  3.02s/it]\u001B[A\n",
      " 80%|████████  | 8/10 [00:24<00:06,  3.02s/it]\u001B[A\n",
      " 90%|█████████ | 9/10 [00:27<00:03,  3.02s/it]\u001B[A\n",
      "100%|██████████| 10/10 [00:30<00:00,  3.02s/it]\u001B[A\n",
      "                                               \u001B[A"
     ]
    },
    {
     "name": "stdout",
     "output_type": "stream",
     "text": [
      "https://lenta.ru/rubrics/life/accident/8\n"
     ]
    },
    {
     "name": "stderr",
     "output_type": "stream",
     "text": [
      "\n",
      "  0%|          | 0/10 [00:00<?, ?it/s]\u001B[A\n",
      " 10%|█         | 1/10 [00:03<00:27,  3.01s/it]\u001B[A\n",
      " 20%|██        | 2/10 [00:06<00:24,  3.01s/it]\u001B[A\n",
      " 30%|███       | 3/10 [00:09<00:21,  3.02s/it]\u001B[A\n",
      " 40%|████      | 4/10 [00:12<00:18,  3.02s/it]\u001B[A\n",
      " 50%|█████     | 5/10 [00:15<00:15,  3.02s/it]\u001B[A\n",
      " 60%|██████    | 6/10 [00:18<00:12,  3.02s/it]\u001B[A\n",
      " 70%|███████   | 7/10 [00:21<00:09,  3.02s/it]\u001B[A\n",
      " 80%|████████  | 8/10 [00:24<00:06,  3.02s/it]\u001B[A\n",
      " 90%|█████████ | 9/10 [00:27<00:03,  3.02s/it]\u001B[A\n",
      "100%|██████████| 10/10 [00:30<00:00,  3.02s/it]\u001B[A\n",
      " 78%|███████▊  | 64/82 [2:09:41<35:52, 119.60s/it]"
     ]
    },
    {
     "name": "stdout",
     "output_type": "stream",
     "text": [
      "https://lenta.ru/rubrics/life/persons/4\n"
     ]
    },
    {
     "name": "stderr",
     "output_type": "stream",
     "text": [
      "\n",
      "  0%|          | 0/10 [00:00<?, ?it/s]\u001B[A\n",
      " 10%|█         | 1/10 [00:03<00:27,  3.02s/it]\u001B[A\n",
      " 20%|██        | 2/10 [00:06<00:24,  3.02s/it]\u001B[A\n",
      " 30%|███       | 3/10 [00:09<00:21,  3.01s/it]\u001B[A\n",
      " 40%|████      | 4/10 [00:12<00:18,  3.02s/it]\u001B[A\n",
      " 50%|█████     | 5/10 [00:15<00:15,  3.02s/it]\u001B[A\n",
      " 60%|██████    | 6/10 [00:18<00:12,  3.02s/it]\u001B[A\n",
      " 70%|███████   | 7/10 [00:21<00:09,  3.02s/it]\u001B[A\n",
      " 80%|████████  | 8/10 [00:24<00:06,  3.02s/it]\u001B[A\n",
      " 90%|█████████ | 9/10 [00:27<00:03,  3.02s/it]\u001B[A\n",
      "100%|██████████| 10/10 [00:30<00:00,  3.02s/it]\u001B[A\n",
      "                                               \u001B[A"
     ]
    },
    {
     "name": "stdout",
     "output_type": "stream",
     "text": [
      "https://lenta.ru/rubrics/life/persons/6\n"
     ]
    },
    {
     "name": "stderr",
     "output_type": "stream",
     "text": [
      "\n",
      "  0%|          | 0/10 [00:00<?, ?it/s]\u001B[A\n",
      " 10%|█         | 1/10 [00:03<00:27,  3.02s/it]\u001B[A\n",
      " 20%|██        | 2/10 [00:06<00:24,  3.02s/it]\u001B[A\n",
      " 30%|███       | 3/10 [00:09<00:21,  3.02s/it]\u001B[A\n",
      " 40%|████      | 4/10 [00:12<00:18,  3.02s/it]\u001B[A\n",
      " 50%|█████     | 5/10 [00:15<00:15,  3.02s/it]\u001B[A\n",
      " 60%|██████    | 6/10 [00:18<00:12,  3.02s/it]\u001B[A\n",
      " 70%|███████   | 7/10 [00:21<00:09,  3.02s/it]\u001B[A\n",
      " 80%|████████  | 8/10 [00:24<00:06,  3.02s/it]\u001B[A\n",
      " 90%|█████████ | 9/10 [00:27<00:03,  3.02s/it]\u001B[A\n",
      "100%|██████████| 10/10 [00:30<00:00,  3.02s/it]\u001B[A\n",
      "                                               \u001B[A"
     ]
    },
    {
     "name": "stdout",
     "output_type": "stream",
     "text": [
      "https://lenta.ru/rubrics/life/persons/8\n"
     ]
    },
    {
     "name": "stderr",
     "output_type": "stream",
     "text": [
      "\n",
      "  0%|          | 0/10 [00:00<?, ?it/s]\u001B[A\n",
      " 10%|█         | 1/10 [00:03<00:27,  3.01s/it]\u001B[A\n",
      " 20%|██        | 2/10 [00:06<00:24,  3.02s/it]\u001B[A\n",
      " 30%|███       | 3/10 [00:09<00:21,  3.02s/it]\u001B[A\n",
      " 40%|████      | 4/10 [00:12<00:18,  3.02s/it]\u001B[A\n",
      " 50%|█████     | 5/10 [00:15<00:15,  3.02s/it]\u001B[A\n",
      " 60%|██████    | 6/10 [00:18<00:12,  3.02s/it]\u001B[A\n",
      " 70%|███████   | 7/10 [00:21<00:09,  3.02s/it]\u001B[A\n",
      " 80%|████████  | 8/10 [00:24<00:06,  3.02s/it]\u001B[A\n",
      " 90%|█████████ | 9/10 [00:27<00:03,  3.02s/it]\u001B[A\n",
      "100%|██████████| 10/10 [00:30<00:00,  3.02s/it]\u001B[A\n",
      " 79%|███████▉  | 65/82 [2:11:41<33:55, 119.72s/it]"
     ]
    },
    {
     "name": "stdout",
     "output_type": "stream",
     "text": [
      "https://lenta.ru/rubrics/life/lucky/4\n"
     ]
    },
    {
     "name": "stderr",
     "output_type": "stream",
     "text": [
      "\n",
      "  0%|          | 0/10 [00:00<?, ?it/s]\u001B[A\n",
      " 10%|█         | 1/10 [00:03<00:27,  3.01s/it]\u001B[A\n",
      " 20%|██        | 2/10 [00:06<00:24,  3.01s/it]\u001B[A\n",
      " 30%|███       | 3/10 [00:09<00:21,  3.01s/it]\u001B[A\n",
      " 40%|████      | 4/10 [00:12<00:18,  3.02s/it]\u001B[A\n",
      " 50%|█████     | 5/10 [00:15<00:15,  3.02s/it]\u001B[A\n",
      " 60%|██████    | 6/10 [00:18<00:12,  3.02s/it]\u001B[A\n",
      " 70%|███████   | 7/10 [00:21<00:09,  3.02s/it]\u001B[A\n",
      " 80%|████████  | 8/10 [00:24<00:06,  3.02s/it]\u001B[A\n",
      " 90%|█████████ | 9/10 [00:27<00:03,  3.02s/it]\u001B[A\n",
      "100%|██████████| 10/10 [00:30<00:00,  3.02s/it]\u001B[A\n",
      "                                               \u001B[A"
     ]
    },
    {
     "name": "stdout",
     "output_type": "stream",
     "text": [
      "https://lenta.ru/rubrics/life/lucky/6\n"
     ]
    },
    {
     "name": "stderr",
     "output_type": "stream",
     "text": [
      "\n",
      "  0%|          | 0/10 [00:00<?, ?it/s]\u001B[A\n",
      " 10%|█         | 1/10 [00:03<00:27,  3.01s/it]\u001B[A\n",
      " 20%|██        | 2/10 [00:06<00:24,  3.01s/it]\u001B[A\n",
      " 30%|███       | 3/10 [00:09<00:21,  3.01s/it]\u001B[A\n",
      " 40%|████      | 4/10 [00:12<00:18,  3.02s/it]\u001B[A\n",
      " 50%|█████     | 5/10 [00:15<00:15,  3.02s/it]\u001B[A\n",
      " 60%|██████    | 6/10 [00:18<00:12,  3.02s/it]\u001B[A\n",
      " 70%|███████   | 7/10 [00:21<00:09,  3.02s/it]\u001B[A\n",
      " 80%|████████  | 8/10 [00:24<00:06,  3.02s/it]\u001B[A\n",
      " 90%|█████████ | 9/10 [00:27<00:03,  3.02s/it]\u001B[A\n",
      "100%|██████████| 10/10 [00:30<00:00,  3.02s/it]\u001B[A\n",
      "                                               \u001B[A"
     ]
    },
    {
     "name": "stdout",
     "output_type": "stream",
     "text": [
      "https://lenta.ru/rubrics/life/lucky/8\n"
     ]
    },
    {
     "name": "stderr",
     "output_type": "stream",
     "text": [
      "\n",
      "  0%|          | 0/10 [00:00<?, ?it/s]\u001B[A\n",
      " 10%|█         | 1/10 [00:03<00:27,  3.03s/it]\u001B[A\n",
      " 20%|██        | 2/10 [00:06<00:24,  3.02s/it]\u001B[A\n",
      " 30%|███       | 3/10 [00:09<00:21,  3.02s/it]\u001B[A\n",
      " 40%|████      | 4/10 [00:12<00:18,  3.02s/it]\u001B[A\n",
      " 50%|█████     | 5/10 [00:15<00:15,  3.02s/it]\u001B[A\n",
      " 60%|██████    | 6/10 [00:18<00:12,  3.02s/it]\u001B[A\n",
      " 70%|███████   | 7/10 [00:21<00:09,  3.02s/it]\u001B[A\n",
      " 80%|████████  | 8/10 [00:24<00:06,  3.02s/it]\u001B[A\n",
      " 90%|█████████ | 9/10 [00:27<00:03,  3.02s/it]\u001B[A\n",
      "100%|██████████| 10/10 [00:30<00:00,  3.02s/it]\u001B[A\n",
      " 80%|████████  | 66/82 [2:13:41<31:57, 119.86s/it]"
     ]
    },
    {
     "name": "stdout",
     "output_type": "stream",
     "text": [
      "https://lenta.ru/rubrics/life/anomalies/4\n"
     ]
    },
    {
     "name": "stderr",
     "output_type": "stream",
     "text": [
      "\n",
      "  0%|          | 0/10 [00:00<?, ?it/s]\u001B[A\n",
      " 10%|█         | 1/10 [00:03<00:27,  3.01s/it]\u001B[A\n",
      " 20%|██        | 2/10 [00:06<00:24,  3.01s/it]\u001B[A\n",
      " 30%|███       | 3/10 [00:09<00:21,  3.01s/it]\u001B[A\n",
      " 40%|████      | 4/10 [00:12<00:18,  3.01s/it]\u001B[A\n",
      " 50%|█████     | 5/10 [00:15<00:15,  3.02s/it]\u001B[A\n",
      " 60%|██████    | 6/10 [00:18<00:12,  3.02s/it]\u001B[A\n",
      " 70%|███████   | 7/10 [00:21<00:09,  3.02s/it]\u001B[A\n",
      " 80%|████████  | 8/10 [00:24<00:06,  3.02s/it]\u001B[A\n",
      " 90%|█████████ | 9/10 [00:27<00:03,  3.02s/it]\u001B[A\n",
      "100%|██████████| 10/10 [00:30<00:00,  3.02s/it]\u001B[A\n",
      "                                               \u001B[A"
     ]
    },
    {
     "name": "stdout",
     "output_type": "stream",
     "text": [
      "https://lenta.ru/rubrics/life/anomalies/6\n"
     ]
    },
    {
     "name": "stderr",
     "output_type": "stream",
     "text": [
      "\n",
      "  0%|          | 0/10 [00:00<?, ?it/s]\u001B[A\n",
      " 10%|█         | 1/10 [00:03<00:27,  3.02s/it]\u001B[A\n",
      " 20%|██        | 2/10 [00:06<00:24,  3.02s/it]\u001B[A\n",
      " 30%|███       | 3/10 [00:09<00:21,  3.02s/it]\u001B[A\n",
      " 40%|████      | 4/10 [00:12<00:18,  3.02s/it]\u001B[A\n",
      " 50%|█████     | 5/10 [00:15<00:15,  3.02s/it]\u001B[A\n",
      " 60%|██████    | 6/10 [00:18<00:12,  3.02s/it]\u001B[A\n",
      " 70%|███████   | 7/10 [00:21<00:09,  3.02s/it]\u001B[A\n",
      " 80%|████████  | 8/10 [00:24<00:06,  3.02s/it]\u001B[A\n",
      " 90%|█████████ | 9/10 [00:27<00:03,  3.02s/it]\u001B[A\n",
      "100%|██████████| 10/10 [00:30<00:00,  3.02s/it]\u001B[A\n",
      "                                               \u001B[A"
     ]
    },
    {
     "name": "stdout",
     "output_type": "stream",
     "text": [
      "https://lenta.ru/rubrics/life/anomalies/8\n"
     ]
    },
    {
     "name": "stderr",
     "output_type": "stream",
     "text": [
      "\n",
      "  0%|          | 0/10 [00:00<?, ?it/s]\u001B[A\n",
      " 10%|█         | 1/10 [00:03<00:27,  3.02s/it]\u001B[A\n",
      " 20%|██        | 2/10 [00:06<00:24,  3.03s/it]\u001B[A\n",
      " 30%|███       | 3/10 [00:09<00:21,  3.02s/it]\u001B[A\n",
      " 40%|████      | 4/10 [00:12<00:18,  3.02s/it]\u001B[A\n",
      " 50%|█████     | 5/10 [00:15<00:15,  3.02s/it]\u001B[A\n",
      " 60%|██████    | 6/10 [00:18<00:12,  3.02s/it]\u001B[A\n",
      " 70%|███████   | 7/10 [00:21<00:09,  3.02s/it]\u001B[A\n",
      " 80%|████████  | 8/10 [00:24<00:06,  3.02s/it]\u001B[A\n",
      " 90%|█████████ | 9/10 [00:27<00:03,  3.02s/it]\u001B[A\n",
      "100%|██████████| 10/10 [00:30<00:00,  3.02s/it]\u001B[A\n",
      " 82%|████████▏ | 67/82 [2:15:40<29:54, 119.60s/it]"
     ]
    },
    {
     "name": "stdout",
     "output_type": "stream",
     "text": [
      "https://lenta.ru/rubrics/travel/rus/4\n"
     ]
    },
    {
     "name": "stderr",
     "output_type": "stream",
     "text": [
      "\n",
      "  0%|          | 0/10 [00:00<?, ?it/s]\u001B[A\n",
      " 10%|█         | 1/10 [00:03<00:27,  3.01s/it]\u001B[A\n",
      " 20%|██        | 2/10 [00:06<00:24,  3.02s/it]\u001B[A\n",
      " 30%|███       | 3/10 [00:09<00:21,  3.01s/it]\u001B[A\n",
      " 40%|████      | 4/10 [00:12<00:18,  3.01s/it]\u001B[A\n",
      " 50%|█████     | 5/10 [00:15<00:15,  3.02s/it]\u001B[A\n",
      " 60%|██████    | 6/10 [00:18<00:12,  3.02s/it]\u001B[A\n",
      " 70%|███████   | 7/10 [00:21<00:09,  3.02s/it]\u001B[A\n",
      " 80%|████████  | 8/10 [00:24<00:06,  3.02s/it]\u001B[A\n",
      " 90%|█████████ | 9/10 [00:27<00:03,  3.02s/it]\u001B[A\n",
      "100%|██████████| 10/10 [00:30<00:00,  3.02s/it]\u001B[A\n",
      "                                               \u001B[A"
     ]
    },
    {
     "name": "stdout",
     "output_type": "stream",
     "text": [
      "https://lenta.ru/rubrics/travel/rus/6\n"
     ]
    },
    {
     "name": "stderr",
     "output_type": "stream",
     "text": [
      "\n",
      "  0%|          | 0/10 [00:00<?, ?it/s]\u001B[A\n",
      " 10%|█         | 1/10 [00:03<00:27,  3.01s/it]\u001B[A\n",
      " 20%|██        | 2/10 [00:06<00:24,  3.02s/it]\u001B[A\n",
      " 30%|███       | 3/10 [00:09<00:21,  3.02s/it]\u001B[A\n",
      " 40%|████      | 4/10 [00:12<00:18,  3.02s/it]\u001B[A\n",
      " 50%|█████     | 5/10 [00:15<00:15,  3.01s/it]\u001B[A\n",
      " 60%|██████    | 6/10 [00:18<00:12,  3.02s/it]\u001B[A\n",
      " 70%|███████   | 7/10 [00:21<00:09,  3.02s/it]\u001B[A\n",
      " 80%|████████  | 8/10 [00:24<00:06,  3.02s/it]\u001B[A\n",
      " 90%|█████████ | 9/10 [00:27<00:03,  3.02s/it]\u001B[A\n",
      "100%|██████████| 10/10 [00:30<00:00,  3.02s/it]\u001B[A\n",
      "                                               \u001B[A"
     ]
    },
    {
     "name": "stdout",
     "output_type": "stream",
     "text": [
      "https://lenta.ru/rubrics/travel/rus/8\n"
     ]
    },
    {
     "name": "stderr",
     "output_type": "stream",
     "text": [
      "\n",
      "  0%|          | 0/10 [00:00<?, ?it/s]\u001B[A\n",
      " 10%|█         | 1/10 [00:03<00:27,  3.02s/it]\u001B[A\n",
      " 20%|██        | 2/10 [00:06<00:24,  3.01s/it]\u001B[A\n",
      " 30%|███       | 3/10 [00:09<00:21,  3.01s/it]\u001B[A\n",
      " 40%|████      | 4/10 [00:12<00:18,  3.02s/it]\u001B[A\n",
      " 50%|█████     | 5/10 [00:15<00:15,  3.02s/it]\u001B[A\n",
      " 60%|██████    | 6/10 [00:18<00:12,  3.02s/it]\u001B[A\n",
      " 70%|███████   | 7/10 [00:21<00:09,  3.02s/it]\u001B[A\n",
      " 80%|████████  | 8/10 [00:24<00:06,  3.02s/it]\u001B[A\n",
      " 90%|█████████ | 9/10 [00:27<00:03,  3.02s/it]\u001B[A\n",
      "100%|██████████| 10/10 [00:30<00:00,  3.02s/it]\u001B[A\n",
      " 83%|████████▎ | 68/82 [2:17:37<27:46, 119.02s/it]"
     ]
    },
    {
     "name": "stdout",
     "output_type": "stream",
     "text": [
      "https://lenta.ru/rubrics/travel/world/4\n"
     ]
    },
    {
     "name": "stderr",
     "output_type": "stream",
     "text": [
      "\n",
      "  0%|          | 0/10 [00:00<?, ?it/s]\u001B[A\n",
      " 10%|█         | 1/10 [00:03<00:27,  3.03s/it]\u001B[A\n",
      " 20%|██        | 2/10 [00:06<00:24,  3.02s/it]\u001B[A\n",
      " 30%|███       | 3/10 [00:09<00:21,  3.02s/it]\u001B[A\n",
      " 40%|████      | 4/10 [00:12<00:18,  3.02s/it]\u001B[A\n",
      " 50%|█████     | 5/10 [00:15<00:15,  3.02s/it]\u001B[A\n",
      " 60%|██████    | 6/10 [00:18<00:12,  3.02s/it]\u001B[A\n",
      " 70%|███████   | 7/10 [00:21<00:09,  3.02s/it]\u001B[A\n",
      " 80%|████████  | 8/10 [00:24<00:06,  3.02s/it]\u001B[A\n",
      " 90%|█████████ | 9/10 [00:27<00:03,  3.02s/it]\u001B[A\n",
      "100%|██████████| 10/10 [00:30<00:00,  3.02s/it]\u001B[A\n",
      "                                               \u001B[A"
     ]
    },
    {
     "name": "stdout",
     "output_type": "stream",
     "text": [
      "https://lenta.ru/rubrics/travel/world/6\n"
     ]
    },
    {
     "name": "stderr",
     "output_type": "stream",
     "text": [
      "\n",
      "  0%|          | 0/10 [00:00<?, ?it/s]\u001B[A\n",
      " 10%|█         | 1/10 [00:03<00:27,  3.01s/it]\u001B[A\n",
      " 20%|██        | 2/10 [00:06<00:24,  3.01s/it]\u001B[A\n",
      " 30%|███       | 3/10 [00:09<00:21,  3.02s/it]\u001B[A\n",
      " 40%|████      | 4/10 [00:12<00:18,  3.02s/it]\u001B[A\n",
      " 50%|█████     | 5/10 [00:15<00:15,  3.02s/it]\u001B[A\n",
      " 60%|██████    | 6/10 [00:18<00:12,  3.02s/it]\u001B[A\n",
      " 70%|███████   | 7/10 [00:21<00:09,  3.02s/it]\u001B[A\n",
      " 80%|████████  | 8/10 [00:24<00:06,  3.02s/it]\u001B[A\n",
      " 90%|█████████ | 9/10 [00:27<00:03,  3.02s/it]\u001B[A\n",
      "100%|██████████| 10/10 [00:30<00:00,  3.02s/it]\u001B[A\n",
      "                                               \u001B[A"
     ]
    },
    {
     "name": "stdout",
     "output_type": "stream",
     "text": [
      "https://lenta.ru/rubrics/travel/world/8\n"
     ]
    },
    {
     "name": "stderr",
     "output_type": "stream",
     "text": [
      "\n",
      "  0%|          | 0/10 [00:00<?, ?it/s]\u001B[A\n",
      " 10%|█         | 1/10 [00:03<00:27,  3.02s/it]\u001B[A\n",
      " 20%|██        | 2/10 [00:06<00:24,  3.02s/it]\u001B[A\n",
      " 30%|███       | 3/10 [00:09<00:21,  3.02s/it]\u001B[A\n",
      " 40%|████      | 4/10 [00:12<00:18,  3.02s/it]\u001B[A\n",
      " 50%|█████     | 5/10 [00:15<00:15,  3.02s/it]\u001B[A\n",
      " 60%|██████    | 6/10 [00:18<00:12,  3.02s/it]\u001B[A\n",
      " 70%|███████   | 7/10 [00:21<00:09,  3.02s/it]\u001B[A\n",
      " 80%|████████  | 8/10 [00:24<00:06,  3.02s/it]\u001B[A\n",
      " 90%|█████████ | 9/10 [00:27<00:03,  3.02s/it]\u001B[A\n",
      "100%|██████████| 10/10 [00:30<00:00,  3.02s/it]\u001B[A\n",
      " 84%|████████▍ | 69/82 [2:19:35<25:40, 118.51s/it]"
     ]
    },
    {
     "name": "stdout",
     "output_type": "stream",
     "text": [
      "https://lenta.ru/rubrics/travel/events/4\n"
     ]
    },
    {
     "name": "stderr",
     "output_type": "stream",
     "text": [
      "\n",
      "  0%|          | 0/10 [00:00<?, ?it/s]\u001B[A\n",
      " 10%|█         | 1/10 [00:03<00:27,  3.01s/it]\u001B[A\n",
      " 20%|██        | 2/10 [00:06<00:24,  3.01s/it]\u001B[A\n",
      " 30%|███       | 3/10 [00:09<00:21,  3.02s/it]\u001B[A\n",
      " 40%|████      | 4/10 [00:12<00:18,  3.02s/it]\u001B[A\n",
      " 50%|█████     | 5/10 [00:15<00:15,  3.02s/it]\u001B[A\n",
      " 60%|██████    | 6/10 [00:18<00:12,  3.02s/it]\u001B[A\n",
      " 70%|███████   | 7/10 [00:21<00:09,  3.02s/it]\u001B[A\n",
      " 80%|████████  | 8/10 [00:24<00:06,  3.02s/it]\u001B[A\n",
      " 90%|█████████ | 9/10 [00:27<00:03,  3.02s/it]\u001B[A\n",
      "100%|██████████| 10/10 [00:30<00:00,  3.02s/it]\u001B[A\n",
      "                                               \u001B[A"
     ]
    },
    {
     "name": "stdout",
     "output_type": "stream",
     "text": [
      "https://lenta.ru/rubrics/travel/events/6\n"
     ]
    },
    {
     "name": "stderr",
     "output_type": "stream",
     "text": [
      "\n",
      "  0%|          | 0/10 [00:00<?, ?it/s]\u001B[A\n",
      " 10%|█         | 1/10 [00:03<00:27,  3.01s/it]\u001B[A\n",
      " 20%|██        | 2/10 [00:06<00:24,  3.02s/it]\u001B[A\n",
      " 30%|███       | 3/10 [00:09<00:21,  3.02s/it]\u001B[A\n",
      " 40%|████      | 4/10 [00:12<00:18,  3.01s/it]\u001B[A\n",
      " 50%|█████     | 5/10 [00:15<00:15,  3.02s/it]\u001B[A\n",
      " 60%|██████    | 6/10 [00:18<00:12,  3.02s/it]\u001B[A\n",
      " 70%|███████   | 7/10 [00:21<00:09,  3.02s/it]\u001B[A\n",
      " 80%|████████  | 8/10 [00:24<00:06,  3.02s/it]\u001B[A\n",
      " 90%|█████████ | 9/10 [00:27<00:03,  3.02s/it]\u001B[A\n",
      "100%|██████████| 10/10 [00:30<00:00,  3.02s/it]\u001B[A\n",
      "                                               \u001B[A"
     ]
    },
    {
     "name": "stdout",
     "output_type": "stream",
     "text": [
      "https://lenta.ru/rubrics/travel/events/8\n"
     ]
    },
    {
     "name": "stderr",
     "output_type": "stream",
     "text": [
      "\n",
      "  0%|          | 0/10 [00:00<?, ?it/s]\u001B[A\n",
      " 10%|█         | 1/10 [00:03<00:27,  3.02s/it]\u001B[A\n",
      " 20%|██        | 2/10 [00:06<00:24,  3.02s/it]\u001B[A\n",
      " 30%|███       | 3/10 [00:09<00:21,  3.02s/it]\u001B[A\n",
      " 40%|████      | 4/10 [00:12<00:18,  3.02s/it]\u001B[A\n",
      " 50%|█████     | 5/10 [00:15<00:15,  3.02s/it]\u001B[A\n",
      " 60%|██████    | 6/10 [00:18<00:12,  3.02s/it]\u001B[A\n",
      " 70%|███████   | 7/10 [00:21<00:09,  3.01s/it]\u001B[A\n",
      " 80%|████████  | 8/10 [00:24<00:06,  3.02s/it]\u001B[A\n",
      " 90%|█████████ | 9/10 [00:27<00:03,  3.02s/it]\u001B[A\n",
      "100%|██████████| 10/10 [00:30<00:00,  3.02s/it]\u001B[A\n",
      " 85%|████████▌ | 70/82 [2:21:33<23:40, 118.38s/it]"
     ]
    },
    {
     "name": "stdout",
     "output_type": "stream",
     "text": [
      "https://lenta.ru/rubrics/travel/accident/4\n"
     ]
    },
    {
     "name": "stderr",
     "output_type": "stream",
     "text": [
      "\n",
      "  0%|          | 0/10 [00:00<?, ?it/s]\u001B[A\n",
      " 10%|█         | 1/10 [00:03<00:27,  3.01s/it]\u001B[A\n",
      " 20%|██        | 2/10 [00:06<00:24,  3.02s/it]\u001B[A\n",
      " 30%|███       | 3/10 [00:09<00:21,  3.02s/it]\u001B[A\n",
      " 40%|████      | 4/10 [00:12<00:18,  3.02s/it]\u001B[A\n",
      " 50%|█████     | 5/10 [00:15<00:15,  3.02s/it]\u001B[A\n",
      " 60%|██████    | 6/10 [00:18<00:12,  3.02s/it]\u001B[A\n",
      " 70%|███████   | 7/10 [00:21<00:09,  3.02s/it]\u001B[A\n",
      " 80%|████████  | 8/10 [00:24<00:06,  3.02s/it]\u001B[A\n",
      " 90%|█████████ | 9/10 [00:27<00:03,  3.02s/it]\u001B[A\n",
      "100%|██████████| 10/10 [00:30<00:00,  3.02s/it]\u001B[A\n",
      "                                               \u001B[A"
     ]
    },
    {
     "name": "stdout",
     "output_type": "stream",
     "text": [
      "https://lenta.ru/rubrics/travel/accident/6\n"
     ]
    },
    {
     "name": "stderr",
     "output_type": "stream",
     "text": [
      "\n",
      "  0%|          | 0/10 [00:00<?, ?it/s]\u001B[A\n",
      " 10%|█         | 1/10 [00:03<00:27,  3.03s/it]\u001B[A\n",
      " 20%|██        | 2/10 [00:06<00:24,  3.02s/it]\u001B[A\n",
      " 30%|███       | 3/10 [00:09<00:21,  3.02s/it]\u001B[A\n",
      " 40%|████      | 4/10 [00:12<00:18,  3.02s/it]\u001B[A\n",
      " 50%|█████     | 5/10 [00:15<00:15,  3.02s/it]\u001B[A\n",
      " 60%|██████    | 6/10 [00:18<00:12,  3.02s/it]\u001B[A\n",
      " 70%|███████   | 7/10 [00:21<00:09,  3.02s/it]\u001B[A\n",
      " 80%|████████  | 8/10 [00:24<00:06,  3.02s/it]\u001B[A\n",
      " 90%|█████████ | 9/10 [00:27<00:03,  3.02s/it]\u001B[A\n",
      "100%|██████████| 10/10 [00:30<00:00,  3.02s/it]\u001B[A\n",
      "                                               \u001B[A"
     ]
    },
    {
     "name": "stdout",
     "output_type": "stream",
     "text": [
      "https://lenta.ru/rubrics/travel/accident/8\n"
     ]
    },
    {
     "name": "stderr",
     "output_type": "stream",
     "text": [
      "\n",
      "  0%|          | 0/10 [00:00<?, ?it/s]\u001B[A\n",
      " 10%|█         | 1/10 [00:03<00:27,  3.02s/it]\u001B[A\n",
      " 20%|██        | 2/10 [00:06<00:24,  3.02s/it]\u001B[A\n",
      " 30%|███       | 3/10 [00:09<00:21,  3.02s/it]\u001B[A\n",
      " 40%|████      | 4/10 [00:12<00:18,  3.02s/it]\u001B[A\n",
      " 50%|█████     | 5/10 [00:15<00:15,  3.02s/it]\u001B[A\n",
      " 60%|██████    | 6/10 [00:18<00:12,  3.02s/it]\u001B[A\n",
      " 70%|███████   | 7/10 [00:21<00:09,  3.02s/it]\u001B[A\n",
      " 80%|████████  | 8/10 [00:24<00:06,  3.02s/it]\u001B[A\n",
      " 90%|█████████ | 9/10 [00:27<00:03,  3.02s/it]\u001B[A\n",
      "100%|██████████| 10/10 [00:30<00:00,  3.02s/it]\u001B[A\n",
      " 87%|████████▋ | 71/82 [2:23:30<21:39, 118.13s/it]"
     ]
    },
    {
     "name": "stdout",
     "output_type": "stream",
     "text": [
      "https://lenta.ru/rubrics/travel/opinion/4\n"
     ]
    },
    {
     "name": "stderr",
     "output_type": "stream",
     "text": [
      "\n",
      "  0%|          | 0/10 [00:00<?, ?it/s]\u001B[A\n",
      " 10%|█         | 1/10 [00:03<00:27,  3.02s/it]\u001B[A\n",
      " 20%|██        | 2/10 [00:06<00:24,  3.02s/it]\u001B[A\n",
      " 30%|███       | 3/10 [00:09<00:21,  3.02s/it]\u001B[A\n",
      " 40%|████      | 4/10 [00:12<00:18,  3.02s/it]\u001B[A\n",
      " 50%|█████     | 5/10 [00:15<00:15,  3.02s/it]\u001B[A\n",
      " 60%|██████    | 6/10 [00:18<00:12,  3.02s/it]\u001B[A\n",
      " 70%|███████   | 7/10 [00:21<00:09,  3.02s/it]\u001B[A\n",
      " 80%|████████  | 8/10 [00:24<00:06,  3.02s/it]\u001B[A\n",
      " 90%|█████████ | 9/10 [00:27<00:03,  3.02s/it]\u001B[A\n",
      "100%|██████████| 10/10 [00:30<00:00,  3.02s/it]\u001B[A\n",
      "                                               \u001B[A"
     ]
    },
    {
     "name": "stdout",
     "output_type": "stream",
     "text": [
      "https://lenta.ru/rubrics/travel/opinion/6\n"
     ]
    },
    {
     "name": "stderr",
     "output_type": "stream",
     "text": [
      "\n",
      "  0%|          | 0/10 [00:00<?, ?it/s]\u001B[A\n",
      " 10%|█         | 1/10 [00:03<00:27,  3.03s/it]\u001B[A\n",
      " 20%|██        | 2/10 [00:06<00:24,  3.02s/it]\u001B[A\n",
      " 30%|███       | 3/10 [00:09<00:21,  3.02s/it]\u001B[A\n",
      " 40%|████      | 4/10 [00:12<00:18,  3.02s/it]\u001B[A\n",
      " 50%|█████     | 5/10 [00:15<00:15,  3.02s/it]\u001B[A\n",
      " 60%|██████    | 6/10 [00:18<00:12,  3.02s/it]\u001B[A\n",
      " 70%|███████   | 7/10 [00:21<00:09,  3.02s/it]\u001B[A\n",
      " 80%|████████  | 8/10 [00:24<00:06,  3.02s/it]\u001B[A\n",
      " 90%|█████████ | 9/10 [00:27<00:03,  3.02s/it]\u001B[A\n",
      "100%|██████████| 10/10 [00:30<00:00,  3.02s/it]\u001B[A\n",
      "                                               \u001B[A"
     ]
    },
    {
     "name": "stdout",
     "output_type": "stream",
     "text": [
      "https://lenta.ru/rubrics/travel/opinion/8\n"
     ]
    },
    {
     "name": "stderr",
     "output_type": "stream",
     "text": [
      "\n",
      "  0%|          | 0/10 [00:00<?, ?it/s]\u001B[A\n",
      " 10%|█         | 1/10 [00:03<00:27,  3.01s/it]\u001B[A\n",
      " 20%|██        | 2/10 [00:06<00:24,  3.01s/it]\u001B[A\n",
      " 30%|███       | 3/10 [00:09<00:21,  3.02s/it]\u001B[A\n",
      " 40%|████      | 4/10 [00:12<00:18,  3.02s/it]\u001B[A\n",
      " 50%|█████     | 5/10 [00:15<00:15,  3.02s/it]\u001B[A\n",
      " 60%|██████    | 6/10 [00:18<00:12,  3.02s/it]\u001B[A\n",
      " 70%|███████   | 7/10 [00:21<00:09,  3.02s/it]\u001B[A\n",
      " 80%|████████  | 8/10 [00:24<00:06,  3.02s/it]\u001B[A\n",
      " 90%|█████████ | 9/10 [00:27<00:03,  3.02s/it]\u001B[A\n",
      "100%|██████████| 10/10 [00:30<00:00,  3.02s/it]\u001B[A\n",
      " 88%|████████▊ | 72/82 [2:25:28<19:38, 117.84s/it]"
     ]
    },
    {
     "name": "stdout",
     "output_type": "stream",
     "text": [
      "https://lenta.ru/rubrics/style/look/4\n"
     ]
    },
    {
     "name": "stderr",
     "output_type": "stream",
     "text": [
      "\n",
      "  0%|          | 0/10 [00:00<?, ?it/s]\u001B[A\n",
      " 10%|█         | 1/10 [00:03<00:27,  3.01s/it]\u001B[A\n",
      " 20%|██        | 2/10 [00:06<00:24,  3.02s/it]\u001B[A\n",
      " 30%|███       | 3/10 [00:09<00:21,  3.02s/it]\u001B[A\n",
      " 40%|████      | 4/10 [00:12<00:18,  3.02s/it]\u001B[A\n",
      " 50%|█████     | 5/10 [00:15<00:15,  3.02s/it]\u001B[A\n",
      " 60%|██████    | 6/10 [00:18<00:12,  3.02s/it]\u001B[A\n",
      " 70%|███████   | 7/10 [00:21<00:09,  3.02s/it]\u001B[A\n",
      " 80%|████████  | 8/10 [00:24<00:06,  3.02s/it]\u001B[A\n",
      " 90%|█████████ | 9/10 [00:27<00:03,  3.02s/it]\u001B[A\n",
      "100%|██████████| 10/10 [00:30<00:00,  3.02s/it]\u001B[A\n",
      "                                               \u001B[A"
     ]
    },
    {
     "name": "stdout",
     "output_type": "stream",
     "text": [
      "https://lenta.ru/rubrics/style/look/6\n"
     ]
    },
    {
     "name": "stderr",
     "output_type": "stream",
     "text": [
      "\n",
      "  0%|          | 0/10 [00:00<?, ?it/s]\u001B[A\n",
      " 10%|█         | 1/10 [00:03<00:27,  3.01s/it]\u001B[A\n",
      " 20%|██        | 2/10 [00:06<00:24,  3.01s/it]\u001B[A\n",
      " 30%|███       | 3/10 [00:09<00:21,  3.02s/it]\u001B[A\n",
      " 40%|████      | 4/10 [00:12<00:18,  3.02s/it]\u001B[A\n",
      " 50%|█████     | 5/10 [00:15<00:15,  3.02s/it]\u001B[A\n",
      " 60%|██████    | 6/10 [00:18<00:12,  3.02s/it]\u001B[A\n",
      " 70%|███████   | 7/10 [00:21<00:09,  3.02s/it]\u001B[A\n",
      " 80%|████████  | 8/10 [00:24<00:06,  3.02s/it]\u001B[A\n",
      " 90%|█████████ | 9/10 [00:27<00:03,  3.02s/it]\u001B[A\n",
      "100%|██████████| 10/10 [00:30<00:00,  3.02s/it]\u001B[A\n",
      "                                               \u001B[A"
     ]
    },
    {
     "name": "stdout",
     "output_type": "stream",
     "text": [
      "https://lenta.ru/rubrics/style/look/8\n"
     ]
    },
    {
     "name": "stderr",
     "output_type": "stream",
     "text": [
      "\n",
      "  0%|          | 0/10 [00:00<?, ?it/s]\u001B[A\n",
      " 10%|█         | 1/10 [00:03<00:27,  3.02s/it]\u001B[A\n",
      " 20%|██        | 2/10 [00:06<00:24,  3.02s/it]\u001B[A\n",
      " 30%|███       | 3/10 [00:09<00:21,  3.02s/it]\u001B[A\n",
      " 40%|████      | 4/10 [00:12<00:18,  3.02s/it]\u001B[A\n",
      " 50%|█████     | 5/10 [00:15<00:15,  3.02s/it]\u001B[A\n",
      " 60%|██████    | 6/10 [00:18<00:12,  3.02s/it]\u001B[A\n",
      " 70%|███████   | 7/10 [00:21<00:09,  3.02s/it]\u001B[A\n",
      " 80%|████████  | 8/10 [00:24<00:06,  3.02s/it]\u001B[A\n",
      " 90%|█████████ | 9/10 [00:27<00:03,  3.02s/it]\u001B[A\n",
      "100%|██████████| 10/10 [00:30<00:00,  3.02s/it]\u001B[A\n",
      " 89%|████████▉ | 73/82 [2:27:26<17:41, 118.00s/it]"
     ]
    },
    {
     "name": "stdout",
     "output_type": "stream",
     "text": [
      "https://lenta.ru/rubrics/style/exterior/4\n"
     ]
    },
    {
     "name": "stderr",
     "output_type": "stream",
     "text": [
      "\n",
      "  0%|          | 0/10 [00:00<?, ?it/s]\u001B[A\n",
      " 10%|█         | 1/10 [00:03<00:27,  3.01s/it]\u001B[A\n",
      " 20%|██        | 2/10 [00:06<00:24,  3.01s/it]\u001B[A\n",
      " 30%|███       | 3/10 [00:09<00:21,  3.01s/it]\u001B[A\n",
      " 40%|████      | 4/10 [00:12<00:18,  3.01s/it]\u001B[A\n",
      " 50%|█████     | 5/10 [00:15<00:15,  3.01s/it]\u001B[A\n",
      " 60%|██████    | 6/10 [00:18<00:12,  3.01s/it]\u001B[A\n",
      " 70%|███████   | 7/10 [00:21<00:09,  3.02s/it]\u001B[A\n",
      " 80%|████████  | 8/10 [00:24<00:06,  3.01s/it]\u001B[A\n",
      " 90%|█████████ | 9/10 [00:27<00:03,  3.02s/it]\u001B[A\n",
      "100%|██████████| 10/10 [00:30<00:00,  3.02s/it]\u001B[A\n",
      "                                               \u001B[A"
     ]
    },
    {
     "name": "stdout",
     "output_type": "stream",
     "text": [
      "https://lenta.ru/rubrics/style/exterior/6\n"
     ]
    },
    {
     "name": "stderr",
     "output_type": "stream",
     "text": [
      "\n",
      "  0%|          | 0/10 [00:00<?, ?it/s]\u001B[A\n",
      " 10%|█         | 1/10 [00:03<00:27,  3.02s/it]\u001B[A\n",
      " 20%|██        | 2/10 [00:06<00:24,  3.02s/it]\u001B[A\n",
      " 30%|███       | 3/10 [00:09<00:21,  3.02s/it]\u001B[A\n",
      " 40%|████      | 4/10 [00:12<00:18,  3.02s/it]\u001B[A\n",
      " 50%|█████     | 5/10 [00:15<00:15,  3.02s/it]\u001B[A\n",
      " 60%|██████    | 6/10 [00:18<00:12,  3.02s/it]\u001B[A\n",
      " 70%|███████   | 7/10 [00:21<00:09,  3.02s/it]\u001B[A\n",
      " 80%|████████  | 8/10 [00:24<00:06,  3.02s/it]\u001B[A\n",
      " 90%|█████████ | 9/10 [00:27<00:03,  3.02s/it]\u001B[A\n",
      "100%|██████████| 10/10 [00:30<00:00,  3.02s/it]\u001B[A\n",
      "                                               \u001B[A"
     ]
    },
    {
     "name": "stdout",
     "output_type": "stream",
     "text": [
      "https://lenta.ru/rubrics/style/exterior/8\n"
     ]
    },
    {
     "name": "stderr",
     "output_type": "stream",
     "text": [
      "\n",
      "  0%|          | 0/10 [00:00<?, ?it/s]\u001B[A\n",
      " 10%|█         | 1/10 [00:03<00:27,  3.03s/it]\u001B[A\n",
      " 20%|██        | 2/10 [00:06<00:24,  3.02s/it]\u001B[A\n",
      " 30%|███       | 3/10 [00:09<00:21,  3.02s/it]\u001B[A\n",
      " 40%|████      | 4/10 [00:12<00:18,  3.02s/it]\u001B[A\n",
      " 50%|█████     | 5/10 [00:15<00:15,  3.02s/it]\u001B[A\n",
      " 60%|██████    | 6/10 [00:18<00:12,  3.02s/it]\u001B[A\n",
      " 70%|███████   | 7/10 [00:21<00:09,  3.02s/it]\u001B[A\n",
      " 80%|████████  | 8/10 [00:24<00:06,  3.02s/it]\u001B[A\n",
      " 90%|█████████ | 9/10 [00:27<00:03,  3.02s/it]\u001B[A\n",
      "100%|██████████| 10/10 [00:30<00:00,  3.02s/it]\u001B[A\n",
      " 90%|█████████ | 74/82 [2:29:25<15:45, 118.23s/it]"
     ]
    },
    {
     "name": "stdout",
     "output_type": "stream",
     "text": [
      "https://lenta.ru/rubrics/style/phenomenon/4\n"
     ]
    },
    {
     "name": "stderr",
     "output_type": "stream",
     "text": [
      "\n",
      "  0%|          | 0/10 [00:00<?, ?it/s]\u001B[A\n",
      " 10%|█         | 1/10 [00:03<00:27,  3.02s/it]\u001B[A\n",
      " 20%|██        | 2/10 [00:06<00:24,  3.02s/it]\u001B[A\n",
      " 30%|███       | 3/10 [00:09<00:21,  3.02s/it]\u001B[A\n",
      " 40%|████      | 4/10 [00:12<00:18,  3.02s/it]\u001B[A\n",
      " 50%|█████     | 5/10 [00:15<00:15,  3.02s/it]\u001B[A\n",
      " 60%|██████    | 6/10 [00:18<00:12,  3.02s/it]\u001B[A\n",
      " 70%|███████   | 7/10 [00:21<00:09,  3.02s/it]\u001B[A\n",
      " 80%|████████  | 8/10 [00:24<00:06,  3.02s/it]\u001B[A\n",
      " 90%|█████████ | 9/10 [00:27<00:03,  3.02s/it]\u001B[A\n",
      "100%|██████████| 10/10 [00:30<00:00,  3.02s/it]\u001B[A\n",
      "                                               \u001B[A"
     ]
    },
    {
     "name": "stdout",
     "output_type": "stream",
     "text": [
      "https://lenta.ru/rubrics/style/phenomenon/6\n"
     ]
    },
    {
     "name": "stderr",
     "output_type": "stream",
     "text": [
      "\n",
      "  0%|          | 0/10 [00:00<?, ?it/s]\u001B[A\n",
      " 10%|█         | 1/10 [00:03<00:27,  3.02s/it]\u001B[A\n",
      " 20%|██        | 2/10 [00:06<00:24,  3.02s/it]\u001B[A\n",
      " 30%|███       | 3/10 [00:09<00:21,  3.02s/it]\u001B[A\n",
      " 40%|████      | 4/10 [00:12<00:18,  3.02s/it]\u001B[A\n",
      " 50%|█████     | 5/10 [00:15<00:15,  3.02s/it]\u001B[A\n",
      " 60%|██████    | 6/10 [00:18<00:12,  3.02s/it]\u001B[A\n",
      " 70%|███████   | 7/10 [00:21<00:09,  3.02s/it]\u001B[A\n",
      " 80%|████████  | 8/10 [00:24<00:06,  3.02s/it]\u001B[A\n",
      " 90%|█████████ | 9/10 [00:27<00:03,  3.02s/it]\u001B[A\n",
      "100%|██████████| 10/10 [00:30<00:00,  3.02s/it]\u001B[A\n",
      "                                               \u001B[A"
     ]
    },
    {
     "name": "stdout",
     "output_type": "stream",
     "text": [
      "https://lenta.ru/rubrics/style/phenomenon/8\n"
     ]
    },
    {
     "name": "stderr",
     "output_type": "stream",
     "text": [
      "\n",
      "  0%|          | 0/10 [00:00<?, ?it/s]\u001B[A\n",
      " 10%|█         | 1/10 [00:03<00:27,  3.01s/it]\u001B[A\n",
      " 20%|██        | 2/10 [00:06<00:24,  3.01s/it]\u001B[A\n",
      " 30%|███       | 3/10 [00:09<00:21,  3.01s/it]\u001B[A\n",
      " 40%|████      | 4/10 [00:12<00:18,  3.02s/it]\u001B[A\n",
      " 50%|█████     | 5/10 [00:15<00:15,  3.02s/it]\u001B[A\n",
      " 60%|██████    | 6/10 [00:18<00:12,  3.02s/it]\u001B[A\n",
      " 70%|███████   | 7/10 [00:21<00:09,  3.02s/it]\u001B[A\n",
      " 80%|████████  | 8/10 [00:24<00:06,  3.02s/it]\u001B[A\n",
      " 90%|█████████ | 9/10 [00:27<00:03,  3.02s/it]\u001B[A\n",
      "100%|██████████| 10/10 [00:30<00:00,  3.02s/it]\u001B[A\n",
      " 91%|█████████▏| 75/82 [2:31:23<13:48, 118.30s/it]"
     ]
    },
    {
     "name": "stdout",
     "output_type": "stream",
     "text": [
      "https://lenta.ru/rubrics/style/luxury/4\n"
     ]
    },
    {
     "name": "stderr",
     "output_type": "stream",
     "text": [
      "\n",
      "  0%|          | 0/10 [00:00<?, ?it/s]\u001B[A\n",
      " 10%|█         | 1/10 [00:03<00:27,  3.02s/it]\u001B[A\n",
      " 20%|██        | 2/10 [00:06<00:24,  3.02s/it]\u001B[A\n",
      " 30%|███       | 3/10 [00:09<00:21,  3.02s/it]\u001B[A\n",
      " 40%|████      | 4/10 [00:12<00:18,  3.02s/it]\u001B[A\n",
      " 50%|█████     | 5/10 [00:15<00:15,  3.02s/it]\u001B[A\n",
      " 60%|██████    | 6/10 [00:18<00:12,  3.02s/it]\u001B[A\n",
      " 70%|███████   | 7/10 [00:21<00:09,  3.02s/it]\u001B[A\n",
      " 80%|████████  | 8/10 [00:24<00:06,  3.02s/it]\u001B[A\n",
      " 90%|█████████ | 9/10 [00:27<00:03,  3.02s/it]\u001B[A\n",
      "100%|██████████| 10/10 [00:30<00:00,  3.02s/it]\u001B[A\n",
      "                                               \u001B[A"
     ]
    },
    {
     "name": "stdout",
     "output_type": "stream",
     "text": [
      "https://lenta.ru/rubrics/style/luxury/6\n"
     ]
    },
    {
     "name": "stderr",
     "output_type": "stream",
     "text": [
      "\n",
      "  0%|          | 0/10 [00:00<?, ?it/s]\u001B[A\n",
      " 10%|█         | 1/10 [00:03<00:27,  3.02s/it]\u001B[A\n",
      " 20%|██        | 2/10 [00:06<00:24,  3.02s/it]\u001B[A\n",
      " 30%|███       | 3/10 [00:09<00:21,  3.02s/it]\u001B[A\n",
      " 40%|████      | 4/10 [00:12<00:18,  3.02s/it]\u001B[A\n",
      " 50%|█████     | 5/10 [00:15<00:15,  3.02s/it]\u001B[A\n",
      " 60%|██████    | 6/10 [00:18<00:12,  3.02s/it]\u001B[A\n",
      " 70%|███████   | 7/10 [00:21<00:09,  3.02s/it]\u001B[A\n",
      " 80%|████████  | 8/10 [00:24<00:06,  3.02s/it]\u001B[A\n",
      " 90%|█████████ | 9/10 [00:27<00:03,  3.02s/it]\u001B[A\n",
      "100%|██████████| 10/10 [00:30<00:00,  3.02s/it]\u001B[A\n",
      "                                               \u001B[A"
     ]
    },
    {
     "name": "stdout",
     "output_type": "stream",
     "text": [
      "https://lenta.ru/rubrics/style/luxury/8\n"
     ]
    },
    {
     "name": "stderr",
     "output_type": "stream",
     "text": [
      "\n",
      "  0%|          | 0/10 [00:00<?, ?it/s]\u001B[A\n",
      " 10%|█         | 1/10 [00:03<00:27,  3.02s/it]\u001B[A\n",
      " 20%|██        | 2/10 [00:06<00:24,  3.01s/it]\u001B[A\n",
      " 30%|███       | 3/10 [00:09<00:21,  3.01s/it]\u001B[A\n",
      " 40%|████      | 4/10 [00:12<00:18,  3.02s/it]\u001B[A\n",
      " 50%|█████     | 5/10 [00:15<00:15,  3.01s/it]\u001B[A\n",
      " 60%|██████    | 6/10 [00:18<00:12,  3.02s/it]\u001B[A\n",
      " 70%|███████   | 7/10 [00:21<00:09,  3.01s/it]\u001B[A\n",
      " 80%|████████  | 8/10 [00:24<00:06,  3.02s/it]\u001B[A\n",
      " 90%|█████████ | 9/10 [00:27<00:03,  3.02s/it]\u001B[A\n",
      "100%|██████████| 10/10 [00:30<00:00,  3.02s/it]\u001B[A\n",
      " 93%|█████████▎| 76/82 [2:33:23<11:52, 118.68s/it]"
     ]
    },
    {
     "name": "stdout",
     "output_type": "stream",
     "text": [
      "https://lenta.ru/rubrics/style/personality/4\n"
     ]
    },
    {
     "name": "stderr",
     "output_type": "stream",
     "text": [
      "\n",
      "  0%|          | 0/10 [00:00<?, ?it/s]\u001B[A\n",
      " 10%|█         | 1/10 [00:03<00:27,  3.02s/it]\u001B[A\n",
      " 20%|██        | 2/10 [00:06<00:24,  3.02s/it]\u001B[A\n",
      " 30%|███       | 3/10 [00:09<00:21,  3.02s/it]\u001B[A\n",
      " 40%|████      | 4/10 [00:12<00:18,  3.02s/it]\u001B[A\n",
      " 50%|█████     | 5/10 [00:15<00:15,  3.01s/it]\u001B[A\n",
      " 60%|██████    | 6/10 [00:18<00:12,  3.01s/it]\u001B[A\n",
      " 70%|███████   | 7/10 [00:21<00:09,  3.02s/it]\u001B[A\n",
      " 80%|████████  | 8/10 [00:24<00:06,  3.02s/it]\u001B[A\n",
      " 90%|█████████ | 9/10 [00:27<00:03,  3.02s/it]\u001B[A\n",
      "100%|██████████| 10/10 [00:30<00:00,  3.02s/it]\u001B[A\n",
      "                                               \u001B[A"
     ]
    },
    {
     "name": "stdout",
     "output_type": "stream",
     "text": [
      "https://lenta.ru/rubrics/style/personality/6\n"
     ]
    },
    {
     "name": "stderr",
     "output_type": "stream",
     "text": [
      "\n",
      "  0%|          | 0/10 [00:00<?, ?it/s]\u001B[A\n",
      " 10%|█         | 1/10 [00:03<00:27,  3.03s/it]\u001B[A\n",
      " 20%|██        | 2/10 [00:06<00:24,  3.02s/it]\u001B[A\n",
      " 30%|███       | 3/10 [00:09<00:21,  3.02s/it]\u001B[A\n",
      " 40%|████      | 4/10 [00:12<00:18,  3.01s/it]\u001B[A\n",
      " 50%|█████     | 5/10 [00:15<00:15,  3.01s/it]\u001B[A\n",
      " 60%|██████    | 6/10 [00:18<00:12,  3.02s/it]\u001B[A\n",
      " 70%|███████   | 7/10 [00:21<00:09,  3.02s/it]\u001B[A\n",
      " 80%|████████  | 8/10 [00:24<00:06,  3.02s/it]\u001B[A\n",
      " 90%|█████████ | 9/10 [00:27<00:03,  3.02s/it]\u001B[A\n",
      "100%|██████████| 10/10 [00:30<00:00,  3.02s/it]\u001B[A\n",
      "                                               \u001B[A"
     ]
    },
    {
     "name": "stdout",
     "output_type": "stream",
     "text": [
      "https://lenta.ru/rubrics/style/personality/8\n"
     ]
    },
    {
     "name": "stderr",
     "output_type": "stream",
     "text": [
      "\n",
      "  0%|          | 0/10 [00:00<?, ?it/s]\u001B[A\n",
      " 10%|█         | 1/10 [00:03<00:27,  3.02s/it]\u001B[A\n",
      " 20%|██        | 2/10 [00:06<00:24,  3.02s/it]\u001B[A\n",
      " 30%|███       | 3/10 [00:09<00:21,  3.02s/it]\u001B[A\n",
      " 40%|████      | 4/10 [00:12<00:18,  3.02s/it]\u001B[A\n",
      " 50%|█████     | 5/10 [00:15<00:15,  3.02s/it]\u001B[A\n",
      " 60%|██████    | 6/10 [00:18<00:12,  3.02s/it]\u001B[A\n",
      " 70%|███████   | 7/10 [00:21<00:09,  3.02s/it]\u001B[A\n",
      " 80%|████████  | 8/10 [00:24<00:06,  3.02s/it]\u001B[A\n",
      " 90%|█████████ | 9/10 [00:27<00:03,  3.02s/it]\u001B[A\n",
      "100%|██████████| 10/10 [00:30<00:00,  3.02s/it]\u001B[A\n",
      " 94%|█████████▍| 77/82 [2:35:22<09:53, 118.76s/it]"
     ]
    },
    {
     "name": "stdout",
     "output_type": "stream",
     "text": [
      "https://lenta.ru/rubrics/wellness/dietology/4\n"
     ]
    },
    {
     "name": "stderr",
     "output_type": "stream",
     "text": [
      "\n",
      "  0%|          | 0/10 [00:00<?, ?it/s]\u001B[A\n",
      " 10%|█         | 1/10 [00:03<00:27,  3.01s/it]\u001B[A\n",
      " 20%|██        | 2/10 [00:06<00:24,  3.02s/it]\u001B[A\n",
      " 30%|███       | 3/10 [00:09<00:21,  3.02s/it]\u001B[A\n",
      " 40%|████      | 4/10 [00:12<00:18,  3.02s/it]\u001B[A\n",
      " 50%|█████     | 5/10 [00:15<00:15,  3.02s/it]\u001B[A\n",
      " 60%|██████    | 6/10 [00:18<00:12,  3.02s/it]\u001B[A\n",
      " 70%|███████   | 7/10 [00:21<00:09,  3.02s/it]\u001B[A\n",
      " 80%|████████  | 8/10 [00:24<00:06,  3.02s/it]\u001B[A\n",
      " 90%|█████████ | 9/10 [00:27<00:03,  3.02s/it]\u001B[A\n",
      "100%|██████████| 10/10 [00:30<00:00,  3.02s/it]\u001B[A\n",
      "                                               \u001B[A"
     ]
    },
    {
     "name": "stdout",
     "output_type": "stream",
     "text": [
      "https://lenta.ru/rubrics/wellness/dietology/6\n"
     ]
    },
    {
     "name": "stderr",
     "output_type": "stream",
     "text": [
      "\n",
      "  0%|          | 0/10 [00:00<?, ?it/s]\u001B[A\n",
      " 10%|█         | 1/10 [00:03<00:27,  3.02s/it]\u001B[A\n",
      " 20%|██        | 2/10 [00:06<00:24,  3.02s/it]\u001B[A\n",
      " 30%|███       | 3/10 [00:09<00:21,  3.02s/it]\u001B[A\n",
      " 40%|████      | 4/10 [00:12<00:18,  3.02s/it]\u001B[A\n",
      " 50%|█████     | 5/10 [00:15<00:15,  3.02s/it]\u001B[A\n",
      " 60%|██████    | 6/10 [00:18<00:12,  3.02s/it]\u001B[A\n",
      " 70%|███████   | 7/10 [00:21<00:09,  3.02s/it]\u001B[A\n",
      " 80%|████████  | 8/10 [00:24<00:06,  3.02s/it]\u001B[A\n",
      " 90%|█████████ | 9/10 [00:27<00:03,  3.02s/it]\u001B[A\n",
      "100%|██████████| 10/10 [00:30<00:00,  3.02s/it]\u001B[A\n",
      "                                               \u001B[A"
     ]
    },
    {
     "name": "stdout",
     "output_type": "stream",
     "text": [
      "https://lenta.ru/rubrics/wellness/dietology/8\n"
     ]
    },
    {
     "name": "stderr",
     "output_type": "stream",
     "text": [
      "\n",
      "  0%|          | 0/10 [00:00<?, ?it/s]\u001B[A\n",
      " 10%|█         | 1/10 [00:03<00:27,  3.03s/it]\u001B[A\n",
      " 20%|██        | 2/10 [00:06<00:24,  3.02s/it]\u001B[A\n",
      " 30%|███       | 3/10 [00:09<00:21,  3.02s/it]\u001B[A\n",
      " 40%|████      | 4/10 [00:12<00:18,  3.02s/it]\u001B[A\n",
      " 50%|█████     | 5/10 [00:15<00:15,  3.02s/it]\u001B[A\n",
      " 60%|██████    | 6/10 [00:18<00:12,  3.02s/it]\u001B[A\n",
      " 70%|███████   | 7/10 [00:21<00:09,  3.02s/it]\u001B[A\n",
      " 80%|████████  | 8/10 [00:24<00:06,  3.02s/it]\u001B[A\n",
      " 90%|█████████ | 9/10 [00:27<00:03,  3.02s/it]\u001B[A\n",
      "100%|██████████| 10/10 [00:30<00:00,  3.02s/it]\u001B[A\n",
      " 95%|█████████▌| 78/82 [2:37:19<07:53, 118.29s/it]"
     ]
    },
    {
     "name": "stdout",
     "output_type": "stream",
     "text": [
      "https://lenta.ru/rubrics/wellness/selfcare/4\n"
     ]
    },
    {
     "name": "stderr",
     "output_type": "stream",
     "text": [
      "\n",
      "  0%|          | 0/10 [00:00<?, ?it/s]\u001B[A\n",
      " 10%|█         | 1/10 [00:03<00:27,  3.02s/it]\u001B[A\n",
      " 20%|██        | 2/10 [00:06<00:24,  3.02s/it]\u001B[A\n",
      " 30%|███       | 3/10 [00:09<00:21,  3.02s/it]\u001B[A\n",
      " 40%|████      | 4/10 [00:12<00:18,  3.02s/it]\u001B[A\n",
      " 50%|█████     | 5/10 [00:15<00:15,  3.02s/it]\u001B[A\n",
      " 60%|██████    | 6/10 [00:18<00:12,  3.02s/it]\u001B[A\n",
      " 70%|███████   | 7/10 [00:21<00:09,  3.02s/it]\u001B[A\n",
      " 80%|████████  | 8/10 [00:24<00:06,  3.02s/it]\u001B[A\n",
      " 90%|█████████ | 9/10 [00:27<00:03,  3.02s/it]\u001B[A\n",
      "100%|██████████| 10/10 [00:30<00:00,  3.02s/it]\u001B[A\n",
      "                                               \u001B[A"
     ]
    },
    {
     "name": "stdout",
     "output_type": "stream",
     "text": [
      "https://lenta.ru/rubrics/wellness/selfcare/6\n"
     ]
    },
    {
     "name": "stderr",
     "output_type": "stream",
     "text": [
      "\n",
      "  0%|          | 0/10 [00:00<?, ?it/s]\u001B[A\n",
      " 10%|█         | 1/10 [00:03<00:27,  3.01s/it]\u001B[A\n",
      " 20%|██        | 2/10 [00:06<00:24,  3.02s/it]\u001B[A\n",
      " 30%|███       | 3/10 [00:09<00:21,  3.02s/it]\u001B[A\n",
      " 40%|████      | 4/10 [00:12<00:18,  3.02s/it]\u001B[A\n",
      " 50%|█████     | 5/10 [00:15<00:15,  3.02s/it]\u001B[A\n",
      " 60%|██████    | 6/10 [00:18<00:12,  3.02s/it]\u001B[A\n",
      " 70%|███████   | 7/10 [00:21<00:09,  3.02s/it]\u001B[A\n",
      " 80%|████████  | 8/10 [00:24<00:06,  3.02s/it]\u001B[A\n",
      " 90%|█████████ | 9/10 [00:27<00:03,  3.01s/it]\u001B[A\n",
      "100%|██████████| 10/10 [00:30<00:00,  3.02s/it]\u001B[A\n",
      "                                               \u001B[A"
     ]
    },
    {
     "name": "stdout",
     "output_type": "stream",
     "text": [
      "https://lenta.ru/rubrics/wellness/selfcare/8\n"
     ]
    },
    {
     "name": "stderr",
     "output_type": "stream",
     "text": [
      "\n",
      "  0%|          | 0/10 [00:00<?, ?it/s]\u001B[A\n",
      " 10%|█         | 1/10 [00:03<00:27,  3.03s/it]\u001B[A\n",
      " 20%|██        | 2/10 [00:06<00:24,  3.02s/it]\u001B[A\n",
      " 30%|███       | 3/10 [00:09<00:21,  3.02s/it]\u001B[A\n",
      " 40%|████      | 4/10 [00:12<00:18,  3.01s/it]\u001B[A\n",
      " 50%|█████     | 5/10 [00:15<00:15,  3.01s/it]\u001B[A\n",
      " 60%|██████    | 6/10 [00:18<00:12,  3.02s/it]\u001B[A\n",
      " 70%|███████   | 7/10 [00:21<00:09,  3.02s/it]\u001B[A\n",
      " 80%|████████  | 8/10 [00:24<00:06,  3.02s/it]\u001B[A\n",
      " 90%|█████████ | 9/10 [00:27<00:03,  3.02s/it]\u001B[A\n",
      "100%|██████████| 10/10 [00:30<00:00,  3.02s/it]\u001B[A\n",
      " 96%|█████████▋| 79/82 [2:39:16<05:53, 117.91s/it]"
     ]
    },
    {
     "name": "stdout",
     "output_type": "stream",
     "text": [
      "https://lenta.ru/rubrics/wellness/interior_ideas/4\n"
     ]
    },
    {
     "name": "stderr",
     "output_type": "stream",
     "text": [
      "\n",
      "  0%|          | 0/10 [00:00<?, ?it/s]\u001B[A\n",
      " 10%|█         | 1/10 [00:03<00:27,  3.02s/it]\u001B[A\n",
      " 20%|██        | 2/10 [00:06<00:24,  3.02s/it]\u001B[A\n",
      " 30%|███       | 3/10 [00:09<00:21,  3.02s/it]\u001B[A\n",
      " 40%|████      | 4/10 [00:12<00:18,  3.02s/it]\u001B[A\n",
      " 50%|█████     | 5/10 [00:15<00:15,  3.02s/it]\u001B[A\n",
      " 60%|██████    | 6/10 [00:18<00:12,  3.02s/it]\u001B[A\n",
      " 70%|███████   | 7/10 [00:21<00:09,  3.02s/it]\u001B[A\n",
      " 80%|████████  | 8/10 [00:24<00:06,  3.02s/it]\u001B[A\n",
      " 90%|█████████ | 9/10 [00:27<00:03,  3.01s/it]\u001B[A\n",
      "100%|██████████| 10/10 [00:30<00:00,  3.02s/it]\u001B[A\n",
      "                                               \u001B[A"
     ]
    },
    {
     "name": "stdout",
     "output_type": "stream",
     "text": [
      "https://lenta.ru/rubrics/wellness/interior_ideas/6\n"
     ]
    },
    {
     "name": "stderr",
     "output_type": "stream",
     "text": [
      "\n",
      "  0%|          | 0/10 [00:00<?, ?it/s]\u001B[A\n",
      " 10%|█         | 1/10 [00:03<00:27,  3.02s/it]\u001B[A\n",
      " 20%|██        | 2/10 [00:06<00:24,  3.02s/it]\u001B[A\n",
      " 30%|███       | 3/10 [00:09<00:21,  3.02s/it]\u001B[A\n",
      " 40%|████      | 4/10 [00:12<00:18,  3.02s/it]\u001B[A\n",
      " 50%|█████     | 5/10 [00:15<00:15,  3.02s/it]\u001B[A\n",
      " 60%|██████    | 6/10 [00:18<00:12,  3.02s/it]\u001B[A\n",
      " 70%|███████   | 7/10 [00:21<00:09,  3.02s/it]\u001B[A\n",
      " 80%|████████  | 8/10 [00:24<00:06,  3.02s/it]\u001B[A\n",
      " 90%|█████████ | 9/10 [00:27<00:03,  3.02s/it]\u001B[A\n",
      "100%|██████████| 10/10 [00:30<00:00,  3.02s/it]\u001B[A\n",
      "                                               \u001B[A"
     ]
    },
    {
     "name": "stdout",
     "output_type": "stream",
     "text": [
      "https://lenta.ru/rubrics/wellness/interior_ideas/8\n"
     ]
    },
    {
     "name": "stderr",
     "output_type": "stream",
     "text": [
      "\n",
      "  0%|          | 0/10 [00:00<?, ?it/s]\u001B[A\n",
      " 10%|█         | 1/10 [00:03<00:27,  3.01s/it]\u001B[A\n",
      " 20%|██        | 2/10 [00:06<00:24,  3.01s/it]\u001B[A\n",
      " 30%|███       | 3/10 [00:09<00:21,  3.02s/it]\u001B[A\n",
      " 40%|████      | 4/10 [00:12<00:18,  3.02s/it]\u001B[A\n",
      " 50%|█████     | 5/10 [00:15<00:15,  3.02s/it]\u001B[A\n",
      " 60%|██████    | 6/10 [00:18<00:12,  3.02s/it]\u001B[A\n",
      " 70%|███████   | 7/10 [00:21<00:09,  3.02s/it]\u001B[A\n",
      " 80%|████████  | 8/10 [00:24<00:06,  3.02s/it]\u001B[A\n",
      " 90%|█████████ | 9/10 [00:27<00:03,  3.02s/it]\u001B[A\n",
      "100%|██████████| 10/10 [00:30<00:00,  3.02s/it]\u001B[A\n",
      " 98%|█████████▊| 80/82 [2:41:15<03:56, 118.19s/it]"
     ]
    },
    {
     "name": "stdout",
     "output_type": "stream",
     "text": [
      "https://lenta.ru/rubrics/wellness/mental_health/4\n"
     ]
    },
    {
     "name": "stderr",
     "output_type": "stream",
     "text": [
      "\n",
      "  0%|          | 0/10 [00:00<?, ?it/s]\u001B[A\n",
      " 10%|█         | 1/10 [00:03<00:27,  3.02s/it]\u001B[A\n",
      " 20%|██        | 2/10 [00:06<00:24,  3.02s/it]\u001B[A\n",
      " 30%|███       | 3/10 [00:09<00:21,  3.02s/it]\u001B[A\n",
      " 40%|████      | 4/10 [00:12<00:18,  3.02s/it]\u001B[A\n",
      " 50%|█████     | 5/10 [00:15<00:15,  3.02s/it]\u001B[A\n",
      " 60%|██████    | 6/10 [00:18<00:12,  3.02s/it]\u001B[A\n",
      " 70%|███████   | 7/10 [00:21<00:09,  3.02s/it]\u001B[A\n",
      " 80%|████████  | 8/10 [00:24<00:06,  3.02s/it]\u001B[A\n",
      " 90%|█████████ | 9/10 [00:27<00:03,  3.02s/it]\u001B[A\n",
      "100%|██████████| 10/10 [00:30<00:00,  3.02s/it]\u001B[A\n",
      "                                               \u001B[A"
     ]
    },
    {
     "name": "stdout",
     "output_type": "stream",
     "text": [
      "https://lenta.ru/rubrics/wellness/mental_health/6\n"
     ]
    },
    {
     "name": "stderr",
     "output_type": "stream",
     "text": [
      "\n",
      "  0%|          | 0/10 [00:00<?, ?it/s]\u001B[A\n",
      " 10%|█         | 1/10 [00:03<00:27,  3.02s/it]\u001B[A\n",
      " 20%|██        | 2/10 [00:06<00:24,  3.01s/it]\u001B[A\n",
      " 30%|███       | 3/10 [00:09<00:21,  3.02s/it]\u001B[A\n",
      " 40%|████      | 4/10 [00:12<00:18,  3.02s/it]\u001B[A\n",
      " 50%|█████     | 5/10 [00:15<00:15,  3.01s/it]\u001B[A\n",
      " 60%|██████    | 6/10 [00:18<00:12,  3.01s/it]\u001B[A\n",
      " 70%|███████   | 7/10 [00:21<00:09,  3.02s/it]\u001B[A\n",
      " 80%|████████  | 8/10 [00:24<00:06,  3.02s/it]\u001B[A\n",
      " 90%|█████████ | 9/10 [00:27<00:03,  3.02s/it]\u001B[A\n",
      "100%|██████████| 10/10 [00:30<00:00,  3.02s/it]\u001B[A\n",
      "                                               \u001B[A"
     ]
    },
    {
     "name": "stdout",
     "output_type": "stream",
     "text": [
      "https://lenta.ru/rubrics/wellness/mental_health/8\n"
     ]
    },
    {
     "name": "stderr",
     "output_type": "stream",
     "text": [
      "\n",
      "  0%|          | 0/10 [00:00<?, ?it/s]\u001B[A\n",
      " 10%|█         | 1/10 [00:03<00:27,  3.02s/it]\u001B[A\n",
      " 20%|██        | 2/10 [00:06<00:24,  3.02s/it]\u001B[A\n",
      " 30%|███       | 3/10 [00:09<00:21,  3.02s/it]\u001B[A\n",
      " 40%|████      | 4/10 [00:12<00:18,  3.02s/it]\u001B[A\n",
      " 50%|█████     | 5/10 [00:15<00:15,  3.02s/it]\u001B[A\n",
      " 60%|██████    | 6/10 [00:18<00:12,  3.02s/it]\u001B[A\n",
      " 70%|███████   | 7/10 [00:21<00:09,  3.01s/it]\u001B[A\n",
      " 80%|████████  | 8/10 [00:24<00:06,  3.01s/it]\u001B[A\n",
      " 90%|█████████ | 9/10 [00:27<00:03,  3.01s/it]\u001B[A\n",
      "100%|██████████| 10/10 [00:30<00:00,  3.02s/it]\u001B[A\n",
      " 99%|█████████▉| 81/82 [2:43:12<01:58, 118.06s/it]"
     ]
    },
    {
     "name": "stdout",
     "output_type": "stream",
     "text": [
      "https://lenta.ru/rubrics/wellness/relationships/4\n"
     ]
    },
    {
     "name": "stderr",
     "output_type": "stream",
     "text": [
      "\n",
      "  0%|          | 0/10 [00:00<?, ?it/s]\u001B[A\n",
      " 10%|█         | 1/10 [00:03<00:27,  3.02s/it]\u001B[A\n",
      " 20%|██        | 2/10 [00:06<00:24,  3.01s/it]\u001B[A\n",
      " 30%|███       | 3/10 [00:09<00:21,  3.02s/it]\u001B[A\n",
      " 40%|████      | 4/10 [00:12<00:18,  3.02s/it]\u001B[A\n",
      " 50%|█████     | 5/10 [00:15<00:15,  3.02s/it]\u001B[A\n",
      " 60%|██████    | 6/10 [00:18<00:12,  3.02s/it]\u001B[A\n",
      " 70%|███████   | 7/10 [00:21<00:09,  3.02s/it]\u001B[A\n",
      " 80%|████████  | 8/10 [00:24<00:06,  3.02s/it]\u001B[A\n",
      " 90%|█████████ | 9/10 [00:27<00:03,  3.02s/it]\u001B[A\n",
      "100%|██████████| 10/10 [00:30<00:00,  3.02s/it]\u001B[A\n",
      "                                               \u001B[A"
     ]
    },
    {
     "name": "stdout",
     "output_type": "stream",
     "text": [
      "https://lenta.ru/rubrics/wellness/relationships/6\n"
     ]
    },
    {
     "name": "stderr",
     "output_type": "stream",
     "text": [
      "\n",
      "  0%|          | 0/10 [00:00<?, ?it/s]\u001B[A\n",
      " 10%|█         | 1/10 [00:03<00:27,  3.03s/it]\u001B[A\n",
      " 20%|██        | 2/10 [00:06<00:24,  3.02s/it]\u001B[A\n",
      " 30%|███       | 3/10 [00:09<00:21,  3.02s/it]\u001B[A\n",
      " 40%|████      | 4/10 [00:12<00:18,  3.02s/it]\u001B[A\n",
      " 50%|█████     | 5/10 [00:15<00:15,  3.02s/it]\u001B[A\n",
      " 60%|██████    | 6/10 [00:18<00:12,  3.02s/it]\u001B[A\n",
      " 70%|███████   | 7/10 [00:21<00:09,  3.02s/it]\u001B[A\n",
      " 80%|████████  | 8/10 [00:24<00:06,  3.02s/it]\u001B[A\n",
      " 90%|█████████ | 9/10 [00:27<00:03,  3.02s/it]\u001B[A\n",
      "100%|██████████| 10/10 [00:30<00:00,  3.02s/it]\u001B[A\n",
      "                                               \u001B[A"
     ]
    },
    {
     "name": "stdout",
     "output_type": "stream",
     "text": [
      "https://lenta.ru/rubrics/wellness/relationships/8\n"
     ]
    },
    {
     "name": "stderr",
     "output_type": "stream",
     "text": [
      "\n",
      "  0%|          | 0/10 [00:00<?, ?it/s]\u001B[A\n",
      " 10%|█         | 1/10 [00:03<00:27,  3.01s/it]\u001B[A\n",
      " 20%|██        | 2/10 [00:06<00:24,  3.02s/it]\u001B[A\n",
      " 30%|███       | 3/10 [00:09<00:21,  3.02s/it]\u001B[A\n",
      " 40%|████      | 4/10 [00:12<00:18,  3.02s/it]\u001B[A\n",
      " 50%|█████     | 5/10 [00:15<00:15,  3.02s/it]\u001B[A\n",
      " 60%|██████    | 6/10 [00:18<00:12,  3.02s/it]\u001B[A\n",
      " 70%|███████   | 7/10 [00:21<00:09,  3.02s/it]\u001B[A\n",
      " 80%|████████  | 8/10 [00:24<00:06,  3.02s/it]\u001B[A\n",
      " 90%|█████████ | 9/10 [00:27<00:03,  3.02s/it]\u001B[A\n",
      "100%|██████████| 10/10 [00:30<00:00,  3.02s/it]\u001B[A\n",
      "100%|██████████| 82/82 [2:45:10<00:00, 120.85s/it]\n"
     ]
    }
   ],
   "source": [
    "# get pages and topics\n",
    "pages, topics_order = get_pages()\n",
    "# with open('pages.txt', 'w') as f:\n",
    "#     for page in pages:\n",
    "#         f.write(\"%s\\n\" % page)лъ"
   ]
  },
  {
   "cell_type": "code",
   "execution_count": 8,
   "outputs": [
    {
     "data": {
      "text/plain": "['world/crime',\n 'world/crime',\n 'world/crime',\n 'world/crime',\n 'world/crime',\n 'world/crime',\n 'world/crime',\n 'world/crime',\n 'world/crime',\n 'world/crime',\n 'world/crime',\n 'world/crime',\n 'world/crime',\n 'world/crime',\n 'world/crime',\n 'world/crime',\n 'world/crime',\n 'world/crime',\n 'world/crime',\n 'world/crime',\n 'world/crime',\n 'world/crime',\n 'world/crime',\n 'world/crime',\n 'world/crime',\n 'world/crime',\n 'world/crime',\n 'world/crime',\n 'world/crime',\n 'world/crime',\n 'world/crime',\n 'world/crime',\n 'world/crime',\n 'world/crime',\n 'world/crime',\n 'world/crime',\n 'world/crime',\n 'world/crime',\n 'world/crime',\n 'world/crime',\n 'world/crime',\n 'world/crime',\n 'world/crime',\n 'world/crime',\n 'world/crime',\n 'world/crime',\n 'world/crime',\n 'world/crime',\n 'world/crime',\n 'world/crime',\n 'world/crime',\n 'world/crime',\n 'world/crime',\n 'world/crime',\n 'world/crime',\n 'world/crime',\n 'world/crime',\n 'world/crime',\n 'world/crime',\n 'world/crime',\n 'world/crime',\n 'world/crime',\n 'world/crime',\n 'world/crime',\n 'world/crime',\n 'world/crime',\n 'world/crime',\n 'world/crime',\n 'world/crime',\n 'world/crime',\n 'world/crime',\n 'world/crime',\n 'world/crime',\n 'world/crime',\n 'world/crime',\n 'world/crime',\n 'world/crime',\n 'world/crime',\n 'world/crime',\n 'world/crime',\n 'world/crime',\n 'world/crime',\n 'world/crime',\n 'world/crime',\n 'world/crime',\n 'world/crime',\n 'world/crime',\n 'world/crime',\n 'world/crime',\n 'world/crime',\n 'world/crime',\n 'world/crime',\n 'world/crime',\n 'world/crime',\n 'world/crime',\n 'world/crime',\n 'world/crime',\n 'world/crime',\n 'world/crime',\n 'world/crime',\n 'world/crime',\n 'world/crime',\n 'world/crime',\n 'world/crime',\n 'world/crime',\n 'world/crime',\n 'world/crime',\n 'world/crime',\n 'world/crime',\n 'world/crime',\n 'world/crime',\n 'world/crime',\n 'world/crime',\n 'world/crime',\n 'world/crime',\n 'world/crime',\n 'world/crime',\n 'world/crime',\n 'world/crime',\n 'world/crime',\n 'world/crime',\n 'world/crime',\n 'world/crime',\n 'world/crime',\n 'world/crime',\n 'world/crime',\n 'world/crime',\n 'world/crime',\n 'world/crime',\n 'world/crime',\n 'world/crime',\n 'world/crime',\n 'world/crime',\n 'world/crime',\n 'world/crime',\n 'world/crime',\n 'world/crime',\n 'world/crime',\n 'world/crime',\n 'world/crime',\n 'world/crime',\n 'world/crime',\n 'world/crime',\n 'world/crime',\n 'world/crime',\n 'world/crime',\n 'world/crime',\n 'world/crime',\n 'world/crime',\n 'world/crime',\n 'world/crime',\n 'world/crime',\n 'world/crime',\n 'world/crime',\n 'world/crime',\n 'world/crime',\n 'world/crime',\n 'world/crime',\n 'world/crime',\n 'world/crime',\n 'world/crime',\n 'world/crime',\n 'world/crime',\n 'world/crime',\n 'world/crime',\n 'world/crime',\n 'world/crime',\n 'world/crime',\n 'world/crime',\n 'world/crime',\n 'world/crime',\n 'world/crime',\n 'world/crime',\n 'world/crime',\n 'world/crime',\n 'world/crime',\n 'world/crime',\n 'world/crime',\n 'world/crime',\n 'world/crime',\n 'world/crime',\n 'world/crime',\n 'world/crime',\n 'world/crime',\n 'world/crime',\n 'world/crime',\n 'world/crime',\n 'world/crime',\n 'world/crime',\n 'world/crime',\n 'world/crime',\n 'world/crime',\n 'world/crime',\n 'world/crime',\n 'world/crime',\n 'world/crime',\n 'world/crime',\n 'world/crime',\n 'world/crime',\n 'world/crime',\n 'world/crime',\n 'world/crime',\n 'world/crime',\n 'world/crime',\n 'world/crime',\n 'world/crime',\n 'world/crime',\n 'world/crime',\n 'world/crime',\n 'world/crime',\n 'world/crime',\n 'world/crime',\n 'world/crime',\n 'world/crime',\n 'world/crime',\n 'world/crime',\n 'world/crime',\n 'world/crime',\n 'world/crime',\n 'world/crime',\n 'world/crime',\n 'world/crime',\n 'world/crime',\n 'world/crime',\n 'world/crime',\n 'world/crime',\n 'world/crime',\n 'world/crime',\n 'world/crime',\n 'world/crime',\n 'world/crime',\n 'world/crime',\n 'world/crime',\n 'world/crime',\n 'world/crime',\n 'world/crime',\n 'world/crime',\n 'world/crime',\n 'world/crime',\n 'world/crime',\n 'world/crime',\n 'world/crime',\n 'world/crime',\n 'world/crime',\n 'world/crime',\n 'world/crime',\n 'world/crime',\n 'world/crime',\n 'world/crime',\n 'world/crime',\n 'world/crime',\n 'world/crime',\n 'world/crime',\n 'world/crime',\n 'world/crime',\n 'world/crime',\n 'world/crime',\n 'world/crime',\n 'world/crime',\n 'world/crime',\n 'world/crime',\n 'world/crime',\n 'world/crime',\n 'world/crime',\n 'world/crime',\n 'world/crime',\n 'world/crime',\n 'world/crime',\n 'world/crime',\n 'world/crime',\n 'world/crime',\n 'world/crime',\n 'world/crime',\n 'world/crime',\n 'world/crime',\n 'world/crime',\n 'world/crime',\n 'world/crime',\n 'world/crime',\n 'world/crime',\n 'world/crime',\n 'world/crime',\n 'world/crime',\n 'world/crime',\n 'world/crime',\n 'world/crime',\n 'world/crime',\n 'world/crime',\n 'world/crime',\n 'world/crime',\n 'world/crime',\n 'world/crime',\n 'world/crime',\n 'world/crime',\n 'world/crime',\n 'world/crime',\n 'world/crime',\n 'world/crime',\n 'world/crime',\n 'world/crime',\n 'world/crime',\n 'world/crime',\n 'world/crime',\n 'world/crime',\n 'world/crime',\n 'world/crime',\n 'world/crime',\n 'world/crime',\n 'world/crime',\n 'world/crime',\n 'world/crime',\n 'world/crime',\n 'world/crime',\n 'world/crime',\n 'world/crime',\n 'world/crime',\n 'world/crime',\n 'world/crime',\n 'world/crime',\n 'world/crime',\n 'world/crime',\n 'world/crime',\n 'world/crime',\n 'world/crime',\n 'world/crime',\n 'world/crime',\n 'world/crime',\n 'world/crime',\n 'world/crime',\n 'world/crime',\n 'world/crime',\n 'world/crime',\n 'world/crime',\n 'world/crime',\n 'world/crime',\n 'world/crime',\n 'world/crime',\n 'world/crime',\n 'world/crime',\n 'world/crime',\n 'world/crime',\n 'world/society',\n 'world/society',\n 'world/society',\n 'world/society',\n 'world/society',\n 'world/society',\n 'world/society',\n 'world/society',\n 'world/society',\n 'world/society',\n 'world/society',\n 'world/society',\n 'world/society',\n 'world/society',\n 'world/society',\n 'world/society',\n 'world/society',\n 'world/society',\n 'world/society',\n 'world/society',\n 'world/society',\n 'world/society',\n 'world/society',\n 'world/society',\n 'world/society',\n 'world/society',\n 'world/society',\n 'world/society',\n 'world/society',\n 'world/society',\n 'world/society',\n 'world/society',\n 'world/society',\n 'world/society',\n 'world/society',\n 'world/society',\n 'world/society',\n 'world/society',\n 'world/society',\n 'world/society',\n 'world/society',\n 'world/society',\n 'world/society',\n 'world/society',\n 'world/society',\n 'world/society',\n 'world/society',\n 'world/society',\n 'world/society',\n 'world/society',\n 'world/society',\n 'world/society',\n 'world/society',\n 'world/society',\n 'world/society',\n 'world/society',\n 'world/society',\n 'world/society',\n 'world/society',\n 'world/society',\n 'world/society',\n 'world/society',\n 'world/society',\n 'world/society',\n 'world/society',\n 'world/society',\n 'world/society',\n 'world/society',\n 'world/society',\n 'world/society',\n 'world/society',\n 'world/society',\n 'world/society',\n 'world/society',\n 'world/society',\n 'world/society',\n 'world/society',\n 'world/society',\n 'world/society',\n 'world/society',\n 'world/society',\n 'world/society',\n 'world/society',\n 'world/society',\n 'world/society',\n 'world/society',\n 'world/society',\n 'world/society',\n 'world/society',\n 'world/society',\n 'world/society',\n 'world/society',\n 'world/society',\n 'world/society',\n 'world/society',\n 'world/society',\n 'world/society',\n 'world/society',\n 'world/society',\n 'world/society',\n 'world/society',\n 'world/society',\n 'world/society',\n 'world/society',\n 'world/society',\n 'world/society',\n 'world/society',\n 'world/society',\n 'world/society',\n 'world/society',\n 'world/society',\n 'world/society',\n 'world/society',\n 'world/society',\n 'world/society',\n 'world/society',\n 'world/society',\n 'world/society',\n 'world/society',\n 'world/society',\n 'world/society',\n 'world/society',\n 'world/society',\n 'world/society',\n 'world/society',\n 'world/society',\n 'world/society',\n 'world/society',\n 'world/society',\n 'world/society',\n 'world/society',\n 'world/society',\n 'world/society',\n 'world/society',\n 'world/society',\n 'world/society',\n 'world/society',\n 'world/society',\n 'world/society',\n 'world/society',\n 'world/society',\n 'world/society',\n 'world/society',\n 'world/society',\n 'world/society',\n 'world/society',\n 'world/society',\n 'world/society',\n 'world/society',\n 'world/society',\n 'world/society',\n 'world/society',\n 'world/society',\n 'world/society',\n 'world/society',\n 'world/society',\n 'world/society',\n 'world/society',\n 'world/society',\n 'world/society',\n 'world/society',\n 'world/society',\n 'world/society',\n 'world/society',\n 'world/society',\n 'world/society',\n 'world/society',\n 'world/society',\n 'world/society',\n 'world/society',\n 'world/society',\n 'world/society',\n 'world/society',\n 'world/society',\n 'world/society',\n 'world/society',\n 'world/society',\n 'world/society',\n 'world/society',\n 'world/society',\n 'world/society',\n 'world/society',\n 'world/society',\n 'world/society',\n 'world/society',\n 'world/society',\n 'world/society',\n 'world/society',\n 'world/society',\n 'world/society',\n 'world/society',\n 'world/society',\n 'world/society',\n 'world/society',\n 'world/society',\n 'world/society',\n 'world/society',\n 'world/society',\n 'world/society',\n 'world/society',\n 'world/society',\n 'world/society',\n 'world/society',\n 'world/society',\n 'world/society',\n 'world/society',\n 'world/society',\n 'world/society',\n 'world/society',\n 'world/society',\n 'world/society',\n 'world/society',\n 'world/society',\n 'world/society',\n 'world/society',\n 'world/society',\n 'world/society',\n 'world/society',\n 'world/society',\n 'world/society',\n 'world/society',\n 'world/society',\n 'world/society',\n 'world/society',\n 'world/society',\n 'world/society',\n 'world/society',\n 'world/society',\n 'world/society',\n 'world/society',\n 'world/society',\n 'world/society',\n 'world/society',\n 'world/society',\n 'world/society',\n 'world/society',\n 'world/society',\n 'world/society',\n 'world/society',\n 'world/society',\n 'world/society',\n 'world/society',\n 'world/society',\n 'world/society',\n 'world/society',\n 'world/society',\n 'world/society',\n 'world/society',\n 'world/society',\n 'world/society',\n 'world/society',\n 'world/society',\n 'world/society',\n 'world/society',\n 'world/society',\n 'world/society',\n 'world/society',\n 'world/society',\n 'world/society',\n 'world/society',\n 'world/society',\n 'world/society',\n 'world/society',\n 'world/society',\n 'world/society',\n 'world/society',\n 'world/society',\n 'world/society',\n 'world/society',\n 'world/society',\n 'world/society',\n 'world/society',\n 'world/society',\n 'world/society',\n 'world/society',\n 'world/society',\n 'world/society',\n 'world/society',\n 'world/society',\n 'world/society',\n 'world/society',\n 'world/society',\n 'world/society',\n 'world/society',\n 'world/society',\n 'world/society',\n 'world/society',\n 'world/society',\n 'world/society',\n 'world/society',\n 'world/society',\n 'world/society',\n 'world/society',\n 'world/society',\n 'world/society',\n 'world/society',\n 'world/society',\n 'world/society',\n 'world/society',\n 'world/society',\n 'world/society',\n 'world/society',\n 'world/society',\n 'world/society',\n 'world/society',\n 'world/society',\n 'world/society',\n 'world/society',\n 'world/society',\n 'world/society',\n 'world/society',\n 'world/society',\n 'world/society',\n 'world/society',\n 'world/society',\n 'world/society',\n 'world/society',\n 'world/society',\n 'world/society',\n 'world/society',\n 'world/society',\n 'world/society',\n 'world/society',\n 'world/society',\n 'world/society',\n 'world/society',\n 'world/society',\n 'world/society',\n 'world/society',\n 'world/society',\n 'world/society',\n 'world/society',\n 'world/society',\n 'world/society',\n 'world/society',\n 'world/society',\n 'world/society',\n 'world/society',\n 'world/society',\n 'world/society',\n 'world/society',\n 'world/society',\n 'world/society',\n 'world/society',\n 'world/society',\n 'world/society',\n 'world/society',\n 'world/society',\n 'world/society',\n 'world/society',\n 'world/politic',\n 'world/politic',\n 'world/politic',\n 'world/politic',\n 'world/politic',\n 'world/politic',\n 'world/politic',\n 'world/politic',\n 'world/politic',\n 'world/politic',\n 'world/politic',\n 'world/politic',\n 'world/politic',\n 'world/politic',\n 'world/politic',\n 'world/politic',\n 'world/politic',\n 'world/politic',\n 'world/politic',\n 'world/politic',\n 'world/politic',\n 'world/politic',\n 'world/politic',\n 'world/politic',\n 'world/politic',\n 'world/politic',\n 'world/politic',\n 'world/politic',\n 'world/politic',\n 'world/politic',\n 'world/politic',\n 'world/politic',\n 'world/politic',\n 'world/politic',\n 'world/politic',\n 'world/politic',\n 'world/politic',\n 'world/politic',\n 'world/politic',\n 'world/politic',\n 'world/politic',\n 'world/politic',\n 'world/politic',\n 'world/politic',\n 'world/politic',\n 'world/politic',\n 'world/politic',\n 'world/politic',\n 'world/politic',\n 'world/politic',\n 'world/politic',\n 'world/politic',\n 'world/politic',\n 'world/politic',\n 'world/politic',\n 'world/politic',\n 'world/politic',\n 'world/politic',\n 'world/politic',\n 'world/politic',\n 'world/politic',\n 'world/politic',\n 'world/politic',\n 'world/politic',\n 'world/politic',\n 'world/politic',\n 'world/politic',\n 'world/politic',\n 'world/politic',\n 'world/politic',\n 'world/politic',\n 'world/politic',\n 'world/politic',\n 'world/politic',\n 'world/politic',\n 'world/politic',\n 'world/politic',\n 'world/politic',\n 'world/politic',\n 'world/politic',\n 'world/politic',\n 'world/politic',\n 'world/politic',\n 'world/politic',\n 'world/politic',\n 'world/politic',\n 'world/politic',\n 'world/politic',\n 'world/politic',\n 'world/politic',\n 'world/politic',\n 'world/politic',\n 'world/politic',\n 'world/politic',\n 'world/politic',\n 'world/politic',\n 'world/politic',\n 'world/politic',\n 'world/politic',\n 'world/politic',\n 'world/politic',\n 'world/politic',\n 'world/politic',\n 'world/politic',\n 'world/politic',\n 'world/politic',\n 'world/politic',\n 'world/politic',\n 'world/politic',\n 'world/politic',\n 'world/politic',\n 'world/politic',\n 'world/politic',\n 'world/politic',\n 'world/politic',\n 'world/politic',\n 'world/politic',\n 'world/politic',\n 'world/politic',\n 'world/politic',\n 'world/politic',\n 'world/politic',\n 'world/politic',\n 'world/politic',\n 'world/politic',\n 'world/politic',\n 'world/politic',\n 'world/politic',\n 'world/politic',\n 'world/politic',\n 'world/politic',\n 'world/politic',\n 'world/politic',\n 'world/politic',\n 'world/politic',\n 'world/politic',\n 'world/politic',\n 'world/politic',\n 'world/politic',\n 'world/politic',\n 'world/politic',\n 'world/politic',\n 'world/politic',\n 'world/politic',\n 'world/politic',\n 'world/politic',\n 'world/politic',\n 'world/politic',\n 'world/politic',\n 'world/politic',\n 'world/politic',\n 'world/politic',\n 'world/politic',\n 'world/politic',\n 'world/politic',\n 'world/politic',\n 'world/politic',\n 'world/politic',\n 'world/politic',\n 'world/politic',\n 'world/politic',\n 'world/politic',\n 'world/politic',\n 'world/politic',\n 'world/politic',\n 'world/politic',\n 'world/politic',\n 'world/politic',\n 'world/politic',\n 'world/politic',\n 'world/politic',\n 'world/politic',\n 'world/politic',\n 'world/politic',\n 'world/politic',\n 'world/politic',\n 'world/politic',\n 'world/politic',\n 'world/politic',\n 'world/politic',\n 'world/politic',\n 'world/politic',\n 'world/politic',\n 'world/politic',\n 'world/politic',\n 'world/politic',\n 'world/politic',\n 'world/politic',\n 'world/politic',\n 'world/politic',\n 'world/politic',\n 'world/politic',\n 'world/politic',\n 'world/politic',\n 'world/politic',\n 'world/politic',\n 'world/politic',\n 'world/politic',\n 'world/politic',\n 'world/politic',\n 'world/politic',\n 'world/politic',\n 'world/politic',\n 'world/politic',\n 'world/politic',\n 'world/politic',\n 'world/politic',\n 'world/politic',\n 'world/politic',\n 'world/politic',\n 'world/politic',\n 'world/politic',\n 'world/politic',\n 'world/politic',\n 'world/politic',\n 'world/politic',\n 'world/politic',\n 'world/politic',\n 'world/politic',\n 'world/politic',\n 'world/politic',\n 'world/politic',\n 'world/politic',\n 'world/politic',\n 'world/politic',\n 'world/politic',\n 'world/politic',\n 'world/politic',\n 'world/politic',\n 'world/politic',\n 'world/politic',\n 'world/politic',\n 'world/politic',\n 'world/politic',\n 'world/politic',\n 'world/politic',\n 'world/politic',\n 'world/politic',\n 'world/politic',\n 'world/politic',\n 'world/politic',\n 'world/politic',\n 'world/politic',\n 'world/politic',\n 'world/politic',\n 'world/politic',\n 'world/politic',\n 'world/politic',\n 'world/politic',\n 'world/politic',\n 'world/politic',\n 'world/politic',\n 'world/politic',\n 'world/politic',\n 'world/politic',\n 'world/politic',\n 'world/politic',\n 'world/politic',\n 'world/politic',\n 'world/politic',\n 'world/politic',\n 'world/politic',\n 'world/politic',\n 'world/politic',\n 'world/politic',\n 'world/politic',\n 'world/politic',\n 'world/politic',\n 'world/politic',\n 'world/politic',\n 'world/politic',\n 'world/politic',\n 'world/politic',\n 'world/politic',\n 'world/politic',\n 'world/politic',\n 'world/politic',\n 'world/politic',\n 'world/politic',\n 'world/politic',\n 'world/politic',\n 'world/politic',\n 'world/politic',\n 'world/politic',\n 'world/politic',\n 'world/politic',\n 'world/politic',\n 'world/politic',\n 'world/politic',\n 'world/politic',\n 'world/politic',\n 'world/politic',\n 'world/politic',\n 'world/politic',\n 'world/politic',\n 'world/politic',\n 'world/politic',\n 'world/politic',\n 'world/politic',\n 'world/politic',\n 'world/politic',\n 'world/politic',\n 'world/politic',\n 'world/politic',\n 'world/politic',\n 'world/politic',\n 'world/politic',\n 'world/politic',\n 'world/politic',\n ...]"
     },
     "execution_count": 8,
     "metadata": {},
     "output_type": "execute_result"
    }
   ],
   "source": [
    "topics_order"
   ],
   "metadata": {
    "collapsed": false
   }
  },
  {
   "cell_type": "code",
   "execution_count": 9,
   "outputs": [
    {
     "data": {
      "text/plain": "[<li class=\"rubric-page__item _news\"><a class=\"card-full-news _subrubric\" href=\"/news/2023/04/27/402459/\"><h3 class=\"card-full-news__title\">Обвиняемого в утечках Пентагона военного объявили опасным для страны и общества</h3><div class=\"card-full-news__info\"><time class=\"card-full-news__info-item card-full-news__date\">09:39, 27 апреля 2023</time><span class=\"card-full-news__info-item card-full-news__rubric\">Мир</span></div></a></li>,\n <li class=\"rubric-page__item _news\"><a class=\"card-full-news _subrubric\" href=\"/news/2023/04/27/okhrannik_natsist/\"><h3 class=\"card-full-news__title\">Старейший из осужденных нацистов умер в возрасте 102 лет</h3><div class=\"card-full-news__info\"><time class=\"card-full-news__info-item card-full-news__date\">09:35, 27 апреля 2023</time><span class=\"card-full-news__info-item card-full-news__rubric\">Мир</span></div></a></li>,\n <li class=\"rubric-page__item _news\"><a class=\"card-full-news _subrubric\" href=\"/news/2023/04/26/vendetta/\"><h3 class=\"card-full-news__title\">«Талибан» отомстил ИГ убийством организатора теракта в Кабуле</h3><div class=\"card-full-news__info\"><time class=\"card-full-news__info-item card-full-news__date\">09:30, 26 апреля 2023</time><span class=\"card-full-news__info-item card-full-news__rubric\">Мир</span></div></a></li>,\n <li class=\"rubric-page__item _news\"><a class=\"card-full-news _subrubric\" href=\"/news/2023/04/25/ukrali_boepripasi/\"><h3 class=\"card-full-news__title\">Двое уборщиков украли боеприпасы у армии Израиля</h3><div class=\"card-full-news__info\"><time class=\"card-full-news__info-item card-full-news__date\">18:38, 25 апреля 2023</time><span class=\"card-full-news__info-item card-full-news__rubric\">Мир</span></div></a></li>,\n <li class=\"rubric-page__item _news\"><a class=\"card-full-news _subrubric\" href=\"/news/2023/04/24/france_arrest/\"><h3 class=\"card-full-news__title\">Во Франции арестовали двоих вернувшихся из зоны боевых действий на Украине людей</h3><div class=\"card-full-news__info\"><time class=\"card-full-news__info-item card-full-news__date\">18:49, 24 апреля 2023</time><span class=\"card-full-news__info-item card-full-news__rubric\">Мир</span></div></a></li>,\n <li class=\"rubric-page__item _news\"><a class=\"card-full-news _subrubric\" href=\"/news/2023/04/23/chushhbsu/\"><h3 class=\"card-full-news__title\">Экс-сотрудник британской разведки MI6 назвал чушью слухи о контрнаступлении ВСУ</h3><div class=\"card-full-news__info\"><time class=\"card-full-news__info-item card-full-news__date\">18:20, 23 апреля 2023</time><span class=\"card-full-news__info-item card-full-news__rubric\">Мир</span></div></a></li>,\n <li class=\"rubric-page__item _news\"><a class=\"card-full-news _subrubric\" href=\"/news/2023/04/17/japanconvictese/\"><h3 class=\"card-full-news__title\">В Японии передали прокуратуре бросившего бомбу в премьера</h3><div class=\"card-full-news__info\"><time class=\"card-full-news__info-item card-full-news__date\">09:41, 17 апреля 2023</time><span class=\"card-full-news__info-item card-full-news__rubric\">Мир</span></div></a></li>,\n <li class=\"rubric-page__item _news\"><a class=\"card-full-news _subrubric\" href=\"/news/2023/04/15/polvzryv/\"><h3 class=\"card-full-news__title\">Стала известна личность организатора взрыва рядом с премьером Японии</h3><div class=\"card-full-news__info\"><time class=\"card-full-news__info-item card-full-news__date\">10:25, 15 апреля 2023</time><span class=\"card-full-news__info-item card-full-news__rubric\">Мир</span></div></a></li>,\n <li class=\"rubric-page__item _news\"><a class=\"card-full-news _subrubric\" href=\"/news/2023/04/12/porty/\"><h3 class=\"card-full-news__title\">Партии кокаина наводнили мировые порты</h3><div class=\"card-full-news__info\"><time class=\"card-full-news__info-item card-full-news__date\">01:24, 12 апреля 2023</time><span class=\"card-full-news__info-item card-full-news__rubric\">Мир</span></div></a></li>,\n <li class=\"rubric-page__item _news\"><a class=\"card-full-news _subrubric\" href=\"/news/2023/04/10/louisville/\"><h3 class=\"card-full-news__title\">Пять человек погибли в результате стрельбы в США</h3><div class=\"card-full-news__info\"><time class=\"card-full-news__info-item card-full-news__date\">17:49, 10 апреля 2023</time><span class=\"card-full-news__info-item card-full-news__rubric\">Мир</span></div></a></li>,\n <li class=\"rubric-page__item _news\"><a class=\"card-full-news _subrubric\" href=\"/news/2023/04/08/terakt/\"><h3 class=\"card-full-news__title\">Посольство России прокомментировало данные о пострадавших в теракте в Тель-Авиве</h3><div class=\"card-full-news__info\"><time class=\"card-full-news__info-item card-full-news__date\">10:58, 8 апреля 2023</time><span class=\"card-full-news__info-item card-full-news__rubric\">Мир</span></div></a></li>,\n <li class=\"rubric-page__item _news\"><a class=\"card-full-news _subrubric\" href=\"/news/2023/04/06/london_police/\"><h3 class=\"card-full-news__title\">Лондонцы массово ополчились на элитное подразделение городской полиции</h3><div class=\"card-full-news__info\"><time class=\"card-full-news__info-item card-full-news__date\">11:15, 6 апреля 2023</time><span class=\"card-full-news__info-item card-full-news__rubric\">Мир</span></div></a></li>,\n <li class=\"rubric-page__item _news\"><a class=\"card-full-news _subrubric\" href=\"/news/2023/04/05/putin_sp_investigation/\"><h3 class=\"card-full-news__title\">Путин призвал к созданию комиссии по расследованию подрывов «Северных потоков»</h3><div class=\"card-full-news__info\"><time class=\"card-full-news__info-item card-full-news__date\">15:41, 5 апреля 2023</time><span class=\"card-full-news__info-item card-full-news__rubric\">Мир</span></div></a></li>,\n <li class=\"rubric-page__item _news\"><a class=\"card-full-news _subrubric\" href=\"/news/2023/04/03/malasya_execution/\"><h3 class=\"card-full-news__title\">В Малайзии разрешили заменять смертную казнь на удары палкой</h3><div class=\"card-full-news__info\"><time class=\"card-full-news__info-item card-full-news__date\">13:19, 3 апреля 2023</time><span class=\"card-full-news__info-item card-full-news__rubric\">Мир</span></div></a></li>,\n <li class=\"rubric-page__item _news\"><a class=\"card-full-news _subrubric\" href=\"/news/2023/04/03/hague_thaci/\"><h3 class=\"card-full-news__title\">Один из европейских лидеров предстанет перед гаагским трибуналом</h3><div class=\"card-full-news__info\"><time class=\"card-full-news__info-item card-full-news__date\">12:37, 3 апреля 2023</time><span class=\"card-full-news__info-item card-full-news__rubric\">Мир</span></div></a></li>,\n <li class=\"rubric-page__item _news\"><a class=\"card-full-news _subrubric\" href=\"/news/2023/03/31/vsu_vina/\"><h3 class=\"card-full-news__title\">В ООН заявили о пытках и исчезновениях десятков людей по вине ВСУ</h3><div class=\"card-full-news__info\"><time class=\"card-full-news__info-item card-full-news__date\">13:00, 31 марта 2023</time><span class=\"card-full-news__info-item card-full-news__rubric\">Мир</span></div></a></li>,\n <li class=\"rubric-page__item _news\"><a class=\"card-full-news _subrubric\" href=\"/news/2023/03/25/ussjr/\"><h3 class=\"card-full-news__title\">Итальянская полиция раскрыла детали побега сына российского губернатора</h3><div class=\"card-full-news__info\"><time class=\"card-full-news__info-item card-full-news__date\">09:30, 25 марта 2023</time><span class=\"card-full-news__info-item card-full-news__rubric\">Мир</span></div></a></li>,\n <li class=\"rubric-page__item _news\"><a class=\"card-full-news _subrubric\" href=\"/news/2023/03/25/president/\"><h3 class=\"card-full-news__title\">В США обвиняемый в причастности к убийству президента Гаити признал вину</h3><div class=\"card-full-news__info\"><time class=\"card-full-news__info-item card-full-news__date\">04:51, 25 марта 2023</time><span class=\"card-full-news__info-item card-full-news__rubric\">Мир</span></div></a></li>,\n <li class=\"rubric-page__item _news\"><a class=\"card-full-news _subrubric\" href=\"/news/2023/03/22/zombie/\"><h3 class=\"card-full-news__title\">США предупредили о распространении «зомби-наркотика»</h3><div class=\"card-full-news__info\"><time class=\"card-full-news__info-item card-full-news__date\">08:13, 22 марта 2023</time><span class=\"card-full-news__info-item card-full-news__rubric\">Мир</span></div></a></li>,\n <li class=\"rubric-page__item _news\"><a class=\"card-full-news _subrubric\" href=\"/news/2023/03/22/policccia/\"><h3 class=\"card-full-news__title\">Полиции Нью-Йорка рекомендовали готовиться к беспорядкам</h3><div class=\"card-full-news__info\"><time class=\"card-full-news__info-item card-full-news__date\">00:18, 22 марта 2023</time><span class=\"card-full-news__info-item card-full-news__rubric\">Мир</span></div></a></li>,\n <li class=\"rubric-page__item _news\"><a class=\"card-full-news _subrubric\" href=\"/news/2023/03/15/vienna_guard/\"><h3 class=\"card-full-news__title\">Жителей Вены предупредили о возможном теракте</h3><div class=\"card-full-news__info\"><time class=\"card-full-news__info-item card-full-news__date\">13:19, 15 марта 2023</time><span class=\"card-full-news__info-item card-full-news__rubric\">Мир</span></div></a></li>,\n <li class=\"rubric-page__item _news\"><a class=\"card-full-news _subrubric\" href=\"/news/2023/03/11/nitsa/\"><h3 class=\"card-full-news__title\">В Ницце двух человек ранили в результате нападения с ножом</h3><div class=\"card-full-news__info\"><time class=\"card-full-news__info-item card-full-news__date\">14:22, 11 марта 2023</time><span class=\"card-full-news__info-item card-full-news__rubric\">Мир</span></div></a></li>,\n <li class=\"rubric-page__item _news\"><a class=\"card-full-news _subrubric\" href=\"/news/2023/03/10/zalozhniki_kalsrue/\"><h3 class=\"card-full-news__title\">В Германии неизвестные взяли заложников в аптеке</h3><div class=\"card-full-news__info\"><time class=\"card-full-news__info-item card-full-news__date\">20:11, 10 марта 2023</time><span class=\"card-full-news__info-item card-full-news__rubric\">Мир</span></div></a></li>,\n <li class=\"rubric-page__item _news\"><a class=\"card-full-news _subrubric\" href=\"/news/2023/03/09/telavivpolice/\"><h3 class=\"card-full-news__title\">Открывший стрельбу по пешеходам в Тель-Авиве нейтрализован полицией</h3><div class=\"card-full-news__info\"><time class=\"card-full-news__info-item card-full-news__date\">22:41, 9 марта 2023</time><span class=\"card-full-news__info-item card-full-news__rubric\">Мир</span></div></a></li>,\n <li class=\"rubric-page__item _news\"><a class=\"card-full-news _subrubric\" href=\"/news/2023/03/06/tritisyachiletodinochestva/\"><h3 class=\"card-full-news__title\">Три тысячи лет тюрьмы запросили для совершившей теракт в Стамбуле</h3><div class=\"card-full-news__info\"><time class=\"card-full-news__info-item card-full-news__date\">17:12, 6 марта 2023</time><span class=\"card-full-news__info-item card-full-news__rubric\">Мир</span></div></a></li>,\n <li class=\"rubric-page__item _news\"><a class=\"card-full-news _subrubric\" href=\"/news/2023/03/06/9/\"><h3 class=\"card-full-news__title\">В Пакистане произошел теракт</h3><div class=\"card-full-news__info\"><time class=\"card-full-news__info-item card-full-news__date\">14:58, 6 марта 2023</time><span class=\"card-full-news__info-item card-full-news__rubric\">Мир</span></div></a></li>,\n <li class=\"rubric-page__item _news\"><a class=\"card-full-news _subrubric\" href=\"/news/2023/03/04/baku/\"><h3 class=\"card-full-news__title\">Один человек погиб при вооруженном ограблении в гипермаркете в Баку</h3><div class=\"card-full-news__info\"><time class=\"card-full-news__info-item card-full-news__date\">15:17, 4 марта 2023</time><span class=\"card-full-news__info-item card-full-news__rubric\">Мир</span></div></a></li>,\n <li class=\"rubric-page__item _news\"><a class=\"card-full-news _subrubric\" href=\"/news/2023/02/28/strelba/\"><h3 class=\"card-full-news__title\">В Германии возле начальной школы произошла стрельба</h3><div class=\"card-full-news__info\"><time class=\"card-full-news__info-item card-full-news__date\">12:13, 28 февраля 2023</time><span class=\"card-full-news__info-item card-full-news__rubric\">Мир</span></div></a></li>,\n <li class=\"rubric-page__item _news\"><a class=\"card-full-news _subrubric\" href=\"/news/2023/02/27/albania_oil/\"><h3 class=\"card-full-news__title\">В Европе арестовали капитана заподозренного в перевозке российской нефти судна</h3><div class=\"card-full-news__info\"><time class=\"card-full-news__info-item card-full-news__date\">18:10, 27 февраля 2023</time><span class=\"card-full-news__info-item card-full-news__rubric\">Мир</span></div></a></li>,\n <li class=\"rubric-page__item _news\"><a class=\"card-full-news _subrubric\" href=\"/news/2023/02/19/bulggariaa/\"><h3 class=\"card-full-news__title\">В Болгарии арестовали виновных в гибели нелегальных мигрантов</h3><div class=\"card-full-news__info\"><time class=\"card-full-news__info-item card-full-news__date\">21:56, 19 февраля 2023</time><span class=\"card-full-news__info-item card-full-news__rubric\">Мир</span></div></a></li>,\n <li class=\"rubric-page__item _news\"><a class=\"card-full-news _subrubric\" href=\"/news/2023/02/14/klushin/\"><h3 class=\"card-full-news__title\">Суд присяжных в США признал россиянина виновным в киберпреступлениях</h3><div class=\"card-full-news__info\"><time class=\"card-full-news__info-item card-full-news__date\">20:42, 14 февраля 2023</time><span class=\"card-full-news__info-item card-full-news__rubric\">Мир</span></div></a></li>,\n <li class=\"rubric-page__item _news\"><a class=\"card-full-news _subrubric\" href=\"/news/2023/02/12/100_marauders/\"><h3 class=\"card-full-news__title\">Почти 100 человек арестовали в Турции за мародерство после землетрясения</h3><div class=\"card-full-news__info\"><time class=\"card-full-news__info-item card-full-news__date\">12:54, 12 февраля 2023</time><span class=\"card-full-news__info-item card-full-news__rubric\">Мир</span></div></a></li>,\n <li class=\"rubric-page__item _news\"><a class=\"card-full-news _subrubric\" href=\"/news/2023/02/02/policedressing/\"><h3 class=\"card-full-news__title\">Появились подробности об устроившем взрыв в пакистанской мечети</h3><div class=\"card-full-news__info\"><time class=\"card-full-news__info-item card-full-news__date\">16:37, 2 февраля 2023</time><span class=\"card-full-news__info-item card-full-news__rubric\">Мир</span></div></a></li>,\n <li class=\"rubric-page__item _news\"><a class=\"card-full-news _subrubric\" href=\"/news/2023/02/01/glava_rus_doma/\"><h3 class=\"card-full-news__title\">В ЦАР завершили расследование дела о покушении на главу Русского дома</h3><div class=\"card-full-news__info\"><time class=\"card-full-news__info-item card-full-news__date\">16:20, 1 февраля 2023</time><span class=\"card-full-news__info-item card-full-news__rubric\">Мир</span></div></a></li>,\n <li class=\"rubric-page__item _news\"><a class=\"card-full-news _subrubric\" href=\"/news/2023/02/01/shooting/\"><h3 class=\"card-full-news__title\">В США за месяц застрелили полторы тысячи человек</h3><div class=\"card-full-news__info\"><time class=\"card-full-news__info-item card-full-news__date\">02:19, 1 февраля 2023</time><span class=\"card-full-news__info-item card-full-news__rubric\">Мир</span></div></a></li>,\n <li class=\"rubric-page__item _news\"><a class=\"card-full-news _subrubric\" href=\"/news/2023/01/31/peshavarmosque/\"><h3 class=\"card-full-news__title\">Власти Пакистана насчитали 95 жертв теракта в мечети и пообещали отомстить</h3><div class=\"card-full-news__info\"><time class=\"card-full-news__info-item card-full-news__date\">16:13, 31 января 2023</time><span class=\"card-full-news__info-item card-full-news__rubric\">Мир</span></div></a></li>,\n <li class=\"rubric-page__item _news\"><a class=\"card-full-news _subrubric\" href=\"/news/2023/01/31/wagners/\"><h3 class=\"card-full-news__title\">Боец ЧВК «Вагнер» рассказал о побеге из зоны СВО в Норвегию</h3><div class=\"card-full-news__info\"><time class=\"card-full-news__info-item card-full-news__date\">13:42, 31 января 2023</time><span class=\"card-full-news__info-item card-full-news__rubric\">Мир</span></div></a></li>,\n <li class=\"rubric-page__item _news\"><a class=\"card-full-news _subrubric\" href=\"/news/2023/01/31/knifeassault/\"><h3 class=\"card-full-news__title\">В Бельгии арестовали напавшего на троих человек с ножом мужчину</h3><div class=\"card-full-news__info\"><time class=\"card-full-news__info-item card-full-news__date\">11:26, 31 января 2023</time><span class=\"card-full-news__info-item card-full-news__rubric\">Мир</span></div></a></li>,\n <li class=\"rubric-page__item _news\"><a class=\"card-full-news _subrubric\" href=\"/news/2023/01/28/uhhoo/\"><h3 class=\"card-full-news__title\">В Польше украинец откусил женщине кусок уха и угнал ее машину</h3><div class=\"card-full-news__info\"><time class=\"card-full-news__info-item card-full-news__date\">20:49, 28 января 2023</time><span class=\"card-full-news__info-item card-full-news__rubric\">Мир</span></div></a></li>,\n <li class=\"rubric-page__item _news\"><a class=\"card-full-news _subrubric\" href=\"/news/2023/01/28/israel_terr/\"><h3 class=\"card-full-news__title\">Житель Израиля рассказал о настроении в обществе после стрельбы в Иерусалиме</h3><div class=\"card-full-news__info\"><time class=\"card-full-news__info-item card-full-news__date\">17:13, 28 января 2023</time><span class=\"card-full-news__info-item card-full-news__rubric\">Мир</span></div></a></li>,\n <li class=\"rubric-page__item _news\"><a class=\"card-full-news _subrubric\" href=\"/news/2023/01/28/dipp/\"><h3 class=\"card-full-news__title\">Против диппредставительства Италии за рубежом совершили преступные акции</h3><div class=\"card-full-news__info\"><time class=\"card-full-news__info-item card-full-news__date\">12:53, 28 января 2023</time><span class=\"card-full-news__info-item card-full-news__rubric\">Мир</span></div></a></li>,\n <li class=\"rubric-page__item _news\"><a class=\"card-full-news _subrubric\" href=\"/news/2023/01/28/strlbagain/\"><h3 class=\"card-full-news__title\">Израильская полиция назвала инцидент со стрельбой подозрением на теракт</h3><div class=\"card-full-news__info\"><time class=\"card-full-news__info-item card-full-news__date\">12:39, 28 января 2023</time><span class=\"card-full-news__info-item card-full-news__rubric\">Мир</span></div></a></li>,\n <li class=\"rubric-page__item _news\"><a class=\"card-full-news _subrubric\" href=\"/news/2023/01/27/motiv/\"><h3 class=\"card-full-news__title\">Испанский суд назвал мотив отправившего бомбу в посольство Украины</h3><div class=\"card-full-news__info\"><time class=\"card-full-news__info-item card-full-news__date\">17:54, 27 января 2023</time><span class=\"card-full-news__info-item card-full-news__rubric\">Мир</span></div></a></li>,\n <li class=\"rubric-page__item _news\"><a class=\"card-full-news _subrubric\" href=\"/news/2023/01/27/pod_strazhu/\"><h3 class=\"card-full-news__title\">В Испании заключили под стражу задержанного за бомбы в письмах</h3><div class=\"card-full-news__info\"><time class=\"card-full-news__info-item card-full-news__date\">15:36, 27 января 2023</time><span class=\"card-full-news__info-item card-full-news__rubric\">Мир</span></div></a></li>,\n <li class=\"rubric-page__item _news\"><a class=\"card-full-news _subrubric\" href=\"/news/2023/01/23/podpoljie/\"><h3 class=\"card-full-news__title\">В Испании украинских беженцев эксплуатировали на нелегальных табачных фабриках</h3><div class=\"card-full-news__info\"><time class=\"card-full-news__info-item card-full-news__date\">09:36, 23 января 2023</time><span class=\"card-full-news__info-item card-full-news__rubric\">Мир</span></div></a></li>,\n <li class=\"rubric-page__item _news\"><a class=\"card-full-news _subrubric\" href=\"/news/2023/01/22/strelba/\"><h3 class=\"card-full-news__title\">Полиция заблокировала машину с подозреваемым в стрельбе в Калифорнии</h3><div class=\"card-full-news__info\"><time class=\"card-full-news__info-item card-full-news__date\">23:30, 22 января 2023</time><span class=\"card-full-news__info-item card-full-news__rubric\">Мир</span></div></a></li>,\n <li class=\"rubric-page__item _news\"><a class=\"card-full-news _subrubric\" href=\"/news/2023/01/18/2023/\"><h3 class=\"card-full-news__title\">В США насчитали десятки случаев массовой стрельбы с начала года</h3><div class=\"card-full-news__info\"><time class=\"card-full-news__info-item card-full-news__date\">10:33, 18 января 2023</time><span class=\"card-full-news__info-item card-full-news__rubric\">Мир</span></div></a></li>,\n <li class=\"rubric-page__item _news\"><a class=\"card-full-news _subrubric\" href=\"/news/2023/01/17/mlk_shoot/\"><h3 class=\"card-full-news__title\">Восемь человек получили ранения при стрельбе во Флориде</h3><div class=\"card-full-news__info\"><time class=\"card-full-news__info-item card-full-news__date\">05:45, 17 января 2023</time><span class=\"card-full-news__info-item card-full-news__rubric\">Мир</span></div></a></li>,\n <li class=\"rubric-page__item _news\"><a class=\"card-full-news _subrubric\" href=\"/news/2023/01/16/koza_nostra/\"><h3 class=\"card-full-news__title\">В Италии арестовали самого разыскиваемого босса коза ностра</h3><div class=\"card-full-news__info\"><time class=\"card-full-news__info-item card-full-news__date\">11:54, 16 января 2023</time><span class=\"card-full-news__info-item card-full-news__rubric\">Мир</span></div></a></li>,\n <li class=\"rubric-page__item _news\"><a class=\"card-full-news _subrubric\" href=\"/news/2023/01/14/unsatisfied/\"><h3 class=\"card-full-news__title\">Обвиненный в шпионаже на Россию британец назвался «недовольным сотрудником»</h3><div class=\"card-full-news__info\"><time class=\"card-full-news__info-item card-full-news__date\">03:49, 14 января 2023</time><span class=\"card-full-news__info-item card-full-news__rubric\">Мир</span></div></a></li>,\n <li class=\"rubric-page__item _news\"><a class=\"card-full-news _subrubric\" href=\"/news/2023/01/13/blm_2/\"><h3 class=\"card-full-news__title\">Полиция расследует гибель кузена соосновательницы BLM при задержании</h3><div class=\"card-full-news__info\"><time class=\"card-full-news__info-item card-full-news__date\">12:03, 13 января 2023</time><span class=\"card-full-news__info-item card-full-news__rubric\">Мир</span></div></a></li>,\n <li class=\"rubric-page__item _news\"><a class=\"card-full-news _subrubric\" href=\"/news/2023/01/13/blmblm/\"><h3 class=\"card-full-news__title\">Брат создательницы BLM погиб после полицейского задержания</h3><div class=\"card-full-news__info\"><time class=\"card-full-news__info-item card-full-news__date\">09:55, 13 января 2023</time><span class=\"card-full-news__info-item card-full-news__rubric\">Мир</span><svg class=\"card-full-news__info-item card-full-news__play\"><use xlink:href=\"#ui-play\"></use></svg></div></a></li>,\n <li class=\"rubric-page__item _news\"><a class=\"card-full-news _subrubric\" href=\"/news/2023/01/11/paris/\"><h3 class=\"card-full-news__title\">Неизвестный напал с ножом на прохожих на вокзале Парижа</h3><div class=\"card-full-news__info\"><time class=\"card-full-news__info-item card-full-news__date\">10:37, 11 января 2023</time><span class=\"card-full-news__info-item card-full-news__rubric\">Мир</span></div></a></li>,\n <li class=\"rubric-page__item _news\"><a class=\"card-full-news _subrubric\" href=\"/news/2023/01/10/mexico/\"><h3 class=\"card-full-news__title\">Мексика направила 1,5 тысячи военных в Синалоа после ареста главы наркокартеля</h3><div class=\"card-full-news__info\"><time class=\"card-full-news__info-item card-full-news__date\">09:46, 10 января 2023</time><span class=\"card-full-news__info-item card-full-news__rubric\">Мир</span></div></a></li>,\n <li class=\"rubric-page__item _news\"><a class=\"card-full-news _subrubric\" href=\"/news/2023/01/09/deathpenalty/\"><h3 class=\"card-full-news__title\">В Иране приговорили к смерти еще троих участников протестов</h3><div class=\"card-full-news__info\"><time class=\"card-full-news__info-item card-full-news__date\">11:34, 9 января 2023</time><span class=\"card-full-news__info-item card-full-news__rubric\">Мир</span></div></a></li>,\n <li class=\"rubric-page__item _news\"><a class=\"card-full-news _subrubric\" href=\"/news/2023/01/09/oruzhie/\"><h3 class=\"card-full-news__title\">Сторонники Болсонару украли оружие из резиденции президента Бразилии</h3><div class=\"card-full-news__info\"><time class=\"card-full-news__info-item card-full-news__date\">08:40, 9 января 2023</time><span class=\"card-full-news__info-item card-full-news__rubric\">Мир</span></div></a></li>,\n <li class=\"rubric-page__item _news\"><a class=\"card-full-news _subrubric\" href=\"/news/2023/01/09/terakt/\"><h3 class=\"card-full-news__title\">ФБР предупреждало Германию об угрозе теракта</h3><div class=\"card-full-news__info\"><time class=\"card-full-news__info-item card-full-news__date\">07:54, 9 января 2023</time><span class=\"card-full-news__info-item card-full-news__rubric\">Мир</span></div></a></li>,\n <li class=\"rubric-page__item _news\"><a class=\"card-full-news _subrubric\" href=\"/news/2023/01/08/terakt_cianid/\"><h3 class=\"card-full-news__title\">Полиция ФРГ предотвратила теракт с использованием токсичных веществ</h3><div class=\"card-full-news__info\"><time class=\"card-full-news__info-item card-full-news__date\">12:13, 8 января 2023</time><span class=\"card-full-news__info-item card-full-news__rubric\">Мир</span></div></a></li>,\n <li class=\"rubric-page__item _news\"><a class=\"card-full-news _subrubric\" href=\"/news/2023/01/07/terakt23/\"><h3 class=\"card-full-news__title\">Задержаны готовившие теракт в Стамбуле боевики</h3><div class=\"card-full-news__info\"><time class=\"card-full-news__info-item card-full-news__date\">17:11, 7 января 2023</time><span class=\"card-full-news__info-item card-full-news__rubric\">Мир</span></div></a></li>,\n <li class=\"rubric-page__item _news\"><a class=\"card-full-news _subrubric\" href=\"/news/2023/01/06/drugs_n_guns/\"><h3 class=\"card-full-news__title\">Беспорядки в Мексике из-за задержания сына наркобарона объяснили</h3><div class=\"card-full-news__info\"><time class=\"card-full-news__info-item card-full-news__date\">18:36, 6 января 2023</time><span class=\"card-full-news__info-item card-full-news__rubric\">Мир</span></div></a></li>,\n <li class=\"rubric-page__item _news\"><a class=\"card-full-news _subrubric\" href=\"/news/2023/01/06/cazn/\"><h3 class=\"card-full-news__title\">Китайского экс-чиновника приговорили к смертной казни за взятку</h3><div class=\"card-full-news__info\"><time class=\"card-full-news__info-item card-full-news__date\">15:19, 6 января 2023</time><span class=\"card-full-news__info-item card-full-news__rubric\">Мир</span></div></a></li>,\n <li class=\"rubric-page__item _news\"><a class=\"card-full-news _subrubric\" href=\"/news/2023/01/06/levin_torso/\"><h3 class=\"card-full-news__title\">В Нидерландах опознали труп российского арт-дилера спустя 10 лет</h3><div class=\"card-full-news__info\"><time class=\"card-full-news__info-item card-full-news__date\">14:56, 6 января 2023</time><span class=\"card-full-news__info-item card-full-news__rubric\">Мир</span></div></a></li>,\n <li class=\"rubric-page__item _news\"><a class=\"card-full-news _subrubric\" href=\"/news/2023/01/02/mobile/\"><h3 class=\"card-full-news__title\">В США преступник открыл огонь по празднующим Новый год горожанам</h3><div class=\"card-full-news__info\"><time class=\"card-full-news__info-item card-full-news__date\">07:04, 2 января 2023</time><span class=\"card-full-news__info-item card-full-news__rubric\">Мир</span></div></a></li>,\n <li class=\"rubric-page__item _news\"><a class=\"card-full-news _subrubric\" href=\"/news/2022/12/30/dont_mess_with_picca/\"><h3 class=\"card-full-news__title\">В Румынии по подозрению в торговле людьми для порно задержали известного блогера</h3><div class=\"card-full-news__info\"><time class=\"card-full-news__info-item card-full-news__date\">08:51, 30 декабря 2022</time><span class=\"card-full-news__info-item card-full-news__rubric\">Мир</span></div></a></li>,\n <li class=\"rubric-page__item _news\"><a class=\"card-full-news _subrubric\" href=\"/news/2022/12/29/pelosi/\"><h3 class=\"card-full-news__title\">Обвиняемый в нападении на дом Пелоси отказался признать вину</h3><div class=\"card-full-news__info\"><time class=\"card-full-news__info-item card-full-news__date\">00:54, 29 декабря 2022</time><span class=\"card-full-news__info-item card-full-news__rubric\">Мир</span></div></a></li>,\n <li class=\"rubric-page__item _news\"><a class=\"card-full-news _subrubric\" href=\"/news/2022/12/28/nazibabulya/\"><h3 class=\"card-full-news__title\">97-летняя преступница обжалует приговор за участие в убийстве 10 тысяч человек</h3><div class=\"card-full-news__info\"><time class=\"card-full-news__info-item card-full-news__date\">16:08, 28 декабря 2022</time><span class=\"card-full-news__info-item card-full-news__rubric\">Мир</span></div></a></li>,\n <li class=\"rubric-page__item _news\"><a class=\"card-full-news _subrubric\" href=\"/news/2022/12/28/greece/\"><h3 class=\"card-full-news__title\">Шестеро подростков более месяца насиловали сверстника и снимали на видео</h3><div class=\"card-full-news__info\"><time class=\"card-full-news__info-item card-full-news__date\">00:25, 28 декабря 2022</time><span class=\"card-full-news__info-item card-full-news__rubric\">Мир</span></div></a></li>,\n <li class=\"rubric-page__item _news\"><a class=\"card-full-news _subrubric\" href=\"/news/2022/12/27/hashinspain/\"><h3 class=\"card-full-news__title\">В Испании конфисковали более четырех тонн гашиша на судне из Великобритании</h3><div class=\"card-full-news__info\"><time class=\"card-full-news__info-item card-full-news__date\">20:16, 27 декабря 2022</time><span class=\"card-full-news__info-item card-full-news__rubric\">Мир</span></div></a></li>,\n <li class=\"rubric-page__item _news\"><a class=\"card-full-news _subrubric\" href=\"/news/2022/12/23/rozisk/\"><h3 class=\"card-full-news__title\">В Испании арестовали самого разыскиваемого ФБР преступника</h3><div class=\"card-full-news__info\"><time class=\"card-full-news__info-item card-full-news__date\">20:25, 23 декабря 2022</time><span class=\"card-full-news__info-item card-full-news__rubric\">Мир</span></div></a></li>,\n <li class=\"rubric-page__item _news\"><a class=\"card-full-news _subrubric\" href=\"/news/2022/12/23/parisshooting/\"><h3 class=\"card-full-news__title\">Французская полиция задержала парижского стрелка</h3><div class=\"card-full-news__info\"><time class=\"card-full-news__info-item card-full-news__date\">15:05, 23 декабря 2022</time><span class=\"card-full-news__info-item card-full-news__rubric\">Мир</span></div></a></li>,\n <li class=\"rubric-page__item _news\"><a class=\"card-full-news _subrubric\" href=\"/news/2022/12/23/strelba_paris/\"><h3 class=\"card-full-news__title\">Неизвестный открыл стрельбу по жителям Парижа</h3><div class=\"card-full-news__info\"><time class=\"card-full-news__info-item card-full-news__date\">14:29, 23 декабря 2022</time><span class=\"card-full-news__info-item card-full-news__rubric\">Мир</span></div></a></li>,\n <li class=\"rubric-page__item _news\"><a class=\"card-full-news _subrubric\" href=\"/news/2022/12/23/senussi/\"><h3 class=\"card-full-news__title\">Стало известно о сорванной экстрадиции бывшего шефа разведки Каддафи в США</h3><div class=\"card-full-news__info\"><time class=\"card-full-news__info-item card-full-news__date\">12:26, 23 декабря 2022</time><span class=\"card-full-news__info-item card-full-news__rubric\">Мир</span></div></a></li>,\n <li class=\"rubric-page__item _news\"><a class=\"card-full-news _subrubric\" href=\"/news/2022/12/21/usa_tsar/\"><h3 class=\"card-full-news__title\">Пригожин обвинил США в атаке на главу Русского дома в ЦАР</h3><div class=\"card-full-news__info\"><time class=\"card-full-news__info-item card-full-news__date\">15:37, 21 декабря 2022</time><span class=\"card-full-news__info-item card-full-news__rubric\">Мир</span></div></a></li>,\n <li class=\"rubric-page__item _news\"><a class=\"card-full-news _subrubric\" href=\"/news/2022/12/20/coovalda/\"><h3 class=\"card-full-news__title\">В Москве закидали посольство Финляндии кувалдами</h3><div class=\"card-full-news__info\"><time class=\"card-full-news__info-item card-full-news__date\">16:50, 20 декабря 2022</time><span class=\"card-full-news__info-item card-full-news__rubric\">Мир</span><svg class=\"card-full-news__info-item card-full-news__play\"><use xlink:href=\"#ui-play\"></use></svg></div></a></li>,\n <li class=\"rubric-page__item _news\"><a class=\"card-full-news _subrubric\" href=\"/news/2022/12/20/tsar_interpol/\"><h3 class=\"card-full-news__title\">Полиция ЦАР привлечет Интерпол для расследования атаки на главу Русского дома</h3><div class=\"card-full-news__info\"><time class=\"card-full-news__info-item card-full-news__date\">13:25, 20 декабря 2022</time><span class=\"card-full-news__info-item card-full-news__rubric\">Мир</span></div></a></li>,\n <li class=\"rubric-page__item _news\"><a class=\"card-full-news _subrubric\" href=\"/news/2022/12/20/iran_extradition/\"><h3 class=\"card-full-news__title\">Из России в Иран экстрадируют шесть заключенных</h3><div class=\"card-full-news__info\"><time class=\"card-full-news__info-item card-full-news__date\">13:12, 20 декабря 2022</time><span class=\"card-full-news__info-item card-full-news__rubric\">Мир</span></div></a></li>,\n <li class=\"rubric-page__item _news\"><a class=\"card-full-news _subrubric\" href=\"/news/2022/12/20/60russianprisoners/\"><h3 class=\"card-full-news__title\">В МИД России назвали число несправедливо осужденных в США россиян</h3><div class=\"card-full-news__info\"><time class=\"card-full-news__info-item card-full-news__date\">09:28, 20 декабря 2022</time><span class=\"card-full-news__info-item card-full-news__rubric\">Мир</span></div></a></li>,\n <li class=\"rubric-page__item _news\"><a class=\"card-full-news _subrubric\" href=\"/news/2022/12/16/mfajudges/\"><h3 class=\"card-full-news__title\">МИД России осудил покушение на гендиректора «Русского дома» в ЦАР</h3><div class=\"card-full-news__info\"><time class=\"card-full-news__info-item card-full-news__date\">17:06, 16 декабря 2022</time><span class=\"card-full-news__info-item card-full-news__rubric\">Мир</span></div></a></li>,\n <li class=\"rubric-page__item _news\"><a class=\"card-full-news _subrubric\" href=\"/news/2022/12/16/russianhouseassault/\"><h3 class=\"card-full-news__title\">Полиция ЦАР назвала терактом покушение на гендиректора «Русского дома»</h3><div class=\"card-full-news__info\"><time class=\"card-full-news__info-item card-full-news__date\">15:33, 16 декабря 2022</time><span class=\"card-full-news__info-item card-full-news__rubric\">Мир</span></div></a></li>,\n <li class=\"rubric-page__item _news\"><a class=\"card-full-news _subrubric\" href=\"/news/2022/12/16/misteryassasination/\"><h3 class=\"card-full-news__title\">Американская полиция запуталась в деле об убийстве четырех студентов в Москве</h3><div class=\"card-full-news__info\"><time class=\"card-full-news__info-item card-full-news__date\">12:08, 16 декабря 2022</time><span class=\"card-full-news__info-item card-full-news__rubric\">Мир</span></div></a></li>,\n <li class=\"rubric-page__item _news\"><a class=\"card-full-news _subrubric\" href=\"/news/2022/12/15/getbackhashish/\"><h3 class=\"card-full-news__title\">Полиция Италии разрушила планы мафии вернуть тонну гашиша</h3><div class=\"card-full-news__info\"><time class=\"card-full-news__info-item card-full-news__date\">14:59, 15 декабря 2022</time><span class=\"card-full-news__info-item card-full-news__rubric\">Мир</span></div></a></li>,\n <li class=\"rubric-page__item _news\"><a class=\"card-full-news _subrubric\" href=\"/news/2022/12/15/eritreamilitarycrimes/\"><h3 class=\"card-full-news__title\">Глава ВОЗ рассказал о военных преступлениях армии Эритреи</h3><div class=\"card-full-news__info\"><time class=\"card-full-news__info-item card-full-news__date\">13:49, 15 декабря 2022</time><span class=\"card-full-news__info-item card-full-news__rubric\">Мир</span></div></a></li>,\n <li class=\"rubric-page__item _news\"><a class=\"card-full-news _subrubric\" href=\"/news/2022/12/15/pelosi_depepi/\"><h3 class=\"card-full-news__title\">Напавший на мужа Пелоси мужчина планировал атаку на сына Байдена</h3><div class=\"card-full-news__info\"><time class=\"card-full-news__info-item card-full-news__date\">10:24, 15 декабря 2022</time><span class=\"card-full-news__info-item card-full-news__rubric\">Мир</span></div></a></li>,\n <li class=\"rubric-page__item _news\"><a class=\"card-full-news _subrubric\" href=\"/news/2022/12/15/whelan_cange/\"><h3 class=\"card-full-news__title\">Стало известно о возможности обмена Уилана на осужденного за убийство россиянина</h3><div class=\"card-full-news__info\"><time class=\"card-full-news__info-item card-full-news__date\">08:27, 15 декабря 2022</time><span class=\"card-full-news__info-item card-full-news__rubric\">Мир</span></div></a></li>,\n <li class=\"rubric-page__item _news\"><a class=\"card-full-news _subrubric\" href=\"/news/2022/12/14/protivshow/\"><h3 class=\"card-full-news__title\">В США ультраправые провели вооруженный протест против ЛГБТ-шоу</h3><div class=\"card-full-news__info\"><time class=\"card-full-news__info-item card-full-news__date\">09:47, 14 декабря 2022</time><span class=\"card-full-news__info-item card-full-news__rubric\">Мир</span></div></a></li>,\n <li class=\"rubric-page__item _news\"><a class=\"card-full-news _subrubric\" href=\"/news/2022/12/13/sudkipr/\"><h3 class=\"card-full-news__title\">Суд Кипра приговорил убийцу двух россиянок к 25 годам тюрьмы</h3><div class=\"card-full-news__info\"><time class=\"card-full-news__info-item card-full-news__date\">06:33, 13 декабря 2022</time><span class=\"card-full-news__info-item card-full-news__rubric\">Мир</span></div></a></li>,\n <li class=\"rubric-page__item _news\"><a class=\"card-full-news _subrubric\" href=\"/news/2022/12/12/obysk/\"><h3 class=\"card-full-news__title\">Полиция провела обыски в здании Европарламента в Брюсселе</h3><div class=\"card-full-news__info\"><time class=\"card-full-news__info-item card-full-news__date\">23:09, 12 декабря 2022</time><span class=\"card-full-news__info-item card-full-news__rubric\">Мир</span></div></a></li>,\n <li class=\"rubric-page__item _news\"><a class=\"card-full-news _subrubric\" href=\"/news/2022/12/10/floyd/\"><h3 class=\"card-full-news__title\">Cуд в США вынес приговор экс-полицейскому по делу Флойда</h3><div class=\"card-full-news__info\"><time class=\"card-full-news__info-item card-full-news__date\">04:29, 10 декабря 2022</time><span class=\"card-full-news__info-item card-full-news__rubric\">Мир</span></div></a></li>,\n <li class=\"rubric-page__item _news\"><a class=\"card-full-news _subrubric\" href=\"/news/2022/12/08/germanputschpolice/\"><h3 class=\"card-full-news__title\">Полиция Германии анонсировала новые аресты по делу о госперевороте</h3><div class=\"card-full-news__info\"><time class=\"card-full-news__info-item card-full-news__date\">15:29, 8 декабря 2022</time><span class=\"card-full-news__info-item card-full-news__rubric\">Мир</span></div></a></li>,\n <li class=\"rubric-page__item _news\"><a class=\"card-full-news _subrubric\" href=\"/news/2022/12/08/kazn/\"><h3 class=\"card-full-news__title\">В Иране казнили участника протестов</h3><div class=\"card-full-news__info\"><time class=\"card-full-news__info-item card-full-news__date\">13:20, 8 декабря 2022</time><span class=\"card-full-news__info-item card-full-news__rubric\">Мир</span></div></a></li>,\n <li class=\"rubric-page__item _news\"><a class=\"card-full-news _subrubric\" href=\"/news/2022/12/07/southafrica/\"><h3 class=\"card-full-news__title\">В ЮАР досрочно выпустили на свободу убийцу генсека компартии</h3><div class=\"card-full-news__info\"><time class=\"card-full-news__info-item card-full-news__date\">16:41, 7 декабря 2022</time><span class=\"card-full-news__info-item card-full-news__rubric\">Мир</span></div></a></li>,\n <li class=\"rubric-page__item _news\"><a class=\"card-full-news _subrubric\" href=\"/news/2022/12/07/austriansarrested/\"><h3 class=\"card-full-news__title\">В Германии двух австрийцев задержали по подозрению в организации госпереворота</h3><div class=\"card-full-news__info\"><time class=\"card-full-news__info-item card-full-news__date\">14:57, 7 декабря 2022</time><span class=\"card-full-news__info-item card-full-news__rubric\">Мир</span></div></a></li>,\n <li class=\"rubric-page__item _news\"><a class=\"card-full-news _subrubric\" href=\"/news/2022/12/07/gosperevorot/\"><h3 class=\"card-full-news__title\">В Германии задержали россиянку по подозрению в подготовке госпереворота</h3><div class=\"card-full-news__info\"><time class=\"card-full-news__info-item card-full-news__date\">10:17, 7 декабря 2022</time><span class=\"card-full-news__info-item card-full-news__rubric\">Мир</span></div></a></li>,\n <li class=\"rubric-page__item _news\"><a class=\"card-full-news _subrubric\" href=\"/news/2022/12/07/frg_shturm/\"><h3 class=\"card-full-news__title\">В Германии заявили о предотвращении госпереворота</h3><div class=\"card-full-news__info\"><time class=\"card-full-news__info-item card-full-news__date\">10:05, 7 декабря 2022</time><span class=\"card-full-news__info-item card-full-news__rubric\">Мир</span></div></a></li>,\n <li class=\"rubric-page__item _news\"><a class=\"card-full-news _subrubric\" href=\"/news/2022/12/06/svoboda/\"><h3 class=\"card-full-news__title\">Стала известна судьба осужденного в США россиянина Мартышева</h3><div class=\"card-full-news__info\"><time class=\"card-full-news__info-item card-full-news__date\">20:12, 6 декабря 2022</time><span class=\"card-full-news__info-item card-full-news__rubric\">Мир</span></div></a></li>,\n <li class=\"rubric-page__item _news\"><a class=\"card-full-news _subrubric\" href=\"/news/2022/12/05/ukrali_yolku/\"><h3 class=\"card-full-news__title\">В Германии полиция решила закрыть все рождественские рынки</h3><div class=\"card-full-news__info\"><time class=\"card-full-news__info-item card-full-news__date\">20:04, 5 декабря 2022</time><span class=\"card-full-news__info-item card-full-news__rubric\">Мир</span></div></a></li>,\n <li class=\"rubric-page__item _news\"><a class=\"card-full-news _subrubric\" href=\"/news/2022/12/04/kazni/\"><h3 class=\"card-full-news__title\">В Иране казнили четырех человек за сотрудничество с Израилем</h3><div class=\"card-full-news__info\"><time class=\"card-full-news__info-item card-full-news__date\">11:34, 4 декабря 2022</time><span class=\"card-full-news__info-item card-full-news__rubric\">Мир</span></div></a></li>,\n <li class=\"rubric-page__item _news\"><a class=\"card-full-news _subrubric\" href=\"/news/2022/12/03/russbusinessman/\"><h3 class=\"card-full-news__title\">В Британии сообщили о задержании 58-летнего российского бизнесмена</h3><div class=\"card-full-news__info\"><time class=\"card-full-news__info-item card-full-news__date\">16:04, 3 декабря 2022</time><span class=\"card-full-news__info-item card-full-news__rubric\">Мир</span></div></a></li>,\n <li class=\"rubric-page__item _news\"><a class=\"card-full-news _subrubric\" href=\"/news/2022/12/03/nepall/\"><h3 class=\"card-full-news__title\">Двух иностранцев арестовали за изнасилование российской туристки в Индии</h3><div class=\"card-full-news__info\"><time class=\"card-full-news__info-item card-full-news__date\">15:28, 3 декабря 2022</time><span class=\"card-full-news__info-item card-full-news__rubric\">Мир</span></div></a></li>,\n <li class=\"rubric-page__item _news\"><a class=\"card-full-news _subrubric\" href=\"/news/2022/11/30/ig_vse/\"><h3 class=\"card-full-news__title\">США приветствовали сообщения о ликвидации главаря ИГ</h3><div class=\"card-full-news__info\"><time class=\"card-full-news__info-item card-full-news__date\">20:20, 30 ноября 2022</time><span class=\"card-full-news__info-item card-full-news__rubric\">Мир</span></div></a></li>,\n <li class=\"rubric-page__item _news\"><a class=\"card-full-news _subrubric\" href=\"/news/2022/11/28/druzi/\"><h3 class=\"card-full-news__title\">В Израиле арестовали военных за теракт в доме палестинцев</h3><div class=\"card-full-news__info\"><time class=\"card-full-news__info-item card-full-news__date\">15:04, 28 ноября 2022</time><span class=\"card-full-news__info-item card-full-news__rubric\">Мир</span></div></a></li>,\n <li class=\"rubric-page__item _news\"><a class=\"card-full-news _subrubric\" href=\"/news/2022/11/26/narcos/\"><h3 class=\"card-full-news__title\">На пляжи Израиля выбросило десятки пакетов с наркотиками</h3><div class=\"card-full-news__info\"><time class=\"card-full-news__info-item card-full-news__date\">17:35, 26 ноября 2022</time><span class=\"card-full-news__info-item card-full-news__rubric\">Мир</span></div></a></li>,\n <li class=\"rubric-page__item _news\"><a class=\"card-full-news _subrubric\" href=\"/news/2022/11/25/cambodia_moshenniki/\"><h3 class=\"card-full-news__title\">Посольство предупредило россиян об опасной мошеннической схеме</h3><div class=\"card-full-news__info\"><time class=\"card-full-news__info-item card-full-news__date\">14:37, 25 ноября 2022</time><span class=\"card-full-news__info-item card-full-news__rubric\">Мир</span></div></a></li>,\n <li class=\"rubric-page__item _news\"><a class=\"card-full-news _subrubric\" href=\"/news/2022/11/25/cambodia_scam/\"><h3 class=\"card-full-news__title\">Россиян обманом заманили в Камбоджу и потребовали выкуп за освобождение</h3><div class=\"card-full-news__info\"><time class=\"card-full-news__info-item card-full-news__date\">14:04, 25 ноября 2022</time><span class=\"card-full-news__info-item card-full-news__rubric\">Мир</span></div></a></li>,\n <li class=\"rubric-page__item _news\"><a class=\"card-full-news _subrubric\" href=\"/news/2022/11/22/spy_swe/\"><h3 class=\"card-full-news__title\">В Швеции арестовали двух человек по подозрению в шпионаже</h3><div class=\"card-full-news__info\"><time class=\"card-full-news__info-item card-full-news__date\">15:20, 22 ноября 2022</time><span class=\"card-full-news__info-item card-full-news__rubric\">Мир</span></div></a></li>,\n <li class=\"rubric-page__item _news\"><a class=\"card-full-news _subrubric\" href=\"/news/2022/11/22/mafia_milan/\"><h3 class=\"card-full-news__title\">Полиция задержала около 50 человек в Милане в ходе рейда против мафии</h3><div class=\"card-full-news__info\"><time class=\"card-full-news__info-item card-full-news__date\">11:13, 22 ноября 2022</time><span class=\"card-full-news__info-item card-full-news__rubric\">Мир</span></div></a></li>,\n <li class=\"rubric-page__item _news\"><a class=\"card-full-news _subrubric\" href=\"/news/2022/11/20/coloradosprings/\"><h3 class=\"card-full-news__title\">Пять человек погибли в результате стрельбы в ночном клубе в США</h3><div class=\"card-full-news__info\"><time class=\"card-full-news__info-item card-full-news__date\">13:49, 20 ноября 2022</time><span class=\"card-full-news__info-item card-full-news__rubric\">Мир</span></div></a></li>,\n <li class=\"rubric-page__item _news\"><a class=\"card-full-news _subrubric\" href=\"/news/2022/11/19/ukraincy/\"><h3 class=\"card-full-news__title\">Во Франции задержали украинцев по подозрению в производстве детской порнографии</h3><div class=\"card-full-news__info\"><time class=\"card-full-news__info-item card-full-news__date\">02:05, 19 ноября 2022</time><span class=\"card-full-news__info-item card-full-news__rubric\">Мир</span></div></a></li>,\n <li class=\"rubric-page__item _news\"><a class=\"card-full-news _subrubric\" href=\"/news/2022/11/18/stambul_suspect/\"><h3 class=\"card-full-news__title\">В Турции арестовали 17 подозреваемых в подготовке теракта в Стамбуле</h3><div class=\"card-full-news__info\"><time class=\"card-full-news__info-item card-full-news__date\">15:02, 18 ноября 2022</time><span class=\"card-full-news__info-item card-full-news__rubric\">Мир</span></div></a></li>,\n <li class=\"rubric-page__item _news\"><a class=\"card-full-news _subrubric\" href=\"/news/2022/11/17/albashirtells/\"><h3 class=\"card-full-news__title\">Исполнительница теракта в Стамбуле раскрыла детали преступления</h3><div class=\"card-full-news__info\"><time class=\"card-full-news__info-item card-full-news__date\">10:51, 17 ноября 2022</time><span class=\"card-full-news__info-item card-full-news__rubric\">Мир</span></div></a></li>,\n <li class=\"rubric-page__item _news\"><a class=\"card-full-news _subrubric\" href=\"/news/2022/11/15/istanbulgovernor/\"><h3 class=\"card-full-news__title\">Власти Стамбула назвали число остающихся в больнице пострадавших при теракте</h3><div class=\"card-full-news__info\"><time class=\"card-full-news__info-item card-full-news__date\">18:50, 15 ноября 2022</time><span class=\"card-full-news__info-item card-full-news__rubric\">Мир</span></div></a></li>,\n <li class=\"rubric-page__item _news\"><a class=\"card-full-news _subrubric\" href=\"/news/2022/11/15/smugglingartefacts/\"><h3 class=\"card-full-news__title\">Американку поймали при попытке вывезти из Гватемалы национальное достояние</h3><div class=\"card-full-news__info\"><time class=\"card-full-news__info-item card-full-news__date\">11:37, 15 ноября 2022</time><span class=\"card-full-news__info-item card-full-news__rubric\">Мир</span></div></a></li>,\n <li class=\"rubric-page__item _news\"><a class=\"card-full-news _subrubric\" href=\"/news/2022/11/13/turterakt/\"><h3 class=\"card-full-news__title\">В Турции не исключили версию о теракте в связи со взрывом в Стамбуле</h3><div class=\"card-full-news__info\"><time class=\"card-full-news__info-item card-full-news__date\">17:16, 13 ноября 2022</time><span class=\"card-full-news__info-item card-full-news__rubric\">Мир</span></div></a></li>,\n <li class=\"rubric-page__item _news\"><a class=\"card-full-news _subrubric\" href=\"/news/2022/11/12/izrail/\"><h3 class=\"card-full-news__title\">С военной базы Израиля украли боеприпасы через дыру в заборе</h3><div class=\"card-full-news__info\"><time class=\"card-full-news__info-item card-full-news__date\">16:24, 12 ноября 2022</time><span class=\"card-full-news__info-item card-full-news__rubric\">Мир</span></div></a></li>,\n <li class=\"rubric-page__item _news\"><a class=\"card-full-news _subrubric\" href=\"/news/2023/10/26/v-ssha-utochnili-chislo-zhertv-lyuistonskogo-strelka/\"><h3 class=\"card-full-news__title\">В США уточнили число жертв льюистонского стрелка</h3><div class=\"card-full-news__info\"><time class=\"card-full-news__info-item card-full-news__date\">18:29, 26 октября 2023</time><span class=\"card-full-news__info-item card-full-news__rubric\">Мир</span></div></a></li>,\n <li class=\"rubric-page__item _news\"><a class=\"card-full-news _subrubric\" href=\"/news/2023/10/26/on-slyshal-golosa-v-golove-chto-izvestno-o-lichnosti-voennogo-ustroivshego-samoe-massovoe-ubiystvo-v-ssha-v-2023-godu/\"><h3 class=\"card-full-news__title\">«Он слышал голоса в голове» Что известно о стрелке, устроившем самое массовое убийство в США в 2023 году?</h3><div class=\"card-full-news__info\"><time class=\"card-full-news__info-item card-full-news__date\">14:06, 26 октября 2023</time><span class=\"card-full-news__info-item card-full-news__rubric\">Мир</span><svg class=\"card-full-news__info-item card-full-news__super-news\"><use xlink:href=\"#ui-super-news\"></use></svg></div></a></li>,\n <li class=\"rubric-page__item _news\"><a class=\"card-full-news _subrubric\" href=\"/news/2023/10/26/politsiya-ustanovila-lichnost-ustroivshego-strelbu-v-shtate-men/\"><h3 class=\"card-full-news__title\">Полиция установила личность подозреваемого в стрельбе в штате Мэн</h3><div class=\"card-full-news__info\"><time class=\"card-full-news__info-item card-full-news__date\">08:21, 26 октября 2023</time><span class=\"card-full-news__info-item card-full-news__rubric\">Мир</span></div></a></li>,\n <li class=\"rubric-page__item _news\"><a class=\"card-full-news _subrubric\" href=\"/news/2023/10/26/politsiya-predupredila-ob-opasnosti-strelka/\"><h3 class=\"card-full-news__title\">Полиция предупредила об опасности льюистонского стрелка</h3><div class=\"card-full-news__info\"><time class=\"card-full-news__info-item card-full-news__date\">06:51, 26 октября 2023</time><span class=\"card-full-news__info-item card-full-news__rubric\">Мир</span></div></a></li>,\n <li class=\"rubric-page__item _news\"><a class=\"card-full-news _subrubric\" href=\"/news/2023/10/26/lyuistonskogo-strelka-zaderzhali/\"><h3 class=\"card-full-news__title\">Льюистонского стрелка задержали</h3><div class=\"card-full-news__info\"><time class=\"card-full-news__info-item card-full-news__date\">04:58, 26 октября 2023</time><span class=\"card-full-news__info-item card-full-news__rubric\">Мир</span></div></a></li>,\n <li class=\"rubric-page__item _news\"><a class=\"card-full-news _subrubric\" href=\"/news/2023/10/26/chislo-zhertv-strelby-v-shtate-men-vyroslo-do-22/\"><h3 class=\"card-full-news__title\">Число жертв стрельбы в американском штате выросло до 22 человек</h3><div class=\"card-full-news__info\"><time class=\"card-full-news__info-item card-full-news__date\">04:39, 26 октября 2023</time><span class=\"card-full-news__info-item card-full-news__rubric\">Мир</span></div></a></li>,\n <li class=\"rubric-page__item _news\"><a class=\"card-full-news _subrubric\" href=\"/news/2023/10/26/v-rezultate-strelby-v-amerikanskom-shtate-pogibli-16-chelovek/\"><h3 class=\"card-full-news__title\">В результате стрельбы в американском штате погибли 16 человек</h3><div class=\"card-full-news__info\"><time class=\"card-full-news__info-item card-full-news__date\">04:24, 26 октября 2023</time><span class=\"card-full-news__info-item card-full-news__rubric\">Мир</span></div></a></li>,\n <li class=\"rubric-page__item _news\"><a class=\"card-full-news _subrubric\" href=\"/news/2023/10/22/v-velikobritanii-slili-v-set-lichnyy-nomer-telefona-premier-ministra/\"><h3 class=\"card-full-news__title\">В Великобритании слили в сеть личный номер телефона премьер-министра</h3><div class=\"card-full-news__info\"><time class=\"card-full-news__info-item card-full-news__date\">19:52, 22 октября 2023</time><span class=\"card-full-news__info-item card-full-news__rubric\">Мир</span></div></a></li>,\n <li class=\"rubric-page__item _news\"><a class=\"card-full-news _subrubric\" href=\"/news/2023/10/22/kitay-vyyavil-shpionivshego-v-polzu-ssha-na-oboronnom-predpriyatii/\"><h3 class=\"card-full-news__title\">Китай выявил шпионившего в пользу США на оборонном предприятии</h3><div class=\"card-full-news__info\"><time class=\"card-full-news__info-item card-full-news__date\">15:28, 22 октября 2023</time><span class=\"card-full-news__info-item card-full-news__rubric\">Мир</span></div></a></li>,\n <li class=\"rubric-page__item _news\"><a class=\"card-full-news _subrubric\" href=\"/news/2023/10/17/v-belgii-likvidirovali-podozrevaemogo-v-napadenii-v-bryussele/\"><h3 class=\"card-full-news__title\">В Бельгии ликвидировали подозреваемого в нападении в Брюсселе</h3><div class=\"card-full-news__info\"><time class=\"card-full-news__info-item card-full-news__date\">09:45, 17 октября 2023</time><span class=\"card-full-news__info-item card-full-news__rubric\">Мир</span></div></a></li>,\n <li class=\"rubric-page__item _news\"><a class=\"card-full-news _subrubric\" href=\"/news/2023/10/16/missiyu-oon-obokrali-v-sektore-gaza/\"><h3 class=\"card-full-news__title\">Миссию ООН обокрали в секторе Газа</h3><div class=\"card-full-news__info\"><time class=\"card-full-news__info-item card-full-news__date\">16:36, 16 октября 2023</time><span class=\"card-full-news__info-item card-full-news__rubric\">Мир</span></div></a></li>,\n <li class=\"rubric-page__item _news\"><a class=\"card-full-news _subrubric\" href=\"/news/2023/10/13/vo-frantsii-zaderzhali-esche-odnogo-cheloveka-s-nozhom-u-vhoda-v-shkolu/\"><h3 class=\"card-full-news__title\">Во Франции задержали еще одного человека с ножом у входа в школу</h3><div class=\"card-full-news__info\"><time class=\"card-full-news__info-item card-full-news__date\">18:27, 13 октября 2023</time><span class=\"card-full-news__info-item card-full-news__rubric\">Мир</span></div></a></li>,\n <li class=\"rubric-page__item _news\"><a class=\"card-full-news _subrubric\" href=\"/news/2023/10/06/turkiig/\"><h3 class=\"card-full-news__title\">В Турции задержали более 90 человек из-за связи с ИГ</h3><div class=\"card-full-news__info\"><time class=\"card-full-news__info-item card-full-news__date\">11:21, 6 октября 2023</time><span class=\"card-full-news__info-item card-full-news__rubric\">Мир</span></div></a></li>,\n <li class=\"rubric-page__item _news\"><a class=\"card-full-news _subrubric\" href=\"/news/2023/10/03/napalii/\"><h3 class=\"card-full-news__title\">Грабители напали на конгрессмена США и угнали его автомобиль</h3><div class=\"card-full-news__info\"><time class=\"card-full-news__info-item card-full-news__date\">06:49, 3 октября 2023</time><span class=\"card-full-news__info-item card-full-news__rubric\">Мир</span></div></a></li>,\n <li class=\"rubric-page__item _news\"><a class=\"card-full-news _subrubric\" href=\"/news/2023/09/28/two_tons/\"><h3 class=\"card-full-news__title\">В Ирландии задержали украинцев по подозрению в контрабанде двух тонн кокаина</h3><div class=\"card-full-news__info\"><time class=\"card-full-news__info-item card-full-news__date\">16:14, 28 сентября 2023</time><span class=\"card-full-news__info-item card-full-news__rubric\">Мир</span></div></a></li>,\n <li class=\"rubric-page__item _news\"><a class=\"card-full-news _subrubric\" href=\"/news/2023/09/21/bolgary/\"><h3 class=\"card-full-news__title\">Болгарам в Великобритании предъявили обвинение в шпионаже на Россию</h3><div class=\"card-full-news__info\"><time class=\"card-full-news__info-item card-full-news__date\">16:25, 21 сентября 2023</time><span class=\"card-full-news__info-item card-full-news__rubric\">Мир</span></div></a></li>,\n <li class=\"rubric-page__item _news\"><a class=\"card-full-news _subrubric\" href=\"/news/2023/09/19/south_korea_ukraine/\"><h3 class=\"card-full-news__title\">Южная Корея направит Украине боевую технику</h3><div class=\"card-full-news__info\"><time class=\"card-full-news__info-item card-full-news__date\">10:48, 19 сентября 2023</time><span class=\"card-full-news__info-item card-full-news__rubric\">Мир</span></div></a></li>,\n <li class=\"rubric-page__item _news\"><a class=\"card-full-news _subrubric\" href=\"/news/2023/09/17/drugs/\"><h3 class=\"card-full-news__title\">Борьбу с наркотиками в США назвали маскировкой геополитических целей</h3><div class=\"card-full-news__info\"><time class=\"card-full-news__info-item card-full-news__date\">14:15, 17 сентября 2023</time><span class=\"card-full-news__info-item card-full-news__rubric\">Мир</span></div></a></li>,\n <li class=\"rubric-page__item _news\"><a class=\"card-full-news _subrubric\" href=\"/news/2023/09/14/hanterthreats/\"><h3 class=\"card-full-news__title\">В ФБР пожаловались на угрозы и давление из-за дела Хантера Байдена</h3><div class=\"card-full-news__info\"><time class=\"card-full-news__info-item card-full-news__date\">15:30, 14 сентября 2023</time><span class=\"card-full-news__info-item card-full-news__rubric\">Мир</span></div></a></li>,\n <li class=\"rubric-page__item _news\"><a class=\"card-full-news _subrubric\" href=\"/news/2023/09/14/liderbandy/\"><h3 class=\"card-full-news__title\">В Колумбии с кладбища украли тело бывшего лидера эквадорской банды</h3><div class=\"card-full-news__info\"><time class=\"card-full-news__info-item card-full-news__date\">13:46, 14 сентября 2023</time><span class=\"card-full-news__info-item card-full-news__rubric\">Мир</span></div></a></li>,\n <li class=\"rubric-page__item _news\"><a class=\"card-full-news _subrubric\" href=\"/news/2023/09/13/sigaretts/\"><h3 class=\"card-full-news__title\">В Ирландии обвинили двух украинцев в незаконной продаже сигарет</h3><div class=\"card-full-news__info\"><time class=\"card-full-news__info-item card-full-news__date\">04:31, 13 сентября 2023</time><span class=\"card-full-news__info-item card-full-news__rubric\">Мир</span></div></a></li>,\n <li class=\"rubric-page__item _news\"><a class=\"card-full-news _subrubric\" href=\"/news/2023/09/07/9years/\"><h3 class=\"card-full-news__title\">Американский суд приговорил россиянина к девяти годам тюрьмы</h3><div class=\"card-full-news__info\"><time class=\"card-full-news__info-item card-full-news__date\">18:01, 7 сентября 2023</time><span class=\"card-full-news__info-item card-full-news__rubric\">Мир</span></div></a></li>,\n <li class=\"rubric-page__item _news\"><a class=\"card-full-news _subrubric\" href=\"/news/2023/09/07/interpol_money/\"><h3 class=\"card-full-news__title\">Глава Интерпола пожаловался на нехватку денег у организации</h3><div class=\"card-full-news__info\"><time class=\"card-full-news__info-item card-full-news__date\">16:59, 7 сентября 2023</time><span class=\"card-full-news__info-item card-full-news__rubric\">Мир</span></div></a></li>,\n <li class=\"rubric-page__item _news\"><a class=\"card-full-news _subrubric\" href=\"/news/2023/09/04/sweden_spy/\"><h3 class=\"card-full-news__title\">В Швеции начался суд над подозреваемым в работе на ГРУ</h3><div class=\"card-full-news__info\"><time class=\"card-full-news__info-item card-full-news__date\">18:28, 4 сентября 2023</time><span class=\"card-full-news__info-item card-full-news__rubric\">Мир</span></div></a></li>,\n <li class=\"rubric-page__item _news\"><a class=\"card-full-news _subrubric\" href=\"/news/2023/09/04/gabon_coup/\"><h3 class=\"card-full-news__title\">Военные в Габоне начали расследование против свергнутой элиты</h3><div class=\"card-full-news__info\"><time class=\"card-full-news__info-item card-full-news__date\">11:33, 4 сентября 2023</time><span class=\"card-full-news__info-item card-full-news__rubric\">Мир</span></div></a></li>,\n <li class=\"rubric-page__item _news\"><a class=\"card-full-news _subrubric\" href=\"/news/2023/08/30/china_afera/\"><h3 class=\"card-full-news__title\">В Индонезии задержаны десятки граждан КНР за любовный шантаж чиновников Китая</h3><div class=\"card-full-news__info\"><time class=\"card-full-news__info-item card-full-news__date\">14:24, 30 августа 2023</time><span class=\"card-full-news__info-item card-full-news__rubric\">Мир</span></div></a></li>,\n <li class=\"rubric-page__item _news\"><a class=\"card-full-news _subrubric\" href=\"/news/2023/08/30/hunter_biden_ukraine/\"><h3 class=\"card-full-news__title\">Стало известно о роли сына Байдена в прекращении дела против украинской Burisma</h3><div class=\"card-full-news__info\"><time class=\"card-full-news__info-item card-full-news__date\">11:10, 30 августа 2023</time><span class=\"card-full-news__info-item card-full-news__rubric\">Мир</span></div></a></li>,\n <li class=\"rubric-page__item _news\"><a class=\"card-full-news _subrubric\" href=\"/news/2023/08/29/scholz_deputy/\"><h3 class=\"card-full-news__title\">На Шольца подали в суд</h3><div class=\"card-full-news__info\"><time class=\"card-full-news__info-item card-full-news__date\">11:38, 29 августа 2023</time><span class=\"card-full-news__info-item card-full-news__rubric\">Мир</span></div></a></li>,\n <li class=\"rubric-page__item _news\"><a class=\"card-full-news _subrubric\" href=\"/news/2023/08/21/309305/\"><h3 class=\"card-full-news__title\">В Швеции избили организатора акций с сожжением Корана</h3><div class=\"card-full-news__info\"><time class=\"card-full-news__info-item card-full-news__date\">17:04, 21 августа 2023</time><span class=\"card-full-news__info-item card-full-news__rubric\">Мир</span></div></a></li>,\n <li class=\"rubric-page__item _news\"><a class=\"card-full-news _subrubric\" href=\"/news/2023/08/17/sweden_danger/\"><h3 class=\"card-full-news__title\">Уровень террористической угрозы в Швеции повысили до предпоследнего</h3><div class=\"card-full-news__info\"><time class=\"card-full-news__info-item card-full-news__date\">14:23, 17 августа 2023</time><span class=\"card-full-news__info-item card-full-news__rubric\">Мир</span></div></a></li>,\n <li class=\"rubric-page__item _news\"><a class=\"card-full-news _subrubric\" href=\"/news/2023/08/16/printer/\"><h3 class=\"card-full-news__title\">Двух австралийцев обвинили в создании оружия на 3D-принтере</h3><div class=\"card-full-news__info\"><time class=\"card-full-news__info-item card-full-news__date\">03:56, 16 августа 2023</time><span class=\"card-full-news__info-item card-full-news__rubric\">Мир</span></div></a></li>,\n <li class=\"rubric-page__item _news\"><a class=\"card-full-news _subrubric\" href=\"/news/2023/08/16/steal/\"><h3 class=\"card-full-news__title\">Подозреваемую в крупной краже россиянку арестовали в Абхазии</h3><div class=\"card-full-news__info\"><time class=\"card-full-news__info-item card-full-news__date\">00:55, 16 августа 2023</time><span class=\"card-full-news__info-item card-full-news__rubric\">Мир</span></div></a></li>,\n <li class=\"rubric-page__item _news\"><a class=\"card-full-news _subrubric\" href=\"/news/2023/08/15/fbi/\"><h3 class=\"card-full-news__title\">Экс-агент ФБР признался в связях с российским миллиардером Дерипаской</h3><div class=\"card-full-news__info\"><time class=\"card-full-news__info-item card-full-news__date\">22:50, 15 августа 2023</time><span class=\"card-full-news__info-item card-full-news__rubric\">Мир</span></div></a></li>,\n <li class=\"rubric-page__item _news\"><a class=\"card-full-news _subrubric\" href=\"/news/2023/08/13/czech/\"><h3 class=\"card-full-news__title\">В Чехии украинец изнасиловал девочку и спрятал ее в мешке</h3><div class=\"card-full-news__info\"><time class=\"card-full-news__info-item card-full-news__date\">04:24, 13 августа 2023</time><span class=\"card-full-news__info-item card-full-news__rubric\">Мир</span></div></a></li>,\n <li class=\"rubric-page__item _news\"><a class=\"card-full-news _subrubric\" href=\"/news/2023/08/11/spy/\"><h3 class=\"card-full-news__title\">Стало известно о планах подозреваемого в шпионаже немца в отношении России</h3><div class=\"card-full-news__info\"><time class=\"card-full-news__info-item card-full-news__date\">13:59, 11 августа 2023</time><span class=\"card-full-news__info-item card-full-news__rubric\">Мир</span></div></a></li>,\n <li class=\"rubric-page__item _news\"><a class=\"card-full-news _subrubric\" href=\"/news/2023/08/08/izbili/\"><h3 class=\"card-full-news__title\">Поляки избили молодого украинца и его мать</h3><div class=\"card-full-news__info\"><time class=\"card-full-news__info-item card-full-news__date\">05:56, 8 августа 2023</time><span class=\"card-full-news__info-item card-full-news__rubric\">Мир</span></div></a></li>,\n <li class=\"rubric-page__item _news\"><a class=\"card-full-news _subrubric\" href=\"/news/2023/08/05/imran/\"><h3 class=\"card-full-news__title\">Бывшего премьера Пакистана приговорили к трем годам заключения</h3><div class=\"card-full-news__info\"><time class=\"card-full-news__info-item card-full-news__date\">11:34, 5 августа 2023</time><span class=\"card-full-news__info-item card-full-news__rubric\">Мир</span></div></a></li>,\n <li class=\"rubric-page__item _news\"><a class=\"card-full-news _subrubric\" href=\"/news/2023/08/03/klyushin_usa/\"><h3 class=\"card-full-news__title\">Прокуратура США запросила 14 лет тюрьмы для россиянина Клюшина</h3><div class=\"card-full-news__info\"><time class=\"card-full-news__info-item card-full-news__date\">15:59, 3 августа 2023</time><span class=\"card-full-news__info-item card-full-news__rubric\">Мир</span></div></a></li>,\n <li class=\"rubric-page__item _news\"><a class=\"card-full-news _subrubric\" href=\"/news/2023/08/02/vooruzhen/\"><h3 class=\"card-full-news__title\">Полиция сообщила о возможном нахождении вооруженного человека в здании Конгресса</h3><div class=\"card-full-news__info\"><time class=\"card-full-news__info-item card-full-news__date\">22:14, 2 августа 2023</time><span class=\"card-full-news__info-item card-full-news__rubric\">Мир</span></div></a></li>,\n <li class=\"rubric-page__item _news\"><a class=\"card-full-news _subrubric\" href=\"/news/2023/08/01/priut/\"><h3 class=\"card-full-news__title\">Украинского беженца убили в немецком приюте</h3><div class=\"card-full-news__info\"><time class=\"card-full-news__info-item card-full-news__date\">06:41, 1 августа 2023</time><span class=\"card-full-news__info-item card-full-news__rubric\">Мир</span></div></a></li>,\n <li class=\"rubric-page__item _news\"><a class=\"card-full-news _subrubric\" href=\"/news/2023/07/28/kazn/\"><h3 class=\"card-full-news__title\">В Сингапуре впервые почти за 20 лет казнили женщину</h3><div class=\"card-full-news__info\"><time class=\"card-full-news__info-item card-full-news__date\">09:00, 28 июля 2023</time><span class=\"card-full-news__info-item card-full-news__rubric\">Мир</span></div></a></li>,\n <li class=\"rubric-page__item _news\"><a class=\"card-full-news _subrubric\" href=\"/news/2023/07/26/hunterr/\"><h3 class=\"card-full-news__title\">Сын Байдена передумал признавать вину в суде</h3><div class=\"card-full-news__info\"><time class=\"card-full-news__info-item card-full-news__date\">20:45, 26 июля 2023</time><span class=\"card-full-news__info-item card-full-news__rubric\">Мир</span></div></a></li>,\n <li class=\"rubric-page__item _news\"><a class=\"card-full-news _subrubric\" href=\"/news/2023/07/24/ochki/\"><h3 class=\"card-full-news__title\">Норвежский политик попался на краже очков</h3><div class=\"card-full-news__info\"><time class=\"card-full-news__info-item card-full-news__date\">14:16, 24 июля 2023</time><span class=\"card-full-news__info-item card-full-news__rubric\">Мир</span></div></a></li>,\n <li class=\"rubric-page__item _news\"><a class=\"card-full-news _subrubric\" href=\"/news/2023/07/24/eu_cuba_arrest/\"><h3 class=\"card-full-news__title\">В Европе арестовали более 60 человек по делу о нелегальной миграции с Кубы в ЕС</h3><div class=\"card-full-news__info\"><time class=\"card-full-news__info-item card-full-news__date\">13:36, 24 июля 2023</time><span class=\"card-full-news__info-item card-full-news__rubric\">Мир</span></div></a></li>,\n <li class=\"rubric-page__item _news\"><a class=\"card-full-news _subrubric\" href=\"/news/2023/07/23/kongooo/\"><h3 class=\"card-full-news__title\">В Конго военный на похоронах своего ребенка расстрелял 13 человек</h3><div class=\"card-full-news__info\"><time class=\"card-full-news__info-item card-full-news__date\">15:33, 23 июля 2023</time><span class=\"card-full-news__info-item card-full-news__rubric\">Мир</span></div></a></li>,\n <li class=\"rubric-page__item _news\"><a class=\"card-full-news _subrubric\" href=\"/news/2023/07/14/china_poison/\"><h3 class=\"card-full-news__title\">В Китае казнили отравившую 25 детей нитритом натрия воспитательницу</h3><div class=\"card-full-news__info\"><time class=\"card-full-news__info-item card-full-news__date\">17:20, 14 июля 2023</time><span class=\"card-full-news__info-item card-full-news__rubric\">Мир</span></div></a></li>,\n <li class=\"rubric-page__item _news\"><a class=\"card-full-news _subrubric\" href=\"/news/2023/07/12/mansona/\"><h3 class=\"card-full-news__title\">В США досрочно освободили самую молодую последовательницу Чарльза Мэнсона</h3><div class=\"card-full-news__info\"><time class=\"card-full-news__info-item card-full-news__date\">09:18, 12 июля 2023</time><span class=\"card-full-news__info-item card-full-news__rubric\">Мир</span></div></a></li>,\n <li class=\"rubric-page__item _news\"><a class=\"card-full-news _subrubric\" href=\"/news/2023/07/10/bezhenka/\"><h3 class=\"card-full-news__title\">В норвежском отеле убили украинскую беженку</h3><div class=\"card-full-news__info\"><time class=\"card-full-news__info-item card-full-news__date\">04:57, 10 июля 2023</time><span class=\"card-full-news__info-item card-full-news__rubric\">Мир</span></div></a></li>,\n <li class=\"rubric-page__item _news\"><a class=\"card-full-news _subrubric\" href=\"/news/2023/07/08/posledovala/\"><h3 class=\"card-full-news__title\">Самую молодую последовательницу Чарльза Мэнсона досрочно освободят</h3><div class=\"card-full-news__info\"><time class=\"card-full-news__info-item card-full-news__date\">18:51, 8 июля 2023</time><span class=\"card-full-news__info-item card-full-news__rubric\">Мир</span></div></a></li>,\n <li class=\"rubric-page__item _news\"><a class=\"card-full-news _subrubric\" href=\"/news/2023/07/06/ru_ha/\"><h3 class=\"card-full-news__title\">Пророссийские хакеры потребовали выкуп за грузовой порт Toyota</h3><div class=\"card-full-news__info\"><time class=\"card-full-news__info-item card-full-news__date\">10:46, 6 июля 2023</time><span class=\"card-full-news__info-item card-full-news__rubric\">Мир</span></div></a></li>,\n <li class=\"rubric-page__item _news\"><a class=\"card-full-news _subrubric\" href=\"/news/2023/07/04/naezd/\"><h3 class=\"card-full-news__title\">В столице Израиля произошел теракт</h3><div class=\"card-full-news__info\"><time class=\"card-full-news__info-item card-full-news__date\">16:27, 4 июля 2023</time><span class=\"card-full-news__info-item card-full-news__rubric\">Мир</span><svg class=\"card-full-news__info-item card-full-news__play\"><use xlink:href=\"#ui-play\"></use></svg></div></a></li>,\n <li class=\"rubric-page__item _news\"><a class=\"card-full-news _subrubric\" href=\"/news/2023/07/02/car_on_fire/\"><h3 class=\"card-full-news__title\">Неизвестные попытались поджечь автомобиль французского мэра</h3><div class=\"card-full-news__info\"><time class=\"card-full-news__info-item card-full-news__date\">14:35, 2 июля 2023</time><span class=\"card-full-news__info-item card-full-news__rubric\">Мир</span></div></a></li>,\n <li class=\"rubric-page__item _news\"><a class=\"card-full-news _subrubric\" href=\"/news/2023/07/02/zemmur/\"><h3 class=\"card-full-news__title\">Во Франции предрекли начало гражданской войны</h3><div class=\"card-full-news__info\"><time class=\"card-full-news__info-item card-full-news__date\">11:22, 2 июля 2023</time><span class=\"card-full-news__info-item card-full-news__rubric\">Мир</span></div></a></li>,\n <li class=\"rubric-page__item _news\"><a class=\"card-full-news _subrubric\" href=\"/news/2023/07/02/zhanbrun/\"><h3 class=\"card-full-news__title\">Неизвестные напали на дом французского мэра</h3><div class=\"card-full-news__info\"><time class=\"card-full-news__info-item card-full-news__date\">09:36, 2 июля 2023</time><span class=\"card-full-news__info-item card-full-news__rubric\">Мир</span></div></a></li>,\n <li class=\"rubric-page__item _news\"><a class=\"card-full-news _subrubric\" href=\"/news/2023/07/01/donbass/\"><h3 class=\"card-full-news__title\">В Милане задержали воевавшего в Донбассе мужчину</h3><div class=\"card-full-news__info\"><time class=\"card-full-news__info-item card-full-news__date\">13:55, 1 июля 2023</time><span class=\"card-full-news__info-item card-full-news__rubric\">Мир</span></div></a></li>,\n <li class=\"rubric-page__item _news\"><a class=\"card-full-news _subrubric\" href=\"/news/2023/06/29/france_policeman/\"><h3 class=\"card-full-news__title\">Во Франции полицейскому предъявили обвинения из-за расправы над подростком</h3><div class=\"card-full-news__info\"><time class=\"card-full-news__info-item card-full-news__date\">13:41, 29 июня 2023</time><span class=\"card-full-news__info-item card-full-news__rubric\">Мир</span></div></a></li>,\n <li class=\"rubric-page__item _news\"><a class=\"card-full-news _subrubric\" href=\"/news/2023/10/02/priut/\"><h3 class=\"card-full-news__title\">В Нидерландах пожаловались на нехватку мест для украинских беженцев</h3><div class=\"card-full-news__info\"><time class=\"card-full-news__info-item card-full-news__date\">23:57, 2 октября 2023</time><span class=\"card-full-news__info-item card-full-news__rubric\">Мир</span></div></a></li>,\n <li class=\"rubric-page__item _news\"><a class=\"card-full-news _subrubric\" href=\"/news/2023/10/02/finny/\"><h3 class=\"card-full-news__title\">Финны лишились дешевого российского товара из-за санкций</h3><div class=\"card-full-news__info\"><time class=\"card-full-news__info-item card-full-news__date\">01:23, 2 октября 2023</time><span class=\"card-full-news__info-item card-full-news__rubric\">Мир</span></div></a></li>,\n <li class=\"rubric-page__item _news\"><a class=\"card-full-news _subrubric\" href=\"/news/2023/09/29/melania_trump/\"><h3 class=\"card-full-news__title\">Супруга Трампа пересмотрела брачный договор</h3><div class=\"card-full-news__info\"><time class=\"card-full-news__info-item card-full-news__date\">12:26, 29 сентября 2023</time><span class=\"card-full-news__info-item card-full-news__rubric\">Мир</span></div></a></li>,\n <li class=\"rubric-page__item _news\"><a class=\"card-full-news _subrubric\" href=\"/news/2023/09/29/bidens_family_name/\"><h3 class=\"card-full-news__title\">Стали известны новые подробности финансовых махинаций членов семьи Байдена</h3><div class=\"card-full-news__info\"><time class=\"card-full-news__info-item card-full-news__date\">09:43, 29 сентября 2023</time><span class=\"card-full-news__info-item card-full-news__rubric\">Мир</span></div></a></li>,\n <li class=\"rubric-page__item _news\"><a class=\"card-full-news _subrubric\" href=\"/news/2023/09/29/hatehatehate/\"><h3 class=\"card-full-news__title\">«Менгеле, Эйхман, Барби». Захарова призвала запросить список друзей эсэсовца Хунки в Южной Америке</h3><div class=\"card-full-news__info\"><time class=\"card-full-news__info-item card-full-news__date\">06:00, 29 сентября 2023</time><span class=\"card-full-news__info-item card-full-news__rubric\">Мир</span><svg class=\"card-full-news__info-item card-full-news__super-news\"><use xlink:href=\"#ui-super-news\"></use></svg></div></a></li>,\n <li class=\"rubric-page__item _news\"><a class=\"card-full-news _subrubric\" href=\"/news/2023/09/29/nazvali/\"><h3 class=\"card-full-news__title\">В США назвали безответственным включение денег для Украины в проект бюджета</h3><div class=\"card-full-news__info\"><time class=\"card-full-news__info-item card-full-news__date\">04:55, 29 сентября 2023</time><span class=\"card-full-news__info-item card-full-news__rubric\">Мир</span></div></a></li>,\n <li class=\"rubric-page__item _news\"><a class=\"card-full-news _subrubric\" href=\"/news/2023/09/29/nacist/\"><h3 class=\"card-full-news__title\">В России призвали запросить список южноамериканских друзей эсэсовца Хунки</h3><div class=\"card-full-news__info\"><time class=\"card-full-news__info-item card-full-news__date\">02:42, 29 сентября 2023</time><span class=\"card-full-news__info-item card-full-news__rubric\">Мир</span></div></a></li>,\n <li class=\"rubric-page__item _news\"><a class=\"card-full-news _subrubric\" href=\"/news/2023/09/28/vks/\"><h3 class=\"card-full-news__title\">Российские ВКС ударили по объектам террористов в Сирии</h3><div class=\"card-full-news__info\"><time class=\"card-full-news__info-item card-full-news__date\">22:11, 28 сентября 2023</time><span class=\"card-full-news__info-item card-full-news__rubric\">Мир</span></div></a></li>,\n <li class=\"rubric-page__item _news\"><a class=\"card-full-news _subrubric\" href=\"/news/2023/09/28/nota_ssman/\"><h3 class=\"card-full-news__title\">Посольство России направит ноту в МИД Канады в связи с чествованием ветерана СС</h3><div class=\"card-full-news__info\"><time class=\"card-full-news__info-item card-full-news__date\">21:05, 28 сентября 2023</time><span class=\"card-full-news__info-item card-full-news__rubric\">Мир</span></div></a></li>,\n <li class=\"rubric-page__item _news\"><a class=\"card-full-news _subrubric\" href=\"/news/2023/09/28/two_tons/\"><h3 class=\"card-full-news__title\">В Ирландии задержали украинцев по подозрению в контрабанде двух тонн кокаина</h3><div class=\"card-full-news__info\"><time class=\"card-full-news__info-item card-full-news__date\">16:14, 28 сентября 2023</time><span class=\"card-full-news__info-item card-full-news__rubric\">Мир</span></div></a></li>,\n <li class=\"rubric-page__item _news\"><a class=\"card-full-news _subrubric\" href=\"/news/2023/09/28/mama_mama/\"><h3 class=\"card-full-news__title\">В Финляндии просящего убежище россиянина обязали отдать детей матери</h3><div class=\"card-full-news__info\"><time class=\"card-full-news__info-item card-full-news__date\">13:21, 28 сентября 2023</time><span class=\"card-full-news__info-item card-full-news__rubric\">Мир</span></div></a></li>,\n <li class=\"rubric-page__item _news\"><a class=\"card-full-news _subrubric\" href=\"/news/2023/09/28/china_defense/\"><h3 class=\"card-full-news__title\">Глава Миноброны Китая пропустил мероприятие со своим участием</h3><div class=\"card-full-news__info\"><time class=\"card-full-news__info-item card-full-news__date\">10:55, 28 сентября 2023</time><span class=\"card-full-news__info-item card-full-news__rubric\">Мир</span></div></a></li>,\n <li class=\"rubric-page__item _news\"><a class=\"card-full-news _subrubric\" href=\"/news/2023/09/27/5634773274665/\"><h3 class=\"card-full-news__title\">В Германии запретили одно из самых опасных неонацистских обществ</h3><div class=\"card-full-news__info\"><time class=\"card-full-news__info-item card-full-news__date\">16:00, 27 сентября 2023</time><span class=\"card-full-news__info-item card-full-news__rubric\">Мир</span></div></a></li>,\n <li class=\"rubric-page__item _news\"><a class=\"card-full-news _subrubric\" href=\"/news/2023/09/27/canada_opposition/\"><h3 class=\"card-full-news__title\">Лидер канадской оппозиции прокомментировал скандал с ветераном СС</h3><div class=\"card-full-news__info\"><time class=\"card-full-news__info-item card-full-news__date\">11:52, 27 сентября 2023</time><span class=\"card-full-news__info-item card-full-news__rubric\">Мир</span></div></a></li>,\n <li class=\"rubric-page__item _news\"><a class=\"card-full-news _subrubric\" href=\"/news/2023/09/27/biden_china/\"><h3 class=\"card-full-news__title\">Хантер Байден получил более 250 тысяч долларов из Китая</h3><div class=\"card-full-news__info\"><time class=\"card-full-news__info-item card-full-news__date\">10:59, 27 сентября 2023</time><span class=\"card-full-news__info-item card-full-news__rubric\">Мир</span></div></a></li>,\n <li class=\"rubric-page__item _news\"><a class=\"card-full-news _subrubric\" href=\"/news/2023/09/27/83483483/\"><h3 class=\"card-full-news__title\">Число пострадавших в пожаре в Ираке достигло 450 человек</h3><div class=\"card-full-news__info\"><time class=\"card-full-news__info-item card-full-news__date\">09:25, 27 сентября 2023</time><span class=\"card-full-news__info-item card-full-news__rubric\">Мир</span></div></a></li>,\n <li class=\"rubric-page__item _news\"><a class=\"card-full-news _subrubric\" href=\"/news/2023/09/27/hunka/\"><h3 class=\"card-full-news__title\">В Польше проверят эсэсовца Хунки на участие в геноциде поляков</h3><div class=\"card-full-news__info\"><time class=\"card-full-news__info-item card-full-news__date\">08:13, 27 сентября 2023</time><span class=\"card-full-news__info-item card-full-news__rubric\">Мир</span></div></a></li>,\n <li class=\"rubric-page__item _news\"><a class=\"card-full-news _subrubric\" href=\"/news/2023/09/26/vietnamm/\"><h3 class=\"card-full-news__title\">В азиатской стране выявили случай передачи оспы обезьян от человека человеку</h3><div class=\"card-full-news__info\"><time class=\"card-full-news__info-item card-full-news__date\">23:42, 26 сентября 2023</time><span class=\"card-full-news__info-item card-full-news__rubric\">Мир</span></div></a></li>,\n <li class=\"rubric-page__item _news\"><a class=\"card-full-news _subrubric\" href=\"/news/2023/09/25/natoavia/\"><h3 class=\"card-full-news__title\">В европейской стране подняли в воздух авиацию НАТО</h3><div class=\"card-full-news__info\"><time class=\"card-full-news__info-item card-full-news__date\">21:53, 25 сентября 2023</time><span class=\"card-full-news__info-item card-full-news__rubric\">Мир</span></div></a></li>,\n <li class=\"rubric-page__item _news\"><a class=\"card-full-news _subrubric\" href=\"/news/2023/09/25/kazami/\"><h3 class=\"card-full-news__title\">В США показали военные казармы с тараканами и нечистотами</h3><div class=\"card-full-news__info\"><time class=\"card-full-news__info-item card-full-news__date\">17:21, 25 сентября 2023</time><span class=\"card-full-news__info-item card-full-news__rubric\">Мир</span></div></a></li>,\n <li class=\"rubric-page__item _news\"><a class=\"card-full-news _subrubric\" href=\"/news/2023/09/24/hawk/\"><h3 class=\"card-full-news__title\">Над Черным морем вновь заметили американский дрон-разведчик</h3><div class=\"card-full-news__info\"><time class=\"card-full-news__info-item card-full-news__date\">14:53, 24 сентября 2023</time><span class=\"card-full-news__info-item card-full-news__rubric\">Мир</span></div></a></li>,\n <li class=\"rubric-page__item _news\"><a class=\"card-full-news _subrubric\" href=\"/news/2023/09/24/palace/\"><h3 class=\"card-full-news__title\">В Букингемском дворце прошла акция протеста против монархии</h3><div class=\"card-full-news__info\"><time class=\"card-full-news__info-item card-full-news__date\">01:49, 24 сентября 2023</time><span class=\"card-full-news__info-item card-full-news__rubric\">Мир</span></div></a></li>,\n <li class=\"rubric-page__item _news\"><a class=\"card-full-news _subrubric\" href=\"/news/2023/09/23/ubezh/\"><h3 class=\"card-full-news__title\">Названо число получивших убежище в Германии после начала СВО россиян</h3><div class=\"card-full-news__info\"><time class=\"card-full-news__info-item card-full-news__date\">16:34, 23 сентября 2023</time><span class=\"card-full-news__info-item card-full-news__rubric\">Мир</span></div></a></li>,\n <li class=\"rubric-page__item _news\"><a class=\"card-full-news _subrubric\" href=\"/news/2023/09/22/one_dollar/\"><h3 class=\"card-full-news__title\">В США освободили педофила под залог в один доллар</h3><div class=\"card-full-news__info\"><time class=\"card-full-news__info-item card-full-news__date\">23:15, 22 сентября 2023</time><span class=\"card-full-news__info-item card-full-news__rubric\">Мир</span></div></a></li>,\n <li class=\"rubric-page__item _news\"><a class=\"card-full-news _subrubric\" href=\"/news/2023/09/22/draka_iphone/\"><h3 class=\"card-full-news__title\">Житель Дубая рассказал о драках и давке в очереди за iPhone 15</h3><div class=\"card-full-news__info\"><time class=\"card-full-news__info-item card-full-news__date\">13:29, 22 сентября 2023</time><span class=\"card-full-news__info-item card-full-news__rubric\">Мир</span></div></a></li>,\n <li class=\"rubric-page__item _news\"><a class=\"card-full-news _subrubric\" href=\"/news/2023/09/22/poland_duda/\"><h3 class=\"card-full-news__title\">Президент Польши отказался участвовать в новых выборах</h3><div class=\"card-full-news__info\"><time class=\"card-full-news__info-item card-full-news__date\">10:38, 22 сентября 2023</time><span class=\"card-full-news__info-item card-full-news__rubric\">Мир</span></div></a></li>,\n <li class=\"rubric-page__item _news\"><a class=\"card-full-news _subrubric\" href=\"/news/2023/09/21/iranzak/\"><h3 class=\"card-full-news__title\">В Иране ужесточили наказание для женщин за отсутствие хиджаба</h3><div class=\"card-full-news__info\"><time class=\"card-full-news__info-item card-full-news__date\">14:50, 21 сентября 2023</time><span class=\"card-full-news__info-item card-full-news__rubric\">Мир</span></div></a></li>,\n <li class=\"rubric-page__item _news\"><a class=\"card-full-news _subrubric\" href=\"/news/2023/09/20/pash/\"><h3 class=\"card-full-news__title\">Толстой заявил о признании Пашиняном территориальной целостности Азербайджана</h3><div class=\"card-full-news__info\"><time class=\"card-full-news__info-item card-full-news__date\">13:00, 20 сентября 2023</time><span class=\"card-full-news__info-item card-full-news__rubric\">Мир</span></div></a></li>,\n <li class=\"rubric-page__item _news\"><a class=\"card-full-news _subrubric\" href=\"/news/2023/09/20/vengroma/\"><h3 class=\"card-full-news__title\">Венгерские цыгане использовали украинские паспорта для получения льгот в Баварии</h3><div class=\"card-full-news__info\"><time class=\"card-full-news__info-item card-full-news__date\">12:39, 20 сентября 2023</time><span class=\"card-full-news__info-item card-full-news__rubric\">Мир</span></div></a></li>,\n <li class=\"rubric-page__item _news\"><a class=\"card-full-news _subrubric\" href=\"/news/2023/09/20/vzriv_u_beregov_ruminii/\"><h3 class=\"card-full-news__title\">У берегов Румынии произошел взрыв на гражданском судне</h3><div class=\"card-full-news__info\"><time class=\"card-full-news__info-item card-full-news__date\">12:09, 20 сентября 2023</time><span class=\"card-full-news__info-item card-full-news__rubric\">Мир</span></div></a></li>,\n <li class=\"rubric-page__item _news\"><a class=\"card-full-news _subrubric\" href=\"/news/2023/09/20/make_love_not_war/\"><h3 class=\"card-full-news__title\">Папа Римский призвал остановить войну в Карабахе</h3><div class=\"card-full-news__info\"><time class=\"card-full-news__info-item card-full-news__date\">11:16, 20 сентября 2023</time><span class=\"card-full-news__info-item card-full-news__rubric\">Мир</span></div></a></li>,\n <li class=\"rubric-page__item _news\"><a class=\"card-full-news _subrubric\" href=\"/news/2023/09/20/protestisrael/\"><h3 class=\"card-full-news__title\">Посол Израиля устроил акцию протеста на ГА ООН</h3><div class=\"card-full-news__info\"><time class=\"card-full-news__info-item card-full-news__date\">11:10, 20 сентября 2023</time><span class=\"card-full-news__info-item card-full-news__rubric\">Мир</span></div></a></li>,\n <li class=\"rubric-page__item _news\"><a class=\"card-full-news _subrubric\" href=\"/news/2023/09/20/asia/\"><h3 class=\"card-full-news__title\">Мелик Кайлан рассказал о роли Мирзиеева в отношениях США и Центральной Азии</h3><div class=\"card-full-news__info\"><time class=\"card-full-news__info-item card-full-news__date\">09:41, 20 сентября 2023</time><span class=\"card-full-news__info-item card-full-news__rubric\">Мир</span></div></a></li>,\n <li class=\"rubric-page__item _news\"><a class=\"card-full-news _subrubric\" href=\"/news/2023/09/19/china/\"><h3 class=\"card-full-news__title\">Раскрыта тайна исчезновения экс-главы МИД Китая</h3><div class=\"card-full-news__info\"><time class=\"card-full-news__info-item card-full-news__date\">13:02, 19 сентября 2023</time><span class=\"card-full-news__info-item card-full-news__rubric\">Мир</span></div></a></li>,\n <li class=\"rubric-page__item _news\"><a class=\"card-full-news _subrubric\" href=\"/news/2023/09/19/berlinunikritik/\"><h3 class=\"card-full-news__title\">Берлинские студенты раскритиковали антироссийскую выставку за военную пропаганду</h3><div class=\"card-full-news__info\"><time class=\"card-full-news__info-item card-full-news__date\">12:15, 19 сентября 2023</time><span class=\"card-full-news__info-item card-full-news__rubric\">Мир</span></div></a></li>,\n <li class=\"rubric-page__item _news\"><a class=\"card-full-news _subrubric\" href=\"/news/2023/09/19/joe_on_protecting_democracy/\"><h3 class=\"card-full-news__title\">Байден объяснил желание переизбраться</h3><div class=\"card-full-news__info\"><time class=\"card-full-news__info-item card-full-news__date\">08:55, 19 сентября 2023</time><span class=\"card-full-news__info-item card-full-news__rubric\">Мир</span></div></a></li>,\n <li class=\"rubric-page__item _news\"><a class=\"card-full-news _subrubric\" href=\"/news/2023/09/19/arrested/\"><h3 class=\"card-full-news__title\">В США арестовали россиянина по обвинению в незаконном вывозе электроники</h3><div class=\"card-full-news__info\"><time class=\"card-full-news__info-item card-full-news__date\">00:26, 19 сентября 2023</time><span class=\"card-full-news__info-item card-full-news__rubric\">Мир</span></div></a></li>,\n <li class=\"rubric-page__item _news\"><a class=\"card-full-news _subrubric\" href=\"/news/2023/09/18/portugaliyadekolte/\"><h3 class=\"card-full-news__title\">Президент Португалии оконфузился из-за комментария о декольте женщины</h3><div class=\"card-full-news__info\"><time class=\"card-full-news__info-item card-full-news__date\">15:42, 18 сентября 2023</time><span class=\"card-full-news__info-item card-full-news__rubric\">Мир</span></div></a></li>,\n <li class=\"rubric-page__item _news\"><a class=\"card-full-news _subrubric\" href=\"/news/2023/09/18/trump_biden/\"><h3 class=\"card-full-news__title\">Американцы обеспокоились здоровьем Байдена</h3><div class=\"card-full-news__info\"><time class=\"card-full-news__info-item card-full-news__date\">10:17, 18 сентября 2023</time><span class=\"card-full-news__info-item card-full-news__rubric\">Мир</span></div></a></li>,\n <li class=\"rubric-page__item _news\"><a class=\"card-full-news _subrubric\" href=\"/news/2023/09/18/trump_will_be_back/\"><h3 class=\"card-full-news__title\">В Германии высказались о возможной победе Трампа</h3><div class=\"card-full-news__info\"><time class=\"card-full-news__info-item card-full-news__date\">09:37, 18 сентября 2023</time><span class=\"card-full-news__info-item card-full-news__rubric\">Мир</span></div></a></li>,\n <li class=\"rubric-page__item _news\"><a class=\"card-full-news _subrubric\" href=\"/news/2023/09/17/protesssstts/\"><h3 class=\"card-full-news__title\">В Брюсселе начались протесты против сексуального образования в школах</h3><div class=\"card-full-news__info\"><time class=\"card-full-news__info-item card-full-news__date\">22:11, 17 сентября 2023</time><span class=\"card-full-news__info-item card-full-news__rubric\">Мир</span></div></a></li>,\n <li class=\"rubric-page__item _news\"><a class=\"card-full-news _subrubric\" href=\"/news/2023/09/16/food/\"><h3 class=\"card-full-news__title\">Французский министр предложила обучать школьников готовить еду</h3><div class=\"card-full-news__info\"><time class=\"card-full-news__info-item card-full-news__date\">16:01, 16 сентября 2023</time><span class=\"card-full-news__info-item card-full-news__rubric\">Мир</span></div></a></li>,\n <li class=\"rubric-page__item _news\"><a class=\"card-full-news _subrubric\" href=\"/news/2023/09/16/korot/\"><h3 class=\"card-full-news__title\">Сына главного наркобарона современности экстрадировали в США</h3><div class=\"card-full-news__info\"><time class=\"card-full-news__info-item card-full-news__date\">10:26, 16 сентября 2023</time><span class=\"card-full-news__info-item card-full-news__rubric\">Мир</span></div></a></li>,\n <li class=\"rubric-page__item _news\"><a class=\"card-full-news _subrubric\" href=\"/news/2023/09/15/us_gershkovich/\"><h3 class=\"card-full-news__title\">Россия удовлетворила запрос США на посещение журналиста Гершковича</h3><div class=\"card-full-news__info\"><time class=\"card-full-news__info-item card-full-news__date\">13:52, 15 сентября 2023</time><span class=\"card-full-news__info-item card-full-news__rubric\">Мир</span></div></a></li>,\n <li class=\"rubric-page__item _news\"><a class=\"card-full-news _subrubric\" href=\"/news/2023/09/15/china_defense/\"><h3 class=\"card-full-news__title\">МИД Китая прокомментировал слухи об исчезновении главы Минобороны страны</h3><div class=\"card-full-news__info\"><time class=\"card-full-news__info-item card-full-news__date\">10:38, 15 сентября 2023</time><span class=\"card-full-news__info-item card-full-news__rubric\">Мир</span></div></a></li>,\n <li class=\"rubric-page__item _news\"><a class=\"card-full-news _subrubric\" href=\"/news/2023/09/15/us_trump/\"><h3 class=\"card-full-news__title\">Трамп предупредил о скатывании США в ад</h3><div class=\"card-full-news__info\"><time class=\"card-full-news__info-item card-full-news__date\">10:13, 15 сентября 2023</time><span class=\"card-full-news__info-item card-full-news__rubric\">Мир</span></div></a></li>,\n <li class=\"rubric-page__item _news\"><a class=\"card-full-news _subrubric\" href=\"/news/2023/09/15/lishangfu_resignation/\"><h3 class=\"card-full-news__title\">Cтала известна причина возможного отстранения министра обороны Китая</h3><div class=\"card-full-news__info\"><time class=\"card-full-news__info-item card-full-news__date\">09:23, 15 сентября 2023</time><span class=\"card-full-news__info-item card-full-news__rubric\">Мир</span></div></a></li>,\n <li class=\"rubric-page__item _news\"><a class=\"card-full-news _subrubric\" href=\"/news/2023/09/14/germany_nazi_scandal/\"><h3 class=\"card-full-news__title\">Нацистский скандал показал усталость немцев от вины за прошлое</h3><div class=\"card-full-news__info\"><time class=\"card-full-news__info-item card-full-news__date\">13:53, 14 сентября 2023</time><span class=\"card-full-news__info-item card-full-news__rubric\">Мир</span></div></a></li>,\n <li class=\"rubric-page__item _news\"><a class=\"card-full-news _subrubric\" href=\"/news/2023/09/13/protest_belgium/\"><h3 class=\"card-full-news__title\">Протестующие в Бельгии подожгли четыре школы из-за уроков о сексе</h3><div class=\"card-full-news__info\"><time class=\"card-full-news__info-item card-full-news__date\">19:06, 13 сентября 2023</time><span class=\"card-full-news__info-item card-full-news__rubric\">Мир</span></div></a></li>,\n <li class=\"rubric-page__item _news\"><a class=\"card-full-news _subrubric\" href=\"/news/2023/09/13/menu/\"><h3 class=\"card-full-news__title\">В меню обеда Путина и Ким Чен Ына попали пельмени с крабом и уха из амура</h3><div class=\"card-full-news__info\"><time class=\"card-full-news__info-item card-full-news__date\">11:30, 13 сентября 2023</time><span class=\"card-full-news__info-item card-full-news__rubric\">Мир</span></div></a></li>,\n <li class=\"rubric-page__item _news\"><a class=\"card-full-news _subrubric\" href=\"/news/2023/09/13/lanc/\"><h3 class=\"card-full-news__title\">Журналист из США заявил о считающем себя частью России Донбассе</h3><div class=\"card-full-news__info\"><time class=\"card-full-news__info-item card-full-news__date\">09:54, 13 сентября 2023</time><span class=\"card-full-news__info-item card-full-news__rubric\">Мир</span></div></a></li>,\n <li class=\"rubric-page__item _news\"><a class=\"card-full-news _subrubric\" href=\"/news/2023/09/13/bednost/\"><h3 class=\"card-full-news__title\">В США вдвое вырос показатель детской бедности</h3><div class=\"card-full-news__info\"><time class=\"card-full-news__info-item card-full-news__date\">05:45, 13 сентября 2023</time><span class=\"card-full-news__info-item card-full-news__rubric\">Мир</span></div></a></li>,\n <li class=\"rubric-page__item _news\"><a class=\"card-full-news _subrubric\" href=\"/news/2023/09/13/sigaretts/\"><h3 class=\"card-full-news__title\">В Ирландии обвинили двух украинцев в незаконной продаже сигарет</h3><div class=\"card-full-news__info\"><time class=\"card-full-news__info-item card-full-news__date\">04:31, 13 сентября 2023</time><span class=\"card-full-news__info-item card-full-news__rubric\">Мир</span></div></a></li>,\n <li class=\"rubric-page__item _news\"><a class=\"card-full-news _subrubric\" href=\"/news/2023/09/13/lidd/\"><h3 class=\"card-full-news__title\">Британцы пожаловались на тренировки украинских военных</h3><div class=\"card-full-news__info\"><time class=\"card-full-news__info-item card-full-news__date\">01:07, 13 сентября 2023</time><span class=\"card-full-news__info-item card-full-news__rubric\">Мир</span></div></a></li>,\n <li class=\"rubric-page__item _news\"><a class=\"card-full-news _subrubric\" href=\"/news/2023/09/12/impeachment/\"><h3 class=\"card-full-news__title\">В США начали расследование по импичменту Джо Байдена</h3><div class=\"card-full-news__info\"><time class=\"card-full-news__info-item card-full-news__date\">19:12, 12 сентября 2023</time><span class=\"card-full-news__info-item card-full-news__rubric\">Мир</span></div></a></li>,\n <li class=\"rubric-page__item _news\"><a class=\"card-full-news _subrubric\" href=\"/news/2023/09/11/us_files/\"><h3 class=\"card-full-news__title\">Публиковавшая секретные материалы военнослужащая США возобновила деятельность</h3><div class=\"card-full-news__info\"><time class=\"card-full-news__info-item card-full-news__date\">16:04, 11 сентября 2023</time><span class=\"card-full-news__info-item card-full-news__rubric\">Мир</span></div></a></li>,\n <li class=\"rubric-page__item _news\"><a class=\"card-full-news _subrubric\" href=\"/news/2023/09/11/problems/\"><h3 class=\"card-full-news__title\">В США заявили о проблемах с набором в армию</h3><div class=\"card-full-news__info\"><time class=\"card-full-news__info-item card-full-news__date\">04:12, 11 сентября 2023</time><span class=\"card-full-news__info-item card-full-news__rubric\">Мир</span></div></a></li>,\n <li class=\"rubric-page__item _news\"><a class=\"card-full-news _subrubric\" href=\"/news/2023/09/10/banke/\"><h3 class=\"card-full-news__title\">Европейский банк выставил копии паспортов россиян на виду у прохожих</h3><div class=\"card-full-news__info\"><time class=\"card-full-news__info-item card-full-news__date\">22:14, 10 сентября 2023</time><span class=\"card-full-news__info-item card-full-news__rubric\">Мир</span></div></a></li>,\n <li class=\"rubric-page__item _news\"><a class=\"card-full-news _subrubric\" href=\"/news/2023/09/10/driver/\"><h3 class=\"card-full-news__title\">Водителя Байдена отстранили за подвоз частного клиента</h3><div class=\"card-full-news__info\"><time class=\"card-full-news__info-item card-full-news__date\">08:23, 10 сентября 2023</time><span class=\"card-full-news__info-item card-full-news__rubric\">Мир</span></div></a></li>,\n <li class=\"rubric-page__item _news\"><a class=\"card-full-news _subrubric\" href=\"/news/2023/09/10/obrazovanie/\"><h3 class=\"card-full-news__title\">Стало известно о «шулерстве» Запада в рейтинговании ведущих вузов мира</h3><div class=\"card-full-news__info\"><time class=\"card-full-news__info-item card-full-news__date\">04:42, 10 сентября 2023</time><span class=\"card-full-news__info-item card-full-news__rubric\">Мир</span></div></a></li>,\n <li class=\"rubric-page__item _news\"><a class=\"card-full-news _subrubric\" href=\"/news/2023/09/10/shpion_/\"><h3 class=\"card-full-news__title\">Полиция арестовала предполагаемого китайского шпиона в британском парламенте</h3><div class=\"card-full-news__info\"><time class=\"card-full-news__info-item card-full-news__date\">01:11, 10 сентября 2023</time><span class=\"card-full-news__info-item card-full-news__rubric\">Мир</span></div></a></li>,\n <li class=\"rubric-page__item _news\"><a class=\"card-full-news _subrubric\" href=\"/news/2023/09/09/bell/\"><h3 class=\"card-full-news__title\">В Британии заявили о расхождении целей Украины в конфликте и стран Запада</h3><div class=\"card-full-news__info\"><time class=\"card-full-news__info-item card-full-news__date\">10:27, 9 сентября 2023</time><span class=\"card-full-news__info-item card-full-news__rubric\">Мир</span></div></a></li>,\n <li class=\"rubric-page__item _news\"><a class=\"card-full-news _subrubric\" href=\"/news/2023/09/09/slovakia/\"><h3 class=\"card-full-news__title\">В европейской стране перед выборами усилились антиукраинские настроения</h3><div class=\"card-full-news__info\"><time class=\"card-full-news__info-item card-full-news__date\">03:32, 9 сентября 2023</time><span class=\"card-full-news__info-item card-full-news__rubric\">Мир</span></div></a></li>,\n <li class=\"rubric-page__item _news\"><a class=\"card-full-news _subrubric\" href=\"/news/2023/09/07/peru_russia/\"><h3 class=\"card-full-news__title\">В Перу задержали бежавшего после начала СВО россиянина</h3><div class=\"card-full-news__info\"><time class=\"card-full-news__info-item card-full-news__date\">18:38, 7 сентября 2023</time><span class=\"card-full-news__info-item card-full-news__rubric\">Мир</span></div></a></li>,\n <li class=\"rubric-page__item _news\"><a class=\"card-full-news _subrubric\" href=\"/news/2023/09/07/vozduh/\"><h3 class=\"card-full-news__title\">Международный день чистого воздуха отметили в мире</h3><div class=\"card-full-news__info\"><time class=\"card-full-news__info-item card-full-news__date\">16:10, 7 сентября 2023</time><span class=\"card-full-news__info-item card-full-news__rubric\">Мир</span></div></a></li>,\n <li class=\"rubric-page__item _news\"><a class=\"card-full-news _subrubric\" href=\"/news/2023/09/07/un_pew_research_center/\"><h3 class=\"card-full-news__title\">Опрос раскрыл степень доверия к ООН по всему миру</h3><div class=\"card-full-news__info\"><time class=\"card-full-news__info-item card-full-news__date\">13:26, 7 сентября 2023</time><span class=\"card-full-news__info-item card-full-news__rubric\">Мир</span></div></a></li>,\n <li class=\"rubric-page__item _news\"><a class=\"card-full-news _subrubric\" href=\"/news/2023/09/06/svboon/\"><h3 class=\"card-full-news__title\">Россия запросила заседание Совбеза ООН</h3><div class=\"card-full-news__info\"><time class=\"card-full-news__info-item card-full-news__date\">18:47, 6 сентября 2023</time><span class=\"card-full-news__info-item card-full-news__rubric\">Мир</span></div></a></li>,\n <li class=\"rubric-page__item _news\"><a class=\"card-full-news _subrubric\" href=\"/news/2023/09/06/russia_germany_foreign_afffairs/\"><h3 class=\"card-full-news__title\">В бундестаге поблагодарили Россию за несерьезное отношение к Бербок</h3><div class=\"card-full-news__info\"><time class=\"card-full-news__info-item card-full-news__date\">17:31, 6 сентября 2023</time><span class=\"card-full-news__info-item card-full-news__rubric\">Мир</span></div></a></li>,\n <li class=\"rubric-page__item _news\"><a class=\"card-full-news _subrubric\" href=\"/news/2023/09/06/us_harris_biden/\"><h3 class=\"card-full-news__title\">В США опровергли слухи о влиянии возраста Байдена на его работу</h3><div class=\"card-full-news__info\"><time class=\"card-full-news__info-item card-full-news__date\">12:53, 6 сентября 2023</time><span class=\"card-full-news__info-item card-full-news__rubric\">Мир</span></div></a></li>,\n <li class=\"rubric-page__item _news\"><a class=\"card-full-news _subrubric\" href=\"/news/2023/09/05/priostanoov/\"><h3 class=\"card-full-news__title\">United Airlines приостановила все полеты на территории США</h3><div class=\"card-full-news__info\"><time class=\"card-full-news__info-item card-full-news__date\">21:49, 5 сентября 2023</time><span class=\"card-full-news__info-item card-full-news__rubric\">Мир</span></div></a></li>,\n <li class=\"rubric-page__item _news\"><a class=\"card-full-news _subrubric\" href=\"/news/2023/09/05/europe_soros_global_south/\"><h3 class=\"card-full-news__title\">Фонд Сороса перенес деятельность из Европы в другие страны</h3><div class=\"card-full-news__info\"><time class=\"card-full-news__info-item card-full-news__date\">18:01, 5 сентября 2023</time><span class=\"card-full-news__info-item card-full-news__rubric\">Мир</span></div></a></li>,\n <li class=\"rubric-page__item _news\"><a class=\"card-full-news _subrubric\" href=\"/news/2023/09/05/smartpants/\"><h3 class=\"card-full-news__title\">Американские спецслужбы потратили 22 миллиона долларов на шпионские трусы</h3><div class=\"card-full-news__info\"><time class=\"card-full-news__info-item card-full-news__date\">17:57, 5 сентября 2023</time><span class=\"card-full-news__info-item card-full-news__rubric\">Мир</span></div></a></li>,\n <li class=\"rubric-page__item _news\"><a class=\"card-full-news _subrubric\" href=\"/news/2023/09/04/83839738/\"><h3 class=\"card-full-news__title\">Власти Нидерландов предупредили о росте числа беженцев с Украины в 2024 году</h3><div class=\"card-full-news__info\"><time class=\"card-full-news__info-item card-full-news__date\">19:29, 4 сентября 2023</time><span class=\"card-full-news__info-item card-full-news__rubric\">Мир</span></div></a></li>,\n <li class=\"rubric-page__item _news\"><a class=\"card-full-news _subrubric\" href=\"/news/2023/09/04/japan_russia_kurili/\"><h3 class=\"card-full-news__title\">Японцы не смогли попасть на Курилы и помолились в море</h3><div class=\"card-full-news__info\"><time class=\"card-full-news__info-item card-full-news__date\">13:08, 4 сентября 2023</time><span class=\"card-full-news__info-item card-full-news__rubric\">Мир</span></div></a></li>,\n <li class=\"rubric-page__item _news\"><a class=\"card-full-news _subrubric\" href=\"/news/2023/09/03/sozhgli/\"><h3 class=\"card-full-news__title\">В Швеции опять публично сожгли Коран</h3><div class=\"card-full-news__info\"><time class=\"card-full-news__info-item card-full-news__date\">16:49, 3 сентября 2023</time><span class=\"card-full-news__info-item card-full-news__rubric\">Мир</span></div></a></li>,\n <li class=\"rubric-page__item _news\"><a class=\"card-full-news _subrubric\" href=\"/news/2023/09/03/sigg_sigg/\"><h3 class=\"card-full-news__title\">Во Франции захотели запретить одноразовые электронные сигареты</h3><div class=\"card-full-news__info\"><time class=\"card-full-news__info-item card-full-news__date\">12:27, 3 сентября 2023</time><span class=\"card-full-news__info-item card-full-news__rubric\">Мир</span></div></a></li>,\n <li class=\"rubric-page__item _news\"><a class=\"card-full-news _subrubric\" href=\"/news/2023/09/03/bez_vyhodnyh/\"><h3 class=\"card-full-news__title\">На Тайване охранник проработал 42 дня без выходных и умер</h3><div class=\"card-full-news__info\"><time class=\"card-full-news__info-item card-full-news__date\">07:32, 3 сентября 2023</time><span class=\"card-full-news__info-item card-full-news__rubric\">Мир</span></div></a></li>,\n <li class=\"rubric-page__item _news\"><a class=\"card-full-news _subrubric\" href=\"/news/2023/09/02/komitet/\"><h3 class=\"card-full-news__title\">Нобелевский комитет отреагировал на признание Муратова иноагентом</h3><div class=\"card-full-news__info\"><time class=\"card-full-news__info-item card-full-news__date\">22:55, 2 сентября 2023</time><span class=\"card-full-news__info-item card-full-news__rubric\">Мир</span></div></a></li>,\n <li class=\"rubric-page__item _news\"><a class=\"card-full-news _subrubric\" href=\"/news/2023/09/02/pope/\"><h3 class=\"card-full-news__title\">Папа Римский призвал власти Монголии «вместе строить мирное будущее»</h3><div class=\"card-full-news__info\"><time class=\"card-full-news__info-item card-full-news__date\">17:36, 2 сентября 2023</time><span class=\"card-full-news__info-item card-full-news__rubric\">Мир</span></div></a></li>,\n <li class=\"rubric-page__item _news\"><a class=\"card-full-news _subrubric\" href=\"/news/2023/09/02/choroba/\"><h3 class=\"card-full-news__title\">Число заразившихся «болезнью легионеров» в Польше вновь увеличилось</h3><div class=\"card-full-news__info\"><time class=\"card-full-news__info-item card-full-news__date\">12:07, 2 сентября 2023</time><span class=\"card-full-news__info-item card-full-news__rubric\">Мир</span></div></a></li>,\n <li class=\"rubric-page__item _news\"><a class=\"card-full-news _subrubric\" href=\"/news/2023/09/01/alcohol_kills/\"><h3 class=\"card-full-news__title\">В США полицейский застрелил подозреваемую в краже чернокожую беременную женщину</h3><div class=\"card-full-news__info\"><time class=\"card-full-news__info-item card-full-news__date\">23:41, 1 сентября 2023</time><span class=\"card-full-news__info-item card-full-news__rubric\">Мир</span></div></a></li>,\n <li class=\"rubric-page__item _news\"><a class=\"card-full-news _subrubric\" href=\"/news/2023/09/01/biden_mcconnell/\"><h3 class=\"card-full-news__title\">80-летний Байден заступился за 81-летнего сенатора</h3><div class=\"card-full-news__info\"><time class=\"card-full-news__info-item card-full-news__date\">15:59, 1 сентября 2023</time><span class=\"card-full-news__info-item card-full-news__rubric\">Мир</span></div></a></li>,\n <li class=\"rubric-page__item _news\"><a class=\"card-full-news _subrubric\" href=\"/news/2023/09/01/russia_cyprus/\"><h3 class=\"card-full-news__title\">Посольство России на Кипре прокомментировало арест россиянина</h3><div class=\"card-full-news__info\"><time class=\"card-full-news__info-item card-full-news__date\">11:40, 1 сентября 2023</time><span class=\"card-full-news__info-item card-full-news__rubric\">Мир</span></div></a></li>,\n <li class=\"rubric-page__item _news\"><a class=\"card-full-news _subrubric\" href=\"/news/2023/08/31/kipr/\"><h3 class=\"card-full-news__title\">Россиянина арестовали на Кипре по запросу США</h3><div class=\"card-full-news__info\"><time class=\"card-full-news__info-item card-full-news__date\">00:05, 1 сентября 2023</time><span class=\"card-full-news__info-item card-full-news__rubric\">Мир</span></div></a></li>,\n <li class=\"rubric-page__item _news\"><a class=\"card-full-news _subrubric\" href=\"/news/2023/08/31/trump_is_marching_through_the_georgia/\"><h3 class=\"card-full-news__title\">Трамп отказался признать себя виновным во вмешательстве в выборы</h3><div class=\"card-full-news__info\"><time class=\"card-full-news__info-item card-full-news__date\">18:32, 31 августа 2023</time><span class=\"card-full-news__info-item card-full-news__rubric\">Мир</span></div></a></li>,\n <li class=\"rubric-page__item _news\"><a class=\"card-full-news _subrubric\" href=\"/news/2023/08/31/putinramafosa/\"><h3 class=\"card-full-news__title\">Путин выразил соболезнования президенту ЮАР из-за пожара</h3><div class=\"card-full-news__info\"><time class=\"card-full-news__info-item card-full-news__date\">15:11, 31 августа 2023</time><span class=\"card-full-news__info-item card-full-news__rubric\">Мир</span></div></a></li>,\n <li class=\"rubric-page__item _news\"><a class=\"card-full-news _subrubric\" href=\"/news/2023/08/31/korea_history_wars/\"><h3 class=\"card-full-news__title\">В Южной Корее из военной академии уберут бюст генерала из-за его связей с СССР</h3><div class=\"card-full-news__info\"><time class=\"card-full-news__info-item card-full-news__date\">14:48, 31 августа 2023</time><span class=\"card-full-news__info-item card-full-news__rubric\">Мир</span></div></a></li>,\n <li class=\"rubric-page__item _news\"><a class=\"card-full-news _subrubric\" href=\"/news/2023/08/31/chili/\"><h3 class=\"card-full-news__title\">В Чили займутся установлением судьбы пропавших в правление Пиночета</h3><div class=\"card-full-news__info\"><time class=\"card-full-news__info-item card-full-news__date\">08:05, 31 августа 2023</time><span class=\"card-full-news__info-item card-full-news__rubric\">Мир</span></div></a></li>,\n <li class=\"rubric-page__item _news\"><a class=\"card-full-news _subrubric\" href=\"/news/2023/08/30/china_afera/\"><h3 class=\"card-full-news__title\">В Индонезии задержаны десятки граждан КНР за любовный шантаж чиновников Китая</h3><div class=\"card-full-news__info\"><time class=\"card-full-news__info-item card-full-news__date\">14:24, 30 августа 2023</time><span class=\"card-full-news__info-item card-full-news__rubric\">Мир</span></div></a></li>,\n <li class=\"rubric-page__item _news\"><a class=\"card-full-news _subrubric\" href=\"/news/2023/08/30/kisidafukusima/\"><h3 class=\"card-full-news__title\">Премьер Японии съел продукты из Фукусимы</h3><div class=\"card-full-news__info\"><time class=\"card-full-news__info-item card-full-news__date\">10:11, 30 августа 2023</time><span class=\"card-full-news__info-item card-full-news__rubric\">Мир</span></div></a></li>,\n <li class=\"rubric-page__item _news\"><a class=\"card-full-news _subrubric\" href=\"/news/2023/08/30/britain_discrimination/\"><h3 class=\"card-full-news__title\">Британка подала иск за обращение «умная женщина» и проиграла</h3><div class=\"card-full-news__info\"><time class=\"card-full-news__info-item card-full-news__date\">08:26, 30 августа 2023</time><span class=\"card-full-news__info-item card-full-news__rubric\">Мир</span></div></a></li>,\n <li class=\"rubric-page__item _news\"><a class=\"card-full-news _subrubric\" href=\"/news/2023/08/30/wunderwaffe/\"><h3 class=\"card-full-news__title\">Украинские танки Leopard нанесли удар по немецким танкостроителям</h3><div class=\"card-full-news__info\"><time class=\"card-full-news__info-item card-full-news__date\">07:07, 30 августа 2023</time><span class=\"card-full-news__info-item card-full-news__rubric\">Мир</span></div></a></li>,\n <li class=\"rubric-page__item _news\"><a class=\"card-full-news _subrubric\" href=\"/news/2023/08/29/weiss_beer_house/\"><h3 class=\"card-full-news__title\">В Белом доме не смогли ответить на вопрос о пиве</h3><div class=\"card-full-news__info\"><time class=\"card-full-news__info-item card-full-news__date\">12:36, 29 августа 2023</time><span class=\"card-full-news__info-item card-full-news__rubric\">Мир</span></div></a></li>,\n <li class=\"rubric-page__item _news\"><a class=\"card-full-news _subrubric\" href=\"/news/2023/08/28/us_politburo/\"><h3 class=\"card-full-news__title\">Избиратели США оценили негативные факторы преклонного возраста Байдена</h3><div class=\"card-full-news__info\"><time class=\"card-full-news__info-item card-full-news__date\">11:08, 28 августа 2023</time><span class=\"card-full-news__info-item card-full-news__rubric\">Мир</span></div></a></li>,\n <li class=\"rubric-page__item _news\"><a class=\"card-full-news _subrubric\" href=\"/news/2023/08/28/eu_membership/\"><h3 class=\"card-full-news__title\">Названы возможные сроки расширения ЕС</h3><div class=\"card-full-news__info\"><time class=\"card-full-news__info-item card-full-news__date\">10:16, 28 августа 2023</time><span class=\"card-full-news__info-item card-full-news__rubric\">Мир</span></div></a></li>,\n <li class=\"rubric-page__item _news\"><a class=\"card-full-news _subrubric\" href=\"/news/2023/08/28/taiwan_foxconn/\"><h3 class=\"card-full-news__title\">Новым кандидатом в президенты Тайваня станет основатель «города iPhone»</h3><div class=\"card-full-news__info\"><time class=\"card-full-news__info-item card-full-news__date\">09:38, 28 августа 2023</time><span class=\"card-full-news__info-item card-full-news__rubric\">Мир</span></div></a></li>,\n <li class=\"rubric-page__item _news\"><a class=\"card-full-news _subrubric\" href=\"/news/2023/08/28/brasleeet/\"><h3 class=\"card-full-news__title\">В Британии мигрантам выдадут GPS-браслеты для слежки за ними</h3><div class=\"card-full-news__info\"><time class=\"card-full-news__info-item card-full-news__date\">03:31, 28 августа 2023</time><span class=\"card-full-news__info-item card-full-news__rubric\">Мир</span></div></a></li>,\n <li class=\"rubric-page__item _news\"><a class=\"card-full-news _subrubric\" href=\"/news/2023/08/28/francemus/\"><h3 class=\"card-full-news__title\">Школьникам во Франции запретят ношение мусульманской одежды</h3><div class=\"card-full-news__info\"><time class=\"card-full-news__info-item card-full-news__date\">00:49, 28 августа 2023</time><span class=\"card-full-news__info-item card-full-news__rubric\">Мир</span></div></a></li>,\n <li class=\"rubric-page__item _news\"><a class=\"card-full-news _subrubric\" href=\"/news/2023/08/27/park/\"><h3 class=\"card-full-news__title\">Талибы запретили женщинам посещать национальный парк</h3><div class=\"card-full-news__info\"><time class=\"card-full-news__info-item card-full-news__date\">18:10, 27 августа 2023</time><span class=\"card-full-news__info-item card-full-news__rubric\">Мир</span></div></a></li>,\n <li class=\"rubric-page__item _news\"><a class=\"card-full-news _subrubric\" href=\"/news/2023/08/27/zakharrr/\"><h3 class=\"card-full-news__title\">Захарова высмеяла присланную ей из отеля в Швейцарии анкету</h3><div class=\"card-full-news__info\"><time class=\"card-full-news__info-item card-full-news__date\">12:01, 27 августа 2023</time><span class=\"card-full-news__info-item card-full-news__rubric\">Мир</span></div></a></li>,\n <li class=\"rubric-page__item _news\"><a class=\"card-full-news _subrubric\" href=\"/news/2023/08/27/comeback/\"><h3 class=\"card-full-news__title\">КНДР разрешила своим гражданам вернуться на родину</h3><div class=\"card-full-news__info\"><time class=\"card-full-news__info-item card-full-news__date\">07:58, 27 августа 2023</time><span class=\"card-full-news__info-item card-full-news__rubric\">Мир</span></div></a></li>,\n <li class=\"rubric-page__item _news\"><a class=\"card-full-news _subrubric\" href=\"/news/2023/08/26/sin/\"><h3 class=\"card-full-news__title\">В Ватикане назвали главный грех журналистики</h3><div class=\"card-full-news__info\"><time class=\"card-full-news__info-item card-full-news__date\">22:29, 26 августа 2023</time><span class=\"card-full-news__info-item card-full-news__rubric\">Мир</span></div></a></li>,\n <li class=\"rubric-page__item _news\"><a class=\"card-full-news _subrubric\" href=\"/news/2023/08/26/schoolshooting/\"><h3 class=\"card-full-news__title\">В США ранены четыре человека из-за стрельбы на школьном матче</h3><div class=\"card-full-news__info\"><time class=\"card-full-news__info-item card-full-news__date\">11:27, 26 августа 2023</time><span class=\"card-full-news__info-item card-full-news__rubric\">Мир</span></div></a></li>,\n <li class=\"rubric-page__item _news\"><a class=\"card-full-news _subrubric\" href=\"/news/2023/08/26/azot/\"><h3 class=\"card-full-news__title\">В США впервые казнят заключенного при помощи азота</h3><div class=\"card-full-news__info\"><time class=\"card-full-news__info-item card-full-news__date\">10:30, 26 августа 2023</time><span class=\"card-full-news__info-item card-full-news__rubric\">Мир</span></div></a></li>,\n <li class=\"rubric-page__item _news\"><a class=\"card-full-news _subrubric\" href=\"/news/2023/08/26/shtraf/\"><h3 class=\"card-full-news__title\">Эстонские пограничники оштрафовали водителя за геогриевскую ленточку</h3><div class=\"card-full-news__info\"><time class=\"card-full-news__info-item card-full-news__date\">05:05, 26 августа 2023</time><span class=\"card-full-news__info-item card-full-news__rubric\">Мир</span></div></a></li>,\n <li class=\"rubric-page__item _news\"><a class=\"card-full-news _subrubric\" href=\"/news/2023/08/25/denmark_quran/\"><h3 class=\"card-full-news__title\">В Дании запретят сожжение Корана на законодательном уровне</h3><div class=\"card-full-news__info\"><time class=\"card-full-news__info-item card-full-news__date\">13:36, 25 августа 2023</time><span class=\"card-full-news__info-item card-full-news__rubric\">Мир</span></div></a></li>,\n <li class=\"rubric-page__item _news\"><a class=\"card-full-news _subrubric\" href=\"/news/2023/08/25/japan_russia_islands/\"><h3 class=\"card-full-news__title\">В Японии пожелали продолжить гуманитарное сотрудничество с Россией</h3><div class=\"card-full-news__info\"><time class=\"card-full-news__info-item card-full-news__date\">10:37, 25 августа 2023</time><span class=\"card-full-news__info-item card-full-news__rubric\">Мир</span></div></a></li>,\n <li class=\"rubric-page__item _news\"><a class=\"card-full-news _subrubric\" href=\"/news/2023/08/24/tolkofakti/\"><h3 class=\"card-full-news__title\">Лавров призвал опираться на факты в деле о крушении самолета Пригожина</h3><div class=\"card-full-news__info\"><time class=\"card-full-news__info-item card-full-news__date\">19:59, 24 августа 2023</time><span class=\"card-full-news__info-item card-full-news__rubric\">Мир</span></div></a></li>,\n <li class=\"rubric-page__item _news\"><a class=\"card-full-news _subrubric\" href=\"/news/2023/08/24/do_you_even_lift/\"><h3 class=\"card-full-news__title\">Трампа задел внешний вид Байдена на пляже</h3><div class=\"card-full-news__info\"><time class=\"card-full-news__info-item card-full-news__date\">19:07, 24 августа 2023</time><span class=\"card-full-news__info-item card-full-news__rubric\">Мир</span></div></a></li>,\n <li class=\"rubric-page__item _news\"><a class=\"card-full-news _subrubric\" href=\"/news/2023/08/24/jjj/\"><h3 class=\"card-full-news__title\">Япония начала сброс воды с «Фукусимы»</h3><div class=\"card-full-news__info\"><time class=\"card-full-news__info-item card-full-news__date\">07:24, 24 августа 2023</time><span class=\"card-full-news__info-item card-full-news__rubric\">Мир</span></div></a></li>,\n <li class=\"rubric-page__item _news\"><a class=\"card-full-news _subrubric\" href=\"/news/2023/08/24/bloody_nurse/\"><h3 class=\"card-full-news__title\">В Британии начали собирать деньги для осужденной за убийство детей медсестры</h3><div class=\"card-full-news__info\"><time class=\"card-full-news__info-item card-full-news__date\">07:20, 24 августа 2023</time><span class=\"card-full-news__info-item card-full-news__rubric\">Мир</span></div></a></li>,\n <li class=\"rubric-page__item _news\"><a class=\"card-full-news _subrubric\" href=\"/news/2023/08/24/ms/\"><h3 class=\"card-full-news__title\">Маск захотел засудить фонд Сороса</h3><div class=\"card-full-news__info\"><time class=\"card-full-news__info-item card-full-news__date\">06:02, 24 августа 2023</time><span class=\"card-full-news__info-item card-full-news__rubric\">Мир</span></div></a></li>,\n <li class=\"rubric-page__item _news\"><a class=\"card-full-news _subrubric\" href=\"/news/2023/08/23/trump_georgia_pride/\"><h3 class=\"card-full-news__title\">Трамп заявил о готовности с гордостью пойти под арест</h3><div class=\"card-full-news__info\"><time class=\"card-full-news__info-item card-full-news__date\">16:03, 23 августа 2023</time><span class=\"card-full-news__info-item card-full-news__rubric\">Мир</span></div></a></li>,\n <li class=\"rubric-page__item _news\"><a class=\"card-full-news _subrubric\" href=\"/news/2023/08/23/brics_south_africa_woman/\"><h3 class=\"card-full-news__title\">Президент ЮАР поблагодарил Путина за поддержку женщин</h3><div class=\"card-full-news__info\"><time class=\"card-full-news__info-item card-full-news__date\">15:41, 23 августа 2023</time><span class=\"card-full-news__info-item card-full-news__rubric\">Мир</span></div></a></li>,\n <li class=\"rubric-page__item _news\"><a class=\"card-full-news _subrubric\" href=\"/news/2023/08/23/china_south_korea_gulag/\"><h3 class=\"card-full-news__title\">Китайский политзаключенный бежал в Южную Корею на гидроцикле</h3><div class=\"card-full-news__info\"><time class=\"card-full-news__info-item card-full-news__date\">12:54, 23 августа 2023</time><span class=\"card-full-news__info-item card-full-news__rubric\">Мир</span></div></a></li>,\n <li class=\"rubric-page__item _news\"><a class=\"card-full-news _subrubric\" href=\"/news/2023/08/23/eg/\"><h3 class=\"card-full-news__title\">Еще в одной стране выявили новый вариант коронавируса «эрис»</h3><div class=\"card-full-news__info\"><time class=\"card-full-news__info-item card-full-news__date\">05:54, 23 августа 2023</time><span class=\"card-full-news__info-item card-full-news__rubric\">Мир</span></div></a></li>,\n <li class=\"rubric-page__item _news\"><a class=\"card-full-news _subrubric\" href=\"/news/2023/08/22/cslaves_of_the_caribbean/\"><h3 class=\"card-full-news__title\">В ООН потребовали репараций от Великобритании за работорговлю</h3><div class=\"card-full-news__info\"><time class=\"card-full-news__info-item card-full-news__date\">18:49, 22 августа 2023</time><span class=\"card-full-news__info-item card-full-news__rubric\">Мир</span></div></a></li>,\n <li class=\"rubric-page__item _news\"><a class=\"card-full-news _subrubric\" href=\"/news/2023/10/28/studentka-umerla-v-irane-posle-zaderzhaniya-iz-za-otsutstviya-hidzhaba/\"><h3 class=\"card-full-news__title\">Студентка умерла в Иране после задержания из-за отсутствия хиджаба</h3><div class=\"card-full-news__info\"><time class=\"card-full-news__info-item card-full-news__date\">17:15</time><span class=\"card-full-news__info-item card-full-news__rubric\">Мир</span></div></a></li>,\n <li class=\"rubric-page__item _news\"><a class=\"card-full-news _subrubric\" href=\"/news/2023/10/27/v-yuzhnoy-koree-nazvali-predpolagaemogo-preemnika-kim-chen-yna/\"><h3 class=\"card-full-news__title\">В Южной Корее назвали предполагаемого преемника Ким Чен Ына</h3><div class=\"card-full-news__info\"><time class=\"card-full-news__info-item card-full-news__date\">15:15, 27 октября 2023</time><span class=\"card-full-news__info-item card-full-news__rubric\">Мир</span></div></a></li>,\n <li class=\"rubric-page__item _news\"><a class=\"card-full-news _subrubric\" href=\"/news/2023/10/27/stalo-izvestno-o-popadanii-rakety-v-zhiloe-zdanie-v-tel-avive/\"><h3 class=\"card-full-news__title\">Стало известно о попадании ракеты в жилое здание в Тель-Авиве</h3><div class=\"card-full-news__info\"><time class=\"card-full-news__info-item card-full-news__date\">15:05, 27 октября 2023</time><span class=\"card-full-news__info-item card-full-news__rubric\">Мир</span></div></a></li>,\n <li class=\"rubric-page__item _news\"><a class=\"card-full-news _subrubric\" href=\"/news/2023/10/27/mid-izrailya-nazval-amnesty-international-antisemitskoy-organizatsiey/\"><h3 class=\"card-full-news__title\">МИД Израиля назвал Amnesty International антисемитской организацией</h3><div class=\"card-full-news__info\"><time class=\"card-full-news__info-item card-full-news__date\">11:07, 27 октября 2023</time><span class=\"card-full-news__info-item card-full-news__rubric\">Мир</span></div></a></li>,\n <li class=\"rubric-page__item _news\"><a class=\"card-full-news _subrubric\" href=\"/news/2023/10/27/novyy-spiker-palaty-predstaviteley-dopustil-impichment-baydena/\"><h3 class=\"card-full-news__title\">Новый спикер Палаты представителей допустил импичмент Байдена</h3><div class=\"card-full-news__info\"><time class=\"card-full-news__info-item card-full-news__date\">08:21, 27 октября 2023</time><span class=\"card-full-news__info-item card-full-news__rubric\">Мир</span></div></a></li>,\n <li class=\"rubric-page__item _news\"><a class=\"card-full-news _subrubric\" href=\"/news/2023/10/26/organizatora-aktsiy-s-sozhzheniem-korana-deportiruyut-iz-shvetsii/\"><h3 class=\"card-full-news__title\">Организатора акций с сожжением Корана депортируют из Швеции</h3><div class=\"card-full-news__info\"><time class=\"card-full-news__info-item card-full-news__date\">22:43, 26 октября 2023</time><span class=\"card-full-news__info-item card-full-news__rubric\">Мир</span></div></a></li>,\n <li class=\"rubric-page__item _news\"><a class=\"card-full-news _subrubric\" href=\"/news/2023/10/26/v-ssha-utochnili-chislo-zhertv-lyuistonskogo-strelka/\"><h3 class=\"card-full-news__title\">В США уточнили число жертв льюистонского стрелка</h3><div class=\"card-full-news__info\"><time class=\"card-full-news__info-item card-full-news__date\">18:29, 26 октября 2023</time><span class=\"card-full-news__info-item card-full-news__rubric\">Мир</span></div></a></li>,\n <li class=\"rubric-page__item _news\"><a class=\"card-full-news _subrubric\" href=\"/news/2023/10/26/on-slyshal-golosa-v-golove-chto-izvestno-o-lichnosti-voennogo-ustroivshego-samoe-massovoe-ubiystvo-v-ssha-v-2023-godu/\"><h3 class=\"card-full-news__title\">«Он слышал голоса в голове» Что известно о стрелке, устроившем самое массовое убийство в США в 2023 году?</h3><div class=\"card-full-news__info\"><time class=\"card-full-news__info-item card-full-news__date\">14:06, 26 октября 2023</time><span class=\"card-full-news__info-item card-full-news__rubric\">Мир</span><svg class=\"card-full-news__info-item card-full-news__super-news\"><use xlink:href=\"#ui-super-news\"></use></svg></div></a></li>,\n <li class=\"rubric-page__item _news\"><a class=\"card-full-news _subrubric\" href=\"/news/2023/10/26/russkoe-podvorie-v-ierusalime-zayavilo-o-gotovnosti-prinyat-bezhentsev/\"><h3 class=\"card-full-news__title\">Русское подворье в Иерусалиме заявило о готовности принять беженцев</h3><div class=\"card-full-news__info\"><time class=\"card-full-news__info-item card-full-news__date\">13:49, 26 октября 2023</time><span class=\"card-full-news__info-item card-full-news__rubric\">Мир</span></div></a></li>,\n <li class=\"rubric-page__item _news\"><a class=\"card-full-news _subrubric\" href=\"/news/2023/10/26/vo-vremya-strelby-v-listone-odin-iz-spasshihsya-zalez-v-mashinu-dlya-boulinga/\"><h3 class=\"card-full-news__title\">Во время стрельбы в Льюистоне один из спасшихся залез в машину для боулинга</h3><div class=\"card-full-news__info\"><time class=\"card-full-news__info-item card-full-news__date\">13:15, 26 октября 2023</time><span class=\"card-full-news__info-item card-full-news__rubric\">Мир</span></div></a></li>,\n <li class=\"rubric-page__item _news\"><a class=\"card-full-news _subrubric\" href=\"/news/2023/10/25/bayden-zaprosil-1-55-milliarda-dollarov-na-borbu-s-fentanilom-v-ssha/\"><h3 class=\"card-full-news__title\">Байден запросил полтора миллиарда долларов на борьбу с популярным обезболивающим</h3><div class=\"card-full-news__info\"><time class=\"card-full-news__info-item card-full-news__date\">01:36, 26 октября 2023</time><span class=\"card-full-news__info-item card-full-news__rubric\">Мир</span></div></a></li>,\n <li class=\"rubric-page__item _news\"><a class=\"card-full-news _subrubric\" href=\"/news/2023/10/25/pol/\"><h3 class=\"card-full-news__title\">В Японии отменили обязательную стерилизацию для меняющих пол</h3><div class=\"card-full-news__info\"><time class=\"card-full-news__info-item card-full-news__date\">21:12, 25 октября 2023</time><span class=\"card-full-news__info-item card-full-news__rubric\">Мир</span></div></a></li>,\n <li class=\"rubric-page__item _news\"><a class=\"card-full-news _subrubric\" href=\"/news/2023/10/25/putin-vyrazil-soboleznovaniya-semyam-pogibshih-v-rezultate-ataki-hamas/\"><h3 class=\"card-full-news__title\">Путин выразил соболезнования семьям погибших в результате атаки ХАМАС</h3><div class=\"card-full-news__info\"><time class=\"card-full-news__info-item card-full-news__date\">20:46, 25 октября 2023</time><span class=\"card-full-news__info-item card-full-news__rubric\">Мир</span></div></a></li>,\n <li class=\"rubric-page__item _news\"><a class=\"card-full-news _subrubric\" href=\"/news/2023/10/25/premier-italii-potrebovala-kompensatsiyu-za-feykovyy-pornorolik-s-ee-uchastiem/\"><h3 class=\"card-full-news__title\">Премьер Италии потребовала компенсацию за фейковый порноролик с ее участием</h3><div class=\"card-full-news__info\"><time class=\"card-full-news__info-item card-full-news__date\">20:37, 25 октября 2023</time><span class=\"card-full-news__info-item card-full-news__rubric\">Мир</span></div></a></li>,\n <li class=\"rubric-page__item _news\"><a class=\"card-full-news _subrubric\" href=\"/news/2023/10/25/v-strane-nato-proizoshel-vzryv-na-krupneyshem-zavode-boepripasov/\"><h3 class=\"card-full-news__title\">В стране НАТО произошел взрыв на крупнейшем заводе боеприпасов</h3><div class=\"card-full-news__info\"><time class=\"card-full-news__info-item card-full-news__date\">17:53, 25 октября 2023</time><span class=\"card-full-news__info-item card-full-news__rubric\">Мир</span></div></a></li>,\n <li class=\"rubric-page__item _news\"><a class=\"card-full-news _subrubric\" href=\"/news/2023/10/25/v-germanii-zahoteli-otkazyvat-v-grazhdanstve-antisemitam/\"><h3 class=\"card-full-news__title\">В Германии захотели отказывать в гражданстве антисемитам</h3><div class=\"card-full-news__info\"><time class=\"card-full-news__info-item card-full-news__date\">15:12, 25 октября 2023</time><span class=\"card-full-news__info-item card-full-news__rubric\">Мир</span></div></a></li>,\n <li class=\"rubric-page__item _news\"><a class=\"card-full-news _subrubric\" href=\"/news/2023/10/25/v-ssha-chislo-antisemitskih-intsidentov-vyroslo-na-400-protsentov/\"><h3 class=\"card-full-news__title\">В США число антисемитских инцидентов выросло на 400 процентов</h3><div class=\"card-full-news__info\"><time class=\"card-full-news__info-item card-full-news__date\">14:22, 25 октября 2023</time><span class=\"card-full-news__info-item card-full-news__rubric\">Мир</span></div></a></li>,\n <li class=\"rubric-page__item _news\"><a class=\"card-full-news _subrubric\" href=\"/news/2023/10/25/glava-evrodiplomatii-otvetil-orbanu-na-sravnenie-es-s-sovetskoy-okkupatsiey/\"><h3 class=\"card-full-news__title\">Глава евродипломатии ответил Орбану на сравнение ЕС с советской оккупацией</h3><div class=\"card-full-news__info\"><time class=\"card-full-news__info-item card-full-news__date\">14:06, 25 октября 2023</time><span class=\"card-full-news__info-item card-full-news__rubric\">Мир</span></div></a></li>,\n <li class=\"rubric-page__item _news\"><a class=\"card-full-news _subrubric\" href=\"/news/2023/10/25/papa-rimskiy-pomolilsya-o-mire-na-blizhnem-vostok-i-ukraine/\"><h3 class=\"card-full-news__title\">Папа Римский высказался о захваченных ХАМАС израильских заложниках</h3><div class=\"card-full-news__info\"><time class=\"card-full-news__info-item card-full-news__date\">12:04, 25 октября 2023</time><span class=\"card-full-news__info-item card-full-news__rubric\">Мир</span></div></a></li>,\n <li class=\"rubric-page__item _news\"><a class=\"card-full-news _subrubric\" href=\"/news/2023/10/25/papa-rimskiy-pomolilsya-o-mire-na-blizhnem-vostok-i-ukraine/\"><h3 class=\"card-full-news__title\">Папа Римский высказался о захваченных ХАМАС израильских заложниках</h3><div class=\"card-full-news__info\"><time class=\"card-full-news__info-item card-full-news__date\">12:04, 25 октября 2023</time><span class=\"card-full-news__info-item card-full-news__rubric\">Мир</span></div></a></li>,\n <li class=\"rubric-page__item _news\"><a class=\"card-full-news _subrubric\" href=\"/news/2023/10/24/v-ispanii-protestuyuschie-pozharnye-primenili-ognemet-protiv-politseyskih/\"><h3 class=\"card-full-news__title\">В Испании протестующие пожарные применили огнемет против полицейских</h3><div class=\"card-full-news__info\"><time class=\"card-full-news__info-item card-full-news__date\">12:14, 24 октября 2023</time><span class=\"card-full-news__info-item card-full-news__rubric\">Мир</span></div></a></li>,\n <li class=\"rubric-page__item _news\"><a class=\"card-full-news _subrubric\" href=\"/news/2023/10/24/v-gonkonge-amerikanskogo-senatora-obvinili-v-hranenii-ognestrelnogo-oruzhiya/\"><h3 class=\"card-full-news__title\">В Гонконге американского сенатора обвинили в хранении огнестрельного оружия</h3><div class=\"card-full-news__info\"><time class=\"card-full-news__info-item card-full-news__date\">11:22, 24 октября 2023</time><span class=\"card-full-news__info-item card-full-news__rubric\">Мир</span></div></a></li>,\n <li class=\"rubric-page__item _news\"><a class=\"card-full-news _subrubric\" href=\"/news/2023/10/24/france/\"><h3 class=\"card-full-news__title\">Во Франции задержали кричавшего «Аллах акбар» мужчину с ножами</h3><div class=\"card-full-news__info\"><time class=\"card-full-news__info-item card-full-news__date\">01:50, 24 октября 2023</time><span class=\"card-full-news__info-item card-full-news__rubric\">Мир</span></div></a></li>,\n <li class=\"rubric-page__item _news\"><a class=\"card-full-news _subrubric\" href=\"/news/2023/10/23/v-britanii-otkazalis-ot-nayma-kitayskih-rabochih-iz-za-podozreniy-v-shpionazhe/\"><h3 class=\"card-full-news__title\">В Британии отказались от найма китайских рабочих из-за подозрений в шпионаже</h3><div class=\"card-full-news__info\"><time class=\"card-full-news__info-item card-full-news__date\">13:57, 23 октября 2023</time><span class=\"card-full-news__info-item card-full-news__rubric\">Мир</span></div></a></li>,\n <li class=\"rubric-page__item _news\"><a class=\"card-full-news _subrubric\" href=\"/news/2023/10/23/v-es-otsenili-shansy-na-polnuyu-pobedu-evroskeptikov-na-vyborah-v-shveytsarii/\"><h3 class=\"card-full-news__title\">В ЕС оценили шансы на полную победу евроскептиков на выборах в Швейцарии</h3><div class=\"card-full-news__info\"><time class=\"card-full-news__info-item card-full-news__date\">10:55, 23 октября 2023</time><span class=\"card-full-news__info-item card-full-news__rubric\">Мир</span></div></a></li>,\n <li class=\"rubric-page__item _news\"><a class=\"card-full-news _subrubric\" href=\"/news/2023/10/22/izrail-udalit-iz-shkolnoy-programmy-upominaniya-o-grete-tunberg/\"><h3 class=\"card-full-news__title\">Израиль удалит из школьной программы упоминания о Грете Тунберг</h3><div class=\"card-full-news__info\"><time class=\"card-full-news__info-item card-full-news__date\">03:09, 23 октября 2023</time><span class=\"card-full-news__info-item card-full-news__rubric\">Мир</span></div></a></li>,\n <li class=\"rubric-page__item _news\"><a class=\"card-full-news _subrubric\" href=\"/news/2023/10/22/irakskaya-armiya-i-kurdskie-otryady-peshmerga-zaklyuchili-peremirie/\"><h3 class=\"card-full-news__title\">Иракская армия и курдские отряды «Пешмерга» заключили перемирие</h3><div class=\"card-full-news__info\"><time class=\"card-full-news__info-item card-full-news__date\">21:29, 22 октября 2023</time><span class=\"card-full-news__info-item card-full-news__rubric\">Мир</span></div></a></li>,\n <li class=\"rubric-page__item _news\"><a class=\"card-full-news _subrubric\" href=\"/news/2023/10/22/two/\"><h3 class=\"card-full-news__title\">В ХАМАС заявили о готовности отпустить двух заложниц</h3><div class=\"card-full-news__info\"><time class=\"card-full-news__info-item card-full-news__date\">00:14, 22 октября 2023</time><span class=\"card-full-news__info-item card-full-news__rubric\">Мир</span></div></a></li>,\n <li class=\"rubric-page__item _news\"><a class=\"card-full-news _subrubric\" href=\"/news/2023/10/21/premiera-kanady-osvistali-musulmane/\"><h3 class=\"card-full-news__title\">Премьера Канады освистали мусульмане</h3><div class=\"card-full-news__info\"><time class=\"card-full-news__info-item card-full-news__date\">20:48, 21 октября 2023</time><span class=\"card-full-news__info-item card-full-news__rubric\">Мир</span></div></a></li>,\n <li class=\"rubric-page__item _news\"><a class=\"card-full-news _subrubric\" href=\"/news/2023/10/21/stalo-izvestno-o-zakrytii-kpp-rafah-posle-proezda-20-gruzovikov/\"><h3 class=\"card-full-news__title\">Стало известно о закрытии КПП «Рафах» после проезда 20 грузовиков</h3><div class=\"card-full-news__info\"><time class=\"card-full-news__info-item card-full-news__date\">11:46, 21 октября 2023</time><span class=\"card-full-news__info-item card-full-news__rubric\">Мир</span></div></a></li>,\n <li class=\"rubric-page__item _news\"><a class=\"card-full-news _subrubric\" href=\"/news/2023/10/21/egipet-otkryl-propusknoy-punkt-na-granitse-s-sektorom-gaza/\"><h3 class=\"card-full-news__title\">Египет открыл пропускной пункт на границе с сектором Газа</h3><div class=\"card-full-news__info\"><time class=\"card-full-news__info-item card-full-news__date\">10:21, 21 октября 2023</time><span class=\"card-full-news__info-item card-full-news__rubric\">Мир</span></div></a></li>,\n <li class=\"rubric-page__item _news\"><a class=\"card-full-news _subrubric\" href=\"/news/2023/10/20/prezident-nigera-popytalsya-sbezhat/\"><h3 class=\"card-full-news__title\">Президент Нигера попытался сбежать</h3><div class=\"card-full-news__info\"><time class=\"card-full-news__info-item card-full-news__date\">09:14, 20 октября 2023</time><span class=\"card-full-news__info-item card-full-news__rubric\">Мир</span></div></a></li>,\n <li class=\"rubric-page__item _news\"><a class=\"card-full-news _subrubric\" href=\"/news/2023/10/20/oon-soobschila-o-kollapse-sistemy-zdravoohraneniya-gazy/\"><h3 class=\"card-full-news__title\">ООН сообщила о грядущем коллапсе системы здравоохранения Газы</h3><div class=\"card-full-news__info\"><time class=\"card-full-news__info-item card-full-news__date\">08:37, 20 октября 2023</time><span class=\"card-full-news__info-item card-full-news__rubric\">Мир</span></div></a></li>,\n <li class=\"rubric-page__item _news\"><a class=\"card-full-news _subrubric\" href=\"/news/2023/10/20/ssha-vydvinuli-obvineniya-protiv-bezhavshego-v-kndr-soldata-kinga/\"><h3 class=\"card-full-news__title\">США выдвинули обвинения против бежавшего в КНДР солдата Кинга</h3><div class=\"card-full-news__info\"><time class=\"card-full-news__info-item card-full-news__date\">07:59, 20 октября 2023</time><span class=\"card-full-news__info-item card-full-news__rubric\">Мир</span></div></a></li>,\n <li class=\"rubric-page__item _news\"><a class=\"card-full-news _subrubric\" href=\"/news/2023/10/19/ierusalimskiy-patriarhat-nazval-udar-po-tserkvi-v-gaze-voennym-prestupleniem/\"><h3 class=\"card-full-news__title\">Иерусалимский патриархат назвал удар по церкви в Газе военным преступлением</h3><div class=\"card-full-news__info\"><time class=\"card-full-news__info-item card-full-news__date\">01:31, 20 октября 2023</time><span class=\"card-full-news__info-item card-full-news__rubric\">Мир</span></div></a></li>,\n <li class=\"rubric-page__item _news\"><a class=\"card-full-news _subrubric\" href=\"/news/2023/10/19/vs-izrailya-unichtozhili-grecheskuyu-pravoslavnuyu-tserkov-v-gaze/\"><h3 class=\"card-full-news__title\">ВС Израиля уничтожили греческую православную церковь в Газе</h3><div class=\"card-full-news__info\"><time class=\"card-full-news__info-item card-full-news__date\">00:05, 20 октября 2023</time><span class=\"card-full-news__info-item card-full-news__rubric\">Мир</span></div></a></li>,\n <li class=\"rubric-page__item _news\"><a class=\"card-full-news _subrubric\" href=\"/news/2023/10/19/opasnost/\"><h3 class=\"card-full-news__title\">Госдеп США предупредил американцев об опасности по всему миру</h3><div class=\"card-full-news__info\"><time class=\"card-full-news__info-item card-full-news__date\">21:39, 19 октября 2023</time><span class=\"card-full-news__info-item card-full-news__rubric\">Мир</span></div></a></li>,\n <li class=\"rubric-page__item _news\"><a class=\"card-full-news _subrubric\" href=\"/news/2023/10/19/v-es-obespokoilis-aktivnoy-vydachey-zolotyh-pasportov-rossiyanam-na-karibah/\"><h3 class=\"card-full-news__title\">В ЕС обеспокоились активной выдачей «золотых паспортов» россиянам на Карибах</h3><div class=\"card-full-news__info\"><time class=\"card-full-news__info-item card-full-news__date\">18:48, 19 октября 2023</time><span class=\"card-full-news__info-item card-full-news__rubric\">Мир</span></div></a></li>,\n <li class=\"rubric-page__item _news\"><a class=\"card-full-news _subrubric\" href=\"/news/2023/10/19/zaderzhannuyu-v-milane-rossiyskuyu-paru-deportiruyut-vo-frantsiyu/\"><h3 class=\"card-full-news__title\">Задержанную в Милане российскую пару депортируют во Францию</h3><div class=\"card-full-news__info\"><time class=\"card-full-news__info-item card-full-news__date\">14:58, 19 октября 2023</time><span class=\"card-full-news__info-item card-full-news__rubric\">Мир</span></div></a></li>,\n <li class=\"rubric-page__item _news\"><a class=\"card-full-news _subrubric\" href=\"/news/2023/10/18/chislo/\"><h3 class=\"card-full-news__title\">Названо число покинувших дома жителей Израиля из-за конфликта с Палестиной</h3><div class=\"card-full-news__info\"><time class=\"card-full-news__info-item card-full-news__date\">20:05, 18 октября 2023</time><span class=\"card-full-news__info-item card-full-news__rubric\">Мир</span></div></a></li>,\n <li class=\"rubric-page__item _news\"><a class=\"card-full-news _subrubric\" href=\"/news/2023/10/18/kanada-ne-stanet-vydavat-ukrainskogo-natsista-gunko-rossii/\"><h3 class=\"card-full-news__title\">В Канаде указали на невозможность выдачи нациста Гунько России</h3><div class=\"card-full-news__info\"><time class=\"card-full-news__info-item card-full-news__date\">18:26, 18 октября 2023</time><span class=\"card-full-news__info-item card-full-news__rubric\">Мир</span></div></a></li>,\n <li class=\"rubric-page__item _news\"><a class=\"card-full-news _subrubric\" href=\"/news/2023/10/18/v-gaze-zayavili-o-kritichnyh-zapasah-vody/\"><h3 class=\"card-full-news__title\">В Газе заявили о критичных запасах воды</h3><div class=\"card-full-news__info\"><time class=\"card-full-news__info-item card-full-news__date\">17:22, 18 октября 2023</time><span class=\"card-full-news__info-item card-full-news__rubric\">Мир</span></div></a></li>,\n <li class=\"rubric-page__item _news\"><a class=\"card-full-news _subrubric\" href=\"/news/2023/10/18/v-ssha-politsiya-zastrelila-otsidevshego-16-let-po-lozhnomu-obvineniyu-afroamerikantsa/\"><h3 class=\"card-full-news__title\">В США полиция застрелила отсидевшего 16 лет по ложному обвинению афроамериканца</h3><div class=\"card-full-news__info\"><time class=\"card-full-news__info-item card-full-news__date\">03:49, 18 октября 2023</time><span class=\"card-full-news__info-item card-full-news__rubric\">Мир</span></div></a></li>,\n <li class=\"rubric-page__item _news\"><a class=\"card-full-news _subrubric\" href=\"/news/2023/10/17/mid-rossii-prokommentiroval-rezolyutsiyu-pase-po-srokam-prezidentstva-putina/\"><h3 class=\"card-full-news__title\">МИД России прокомментировал резолюцию ПАСЕ по срокам президентства Путина</h3><div class=\"card-full-news__info\"><time class=\"card-full-news__info-item card-full-news__date\">14:08, 17 октября 2023</time><span class=\"card-full-news__info-item card-full-news__rubric\">Мир</span></div></a></li>,\n <li class=\"rubric-page__item _news\"><a class=\"card-full-news _subrubric\" href=\"/news/2023/10/17/belgiya-povysila-uroven-terroristicheskoy-ugrozy-do-maksimuma/\"><h3 class=\"card-full-news__title\">Бельгия повысила уровень террористической угрозы до максимума</h3><div class=\"card-full-news__info\"><time class=\"card-full-news__info-item card-full-news__date\">00:37, 17 октября 2023</time><span class=\"card-full-news__info-item card-full-news__rubric\">Мир</span></div></a></li>,\n <li class=\"rubric-page__item _news\"><a class=\"card-full-news _subrubric\" href=\"/news/2023/10/16/v-turtsii-sel-na-mel-shedshiy-na-ukrainu-suhogruz/\"><h3 class=\"card-full-news__title\">В Турции сел на мель шедший на Украину сухогруз</h3><div class=\"card-full-news__info\"><time class=\"card-full-news__info-item card-full-news__date\">22:17, 16 октября 2023</time><span class=\"card-full-news__info-item card-full-news__rubric\">Мир</span></div></a></li>,\n <li class=\"rubric-page__item _news\"><a class=\"card-full-news _subrubric\" href=\"/news/2023/10/16/v-turtsii-sel-na-mel-shedshiy-na-ukrainu-suhogruz/\"><h3 class=\"card-full-news__title\">В Турции сел на мель шедший на Украину сухогруз</h3><div class=\"card-full-news__info\"><time class=\"card-full-news__info-item card-full-news__date\">22:17, 16 октября 2023</time><span class=\"card-full-news__info-item card-full-news__rubric\">Мир</span></div></a></li>,\n <li class=\"rubric-page__item _news\"><a class=\"card-full-news _subrubric\" href=\"/news/2023/10/16/1200/\"><h3 class=\"card-full-news__title\">Подсчитано число находящихся под завалами в Газе человек</h3><div class=\"card-full-news__info\"><time class=\"card-full-news__info-item card-full-news__date\">21:18, 16 октября 2023</time><span class=\"card-full-news__info-item card-full-news__rubric\">Мир</span></div></a></li>,\n <li class=\"rubric-page__item _news\"><a class=\"card-full-news _subrubric\" href=\"/news/2023/10/16/v-frg-uzhestochat-kontrol-na-treh-granitsah-iz-za-nelegalnyh-migrantov/\"><h3 class=\"card-full-news__title\">В ФРГ введут контроль на трех границах из-за нелегальных мигрантов</h3><div class=\"card-full-news__info\"><time class=\"card-full-news__info-item card-full-news__date\">15:03, 16 октября 2023</time><span class=\"card-full-news__info-item card-full-news__rubric\">Мир</span></div></a></li>,\n <li class=\"rubric-page__item _news\"><a class=\"card-full-news _subrubric\" href=\"/news/2023/10/16/umer-stavshiy-laureatom-nobelevskoy-premii-mira-byvshiy-prezident-finlyandii/\"><h3 class=\"card-full-news__title\">Умер ставший лауреатом Нобелевской премии мира бывший президент Финляндии</h3><div class=\"card-full-news__info\"><time class=\"card-full-news__info-item card-full-news__date\">10:43, 16 октября 2023</time><span class=\"card-full-news__info-item card-full-news__rubric\">Мир</span></div></a></li>,\n <li class=\"rubric-page__item _news\"><a class=\"card-full-news _subrubric\" href=\"/news/2023/10/16/pravyaschaya-partiya-polshi-lidiruet-na-parlamentskih-vyborah/\"><h3 class=\"card-full-news__title\">Правящая партия Польши вырвалась вперед на парламентских выборах</h3><div class=\"card-full-news__info\"><time class=\"card-full-news__info-item card-full-news__date\">09:44, 16 октября 2023</time><span class=\"card-full-news__info-item card-full-news__rubric\">Мир</span></div></a></li>,\n <li class=\"rubric-page__item _news\"><a class=\"card-full-news _subrubric\" href=\"/news/2023/10/16/putin-zahotel-pogovorit-o-edinoborstvah-s-si-tszinpinom/\"><h3 class=\"card-full-news__title\">Путин захотел поговорить о единоборствах с Си Цзиньпином</h3><div class=\"card-full-news__info\"><time class=\"card-full-news__info-item card-full-news__date\">08:50, 16 октября 2023</time><span class=\"card-full-news__info-item card-full-news__rubric\">Мир</span></div></a></li>,\n <li class=\"rubric-page__item _news\"><a class=\"card-full-news _subrubric\" href=\"/news/2023/10/15/star/\"><h3 class=\"card-full-news__title\">В Берлине на домах евреев начали рисовать звезду Давида</h3><div class=\"card-full-news__info\"><time class=\"card-full-news__info-item card-full-news__date\">17:27, 15 октября 2023</time><span class=\"card-full-news__info-item card-full-news__rubric\">Мир</span></div></a></li>,\n <li class=\"rubric-page__item _news\"><a class=\"card-full-news _subrubric\" href=\"/news/2023/10/15/izrail-vozobnovil-podachu-vody-na-yuge-sektora-gaza/\"><h3 class=\"card-full-news__title\">Израиль возобновил подачу воды на юге сектора Газа</h3><div class=\"card-full-news__info\"><time class=\"card-full-news__info-item card-full-news__date\">17:20, 15 октября 2023</time><span class=\"card-full-news__info-item card-full-news__rubric\">Мир</span></div></a></li>,\n <li class=\"rubric-page__item _news\"><a class=\"card-full-news _subrubric\" href=\"/news/2023/10/15/v-voz-nazvali-smertnym-prigovorom-prikaz-izrailya-ob-evakuatsii-bolnits-v-gaze/\"><h3 class=\"card-full-news__title\">В ВОЗ назвали смертным приговором приказ Израиля об эвакуации больниц в Газе</h3><div class=\"card-full-news__info\"><time class=\"card-full-news__info-item card-full-news__date\">03:21, 15 октября 2023</time><span class=\"card-full-news__info-item card-full-news__rubric\">Мир</span></div></a></li>,\n <li class=\"rubric-page__item _news\"><a class=\"card-full-news _subrubric\" href=\"/news/2023/10/14/pomoschnika-mera-frantsuzskoy-kommuny-proveryat-iz-za-kritiki-izrailya/\"><h3 class=\"card-full-news__title\">Помощника мэра французской коммуны проверят из-за критики Израиля</h3><div class=\"card-full-news__info\"><time class=\"card-full-news__info-item card-full-news__date\">20:20, 14 октября 2023</time><span class=\"card-full-news__info-item card-full-news__rubric\">Мир</span></div></a></li>,\n <li class=\"rubric-page__item _news\"><a class=\"card-full-news _subrubric\" href=\"/news/2023/10/14/samyy-poseschaemyy-muzey-mira-zakrylsya-iz-za-ugrozy-vzryva/\"><h3 class=\"card-full-news__title\">Самый посещаемый музей мира закрылся из-за угрозы взрыва</h3><div class=\"card-full-news__info\"><time class=\"card-full-news__info-item card-full-news__date\">15:02, 14 октября 2023</time><span class=\"card-full-news__info-item card-full-news__rubric\">Мир</span></div></a></li>,\n <li class=\"rubric-page__item _news\"><a class=\"card-full-news _subrubric\" href=\"/news/2023/10/14/ne_roy_drugomu_yamu/\"><h3 class=\"card-full-news__title\">Высмеивавший Байдена сенатор упал с трапа самолета</h3><div class=\"card-full-news__info\"><time class=\"card-full-news__info-item card-full-news__date\">14:31, 14 октября 2023</time><span class=\"card-full-news__info-item card-full-news__rubric\">Мир</span><svg class=\"card-full-news__info-item card-full-news__play\"><use xlink:href=\"#ui-play\"></use></svg></div></a></li>,\n <li class=\"rubric-page__item _news\"><a class=\"card-full-news _subrubric\" href=\"/news/2023/10/14/newyork/\"><h3 class=\"card-full-news__title\">Тысячи людей вышли в Нью-Йорке в поддержку Палестины</h3><div class=\"card-full-news__info\"><time class=\"card-full-news__info-item card-full-news__date\">07:46, 14 октября 2023</time><span class=\"card-full-news__info-item card-full-news__rubric\">Мир</span></div></a></li>,\n <li class=\"rubric-page__item _news\"><a class=\"card-full-news _subrubric\" href=\"/news/2023/10/27/v-ssha-zayavili-o-shoke-iz-za-rossiyskogo-pvo-na-ukraine/\"><h3 class=\"card-full-news__title\">В США заявили о шоке от российских систем ПВО на Украине</h3><div class=\"card-full-news__info\"><time class=\"card-full-news__info-item card-full-news__date\">17:21, 27 октября 2023</time><span class=\"card-full-news__info-item card-full-news__rubric\">Мир</span></div></a></li>,\n <li class=\"rubric-page__item _news\"><a class=\"card-full-news _subrubric\" href=\"/news/2023/10/27/sammit-es-ne-smog-soglasovat-finansovuyu-pomosch-ukraine/\"><h3 class=\"card-full-news__title\">Саммит ЕС не смог согласовать финансовую помощь Украине</h3><div class=\"card-full-news__info\"><time class=\"card-full-news__info-item card-full-news__date\">16:48, 27 октября 2023</time><span class=\"card-full-news__info-item card-full-news__rubric\">Мир</span></div></a></li>,\n <li class=\"rubric-page__item _news\"><a class=\"card-full-news _subrubric\" href=\"/news/2023/10/27/v-hamas-nazvali-prichinu-nevozmozhnosti-osvobozhdeniya-zalozhnikov/\"><h3 class=\"card-full-news__title\">В ХАМАС назвали причину невозможности освобождения заложников</h3><div class=\"card-full-news__info\"><time class=\"card-full-news__info-item card-full-news__date\">16:25, 27 октября 2023</time><span class=\"card-full-news__info-item card-full-news__rubric\">Мир</span></div></a></li>,\n <li class=\"rubric-page__item _news\"><a class=\"card-full-news _subrubric\" href=\"/news/2023/10/27/kantsler-frg-rasskazal-ob-obespechenii-stabilnosti-na-ukraine/\"><h3 class=\"card-full-news__title\">В ЕС подумают об обеспечении стабильности на Украине</h3><div class=\"card-full-news__info\"><time class=\"card-full-news__info-item card-full-news__date\">16:08, 27 октября 2023</time><span class=\"card-full-news__info-item card-full-news__rubric\">Мир</span></div></a></li>,\n <li class=\"rubric-page__item _news\"><a class=\"card-full-news _subrubric\" href=\"/news/2023/10/27/glava-evrosoveta-zayavil-o-soglasii-ispolzovat-dohody-ot-chasti-sredstv-rossii/\"><h3 class=\"card-full-news__title\">Глава Евросовета заявил о согласии использовать доходы от части средств России</h3><div class=\"card-full-news__info\"><time class=\"card-full-news__info-item card-full-news__date\">16:01, 27 октября 2023</time><span class=\"card-full-news__info-item card-full-news__rubric\">Мир</span></div></a></li>,\n <li class=\"rubric-page__item _news\"><a class=\"card-full-news _subrubric\" href=\"/news/2023/10/27/v-hamas-otsenili-vozmozhnost-peremescheniyu-palestintsev-iz-gazy/\"><h3 class=\"card-full-news__title\">В ХАМАС оценили возможность перемещения палестинцев из Газы</h3><div class=\"card-full-news__info\"><time class=\"card-full-news__info-item card-full-news__date\">15:55, 27 октября 2023</time><span class=\"card-full-news__info-item card-full-news__rubric\">Мир</span></div></a></li>,\n <li class=\"rubric-page__item _news\"><a class=\"card-full-news _subrubric\" href=\"/news/2023/10/27/polskiy-polkovnik-rasskazal-o-provale-rotatsii-sil-vsu/\"><h3 class=\"card-full-news__title\">Польский полковник рассказал о провале ротации сил ВСУ</h3><div class=\"card-full-news__info\"><time class=\"card-full-news__info-item card-full-news__date\">15:20, 27 октября 2023</time><span class=\"card-full-news__info-item card-full-news__rubric\">Мир</span></div></a></li>,\n <li class=\"rubric-page__item _news\"><a class=\"card-full-news _subrubric\" href=\"/news/2023/10/27/v-yuzhnoy-koree-nazvali-predpolagaemogo-preemnika-kim-chen-yna/\"><h3 class=\"card-full-news__title\">В Южной Корее назвали предполагаемого преемника Ким Чен Ына</h3><div class=\"card-full-news__info\"><time class=\"card-full-news__info-item card-full-news__date\">15:15, 27 октября 2023</time><span class=\"card-full-news__info-item card-full-news__rubric\">Мир</span></div></a></li>,\n <li class=\"rubric-page__item _news\"><a class=\"card-full-news _subrubric\" href=\"/news/2023/10/27/v-hamas-zayavili-o-bolee-vnimatelnom-otnoshenii-k-zaprosam-rossii-po-zalozhnikam/\"><h3 class=\"card-full-news__title\">В ХАМАС заявили о более внимательном отношении к запросам России по заложникам</h3><div class=\"card-full-news__info\"><time class=\"card-full-news__info-item card-full-news__date\">15:03, 27 октября 2023</time><span class=\"card-full-news__info-item card-full-news__rubric\">Мир</span></div></a></li>,\n <li class=\"rubric-page__item _news\"><a class=\"card-full-news _subrubric\" href=\"/news/2023/10/27/v-ssha-zayavili-ob-unichtozhennoy-v-puh-i-prah-ukrainskoy-aviatsii/\"><h3 class=\"card-full-news__title\">В США заявили об уничтоженной «в пух и прах» украинской авиации</h3><div class=\"card-full-news__info\"><time class=\"card-full-news__info-item card-full-news__date\">14:58, 27 октября 2023</time><span class=\"card-full-news__info-item card-full-news__rubric\">Мир</span></div></a></li>,\n <li class=\"rubric-page__item _news\"><a class=\"card-full-news _subrubric\" href=\"/news/2023/10/27/orban-zayavil-o-vvedenii-ek-stran-es-v-zabluzhdenie-po-voprosu-uvelicheniya-byudzheta/\"><h3 class=\"card-full-news__title\">Орбан заявил о введении ЕК стран ЕС в заблуждение по вопросу увеличения бюджета</h3><div class=\"card-full-news__info\"><time class=\"card-full-news__info-item card-full-news__date\">14:35, 27 октября 2023</time><span class=\"card-full-news__info-item card-full-news__rubric\">Мир</span></div></a></li>,\n <li class=\"rubric-page__item _news\"><a class=\"card-full-news _subrubric\" href=\"/news/2023/10/27/peskov-prokommentiroval-udar-vvs-ssha-po-iranskim-skladam-oruzhiya-v-sirii/\"><h3 class=\"card-full-news__title\">Песков прокомментировал удар ВВС США по иранским складам оружия в Сирии</h3><div class=\"card-full-news__info\"><time class=\"card-full-news__info-item card-full-news__date\">14:35, 27 октября 2023</time><span class=\"card-full-news__info-item card-full-news__rubric\">Мир</span></div></a></li>,\n <li class=\"rubric-page__item _news\"><a class=\"card-full-news _subrubric\" href=\"/news/2023/10/27/hamasss/\"><h3 class=\"card-full-news__title\">ХАМАС обсудило в Москве будущее Палестины</h3><div class=\"card-full-news__info\"><time class=\"card-full-news__info-item card-full-news__date\">14:30, 27 октября 2023</time><span class=\"card-full-news__info-item card-full-news__rubric\">Мир</span></div></a></li>,\n <li class=\"rubric-page__item _news\"><a class=\"card-full-news _subrubric\" href=\"/news/2023/10/27/v-germanii-raskritikovali-finansovuyu-podderzhku-ukrainy/\"><h3 class=\"card-full-news__title\">В Германии раскритиковали финансовую поддержку Украины</h3><div class=\"card-full-news__info\"><time class=\"card-full-news__info-item card-full-news__date\">14:13, 27 октября 2023</time><span class=\"card-full-news__info-item card-full-news__rubric\">Мир</span></div></a></li>,\n <li class=\"rubric-page__item _news\"><a class=\"card-full-news _subrubric\" href=\"/news/2023/10/27/v-kremle-nazvali-neobhodimym-dialog-s-izrailem-i-hamas/\"><h3 class=\"card-full-news__title\">В Кремле назвали необходимым диалог с Израилем и ХАМАС</h3><div class=\"card-full-news__info\"><time class=\"card-full-news__info-item card-full-news__date\">14:02, 27 октября 2023</time><span class=\"card-full-news__info-item card-full-news__rubric\">Мир</span></div></a></li>,\n <li class=\"rubric-page__item _news\"><a class=\"card-full-news _subrubric\" href=\"/news/2023/10/27/v-polshe-zapodozrili-ukrainu-v-ustanovke-mayachka-v-limuzin-kortezha-prezidenta/\"><h3 class=\"card-full-news__title\">В Польше заподозрили Украину в установке маячка в лимузин кортежа президента</h3><div class=\"card-full-news__info\"><time class=\"card-full-news__info-item card-full-news__date\">13:42, 27 октября 2023</time><span class=\"card-full-news__info-item card-full-news__rubric\">Мир</span></div></a></li>,\n <li class=\"rubric-page__item _news\"><a class=\"card-full-news _subrubric\" href=\"/news/2023/10/27/v-stambule-progremel-vzryv/\"><h3 class=\"card-full-news__title\">В Стамбуле прогремел взрыв</h3><div class=\"card-full-news__info\"><time class=\"card-full-news__info-item card-full-news__date\">13:38, 27 октября 2023</time><span class=\"card-full-news__info-item card-full-news__rubric\">Мир</span></div></a></li>,\n <li class=\"rubric-page__item _news\"><a class=\"card-full-news _subrubric\" href=\"/news/2023/10/27/v-palestine-ob-yasnili-vozmozhnoe-zakrytie-bolnits/\"><h3 class=\"card-full-news__title\">В Палестине объяснили возможное закрытие больниц</h3><div class=\"card-full-news__info\"><time class=\"card-full-news__info-item card-full-news__date\">13:10, 27 октября 2023</time><span class=\"card-full-news__info-item card-full-news__rubric\">Мир</span></div></a></li>,\n <li class=\"rubric-page__item _news\"><a class=\"card-full-news _subrubric\" href=\"/news/2023/10/27/novyy-premier-slovakii-prizval-okazyvat-finansovuyu-pomosch-ukraine-pod-garantii/\"><h3 class=\"card-full-news__title\">Новый премьер Словакии призвал оказывать финансовую помощь Украине под гарантии</h3><div class=\"card-full-news__info\"><time class=\"card-full-news__info-item card-full-news__date\">12:48, 27 октября 2023</time><span class=\"card-full-news__info-item card-full-news__rubric\">Мир</span></div></a></li>,\n <li class=\"rubric-page__item _news\"><a class=\"card-full-news _subrubric\" href=\"/news/2023/10/27/v-oon-zayavili-o-sovershenii-izrailem-voennyh-prestupleniy-v-gaze/\"><h3 class=\"card-full-news__title\">В ООН заявили о совершении Израилем военных преступлений в Газе</h3><div class=\"card-full-news__info\"><time class=\"card-full-news__info-item card-full-news__date\">12:32, 27 октября 2023</time><span class=\"card-full-news__info-item card-full-news__rubric\">Мир</span></div></a></li>,\n <li class=\"rubric-page__item _news\"><a class=\"card-full-news _subrubric\" href=\"/news/2023/10/27/posol-rossii-odobril-uchastie-ukrainy-v-tseremoniyah-u-memorialah-voinam/\"><h3 class=\"card-full-news__title\">Посол России одобрил участие Украины в церемониях у мемориалов воинам</h3><div class=\"card-full-news__info\"><time class=\"card-full-news__info-item card-full-news__date\">12:31, 27 октября 2023</time><span class=\"card-full-news__info-item card-full-news__rubric\">Мир</span></div></a></li>,\n <li class=\"rubric-page__item _news\"><a class=\"card-full-news _subrubric\" href=\"/news/2023/10/27/posla-finlyandii-vyzvali-v-mid-rossii/\"><h3 class=\"card-full-news__title\">Посла Финляндии вызвали в МИД России</h3><div class=\"card-full-news__info\"><time class=\"card-full-news__info-item card-full-news__date\">12:21, 27 октября 2023</time><span class=\"card-full-news__info-item card-full-news__rubric\">Мир</span></div></a></li>,\n <li class=\"rubric-page__item _news\"><a class=\"card-full-news _subrubric\" href=\"/news/2023/10/27/orban-prizval-smenit-rukovodstvo-evrosoyuza/\"><h3 class=\"card-full-news__title\">Орбан призвал сменить руководство Евросоюза</h3><div class=\"card-full-news__info\"><time class=\"card-full-news__info-item card-full-news__date\">11:58, 27 октября 2023</time><span class=\"card-full-news__info-item card-full-news__rubric\">Мир</span></div></a></li>,\n <li class=\"rubric-page__item _news\"><a class=\"card-full-news _subrubric\" href=\"/news/2023/10/27/orban-prizval-smenit-rukovodstvo-evrosoyuza/\"><h3 class=\"card-full-news__title\">Орбан призвал сменить руководство Евросоюза</h3><div class=\"card-full-news__info\"><time class=\"card-full-news__info-item card-full-news__date\">11:58, 27 октября 2023</time><span class=\"card-full-news__info-item card-full-news__rubric\">Мир</span></div></a></li>,\n <li class=\"rubric-page__item _news\"><a class=\"card-full-news _subrubric\" href=\"/news/2023/10/27/polskie-spetsialisty-po-remontu-boevoy-tehniki-otpravilis-na-ukrainu/\"><h3 class=\"card-full-news__title\">Польские специалисты по ремонту боевой техники отправились на Украину</h3><div class=\"card-full-news__info\"><time class=\"card-full-news__info-item card-full-news__date\">11:51, 27 октября 2023</time><span class=\"card-full-news__info-item card-full-news__rubric\">Мир</span></div></a></li>,\n <li class=\"rubric-page__item _news\"><a class=\"card-full-news _subrubric\" href=\"/news/2023/10/27/v-oon-zayavili-o-dopolnitelnoy-pomoschi-dlya-gazy/\"><h3 class=\"card-full-news__title\">В ООН заявили о дополнительной помощи для Газы</h3><div class=\"card-full-news__info\"><time class=\"card-full-news__info-item card-full-news__date\">11:41, 27 октября 2023</time><span class=\"card-full-news__info-item card-full-news__rubric\">Мир</span></div></a></li>,\n <li class=\"rubric-page__item _news\"><a class=\"card-full-news _subrubric\" href=\"/news/2023/10/27/syn-trampa-predlozhil-unichtozhit-hamas-s-pomoschyu-atomnoy-bomby-i-seksualnoy-kozy/\"><h3 class=\"card-full-news__title\">Сын Трампа предложил уничтожить ХАМАС с помощью атомной бомбы и сексуальной козы</h3><div class=\"card-full-news__info\"><time class=\"card-full-news__info-item card-full-news__date\">11:31, 27 октября 2023</time><span class=\"card-full-news__info-item card-full-news__rubric\">Мир</span></div></a></li>,\n <li class=\"rubric-page__item _news\"><a class=\"card-full-news _subrubric\" href=\"/news/2023/10/27/neizvestnyy-snaryad-popal-v-egipetskiy-gorod-nuveyba/\"><h3 class=\"card-full-news__title\">Неизвестный снаряд попал в египетский город Нувейба</h3><div class=\"card-full-news__info\"><time class=\"card-full-news__info-item card-full-news__date\">11:31, 27 октября 2023</time><span class=\"card-full-news__info-item card-full-news__rubric\">Мир</span></div></a></li>,\n <li class=\"rubric-page__item _news\"><a class=\"card-full-news _subrubric\" href=\"/news/2023/10/27/nemetskiy-general-rasskazal-o-strashnoy-situatsii-dlya-vsu-pod-kupyanskom/\"><h3 class=\"card-full-news__title\">Немецкий генерал рассказал о страшной ситуации для ВСУ под Купянском</h3><div class=\"card-full-news__info\"><time class=\"card-full-news__info-item card-full-news__date\">11:13, 27 октября 2023</time><span class=\"card-full-news__info-item card-full-news__rubric\">Мир</span></div></a></li>,\n <li class=\"rubric-page__item _news\"><a class=\"card-full-news _subrubric\" href=\"/news/2023/10/27/mid-izrailya-nazval-amnesty-international-antisemitskoy-organizatsiey/\"><h3 class=\"card-full-news__title\">МИД Израиля назвал Amnesty International антисемитской организацией</h3><div class=\"card-full-news__info\"><time class=\"card-full-news__info-item card-full-news__date\">11:07, 27 октября 2023</time><span class=\"card-full-news__info-item card-full-news__rubric\">Мир</span></div></a></li>,\n <li class=\"rubric-page__item _news\"><a class=\"card-full-news _subrubric\" href=\"/news/2023/10/27/v-evrope-pozhalovalis-na-derzhaschuyu-es-v-zalozhnikah-vengriyu/\"><h3 class=\"card-full-news__title\">В Европе пожаловались на держащую ЕС в заложниках Венгрию</h3><div class=\"card-full-news__info\"><time class=\"card-full-news__info-item card-full-news__date\">10:59, 27 октября 2023</time><span class=\"card-full-news__info-item card-full-news__rubric\">Мир</span></div></a></li>,\n <li class=\"rubric-page__item _news\"><a class=\"card-full-news _subrubric\" href=\"/news/2023/10/27/premier-vengrii-ukazal-na-neobhodimost-plana-b-po-ukraine-dlya-es/\"><h3 class=\"card-full-news__title\">Премьер Венгрии указал на необходимость «плана Б» по Украине для ЕС</h3><div class=\"card-full-news__info\"><time class=\"card-full-news__info-item card-full-news__date\">10:31, 27 октября 2023</time><span class=\"card-full-news__info-item card-full-news__rubric\">Мир</span></div></a></li>,\n <li class=\"rubric-page__item _news\"><a class=\"card-full-news _subrubric\" href=\"/news/2023/10/27/vengriya-zayavila-o-nezhelanii-es-priznat-nevozmozhnost-pobedy-ukrainy-na-pole-boya/\"><h3 class=\"card-full-news__title\">Венгрия заявила о нежелании ЕС признать невозможность победы Украины на поле боя</h3><div class=\"card-full-news__info\"><time class=\"card-full-news__info-item card-full-news__date\">10:29, 27 октября 2023</time><span class=\"card-full-news__info-item card-full-news__rubric\">Мир</span></div></a></li>,\n <li class=\"rubric-page__item _news\"><a class=\"card-full-news _subrubric\" href=\"/news/2023/10/27/v-evrosoyuze-zayavili-o-rastuschey-ugroze-so-storony-vengrii/\"><h3 class=\"card-full-news__title\">В Евросоюзе заявили о растущей угрозе со стороны Венгрии</h3><div class=\"card-full-news__info\"><time class=\"card-full-news__info-item card-full-news__date\">09:57, 27 октября 2023</time><span class=\"card-full-news__info-item card-full-news__rubric\">Мир</span></div></a></li>,\n <li class=\"rubric-page__item _news\"><a class=\"card-full-news _subrubric\" href=\"/news/2023/10/27/raskrylas-taynaya-peredacha-ukraine-razvedyvatelnyh-dronov-sloveniey/\"><h3 class=\"card-full-news__title\">Раскрылась тайная передача Украине разведывательных дронов Словенией</h3><div class=\"card-full-news__info\"><time class=\"card-full-news__info-item card-full-news__date\">09:35, 27 октября 2023</time><span class=\"card-full-news__info-item card-full-news__rubric\">Мир</span></div></a></li>,\n <li class=\"rubric-page__item _news\"><a class=\"card-full-news _subrubric\" href=\"/news/2023/10/27/stalo-izvestno-o-novom-reyde-armii-izrailya-v-sektor-gaza/\"><h3 class=\"card-full-news__title\">Стало известно о новом рейде Армии Израиля в сектор Газа</h3><div class=\"card-full-news__info\"><time class=\"card-full-news__info-item card-full-news__date\">09:29, 27 октября 2023</time><span class=\"card-full-news__info-item card-full-news__rubric\">Мир</span></div></a></li>,\n <li class=\"rubric-page__item _news\"><a class=\"card-full-news _subrubric\" href=\"/news/2023/10/27/na-popavshih-pod-udar-ssha-siriyskih-territoriyah-ne-nashli-voennyh-ob-ektov/\"><h3 class=\"card-full-news__title\">На попавших под удар США сирийских территориях не нашли военных объектов</h3><div class=\"card-full-news__info\"><time class=\"card-full-news__info-item card-full-news__date\">09:08, 27 октября 2023</time><span class=\"card-full-news__info-item card-full-news__rubric\">Мир</span></div></a></li>,\n <li class=\"rubric-page__item _news\"><a class=\"card-full-news _subrubric\" href=\"/news/2023/10/27/ssha-otkroyut-dipmissiyu-za-polyarnym-krugom-v-norvegii/\"><h3 class=\"card-full-news__title\">США откроют дипмиссию за Полярным кругом в Норвегии</h3><div class=\"card-full-news__info\"><time class=\"card-full-news__info-item card-full-news__date\">08:53, 27 октября 2023</time><span class=\"card-full-news__info-item card-full-news__rubric\">Мир</span></div></a></li>,\n <li class=\"rubric-page__item _news\"><a class=\"card-full-news _subrubric\" href=\"/news/2023/10/27/novyy-spiker-palaty-predstaviteley-dopustil-impichment-baydena/\"><h3 class=\"card-full-news__title\">Новый спикер Палаты представителей допустил импичмент Байдена</h3><div class=\"card-full-news__info\"><time class=\"card-full-news__info-item card-full-news__date\">08:21, 27 октября 2023</time><span class=\"card-full-news__info-item card-full-news__rubric\">Мир</span></div></a></li>,\n <li class=\"rubric-page__item _news\"><a class=\"card-full-news _subrubric\" href=\"/news/2023/10/27/v-izraile-razreshat-politsii-strelyat-na-porazhenie-po-blokiruyuschim-dorogi/\"><h3 class=\"card-full-news__title\">В Израиле разрешат полиции стрелять на поражение по блокирующим дороги</h3><div class=\"card-full-news__info\"><time class=\"card-full-news__info-item card-full-news__date\">08:09, 27 октября 2023</time><span class=\"card-full-news__info-item card-full-news__rubric\">Мир</span></div></a></li>,\n <li class=\"rubric-page__item _news\"><a class=\"card-full-news _subrubric\" href=\"/news/2023/10/27/bayden-rasporyadilsya-udarit-po-iranskim-ob-ektam-v-sirii-pochemu-ssha-reshilis-na-ataku-i-kakimi-byli-ee-tseli/\"><h3 class=\"card-full-news__title\">Байден распорядился ударить по иранским объектам в Сирии. Почему США решились на атаку и какими были ее цели?</h3><div class=\"card-full-news__info\"><time class=\"card-full-news__info-item card-full-news__date\">07:47, 27 октября 2023</time><span class=\"card-full-news__info-item card-full-news__rubric\">Мир</span><svg class=\"card-full-news__info-item card-full-news__super-news\"><use xlink:href=\"#ui-super-news\"></use></svg></div></a></li>,\n <li class=\"rubric-page__item _news\"><a class=\"card-full-news _subrubric\" href=\"/news/2023/10/27/o-nazemnoy-operatsii-v-gaze/\"><h3 class=\"card-full-news__title\">Израиль до сих пор не решился на проведение наземной операции в Газе</h3><div class=\"card-full-news__info\"><time class=\"card-full-news__info-item card-full-news__date\">07:26, 27 октября 2023</time><span class=\"card-full-news__info-item card-full-news__rubric\">Мир</span></div></a></li>,\n <li class=\"rubric-page__item _news\"><a class=\"card-full-news _subrubric\" href=\"/news/2023/10/27/sb-oon-provedet-zasedanie-po-ukraine-po-zaprosu-rossii/\"><h3 class=\"card-full-news__title\">СБ ООН проведет заседание по Украине по запросу России</h3><div class=\"card-full-news__info\"><time class=\"card-full-news__info-item card-full-news__date\">06:58, 27 октября 2023</time><span class=\"card-full-news__info-item card-full-news__rubric\">Мир</span></div></a></li>,\n <li class=\"rubric-page__item _news\"><a class=\"card-full-news _subrubric\" href=\"/news/2023/10/27/v-ssha-nazvali-netanyahu-sposob-zagnat-hamas-v-lovushku/\"><h3 class=\"card-full-news__title\">В США назвали Нетаньяху способ загнать ХАМАС в ловушку</h3><div class=\"card-full-news__info\"><time class=\"card-full-news__info-item card-full-news__date\">06:45, 27 октября 2023</time><span class=\"card-full-news__info-item card-full-news__rubric\">Мир</span></div></a></li>,\n <li class=\"rubric-page__item _news\"><a class=\"card-full-news _subrubric\" href=\"/news/2023/10/27/istrebiit/\"><h3 class=\"card-full-news__title\">В США назвали цели ударов американских F-16 в Сирии</h3><div class=\"card-full-news__info\"><time class=\"card-full-news__info-item card-full-news__date\">06:44, 27 октября 2023</time><span class=\"card-full-news__info-item card-full-news__rubric\">Мир</span></div></a></li>,\n <li class=\"rubric-page__item _news\"><a class=\"card-full-news _subrubric\" href=\"/news/2023/10/27/lesson/\"><h3 class=\"card-full-news__title\">В Британии рассказали об извлеченных из конфликта на Украине «военных уроках»</h3><div class=\"card-full-news__info\"><time class=\"card-full-news__info-item card-full-news__date\">06:39, 27 октября 2023</time><span class=\"card-full-news__info-item card-full-news__rubric\">Мир</span></div></a></li>,\n <li class=\"rubric-page__item _news\"><a class=\"card-full-news _subrubric\" href=\"/news/2023/10/27/novyy-spiker-palaty-predstaviteley-potreboval-otcheta-o-tratah-na-ukrainu/\"><h3 class=\"card-full-news__title\">Новый спикер Палаты представителей потребовал отчета о тратах на Украину</h3><div class=\"card-full-news__info\"><time class=\"card-full-news__info-item card-full-news__date\">05:42, 27 октября 2023</time><span class=\"card-full-news__info-item card-full-news__rubric\">Мир</span></div></a></li>,\n <li class=\"rubric-page__item _news\"><a class=\"card-full-news _subrubric\" href=\"/news/2023/10/27/bayden-prikazal-nanesti-udary-po-sirii/\"><h3 class=\"card-full-news__title\">Байден приказал нанести удары по Сирии</h3><div class=\"card-full-news__info\"><time class=\"card-full-news__info-item card-full-news__date\">05:17, 27 октября 2023</time><span class=\"card-full-news__info-item card-full-news__rubric\">Мир</span></div></a></li>,\n <li class=\"rubric-page__item _news\"><a class=\"card-full-news _subrubric\" href=\"/news/2023/10/27/v-ssha-predrekli-ukraine-poteryu-territoriy/\"><h3 class=\"card-full-news__title\">В США предрекли Украине потерю территорий</h3><div class=\"card-full-news__info\"><time class=\"card-full-news__info-item card-full-news__date\">05:12, 27 октября 2023</time><span class=\"card-full-news__info-item card-full-news__rubric\">Мир</span></div></a></li>,\n <li class=\"rubric-page__item _news\"><a class=\"card-full-news _subrubric\" href=\"/news/2023/10/27/poveeeed/\"><h3 class=\"card-full-news__title\">Спикер Палаты представителей указал на тревожную деталь в поведении Байдена</h3><div class=\"card-full-news__info\"><time class=\"card-full-news__info-item card-full-news__date\">04:39, 27 октября 2023</time><span class=\"card-full-news__info-item card-full-news__rubric\">Мир</span></div></a></li>,\n <li class=\"rubric-page__item _news\"><a class=\"card-full-news _subrubric\" href=\"/news/2023/10/27/vengriya-i-slovakiya-vystupili-protiv/\"><h3 class=\"card-full-news__title\">Венгрия и Словакия выступили против помощи Украине из фонда ЕС</h3><div class=\"card-full-news__info\"><time class=\"card-full-news__info-item card-full-news__date\">04:21, 27 октября 2023</time><span class=\"card-full-news__info-item card-full-news__rubric\">Мир</span></div></a></li>,\n <li class=\"rubric-page__item _news\"><a class=\"card-full-news _subrubric\" href=\"/news/2023/10/27/umer-eks-premier-gossoveta-kitaya-li-ketsyan/\"><h3 class=\"card-full-news__title\">Умер экс-премьер Госсовета Китая Ли Кэцян</h3><div class=\"card-full-news__info\"><time class=\"card-full-news__info-item card-full-news__date\">04:17, 27 октября 2023</time><span class=\"card-full-news__info-item card-full-news__rubric\">Мир</span></div></a></li>,\n <li class=\"rubric-page__item _news\"><a class=\"card-full-news _subrubric\" href=\"/news/2023/10/27/norvezhskogo-mera-vozmutil-venok-sovetskim-voinam/\"><h3 class=\"card-full-news__title\">Норвежского мэра возмутил венок советским воинам</h3><div class=\"card-full-news__info\"><time class=\"card-full-news__info-item card-full-news__date\">04:01, 27 октября 2023</time><span class=\"card-full-news__info-item card-full-news__rubric\">Мир</span></div></a></li>,\n <li class=\"rubric-page__item _news\"><a class=\"card-full-news _subrubric\" href=\"/news/2023/10/27/chicken_finger_lickin/\"><h3 class=\"card-full-news__title\">В Италии выступили против одного вида поставок с Украины</h3><div class=\"card-full-news__info\"><time class=\"card-full-news__info-item card-full-news__date\">03:35, 27 октября 2023</time><span class=\"card-full-news__info-item card-full-news__rubric\">Мир</span></div></a></li>,\n <li class=\"rubric-page__item _news\"><a class=\"card-full-news _subrubric\" href=\"/news/2023/10/27/stal_signal/\"><h3 class=\"card-full-news__title\">В США рассказали о новом тревожном сигнале для Украины</h3><div class=\"card-full-news__info\"><time class=\"card-full-news__info-item card-full-news__date\">03:27, 27 октября 2023</time><span class=\"card-full-news__info-item card-full-news__rubric\">Мир</span></div></a></li>,\n <li class=\"rubric-page__item _news\"><a class=\"card-full-news _subrubric\" href=\"/news/2023/10/27/stalo-izvestno-ob-otkaze-knr-ot-uchastiya-vo-vstreche-po-ukrainskoy-formule-mira/\"><h3 class=\"card-full-news__title\">Китай отказался от участия во встрече по украинской «формуле мира»</h3><div class=\"card-full-news__info\"><time class=\"card-full-news__info-item card-full-news__date\">02:35, 27 октября 2023</time><span class=\"card-full-news__info-item card-full-news__rubric\">Мир</span></div></a></li>,\n <li class=\"rubric-page__item _news\"><a class=\"card-full-news _subrubric\" href=\"/news/2023/10/27/nedostoynyy-shag-izrail-osudil-priglashenie-hamas-v-moskvu-kakova-rol-rossii-v-konflikte-na-blizhnem-vostoke/\"><h3 class=\"card-full-news__title\">«Недостойный шаг»: Израиль осудил приглашение ХАМАС в Москву. Какова роль России в конфликте на Ближнем Востоке?</h3><div class=\"card-full-news__info\"><time class=\"card-full-news__info-item card-full-news__date\">02:09, 27 октября 2023</time><span class=\"card-full-news__info-item card-full-news__rubric\">Мир</span><svg class=\"card-full-news__info-item card-full-news__super-news\"><use xlink:href=\"#ui-super-news\"></use></svg></div></a></li>,\n <li class=\"rubric-page__item _news\"><a class=\"card-full-news _subrubric\" href=\"/news/2023/10/27/na-baze-ssha-v-sirii-proizoshli-vzryvy/\"><h3 class=\"card-full-news__title\">На базе США в Сирии произошли взрывы</h3><div class=\"card-full-news__info\"><time class=\"card-full-news__info-item card-full-news__date\">01:39, 27 октября 2023</time><span class=\"card-full-news__info-item card-full-news__rubric\">Мир</span></div></a></li>,\n <li class=\"rubric-page__item _news\"><a class=\"card-full-news _subrubric\" href=\"/news/2023/10/26/v-ssha-rasskazali-o-negativnom-vliyanii-na-uroven-podderzhki-ukrainy-zapadom/\"><h3 class=\"card-full-news__title\">В США рассказали о негативном влиянии на уровень поддержки Украины Западом</h3><div class=\"card-full-news__info\"><time class=\"card-full-news__info-item card-full-news__date\">01:08, 27 октября 2023</time><span class=\"card-full-news__info-item card-full-news__rubric\">Мир</span></div></a></li>,\n <li class=\"rubric-page__item _news\"><a class=\"card-full-news _subrubric\" href=\"/news/2023/10/27/poyavilos-video-napadeniya-na-lidera-kritikuyuschey-ukrainu-partii-v-evrope/\"><h3 class=\"card-full-news__title\">Появилось видео нападения на лидера критикующей Украину партии в Европе</h3><div class=\"card-full-news__info\"><time class=\"card-full-news__info-item card-full-news__date\">01:02, 27 октября 2023</time><span class=\"card-full-news__info-item card-full-news__rubric\">Мир</span><svg class=\"card-full-news__info-item card-full-news__play\"><use xlink:href=\"#ui-play\"></use></svg></div></a></li>,\n <li class=\"rubric-page__item _news\"><a class=\"card-full-news _subrubric\" href=\"/news/2023/10/27/iran-prigrozil-ssha-besposchadnym-plamenem/\"><h3 class=\"card-full-news__title\">Иран пригрозил США «беспощадным пламенем»</h3><div class=\"card-full-news__info\"><time class=\"card-full-news__info-item card-full-news__date\">00:16, 27 октября 2023</time><span class=\"card-full-news__info-item card-full-news__rubric\">Мир</span></div></a></li>,\n <li class=\"rubric-page__item _news\"><a class=\"card-full-news _subrubric\" href=\"/news/2023/10/26/senat-ssha-progolosoval-protiv-vyvoda-amerikanskih-voysk-iz-nigera/\"><h3 class=\"card-full-news__title\">Сенат США проголосовал против вывода американских войск из Нигера</h3><div class=\"card-full-news__info\"><time class=\"card-full-news__info-item card-full-news__date\">23:40, 26 октября 2023</time><span class=\"card-full-news__info-item card-full-news__rubric\">Мир</span></div></a></li>,\n <li class=\"rubric-page__item _news\"><a class=\"card-full-news _subrubric\" href=\"/news/2023/10/26/v-ssha-zayavili-o-dalneyshem-uzhestochenii-sanktsiy-protiv-hamas/\"><h3 class=\"card-full-news__title\">В США заявили о дальнейшем ужесточении санкций против ХАМАС</h3><div class=\"card-full-news__info\"><time class=\"card-full-news__info-item card-full-news__date\">23:07, 26 октября 2023</time><span class=\"card-full-news__info-item card-full-news__rubric\">Мир</span></div></a></li>,\n <li class=\"rubric-page__item _news\"><a class=\"card-full-news _subrubric\" href=\"/news/2023/10/26/planyy/\"><h3 class=\"card-full-news__title\">США передадут Израилю две батареи ПРО «Железный купол»</h3><div class=\"card-full-news__info\"><time class=\"card-full-news__info-item card-full-news__date\">22:50, 26 октября 2023</time><span class=\"card-full-news__info-item card-full-news__rubric\">Мир</span></div></a></li>,\n <li class=\"rubric-page__item _news\"><a class=\"card-full-news _subrubric\" href=\"/news/2023/10/26/iran-obvinil-ssha-v-neposredstvennom-uchastii-v-palestino-izrailskom-konflikte/\"><h3 class=\"card-full-news__title\">Иран обвинил США в непосредственном участии в палестино-израильском конфликте</h3><div class=\"card-full-news__info\"><time class=\"card-full-news__info-item card-full-news__date\">22:36, 26 октября 2023</time><span class=\"card-full-news__info-item card-full-news__rubric\">Мир</span></div></a></li>,\n <li class=\"rubric-page__item _news\"><a class=\"card-full-news _subrubric\" href=\"/news/2023/10/26/nazvana-summa-voennoy-pomoschi-ssha-ukraine-za-vremya-prezidentstva-baydena/\"><h3 class=\"card-full-news__title\">Названа сумма военной помощи США Украине за время президентства Байдена</h3><div class=\"card-full-news__info\"><time class=\"card-full-news__info-item card-full-news__date\">22:11, 26 октября 2023</time><span class=\"card-full-news__info-item card-full-news__rubric\">Мир</span></div></a></li>,\n <li class=\"rubric-page__item _news\"><a class=\"card-full-news _subrubric\" href=\"/news/2023/10/26/ssha-otsenili-vliyanie-konflikta-na-blizhnem-vostoke-na-mirovuyu-ekonomiku/\"><h3 class=\"card-full-news__title\">США оценили влияние конфликта на Ближнем Востоке на мировую экономику</h3><div class=\"card-full-news__info\"><time class=\"card-full-news__info-item card-full-news__date\">21:33, 26 октября 2023</time><span class=\"card-full-news__info-item card-full-news__rubric\">Мир</span></div></a></li>,\n <li class=\"rubric-page__item _news\"><a class=\"card-full-news _subrubric\" href=\"/news/2023/10/26/peregg/\"><h3 class=\"card-full-news__title\">В США заявили об отсутствии переговоров с Россией по освобождению Уилана</h3><div class=\"card-full-news__info\"><time class=\"card-full-news__info-item card-full-news__date\">21:32, 26 октября 2023</time><span class=\"card-full-news__info-item card-full-news__rubric\">Мир</span></div></a></li>,\n <li class=\"rubric-page__item _news\"><a class=\"card-full-news _subrubric\" href=\"/news/2023/10/26/v-ssha-raskryli-stsenariy-nachala-vashingtonom-tretiey-mirovoy/\"><h3 class=\"card-full-news__title\">В США раскрыли сценарий начала Вашингтоном третьей мировой</h3><div class=\"card-full-news__info\"><time class=\"card-full-news__info-item card-full-news__date\">21:31, 26 октября 2023</time><span class=\"card-full-news__info-item card-full-news__rubric\">Мир</span></div></a></li>,\n <li class=\"rubric-page__item _news\"><a class=\"card-full-news _subrubric\" href=\"/news/2023/10/26/priehavshiy-v-moskvu-lider-hamas-nazval-rol-rossii-v-uregulirovanii-konflikta/\"><h3 class=\"card-full-news__title\">Приехавший в Москву лидер ХАМАС назвал роль России в урегулировании конфликта</h3><div class=\"card-full-news__info\"><time class=\"card-full-news__info-item card-full-news__date\">21:06, 26 октября 2023</time><span class=\"card-full-news__info-item card-full-news__rubric\">Мир</span></div></a></li>,\n <li class=\"rubric-page__item _news\"><a class=\"card-full-news _subrubric\" href=\"/news/2023/10/26/v-ssha-dopustili-dostizhenie-rossiey-takticheskih-preimuschestv/\"><h3 class=\"card-full-news__title\">США заявили о скором достижении Россией тактических преимуществ на Украине</h3><div class=\"card-full-news__info\"><time class=\"card-full-news__info-item card-full-news__date\">21:05, 26 октября 2023</time><span class=\"card-full-news__info-item card-full-news__rubric\">Мир</span></div></a></li>,\n <li class=\"rubric-page__item _news\"><a class=\"card-full-news _subrubric\" href=\"/news/2023/10/26/slovakiya-soobschila-evrokomissii-ob-otkaze-postavlyat-voennuyu-pomosch-ukraine/\"><h3 class=\"card-full-news__title\">Словакия сообщила Еврокомиссии об отказе поставлять военную помощь Украине</h3><div class=\"card-full-news__info\"><time class=\"card-full-news__info-item card-full-news__date\">20:36, 26 октября 2023</time><span class=\"card-full-news__info-item card-full-news__rubric\">Мир</span></div></a></li>,\n <li class=\"rubric-page__item _news\"><a class=\"card-full-news _subrubric\" href=\"/news/2023/10/26/mid-izrailya-otreagiroval-na-priglashenie-delegatsii-hamas-v-moskvu/\"><h3 class=\"card-full-news__title\">МИД Израиля отреагировал на приглашение делегации ХАМАС в Москву</h3><div class=\"card-full-news__info\"><time class=\"card-full-news__info-item card-full-news__date\">20:22, 26 октября 2023</time><span class=\"card-full-news__info-item card-full-news__rubric\">Мир</span></div></a></li>,\n <li class=\"rubric-page__item _news\"><a class=\"card-full-news _subrubric\" href=\"/news/2023/10/26/zamglavy-mid-rossii-vstretilsya-s-politicheskim-rukovodstvom-hamas-kakie-temy-obsudili-storony/\"><h3 class=\"card-full-news__title\">Один из лидеров ХАМАС приехал в Москву на переговоры. Он обсудил освобождение заложников и эвакуацию россиян из Газы</h3><div class=\"card-full-news__info\"><time class=\"card-full-news__info-item card-full-news__date\">20:12, 26 октября 2023</time><span class=\"card-full-news__info-item card-full-news__rubric\">Мир</span><svg class=\"card-full-news__info-item card-full-news__super-news\"><use xlink:href=\"#ui-super-news\"></use></svg></div></a></li>,\n <li class=\"rubric-page__item _news\"><a class=\"card-full-news _subrubric\" href=\"/news/2023/10/26/hungary_new_strategy/\"><h3 class=\"card-full-news__title\">Венгрия предложила ЕС разработать новую стратегию по Украине</h3><div class=\"card-full-news__info\"><time class=\"card-full-news__info-item card-full-news__date\">20:12, 26 октября 2023</time><span class=\"card-full-news__info-item card-full-news__rubric\">Мир</span></div></a></li>,\n <li class=\"rubric-page__item _news\"><a class=\"card-full-news _subrubric\" href=\"/news/2023/10/26/erdogan/\"><h3 class=\"card-full-news__title\">Эрдоган возложил на Запад ответственность за гуманитарную ситуацию в Газе</h3><div class=\"card-full-news__info\"><time class=\"card-full-news__info-item card-full-news__date\">19:54, 26 октября 2023</time><span class=\"card-full-news__info-item card-full-news__rubric\">Мир</span></div></a></li>,\n <li class=\"rubric-page__item _news\"><a class=\"card-full-news _subrubric\" href=\"/news/2023/10/26/v-irane-zayavili-o-gotovnosti-hamas-osvobodit-grazhdanskih-pri-odnom-uslovii/\"><h3 class=\"card-full-news__title\">В Иране заявили о готовности ХАМАС отпустить заложников при одном условии</h3><div class=\"card-full-news__info\"><time class=\"card-full-news__info-item card-full-news__date\">19:52, 26 октября 2023</time><span class=\"card-full-news__info-item card-full-news__rubric\">Мир</span></div></a></li>,\n <li class=\"rubric-page__item _news\"><a class=\"card-full-news _subrubric\" href=\"/news/2023/10/26/ssha-ob-yavili-o-vydelenii-150-millionov-dollarov-na-novuyu-pomosch-ukraine/\"><h3 class=\"card-full-news__title\">США объявили о выделении 150 миллионов долларов на новую помощь Украине</h3><div class=\"card-full-news__info\"><time class=\"card-full-news__info-item card-full-news__date\">19:15, 26 октября 2023</time><span class=\"card-full-news__info-item card-full-news__rubric\">Мир</span></div></a></li>,\n <li class=\"rubric-page__item _news\"><a class=\"card-full-news _subrubric\" href=\"/news/2023/10/26/daniya-zayavila-o-postavke-ukraine-vooruzheniya-na-500-millionov-dollarov/\"><h3 class=\"card-full-news__title\">Дания заявила о поставке Украине вооружения на 500 миллионов долларов</h3><div class=\"card-full-news__info\"><time class=\"card-full-news__info-item card-full-news__date\">19:07, 26 октября 2023</time><span class=\"card-full-news__info-item card-full-news__rubric\">Мир</span></div></a></li>,\n <li class=\"rubric-page__item _news\"><a class=\"card-full-news _subrubric\" href=\"/news/2023/10/26/hostages/\"><h3 class=\"card-full-news__title\">ХАМАС заявило о гибели около 50 заложников в результате израильских обстрелов</h3><div class=\"card-full-news__info\"><time class=\"card-full-news__info-item card-full-news__date\">18:48, 26 октября 2023</time><span class=\"card-full-news__info-item card-full-news__rubric\">Мир</span></div></a></li>,\n <li class=\"rubric-page__item _news\"><a class=\"card-full-news _subrubric\" href=\"/news/2023/10/26/mid-rossii-rasskazal-o-temah-obsuzhdeniya-na-vstreche-s-hamas/\"><h3 class=\"card-full-news__title\">МИД России рассказал о темах обсуждения на встрече с ХАМАС</h3><div class=\"card-full-news__info\"><time class=\"card-full-news__info-item card-full-news__date\">18:15, 26 октября 2023</time><span class=\"card-full-news__info-item card-full-news__rubric\">Мир</span></div></a></li>,\n <li class=\"rubric-page__item _news\"><a class=\"card-full-news _subrubric\" href=\"/news/2023/10/26/devyat-arabskih-stran-potrebovali-prekrascheniya-ognya-mezhdu-izrailem-i-hamas/\"><h3 class=\"card-full-news__title\">Девять арабских стран потребовали прекращения огня между Израилем и ХАМАС</h3><div class=\"card-full-news__info\"><time class=\"card-full-news__info-item card-full-news__date\">17:34, 26 октября 2023</time><span class=\"card-full-news__info-item card-full-news__rubric\">Мир</span></div></a></li>,\n <li class=\"rubric-page__item _news\"><a class=\"card-full-news _subrubric\" href=\"/news/2023/10/26/finlyandiya-zavershila-stroitelstvo-uchastka-zabora-na-granitse-s-rossiey/\"><h3 class=\"card-full-news__title\">Финляндия завершила строительство участка забора на границе с Россией</h3><div class=\"card-full-news__info\"><time class=\"card-full-news__info-item card-full-news__date\">17:14, 26 октября 2023</time><span class=\"card-full-news__info-item card-full-news__rubric\">Мир</span></div></a></li>,\n <li class=\"rubric-page__item _news\"><a class=\"card-full-news _subrubric\" href=\"/news/2023/10/26/v-es-otvetili-na-obvineniya-v-dvoynyh-standartah/\"><h3 class=\"card-full-news__title\">В ЕС ответили на обвинения в двойных стандартах</h3><div class=\"card-full-news__info\"><time class=\"card-full-news__info-item card-full-news__date\">16:56, 26 октября 2023</time><span class=\"card-full-news__info-item card-full-news__rubric\">Мир</span></div></a></li>,\n <li class=\"rubric-page__item _news\"><a class=\"card-full-news _subrubric\" href=\"/news/2023/10/26/orban-otsenil-shansy-na-vydelenie-ukraine-novogo-transha-iz-fonda-mira/\"><h3 class=\"card-full-news__title\">Орбан оценил шансы на выделение Украине нового транша из фонда мира</h3><div class=\"card-full-news__info\"><time class=\"card-full-news__info-item card-full-news__date\">16:55, 26 октября 2023</time><span class=\"card-full-news__info-item card-full-news__rubric\">Мир</span></div></a></li>,\n <li class=\"rubric-page__item _news\"><a class=\"card-full-news _subrubric\" href=\"/news/2023/10/26/mid-rossii-podtverdil-nahozhdenie-delegatsii-hamas-s-vizitom-v-moskve/\"><h3 class=\"card-full-news__title\">МИД России подтвердил нахождение делегации ХАМАС с визитом в Москве</h3><div class=\"card-full-news__info\"><time class=\"card-full-news__info-item card-full-news__date\">16:52, 26 октября 2023</time><span class=\"card-full-news__info-item card-full-news__rubric\">Мир</span></div></a></li>,\n <li class=\"rubric-page__item _news\"><a class=\"card-full-news _subrubric\" href=\"/news/2023/10/26/erdogan-nazval-narusheniem-mezhdunarodnogo-prava-podderzhku-izrailya-zapadom/\"><h3 class=\"card-full-news__title\">Эрдоган назвал нарушением международного права поддержку Израиля Западом</h3><div class=\"card-full-news__info\"><time class=\"card-full-news__info-item card-full-news__date\">16:34, 26 октября 2023</time><span class=\"card-full-news__info-item card-full-news__rubric\">Мир</span></div></a></li>,\n <li class=\"rubric-page__item _news\"><a class=\"card-full-news _subrubric\" href=\"/news/2023/10/26/orban-poobeschal-blokirovat-vydelenie-deneg-ukraine/\"><h3 class=\"card-full-news__title\">Орбан пообещал блокировать выделение денег Украине</h3><div class=\"card-full-news__info\"><time class=\"card-full-news__info-item card-full-news__date\">16:24, 26 октября 2023</time><span class=\"card-full-news__info-item card-full-news__rubric\">Мир</span></div></a></li>,\n <li class=\"rubric-page__item _news\"><a class=\"card-full-news _subrubric\" href=\"/news/2023/10/26/belgiya-otkazalas-uvelichit-vznosy-v-byudzhet-es-na-nuzhdy-ukrainy/\"><h3 class=\"card-full-news__title\">Бельгия отказалась увеличить взносы в бюджет ЕС на нужды Украины</h3><div class=\"card-full-news__info\"><time class=\"card-full-news__info-item card-full-news__date\">16:24, 26 октября 2023</time><span class=\"card-full-news__info-item card-full-news__rubric\">Мир</span></div></a></li>,\n <li class=\"rubric-page__item _news\"><a class=\"card-full-news _subrubric\" href=\"/news/2023/10/26/v-irane-nazvali-politiku-bezopasnosti-zapada-prichinoy-konflikta-na-ukraine/\"><h3 class=\"card-full-news__title\">В Иране назвали политику безопасности Запада причиной конфликта на Украине</h3><div class=\"card-full-news__info\"><time class=\"card-full-news__info-item card-full-news__date\">16:18, 26 октября 2023</time><span class=\"card-full-news__info-item card-full-news__rubric\">Мир</span></div></a></li>,\n <li class=\"rubric-page__item _news\"><a class=\"card-full-news _subrubric\" href=\"/news/2023/10/26/chlen-politbyuro-hamas-pribyl-v-rossiyu/\"><h3 class=\"card-full-news__title\">Член политбюро ХАМАС прибыл в Россию</h3><div class=\"card-full-news__info\"><time class=\"card-full-news__info-item card-full-news__date\">16:13, 26 октября 2023</time><span class=\"card-full-news__info-item card-full-news__rubric\">Мир</span></div></a></li>,\n <li class=\"rubric-page__item _news\"><a class=\"card-full-news _subrubric\" href=\"/news/2023/10/26/borrel-zayavil-o-podderzhku-genseka-oon-v-konflikte-s-izrailem/\"><h3 class=\"card-full-news__title\">Боррель заявил о поддержке генсека ООН в конфликте с Израилем</h3><div class=\"card-full-news__info\"><time class=\"card-full-news__info-item card-full-news__date\">16:02, 26 октября 2023</time><span class=\"card-full-news__info-item card-full-news__rubric\">Мир</span></div></a></li>,\n <li class=\"rubric-page__item _news\"><a class=\"card-full-news _subrubric\" href=\"/news/2023/10/26/v-germanii-nazvali-edinstvennyy-sposob-spaseniya-ssha/\"><h3 class=\"card-full-news__title\">В Германии назвали единственный способ спасения США</h3><div class=\"card-full-news__info\"><time class=\"card-full-news__info-item card-full-news__date\">15:40, 26 октября 2023</time><span class=\"card-full-news__info-item card-full-news__rubric\">Мир</span></div></a></li>,\n <li class=\"rubric-page__item _news\"><a class=\"card-full-news _subrubric\" href=\"/news/2023/10/26/orban-nazval-blagom-dlya-evropy-podderzhanie-dialoga-s-rossiey/\"><h3 class=\"card-full-news__title\">Орбан назвал благом для Европы поддержание диалога с Россией</h3><div class=\"card-full-news__info\"><time class=\"card-full-news__info-item card-full-news__date\">15:36, 26 октября 2023</time><span class=\"card-full-news__info-item card-full-news__rubric\">Мир</span></div></a></li>,\n <li class=\"rubric-page__item _news\"><a class=\"card-full-news _subrubric\" href=\"/news/2023/10/26/otvt/\"><h3 class=\"card-full-news__title\">В России рассказали об ответе на размещение США ядерного оружия в Европе</h3><div class=\"card-full-news__info\"><time class=\"card-full-news__info-item card-full-news__date\">15:17, 26 октября 2023</time><span class=\"card-full-news__info-item card-full-news__rubric\">Мир</span></div></a></li>,\n <li class=\"rubric-page__item _news\"><a class=\"card-full-news _subrubric\" href=\"/news/2023/10/26/erdogan-nazval-rezney-i-varvarstvom-proishodyaschee-v-sektore-gaza/\"><h3 class=\"card-full-news__title\">Эрдоган назвал резней и варварством происходящее в секторе Газа</h3><div class=\"card-full-news__info\"><time class=\"card-full-news__info-item card-full-news__date\">14:55, 26 октября 2023</time><span class=\"card-full-news__info-item card-full-news__rubric\">Мир</span></div></a></li>,\n <li class=\"rubric-page__item _news\"><a class=\"card-full-news _subrubric\" href=\"/news/2023/10/26/erdogan-nazval-rezney-i-varvarstvom-proishodyaschee-v-sektore-gaza/\"><h3 class=\"card-full-news__title\">Эрдоган назвал резней и варварством происходящее в секторе Газа</h3><div class=\"card-full-news__info\"><time class=\"card-full-news__info-item card-full-news__date\">14:55, 26 октября 2023</time><span class=\"card-full-news__info-item card-full-news__rubric\">Мир</span></div></a></li>,\n <li class=\"rubric-page__item _news\"><a class=\"card-full-news _subrubric\" href=\"/news/2023/10/26/rossiyskiy-mig-31-perehvatil-norvezhskiy-samolet-nad-barentsevym-morem/\"><h3 class=\"card-full-news__title\">Российский МиГ-31 перехватил норвежский самолет над Баренцевым морем</h3><div class=\"card-full-news__info\"><time class=\"card-full-news__info-item card-full-news__date\">14:49, 26 октября 2023</time><span class=\"card-full-news__info-item card-full-news__rubric\">Мир</span></div></a></li>,\n <li class=\"rubric-page__item _news\"><a class=\"card-full-news _subrubric\" href=\"/news/2023/10/26/lavrov-zayavil-o-priverzhennosti-rossii-soglasheniyam-o-strategicheskom-vooruzhenii/\"><h3 class=\"card-full-news__title\">Лавров заявил о приверженности России соглашениям о стратегическом вооружении</h3><div class=\"card-full-news__info\"><time class=\"card-full-news__info-item card-full-news__date\">14:40, 26 октября 2023</time><span class=\"card-full-news__info-item card-full-news__rubric\">Мир</span></div></a></li>,\n <li class=\"rubric-page__item _news\"><a class=\"card-full-news _subrubric\" href=\"/news/2023/10/26/palestina-obvinila-izrail-v-ispolzovanii-zapreschennyh-boepripasov-v-gaze/\"><h3 class=\"card-full-news__title\">Палестина обвинила Израиль в использовании запрещенных боеприпасов в Газе</h3><div class=\"card-full-news__info\"><time class=\"card-full-news__info-item card-full-news__date\">14:03, 26 октября 2023</time><span class=\"card-full-news__info-item card-full-news__rubric\">Мир</span></div></a></li>,\n <li class=\"rubric-page__item _news\"><a class=\"card-full-news _subrubric\" href=\"/news/2023/10/26/peskov-prokommentiroval-izbranie-novogo-spikera-palaty-predstaviteley-ssha/\"><h3 class=\"card-full-news__title\">Песков прокомментировал избрание нового спикера Палаты представителей США</h3><div class=\"card-full-news__info\"><time class=\"card-full-news__info-item card-full-news__date\">13:24, 26 октября 2023</time><span class=\"card-full-news__info-item card-full-news__rubric\">Мир</span></div></a></li>,\n <li class=\"rubric-page__item _news\"><a class=\"card-full-news _subrubric\" href=\"/news/2023/10/26/tsahal-nazval-chislo-zaderzhannyh-s-nachala-voyny-palestintsev/\"><h3 class=\"card-full-news__title\">ЦАХАЛ назвал число задержанных с начала войны палестинцев</h3><div class=\"card-full-news__info\"><time class=\"card-full-news__info-item card-full-news__date\">13:23, 26 октября 2023</time><span class=\"card-full-news__info-item card-full-news__rubric\">Мир</span></div></a></li>,\n <li class=\"rubric-page__item _news\"><a class=\"card-full-news _subrubric\" href=\"/news/2023/10/26/v-ssha-predlozhili-peredat-pomosch-izrailyu-vmesto-ukrainy/\"><h3 class=\"card-full-news__title\">В США предложили передать помощь Израилю вместо Украины</h3><div class=\"card-full-news__info\"><time class=\"card-full-news__info-item card-full-news__date\">13:15, 26 октября 2023</time><span class=\"card-full-news__info-item card-full-news__rubric\">Мир</span></div></a></li>,\n <li class=\"rubric-page__item _news\"><a class=\"card-full-news _subrubric\" href=\"/news/2023/10/26/peskov-predlozhil-ugadat-s-treh-raz-temu-peregovorov-putina-i-abbasa/\"><h3 class=\"card-full-news__title\">Песков предложил угадать с трех раз тему переговоров Путина и Аббаса</h3><div class=\"card-full-news__info\"><time class=\"card-full-news__info-item card-full-news__date\">13:13, 26 октября 2023</time><span class=\"card-full-news__info-item card-full-news__rubric\">Мир</span></div></a></li>,\n <li class=\"rubric-page__item _news\"><a class=\"card-full-news _subrubric\" href=\"/news/2023/10/26/peskov-vyskazalsya-o-nezhelanii-slovakii-postavlyat-oruzhie-kievu/\"><h3 class=\"card-full-news__title\">В Кремле прокомментировали нежелание Словакии поставлять оружие Киеву</h3><div class=\"card-full-news__info\"><time class=\"card-full-news__info-item card-full-news__date\">12:47, 26 октября 2023</time><span class=\"card-full-news__info-item card-full-news__rubric\">Мир</span></div></a></li>,\n <li class=\"rubric-page__item _news\"><a class=\"card-full-news _subrubric\" href=\"/news/2023/10/26/novyy-premier-slovakii-nazval-plan-zelenskogo-po-miru-ne-realistichnym/\"><h3 class=\"card-full-news__title\">Новый премьер Словакии назвал план Зеленского по миру нереалистичным</h3><div class=\"card-full-news__info\"><time class=\"card-full-news__info-item card-full-news__date\">12:32, 26 октября 2023</time><span class=\"card-full-news__info-item card-full-news__rubric\">Мир</span></div></a></li>,\n <li class=\"rubric-page__item _news\"><a class=\"card-full-news _subrubric\" href=\"/news/2023/10/26/stalo-izvestno-o-tysyachah-mobilizovannyh-v-tsahal-rossiyan/\"><h3 class=\"card-full-news__title\">Стало известно о тысячах мобилизованных в ЦАХАЛ россиян</h3><div class=\"card-full-news__info\"><time class=\"card-full-news__info-item card-full-news__date\">12:19, 26 октября 2023</time><span class=\"card-full-news__info-item card-full-news__rubric\">Мир</span></div></a></li>,\n <li class=\"rubric-page__item _news\"><a class=\"card-full-news _subrubric\" href=\"/news/2023/10/26/v-slovakii-nazvali-uslovie-dlya-otkaza-ot-novyh-antirossiyskih-sanktsiy/\"><h3 class=\"card-full-news__title\">В Словакии назвали условие отказа от новых антироссийских санкций</h3><div class=\"card-full-news__info\"><time class=\"card-full-news__info-item card-full-news__date\">12:13, 26 октября 2023</time><span class=\"card-full-news__info-item card-full-news__rubric\">Мир</span></div></a></li>,\n <li class=\"rubric-page__item _news\"><a class=\"card-full-news _subrubric\" href=\"/news/2023/10/26/premier-slovakii-prizval-es-stat-mirotvortsem/\"><h3 class=\"card-full-news__title\">Премьер Словакии призвал ЕС стать миротворцем</h3><div class=\"card-full-news__info\"><time class=\"card-full-news__info-item card-full-news__date\">12:10, 26 октября 2023</time><span class=\"card-full-news__info-item card-full-news__rubric\">Мир</span></div></a></li>,\n <li class=\"rubric-page__item _news\"><a class=\"card-full-news _subrubric\" href=\"/news/2023/10/26/zamglavy-mid-rossii-vstretilsya-s-politicheskim-rukovoditelem-hamas/\"><h3 class=\"card-full-news__title\">Замглавы МИД России встретился с политическим руководителем ХАМАС</h3><div class=\"card-full-news__info\"><time class=\"card-full-news__info-item card-full-news__date\">12:07, 26 октября 2023</time><span class=\"card-full-news__info-item card-full-news__rubric\">Мир</span></div></a></li>,\n <li class=\"rubric-page__item _news\"><a class=\"card-full-news _subrubric\" href=\"/news/2023/10/26/mid-rossii-anonsiroval-vizit-prezidenta-palestiny/\"><h3 class=\"card-full-news__title\">МИД России анонсировал визит президента Палестины</h3><div class=\"card-full-news__info\"><time class=\"card-full-news__info-item card-full-news__date\">11:54, 26 октября 2023</time><span class=\"card-full-news__info-item card-full-news__rubric\">Мир</span></div></a></li>,\n <li class=\"rubric-page__item _news\"><a class=\"card-full-news _subrubric\" href=\"/news/2023/10/26/stalo-izvestno-o-popytkah-katara-osvobodit-50-zalozhnikov/\"><h3 class=\"card-full-news__title\">Стало известно о попытках Катара освободить 50 заложников</h3><div class=\"card-full-news__info\"><time class=\"card-full-news__info-item card-full-news__date\">11:46, 26 октября 2023</time><span class=\"card-full-news__info-item card-full-news__rubric\">Мир</span></div></a></li>,\n <li class=\"rubric-page__item _news\"><a class=\"card-full-news _subrubric\" href=\"/news/2023/10/26/vyroslo-chislo-zahvachennyh-v-izraile-zalozhnikov-hamas/\"><h3 class=\"card-full-news__title\">Выросло число захваченных в Израиле заложников ХАМАС</h3><div class=\"card-full-news__info\"><time class=\"card-full-news__info-item card-full-news__date\">11:37, 26 октября 2023</time><span class=\"card-full-news__info-item card-full-news__rubric\">Мир</span></div></a></li>,\n <li class=\"rubric-page__item _news\"><a class=\"card-full-news _subrubric\" href=\"/news/2023/10/26/slovakiya-otkazalas-ot-voennoy-pomoschi-ukraine/\"><h3 class=\"card-full-news__title\">Словакия отказалась от военной помощи Украине</h3><div class=\"card-full-news__info\"><time class=\"card-full-news__info-item card-full-news__date\">11:32, 26 октября 2023</time><span class=\"card-full-news__info-item card-full-news__rubric\">Мир</span></div></a></li>,\n <li class=\"rubric-page__item _news\"><a class=\"card-full-news _subrubric\" href=\"/news/2023/10/26/v-izraile-prizvali-otlozhit-vtorzhenie-v-sektor-gaza/\"><h3 class=\"card-full-news__title\">В Израиле призвали отложить вторжение в сектор Газа</h3><div class=\"card-full-news__info\"><time class=\"card-full-news__info-item card-full-news__date\">11:18, 26 октября 2023</time><span class=\"card-full-news__info-item card-full-news__rubric\">Мир</span></div></a></li>,\n <li class=\"rubric-page__item _news\"><a class=\"card-full-news _subrubric\" href=\"/news/2023/10/26/germaniyu-nazvali-samoy-rasistskoy-stranoy-es/\"><h3 class=\"card-full-news__title\">Германию назвали самой расистской страной ЕС</h3><div class=\"card-full-news__info\"><time class=\"card-full-news__info-item card-full-news__date\">11:18, 26 октября 2023</time><span class=\"card-full-news__info-item card-full-news__rubric\">Мир</span></div></a></li>,\n <li class=\"rubric-page__item _news\"><a class=\"card-full-news _subrubric\" href=\"/news/2023/10/26/lavrov-predupredil-ob-otvete-rossii-na-razmeschenie-yadernogo-oruzhiya-ssha-v-evrope/\"><h3 class=\"card-full-news__title\">Лавров предупредил об ответе России на размещение ядерного оружия США в Европе</h3><div class=\"card-full-news__info\"><time class=\"card-full-news__info-item card-full-news__date\">10:59, 26 октября 2023</time><span class=\"card-full-news__info-item card-full-news__rubric\">Мир</span></div></a></li>,\n <li class=\"rubric-page__item _news\"><a class=\"card-full-news _subrubric\" href=\"/news/2023/10/26/shvetsiya-predostavit-ssha-dostup-k-svoim-voennym-bazam/\"><h3 class=\"card-full-news__title\">Швеция предоставит США доступ к своим военным базам</h3><div class=\"card-full-news__info\"><time class=\"card-full-news__info-item card-full-news__date\">10:43, 26 октября 2023</time><span class=\"card-full-news__info-item card-full-news__rubric\">Мир</span></div></a></li>,\n <li class=\"rubric-page__item _news\"><a class=\"card-full-news _subrubric\" href=\"/news/2023/10/26/novyy-spiker-palaty-predstaviteley-ssha-nazval-svoy-pervyy-shag/\"><h3 class=\"card-full-news__title\">Новый спикер Палаты представителей США назвал свой первый шаг</h3><div class=\"card-full-news__info\"><time class=\"card-full-news__info-item card-full-news__date\">09:53, 26 октября 2023</time><span class=\"card-full-news__info-item card-full-news__rubric\">Мир</span></div></a></li>,\n <li class=\"rubric-page__item _news\"><a class=\"card-full-news _subrubric\" href=\"/news/2023/10/28/osvobodit/\"><h3 class=\"card-full-news__title\">ХАМАС назвало условие освобождения израильских заложников</h3><div class=\"card-full-news__info\"><time class=\"card-full-news__info-item card-full-news__date\">20:14</time><span class=\"card-full-news__info-item card-full-news__rubric\">Мир</span></div></a></li>,\n <li class=\"rubric-page__item _news\"><a class=\"card-full-news _subrubric\" href=\"/news/2023/10/28/tsahal-priveden-v-sostoyanie-povyshennoy-boevoy-gotovnosti-na-severnoy-granitse/\"><h3 class=\"card-full-news__title\">ЦАХАЛ приведен в состояние высокой боеготовности на северной границе</h3><div class=\"card-full-news__info\"><time class=\"card-full-news__info-item card-full-news__date\">19:54</time><span class=\"card-full-news__info-item card-full-news__rubric\">Мир</span></div></a></li>,\n <li class=\"rubric-page__item _news\"><a class=\"card-full-news _subrubric\" href=\"/news/2023/10/28/v-izraile-ob-yasnili-neobhodimost-nazemnoy-operatsii-v-sektore-gaza/\"><h3 class=\"card-full-news__title\">В Израиле объяснили необходимость наземной операции в секторе Газа</h3><div class=\"card-full-news__info\"><time class=\"card-full-news__info-item card-full-news__date\">19:43</time><span class=\"card-full-news__info-item card-full-news__rubric\">Мир</span></div></a></li>,\n <li class=\"rubric-page__item _news\"><a class=\"card-full-news _subrubric\" href=\"/news/2023/10/28/premier-niderlandov-zayavil-o-zhelanii-zanyat-post-genseka-nato/\"><h3 class=\"card-full-news__title\">Премьер Нидерландов заявил о желании занять пост генсека НАТО</h3><div class=\"card-full-news__info\"><time class=\"card-full-news__info-item card-full-news__date\">19:30</time><span class=\"card-full-news__info-item card-full-news__rubric\">Мир</span></div></a></li>,\n <li class=\"rubric-page__item _news\"><a class=\"card-full-news _subrubric\" href=\"/news/2023/10/28/palestintsy-ne-budut-pokidat-sektor-gaza-i-uhodit-v-egipet/\"><h3 class=\"card-full-news__title\">Палестинцы не будут покидать сектор Газа и уходить в Египет</h3><div class=\"card-full-news__info\"><time class=\"card-full-news__info-item card-full-news__date\">19:00</time><span class=\"card-full-news__info-item card-full-news__rubric\">Мир</span></div></a></li>,\n <li class=\"rubric-page__item _news\"><a class=\"card-full-news _subrubric\" href=\"/news/2023/10/28/izrail-otozval-svoih-poslov-iz-turtsii-posle-zayavleniy-erdogana/\"><h3 class=\"card-full-news__title\">Израиль отозвал дипломатов из Турции после заявлений Эрдогана</h3><div class=\"card-full-news__info\"><time class=\"card-full-news__info-item card-full-news__date\">18:45</time><span class=\"card-full-news__info-item card-full-news__rubric\">Мир</span></div></a></li>,\n <li class=\"rubric-page__item _news\"><a class=\"card-full-news _subrubric\" href=\"/news/2023/10/28/v-estonii-zaschitnikov-sovetskih-pamyatnikov-nazvali-ugrozoy-natsbezopasnosti/\"><h3 class=\"card-full-news__title\">В Эстонии защитников советских памятников назвали угрозой нацбезопасности</h3><div class=\"card-full-news__info\"><time class=\"card-full-news__info-item card-full-news__date\">18:25</time><span class=\"card-full-news__info-item card-full-news__rubric\">Мир</span></div></a></li>,\n <li class=\"rubric-page__item _news\"><a class=\"card-full-news _subrubric\" href=\"/news/2023/10/28/pentagon-oproverg-uchastie-amerikanskih-soldat-v-operatsii-v-gaze/\"><h3 class=\"card-full-news__title\">Пентагон опроверг участие американских солдат в операции в Газе</h3><div class=\"card-full-news__info\"><time class=\"card-full-news__info-item card-full-news__date\">18:14</time><span class=\"card-full-news__info-item card-full-news__rubric\">Мир</span></div></a></li>,\n <li class=\"rubric-page__item _news\"><a class=\"card-full-news _subrubric\" href=\"/news/2023/10/28/v-ssha-vyskazalis-o-posledstviyah-vvedennogo-zapadom-potolka-tsen-dlya-rossii/\"><h3 class=\"card-full-news__title\">В США высказались о последствиях введенного Западом потолка цен для России</h3><div class=\"card-full-news__info\"><time class=\"card-full-news__info-item card-full-news__date\">18:08</time><span class=\"card-full-news__info-item card-full-news__rubric\">Мир</span></div></a></li>,\n <li class=\"rubric-page__item _news\"><a class=\"card-full-news _subrubric\" href=\"/news/2023/10/28/zapad-nachal-vynuzhdat-ukrainu-naraschivat-svoe-proizvodstvo-vooruzheniy/\"><h3 class=\"card-full-news__title\">Запад начал вынуждать Украину наращивать свое производство вооружений</h3><div class=\"card-full-news__info\"><time class=\"card-full-news__info-item card-full-news__date\">17:34</time><span class=\"card-full-news__info-item card-full-news__rubric\">Мир</span></div></a></li>,\n <li class=\"rubric-page__item _news\"><a class=\"card-full-news _subrubric\" href=\"/news/2023/10/28/abbas-ne-isklyuchil-peregovory-mezhdu-palestinoy-i-izrailem/\"><h3 class=\"card-full-news__title\">В Палестине допустили переговоры с Израилем при одном условии</h3><div class=\"card-full-news__info\"><time class=\"card-full-news__info-item card-full-news__date\">17:20</time><span class=\"card-full-news__info-item card-full-news__rubric\">Мир</span></div></a></li>,\n <li class=\"rubric-page__item _news\"><a class=\"card-full-news _subrubric\" href=\"/news/2023/10/28/erdogan-zayavil-o-namerenii-ob-yavit-izrail-voennym-prestupnikom/\"><h3 class=\"card-full-news__title\">Эрдоган заявил о намерении объявить Израиль военным преступником</h3><div class=\"card-full-news__info\"><time class=\"card-full-news__info-item card-full-news__date\">17:00</time><span class=\"card-full-news__info-item card-full-news__rubric\">Мир</span></div></a></li>,\n <li class=\"rubric-page__item _news\"><a class=\"card-full-news _subrubric\" href=\"/news/2023/10/28/erdogan-vyshel-na-miting-v-sharfe-v-tsvetah-palestinskogo-flaga/\"><h3 class=\"card-full-news__title\">Эрдоган вышел на митинг в шарфе в цветах палестинского флага</h3><div class=\"card-full-news__info\"><time class=\"card-full-news__info-item card-full-news__date\">16:56</time><span class=\"card-full-news__info-item card-full-news__rubric\">Мир</span></div></a></li>,\n <li class=\"rubric-page__item _news\"><a class=\"card-full-news _subrubric\" href=\"/news/2023/10/28/v-shotlandii-nazvali-pozorom-reshenie-londona-po-golosovaniyu-v-ga-oon-po-gaze/\"><h3 class=\"card-full-news__title\">В Шотландии назвали позором решение Лондона по голосованию в ГА ООН по Газе</h3><div class=\"card-full-news__info\"><time class=\"card-full-news__info-item card-full-news__date\">16:44</time><span class=\"card-full-news__info-item card-full-news__rubric\">Мир</span></div></a></li>,\n <li class=\"rubric-page__item _news\"><a class=\"card-full-news _subrubric\" href=\"/news/2023/10/28/vengriya-otreagirovala-na-obvineniya-v-avtoritarizme-so-storony-shvetsii/\"><h3 class=\"card-full-news__title\">Венгрия отреагировала на обвинения в авторитаризме со стороны Швеции</h3><div class=\"card-full-news__info\"><time class=\"card-full-news__info-item card-full-news__date\">16:18</time><span class=\"card-full-news__info-item card-full-news__rubric\">Мир</span></div></a></li>,\n <li class=\"rubric-page__item _news\"><a class=\"card-full-news _subrubric\" href=\"/news/2023/10/28/newphasee/\"><h3 class=\"card-full-news__title\">Минобороны Израиля заявило о новой фазе военных действий</h3><div class=\"card-full-news__info\"><time class=\"card-full-news__info-item card-full-news__date\">16:03</time><span class=\"card-full-news__info-item card-full-news__rubric\">Мир</span></div></a></li>,\n <li class=\"rubric-page__item _news\"><a class=\"card-full-news _subrubric\" href=\"/news/2023/10/28/v-slovakii-reshili-peresmotret-soglashenie-s-ssha-o-sotrudnichestve-v-sfere-oborony/\"><h3 class=\"card-full-news__title\">В Словакии решили пересмотреть соглашение с США о сотрудничестве в сфере обороны</h3><div class=\"card-full-news__info\"><time class=\"card-full-news__info-item card-full-news__date\">16:00</time><span class=\"card-full-news__info-item card-full-news__rubric\">Мир</span></div></a></li>,\n <li class=\"rubric-page__item _news\"><a class=\"card-full-news _subrubric\" href=\"/news/2023/10/28/mask-poobeschal-pomosch-sektoru-gaza/\"><h3 class=\"card-full-news__title\">Маск пообещал помощь сектору Газа</h3><div class=\"card-full-news__info\"><time class=\"card-full-news__info-item card-full-news__date\">15:33</time><span class=\"card-full-news__info-item card-full-news__rubric\">Мир</span></div></a></li>,\n <li class=\"rubric-page__item _news\"><a class=\"card-full-news _subrubric\" href=\"/news/2023/10/28/stalo-izvestno-ob-uchastii-pyati-tysyach-soldat-ssha-v-operatsii-v-gaze/\"><h3 class=\"card-full-news__title\">Стало известно об участии пяти тысяч солдат США в операции в Газе</h3><div class=\"card-full-news__info\"><time class=\"card-full-news__info-item card-full-news__date\">15:08</time><span class=\"card-full-news__info-item card-full-news__rubric\">Мир</span></div></a></li>,\n <li class=\"rubric-page__item _news\"><a class=\"card-full-news _subrubric\" href=\"/news/2023/10/28/v-mid-rossii-zayavili-o-perehode-izrailya-k-nazemnoy-operatsii-v-gaze/\"><h3 class=\"card-full-news__title\">В МИД России заявили о переходе Израиля к наземной операции в Газе</h3><div class=\"card-full-news__info\"><time class=\"card-full-news__info-item card-full-news__date\">15:01</time><span class=\"card-full-news__info-item card-full-news__rubric\">Мир</span></div></a></li>,\n <li class=\"rubric-page__item _news\"><a class=\"card-full-news _subrubric\" href=\"/news/2023/10/28/komponenti/\"><h3 class=\"card-full-news__title\">МИД заявил о западных компонентах в используемых для атаки на Курскую АЭС дронах</h3><div class=\"card-full-news__info\"><time class=\"card-full-news__info-item card-full-news__date\">14:40</time><span class=\"card-full-news__info-item card-full-news__rubric\">Мир</span></div></a></li>,\n <li class=\"rubric-page__item _news\"><a class=\"card-full-news _subrubric\" href=\"/news/2023/10/28/ukrainskiy-bespilotnik-vrezalsya-v-chast-kurskoy-aes-s-yadernymi-othodami/\"><h3 class=\"card-full-news__title\">Украинский беспилотник врезался в часть Курской АЭС с ядерными отходами</h3><div class=\"card-full-news__info\"><time class=\"card-full-news__info-item card-full-news__date\">14:36</time><span class=\"card-full-news__info-item card-full-news__rubric\">Мир</span></div></a></li>,\n <li class=\"rubric-page__item _news\"><a class=\"card-full-news _subrubric\" href=\"/news/2023/10/28/izrail-ne-informirovali-ob-itogah-vizita-hamas-v-rossiyu/\"><h3 class=\"card-full-news__title\">Израиль не информировали об итогах визита ХАМАС в Россию</h3><div class=\"card-full-news__info\"><time class=\"card-full-news__info-item card-full-news__date\">14:17</time><span class=\"card-full-news__info-item card-full-news__rubric\">Мир</span></div></a></li>,\n <li class=\"rubric-page__item _news\"><a class=\"card-full-news _subrubric\" href=\"/news/2023/10/28/v-ssha-otsenili-vozmozhnye-zapasy-edy-i-topliva-u-hamas/\"><h3 class=\"card-full-news__title\">В США оценили возможные запасы еды и топлива у ХАМАС</h3><div class=\"card-full-news__info\"><time class=\"card-full-news__info-item card-full-news__date\">13:48</time><span class=\"card-full-news__info-item card-full-news__rubric\">Мир</span></div></a></li>,\n <li class=\"rubric-page__item _news\"><a class=\"card-full-news _subrubric\" href=\"/news/2023/10/28/byvshiy-razvedchik-ssha-upreknul-zelenskogo-v-boyazni-privlech-vnimanie-k-vsu/\"><h3 class=\"card-full-news__title\">Бывший разведчик США упрекнул Зеленского в боязни привлечь внимание к ВСУ</h3><div class=\"card-full-news__info\"><time class=\"card-full-news__info-item card-full-news__date\">13:46</time><span class=\"card-full-news__info-item card-full-news__rubric\">Мир</span></div></a></li>,\n <li class=\"rubric-page__item _news\"><a class=\"card-full-news _subrubric\" href=\"/news/2023/10/28/hamas-zayavilo-ob-otsutstvii-progressa-v-peregovorah-po-osvobozhdeniyu-zalozhnikov/\"><h3 class=\"card-full-news__title\">ХАМАС заявило об отсутствии прогресса в переговорах по освобождению заложников</h3><div class=\"card-full-news__info\"><time class=\"card-full-news__info-item card-full-news__date\">13:37</time><span class=\"card-full-news__info-item card-full-news__rubric\">Мир</span></div></a></li>,\n <li class=\"rubric-page__item _news\"><a class=\"card-full-news _subrubric\" href=\"/news/2023/10/28/palestina-obratilas-k-ilonu-masku-za-pomoschyu/\"><h3 class=\"card-full-news__title\">Палестина обратилась к Илону Маску за помощью</h3><div class=\"card-full-news__info\"><time class=\"card-full-news__info-item card-full-news__date\">13:35</time><span class=\"card-full-news__info-item card-full-news__rubric\">Мир</span></div></a></li>,\n <li class=\"rubric-page__item _news\"><a class=\"card-full-news _subrubric\" href=\"/news/2023/10/28/hamas-zayavilo-o-gotovnosti-otpustit-zalozhnikov-iz-rossii/\"><h3 class=\"card-full-news__title\">ХАМАС заявило о готовности отпустить заложников из России</h3><div class=\"card-full-news__info\"><time class=\"card-full-news__info-item card-full-news__date\">13:15</time><span class=\"card-full-news__info-item card-full-news__rubric\">Мир</span></div></a></li>,\n <li class=\"rubric-page__item _news\"><a class=\"card-full-news _subrubric\" href=\"/news/2023/10/28/tsahal-pokazal-rabotu-tankov-i-voysk-v-sektore-gaza/\"><h3 class=\"card-full-news__title\">ЦАХАЛ показал работу танков и войск в секторе Газа</h3><div class=\"card-full-news__info\"><time class=\"card-full-news__info-item card-full-news__date\">12:42</time><span class=\"card-full-news__info-item card-full-news__rubric\">Мир</span><svg class=\"card-full-news__info-item card-full-news__play\"><use xlink:href=\"#ui-play\"></use></svg></div></a></li>,\n <li class=\"rubric-page__item _news\"><a class=\"card-full-news _subrubric\" href=\"/news/2023/10/28/izrailskaya-politsiya-razreshila-provesti-miting-u-doma-netanyahu-v-kesarii/\"><h3 class=\"card-full-news__title\">Израильская полиция разрешила провести митинг у дома Нетаньяху в Кесарии</h3><div class=\"card-full-news__info\"><time class=\"card-full-news__info-item card-full-news__date\">12:39</time><span class=\"card-full-news__info-item card-full-news__rubric\">Мир</span></div></a></li>,\n <li class=\"rubric-page__item _news\"><a class=\"card-full-news _subrubric\" href=\"/news/2023/10/28/lavrov-zayavil-o-zhelanii-zaschitit-tsentralnuyu-aziyu-ot-stran-s-nechistymi-planami/\"><h3 class=\"card-full-news__title\">Лавров заявил о желании защитить Центральную Азию от стран с «нечистыми» планами</h3><div class=\"card-full-news__info\"><time class=\"card-full-news__info-item card-full-news__date\">11:41</time><span class=\"card-full-news__info-item card-full-news__rubric\">Мир</span></div></a></li>,\n <li class=\"rubric-page__item _news\"><a class=\"card-full-news _subrubric\" href=\"/news/2023/10/28/lavrov-zayavil-o-strahe-zapada-pered-ukrainoy/\"><h3 class=\"card-full-news__title\">Лавров заявил о страхе Запада перед Украиной</h3><div class=\"card-full-news__info\"><time class=\"card-full-news__info-item card-full-news__date\">11:39</time><span class=\"card-full-news__info-item card-full-news__rubric\">Мир</span></div></a></li>,\n <li class=\"rubric-page__item _news\"><a class=\"card-full-news _subrubric\" href=\"/news/2023/10/28/v-irane-zayavili-o-vozmozhnom-otkrytii-novyh-frontov-protiv-ssha/\"><h3 class=\"card-full-news__title\">В Иране заявили о возможном открытии новых фронтов против США</h3><div class=\"card-full-news__info\"><time class=\"card-full-news__info-item card-full-news__date\">11:16</time><span class=\"card-full-news__info-item card-full-news__rubric\">Мир</span></div></a></li>,\n <li class=\"rubric-page__item _news\"><a class=\"card-full-news _subrubric\" href=\"/news/2023/10/28/v-ssha-podelilis-trevogoy-iz-za-deystviy-putina-na-ukraine/\"><h3 class=\"card-full-news__title\">В США поделились тревогой из-за действий Путина на Украине</h3><div class=\"card-full-news__info\"><time class=\"card-full-news__info-item card-full-news__date\">11:15</time><span class=\"card-full-news__info-item card-full-news__rubric\">Мир</span></div></a></li>,\n <li class=\"rubric-page__item _news\"><a class=\"card-full-news _subrubric\" href=\"/news/2023/10/28/v-ssha-podelilis-trevogoy-iz-za-deystviy-putina-na-ukraine/\"><h3 class=\"card-full-news__title\">В США поделились тревогой из-за действий Путина на Украине</h3><div class=\"card-full-news__info\"><time class=\"card-full-news__info-item card-full-news__date\">11:15</time><span class=\"card-full-news__info-item card-full-news__rubric\">Мир</span></div></a></li>,\n <li class=\"rubric-page__item _news\"><a class=\"card-full-news _subrubric\" href=\"/news/2023/10/28/izrail-soglasilsya-dopustit-v-sektor-gaza-medikamenty-i-vodu/\"><h3 class=\"card-full-news__title\">Израиль согласился допустить в сектор Газа лекарства и воду</h3><div class=\"card-full-news__info\"><time class=\"card-full-news__info-item card-full-news__date\">11:14</time><span class=\"card-full-news__info-item card-full-news__rubric\">Мир</span></div></a></li>,\n <li class=\"rubric-page__item _news\"><a class=\"card-full-news _subrubric\" href=\"/news/2023/10/28/lavrov-predrek-katastrofu-v-sluchae-unichtozheniya-sektora-gaza/\"><h3 class=\"card-full-news__title\">Лавров предрек катастрофу в случае уничтожения сектора Газа</h3><div class=\"card-full-news__info\"><time class=\"card-full-news__info-item card-full-news__date\">10:59</time><span class=\"card-full-news__info-item card-full-news__rubric\">Мир</span></div></a></li>,\n <li class=\"rubric-page__item _news\"><a class=\"card-full-news _subrubric\" href=\"/news/2023/10/28/v-germanii-zayavili-o-sbyvayuschemsya-predskazanii-putina-po-ukraine/\"><h3 class=\"card-full-news__title\">В Германии заявили о сбывающемся предсказании Путина по Украине</h3><div class=\"card-full-news__info\"><time class=\"card-full-news__info-item card-full-news__date\">10:50</time><span class=\"card-full-news__info-item card-full-news__rubric\">Мир</span></div></a></li>,\n <li class=\"rubric-page__item _news\"><a class=\"card-full-news _subrubric\" href=\"/news/2023/10/28/erdogan-prizval-izrail-nemedlenno-vyyti-iz-sostoyaniya-bezumiya/\"><h3 class=\"card-full-news__title\">Эрдоган призвал Израиль немедленно выйти из состояния безумия</h3><div class=\"card-full-news__info\"><time class=\"card-full-news__info-item card-full-news__date\">10:33</time><span class=\"card-full-news__info-item card-full-news__rubric\">Мир</span></div></a></li>,\n <li class=\"rubric-page__item _news\"><a class=\"card-full-news _subrubric\" href=\"/news/2023/10/28/soed_soed/\"><h3 class=\"card-full-news__title\">Союзники засомневались в готовности США помогать одновременно Израилю и Украине</h3><div class=\"card-full-news__info\"><time class=\"card-full-news__info-item card-full-news__date\">10:20</time><span class=\"card-full-news__info-item card-full-news__rubric\">Мир</span></div></a></li>,\n <li class=\"rubric-page__item _news\"><a class=\"card-full-news _subrubric\" href=\"/news/2023/10/28/vengriya-vozmutilas-otsutstviem-rassledovaniya-vzryvov-na-severnyh-potokah/\"><h3 class=\"card-full-news__title\">Венгрия возмутилась отсутствием расследования взрывов на «Северных потоках»</h3><div class=\"card-full-news__info\"><time class=\"card-full-news__info-item card-full-news__date\">10:06</time><span class=\"card-full-news__info-item card-full-news__rubric\">Мир</span></div></a></li>,\n <li class=\"rubric-page__item _news\"><a class=\"card-full-news _subrubric\" href=\"/news/2023/10/28/vengriya-zayavila-o-gotovnosti-ustroit-u-sebya-peregovory-rossii-i-ukrainy/\"><h3 class=\"card-full-news__title\">Венгрия заявила о готовности устроить у себя переговоры России и Украины</h3><div class=\"card-full-news__info\"><time class=\"card-full-news__info-item card-full-news__date\">09:29</time><span class=\"card-full-news__info-item card-full-news__rubric\">Мир</span></div></a></li>,\n <li class=\"rubric-page__item _news\"><a class=\"card-full-news _subrubric\" href=\"/news/2023/10/28/v-mid-vyskazalis-o-razmeschenii-rossiey-oruzhiya-na-zaes/\"><h3 class=\"card-full-news__title\">В МИД высказались о размещении Россией оружия на ЗАЭС</h3><div class=\"card-full-news__info\"><time class=\"card-full-news__info-item card-full-news__date\">09:18</time><span class=\"card-full-news__info-item card-full-news__rubric\">Мир</span></div></a></li>,\n <li class=\"rubric-page__item _news\"><a class=\"card-full-news _subrubric\" href=\"/news/2023/10/28/without/\"><h3 class=\"card-full-news__title\">В Израиле призвали ХАМАС освободить заложников без условий</h3><div class=\"card-full-news__info\"><time class=\"card-full-news__info-item card-full-news__date\">08:49</time><span class=\"card-full-news__info-item card-full-news__rubric\">Мир</span></div></a></li>,\n <li class=\"rubric-page__item _news\"><a class=\"card-full-news _subrubric\" href=\"/news/2023/10/28/nazvany-sroki-rassmotreniya-vengriey-tranzita-po-turetskomu-potoku/\"><h3 class=\"card-full-news__title\">Названы сроки рассмотрения Венгрией транзита по «Турецкому потоку»</h3><div class=\"card-full-news__info\"><time class=\"card-full-news__info-item card-full-news__date\">08:33</time><span class=\"card-full-news__info-item card-full-news__rubric\">Мир</span></div></a></li>,\n <li class=\"rubric-page__item _news\"><a class=\"card-full-news _subrubric\" href=\"/news/2023/10/28/hamas/\"><h3 class=\"card-full-news__title\">Израиль заявил о ликвидации главы воздушных сил ХАМАС</h3><div class=\"card-full-news__info\"><time class=\"card-full-news__info-item card-full-news__date\">08:09</time><span class=\"card-full-news__info-item card-full-news__rubric\">Мир</span></div></a></li>,\n <li class=\"rubric-page__item _news\"><a class=\"card-full-news _subrubric\" href=\"/news/2023/10/28/genassambleya-oon-prinyala-rezolyutsiyu-o-palestino-izrailskom-konflikte-o-chem-govoritsya-v-dokumente-i-kto-ego-podderzhal/\"><h3 class=\"card-full-news__title\">Генассамблея ООН приняла резолюцию о палестино-израильском конфликте. О чем говорится в документе и кто его поддержал?</h3><div class=\"card-full-news__info\"><time class=\"card-full-news__info-item card-full-news__date\">08:02</time><span class=\"card-full-news__info-item card-full-news__rubric\">Мир</span><svg class=\"card-full-news__info-item card-full-news__super-news\"><use xlink:href=\"#ui-super-news\"></use></svg></div></a></li>,\n <li class=\"rubric-page__item _news\"><a class=\"card-full-news _subrubric\" href=\"/news/2023/10/28/ze_es/\"><h3 class=\"card-full-news__title\">В Германии оценили шансы Украины на вступление в ЕС</h3><div class=\"card-full-news__info\"><time class=\"card-full-news__info-item card-full-news__date\">07:26</time><span class=\"card-full-news__info-item card-full-news__rubric\">Мир</span></div></a></li>,\n <li class=\"rubric-page__item _news\"><a class=\"card-full-news _subrubric\" href=\"/news/2023/10/28/raufoss/\"><h3 class=\"card-full-news__title\">В Норвегии допустили сокращение помощи Украине</h3><div class=\"card-full-news__info\"><time class=\"card-full-news__info-item card-full-news__date\">07:01</time><span class=\"card-full-news__info-item card-full-news__rubric\">Мир</span></div></a></li>,\n <li class=\"rubric-page__item _news\"><a class=\"card-full-news _subrubric\" href=\"/news/2023/10/28/stop_war/\"><h3 class=\"card-full-news__title\">В Венгрии призвали избежать войны на Ближнем Востоке</h3><div class=\"card-full-news__info\"><time class=\"card-full-news__info-item card-full-news__date\">06:30</time><span class=\"card-full-news__info-item card-full-news__rubric\">Мир</span></div></a></li>,\n <li class=\"rubric-page__item _news\"><a class=\"card-full-news _subrubric\" href=\"/news/2023/10/28/nato/\"><h3 class=\"card-full-news__title\">В НАТО заявили о неготовности Украины вступить в альянс</h3><div class=\"card-full-news__info\"><time class=\"card-full-news__info-item card-full-news__date\">06:24</time><span class=\"card-full-news__info-item card-full-news__rubric\">Мир</span></div></a></li>,\n <li class=\"rubric-page__item _news\"><a class=\"card-full-news _subrubric\" href=\"/news/2023/10/28/po_ustavu/\"><h3 class=\"card-full-news__title\">Байден назвал атаки по объектов в Сирии соответствующими уставу ООН</h3><div class=\"card-full-news__info\"><time class=\"card-full-news__info-item card-full-news__date\">06:16</time><span class=\"card-full-news__info-item card-full-news__rubric\">Мир</span></div></a></li>,\n <li class=\"rubric-page__item _news\"><a class=\"card-full-news _subrubric\" href=\"/news/2023/10/28/po_ustavu/\"><h3 class=\"card-full-news__title\">Байден назвал атаки по объектов в Сирии соответствующими уставу ООН</h3><div class=\"card-full-news__info\"><time class=\"card-full-news__info-item card-full-news__date\">06:16</time><span class=\"card-full-news__info-item card-full-news__rubric\">Мир</span></div></a></li>,\n <li class=\"rubric-page__item _news\"><a class=\"card-full-news _subrubric\" href=\"/news/2023/10/28/all/\"><h3 class=\"card-full-news__title\">В США назвали планирующие воевать с Израилем страны</h3><div class=\"card-full-news__info\"><time class=\"card-full-news__info-item card-full-news__date\">05:54</time><span class=\"card-full-news__info-item card-full-news__rubric\">Мир</span></div></a></li>,\n <li class=\"rubric-page__item _news\"><a class=\"card-full-news _subrubric\" href=\"/news/2023/10/28/gretsiya-otkazalas-peresmatrivat-byudzhet-es-tolko-v-polzu-ukrainy/\"><h3 class=\"card-full-news__title\">Греция отказалась пересматривать бюджет ЕС только в пользу Украины</h3><div class=\"card-full-news__info\"><time class=\"card-full-news__info-item card-full-news__date\">05:25</time><span class=\"card-full-news__info-item card-full-news__rubric\">Мир</span></div></a></li>,\n <li class=\"rubric-page__item _news\"><a class=\"card-full-news _subrubric\" href=\"/news/2023/10/28/meeting/\"><h3 class=\"card-full-news__title\">В США и КНР выразили готовность проработать встречу Байдена и Си Цзиньпина</h3><div class=\"card-full-news__info\"><time class=\"card-full-news__info-item card-full-news__date\">04:50</time><span class=\"card-full-news__info-item card-full-news__rubric\">Мир</span></div></a></li>,\n <li class=\"rubric-page__item _news\"><a class=\"card-full-news _subrubric\" href=\"/news/2023/10/28/sovetnik-netanyahu-prigrozil-hamas-gnevom/\"><h3 class=\"card-full-news__title\">Советник Нетаньяху пригрозил бойцам ХАМАС</h3><div class=\"card-full-news__info\"><time class=\"card-full-news__info-item card-full-news__date\">04:18</time><span class=\"card-full-news__info-item card-full-news__rubric\">Мир</span></div></a></li>,\n <li class=\"rubric-page__item _news\"><a class=\"card-full-news _subrubric\" href=\"/news/2023/10/28/front/\"><h3 class=\"card-full-news__title\">Иран пригрозил США открытием новых антиамериканских фронтов</h3><div class=\"card-full-news__info\"><time class=\"card-full-news__info-item card-full-news__date\">04:00</time><span class=\"card-full-news__info-item card-full-news__rubric\">Мир</span></div></a></li>,\n <li class=\"rubric-page__item _news\"><a class=\"card-full-news _subrubric\" href=\"/news/2023/10/28/v-hamas-privetstvovali-prinyatie-genassamblei-oon-rezolyutsii-po-blizhnemu-vostoku/\"><h3 class=\"card-full-news__title\">В ХАМАС приветствовали принятие Генассамблеи ООН резолюции по Ближнему Востоку</h3><div class=\"card-full-news__info\"><time class=\"card-full-news__info-item card-full-news__date\">03:24</time><span class=\"card-full-news__info-item card-full-news__rubric\">Мир</span></div></a></li>,\n <li class=\"rubric-page__item _news\"><a class=\"card-full-news _subrubric\" href=\"/news/2023/10/28/v-ssha-vspomnili-prorocheskie-slova-kissindzhera-o-gibeli-ukrainy/\"><h3 class=\"card-full-news__title\">В США вспомнили пророческие слова Киссинджера о гибели Украины</h3><div class=\"card-full-news__info\"><time class=\"card-full-news__info-item card-full-news__date\">02:34</time><span class=\"card-full-news__info-item card-full-news__rubric\">Мир</span></div></a></li>,\n <li class=\"rubric-page__item _news\"><a class=\"card-full-news _subrubric\" href=\"/news/2023/10/07/israel_zhertvy/\"><h3 class=\"card-full-news__title\">Число жертв обострения конфликта в Израиле выросло</h3><div class=\"card-full-news__info\"><time class=\"card-full-news__info-item card-full-news__date\">21:20, 7 октября 2023</time><span class=\"card-full-news__info-item card-full-news__rubric\">Мир</span></div></a></li>,\n <li class=\"rubric-page__item _news\"><a class=\"card-full-news _subrubric\" href=\"/news/2023/10/07/terroristy/\"><h3 class=\"card-full-news__title\">Израильская армия сообщила о проникновении террористов из Газы</h3><div class=\"card-full-news__info\"><time class=\"card-full-news__info-item card-full-news__date\">08:35, 7 октября 2023</time><span class=\"card-full-news__info-item card-full-news__rubric\">Мир</span></div></a></li>,\n <li class=\"rubric-page__item _news\"><a class=\"card-full-news _subrubric\" href=\"/news/2023/10/07/prison/\"><h3 class=\"card-full-news__title\">Обвиняемых в убийстве кандидата в президенты Эквадора убили в тюрьме</h3><div class=\"card-full-news__info\"><time class=\"card-full-news__info-item card-full-news__date\">08:17, 7 октября 2023</time><span class=\"card-full-news__info-item card-full-news__rubric\">Мир</span></div></a></li>,\n <li class=\"rubric-page__item _news\"><a class=\"card-full-news _subrubric\" href=\"/news/2023/10/06/secrets/\"><h3 class=\"card-full-news__title\">Американский сержант военной разведки пытался передать Китаю секретные данные</h3><div class=\"card-full-news__info\"><time class=\"card-full-news__info-item card-full-news__date\">23:17, 6 октября 2023</time><span class=\"card-full-news__info-item card-full-news__rubric\">Мир</span></div></a></li>,\n <li class=\"rubric-page__item _news\"><a class=\"card-full-news _subrubric\" href=\"/news/2023/10/05/putin_nord_stream/\"><h3 class=\"card-full-news__title\">Путин назвал виновных во взрывах на «Северных потоках»</h3><div class=\"card-full-news__info\"><time class=\"card-full-news__info-item card-full-news__date\">19:29, 5 октября 2023</time><span class=\"card-full-news__info-item card-full-news__rubric\">Мир</span></div></a></li>,\n <li class=\"rubric-page__item _news\"><a class=\"card-full-news _subrubric\" href=\"/news/2023/10/04/submarine/\"><h3 class=\"card-full-news__title\">В Англии сообщили о гибели экипажа китайской атомной подлодки. Субмарина «попала в ловушку» для кораблей США и Британии</h3><div class=\"card-full-news__info\"><time class=\"card-full-news__info-item card-full-news__date\">00:45, 4 октября 2023</time><span class=\"card-full-news__info-item card-full-news__rubric\">Мир</span><svg class=\"card-full-news__info-item card-full-news__super-news\"><use xlink:href=\"#ui-super-news\"></use></svg></div></a></li>,\n <li class=\"rubric-page__item _news\"><a class=\"card-full-news _subrubric\" href=\"/news/2023/10/03/lodka/\"><h3 class=\"card-full-news__title\">Британская разведка сообщила о гибели 55 моряков с китайской подводной лодки</h3><div class=\"card-full-news__info\"><time class=\"card-full-news__info-item card-full-news__date\">23:54, 3 октября 2023</time><span class=\"card-full-news__info-item card-full-news__rubric\">Мир</span></div></a></li>,\n <li class=\"rubric-page__item _news\"><a class=\"card-full-news _subrubric\" href=\"/news/2023/10/03/napalii/\"><h3 class=\"card-full-news__title\">Грабители напали на конгрессмена США и угнали его автомобиль</h3><div class=\"card-full-news__info\"><time class=\"card-full-news__info-item card-full-news__date\">06:49, 3 октября 2023</time><span class=\"card-full-news__info-item card-full-news__rubric\">Мир</span></div></a></li>,\n <li class=\"rubric-page__item _news\"><a class=\"card-full-news _subrubric\" href=\"/news/2023/10/03/resbublic/\"><h3 class=\"card-full-news__title\">Американский сенатор погиб вместе с семьей в авиакатастрофе</h3><div class=\"card-full-news__info\"><time class=\"card-full-news__info-item card-full-news__date\">00:43, 3 октября 2023</time><span class=\"card-full-news__info-item card-full-news__rubric\">Мир</span></div></a></li>,\n <li class=\"rubric-page__item _news\"><a class=\"card-full-news _subrubric\" href=\"/news/2023/10/02/china_plane/\"><h3 class=\"card-full-news__title\">На востоке Китая упал пассажирский самолет</h3><div class=\"card-full-news__info\"><time class=\"card-full-news__info-item card-full-news__date\">14:33, 2 октября 2023</time><span class=\"card-full-news__info-item card-full-news__rubric\">Мир</span></div></a></li>,\n <li class=\"rubric-page__item _news\"><a class=\"card-full-news _subrubric\" href=\"/news/2023/10/02/grizli/\"><h3 class=\"card-full-news__title\">В Канаде гризли растерзал двух туристов</h3><div class=\"card-full-news__info\"><time class=\"card-full-news__info-item card-full-news__date\">00:47, 2 октября 2023</time><span class=\"card-full-news__info-item card-full-news__rubric\">Мир</span></div></a></li>,\n <li class=\"rubric-page__item _news\"><a class=\"card-full-news _subrubric\" href=\"/news/2023/10/01/ankara/\"><h3 class=\"card-full-news__title\">Один из пытавшихся устроить теракт в Анкаре состоял в запрещенной партии</h3><div class=\"card-full-news__info\"><time class=\"card-full-news__info-item card-full-news__date\">23:29, 1 октября 2023</time><span class=\"card-full-news__info-item card-full-news__rubric\">Мир</span></div></a></li>,\n <li class=\"rubric-page__item _news\"><a class=\"card-full-news _subrubric\" href=\"/news/2023/10/01/breath/\"><h3 class=\"card-full-news__title\">Эрдоган высказался о теракте в Анкаре</h3><div class=\"card-full-news__info\"><time class=\"card-full-news__info-item card-full-news__date\">15:51, 1 октября 2023</time><span class=\"card-full-news__info-item card-full-news__rubric\">Мир</span></div></a></li>,\n <li class=\"rubric-page__item _news\"><a class=\"card-full-news _subrubric\" href=\"/news/2023/10/01/vidvzryv/\"><h3 class=\"card-full-news__title\">Момент взрыва в Анкаре попал на видео</h3><div class=\"card-full-news__info\"><time class=\"card-full-news__info-item card-full-news__date\">11:53, 1 октября 2023</time><span class=\"card-full-news__info-item card-full-news__rubric\">Мир</span><svg class=\"card-full-news__info-item card-full-news__play\"><use xlink:href=\"#ui-play\"></use></svg></div></a></li>,\n <li class=\"rubric-page__item _news\"><a class=\"card-full-news _subrubric\" href=\"/news/2023/10/01/trctt/\"><h3 class=\"card-full-news__title\">В Турции сообщили о попытке теракта</h3><div class=\"card-full-news__info\"><time class=\"card-full-news__info-item card-full-news__date\">10:30, 1 октября 2023</time><span class=\"card-full-news__info-item card-full-news__rubric\">Мир</span></div></a></li>,\n <li class=\"rubric-page__item _news\"><a class=\"card-full-news _subrubric\" href=\"/news/2023/10/01/vrsyv/\"><h3 class=\"card-full-news__title\">У здания МВД Турции прогремел взрыв</h3><div class=\"card-full-news__info\"><time class=\"card-full-news__info-item card-full-news__date\">10:10, 1 октября 2023</time><span class=\"card-full-news__info-item card-full-news__rubric\">Мир</span></div></a></li>,\n <li class=\"rubric-page__item _news\"><a class=\"card-full-news _subrubric\" href=\"/news/2023/09/30/heli/\"><h3 class=\"card-full-news__title\">Военный вертолет США врезался в высоковольтную ЛЭП в штате Вашингтон</h3><div class=\"card-full-news__info\"><time class=\"card-full-news__info-item card-full-news__date\">08:52, 30 сентября 2023</time><span class=\"card-full-news__info-item card-full-news__rubric\">Мир</span></div></a></li>,\n <li class=\"rubric-page__item _news\"><a class=\"card-full-news _subrubric\" href=\"/news/2023/09/28/laser/\"><h3 class=\"card-full-news__title\">США обвинили Иран в обстреле вертолета с помощью лазера</h3><div class=\"card-full-news__info\"><time class=\"card-full-news__info-item card-full-news__date\">23:41, 28 сентября 2023</time><span class=\"card-full-news__info-item card-full-news__rubric\">Мир</span></div></a></li>,\n <li class=\"rubric-page__item _news\"><a class=\"card-full-news _subrubric\" href=\"/news/2023/09/27/83483483/\"><h3 class=\"card-full-news__title\">Число пострадавших в пожаре в Ираке достигло 450 человек</h3><div class=\"card-full-news__info\"><time class=\"card-full-news__info-item card-full-news__date\">09:25, 27 сентября 2023</time><span class=\"card-full-news__info-item card-full-news__rubric\">Мир</span></div></a></li>,\n <li class=\"rubric-page__item _news\"><a class=\"card-full-news _subrubric\" href=\"/news/2023/09/27/wedding_fire/\"><h3 class=\"card-full-news__title\">В Ираке в результате пожара на свадьбе погибли 100 человек</h3><div class=\"card-full-news__info\"><time class=\"card-full-news__info-item card-full-news__date\">04:05, 27 сентября 2023</time><span class=\"card-full-news__info-item card-full-news__rubric\">Мир</span></div></a></li>,\n <li class=\"rubric-page__item _news\"><a class=\"card-full-news _subrubric\" href=\"/news/2023/09/26/sweden_nord_stream/\"><h3 class=\"card-full-news__title\">Посольство России в Швеции заявило о некомпетентности Стокгольма</h3><div class=\"card-full-news__info\"><time class=\"card-full-news__info-item card-full-news__date\">10:30, 26 сентября 2023</time><span class=\"card-full-news__info-item card-full-news__rubric\">Мир</span></div></a></li>,\n <li class=\"rubric-page__item _news\"><a class=\"card-full-news _subrubric\" href=\"/news/2023/09/25/potok/\"><h3 class=\"card-full-news__title\">Стало известно о планах России расследовать диверсии на «Северных потоках»</h3><div class=\"card-full-news__info\"><time class=\"card-full-news__info-item card-full-news__date\">08:30, 25 сентября 2023</time><span class=\"card-full-news__info-item card-full-news__rubric\">Мир</span></div></a></li>,\n <li class=\"rubric-page__item _news\"><a class=\"card-full-news _subrubric\" href=\"/news/2023/09/24/suxogruz/\"><h3 class=\"card-full-news__title\">У следовавшего из Турции на Украину сухогруза возникли неполадки</h3><div class=\"card-full-news__info\"><time class=\"card-full-news__info-item card-full-news__date\">22:49, 24 сентября 2023</time><span class=\"card-full-news__info-item card-full-news__rubric\">Мир</span></div></a></li>,\n <li class=\"rubric-page__item _news\"><a class=\"card-full-news _subrubric\" href=\"/news/2023/09/24/serby/\"><h3 class=\"card-full-news__title\">Вучич сообщил об убийстве косовской полицией трех сербов</h3><div class=\"card-full-news__info\"><time class=\"card-full-news__info-item card-full-news__date\">21:38, 24 сентября 2023</time><span class=\"card-full-news__info-item card-full-news__rubric\">Мир</span></div></a></li>,\n <li class=\"rubric-page__item _news\"><a class=\"card-full-news _subrubric\" href=\"/news/2023/09/24/srbio/\"><h3 class=\"card-full-news__title\">Премьер Косово обвинил Сербию в убийстве полицейского</h3><div class=\"card-full-news__info\"><time class=\"card-full-news__info-item card-full-news__date\">14:57, 24 сентября 2023</time><span class=\"card-full-news__info-item card-full-news__rubric\">Мир</span></div></a></li>,\n <li class=\"rubric-page__item _news\"><a class=\"card-full-news _subrubric\" href=\"/news/2023/09/24/deti_usa/\"><h3 class=\"card-full-news__title\">Сбежавшие дети проехали 320 километров на машине матери</h3><div class=\"card-full-news__info\"><time class=\"card-full-news__info-item card-full-news__date\">00:39, 24 сентября 2023</time><span class=\"card-full-news__info-item card-full-news__rubric\">Мир</span></div></a></li>,\n <li class=\"rubric-page__item _news\"><a class=\"card-full-news _subrubric\" href=\"/news/2023/09/23/zemletr/\"><h3 class=\"card-full-news__title\">В Турции зафиксировали землетрясение</h3><div class=\"card-full-news__info\"><time class=\"card-full-news__info-item card-full-news__date\">18:46, 23 сентября 2023</time><span class=\"card-full-news__info-item card-full-news__rubric\">Мир</span></div></a></li>,\n <li class=\"rubric-page__item _news\"><a class=\"card-full-news _subrubric\" href=\"/news/2023/09/23/jettt/\"><h3 class=\"card-full-news__title\">Стали известны подробности крушения самолета в Мали</h3><div class=\"card-full-news__info\"><time class=\"card-full-news__info-item card-full-news__date\">16:17, 23 сентября 2023</time><span class=\"card-full-news__info-item card-full-news__rubric\">Мир</span></div></a></li>,\n <li class=\"rubric-page__item _news\"><a class=\"card-full-news _subrubric\" href=\"/news/2023/09/23/malii/\"><h3 class=\"card-full-news__title\">Стало известно о крушении самолета ЧВК Пригожина в Африке</h3><div class=\"card-full-news__info\"><time class=\"card-full-news__info-item card-full-news__date\">14:42, 23 сентября 2023</time><span class=\"card-full-news__info-item card-full-news__rubric\">Мир</span></div></a></li>,\n <li class=\"rubric-page__item _news\"><a class=\"card-full-news _subrubric\" href=\"/news/2023/09/22/menendez/\"><h3 class=\"card-full-news__title\">В США автора антироссийских санкций обвинили в коррупции</h3><div class=\"card-full-news__info\"><time class=\"card-full-news__info-item card-full-news__date\">16:48, 22 сентября 2023</time><span class=\"card-full-news__info-item card-full-news__rubric\">Мир</span></div></a></li>,\n <li class=\"rubric-page__item _news\"><a class=\"card-full-news _subrubric\" href=\"/news/2023/09/18/dron/\"><h3 class=\"card-full-news__title\">Стали известны подробности об упавшем на черноморском курорте дроне</h3><div class=\"card-full-news__info\"><time class=\"card-full-news__info-item card-full-news__date\">20:41, 18 сентября 2023</time><span class=\"card-full-news__info-item card-full-news__rubric\">Мир</span></div></a></li>,\n <li class=\"rubric-page__item _news\"><a class=\"card-full-news _subrubric\" href=\"/news/2023/09/18/samolet__bezpilota/\"><h3 class=\"card-full-news__title\">Военный высказался о судьбе пропавшего истребителя F-35B без пилота</h3><div class=\"card-full-news__info\"><time class=\"card-full-news__info-item card-full-news__date\">14:49, 18 сентября 2023</time><span class=\"card-full-news__info-item card-full-news__rubric\">Мир</span></div></a></li>,\n <li class=\"rubric-page__item _news\"><a class=\"card-full-news _subrubric\" href=\"/news/2023/09/18/gonka/\"><h3 class=\"card-full-news__title\">В США во время воздушной гонки столкнулись два самолета</h3><div class=\"card-full-news__info\"><time class=\"card-full-news__info-item card-full-news__date\">03:18, 18 сентября 2023</time><span class=\"card-full-news__info-item card-full-news__rubric\">Мир</span></div></a></li>,\n <li class=\"rubric-page__item _news\"><a class=\"card-full-news _subrubric\" href=\"/news/2023/09/17/dtpnato/\"><h3 class=\"card-full-news__title\">Врезавшийся в дом бронетранспортер НАТО попал на видео</h3><div class=\"card-full-news__info\"><time class=\"card-full-news__info-item card-full-news__date\">15:12, 17 сентября 2023</time><span class=\"card-full-news__info-item card-full-news__rubric\">Мир</span><svg class=\"card-full-news__info-item card-full-news__play\"><use xlink:href=\"#ui-play\"></use></svg></div></a></li>,\n <li class=\"rubric-page__item _news\"><a class=\"card-full-news _subrubric\" href=\"/news/2023/09/17/suhogruz_stambul/\"><h3 class=\"card-full-news__title\">В Турции сообщили об аварии следовавшего из России сухогруза с контейнеровозом</h3><div class=\"card-full-news__info\"><time class=\"card-full-news__info-item card-full-news__date\">12:48, 17 сентября 2023</time><span class=\"card-full-news__info-item card-full-news__rubric\">Мир</span></div></a></li>,\n <li class=\"rubric-page__item _news\"><a class=\"card-full-news _subrubric\" href=\"/news/2023/09/16/bazar/\"><h3 class=\"card-full-news__title\">В Стамбуле загорелась крыша популярного рынка</h3><div class=\"card-full-news__info\"><time class=\"card-full-news__info-item card-full-news__date\">23:44, 16 сентября 2023</time><span class=\"card-full-news__info-item card-full-news__rubric\">Мир</span></div></a></li>,\n <li class=\"rubric-page__item _news\"><a class=\"card-full-news _subrubric\" href=\"/news/2023/09/16/plane/\"><h3 class=\"card-full-news__title\">В Италии на тренировке перед авиашоу разбился самолет</h3><div class=\"card-full-news__info\"><time class=\"card-full-news__info-item card-full-news__date\">20:21, 16 сентября 2023</time><span class=\"card-full-news__info-item card-full-news__rubric\">Мир</span><svg class=\"card-full-news__info-item card-full-news__play\"><use xlink:href=\"#ui-play\"></use></svg></div></a></li>,\n <li class=\"rubric-page__item _news\"><a class=\"card-full-news _subrubric\" href=\"/news/2023/09/16/same/\"><h3 class=\"card-full-news__title\">Ученый сравнил ураган в Ливии с бомбардировкой Хиросимы</h3><div class=\"card-full-news__info\"><time class=\"card-full-news__info-item card-full-news__date\">04:37, 16 сентября 2023</time><span class=\"card-full-news__info-item card-full-news__rubric\">Мир</span></div></a></li>,\n <li class=\"rubric-page__item _news\"><a class=\"card-full-news _subrubric\" href=\"/news/2023/09/14/zhertvy/\"><h3 class=\"card-full-news__title\">Число жертв наводнений в Ливии превысило 11 тысяч</h3><div class=\"card-full-news__info\"><time class=\"card-full-news__info-item card-full-news__date\">21:32, 14 сентября 2023</time><span class=\"card-full-news__info-item card-full-news__rubric\">Мир</span></div></a></li>,\n <li class=\"rubric-page__item _news\"><a class=\"card-full-news _subrubric\" href=\"/news/2023/09/14/na/\"><h3 class=\"card-full-news__title\">ООН нашла причины большого количества жертв наводнений в Ливии</h3><div class=\"card-full-news__info\"><time class=\"card-full-news__info-item card-full-news__date\">17:51, 14 сентября 2023</time><span class=\"card-full-news__info-item card-full-news__rubric\">Мир</span></div></a></li>,\n <li class=\"rubric-page__item _news\"><a class=\"card-full-news _subrubric\" href=\"/news/2023/09/14/rost/\"><h3 class=\"card-full-news__title\">В Ливии спрогнозировали рост жертв наводнения до 20 тысяч</h3><div class=\"card-full-news__info\"><time class=\"card-full-news__info-item card-full-news__date\">00:13, 14 сентября 2023</time><span class=\"card-full-news__info-item card-full-news__rubric\">Мир</span></div></a></li>,\n <li class=\"rubric-page__item _news\"><a class=\"card-full-news _subrubric\" href=\"/news/2023/09/13/draka_draka/\"><h3 class=\"card-full-news__title\">В Словакии драка бывшего премьера с экс-главой МВД попала на видео</h3><div class=\"card-full-news__info\"><time class=\"card-full-news__info-item card-full-news__date\">20:58, 13 сентября 2023</time><span class=\"card-full-news__info-item card-full-news__rubric\">Мир</span><svg class=\"card-full-news__info-item card-full-news__play\"><use xlink:href=\"#ui-play\"></use></svg></div></a></li>,\n <li class=\"rubric-page__item _news\"><a class=\"card-full-news _subrubric\" href=\"/news/2023/09/13/taxi/\"><h3 class=\"card-full-news__title\">Пьяный поляк подрался с украинским таксистом</h3><div class=\"card-full-news__info\"><time class=\"card-full-news__info-item card-full-news__date\">05:04, 13 сентября 2023</time><span class=\"card-full-news__info-item card-full-news__rubric\">Мир</span></div></a></li>,\n <li class=\"rubric-page__item _news\"><a class=\"card-full-news _subrubric\" href=\"/news/2023/09/11/zhertvy/\"><h3 class=\"card-full-news__title\">Число погибших после землетрясения в Марокко вновь выросло</h3><div class=\"card-full-news__info\"><time class=\"card-full-news__info-item card-full-news__date\">21:17, 11 сентября 2023</time><span class=\"card-full-news__info-item card-full-news__rubric\">Мир</span></div></a></li>,\n <li class=\"rubric-page__item _news\"><a class=\"card-full-news _subrubric\" href=\"/news/2023/09/10/2420_zemlya/\"><h3 class=\"card-full-news__title\">Число пострадавших при землетрясении в Марокко возросло</h3><div class=\"card-full-news__info\"><time class=\"card-full-news__info-item card-full-news__date\">20:17, 10 сентября 2023</time><span class=\"card-full-news__info-item card-full-news__rubric\">Мир</span></div></a></li>,\n <li class=\"rubric-page__item _news\"><a class=\"card-full-news _subrubric\" href=\"/news/2023/09/10/dtp_greciya/\"><h3 class=\"card-full-news__title\">Россиянин погиб в ДТП в Греции</h3><div class=\"card-full-news__info\"><time class=\"card-full-news__info-item card-full-news__date\">15:37, 10 сентября 2023</time><span class=\"card-full-news__info-item card-full-news__rubric\">Мир</span></div></a></li>,\n <li class=\"rubric-page__item _news\"><a class=\"card-full-news _subrubric\" href=\"/news/2023/09/10/quake/\"><h3 class=\"card-full-news__title\">Начало землетрясения в Марокко попало на видео</h3><div class=\"card-full-news__info\"><time class=\"card-full-news__info-item card-full-news__date\">11:56, 10 сентября 2023</time><span class=\"card-full-news__info-item card-full-news__rubric\">Мир</span><svg class=\"card-full-news__info-item card-full-news__play\"><use xlink:href=\"#ui-play\"></use></svg></div></a></li>,\n <li class=\"rubric-page__item _news\"><a class=\"card-full-news _subrubric\" href=\"/news/2023/09/10/gaaga/\"><h3 class=\"card-full-news__title\">В Гааге полиция задержала почти 2,5 тысячи протестующих климатических активистов</h3><div class=\"card-full-news__info\"><time class=\"card-full-news__info-item card-full-news__date\">05:52, 10 сентября 2023</time><span class=\"card-full-news__info-item card-full-news__rubric\">Мир</span></div></a></li>,\n <li class=\"rubric-page__item _news\"><a class=\"card-full-news _subrubric\" href=\"/news/2023/09/10/marocco_2/\"><h3 class=\"card-full-news__title\">Число погибших после землетрясения в Марокко вновь выросло</h3><div class=\"card-full-news__info\"><time class=\"card-full-news__info-item card-full-news__date\">01:13, 10 сентября 2023</time><span class=\"card-full-news__info-item card-full-news__rubric\">Мир</span></div></a></li>,\n <li class=\"rubric-page__item _news\"><a class=\"card-full-news _subrubric\" href=\"/news/2023/09/10/podjog/\"><h3 class=\"card-full-news__title\">В Париже неизвестные подожгли покрышки перед входом в посольство Ирана</h3><div class=\"card-full-news__info\"><time class=\"card-full-news__info-item card-full-news__date\">00:48, 10 сентября 2023</time><span class=\"card-full-news__info-item card-full-news__rubric\">Мир</span></div></a></li>,\n <li class=\"rubric-page__item _news\"><a class=\"card-full-news _subrubric\" href=\"/news/2023/09/10/marocco_zhertvy/\"><h3 class=\"card-full-news__title\">Число жертв землетрясения в Марокко превысило 1,3 тысячи человек</h3><div class=\"card-full-news__info\"><time class=\"card-full-news__info-item card-full-news__date\">00:25, 10 сентября 2023</time><span class=\"card-full-news__info-item card-full-news__rubric\">Мир</span></div></a></li>,\n <li class=\"rubric-page__item _news\"><a class=\"card-full-news _subrubric\" href=\"/news/2023/09/09/820/\"><h3 class=\"card-full-news__title\">Число погибших при землетрясении в Марокко превысило 800</h3><div class=\"card-full-news__info\"><time class=\"card-full-news__info-item card-full-news__date\">14:22, 9 сентября 2023</time><span class=\"card-full-news__info-item card-full-news__rubric\">Мир</span></div></a></li>,\n <li class=\"rubric-page__item _news\"><a class=\"card-full-news _subrubric\" href=\"/news/2023/09/09/marokko/\"><h3 class=\"card-full-news__title\">МИД заявил об отсутствии граждан России среди пострадавших в Марокко</h3><div class=\"card-full-news__info\"><time class=\"card-full-news__info-item card-full-news__date\">13:45, 9 сентября 2023</time><span class=\"card-full-news__info-item card-full-news__rubric\">Мир</span></div></a></li>,\n <li class=\"rubric-page__item _news\"><a class=\"card-full-news _subrubric\" href=\"/news/2023/09/09/marocco_died/\"><h3 class=\"card-full-news__title\">Число погибших при землетрясении в Марокко возросло вдвое</h3><div class=\"card-full-news__info\"><time class=\"card-full-news__info-item card-full-news__date\">10:14, 9 сентября 2023</time><span class=\"card-full-news__info-item card-full-news__rubric\">Мир</span></div></a></li>,\n <li class=\"rubric-page__item _news\"><a class=\"card-full-news _subrubric\" href=\"/news/2023/09/09/marocco296/\"><h3 class=\"card-full-news__title\">Число погибших при землетрясении в Марокко достигло 296 человек</h3><div class=\"card-full-news__info\"><time class=\"card-full-news__info-item card-full-news__date\">06:28, 9 сентября 2023</time><span class=\"card-full-news__info-item card-full-news__rubric\">Мир</span></div></a></li>,\n <li class=\"rubric-page__item _news\"><a class=\"card-full-news _subrubric\" href=\"/news/2023/09/09/zemletryas/\"><h3 class=\"card-full-news__title\">В Марокко произошло сильное землетрясение</h3><div class=\"card-full-news__info\"><time class=\"card-full-news__info-item card-full-news__date\">04:42, 9 сентября 2023</time><span class=\"card-full-news__info-item card-full-news__rubric\">Мир</span></div></a></li>,\n <li class=\"rubric-page__item _news\"><a class=\"card-full-news _subrubric\" href=\"/news/2023/09/09/koran/\"><h3 class=\"card-full-news__title\">Перед Турецким домом в Нью-Йорке растоптали Коран</h3><div class=\"card-full-news__info\"><time class=\"card-full-news__info-item card-full-news__date\">01:16, 9 сентября 2023</time><span class=\"card-full-news__info-item card-full-news__rubric\">Мир</span></div></a></li>,\n <li class=\"rubric-page__item _news\"><a class=\"card-full-news _subrubric\" href=\"/news/2023/09/08/vertolet/\"><h3 class=\"card-full-news__title\">Вертолет дубайской компании разбился в море</h3><div class=\"card-full-news__info\"><time class=\"card-full-news__info-item card-full-news__date\">08:15, 8 сентября 2023</time><span class=\"card-full-news__info-item card-full-news__rubric\">Мир</span></div></a></li>,\n <li class=\"rubric-page__item _news\"><a class=\"card-full-news _subrubric\" href=\"/news/2023/09/08/taifun/\"><h3 class=\"card-full-news__title\">160 тысяч японцев эвакуируют из-за стихии</h3><div class=\"card-full-news__info\"><time class=\"card-full-news__info-item card-full-news__date\">05:09, 8 сентября 2023</time><span class=\"card-full-news__info-item card-full-news__rubric\">Мир</span></div></a></li>,\n <li class=\"rubric-page__item _news\"><a class=\"card-full-news _subrubric\" href=\"/news/2023/09/06/ro_dron/\"><h3 class=\"card-full-news__title\">В Румынии заявили о падении российского беспилотника</h3><div class=\"card-full-news__info\"><time class=\"card-full-news__info-item card-full-news__date\">15:04, 6 сентября 2023</time><span class=\"card-full-news__info-item card-full-news__rubric\">Мир</span></div></a></li>,\n <li class=\"rubric-page__item _news\"><a class=\"card-full-news _subrubric\" href=\"/news/2023/09/06/sex_sex/\"><h3 class=\"card-full-news__title\">Американец рассказал про секс с Обамой в конце 90-х</h3><div class=\"card-full-news__info\"><time class=\"card-full-news__info-item card-full-news__date\">11:00, 6 сентября 2023</time><span class=\"card-full-news__info-item card-full-news__rubric\">Мир</span></div></a></li>,\n <li class=\"rubric-page__item _news\"><a class=\"card-full-news _subrubric\" href=\"/news/2023/09/05/priostanoov/\"><h3 class=\"card-full-news__title\">United Airlines приостановила все полеты на территории США</h3><div class=\"card-full-news__info\"><time class=\"card-full-news__info-item card-full-news__date\">21:49, 5 сентября 2023</time><span class=\"card-full-news__info-item card-full-news__rubric\">Мир</span></div></a></li>,\n <li class=\"rubric-page__item _news\"><a class=\"card-full-news _subrubric\" href=\"/news/2023/09/04/f4f4f4/\"><h3 class=\"card-full-news__title\">В Турции часть истребителя F-4 упала на автостоянку</h3><div class=\"card-full-news__info\"><time class=\"card-full-news__info-item card-full-news__date\">14:29, 4 сентября 2023</time><span class=\"card-full-news__info-item card-full-news__rubric\">Мир</span></div></a></li>,\n <li class=\"rubric-page__item _news\"><a class=\"card-full-news _subrubric\" href=\"/news/2023/09/04/samolet/\"><h3 class=\"card-full-news__title\">Небольшой самолет разбился во время вечеринки по определению пола ребенка</h3><div class=\"card-full-news__info\"><time class=\"card-full-news__info-item card-full-news__date\">05:08, 4 сентября 2023</time><span class=\"card-full-news__info-item card-full-news__rubric\">Мир</span></div></a></li>,\n <li class=\"rubric-page__item _news\"><a class=\"card-full-news _subrubric\" href=\"/news/2023/09/02/evro_berber/\"><h3 class=\"card-full-news__title\">Подсчитаны расходы Германии на фоне поломки самолета главы МИД</h3><div class=\"card-full-news__info\"><time class=\"card-full-news__info-item card-full-news__date\">15:39, 2 сентября 2023</time><span class=\"card-full-news__info-item card-full-news__rubric\">Мир</span></div></a></li>,\n <li class=\"rubric-page__item _news\"><a class=\"card-full-news _subrubric\" href=\"/news/2023/08/31/korabl_/\"><h3 class=\"card-full-news__title\">Корабль под флагом Ирана подал сигнал бедствия в Красном море</h3><div class=\"card-full-news__info\"><time class=\"card-full-news__info-item card-full-news__date\">22:30, 31 августа 2023</time><span class=\"card-full-news__info-item card-full-news__rubric\">Мир</span></div></a></li>,\n <li class=\"rubric-page__item _news\"><a class=\"card-full-news _subrubric\" href=\"/news/2023/08/30/vzrv/\"><h3 class=\"card-full-news__title\">В России усомнились в выводах следствия о взрывах на «Северных потоках»</h3><div class=\"card-full-news__info\"><time class=\"card-full-news__info-item card-full-news__date\">15:43, 30 августа 2023</time><span class=\"card-full-news__info-item card-full-news__rubric\">Мир</span></div></a></li>,\n <li class=\"rubric-page__item _news\"><a class=\"card-full-news _subrubric\" href=\"/news/2023/08/30/carnival/\"><h3 class=\"card-full-news__title\">В Британии на карнавале покусали шестерых полицейских</h3><div class=\"card-full-news__info\"><time class=\"card-full-news__info-item card-full-news__date\">05:59, 30 августа 2023</time><span class=\"card-full-news__info-item card-full-news__rubric\">Мир</span></div></a></li>,\n <li class=\"rubric-page__item _news\"><a class=\"card-full-news _subrubric\" href=\"/news/2023/08/29/kruiz_/\"><h3 class=\"card-full-news__title\">Британский круизный лайнер врезался в нефтяной танкер</h3><div class=\"card-full-news__info\"><time class=\"card-full-news__info-item card-full-news__date\">01:08, 29 августа 2023</time><span class=\"card-full-news__info-item card-full-news__rubric\">Мир</span></div></a></li>,\n <li class=\"rubric-page__item _news\"><a class=\"card-full-news _subrubric\" href=\"/news/2023/08/28/babchenko/\"><h3 class=\"card-full-news__title\">Забросавшего яйцами посольство России в Таллине журналиста Бабченко оштрафовали</h3><div class=\"card-full-news__info\"><time class=\"card-full-news__info-item card-full-news__date\">23:13, 28 августа 2023</time><span class=\"card-full-news__info-item card-full-news__rubric\">Мир</span></div></a></li>,\n <li class=\"rubric-page__item _news\"><a class=\"card-full-news _subrubric\" href=\"/news/2023/08/28/order/\"><h3 class=\"card-full-news__title\">Власти Ливана выдали ордера на арест двух обвиняемых в шпионаже россиян</h3><div class=\"card-full-news__info\"><time class=\"card-full-news__info-item card-full-news__date\">22:22, 28 августа 2023</time><span class=\"card-full-news__info-item card-full-news__rubric\">Мир</span></div></a></li>,\n <li class=\"rubric-page__item _news\"><a class=\"card-full-news _subrubric\" href=\"/news/2023/08/28/aleppo/\"><h3 class=\"card-full-news__title\">Аэропорт Алеппо в Сирии вышел из строя из-за атаки Израиля</h3><div class=\"card-full-news__info\"><time class=\"card-full-news__info-item card-full-news__date\">08:08, 28 августа 2023</time><span class=\"card-full-news__info-item card-full-news__rubric\">Мир</span></div></a></li>,\n <li class=\"rubric-page__item _news\"><a class=\"card-full-news _subrubric\" href=\"/news/2023/08/27/save/\"><h3 class=\"card-full-news__title\">Несколько морпехов США спасли после крушения вертолета в Австралии</h3><div class=\"card-full-news__info\"><time class=\"card-full-news__info-item card-full-news__date\">08:59, 27 августа 2023</time><span class=\"card-full-news__info-item card-full-news__rubric\">Мир</span></div></a></li>,\n <li class=\"rubric-page__item _news\"><a class=\"card-full-news _subrubric\" href=\"/news/2023/08/27/marines/\"><h3 class=\"card-full-news__title\">Вертолет с 20 морпехами США разбился у берегов Австралии</h3><div class=\"card-full-news__info\"><time class=\"card-full-news__info-item card-full-news__date\">07:10, 27 августа 2023</time><span class=\"card-full-news__info-item card-full-news__rubric\">Мир</span></div></a></li>,\n <li class=\"rubric-page__item _news\"><a class=\"card-full-news _subrubric\" href=\"/news/2023/08/27/murder_florida/\"><h3 class=\"card-full-news__title\">Во Флориде расист расстрелял трех человек</h3><div class=\"card-full-news__info\"><time class=\"card-full-news__info-item card-full-news__date\">03:46, 27 августа 2023</time><span class=\"card-full-news__info-item card-full-news__rubric\">Мир</span></div></a></li>,\n <li class=\"rubric-page__item _news\"><a class=\"card-full-news _subrubric\" href=\"/news/2023/08/27/zapravka/\"><h3 class=\"card-full-news__title\">Число пострадавших в результате взрывов на АЗС в Румынии выросло до 55</h3><div class=\"card-full-news__info\"><time class=\"card-full-news__info-item card-full-news__date\">03:08, 27 августа 2023</time><span class=\"card-full-news__info-item card-full-news__rubric\">Мир</span></div></a></li>,\n <li class=\"rubric-page__item _news\"><a class=\"card-full-news _subrubric\" href=\"/news/2023/08/27/explosion/\"><h3 class=\"card-full-news__title\">Момент взрыва на АЗС в Румынии сняли на видео</h3><div class=\"card-full-news__info\"><time class=\"card-full-news__info-item card-full-news__date\">00:52, 27 августа 2023</time><span class=\"card-full-news__info-item card-full-news__rubric\">Мир</span><svg class=\"card-full-news__info-item card-full-news__play\"><use xlink:href=\"#ui-play\"></use></svg></div></a></li>,\n <li class=\"rubric-page__item _news\"><a class=\"card-full-news _subrubric\" href=\"/news/2023/08/26/romania/\"><h3 class=\"card-full-news__title\">На заправке в Румынии произошли еще два взрыва</h3><div class=\"card-full-news__info\"><time class=\"card-full-news__info-item card-full-news__date\">00:09, 27 августа 2023</time><span class=\"card-full-news__info-item card-full-news__rubric\">Мир</span></div></a></li>,\n <li class=\"rubric-page__item _news\"><a class=\"card-full-news _subrubric\" href=\"/news/2023/08/26/rmm/\"><h3 class=\"card-full-news__title\">Мощный взрыв произошел на заправке в Румынии</h3><div class=\"card-full-news__info\"><time class=\"card-full-news__info-item card-full-news__date\">23:42, 26 августа 2023</time><span class=\"card-full-news__info-item card-full-news__rubric\">Мир</span></div></a></li>,\n <li class=\"rubric-page__item _news\"><a class=\"card-full-news _subrubric\" href=\"/news/2023/08/26/umerli/\"><h3 class=\"card-full-news__title\">В Польше жертвами «болезни легионеров» стали восемь человек</h3><div class=\"card-full-news__info\"><time class=\"card-full-news__info-item card-full-news__date\">14:51, 26 августа 2023</time><span class=\"card-full-news__info-item card-full-news__rubric\">Мир</span></div></a></li>,\n <li class=\"rubric-page__item _news\"><a class=\"card-full-news _subrubric\" href=\"/news/2023/08/26/spy/\"><h3 class=\"card-full-news__title\">Россиянина задержали в Ливане по подозрению в шпионаже</h3><div class=\"card-full-news__info\"><time class=\"card-full-news__info-item card-full-news__date\">14:18, 26 августа 2023</time><span class=\"card-full-news__info-item card-full-news__rubric\">Мир</span></div></a></li>,\n <li class=\"rubric-page__item _news\"><a class=\"card-full-news _subrubric\" href=\"/news/2023/08/26/ukra/\"><h3 class=\"card-full-news__title\">Группа украинцев избила поляков и заставила их кричать лозунги</h3><div class=\"card-full-news__info\"><time class=\"card-full-news__info-item card-full-news__date\">07:36, 26 августа 2023</time><span class=\"card-full-news__info-item card-full-news__rubric\">Мир</span></div></a></li>,\n <li class=\"rubric-page__item _news\"><a class=\"card-full-news _subrubric\" href=\"/news/2023/08/25/russia_africa_prigozhin/\"><h3 class=\"card-full-news__title\">В Африке прокомментировали будущее бизнес-империи Пригожина</h3><div class=\"card-full-news__info\"><time class=\"card-full-news__info-item card-full-news__date\">16:32, 25 августа 2023</time><span class=\"card-full-news__info-item card-full-news__rubric\">Мир</span></div></a></li>,\n <li class=\"rubric-page__item _news\"><a class=\"card-full-news _subrubric\" href=\"/news/2023/08/25/skelet/\"><h3 class=\"card-full-news__title\">Обнаружен скелет пропавшей пять лет назад телеведущей</h3><div class=\"card-full-news__info\"><time class=\"card-full-news__info-item card-full-news__date\">04:58, 25 августа 2023</time><span class=\"card-full-news__info-item card-full-news__rubric\">Мир</span></div></a></li>,\n <li class=\"rubric-page__item _news\"><a class=\"card-full-news _subrubric\" href=\"/news/2023/08/24/usa_crush/\"><h3 class=\"card-full-news__title\">Разведка США назвала возможные причины крушения самолета Пригожина</h3><div class=\"card-full-news__info\"><time class=\"card-full-news__info-item card-full-news__date\">22:08, 24 августа 2023</time><span class=\"card-full-news__info-item card-full-news__rubric\">Мир</span></div></a></li>,\n <li class=\"rubric-page__item _news\"><a class=\"card-full-news _subrubric\" href=\"/news/2023/08/24/eu_prigozhin/\"><h3 class=\"card-full-news__title\">В ЕС отреагировали на инцидент с самолетом Пригожина</h3><div class=\"card-full-news__info\"><time class=\"card-full-news__info-item card-full-news__date\">14:29, 24 августа 2023</time><span class=\"card-full-news__info-item card-full-news__rubric\">Мир</span></div></a></li>,\n <li class=\"rubric-page__item _news\"><a class=\"card-full-news _subrubric\" href=\"/news/2023/08/23/hostel_/\"><h3 class=\"card-full-news__title\">Украинцы устроили погром в польском хостеле</h3><div class=\"card-full-news__info\"><time class=\"card-full-news__info-item card-full-news__date\">07:25, 23 августа 2023</time><span class=\"card-full-news__info-item card-full-news__rubric\">Мир</span></div></a></li>,\n <li class=\"rubric-page__item _news\"><a class=\"card-full-news _subrubric\" href=\"/news/2023/08/23/tankers/\"><h3 class=\"card-full-news__title\">В Суэцком канале столкнулись два танкера</h3><div class=\"card-full-news__info\"><time class=\"card-full-news__info-item card-full-news__date\">06:36, 23 августа 2023</time><span class=\"card-full-news__info-item card-full-news__rubric\">Мир</span></div></a></li>,\n <li class=\"rubric-page__item _news\"><a class=\"card-full-news _subrubric\" href=\"/news/2023/08/22/canada_forest_fires/\"><h3 class=\"card-full-news__title\">Премьер Канады раскритиковал Цукерберга из-за пожаров</h3><div class=\"card-full-news__info\"><time class=\"card-full-news__info-item card-full-news__date\">12:18, 22 августа 2023</time><span class=\"card-full-news__info-item card-full-news__rubric\">Мир</span></div></a></li>,\n <li class=\"rubric-page__item _news\"><a class=\"card-full-news _subrubric\" href=\"/news/2023/08/22/kndrtv/\"><h3 class=\"card-full-news__title\">Перечислены последствия сброса воды с АЭС «Фукусима-1»</h3><div class=\"card-full-news__info\"><time class=\"card-full-news__info-item card-full-news__date\">12:12, 22 августа 2023</time><span class=\"card-full-news__info-item card-full-news__rubric\">Мир</span></div></a></li>,\n <li class=\"rubric-page__item _news\"><a class=\"card-full-news _subrubric\" href=\"/news/2023/08/22/japan/\"><h3 class=\"card-full-news__title\">В России заявили о страхе Японии перед США</h3><div class=\"card-full-news__info\"><time class=\"card-full-news__info-item card-full-news__date\">09:04, 22 августа 2023</time><span class=\"card-full-news__info-item card-full-news__rubric\">Мир</span></div></a></li>,\n <li class=\"rubric-page__item _news\"><a class=\"card-full-news _subrubric\" href=\"/news/2023/08/21/threeexploisions/\"><h3 class=\"card-full-news__title\">В трех городах Нидерландов произошли взрывы</h3><div class=\"card-full-news__info\"><time class=\"card-full-news__info-item card-full-news__date\">16:50, 21 августа 2023</time><span class=\"card-full-news__info-item card-full-news__rubric\">Мир</span></div></a></li>,\n <li class=\"rubric-page__item _news\"><a class=\"card-full-news _subrubric\" href=\"/news/2023/08/21/turkey/\"><h3 class=\"card-full-news__title\">В турецком городе 12 человек погибли в аварии с автобусом</h3><div class=\"card-full-news__info\"><time class=\"card-full-news__info-item card-full-news__date\">08:44, 21 августа 2023</time><span class=\"card-full-news__info-item card-full-news__rubric\">Мир</span></div></a></li>,\n <li class=\"rubric-page__item _news\"><a class=\"card-full-news _subrubric\" href=\"/news/2023/08/17/korea/\"><h3 class=\"card-full-news__title\">Воевавший на стороне ВСУ южнокорейский наемник получил условный срок</h3><div class=\"card-full-news__info\"><time class=\"card-full-news__info-item card-full-news__date\">07:51, 17 августа 2023</time><span class=\"card-full-news__info-item card-full-news__rubric\">Мир</span></div></a></li>,\n <li class=\"rubric-page__item _news\"><a class=\"card-full-news _subrubric\" href=\"/news/2023/08/16/analytics_usa/\"><h3 class=\"card-full-news__title\">В США спрогнозировали антирекорд по случаям массовой стрельбы</h3><div class=\"card-full-news__info\"><time class=\"card-full-news__info-item card-full-news__date\">08:47, 16 августа 2023</time><span class=\"card-full-news__info-item card-full-news__rubric\">Мир</span></div></a></li>,\n <li class=\"rubric-page__item _news\"><a class=\"card-full-news _subrubric\" href=\"/news/2023/08/16/steal/\"><h3 class=\"card-full-news__title\">Подозреваемую в крупной краже россиянку арестовали в Абхазии</h3><div class=\"card-full-news__info\"><time class=\"card-full-news__info-item card-full-news__date\">00:55, 16 августа 2023</time><span class=\"card-full-news__info-item card-full-news__rubric\">Мир</span></div></a></li>,\n <li class=\"rubric-page__item _news\"><a class=\"card-full-news _subrubric\" href=\"/news/2023/08/15/zemml/\"><h3 class=\"card-full-news__title\">В Японии произошло сильное землетрясение</h3><div class=\"card-full-news__info\"><time class=\"card-full-news__info-item card-full-news__date\">21:58, 15 августа 2023</time><span class=\"card-full-news__info-item card-full-news__rubric\">Мир</span></div></a></li>,\n <li class=\"rubric-page__item _news\"><a class=\"card-full-news _subrubric\" href=\"/news/2023/08/15/obstreeel/\"><h3 class=\"card-full-news__title\">Шведская компания заявила о ракетном обстреле ее завода на Украине</h3><div class=\"card-full-news__info\"><time class=\"card-full-news__info-item card-full-news__date\">17:10, 15 августа 2023</time><span class=\"card-full-news__info-item card-full-news__rubric\">Мир</span></div></a></li>,\n <li class=\"rubric-page__item _news\"><a class=\"card-full-news _subrubric\" href=\"/news/2023/08/14/mig23/\"><h3 class=\"card-full-news__title\">На авиашоу в США потерпел крушение истребитель МиГ-23</h3><div class=\"card-full-news__info\"><time class=\"card-full-news__info-item card-full-news__date\">03:40, 14 августа 2023</time><span class=\"card-full-news__info-item card-full-news__rubric\">Мир</span></div></a></li>,\n <li class=\"rubric-page__item _news\"><a class=\"card-full-news _subrubric\" href=\"/news/2023/08/13/nakazat/\"><h3 class=\"card-full-news__title\">Президент Ирана поручил найти всех причастных к теракту в мечети</h3><div class=\"card-full-news__info\"><time class=\"card-full-news__info-item card-full-news__date\">23:31, 13 августа 2023</time><span class=\"card-full-news__info-item card-full-news__rubric\">Мир</span></div></a></li>,\n <li class=\"rubric-page__item _news\"><a class=\"card-full-news _subrubric\" href=\"/news/2023/08/13/inostrancy/\"><h3 class=\"card-full-news__title\">Стали известны подробности нападения на мечеть в Иране</h3><div class=\"card-full-news__info\"><time class=\"card-full-news__info-item card-full-news__date\">22:23, 13 августа 2023</time><span class=\"card-full-news__info-item card-full-news__rubric\">Мир</span></div></a></li>,\n <li class=\"rubric-page__item _news\"><a class=\"card-full-news _subrubric\" href=\"/news/2023/08/13/mechet/\"><h3 class=\"card-full-news__title\">В Ираке два террориста напали на мечеть</h3><div class=\"card-full-news__info\"><time class=\"card-full-news__info-item card-full-news__date\">21:12, 13 августа 2023</time><span class=\"card-full-news__info-item card-full-news__rubric\">Мир</span></div></a></li>,\n <li class=\"rubric-page__item _news\"><a class=\"card-full-news _subrubric\" href=\"/news/2023/08/13/rossiyanka/\"><h3 class=\"card-full-news__title\">Россиянка погибла при падении с высоты в Паттайе</h3><div class=\"card-full-news__info\"><time class=\"card-full-news__info-item card-full-news__date\">18:27, 13 августа 2023</time><span class=\"card-full-news__info-item card-full-news__rubric\">Мир</span></div></a></li>,\n <li class=\"rubric-page__item _news\"><a class=\"card-full-news _subrubric\" href=\"/news/2023/08/13/fire/\"><h3 class=\"card-full-news__title\">На Гавайях оценили примерную стоимость восстановления после пожаров</h3><div class=\"card-full-news__info\"><time class=\"card-full-news__info-item card-full-news__date\">08:55, 13 августа 2023</time><span class=\"card-full-news__info-item card-full-news__rubric\">Мир</span></div></a></li>,\n <li class=\"rubric-page__item _news\"><a class=\"card-full-news _subrubric\" href=\"/news/2023/08/13/syria/\"><h3 class=\"card-full-news__title\">Базы США в Сирии подверглись ракетному обстрелу</h3><div class=\"card-full-news__info\"><time class=\"card-full-news__info-item card-full-news__date\">08:28, 13 августа 2023</time><span class=\"card-full-news__info-item card-full-news__rubric\">Мир</span></div></a></li>,\n <li class=\"rubric-page__item _news\"><a class=\"card-full-news _subrubric\" href=\"/news/2023/08/13/czech/\"><h3 class=\"card-full-news__title\">В Чехии украинец изнасиловал девочку и спрятал ее в мешке</h3><div class=\"card-full-news__info\"><time class=\"card-full-news__info-item card-full-news__date\">04:24, 13 августа 2023</time><span class=\"card-full-news__info-item card-full-news__rubric\">Мир</span></div></a></li>,\n <li class=\"rubric-page__item _news\"><a class=\"card-full-news _subrubric\" href=\"/news/2023/08/12/turseml/\"><h3 class=\"card-full-news__title\">На востоке Турции произошло землетрясение</h3><div class=\"card-full-news__info\"><time class=\"card-full-news__info-item card-full-news__date\">17:30, 12 августа 2023</time><span class=\"card-full-news__info-item card-full-news__rubric\">Мир</span></div></a></li>,\n <li class=\"rubric-page__item _news\"><a class=\"card-full-news _subrubric\" href=\"/news/2023/08/12/eiffel_bomb/\"><h3 class=\"card-full-news__title\">Эйфелеву башню эвакуировали из-за сообщения о бомбе</h3><div class=\"card-full-news__info\"><time class=\"card-full-news__info-item card-full-news__date\">16:47, 12 августа 2023</time><span class=\"card-full-news__info-item card-full-news__rubric\">Мир</span></div></a></li>,\n <li class=\"rubric-page__item _news\"><a class=\"card-full-news _subrubric\" href=\"/news/2023/08/10/zerrrrrrno/\"><h3 class=\"card-full-news__title\">Во Франции загорелось зернохранилище</h3><div class=\"card-full-news__info\"><time class=\"card-full-news__info-item card-full-news__date\">14:56, 10 августа 2023</time><span class=\"card-full-news__info-item card-full-news__rubric\">Мир</span></div></a></li>,\n <li class=\"rubric-page__item _news\"><a class=\"card-full-news _subrubric\" href=\"/news/2023/08/10/poluuch_raan/\"><h3 class=\"card-full-news__title\">Количество пострадавших во время митинга в Эквадоре увеличилось</h3><div class=\"card-full-news__info\"><time class=\"card-full-news__info-item card-full-news__date\">06:49, 10 августа 2023</time><span class=\"card-full-news__info-item card-full-news__rubric\">Мир</span></div></a></li>,\n <li class=\"rubric-page__item _news\"><a class=\"card-full-news _subrubric\" href=\"/news/2023/08/10/zaaderzh/\"><h3 class=\"card-full-news__title\">Полиция задержала подозреваемых в убийстве кандидата в президенты Эквадора</h3><div class=\"card-full-news__info\"><time class=\"card-full-news__info-item card-full-news__date\">04:53, 10 августа 2023</time><span class=\"card-full-news__info-item card-full-news__rubric\">Мир</span></div></a></li>,\n <li class=\"rubric-page__item _news\"><a class=\"card-full-news _subrubric\" href=\"/news/2023/08/10/ecuador/\"><h3 class=\"card-full-news__title\">Президент Эквадора подтвердил убийство кандидата в президенты страны</h3><div class=\"card-full-news__info\"><time class=\"card-full-news__info-item card-full-news__date\">04:43, 10 августа 2023</time><span class=\"card-full-news__info-item card-full-news__rubric\">Мир</span></div></a></li>,\n <li class=\"rubric-page__item _news\"><a class=\"card-full-news _subrubric\" href=\"/news/2023/08/10/predvyyb/\"><h3 class=\"card-full-news__title\">Кандидата в президенты Эквадора убили после предвыборной встречи</h3><div class=\"card-full-news__info\"><time class=\"card-full-news__info-item card-full-news__date\">04:23, 10 августа 2023</time><span class=\"card-full-news__info-item card-full-news__rubric\">Мир</span></div></a></li>,\n <li class=\"rubric-page__item _news\"><a class=\"card-full-news _subrubric\" href=\"/news/2023/08/10/ugolovnoe_delo/\"><h3 class=\"card-full-news__title\">Уголовное дело завели после выселения российских детей из отеля в Турции</h3><div class=\"card-full-news__info\"><time class=\"card-full-news__info-item card-full-news__date\">02:32, 10 августа 2023</time><span class=\"card-full-news__info-item card-full-news__rubric\">Мир</span></div></a></li>,\n <li class=\"rubric-page__item _news\"><a class=\"card-full-news _subrubric\" href=\"/news/2023/08/10/threats/\"><h3 class=\"card-full-news__title\">ФБР ликвидировало писавшего угрозы Байдену американца</h3><div class=\"card-full-news__info\"><time class=\"card-full-news__info-item card-full-news__date\">00:42, 10 августа 2023</time><span class=\"card-full-news__info-item card-full-news__rubric\">Мир</span></div></a></li>,\n <li class=\"rubric-page__item _news\"><a class=\"card-full-news _subrubric\" href=\"/news/2023/08/09/naiidd/\"><h3 class=\"card-full-news__title\">Найденный в Белом доме кокаин оставил знакомый с семьей Байдена человек</h3><div class=\"card-full-news__info\"><time class=\"card-full-news__info-item card-full-news__date\">23:17, 9 августа 2023</time><span class=\"card-full-news__info-item card-full-news__rubric\">Мир</span></div></a></li>,\n <li class=\"rubric-page__item _news\"><a class=\"card-full-news _subrubric\" href=\"/news/2023/08/08/nigercoup/\"><h3 class=\"card-full-news__title\">Стал известен уровень поддержки мятежников в Нигере</h3><div class=\"card-full-news__info\"><time class=\"card-full-news__info-item card-full-news__date\">14:37, 8 августа 2023</time><span class=\"card-full-news__info-item card-full-news__rubric\">Мир</span></div></a></li>,\n <li class=\"rubric-page__item _news\"><a class=\"card-full-news _subrubric\" href=\"/news/2023/08/08/posl/\"><h3 class=\"card-full-news__title\">В Турции оценили последствия взрыва в порту Дериндже</h3><div class=\"card-full-news__info\"><time class=\"card-full-news__info-item card-full-news__date\">11:06, 8 августа 2023</time><span class=\"card-full-news__info-item card-full-news__rubric\">Мир</span></div></a></li>,\n <li class=\"rubric-page__item _news\"><a class=\"card-full-news _subrubric\" href=\"/news/2023/08/08/787847/\"><h3 class=\"card-full-news__title\">В Турции назвали неправдоподобными слухи о диверсии со взрывом в Дериндже</h3><div class=\"card-full-news__info\"><time class=\"card-full-news__info-item card-full-news__date\">09:21, 8 августа 2023</time><span class=\"card-full-news__info-item card-full-news__rubric\">Мир</span></div></a></li>,\n <li class=\"rubric-page__item _news\"><a class=\"card-full-news _subrubric\" href=\"/news/2023/08/08/984948/\"><h3 class=\"card-full-news__title\">Бывшего сотрудника ФБР обвинили в нарушении санкций США и связях с Дерипаской</h3><div class=\"card-full-news__info\"><time class=\"card-full-news__info-item card-full-news__date\">09:01, 8 августа 2023</time><span class=\"card-full-news__info-item card-full-news__rubric\">Мир</span></div></a></li>,\n <li class=\"rubric-page__item _news\"><a class=\"card-full-news _subrubric\" href=\"/news/2023/10/28/armiya-izrailya-soobschila-o-novom-obstrele-so-storony-livana/\"><h3 class=\"card-full-news__title\">Армия Израиля сообщила о новом обстреле со стороны Ливана</h3><div class=\"card-full-news__info\"><time class=\"card-full-news__info-item card-full-news__date\">18:27</time><span class=\"card-full-news__info-item card-full-news__rubric\">Мир</span></div></a></li>,\n <li class=\"rubric-page__item _news\"><a class=\"card-full-news _subrubric\" href=\"/news/2023/10/28/v-londone-tysyachi-lyudey-vyshli-na-demonstratsiyu-v-podderzhku-palestiny/\"><h3 class=\"card-full-news__title\">В Лондоне тысячи людей вышли на демонстрацию в поддержку Палестины</h3><div class=\"card-full-news__info\"><time class=\"card-full-news__info-item card-full-news__date\">17:44</time><span class=\"card-full-news__info-item card-full-news__rubric\">Мир</span></div></a></li>,\n <li class=\"rubric-page__item _news\"><a class=\"card-full-news _subrubric\" href=\"/news/2023/10/28/studentka-umerla-v-irane-posle-zaderzhaniya-iz-za-otsutstviya-hidzhaba/\"><h3 class=\"card-full-news__title\">Студентка умерла в Иране после задержания из-за отсутствия хиджаба</h3><div class=\"card-full-news__info\"><time class=\"card-full-news__info-item card-full-news__date\">17:15</time><span class=\"card-full-news__info-item card-full-news__rubric\">Мир</span></div></a></li>,\n <li class=\"rubric-page__item _news\"><a class=\"card-full-news _subrubric\" href=\"/news/2023/10/28/na-yuge-izrailya-prozvuchali-sireny-vozdushnoy-trevogi/\"><h3 class=\"card-full-news__title\">На юге Израиля прозвучали сирены воздушной тревоги</h3><div class=\"card-full-news__info\"><time class=\"card-full-news__info-item card-full-news__date\">16:26</time><span class=\"card-full-news__info-item card-full-news__rubric\">Мир</span></div></a></li>,\n <li class=\"rubric-page__item _news\"><a class=\"card-full-news _subrubric\" href=\"/news/2023/10/28/al-kassam-obstrelyali-raketami-voennuyu-bazu-izrailya/\"><h3 class=\"card-full-news__title\">«Изз ад-Дин аль-Кассам» обстреляли ракетами военную базу Израиля</h3><div class=\"card-full-news__info\"><time class=\"card-full-news__info-item card-full-news__date\">12:57</time><span class=\"card-full-news__info-item card-full-news__rubric\">Мир</span></div></a></li>,\n <li class=\"rubric-page__item _news\"><a class=\"card-full-news _subrubric\" href=\"/news/2023/10/28/hamas/\"><h3 class=\"card-full-news__title\">Израиль заявил о ликвидации главы воздушных сил ХАМАС</h3><div class=\"card-full-news__info\"><time class=\"card-full-news__info-item card-full-news__date\">08:09</time><span class=\"card-full-news__info-item card-full-news__rubric\">Мир</span></div></a></li>,\n <li class=\"rubric-page__item _news\"><a class=\"card-full-news _subrubric\" href=\"/news/2023/10/28/suicide/\"><h3 class=\"card-full-news__title\">Льюистонский стрелок покончил с собой</h3><div class=\"card-full-news__info\"><time class=\"card-full-news__info-item card-full-news__date\">04:45</time><span class=\"card-full-news__info-item card-full-news__rubric\">Мир</span></div></a></li>,\n <li class=\"rubric-page__item _news\"><a class=\"card-full-news _subrubric\" href=\"/news/2023/10/27/inside/\"><h3 class=\"card-full-news__title\">Стало известно о вторжении Израиля в сектор Газа</h3><div class=\"card-full-news__info\"><time class=\"card-full-news__info-item card-full-news__date\">23:43, 27 октября 2023</time><span class=\"card-full-news__info-item card-full-news__rubric\">Мир</span></div></a></li>,\n <li class=\"rubric-page__item _news\"><a class=\"card-full-news _subrubric\" href=\"/news/2023/10/27/vzryv-proizoshel-na-gruzovom-sudne-u-beregov-yaponii/\"><h3 class=\"card-full-news__title\">Россиянин погиб при взрыве на грузовом судне у берегов Японии</h3><div class=\"card-full-news__info\"><time class=\"card-full-news__info-item card-full-news__date\">07:40, 27 октября 2023</time><span class=\"card-full-news__info-item card-full-news__rubric\">Мир</span></div></a></li>,\n <li class=\"rubric-page__item _news\"><a class=\"card-full-news _subrubric\" href=\"/news/2023/10/27/na-yuge-turtsii-na-bortu-suhogruza-proizoshel-vzryv/\"><h3 class=\"card-full-news__title\">На юге Турции на борту сухогруза произошел взрыв</h3><div class=\"card-full-news__info\"><time class=\"card-full-news__info-item card-full-news__date\">04:53, 27 октября 2023</time><span class=\"card-full-news__info-item card-full-news__rubric\">Мир</span></div></a></li>,\n <li class=\"rubric-page__item _news\"><a class=\"card-full-news _subrubric\" href=\"/news/2023/10/27/poyavilos-video-napadeniya-na-lidera-kritikuyuschey-ukrainu-partii-v-evrope/\"><h3 class=\"card-full-news__title\">Появилось видео нападения на лидера критикующей Украину партии в Европе</h3><div class=\"card-full-news__info\"><time class=\"card-full-news__info-item card-full-news__date\">01:02, 27 октября 2023</time><span class=\"card-full-news__info-item card-full-news__rubric\">Мир</span><svg class=\"card-full-news__info-item card-full-news__play\"><use xlink:href=\"#ui-play\"></use></svg></div></a></li>,\n <li class=\"rubric-page__item _news\"><a class=\"card-full-news _subrubric\" href=\"/news/2023/10/26/v-ssha-utochnili-chislo-zhertv-lyuistonskogo-strelka/\"><h3 class=\"card-full-news__title\">В США уточнили число жертв льюистонского стрелка</h3><div class=\"card-full-news__info\"><time class=\"card-full-news__info-item card-full-news__date\">18:29, 26 октября 2023</time><span class=\"card-full-news__info-item card-full-news__rubric\">Мир</span></div></a></li>,\n <li class=\"rubric-page__item _news\"><a class=\"card-full-news _subrubric\" href=\"/news/2023/10/26/gorod-pogruzilsya-v-haos-v-amerikanskom-lyuistone-instruktor-po-strelbe-ustroil-samoe-massovoe-ubiystvo-v-ssha-za-god/\"><h3 class=\"card-full-news__title\">«Город погрузился в хаос». В американском Льюистоне инструктор по стрельбе устроил самое массовое убийство в США за год</h3><div class=\"card-full-news__info\"><time class=\"card-full-news__info-item card-full-news__date\">08:49, 26 октября 2023</time><span class=\"card-full-news__info-item card-full-news__rubric\">Мир</span><svg class=\"card-full-news__info-item card-full-news__super-news\"><use xlink:href=\"#ui-super-news\"></use></svg></div></a></li>,\n <li class=\"rubric-page__item _news\"><a class=\"card-full-news _subrubric\" href=\"/news/2023/10/26/sotni-politseyskih-nachali-poisk-godozrevaemogo-v-strelbe-v-ssha/\"><h3 class=\"card-full-news__title\">Сотни полицейских начали поиск подозреваемого в стрельбе в США</h3><div class=\"card-full-news__info\"><time class=\"card-full-news__info-item card-full-news__date\">08:34, 26 октября 2023</time><span class=\"card-full-news__info-item card-full-news__rubric\">Мир</span></div></a></li>,\n <li class=\"rubric-page__item _news\"><a class=\"card-full-news _subrubric\" href=\"/news/2023/10/26/zhertvy/\"><h3 class=\"card-full-news__title\">Стрельба в штате Мэн стала рекордной по числу жертв в стране в 2023 году</h3><div class=\"card-full-news__info\"><time class=\"card-full-news__info-item card-full-news__date\">06:04, 26 октября 2023</time><span class=\"card-full-news__info-item card-full-news__rubric\">Мир</span></div></a></li>,\n <li class=\"rubric-page__item _news\"><a class=\"card-full-news _subrubric\" href=\"/news/2023/10/25/attack/\"><h3 class=\"card-full-news__title\">Израиль заявил об авиаударах по военной инфраструктуре Сирии</h3><div class=\"card-full-news__info\"><time class=\"card-full-news__info-item card-full-news__date\">04:28, 25 октября 2023</time><span class=\"card-full-news__info-item card-full-news__rubric\">Мир</span></div></a></li>,\n <li class=\"rubric-page__item _news\"><a class=\"card-full-news _subrubric\" href=\"/news/2023/10/24/finskaya-politsiya-obnaruzhila-povredivshiy-balticconnector-yakor/\"><h3 class=\"card-full-news__title\">Финская полиция обнаружила повредивший Balticconnector якорь</h3><div class=\"card-full-news__info\"><time class=\"card-full-news__info-item card-full-news__date\">17:27, 24 октября 2023</time><span class=\"card-full-news__info-item card-full-news__rubric\">Мир</span></div></a></li>,\n <li class=\"rubric-page__item _news\"><a class=\"card-full-news _subrubric\" href=\"/news/2023/10/24/nazvano-kolichestvo-pogibshih-v-gaze-detey/\"><h3 class=\"card-full-news__title\">Названо количество погибших в Газе детей</h3><div class=\"card-full-news__info\"><time class=\"card-full-news__info-item card-full-news__date\">05:31, 24 октября 2023</time><span class=\"card-full-news__info-item card-full-news__rubric\">Мир</span></div></a></li>,\n <li class=\"rubric-page__item _news\"><a class=\"card-full-news _subrubric\" href=\"/news/2023/10/24/u-poberezhya-tayvanya-proizoshlo-zemletryasenie/\"><h3 class=\"card-full-news__title\">У побережья Тайваня произошло землетрясение</h3><div class=\"card-full-news__info\"><time class=\"card-full-news__info-item card-full-news__date\">05:25, 24 октября 2023</time><span class=\"card-full-news__info-item card-full-news__rubric\">Мир</span></div></a></li>,\n <li class=\"rubric-page__item _news\"><a class=\"card-full-news _subrubric\" href=\"/news/2023/10/24/france/\"><h3 class=\"card-full-news__title\">Во Франции задержали кричавшего «Аллах акбар» мужчину с ножами</h3><div class=\"card-full-news__info\"><time class=\"card-full-news__info-item card-full-news__date\">01:50, 24 октября 2023</time><span class=\"card-full-news__info-item card-full-news__rubric\">Мир</span></div></a></li>,\n <li class=\"rubric-page__item _news\"><a class=\"card-full-news _subrubric\" href=\"/news/2023/10/23/krasnyy-krest-zaberet-50-zalozhnikov-hamas-na-granitse-s-gazoy/\"><h3 class=\"card-full-news__title\">Красный Крест заберет 50 заложников ХАМАС на границе с Газой</h3><div class=\"card-full-news__info\"><time class=\"card-full-news__info-item card-full-news__date\">21:44, 23 октября 2023</time><span class=\"card-full-news__info-item card-full-news__rubric\">Мир</span></div></a></li>,\n <li class=\"rubric-page__item _news\"><a class=\"card-full-news _subrubric\" href=\"/news/2023/10/23/v-rezultate-palestino-izrailskogo-konflikta-pogibli-10-grazhdan-britanii/\"><h3 class=\"card-full-news__title\">Стало известно о гибели 10 британцев в результате эскалации в Израиле</h3><div class=\"card-full-news__info\"><time class=\"card-full-news__info-item card-full-news__date\">01:47, 23 октября 2023</time><span class=\"card-full-news__info-item card-full-news__rubric\">Мир</span></div></a></li>,\n <li class=\"rubric-page__item _news\"><a class=\"card-full-news _subrubric\" href=\"/news/2023/10/22/v-velikobritanii-slili-v-set-lichnyy-nomer-telefona-premier-ministra/\"><h3 class=\"card-full-news__title\">В Великобритании слили в сеть личный номер телефона премьер-министра</h3><div class=\"card-full-news__info\"><time class=\"card-full-news__info-item card-full-news__date\">19:52, 22 октября 2023</time><span class=\"card-full-news__info-item card-full-news__rubric\">Мир</span></div></a></li>,\n <li class=\"rubric-page__item _news\"><a class=\"card-full-news _subrubric\" href=\"/news/2023/10/22/set-restoranov-mcdonald-s-podverglas-vandalizmu-iz-za-podderzhki-izrailya/\"><h3 class=\"card-full-news__title\">Сеть ресторанов McDonald’s подверглась вандализму из-за поддержки Израиля</h3><div class=\"card-full-news__info\"><time class=\"card-full-news__info-item card-full-news__date\">06:26, 22 октября 2023</time><span class=\"card-full-news__info-item card-full-news__rubric\">Мир</span></div></a></li>,\n <li class=\"rubric-page__item _news\"><a class=\"card-full-news _subrubric\" href=\"/news/2023/10/22/v-ssha-neizvestnye-zhestoko-ubili-zhenschinu-ravvina/\"><h3 class=\"card-full-news__title\">В США неизвестные жестоко убили женщину-раввина</h3><div class=\"card-full-news__info\"><time class=\"card-full-news__info-item card-full-news__date\">04:59, 22 октября 2023</time><span class=\"card-full-news__info-item card-full-news__rubric\">Мир</span></div></a></li>,\n <li class=\"rubric-page__item _news\"><a class=\"card-full-news _subrubric\" href=\"/news/2023/10/21/obstrel_/\"><h3 class=\"card-full-news__title\">В результате авиаудара Израиля по сектору Газа погибли 29 человек</h3><div class=\"card-full-news__info\"><time class=\"card-full-news__info-item card-full-news__date\">22:25, 21 октября 2023</time><span class=\"card-full-news__info-item card-full-news__rubric\">Мир</span></div></a></li>,\n <li class=\"rubric-page__item _news\"><a class=\"card-full-news _subrubric\" href=\"/news/2023/10/21/palestina-obvinila-izrail-v-obstrele-rynka-v-sektore-gaza/\"><h3 class=\"card-full-news__title\">Палестина обвинила Израиль в обстреле рынка в секторе Газа</h3><div class=\"card-full-news__info\"><time class=\"card-full-news__info-item card-full-news__date\">21:20, 21 октября 2023</time><span class=\"card-full-news__info-item card-full-news__rubric\">Мир</span><svg class=\"card-full-news__info-item card-full-news__play\"><use xlink:href=\"#ui-play\"></use></svg></div></a></li>,\n <li class=\"rubric-page__item _news\"><a class=\"card-full-news _subrubric\" href=\"/news/2023/10/21/shkola-v-gaze-popala-pod-udar-posle-vizita-baydena-v-izrail/\"><h3 class=\"card-full-news__title\">Школа в Газе попала под удар после визита Байдена в Израиль</h3><div class=\"card-full-news__info\"><time class=\"card-full-news__info-item card-full-news__date\">03:57, 21 октября 2023</time><span class=\"card-full-news__info-item card-full-news__rubric\">Мир</span></div></a></li>,\n <li class=\"rubric-page__item _news\"><a class=\"card-full-news _subrubric\" href=\"/news/2023/10/20/rossiyskiy-samolet-zagorelsya-pri-vzlete-v-tadzhikistane/\"><h3 class=\"card-full-news__title\">Российский самолет загорелся при взлете в Таджикистане</h3><div class=\"card-full-news__info\"><time class=\"card-full-news__info-item card-full-news__date\">22:54, 20 октября 2023</time><span class=\"card-full-news__info-item card-full-news__rubric\">Мир</span></div></a></li>,\n <li class=\"rubric-page__item _news\"><a class=\"card-full-news _subrubric\" href=\"/news/2023/10/20/finlyandiya-zayavila-o-kontakte-s-rossiey-i-kitaem-po-rassledovaniyu-balticconnector/\"><h3 class=\"card-full-news__title\">Финляндия заявила о контакте с Россией и Китаем по расследованию Balticconnector</h3><div class=\"card-full-news__info\"><time class=\"card-full-news__info-item card-full-news__date\">18:00, 20 октября 2023</time><span class=\"card-full-news__info-item card-full-news__rubric\">Мир</span></div></a></li>,\n <li class=\"rubric-page__item _news\"><a class=\"card-full-news _subrubric\" href=\"/news/2023/10/19/smi-zhertvami-udara-po-tserkvi-v-sektore-gaza-mogli-stat-desyatki-chelovek/\"><h3 class=\"card-full-news__title\">Жертвами удара по церкви в секторе Газа назвали десятки человек</h3><div class=\"card-full-news__info\"><time class=\"card-full-news__info-item card-full-news__date\">00:50, 20 октября 2023</time><span class=\"card-full-news__info-item card-full-news__rubric\">Мир</span></div></a></li>,\n <li class=\"rubric-page__item _news\"><a class=\"card-full-news _subrubric\" href=\"/news/2023/10/19/amerikanskuyu-voennuyu-bazu-v-irake-obstrelyali-iz-gradov/\"><h3 class=\"card-full-news__title\">Американскую военную базу в Ираке обстреляли из «Градов»</h3><div class=\"card-full-news__info\"><time class=\"card-full-news__info-item card-full-news__date\">23:33, 19 октября 2023</time><span class=\"card-full-news__info-item card-full-news__rubric\">Мир</span></div></a></li>,\n <li class=\"rubric-page__item _news\"><a class=\"card-full-news _subrubric\" href=\"/news/2023/10/19/rocket/\"><h3 class=\"card-full-news__title\">Разведка США назвала причину взрыва больницы в Газе</h3><div class=\"card-full-news__info\"><time class=\"card-full-news__info-item card-full-news__date\">21:58, 19 октября 2023</time><span class=\"card-full-news__info-item card-full-news__rubric\">Мир</span></div></a></li>,\n <li class=\"rubric-page__item _news\"><a class=\"card-full-news _subrubric\" href=\"/news/2023/10/19/plen_hamas/\"><h3 class=\"card-full-news__title\">Похищенная ХАМАС двенадцатилетняя девочка была найдена мертвой</h3><div class=\"card-full-news__info\"><time class=\"card-full-news__info-item card-full-news__date\">21:14, 19 октября 2023</time><span class=\"card-full-news__info-item card-full-news__rubric\">Мир</span></div></a></li>,\n <li class=\"rubric-page__item _news\"><a class=\"card-full-news _subrubric\" href=\"/news/2023/10/19/v-finlyandii-zavershili-osmotr-povrezhdeniy-gazoprovoda-balticconnector/\"><h3 class=\"card-full-news__title\">В Финляндии завершили осмотр повреждений газопровода Balticconnector</h3><div class=\"card-full-news__info\"><time class=\"card-full-news__info-item card-full-news__date\">17:16, 19 октября 2023</time><span class=\"card-full-news__info-item card-full-news__rubric\">Мир</span></div></a></li>,\n <li class=\"rubric-page__item _news\"><a class=\"card-full-news _subrubric\" href=\"/news/2023/10/19/explosion/\"><h3 class=\"card-full-news__title\">На Голанских высотах прогремел взрыв</h3><div class=\"card-full-news__info\"><time class=\"card-full-news__info-item card-full-news__date\">06:46, 19 октября 2023</time><span class=\"card-full-news__info-item card-full-news__rubric\">Мир</span></div></a></li>,\n <li class=\"rubric-page__item _news\"><a class=\"card-full-news _subrubric\" href=\"/news/2023/10/19/protestuyuschie-protiv-krovoprolitiya-v-sektore-gaza-aktivisty-vorvalis-v-kapitoliy-politsiya-ssha-arestovala-500-chelovek/\"><h3 class=\"card-full-news__title\">Протестующие против кровопролития в секторе Газа активисты ворвались в Капитолий. Полиция США арестовала 500 человек</h3><div class=\"card-full-news__info\"><time class=\"card-full-news__info-item card-full-news__date\">04:56, 19 октября 2023</time><span class=\"card-full-news__info-item card-full-news__rubric\">Мир</span><svg class=\"card-full-news__info-item card-full-news__super-news\"><use xlink:href=\"#ui-super-news\"></use></svg></div></a></li>,\n <li class=\"rubric-page__item _news\"><a class=\"card-full-news _subrubric\" href=\"/news/2023/10/19/politsiya-ottesnila-protestuyuschih-ot-zdaniya-kongressa-ssha/\"><h3 class=\"card-full-news__title\">Полиция оттеснила протестующих от здания Конгресса США</h3><div class=\"card-full-news__info\"><time class=\"card-full-news__info-item card-full-news__date\">01:45, 19 октября 2023</time><span class=\"card-full-news__info-item card-full-news__rubric\">Мир</span></div></a></li>,\n <li class=\"rubric-page__item _news\"><a class=\"card-full-news _subrubric\" href=\"/news/2023/10/18/kapitol/\"><h3 class=\"card-full-news__title\">В Капитолий прорвалась толпа протестующих против кровопролития в Газе</h3><div class=\"card-full-news__info\"><time class=\"card-full-news__info-item card-full-news__date\">23:21, 18 октября 2023</time><span class=\"card-full-news__info-item card-full-news__rubric\">Мир</span><svg class=\"card-full-news__info-item card-full-news__play\"><use xlink:href=\"#ui-play\"></use></svg></div></a></li>,\n <li class=\"rubric-page__item _news\"><a class=\"card-full-news _subrubric\" href=\"/news/2023/10/18/v-zayavleniyah-hamas-ob-udare-po-bolnitse-v-gaze-nashli-nesostykovki-chto-ne-tak-s-ih-versiey/\"><h3 class=\"card-full-news__title\">В заявлениях ХАМАС об ударе по больнице в Газе нашли нестыковки. Что не так с палестинской версией?</h3><div class=\"card-full-news__info\"><time class=\"card-full-news__info-item card-full-news__date\">20:41, 18 октября 2023</time><span class=\"card-full-news__info-item card-full-news__rubric\">Мир</span><svg class=\"card-full-news__info-item card-full-news__super-news\"><use xlink:href=\"#ui-super-news\"></use></svg></div></a></li>,\n <li class=\"rubric-page__item _news\"><a class=\"card-full-news _subrubric\" href=\"/news/2023/10/18/napal/\"><h3 class=\"card-full-news__title\">В Польше мужчина с ножом напал на группу дошкольников</h3><div class=\"card-full-news__info\"><time class=\"card-full-news__info-item card-full-news__date\">16:17, 18 октября 2023</time><span class=\"card-full-news__info-item card-full-news__rubric\">Мир</span></div></a></li>,\n <li class=\"rubric-page__item _news\"><a class=\"card-full-news _subrubric\" href=\"/news/2023/10/18/borrel-prizval-provesti-rassledovanie-udara-po-bolnitse-v-sektore-gaza/\"><h3 class=\"card-full-news__title\">Боррель призвал провести расследование удара по больнице в секторе Газа</h3><div class=\"card-full-news__info\"><time class=\"card-full-news__info-item card-full-news__date\">08:41, 18 октября 2023</time><span class=\"card-full-news__info-item card-full-news__rubric\">Мир</span></div></a></li>,\n <li class=\"rubric-page__item _news\"><a class=\"card-full-news _subrubric\" href=\"/news/2023/10/18/vozmozhnyy-udar-po-bolnitse-v-gaze-popal-na-video/\"><h3 class=\"card-full-news__title\">Возможный удар по больнице в Газе попал на видео</h3><div class=\"card-full-news__info\"><time class=\"card-full-news__info-item card-full-news__date\">07:52, 18 октября 2023</time><span class=\"card-full-news__info-item card-full-news__rubric\">Мир</span><svg class=\"card-full-news__info-item card-full-news__play\"><use xlink:href=\"#ui-play\"></use></svg></div></a></li>,\n <li class=\"rubric-page__item _news\"><a class=\"card-full-news _subrubric\" href=\"/news/2023/10/18/poyavilos-video-udara-po-bolnitse-v-sektore-gaza/\"><h3 class=\"card-full-news__title\">Появилось видео удара по больнице в секторе Газа</h3><div class=\"card-full-news__info\"><time class=\"card-full-news__info-item card-full-news__date\">06:28, 18 октября 2023</time><span class=\"card-full-news__info-item card-full-news__rubric\">Мир</span><svg class=\"card-full-news__info-item card-full-news__play\"><use xlink:href=\"#ui-play\"></use></svg></div></a></li>,\n <li class=\"rubric-page__item _news\"><a class=\"card-full-news _subrubric\" href=\"/news/2023/10/18/v-ssha-nashli-dokazatelstvo-prichastnosti-izrailya-k-udaru-po-bolnitse-v-gaze/\"><h3 class=\"card-full-news__title\">В США нашли доказательство причастности Израиля к удару по больнице в Газе</h3><div class=\"card-full-news__info\"><time class=\"card-full-news__info-item card-full-news__date\">04:33, 18 октября 2023</time><span class=\"card-full-news__info-item card-full-news__rubric\">Мир</span></div></a></li>,\n <li class=\"rubric-page__item _news\"><a class=\"card-full-news _subrubric\" href=\"/news/2023/10/18/posol-palestiny-zayavil-o-preduprezhdenii-bolnitsy-v-gaze-ob-atake/\"><h3 class=\"card-full-news__title\">Посол Палестины заявил о предупреждении больницы в Газе об атаке</h3><div class=\"card-full-news__info\"><time class=\"card-full-news__info-item card-full-news__date\">04:03, 18 октября 2023</time><span class=\"card-full-news__info-item card-full-news__rubric\">Мир</span></div></a></li>,\n <li class=\"rubric-page__item _news\"><a class=\"card-full-news _subrubric\" href=\"/news/2023/10/18/v-ssha-politsiya-zastrelila-otsidevshego-16-let-po-lozhnomu-obvineniyu-afroamerikantsa/\"><h3 class=\"card-full-news__title\">В США полиция застрелила отсидевшего 16 лет по ложному обвинению афроамериканца</h3><div class=\"card-full-news__info\"><time class=\"card-full-news__info-item card-full-news__date\">03:49, 18 октября 2023</time><span class=\"card-full-news__info-item card-full-news__rubric\">Мир</span></div></a></li>,\n <li class=\"rubric-page__item _news\"><a class=\"card-full-news _subrubric\" href=\"/news/2023/10/18/armiya-izrailya-pereproverila-dannye-ob-udare-po-bolnitse-v-gaze/\"><h3 class=\"card-full-news__title\">Армия Израиля перепроверила данные об ударе по больнице в Газе</h3><div class=\"card-full-news__info\"><time class=\"card-full-news__info-item card-full-news__date\">02:36, 18 октября 2023</time><span class=\"card-full-news__info-item card-full-news__rubric\">Мир</span></div></a></li>,\n <li class=\"rubric-page__item _news\"><a class=\"card-full-news _subrubric\" href=\"/news/2023/10/18/ig-vzyalo-za-sebya-otvetstvennost-za-terakt-v-bryussele/\"><h3 class=\"card-full-news__title\">ИГ взяло за себя ответственность за теракт в Брюсселе</h3><div class=\"card-full-news__info\"><time class=\"card-full-news__info-item card-full-news__date\">01:36, 18 октября 2023</time><span class=\"card-full-news__info-item card-full-news__rubric\">Мир</span></div></a></li>,\n <li class=\"rubric-page__item _news\"><a class=\"card-full-news _subrubric\" href=\"/news/2023/10/18/v-sektore-gaza-razbombili-bolnitsu-gde-ukryvalis-lyudi-pogibli-800-chelovek-sredi-nih-sotni-detey/\"><h3 class=\"card-full-news__title\">В секторе Газа разбомбили больницу, где укрывались люди. Погибли 800 человек, среди них сотни детей</h3><div class=\"card-full-news__info\"><time class=\"card-full-news__info-item card-full-news__date\">01:18, 18 октября 2023</time><span class=\"card-full-news__info-item card-full-news__rubric\">Мир</span><svg class=\"card-full-news__info-item card-full-news__super-news\"><use xlink:href=\"#ui-super-news\"></use></svg></div></a></li>,\n <li class=\"rubric-page__item _news\"><a class=\"card-full-news _subrubric\" href=\"/news/2023/10/17/vozle-posolstva-izrailya-v-iordanii-nachalis-besporyadki/\"><h3 class=\"card-full-news__title\">Появилось видео беспорядков возле посольства Израиля в Иордании</h3><div class=\"card-full-news__info\"><time class=\"card-full-news__info-item card-full-news__date\">23:06, 17 октября 2023</time><span class=\"card-full-news__info-item card-full-news__rubric\">Мир</span><svg class=\"card-full-news__info-item card-full-news__play\"><use xlink:href=\"#ui-play\"></use></svg></div></a></li>,\n <li class=\"rubric-page__item _news\"><a class=\"card-full-news _subrubric\" href=\"/news/2023/10/17/stalo-izvestno-o-vozmozhnom-vinovnike-povrezhdeniya-na-balticconnector/\"><h3 class=\"card-full-news__title\">Стало известно о возможном виновнике повреждения на Balticconnector</h3><div class=\"card-full-news__info\"><time class=\"card-full-news__info-item card-full-news__date\">12:38, 17 октября 2023</time><span class=\"card-full-news__info-item card-full-news__rubric\">Мир</span></div></a></li>,\n <li class=\"rubric-page__item _news\"><a class=\"card-full-news _subrubric\" href=\"/news/2023/10/17/brussel_radikal/\"><h3 class=\"card-full-news__title\">В Бельгии раскрыли личность подозреваемого в стрельбе в Брюсселе</h3><div class=\"card-full-news__info\"><time class=\"card-full-news__info-item card-full-news__date\">01:04, 17 октября 2023</time><span class=\"card-full-news__info-item card-full-news__rubric\">Мир</span></div></a></li>,\n <li class=\"rubric-page__item _news\"><a class=\"card-full-news _subrubric\" href=\"/news/2023/10/16/brussel_ig/\"><h3 class=\"card-full-news__title\">Устроивший стрельбу в Брюсселе рассказал о принадлежности к ИГИЛ</h3><div class=\"card-full-news__info\"><time class=\"card-full-news__info-item card-full-news__date\">23:15, 16 октября 2023</time><span class=\"card-full-news__info-item card-full-news__rubric\">Мир</span></div></a></li>,\n <li class=\"rubric-page__item _news\"><a class=\"card-full-news _subrubric\" href=\"/news/2023/10/16/v-bryussele-muzhchina-rasstrelyal-dvuh-chelovek-v-forme-sbornoy-shvetsii/\"><h3 class=\"card-full-news__title\">В Брюсселе мужчина расстрелял двух фанатов в форме сборной Швеции</h3><div class=\"card-full-news__info\"><time class=\"card-full-news__info-item card-full-news__date\">23:06, 16 октября 2023</time><span class=\"card-full-news__info-item card-full-news__rubric\">Мир</span></div></a></li>,\n <li class=\"rubric-page__item _news\"><a class=\"card-full-news _subrubric\" href=\"/news/2023/10/15/support/\"><h3 class=\"card-full-news__title\">В Германии разогнали крупный митинг в поддержку Палестины</h3><div class=\"card-full-news__info\"><time class=\"card-full-news__info-item card-full-news__date\">23:39, 15 октября 2023</time><span class=\"card-full-news__info-item card-full-news__rubric\">Мир</span></div></a></li>,\n <li class=\"rubric-page__item _news\"><a class=\"card-full-news _subrubric\" href=\"/news/2023/10/15/v-shtab-kvartiru-oon-v-livane-popala-raketa/\"><h3 class=\"card-full-news__title\">В штаб-квартиру ООН в Ливане попала ракета</h3><div class=\"card-full-news__info\"><time class=\"card-full-news__info-item card-full-news__date\">20:20, 15 октября 2023</time><span class=\"card-full-news__info-item card-full-news__rubric\">Мир</span></div></a></li>,\n <li class=\"rubric-page__item _news\"><a class=\"card-full-news _subrubric\" href=\"/news/2023/10/15/poyavilos-video-predpolozhitelnogo-udara-po-aeroportu-aleppo/\"><h3 class=\"card-full-news__title\">Появилось видео предположительного удара по аэропорту Алеппо</h3><div class=\"card-full-news__info\"><time class=\"card-full-news__info-item card-full-news__date\">03:11, 15 октября 2023</time><span class=\"card-full-news__info-item card-full-news__rubric\">Мир</span><svg class=\"card-full-news__info-item card-full-news__play\"><use xlink:href=\"#ui-play\"></use></svg></div></a></li>,\n <li class=\"rubric-page__item _news\"><a class=\"card-full-news _subrubric\" href=\"/news/2023/10/24/gensek-nato-oboznachil-kraynie-sroki-vstupleniya-shvetsii-v-alyans/\"><h3 class=\"card-full-news__title\">Столтенберг обозначил крайние сроки вступления Швеции в НАТО</h3><div class=\"card-full-news__info\"><time class=\"card-full-news__info-item card-full-news__date\">13:24, 24 октября 2023</time><span class=\"card-full-news__info-item card-full-news__rubric\">Мир</span></div></a></li>,\n <li class=\"rubric-page__item _news\"><a class=\"card-full-news _subrubric\" href=\"/news/2023/10/24/v-ssha-dopustili-primenenie-hamas-postavlennogo-soyuznikam-oruzhiya/\"><h3 class=\"card-full-news__title\">В США допустили применение ХАМАС поставленного союзникам оружия</h3><div class=\"card-full-news__info\"><time class=\"card-full-news__info-item card-full-news__date\">12:47, 24 октября 2023</time><span class=\"card-full-news__info-item card-full-news__rubric\">Мир</span></div></a></li>,\n <li class=\"rubric-page__item _news\"><a class=\"card-full-news _subrubric\" href=\"/news/2023/10/24/hzbll/\"><h3 class=\"card-full-news__title\">Названо условие участия «Хезболлы» в палестино-израильском конфликте</h3><div class=\"card-full-news__info\"><time class=\"card-full-news__info-item card-full-news__date\">12:18, 24 октября 2023</time><span class=\"card-full-news__info-item card-full-news__rubric\">Мир</span></div></a></li>,\n <li class=\"rubric-page__item _news\"><a class=\"card-full-news _subrubric\" href=\"/news/2023/10/24/frantsiya-vystupila-za-provedenie-tochechnyh-operatsiy-protiv-terroristov-v-izraile/\"><h3 class=\"card-full-news__title\">Франция выступила за проведение точечных операций против террористов в Израиле</h3><div class=\"card-full-news__info\"><time class=\"card-full-news__info-item card-full-news__date\">11:44, 24 октября 2023</time><span class=\"card-full-news__info-item card-full-news__rubric\">Мир</span></div></a></li>,\n <li class=\"rubric-page__item _news\"><a class=\"card-full-news _subrubric\" href=\"/news/2023/10/24/ssha-obvinili-iran-v-organizatsii-atak-na-amerikanskie-bazy/\"><h3 class=\"card-full-news__title\">США обвинили Иран в организации атак на американские базы</h3><div class=\"card-full-news__info\"><time class=\"card-full-news__info-item card-full-news__date\">08:29, 24 октября 2023</time><span class=\"card-full-news__info-item card-full-news__rubric\">Мир</span></div></a></li>,\n <li class=\"rubric-page__item _news\"><a class=\"card-full-news _subrubric\" href=\"/news/2023/10/23/v-ssha-zayavili-ob-otsutstvii-vykupa-dlya-amerikanskih-zalozhnikov-hamas/\"><h3 class=\"card-full-news__title\">В США заявили об отсутствии выкупа для американских заложников ХАМАС</h3><div class=\"card-full-news__info\"><time class=\"card-full-news__info-item card-full-news__date\">22:49, 23 октября 2023</time><span class=\"card-full-news__info-item card-full-news__rubric\">Мир</span></div></a></li>,\n <li class=\"rubric-page__item _news\"><a class=\"card-full-news _subrubric\" href=\"/news/2023/10/23/krasnyy-krest-zaberet-50-zalozhnikov-hamas-na-granitse-s-gazoy/\"><h3 class=\"card-full-news__title\">Красный Крест заберет 50 заложников ХАМАС на границе с Газой</h3><div class=\"card-full-news__info\"><time class=\"card-full-news__info-item card-full-news__date\">21:44, 23 октября 2023</time><span class=\"card-full-news__info-item card-full-news__rubric\">Мир</span></div></a></li>,\n <li class=\"rubric-page__item _news\"><a class=\"card-full-news _subrubric\" href=\"/news/2023/10/23/hamas-osvobodilo-esche-dvuh-zalozhnikov-iz-sektora-gaza/\"><h3 class=\"card-full-news__title\">ХАМАС освободило еще двух заложников из сектора Газа</h3><div class=\"card-full-news__info\"><time class=\"card-full-news__info-item card-full-news__date\">21:20, 23 октября 2023</time><span class=\"card-full-news__info-item card-full-news__rubric\">Мир</span></div></a></li>,\n <li class=\"rubric-page__item _news\"><a class=\"card-full-news _subrubric\" href=\"/news/2023/10/23/v-gazu-pribyli-gruzoviki-s-gumanitarnoy-pomoschyu/\"><h3 class=\"card-full-news__title\">В Газу прибыли грузовики с гуманитарной помощью</h3><div class=\"card-full-news__info\"><time class=\"card-full-news__info-item card-full-news__date\">20:43, 23 октября 2023</time><span class=\"card-full-news__info-item card-full-news__rubric\">Мир</span></div></a></li>,\n <li class=\"rubric-page__item _news\"><a class=\"card-full-news _subrubric\" href=\"/news/2023/10/23/stalo-izvestno-o-vozmozhnom-vydvorenii-rukovodstva-hamas-iz-turtsii/\"><h3 class=\"card-full-news__title\">Стало известно о возможном выдворении руководства ХАМАС из Турции</h3><div class=\"card-full-news__info\"><time class=\"card-full-news__info-item card-full-news__date\">20:09, 23 октября 2023</time><span class=\"card-full-news__info-item card-full-news__rubric\">Мир</span></div></a></li>,\n <li class=\"rubric-page__item _news\"><a class=\"card-full-news _subrubric\" href=\"/news/2023/10/23/glava-minoborony-izrailya-zayavil-o-detalyah-kompleksnoy-ataki-gazy/\"><h3 class=\"card-full-news__title\">Глава Минобороны Израиля рассказал детали комплексной атаки на сектор Газа</h3><div class=\"card-full-news__info\"><time class=\"card-full-news__info-item card-full-news__date\">19:22, 23 октября 2023</time><span class=\"card-full-news__info-item card-full-news__rubric\">Мир</span></div></a></li>,\n <li class=\"rubric-page__item _news\"><a class=\"card-full-news _subrubric\" href=\"/news/2023/10/23/v-shvetsii-zayavili-o-vneshnem-istochnike-povrezhdeniya-iduschego-v-estoniyu-kabelya/\"><h3 class=\"card-full-news__title\">В Швеции заявили о внешнем источнике повреждения ведущего в Эстонию кабеля</h3><div class=\"card-full-news__info\"><time class=\"card-full-news__info-item card-full-news__date\">19:18, 23 октября 2023</time><span class=\"card-full-news__info-item card-full-news__rubric\">Мир</span></div></a></li>,\n <li class=\"rubric-page__item _news\"><a class=\"card-full-news _subrubric\" href=\"/news/2023/10/23/v-turtsii-dopustili-prioritetnoe-rassmotrenie-zayavki-shvetsii-v-nato/\"><h3 class=\"card-full-news__title\">В Турции допустили приоритетное рассмотрение заявки Швеции в НАТО</h3><div class=\"card-full-news__info\"><time class=\"card-full-news__info-item card-full-news__date\">18:54, 23 октября 2023</time><span class=\"card-full-news__info-item card-full-news__rubric\">Мир</span></div></a></li>,\n <li class=\"rubric-page__item _news\"><a class=\"card-full-news _subrubric\" href=\"/news/2023/10/23/baydenu-predrekli-poteryu-golosov-musulman-v-2024-godu/\"><h3 class=\"card-full-news__title\">Байдену предрекли потерю голосов мусульман в 2024 году</h3><div class=\"card-full-news__info\"><time class=\"card-full-news__info-item card-full-news__date\">18:02, 23 октября 2023</time><span class=\"card-full-news__info-item card-full-news__rubric\">Мир</span></div></a></li>,\n <li class=\"rubric-page__item _news\"><a class=\"card-full-news _subrubric\" href=\"/news/2023/10/23/administratsiya-erdogana-oprovergla-vydvorenie-rukovodstva-hamas/\"><h3 class=\"card-full-news__title\">Администрация Эрдогана опровергла выдворение руководства ХАМАС</h3><div class=\"card-full-news__info\"><time class=\"card-full-news__info-item card-full-news__date\">17:39, 23 октября 2023</time><span class=\"card-full-news__info-item card-full-news__rubric\">Мир</span></div></a></li>,\n <li class=\"rubric-page__item _news\"><a class=\"card-full-news _subrubric\" href=\"/news/2023/10/23/glavy-mid-es-obsudili-vydelenie-novyh-deneg-dlya-vooruzheniya-ukraine/\"><h3 class=\"card-full-news__title\">Главы МИД ЕС обсудили выделение Украине новых денег для вооружения</h3><div class=\"card-full-news__info\"><time class=\"card-full-news__info-item card-full-news__date\">16:45, 23 октября 2023</time><span class=\"card-full-news__info-item card-full-news__rubric\">Мир</span></div></a></li>,\n <li class=\"rubric-page__item _news\"><a class=\"card-full-news _subrubric\" href=\"/news/2023/10/23/stalo-izvestno-o-neprinyatii-tsru-nekotoryh-metodov-sbu/\"><h3 class=\"card-full-news__title\">Стало известно о непринятии ЦРУ некоторых методов СБУ</h3><div class=\"card-full-news__info\"><time class=\"card-full-news__info-item card-full-news__date\">16:01, 23 октября 2023</time><span class=\"card-full-news__info-item card-full-news__rubric\">Мир</span></div></a></li>,\n <li class=\"rubric-page__item _news\"><a class=\"card-full-news _subrubric\" href=\"/news/2023/10/23/zlzhnk/\"><h3 class=\"card-full-news__title\">Полковник назвал возможным освобождение заложников ХАМАС при одном условии</h3><div class=\"card-full-news__info\"><time class=\"card-full-news__info-item card-full-news__date\">12:48, 23 октября 2023</time><span class=\"card-full-news__info-item card-full-news__rubric\">Мир</span></div></a></li>,\n <li class=\"rubric-page__item _news\"><a class=\"card-full-news _subrubric\" href=\"/news/2023/10/23/v-ssha-zayavili-ob-opaseniyah-razvitiya-bolshogo-konflikta-na-blizhnem-vostoke/\"><h3 class=\"card-full-news__title\">В США заявили об опасениях развития более широкого конфликта на Ближнем Востоке</h3><div class=\"card-full-news__info\"><time class=\"card-full-news__info-item card-full-news__date\">10:07, 23 октября 2023</time><span class=\"card-full-news__info-item card-full-news__rubric\">Мир</span></div></a></li>,\n <li class=\"rubric-page__item _news\"><a class=\"card-full-news _subrubric\" href=\"/news/2023/10/22/v-izraile-nazvali-usloviya-otmeny-nazemnoy-operatsii-v-gaze/\"><h3 class=\"card-full-news__title\">В Израиле назвали условия отмены наземной операции в Газе</h3><div class=\"card-full-news__info\"><time class=\"card-full-news__info-item card-full-news__date\">06:50, 23 октября 2023</time><span class=\"card-full-news__info-item card-full-news__rubric\">Мир</span></div></a></li>,\n <li class=\"rubric-page__item _news\"><a class=\"card-full-news _subrubric\" href=\"/news/2023/10/23/ultimatum/\"><h3 class=\"card-full-news__title\">Израиль потребовал от ООН проверять грузы для Газы</h3><div class=\"card-full-news__info\"><time class=\"card-full-news__info-item card-full-news__date\">00:50, 23 октября 2023</time><span class=\"card-full-news__info-item card-full-news__rubric\">Мир</span></div></a></li>,\n <li class=\"rubric-page__item _news\"><a class=\"card-full-news _subrubric\" href=\"/news/2023/10/23/tsahal-udaril-po-mecheti-i-zhilym-domam-v-sektore-gaza/\"><h3 class=\"card-full-news__title\">ЦАХАЛ ударил по мечети и жилым домам в Газе</h3><div class=\"card-full-news__info\"><time class=\"card-full-news__info-item card-full-news__date\">00:37, 23 октября 2023</time><span class=\"card-full-news__info-item card-full-news__rubric\">Мир</span></div></a></li>,\n <li class=\"rubric-page__item _news\"><a class=\"card-full-news _subrubric\" href=\"/news/2023/10/22/v-hamas-pri-vtorzhenii-v-izrail-znali-sposoby-izgotovleniya-himoruzhiya/\"><h3 class=\"card-full-news__title\">В ХАМАС при вторжении в Израиль знали способы изготовления химоружия</h3><div class=\"card-full-news__info\"><time class=\"card-full-news__info-item card-full-news__date\">23:46, 22 октября 2023</time><span class=\"card-full-news__info-item card-full-news__rubric\">Мир</span></div></a></li>,\n <li class=\"rubric-page__item _news\"><a class=\"card-full-news _subrubric\" href=\"/news/2023/10/22/v-izraile-raskritikovali-otvetstvennogo-za-vozvraschenie-plennyh-generala/\"><h3 class=\"card-full-news__title\">В Израиле раскритиковали ответственного за возвращение пленных генерала</h3><div class=\"card-full-news__info\"><time class=\"card-full-news__info-item card-full-news__date\">23:14, 22 октября 2023</time><span class=\"card-full-news__info-item card-full-news__rubric\">Мир</span></div></a></li>,\n <li class=\"rubric-page__item _news\"><a class=\"card-full-news _subrubric\" href=\"/news/2023/10/22/izrailskie-istrebiteli-nanesli-udary-po-aeroportam-v-damaske-i-aleppo/\"><h3 class=\"card-full-news__title\">Израильские истребители нанесли удары по аэропортам в Дамаске и Алеппо</h3><div class=\"card-full-news__info\"><time class=\"card-full-news__info-item card-full-news__date\">22:14, 22 октября 2023</time><span class=\"card-full-news__info-item card-full-news__rubric\">Мир</span></div></a></li>,\n <li class=\"rubric-page__item _news\"><a class=\"card-full-news _subrubric\" href=\"/news/2023/10/22/rossiyskie-vks-udarili-po-boevikam-v-sirii/\"><h3 class=\"card-full-news__title\">Российские ВКС ударили по боевикам в Сирии</h3><div class=\"card-full-news__info\"><time class=\"card-full-news__info-item card-full-news__date\">22:12, 22 октября 2023</time><span class=\"card-full-news__info-item card-full-news__rubric\">Мир</span></div></a></li>,\n <li class=\"rubric-page__item _news\"><a class=\"card-full-news _subrubric\" href=\"/news/2023/10/22/pogran_oshibka/\"><h3 class=\"card-full-news__title\">В Египте рассказали о пострадавших из-за случайного израильского обстрела</h3><div class=\"card-full-news__info\"><time class=\"card-full-news__info-item card-full-news__date\">20:10, 22 октября 2023</time><span class=\"card-full-news__info-item card-full-news__rubric\">Мир</span></div></a></li>,\n <li class=\"rubric-page__item _news\"><a class=\"card-full-news _subrubric\" href=\"/news/2023/10/22/usa/\"><h3 class=\"card-full-news__title\">В России высказались о последствиях вступления США в конфликт на Ближнем Востоке</h3><div class=\"card-full-news__info\"><time class=\"card-full-news__info-item card-full-news__date\">18:52, 22 октября 2023</time><span class=\"card-full-news__info-item card-full-news__rubric\">Мир</span></div></a></li>,\n <li class=\"rubric-page__item _news\"><a class=\"card-full-news _subrubric\" href=\"/news/2023/10/22/izrail-po-oshibke-obstrelyal-territoriyu-egipta/\"><h3 class=\"card-full-news__title\">Израиль по ошибке обстрелял территорию Египта</h3><div class=\"card-full-news__info\"><time class=\"card-full-news__info-item card-full-news__date\">18:35, 22 октября 2023</time><span class=\"card-full-news__info-item card-full-news__rubric\">Мир</span></div></a></li>,\n <li class=\"rubric-page__item _news\"><a class=\"card-full-news _subrubric\" href=\"/news/2023/10/22/mccain_gaza/\"><h3 class=\"card-full-news__title\">В ООН назвали катастрофической гуманитарную ситуацию в Газе</h3><div class=\"card-full-news__info\"><time class=\"card-full-news__info-item card-full-news__date\">17:39, 22 октября 2023</time><span class=\"card-full-news__info-item card-full-news__rubric\">Мир</span></div></a></li>,\n <li class=\"rubric-page__item _news\"><a class=\"card-full-news _subrubric\" href=\"/news/2023/10/22/armiya-izrailya-soobschila-o-pervom-primenenii-stalnogo-zhala-v-sektore-gaza/\"><h3 class=\"card-full-news__title\">Армия Израиля сообщила о первом применении «Стального жала» в секторе Газа</h3><div class=\"card-full-news__info\"><time class=\"card-full-news__info-item card-full-news__date\">17:12, 22 октября 2023</time><span class=\"card-full-news__info-item card-full-news__rubric\">Мир</span></div></a></li>,\n <li class=\"rubric-page__item _news\"><a class=\"card-full-news _subrubric\" href=\"/news/2023/10/22/vtoraya-kolonna-s-gumanitarnoy-pomoschyu-v-ehala-v-gazu-iz-egipta/\"><h3 class=\"card-full-news__title\">Вторая колонна с гуманитарной помощью въехала в Газу из Египта</h3><div class=\"card-full-news__info\"><time class=\"card-full-news__info-item card-full-news__date\">15:05, 22 октября 2023</time><span class=\"card-full-news__info-item card-full-news__rubric\">Мир</span></div></a></li>,\n <li class=\"rubric-page__item _news\"><a class=\"card-full-news _subrubric\" href=\"/news/2023/10/22/syria/\"><h3 class=\"card-full-news__title\">В России высказались о влиянии израильского конфликта на операцию в Сирии</h3><div class=\"card-full-news__info\"><time class=\"card-full-news__info-item card-full-news__date\">13:27, 22 октября 2023</time><span class=\"card-full-news__info-item card-full-news__rubric\">Мир</span></div></a></li>,\n <li class=\"rubric-page__item _news\"><a class=\"card-full-news _subrubric\" href=\"/news/2023/10/22/rs_atacms/\"><h3 class=\"card-full-news__title\">В США заявили о неприемлемости передачи ракет ATACMS Украине</h3><div class=\"card-full-news__info\"><time class=\"card-full-news__info-item card-full-news__date\">09:20, 22 октября 2023</time><span class=\"card-full-news__info-item card-full-news__rubric\">Мир</span></div></a></li>,\n <li class=\"rubric-page__item _news\"><a class=\"card-full-news _subrubric\" href=\"/news/2023/10/22/izrail-raketnymi-udarami-vyvel-iz-stroya-aeroporty-damaska-i-aleppo-v-sirii/\"><h3 class=\"card-full-news__title\">Израиль ракетными ударами вывел из строя аэропорты Дамаска и Алеппо в Сирии</h3><div class=\"card-full-news__info\"><time class=\"card-full-news__info-item card-full-news__date\">08:25, 22 октября 2023</time><span class=\"card-full-news__info-item card-full-news__rubric\">Мир</span></div></a></li>,\n <li class=\"rubric-page__item _news\"><a class=\"card-full-news _subrubric\" href=\"/news/2023/10/21/hamas-zayavil-ob-otklonenii-izrailem-predlozheniya-otpustit-esche-dvoih-zalozhnikov/\"><h3 class=\"card-full-news__title\">ХАМАС заявил об отклонении Израилем предложения отпустить еще двоих заложников</h3><div class=\"card-full-news__info\"><time class=\"card-full-news__info-item card-full-news__date\">22:33, 21 октября 2023</time><span class=\"card-full-news__info-item card-full-news__rubric\">Мир</span></div></a></li>,\n <li class=\"rubric-page__item _news\"><a class=\"card-full-news _subrubric\" href=\"/news/2023/10/21/izrail-usilit-udary-po-sektoru-gaza/\"><h3 class=\"card-full-news__title\">Израиль усилит удары по сектору Газа</h3><div class=\"card-full-news__info\"><time class=\"card-full-news__info-item card-full-news__date\">20:53, 21 октября 2023</time><span class=\"card-full-news__info-item card-full-news__rubric\">Мир</span></div></a></li>,\n <li class=\"rubric-page__item _news\"><a class=\"card-full-news _subrubric\" href=\"/news/2023/10/21/mid-rossii-vystupil-protiv-pogloscheniya-izrailem-palestinskih-territoriy/\"><h3 class=\"card-full-news__title\">МИД России выступил против поглощения Израилем палестинских территорий</h3><div class=\"card-full-news__info\"><time class=\"card-full-news__info-item card-full-news__date\">20:29, 21 октября 2023</time><span class=\"card-full-news__info-item card-full-news__rubric\">Мир</span></div></a></li>,\n <li class=\"rubric-page__item _news\"><a class=\"card-full-news _subrubric\" href=\"/news/2023/10/21/apgaza/\"><h3 class=\"card-full-news__title\">Опубликованы результаты расследования AP о виновнике удара по больнице в Газе</h3><div class=\"card-full-news__info\"><time class=\"card-full-news__info-item card-full-news__date\">19:21, 21 октября 2023</time><span class=\"card-full-news__info-item card-full-news__rubric\">Мир</span></div></a></li>,\n <li class=\"rubric-page__item _news\"><a class=\"card-full-news _subrubric\" href=\"/news/2023/10/21/stalo-izvestno-o-raznoglasiyah-mezhdu-uchastnikami-sammita-po-palestine/\"><h3 class=\"card-full-news__title\">Стало известно о разногласиях между участниками саммита по Палестине</h3><div class=\"card-full-news__info\"><time class=\"card-full-news__info-item card-full-news__date\">19:04, 21 октября 2023</time><span class=\"card-full-news__info-item card-full-news__rubric\">Мир</span></div></a></li>,\n <li class=\"rubric-page__item _news\"><a class=\"card-full-news _subrubric\" href=\"/news/2023/10/21/v-tsahal-dopustili-osvobozhdenie-voennym-putem-pohischennyh-hamas-zalozhnikov/\"><h3 class=\"card-full-news__title\">В ЦАХАЛ допустили освобождение заложников военным путем</h3><div class=\"card-full-news__info\"><time class=\"card-full-news__info-item card-full-news__date\">17:13, 21 октября 2023</time><span class=\"card-full-news__info-item card-full-news__rubric\">Мир</span></div></a></li>,\n <li class=\"rubric-page__item _news\"><a class=\"card-full-news _subrubric\" href=\"/news/2023/10/21/v-izraile-zayavili-o-gotovnosti-k-nazemnoy-operatsii-v-sektore-gaza/\"><h3 class=\"card-full-news__title\">В Израиле заявили о готовности к наземной операции в секторе Газа</h3><div class=\"card-full-news__info\"><time class=\"card-full-news__info-item card-full-news__date\">17:12, 21 октября 2023</time><span class=\"card-full-news__info-item card-full-news__rubric\">Мир</span></div></a></li>,\n <li class=\"rubric-page__item _news\"><a class=\"card-full-news _subrubric\" href=\"/news/2023/10/21/velikobritaniya-prizvala-izrail-k-sderzhannosti/\"><h3 class=\"card-full-news__title\">Великобритания призвала Израиль к сдержанности</h3><div class=\"card-full-news__info\"><time class=\"card-full-news__info-item card-full-news__date\">15:47, 21 октября 2023</time><span class=\"card-full-news__info-item card-full-news__rubric\">Мир</span></div></a></li>,\n <li class=\"rubric-page__item _news\"><a class=\"card-full-news _subrubric\" href=\"/news/2023/10/21/galant/\"><h3 class=\"card-full-news__title\">Израиль предупредил «Хезболлу» о высокой цене за присоединение к конфликту</h3><div class=\"card-full-news__info\"><time class=\"card-full-news__info-item card-full-news__date\">15:22, 21 октября 2023</time><span class=\"card-full-news__info-item card-full-news__rubric\">Мир</span></div></a></li>,\n <li class=\"rubric-page__item _news\"><a class=\"card-full-news _subrubric\" href=\"/news/2023/10/21/izrail-ogranichit-postavki-gumanitarnoy-pomoschi-v-sektor-gaza/\"><h3 class=\"card-full-news__title\">Израиль ограничит поставки гуманитарной помощи в сектор Газа</h3><div class=\"card-full-news__info\"><time class=\"card-full-news__info-item card-full-news__date\">14:47, 21 октября 2023</time><span class=\"card-full-news__info-item card-full-news__rubric\">Мир</span></div></a></li>,\n <li class=\"rubric-page__item _news\"><a class=\"card-full-news _subrubric\" href=\"/news/2023/10/21/hamas-zayavilo-ob-obstrelah-tel-aviva/\"><h3 class=\"card-full-news__title\">ХАМАС заявило об обстрелах Тель-Авива</h3><div class=\"card-full-news__info\"><time class=\"card-full-news__info-item card-full-news__date\">14:10, 21 октября 2023</time><span class=\"card-full-news__info-item card-full-news__rubric\">Мир</span></div></a></li>,\n <li class=\"rubric-page__item _news\"><a class=\"card-full-news _subrubric\" href=\"/news/2023/10/21/korol-iordanii-nazval-voennym-prestupleniem-deportatsiyu-palestintsev/\"><h3 class=\"card-full-news__title\">Король Иордании назвал военным преступлением депортацию палестинцев</h3><div class=\"card-full-news__info\"><time class=\"card-full-news__info-item card-full-news__date\">13:39, 21 октября 2023</time><span class=\"card-full-news__info-item card-full-news__rubric\">Мир</span></div></a></li>,\n <li class=\"rubric-page__item _news\"><a class=\"card-full-news _subrubric\" href=\"/news/2023/10/21/v-egipte-nachalsya-sammit-po-uregulirovaniyu-konflikta-v-sektore-gaza/\"><h3 class=\"card-full-news__title\">В Египте начался саммит по урегулированию конфликта в секторе Газа</h3><div class=\"card-full-news__info\"><time class=\"card-full-news__info-item card-full-news__date\">13:32, 21 октября 2023</time><span class=\"card-full-news__info-item card-full-news__rubric\">Мир</span></div></a></li>,\n <li class=\"rubric-page__item _news\"><a class=\"card-full-news _subrubric\" href=\"/news/2023/10/21/u-posolstva-izrailya-v-stolitse-kipra-proizoshel-vzryv/\"><h3 class=\"card-full-news__title\">У посольства Израиля в столице Кипра произошел взрыв</h3><div class=\"card-full-news__info\"><time class=\"card-full-news__info-item card-full-news__date\">13:22, 21 октября 2023</time><span class=\"card-full-news__info-item card-full-news__rubric\">Мир</span></div></a></li>,\n <li class=\"rubric-page__item _news\"><a class=\"card-full-news _subrubric\" href=\"/news/2023/10/21/ukraina-voshla-v-troyku-liderov-po-amerikanskoy-pomoschi/\"><h3 class=\"card-full-news__title\">Украина вошла в тройку лидеров по американской помощи</h3><div class=\"card-full-news__info\"><time class=\"card-full-news__info-item card-full-news__date\">12:44, 21 октября 2023</time><span class=\"card-full-news__info-item card-full-news__rubric\">Мир</span></div></a></li>,\n <li class=\"rubric-page__item _news\"><a class=\"card-full-news _subrubric\" href=\"/news/2023/10/21/chislo-postradavshih-pri-atake-hamas-na-izrail-prevysilo-pyat-tysyach/\"><h3 class=\"card-full-news__title\">Число пострадавших при атаке ХАМАС на Израиль превысило пять тысяч</h3><div class=\"card-full-news__info\"><time class=\"card-full-news__info-item card-full-news__date\">12:18, 21 октября 2023</time><span class=\"card-full-news__info-item card-full-news__rubric\">Мир</span></div></a></li>,\n <li class=\"rubric-page__item _news\"><a class=\"card-full-news _subrubric\" href=\"/news/2023/10/21/bayden-nazval-tsel-ataki-hamas-na-izrail/\"><h3 class=\"card-full-news__title\">Байден назвал цель атаки ХАМАС на Израиль</h3><div class=\"card-full-news__info\"><time class=\"card-full-news__info-item card-full-news__date\">10:43, 21 октября 2023</time><span class=\"card-full-news__info-item card-full-news__rubric\">Мир</span></div></a></li>,\n <li class=\"rubric-page__item _news\"><a class=\"card-full-news _subrubric\" href=\"/news/2023/10/21/complicit/\"><h3 class=\"card-full-news__title\">В ЕС обвинили фон дер Ляйен в замалчивании преступлений против палестинцев</h3><div class=\"card-full-news__info\"><time class=\"card-full-news__info-item card-full-news__date\">05:00, 21 октября 2023</time><span class=\"card-full-news__info-item card-full-news__rubric\">Мир</span></div></a></li>,\n <li class=\"rubric-page__item _news\"><a class=\"card-full-news _subrubric\" href=\"/news/2023/10/21/shkola-v-gaze-popala-pod-udar-posle-vizita-baydena-v-izrail/\"><h3 class=\"card-full-news__title\">Школа в Газе попала под удар после визита Байдена в Израиль</h3><div class=\"card-full-news__info\"><time class=\"card-full-news__info-item card-full-news__date\">03:57, 21 октября 2023</time><span class=\"card-full-news__info-item card-full-news__rubric\">Мир</span></div></a></li>,\n <li class=\"rubric-page__item _news\"><a class=\"card-full-news _subrubric\" href=\"/news/2023/10/20/izrail-zayavil-o-novyh-udarah-po-tselyam-hezbolly/\"><h3 class=\"card-full-news__title\">Израиль заявил о новых ударах по целям «Хезболлы»</h3><div class=\"card-full-news__info\"><time class=\"card-full-news__info-item card-full-news__date\">23:25, 20 октября 2023</time><span class=\"card-full-news__info-item card-full-news__rubric\">Мир</span></div></a></li>,\n <li class=\"rubric-page__item _news\"><a class=\"card-full-news _subrubric\" href=\"/news/2023/10/20/izrail-podtverdil-osvobozhdenie-dvuh-plennyh-v-gaze/\"><h3 class=\"card-full-news__title\">Израиль подтвердил освобождение двух пленных в Газе</h3><div class=\"card-full-news__info\"><time class=\"card-full-news__info-item card-full-news__date\">22:55, 20 октября 2023</time><span class=\"card-full-news__info-item card-full-news__rubric\">Мир</span></div></a></li>,\n <li class=\"rubric-page__item _news\"><a class=\"card-full-news _subrubric\" href=\"/news/2023/10/20/tsahal-zayavil-o-likvidatsii-vysokopostavlennogo-chlena-hamas/\"><h3 class=\"card-full-news__title\">ЦАХАЛ заявил о ликвидации высокопоставленного члена ХАМАС</h3><div class=\"card-full-news__info\"><time class=\"card-full-news__info-item card-full-news__date\">21:09, 20 октября 2023</time><span class=\"card-full-news__info-item card-full-news__rubric\">Мир</span></div></a></li>,\n <li class=\"rubric-page__item _news\"><a class=\"card-full-news _subrubric\" href=\"/news/2023/10/20/belyy-dom-zaprosil-u-kongressa-sredstva-na-sderzhivanie-rossii-i-kitaya-v-atr/\"><h3 class=\"card-full-news__title\">Белый дом запросил у Конгресса средства на сдерживание России и Китая в АТР</h3><div class=\"card-full-news__info\"><time class=\"card-full-news__info-item card-full-news__date\">20:55, 20 октября 2023</time><span class=\"card-full-news__info-item card-full-news__rubric\">Мир</span></div></a></li>,\n <li class=\"rubric-page__item _news\"><a class=\"card-full-news _subrubric\" href=\"/news/2023/10/20/sotrudniki-gosdepa-raskritikuyut-pozitsiyu-ssha-po-izrailyu/\"><h3 class=\"card-full-news__title\">Сотрудники Госдепа раскритикуют позицию США по Израилю</h3><div class=\"card-full-news__info\"><time class=\"card-full-news__info-item card-full-news__date\">20:44, 20 октября 2023</time><span class=\"card-full-news__info-item card-full-news__rubric\">Мир</span></div></a></li>,\n <li class=\"rubric-page__item _news\"><a class=\"card-full-news _subrubric\" href=\"/news/2023/10/20/premier-palestiny-ulichil-ssha-v-otsutstvii-voli/\"><h3 class=\"card-full-news__title\">Премьер Палестины уличил США в отсутствии воли</h3><div class=\"card-full-news__info\"><time class=\"card-full-news__info-item card-full-news__date\">20:23, 20 октября 2023</time><span class=\"card-full-news__info-item card-full-news__rubric\">Мир</span></div></a></li>,\n <li class=\"rubric-page__item _news\"><a class=\"card-full-news _subrubric\" href=\"/news/2023/10/20/tsahal-obvinil-gretu-tunberg-v-podderzhke-terrorizma/\"><h3 class=\"card-full-news__title\">ЦАХАЛ обвинил Грету Тунберг в поддержке терроризма</h3><div class=\"card-full-news__info\"><time class=\"card-full-news__info-item card-full-news__date\">19:41, 20 октября 2023</time><span class=\"card-full-news__info-item card-full-news__rubric\">Мир</span></div></a></li>,\n <li class=\"rubric-page__item _news\"><a class=\"card-full-news _subrubric\" href=\"/news/2023/10/20/mid-rossii-osudil-poseschenie-yaponskimi-politikami-hrama-yasukuni/\"><h3 class=\"card-full-news__title\">МИД России осудил посещение японскими политиками храма Ясукуни</h3><div class=\"card-full-news__info\"><time class=\"card-full-news__info-item card-full-news__date\">19:16, 20 октября 2023</time><span class=\"card-full-news__info-item card-full-news__rubric\">Мир</span></div></a></li>,\n <li class=\"rubric-page__item _news\"><a class=\"card-full-news _subrubric\" href=\"/news/2023/10/20/glava-ek-poluchila-gnevnoe-pismo-ot-personala-es-iz-za-pozitsii-po-izrailyu/\"><h3 class=\"card-full-news__title\">Глава ЕК получила гневное письмо от персонала ЕС из-за позиции по Израилю</h3><div class=\"card-full-news__info\"><time class=\"card-full-news__info-item card-full-news__date\">18:35, 20 октября 2023</time><span class=\"card-full-news__info-item card-full-news__rubric\">Мир</span></div></a></li>,\n <li class=\"rubric-page__item _news\"><a class=\"card-full-news _subrubric\" href=\"/news/2023/10/20/bayden-zaprosil-u-kongressa-deneg-dlya-ukrainy-i-izrailya/\"><h3 class=\"card-full-news__title\">Байден запросил у Конгресса денег для Украины и Израиля</h3><div class=\"card-full-news__info\"><time class=\"card-full-news__info-item card-full-news__date\">17:39, 20 октября 2023</time><span class=\"card-full-news__info-item card-full-news__rubric\">Мир</span></div></a></li>,\n <li class=\"rubric-page__item _news\"><a class=\"card-full-news _subrubric\" href=\"/news/2023/10/20/glava-minoborony-izrailya-rasskazal-o-treh-etapah-voyny-s-hamas/\"><h3 class=\"card-full-news__title\">Глава Минобороны Израиля рассказал о трех этапах войны с ХАМАС</h3><div class=\"card-full-news__info\"><time class=\"card-full-news__info-item card-full-news__date\">17:08, 20 октября 2023</time><span class=\"card-full-news__info-item card-full-news__rubric\">Мир</span></div></a></li>,\n <li class=\"rubric-page__item _news\"><a class=\"card-full-news _subrubric\" href=\"/news/2023/10/20/posol-rossii-v-izraile-utochnil-chislo-pogibshih-v-konflikte-rossiyan/\"><h3 class=\"card-full-news__title\">Посол России в Израиле уточнил число погибших в конфликте россиян</h3><div class=\"card-full-news__info\"><time class=\"card-full-news__info-item card-full-news__date\">16:55, 20 октября 2023</time><span class=\"card-full-news__info-item card-full-news__rubric\">Мир</span></div></a></li>,\n <li class=\"rubric-page__item _news\"><a class=\"card-full-news _subrubric\" href=\"/news/2023/10/20/israel_gaza/\"><h3 class=\"card-full-news__title\">Полковник высказался о стратегии Израиля во время операции в секторе Газа</h3><div class=\"card-full-news__info\"><time class=\"card-full-news__info-item card-full-news__date\">16:49, 20 октября 2023</time><span class=\"card-full-news__info-item card-full-news__rubric\">Мир</span></div></a></li>,\n <li class=\"rubric-page__item _news\"><a class=\"card-full-news _subrubric\" href=\"/news/2023/10/20/es-vyskazalsya-ob-uchastii-v-osvobozhdenii-izrailskih-zalozhnikov/\"><h3 class=\"card-full-news__title\">ЕС высказался об участии в освобождении израильских заложников</h3><div class=\"card-full-news__info\"><time class=\"card-full-news__info-item card-full-news__date\">16:22, 20 октября 2023</time><span class=\"card-full-news__info-item card-full-news__rubric\">Мир</span></div></a></li>,\n <li class=\"rubric-page__item _news\"><a class=\"card-full-news _subrubric\" href=\"/news/2023/10/20/mid-irana-zayavil-o-ravnoy-otvetstvennosti-zapada-za-prestupleniya-izrailya/\"><h3 class=\"card-full-news__title\">МИД Ирана заявил о равной ответственности стран Запада за преступления Израиля</h3><div class=\"card-full-news__info\"><time class=\"card-full-news__info-item card-full-news__date\">15:21, 20 октября 2023</time><span class=\"card-full-news__info-item card-full-news__rubric\">Мир</span></div></a></li>,\n <li class=\"rubric-page__item _news\"><a class=\"card-full-news _subrubric\" href=\"/news/2023/10/20/izrail-zayavil-ob-otsutstvii-podvizhek-v-dele-ob-uderzhivaemyh-hamas-zalozhnikah/\"><h3 class=\"card-full-news__title\">Израиль заявил об отсутствии прогресса в переговорах с ХАМАС о заложниках</h3><div class=\"card-full-news__info\"><time class=\"card-full-news__info-item card-full-news__date\">14:46, 20 октября 2023</time><span class=\"card-full-news__info-item card-full-news__rubric\">Мир</span></div></a></li>,\n <li class=\"rubric-page__item _news\"><a class=\"card-full-news _subrubric\" href=\"/news/2023/10/20/posol-izrailya-v-rossii-zayavil-ob-otkaze-v-postavkah-vody-na-sever-gazy/\"><h3 class=\"card-full-news__title\">Посол Израиля в России заявил об отказе в поставках воды на север Газы</h3><div class=\"card-full-news__info\"><time class=\"card-full-news__info-item card-full-news__date\">14:33, 20 октября 2023</time><span class=\"card-full-news__info-item card-full-news__rubric\">Мир</span></div></a></li>,\n <li class=\"rubric-page__item _news\"><a class=\"card-full-news _subrubric\" href=\"/news/2023/10/20/blinkenu-prishlos-opravdyvatsya-pered-arabskimi-sotrudnikami-gosdepa/\"><h3 class=\"card-full-news__title\">Блинкену пришлось оправдываться перед арабскими сотрудниками Госдепа</h3><div class=\"card-full-news__info\"><time class=\"card-full-news__info-item card-full-news__date\">13:48, 20 октября 2023</time><span class=\"card-full-news__info-item card-full-news__rubric\">Мир</span></div></a></li>,\n <li class=\"rubric-page__item _news\"><a class=\"card-full-news _subrubric\" href=\"/news/2023/10/20/lavrov-rasskazal-ob-ustalosti-evropy-ot-ukrainy/\"><h3 class=\"card-full-news__title\">Лавров рассказал об усталости Европы от Украины</h3><div class=\"card-full-news__info\"><time class=\"card-full-news__info-item card-full-news__date\">12:52, 20 октября 2023</time><span class=\"card-full-news__info-item card-full-news__rubric\">Мир</span></div></a></li>,\n <li class=\"rubric-page__item _news\"><a class=\"card-full-news _subrubric\" href=\"/news/2023/10/20/stalo-izvestno-ob-opaseniyah-ssha-pered-vtyagivaniem-irana-v-konflikt-s-izrailem/\"><h3 class=\"card-full-news__title\">Стало известно об опасениях США перед втягиванием Ирана в конфликт с Израилем</h3><div class=\"card-full-news__info\"><time class=\"card-full-news__info-item card-full-news__date\">12:37, 20 октября 2023</time><span class=\"card-full-news__info-item card-full-news__rubric\">Мир</span></div></a></li>,\n <li class=\"rubric-page__item _news\"><a class=\"card-full-news _subrubric\" href=\"/news/2023/10/20/baydena-obvinili-v-ispolzovanii-voyny-izrailya-s-hamas-v-interesah-ukrainy/\"><h3 class=\"card-full-news__title\">Байдена обвинили в использовании войны Израиля с ХАМАС в интересах Украины</h3><div class=\"card-full-news__info\"><time class=\"card-full-news__info-item card-full-news__date\">12:35, 20 октября 2023</time><span class=\"card-full-news__info-item card-full-news__rubric\">Мир</span></div></a></li>,\n <li class=\"rubric-page__item _news\"><a class=\"card-full-news _subrubric\" href=\"/news/2023/10/20/oslbln/\"><h3 class=\"card-full-news__title\">Украине предрекли ослабление из-за поддержки США Израиля</h3><div class=\"card-full-news__info\"><time class=\"card-full-news__info-item card-full-news__date\">11:41, 20 октября 2023</time><span class=\"card-full-news__info-item card-full-news__rubric\">Мир</span></div></a></li>,\n <li class=\"rubric-page__item _news\"><a class=\"card-full-news _subrubric\" href=\"/news/2023/10/20/v-ssha-zayavili-o-vozmozhnom-nalichii-bolee-prodvinutogo-oruzhiya-u-hamas/\"><h3 class=\"card-full-news__title\">В США заявили о наличии более продвинутого оружия у ХАМАС</h3><div class=\"card-full-news__info\"><time class=\"card-full-news__info-item card-full-news__date\">11:14, 20 октября 2023</time><span class=\"card-full-news__info-item card-full-news__rubric\">Мир</span></div></a></li>,\n <li class=\"rubric-page__item _news\"><a class=\"card-full-news _subrubric\" href=\"/news/2023/10/20/22/\"><h3 class=\"card-full-news__title\">Израиль и послы 22 стран призвали допустить к заложникам в Газе Красный Крест</h3><div class=\"card-full-news__info\"><time class=\"card-full-news__info-item card-full-news__date\">10:33, 20 октября 2023</time><span class=\"card-full-news__info-item card-full-news__rubric\">Мир</span></div></a></li>,\n <li class=\"rubric-page__item _news\"><a class=\"card-full-news _subrubric\" href=\"/news/2023/10/19/otseneny-riski-vtorzheniya-izrailya-v-sektor-gaza/\"><h3 class=\"card-full-news__title\">Оценены риски вторжения Израиля в сектор Газа</h3><div class=\"card-full-news__info\"><time class=\"card-full-news__info-item card-full-news__date\">07:12, 20 октября 2023</time><span class=\"card-full-news__info-item card-full-news__rubric\">Мир</span></div></a></li>,\n <li class=\"rubric-page__item _news\"><a class=\"card-full-news _subrubric\" href=\"/news/2023/10/19/otsenena-veroyatnost-vovlecheniya-hezbolly-i-irana-v-konflikt-s-izrailem/\"><h3 class=\"card-full-news__title\">Оценена вероятность вовлечения «Хезболлы» и Ирана в конфликт с Израилем</h3><div class=\"card-full-news__info\"><time class=\"card-full-news__info-item card-full-news__date\">07:11, 20 октября 2023</time><span class=\"card-full-news__info-item card-full-news__rubric\">Мир</span></div></a></li>,\n <li class=\"rubric-page__item _news\"><a class=\"card-full-news _subrubric\" href=\"/news/2023/10/19/eksperty-predupredili-o-vozmozhnosti-nalichiya-u-hamas-prodvinutogo-oruzhiya/\"><h3 class=\"card-full-news__title\">Эксперты предупредили о возможности наличия у ХАМАС продвинутого оружия</h3><div class=\"card-full-news__info\"><time class=\"card-full-news__info-item card-full-news__date\">06:29, 20 октября 2023</time><span class=\"card-full-news__info-item card-full-news__rubric\">Мир</span></div></a></li>,\n <li class=\"rubric-page__item _news\"><a class=\"card-full-news _subrubric\" href=\"/news/2023/10/20/deti/\"><h3 class=\"card-full-news__title\">Названо число детей-заложников в плену у ХАМАС</h3><div class=\"card-full-news__info\"><time class=\"card-full-news__info-item card-full-news__date\">03:14, 20 октября 2023</time><span class=\"card-full-news__info-item card-full-news__rubric\">Мир</span></div></a></li>,\n <li class=\"rubric-page__item _news\"><a class=\"card-full-news _subrubric\" href=\"/news/2023/10/20/neumestno/\"><h3 class=\"card-full-news__title\">США сочли неуместным международное расследование удара по больнице в Газе</h3><div class=\"card-full-news__info\"><time class=\"card-full-news__info-item card-full-news__date\">02:45, 20 октября 2023</time><span class=\"card-full-news__info-item card-full-news__rubric\">Мир</span></div></a></li>,\n <li class=\"rubric-page__item _news\"><a class=\"card-full-news _subrubric\" href=\"/news/2023/10/20/hamas-soobschila-o-novyh-udarah-po-ob-ektam-hezbolly/\"><h3 class=\"card-full-news__title\">ЦАХАЛ сообщил о новых ударах по объектам «Хезболлы»</h3><div class=\"card-full-news__info\"><time class=\"card-full-news__info-item card-full-news__date\">01:37, 20 октября 2023</time><span class=\"card-full-news__info-item card-full-news__rubric\">Мир</span></div></a></li>,\n <li class=\"rubric-page__item _news\"><a class=\"card-full-news _subrubric\" href=\"/news/2023/10/19/ierusalimskiy-patriarhat-nazval-udar-po-tserkvi-v-gaze-voennym-prestupleniem/\"><h3 class=\"card-full-news__title\">Иерусалимский патриархат назвал удар по церкви в Газе военным преступлением</h3><div class=\"card-full-news__info\"><time class=\"card-full-news__info-item card-full-news__date\">01:31, 20 октября 2023</time><span class=\"card-full-news__info-item card-full-news__rubric\">Мир</span></div></a></li>,\n <li class=\"rubric-page__item _news\"><a class=\"card-full-news _subrubric\" href=\"/news/2023/10/19/smi-zhertvami-udara-po-tserkvi-v-sektore-gaza-mogli-stat-desyatki-chelovek/\"><h3 class=\"card-full-news__title\">Жертвами удара по церкви в секторе Газа назвали десятки человек</h3><div class=\"card-full-news__info\"><time class=\"card-full-news__info-item card-full-news__date\">00:50, 20 октября 2023</time><span class=\"card-full-news__info-item card-full-news__rubric\">Мир</span></div></a></li>,\n <li class=\"rubric-page__item _news\"><a class=\"card-full-news _subrubric\" href=\"/news/2023/10/20/na_zemle/\"><h3 class=\"card-full-news__title\">В Израиле заявили о подготовке к наземной операции в Газе</h3><div class=\"card-full-news__info\"><time class=\"card-full-news__info-item card-full-news__date\">00:43, 20 октября 2023</time><span class=\"card-full-news__info-item card-full-news__rubric\">Мир</span></div></a></li>,\n <li class=\"rubric-page__item _news\"><a class=\"card-full-news _subrubric\" href=\"/news/2023/10/19/vs-izrailya-unichtozhili-grecheskuyu-pravoslavnuyu-tserkov-v-gaze/\"><h3 class=\"card-full-news__title\">ВС Израиля уничтожили греческую православную церковь в Газе</h3><div class=\"card-full-news__info\"><time class=\"card-full-news__info-item card-full-news__date\">00:05, 20 октября 2023</time><span class=\"card-full-news__info-item card-full-news__rubric\">Мир</span></div></a></li>,\n <li class=\"rubric-page__item _news\"><a class=\"card-full-news _subrubric\" href=\"/news/2023/10/19/esminets-vms-ssha-perehvatil-vypuschennye-iz-yemena-rakety-i-bpla/\"><h3 class=\"card-full-news__title\">Эсминец ВМС США перехватил выпущенные из Йемена ракеты и БПЛА</h3><div class=\"card-full-news__info\"><time class=\"card-full-news__info-item card-full-news__date\">23:37, 19 октября 2023</time><span class=\"card-full-news__info-item card-full-news__rubric\">Мир</span></div></a></li>,\n <li class=\"rubric-page__item _news\"><a class=\"card-full-news _subrubric\" href=\"/news/2023/10/19/amerikanskuyu-voennuyu-bazu-v-irake-obstrelyali-iz-gradov/\"><h3 class=\"card-full-news__title\">Американскую военную базу в Ираке обстреляли из «Градов»</h3><div class=\"card-full-news__info\"><time class=\"card-full-news__info-item card-full-news__date\">23:33, 19 октября 2023</time><span class=\"card-full-news__info-item card-full-news__rubric\">Мир</span></div></a></li>,\n <li class=\"rubric-page__item _news\"><a class=\"card-full-news _subrubric\" href=\"/news/2023/10/19/v-oon-zayavili-ob-ugroze-genotsida-v-sektore-gaza/\"><h3 class=\"card-full-news__title\">В ООН заявили об угрозе геноцида в секторе Газа</h3><div class=\"card-full-news__info\"><time class=\"card-full-news__info-item card-full-news__date\">19:38, 19 октября 2023</time><span class=\"card-full-news__info-item card-full-news__rubric\">Мир</span></div></a></li>,\n <li class=\"rubric-page__item _news\"><a class=\"card-full-news _subrubric\" href=\"/news/2023/10/19/gensek-oon-prizval-k-dvuhnedelnomu-peremiriyu-mezhdu-izrailem-i-gazoy/\"><h3 class=\"card-full-news__title\">Генсек ООН призвал к двухнедельному перемирию между Израилем и Газой</h3><div class=\"card-full-news__info\"><time class=\"card-full-news__info-item card-full-news__date\">19:01, 19 октября 2023</time><span class=\"card-full-news__info-item card-full-news__rubric\">Мир</span></div></a></li>,\n <li class=\"rubric-page__item _news\"><a class=\"card-full-news _subrubric\" href=\"/news/2023/10/19/glava-minoborony-izrailya-zayavil-voennym-o-skorom-prikaze-voyti-v-gazu/\"><h3 class=\"card-full-news__title\">Глава Минобороны Израиля заявил военным о скором приказе войти в Газу</h3><div class=\"card-full-news__info\"><time class=\"card-full-news__info-item card-full-news__date\">18:43, 19 октября 2023</time><span class=\"card-full-news__info-item card-full-news__rubric\">Мир</span></div></a></li>,\n <li class=\"rubric-page__item _news\"><a class=\"card-full-news _subrubric\" href=\"/news/2023/10/19/pervaya-gumanitarnaya-pomosch-v-gazu-pribudet-v-prisutstvii-genseka-oon/\"><h3 class=\"card-full-news__title\">Первая гуманитарная помощь в Газу прибудет в присутствии генсека ООН</h3><div class=\"card-full-news__info\"><time class=\"card-full-news__info-item card-full-news__date\">18:23, 19 октября 2023</time><span class=\"card-full-news__info-item card-full-news__rubric\">Мир</span></div></a></li>,\n <li class=\"rubric-page__item _news\"><a class=\"card-full-news _subrubric\" href=\"/news/2023/10/19/hamas-priznalo-udary-po-izrailyu-iz-livana/\"><h3 class=\"card-full-news__title\">ХАМАС признало удары по Израилю из Ливана</h3><div class=\"card-full-news__info\"><time class=\"card-full-news__info-item card-full-news__date\">18:12, 19 октября 2023</time><span class=\"card-full-news__info-item card-full-news__rubric\">Мир</span></div></a></li>,\n <li class=\"rubric-page__item _news\"><a class=\"card-full-news _subrubric\" href=\"/news/2023/10/19/tsahal-zayavil-o-raketnyh-udarah-so-storony-livana/\"><h3 class=\"card-full-news__title\">ЦАХАЛ заявил о ракетных ударах со стороны Ливана</h3><div class=\"card-full-news__info\"><time class=\"card-full-news__info-item card-full-news__date\">17:51, 19 октября 2023</time><span class=\"card-full-news__info-item card-full-news__rubric\">Мир</span></div></a></li>,\n <li class=\"rubric-page__item _news\"><a class=\"card-full-news _subrubric\" href=\"/news/2023/10/19/v-ssha-predupredili-o-nenadezhnosti-sistemy-izrailskogo-pvo-zheleznyy-kupol/\"><h3 class=\"card-full-news__title\">В США предупредили о ненадежности системы израильского ПВО «Железный купол»</h3><div class=\"card-full-news__info\"><time class=\"card-full-news__info-item card-full-news__date\">17:16, 19 октября 2023</time><span class=\"card-full-news__info-item card-full-news__rubric\">Мир</span></div></a></li>,\n <li class=\"rubric-page__item _news\"><a class=\"card-full-news _subrubric\" href=\"/news/2023/10/19/prezident-duda-nazval-polskih-izbirateley-sovetskih-vremen-svinyami/\"><h3 class=\"card-full-news__title\">Президент Дуда назвал польских избирателей советских времен свиньями</h3><div class=\"card-full-news__info\"><time class=\"card-full-news__info-item card-full-news__date\">16:48, 19 октября 2023</time><span class=\"card-full-news__info-item card-full-news__rubric\">Мир</span></div></a></li>,\n <li class=\"rubric-page__item _news\"><a class=\"card-full-news _subrubric\" href=\"/news/2023/10/19/shiitskie-radikaly-atakovali-bazu-ssha-v-sirii/\"><h3 class=\"card-full-news__title\">Шиитские радикалы атаковали базу США в Сирии</h3><div class=\"card-full-news__info\"><time class=\"card-full-news__info-item card-full-news__date\">16:43, 19 октября 2023</time><span class=\"card-full-news__info-item card-full-news__rubric\">Мир</span></div></a></li>,\n <li class=\"rubric-page__item _news\"><a class=\"card-full-news _subrubric\" href=\"/news/2023/10/19/hamas-soobschilo-o-boyah-s-izrailskimi-voyskami-v-lagere-bezhentsev/\"><h3 class=\"card-full-news__title\">ХАМАС сообщило о боях с израильскими войсками в лагере беженцев</h3><div class=\"card-full-news__info\"><time class=\"card-full-news__info-item card-full-news__date\">16:34, 19 октября 2023</time><span class=\"card-full-news__info-item card-full-news__rubric\">Мир</span></div></a></li>,\n <li class=\"rubric-page__item _news\"><a class=\"card-full-news _subrubric\" href=\"/news/2023/10/19/zlzhnk/\"><h3 class=\"card-full-news__title\">Генерал ФСБ высказался о судьбе заложников ХАМАС</h3><div class=\"card-full-news__info\"><time class=\"card-full-news__info-item card-full-news__date\">15:48, 19 октября 2023</time><span class=\"card-full-news__info-item card-full-news__rubric\">Мир</span></div></a></li>,\n <li class=\"rubric-page__item _news\"><a class=\"card-full-news _subrubric\" href=\"/news/2023/10/19/gaza_operation/\"><h3 class=\"card-full-news__title\">Израиль готовит невиданную по жестокости операцию в Газе. Почему в США раскритиковали планы ЦАХАЛ?</h3><div class=\"card-full-news__info\"><time class=\"card-full-news__info-item card-full-news__date\">15:37, 19 октября 2023</time><span class=\"card-full-news__info-item card-full-news__rubric\">Мир</span><svg class=\"card-full-news__info-item card-full-news__super-news\"><use xlink:href=\"#ui-super-news\"></use></svg></div></a></li>,\n <li class=\"rubric-page__item _news\"><a class=\"card-full-news _subrubric\" href=\"/news/2023/10/19/izrail-razvernul-podvodnyy-flot-v-sredizemnom-more/\"><h3 class=\"card-full-news__title\">Израиль развернул подводный флот в Средиземном море</h3><div class=\"card-full-news__info\"><time class=\"card-full-news__info-item card-full-news__date\">15:34, 19 октября 2023</time><span class=\"card-full-news__info-item card-full-news__rubric\">Мир</span></div></a></li>,\n <li class=\"rubric-page__item _news\"><a class=\"card-full-news _subrubric\" href=\"/news/2023/10/19/hamas-zayavilo-ob-obstrelah-tel-aviva/\"><h3 class=\"card-full-news__title\">ХАМАС заявило об обстрелах Тель-Авива</h3><div class=\"card-full-news__info\"><time class=\"card-full-news__info-item card-full-news__date\">14:50, 19 октября 2023</time><span class=\"card-full-news__info-item card-full-news__rubric\">Мир</span></div></a></li>,\n <li class=\"rubric-page__item _news\"><a class=\"card-full-news _subrubric\" href=\"/news/2023/10/19/hamas-ulichili-v-ispolzovanii-oruzhiya-iz-severnoy-korei/\"><h3 class=\"card-full-news__title\">ХАМАС уличили в использовании оружия из Северной Кореи</h3><div class=\"card-full-news__info\"><time class=\"card-full-news__info-item card-full-news__date\">14:29, 19 октября 2023</time><span class=\"card-full-news__info-item card-full-news__rubric\">Мир</span></div></a></li>,\n <li class=\"rubric-page__item _news\"><a class=\"card-full-news _subrubric\" href=\"/news/2023/10/19/sholts-prokommentiroval-vozmozhnost-ataki-izrailya-iranom-ili-hezbolloy/\"><h3 class=\"card-full-news__title\">Шольц прокомментировал возможность атаки Израиля Ираном или «Хезболлой»</h3><div class=\"card-full-news__info\"><time class=\"card-full-news__info-item card-full-news__date\">13:11, 19 октября 2023</time><span class=\"card-full-news__info-item card-full-news__rubric\">Мир</span></div></a></li>,\n <li class=\"rubric-page__item _news\"><a class=\"card-full-news _subrubric\" href=\"/news/2023/10/19/sholts-ozvuchil-trebovaniya-dlya-hamas-po-osvobozhdeniyu-zalozhnikov/\"><h3 class=\"card-full-news__title\">Шольц озвучил требования для ХАМАС по освобождению заложников</h3><div class=\"card-full-news__info\"><time class=\"card-full-news__info-item card-full-news__date\">13:07, 19 октября 2023</time><span class=\"card-full-news__info-item card-full-news__rubric\">Мир</span></div></a></li>,\n <li class=\"rubric-page__item _news\"><a class=\"card-full-news _subrubric\" href=\"/news/2023/10/19/premier-britanii-raskritikoval-hamas-za-vred-palestintsam/\"><h3 class=\"card-full-news__title\">Премьер Британии раскритиковал ХАМАС за вред палестинцам</h3><div class=\"card-full-news__info\"><time class=\"card-full-news__info-item card-full-news__date\">12:42, 19 октября 2023</time><span class=\"card-full-news__info-item card-full-news__rubric\">Мир</span></div></a></li>,\n <li class=\"rubric-page__item _news\"><a class=\"card-full-news _subrubric\" href=\"/news/2023/10/19/kim-chen-yn-prinyal-lavrova-v-phenyane/\"><h3 class=\"card-full-news__title\">Ким Чен Ын принял Лаврова в Пхеньяне</h3><div class=\"card-full-news__info\"><time class=\"card-full-news__info-item card-full-news__date\">11:41, 19 октября 2023</time><span class=\"card-full-news__info-item card-full-news__rubric\">Мир</span></div></a></li>,\n <li class=\"rubric-page__item _news\"><a class=\"card-full-news _subrubric\" href=\"/news/2023/10/19/v-ssha-zayavili-ob-unichtozhenii-rossiyskimi-silami-podrazdeleniy-vsu-v-kotlah/\"><h3 class=\"card-full-news__title\">В США заявили об уничтожении российскими силами подразделений ВСУ в котлах</h3><div class=\"card-full-news__info\"><time class=\"card-full-news__info-item card-full-news__date\">11:28, 19 октября 2023</time><span class=\"card-full-news__info-item card-full-news__rubric\">Мир</span></div></a></li>,\n <li class=\"rubric-page__item _news\"><a class=\"card-full-news _subrubric\" href=\"/news/2023/10/19/komitet-po-razvedke-kongressa-ssha-ozvuchil-prichinu-vzryva-v-bolnitse-gazy/\"><h3 class=\"card-full-news__title\">Конгресс США озвучил причину взрыва в больнице Газы</h3><div class=\"card-full-news__info\"><time class=\"card-full-news__info-item card-full-news__date\">10:59, 19 октября 2023</time><span class=\"card-full-news__info-item card-full-news__rubric\">Мир</span></div></a></li>,\n <li class=\"rubric-page__item _news\"><a class=\"card-full-news _subrubric\" href=\"/news/2023/10/19/premier-ministr-velikobritanii-pribyl-v-izrail/\"><h3 class=\"card-full-news__title\">Премьер Великобритании прибыл в Израиль</h3><div class=\"card-full-news__info\"><time class=\"card-full-news__info-item card-full-news__date\">09:40, 19 октября 2023</time><span class=\"card-full-news__info-item card-full-news__rubric\">Мир</span></div></a></li>,\n <li class=\"rubric-page__item _news\"><a class=\"card-full-news _subrubric\" href=\"/news/2023/10/19/bayden-prizval-izrail-ne-dopustit-oshibok-ssha-posle-tragedii-11-sentyabrya/\"><h3 class=\"card-full-news__title\">Байден призвал Израиль не допустить ошибок США после трагедии 11 сентября</h3><div class=\"card-full-news__info\"><time class=\"card-full-news__info-item card-full-news__date\">08:43, 19 октября 2023</time><span class=\"card-full-news__info-item card-full-news__rubric\">Мир</span></div></a></li>,\n <li class=\"rubric-page__item _news\"><a class=\"card-full-news _subrubric\" href=\"/news/2023/10/19/slozhnosti/\"><h3 class=\"card-full-news__title\">Россиянка рассказала о сложностях отъезда из Израиля</h3><div class=\"card-full-news__info\"><time class=\"card-full-news__info-item card-full-news__date\">07:31, 19 октября 2023</time><span class=\"card-full-news__info-item card-full-news__rubric\">Мир</span></div></a></li>,\n <li class=\"rubric-page__item _news\"><a class=\"card-full-news _subrubric\" href=\"/news/2023/10/19/prrtt/\"><h3 class=\"card-full-news__title\">Политолог заявил о приоритете Израиля перед Украиной для США</h3><div class=\"card-full-news__info\"><time class=\"card-full-news__info-item card-full-news__date\">02:20, 19 октября 2023</time><span class=\"card-full-news__info-item card-full-news__rubric\">Мир</span></div></a></li>,\n <li class=\"rubric-page__item _news\"><a class=\"card-full-news _subrubric\" href=\"/news/2023/10/28/izrail-predupredili-o-posledstviyah-nazemnoy-operatsii-v-sektore-gaza/\"><h3 class=\"card-full-news__title\">Израиль предупредили о последствиях наземной операции в секторе Газа</h3><div class=\"card-full-news__info\"><time class=\"card-full-news__info-item card-full-news__date\">16:46</time><span class=\"card-full-news__info-item card-full-news__rubric\">Мир</span></div></a></li>,\n <li class=\"rubric-page__item _news\"><a class=\"card-full-news _subrubric\" href=\"/news/2023/10/28/mask-poobeschal-pomosch-sektoru-gaza/\"><h3 class=\"card-full-news__title\">Маск пообещал помощь сектору Газа</h3><div class=\"card-full-news__info\"><time class=\"card-full-news__info-item card-full-news__date\">15:33</time><span class=\"card-full-news__info-item card-full-news__rubric\">Мир</span></div></a></li>,\n <li class=\"rubric-page__item _news\"><a class=\"card-full-news _subrubric\" href=\"/news/2023/10/28/posol-izrailya-oproverg-nachalo-stranoy-shirokomasshtabnoy-operatsii-v-gaze/\"><h3 class=\"card-full-news__title\">Израиль опроверг начало широкомасштабной операции в Газе</h3><div class=\"card-full-news__info\"><time class=\"card-full-news__info-item card-full-news__date\">14:44</time><span class=\"card-full-news__info-item card-full-news__rubric\">Мир</span></div></a></li>,\n <li class=\"rubric-page__item _news\"><a class=\"card-full-news _subrubric\" href=\"/news/2023/10/28/izrail-otvetil-udarami-po-mestu-zapuska-rakety-zemlya-vozduh-iz-livana/\"><h3 class=\"card-full-news__title\">Израиль ответил ударами по месту запуска ракеты «земля-воздух» из Ливана</h3><div class=\"card-full-news__info\"><time class=\"card-full-news__info-item card-full-news__date\">12:20</time><span class=\"card-full-news__info-item card-full-news__rubric\">Мир</span></div></a></li>,\n <li class=\"rubric-page__item _news\"><a class=\"card-full-news _subrubric\" href=\"/news/2023/10/28/hamas-zayavil-o-provalivsheysya-popytke-nazemnogo-nastupleniya-izrailya/\"><h3 class=\"card-full-news__title\">ХАМАС заявило о провалившейся попытке наземного наступления Израиля</h3><div class=\"card-full-news__info\"><time class=\"card-full-news__info-item card-full-news__date\">11:11</time><span class=\"card-full-news__info-item card-full-news__rubric\">Мир</span></div></a></li>,\n <li class=\"rubric-page__item _news\"><a class=\"card-full-news _subrubric\" href=\"/news/2023/10/28/izrail-nanes-udar-po-komandiru-hamas/\"><h3 class=\"card-full-news__title\">Израиль нанес удар по командиру ХАМАС</h3><div class=\"card-full-news__info\"><time class=\"card-full-news__info-item card-full-news__date\">11:09</time><span class=\"card-full-news__info-item card-full-news__rubric\">Мир</span></div></a></li>,\n <li class=\"rubric-page__item _news\"><a class=\"card-full-news _subrubric\" href=\"/news/2023/10/28/v-ssha-zayavili-ob-oderzhivaemoy-rossiey-pobede-nad-vsu/\"><h3 class=\"card-full-news__title\">В США заявили об одерживаемой Россией победе над ВСУ</h3><div class=\"card-full-news__info\"><time class=\"card-full-news__info-item card-full-news__date\">10:46</time><span class=\"card-full-news__info-item card-full-news__rubric\">Мир</span></div></a></li>,\n <li class=\"rubric-page__item _news\"><a class=\"card-full-news _subrubric\" href=\"/news/2023/10/28/izrail-nochyu-nanes-aviaudary-po-150-podzemnym-ob-ektam-v-sektore-gaza/\"><h3 class=\"card-full-news__title\">Израиль ночью нанес авиаудары по 150 подземным объектам в секторе Газа</h3><div class=\"card-full-news__info\"><time class=\"card-full-news__info-item card-full-news__date\">08:38</time><span class=\"card-full-news__info-item card-full-news__rubric\">Мир</span></div></a></li>,\n <li class=\"rubric-page__item _news\"><a class=\"card-full-news _subrubric\" href=\"/news/2023/10/28/stalo-izvestno-ob-udarah-tsahal-po-territoriyam-vokrug-bolnits-v-gaze/\"><h3 class=\"card-full-news__title\">Стало известно об ударах ЦАХАЛ по территориям вокруг больниц в Газе</h3><div class=\"card-full-news__info\"><time class=\"card-full-news__info-item card-full-news__date\">01:58</time><span class=\"card-full-news__info-item card-full-news__rubric\">Мир</span></div></a></li>,\n <li class=\"rubric-page__item _news\"><a class=\"card-full-news _subrubric\" href=\"/news/2023/10/28/armiya-oborony-izrailya-rasshiryaet-masshtab-nazemnoy-operatsii-v-sektore-gaza-stanet-li-eto-ozhidaemym-vtorzheniem/\"><h3 class=\"card-full-news__title\">Армия обороны Израиля расширяет масштаб наземной операции в секторе Газа. Станет ли это ожидаемым вторжением?</h3><div class=\"card-full-news__info\"><time class=\"card-full-news__info-item card-full-news__date\">00:24</time><span class=\"card-full-news__info-item card-full-news__rubric\">Мир</span><svg class=\"card-full-news__info-item card-full-news__super-news\"><use xlink:href=\"#ui-super-news\"></use></svg></div></a></li>,\n <li class=\"rubric-page__item _news\"><a class=\"card-full-news _subrubric\" href=\"/news/2023/10/27/hamas-nazvalo-usloviya-dlya-pyati-dney-peremiriya/\"><h3 class=\"card-full-news__title\">ХАМАС назвало условия для пяти дней перемирия</h3><div class=\"card-full-news__info\"><time class=\"card-full-news__info-item card-full-news__date\">23:42, 27 октября 2023</time><span class=\"card-full-news__info-item card-full-news__rubric\">Мир</span></div></a></li>,\n <li class=\"rubric-page__item _news\"><a class=\"card-full-news _subrubric\" href=\"/news/2023/10/27/stalo-izvestno-o-dvizhenii-tankov-tsahal-v-storonu-gazy/\"><h3 class=\"card-full-news__title\">Стало известно о движении танков ЦАХАЛ в сторону Газы</h3><div class=\"card-full-news__info\"><time class=\"card-full-news__info-item card-full-news__date\">23:08, 27 октября 2023</time><span class=\"card-full-news__info-item card-full-news__rubric\">Мир</span></div></a></li>,\n <li class=\"rubric-page__item _news\"><a class=\"card-full-news _subrubric\" href=\"/news/2023/10/27/stalo-izvestno-o-prizyvah-ssha-otkazatsya-ot-polnomasshtabnoy-operatsii-v-gaze/\"><h3 class=\"card-full-news__title\">Стало известно о призывах США отказаться от полномасштабной операции в Газе</h3><div class=\"card-full-news__info\"><time class=\"card-full-news__info-item card-full-news__date\">22:30, 27 октября 2023</time><span class=\"card-full-news__info-item card-full-news__rubric\">Мир</span></div></a></li>,\n <li class=\"rubric-page__item _news\"><a class=\"card-full-news _subrubric\" href=\"/news/2023/10/27/posol-palestiny-zayavil-o-razrabotke-proekta-po-evakuatsii-rossiyan-iz-sektora-gaza/\"><h3 class=\"card-full-news__title\">Посол Палестины заявил о разработке проекта по эвакуации россиян из сектора Газа</h3><div class=\"card-full-news__info\"><time class=\"card-full-news__info-item card-full-news__date\">22:26, 27 октября 2023</time><span class=\"card-full-news__info-item card-full-news__rubric\">Мир</span></div></a></li>,\n <li class=\"rubric-page__item _news\"><a class=\"card-full-news _subrubric\" href=\"/news/2023/10/27/sektor-gaza-polnostyu-otrezan-ot-vneshnego-mira/\"><h3 class=\"card-full-news__title\">В Палестине заявили о полной изоляции сектора Газа от внешнего мира</h3><div class=\"card-full-news__info\"><time class=\"card-full-news__info-item card-full-news__date\">21:59, 27 октября 2023</time><span class=\"card-full-news__info-item card-full-news__rubric\">Мир</span></div></a></li>,\n <li class=\"rubric-page__item _news\"><a class=\"card-full-news _subrubric\" href=\"/news/2023/10/27/voennoe-krylo-islamskogo-dzhihada-zayavilo-o-puske-raket-po-izrailskim-gorodam/\"><h3 class=\"card-full-news__title\">Военное крыло «Исламского джихада» заявило о пуске ракет по израильским городам</h3><div class=\"card-full-news__info\"><time class=\"card-full-news__info-item card-full-news__date\">21:48, 27 октября 2023</time><span class=\"card-full-news__info-item card-full-news__rubric\">Мир</span></div></a></li>,\n <li class=\"rubric-page__item _news\"><a class=\"card-full-news _subrubric\" href=\"/news/2023/10/27/v-ssha-zayavili-o-prodolzhenii-peregovorov-po-zalozhnikam-hamas/\"><h3 class=\"card-full-news__title\">В США заявили о продолжении переговоров по заложникам ХАМАС</h3><div class=\"card-full-news__info\"><time class=\"card-full-news__info-item card-full-news__date\">21:27, 27 октября 2023</time><span class=\"card-full-news__info-item card-full-news__rubric\">Мир</span></div></a></li>,\n <li class=\"rubric-page__item _news\"><a class=\"card-full-news _subrubric\" href=\"/news/2023/10/27/izrail-nachal-rasshirenie-nazemnoy-operatsii-v-sektore-gaza/\"><h3 class=\"card-full-news__title\">Израиль начал расширение наземной операции в секторе Газа</h3><div class=\"card-full-news__info\"><time class=\"card-full-news__info-item card-full-news__date\">20:32, 27 октября 2023</time><span class=\"card-full-news__info-item card-full-news__rubric\">Мир</span></div></a></li>,\n <li class=\"rubric-page__item _news\"><a class=\"card-full-news _subrubric\" href=\"/news/2023/10/27/gensek-oon-zayavil-o-polnom-kollapse-gumanitarnoy-sistemy-v-gaze/\"><h3 class=\"card-full-news__title\">Генсек ООН заявил о полном коллапсе гуманитарной системы в Газе</h3><div class=\"card-full-news__info\"><time class=\"card-full-news__info-item card-full-news__date\">20:30, 27 октября 2023</time><span class=\"card-full-news__info-item card-full-news__rubric\">Мир</span></div></a></li>,\n <li class=\"rubric-page__item _news\"><a class=\"card-full-news _subrubric\" href=\"/news/2023/10/27/hanlon/\"><h3 class=\"card-full-news__title\">В США заявили о трудности в удовлетворении потребностей Украины и Израиля</h3><div class=\"card-full-news__info\"><time class=\"card-full-news__info-item card-full-news__date\">19:57, 27 октября 2023</time><span class=\"card-full-news__info-item card-full-news__rubric\">Мир</span></div></a></li>,\n <li class=\"rubric-page__item _news\"><a class=\"card-full-news _subrubric\" href=\"/news/2023/10/27/stalo-izvestno-o-samom-silnom-obstrele-sektora-gaza/\"><h3 class=\"card-full-news__title\">Стало известно о самом сильном обстреле сектора Газа</h3><div class=\"card-full-news__info\"><time class=\"card-full-news__info-item card-full-news__date\">19:47, 27 октября 2023</time><span class=\"card-full-news__info-item card-full-news__rubric\">Мир</span></div></a></li>,\n <li class=\"rubric-page__item _news\"><a class=\"card-full-news _subrubric\" href=\"/news/2023/10/27/premier-slovakii-vystupil-za-sohranenie-gumpomoschi-ukraine/\"><h3 class=\"card-full-news__title\">Премьер Словакии выступил за сохранение гумпомощи Украине</h3><div class=\"card-full-news__info\"><time class=\"card-full-news__info-item card-full-news__date\">19:10, 27 октября 2023</time><span class=\"card-full-news__info-item card-full-news__rubric\">Мир</span></div></a></li>,\n <li class=\"rubric-page__item _news\"><a class=\"card-full-news _subrubric\" href=\"/news/2023/10/27/stalo-izvestno-ob-uspehe-katara-v-peregovorah-po-zalozhnikam-hamas/\"><h3 class=\"card-full-news__title\">Стало известно об успехе Катара в переговорах по заложникам ХАМАС</h3><div class=\"card-full-news__info\"><time class=\"card-full-news__info-item card-full-news__date\">18:48, 27 октября 2023</time><span class=\"card-full-news__info-item card-full-news__rubric\">Мир</span></div></a></li>,\n <li class=\"rubric-page__item _news\"><a class=\"card-full-news _subrubric\" href=\"/news/2023/10/27/v-izraile-zayavili-ob-otkaze-hamas-ot-prekrascheniya-ognya-v-obmen-na-zalozhnikov/\"><h3 class=\"card-full-news__title\">В Израиле заявили об отказе ХАМАС от прекращения огня в обмен на заложников</h3><div class=\"card-full-news__info\"><time class=\"card-full-news__info-item card-full-news__date\">18:17, 27 октября 2023</time><span class=\"card-full-news__info-item card-full-news__rubric\">Мир</span></div></a></li>,\n <li class=\"rubric-page__item _news\"><a class=\"card-full-news _subrubric\" href=\"/news/2023/10/27/stalo-izvestno-o-zapiske-lyuistonskogo-strelka/\"><h3 class=\"card-full-news__title\">Стало известно о записке льюистонского стрелка</h3><div class=\"card-full-news__info\"><time class=\"card-full-news__info-item card-full-news__date\">17:42, 27 октября 2023</time><span class=\"card-full-news__info-item card-full-news__rubric\">Мир</span></div></a></li>,\n <li class=\"rubric-page__item _news\"><a class=\"card-full-news _subrubric\" href=\"/news/2023/10/27/izrail-raskryl-mestonahozhdenie-glavnoy-bazy-hamas-v-gaze/\"><h3 class=\"card-full-news__title\">Израиль раскрыл местонахождение главной базы ХАМАС в Газе</h3><div class=\"card-full-news__info\"><time class=\"card-full-news__info-item card-full-news__date\">17:29, 27 октября 2023</time><span class=\"card-full-news__info-item card-full-news__rubric\">Мир</span></div></a></li>,\n <li class=\"rubric-page__item _news\"><a class=\"card-full-news _subrubric\" href=\"/news/2023/10/27/hamas-obvinilo-ssha-v-rukovodstve-boevymi-deystviyami-izrailya-v-gaze/\"><h3 class=\"card-full-news__title\">ХАМАС обвинило США в руководстве боевыми действиями Израиля в Газе</h3><div class=\"card-full-news__info\"><time class=\"card-full-news__info-item card-full-news__date\">16:47, 27 октября 2023</time><span class=\"card-full-news__info-item card-full-news__rubric\">Мир</span></div></a></li>,\n <li class=\"rubric-page__item _news\"><a class=\"card-full-news _subrubric\" href=\"/news/2023/10/27/glava-evrosoveta-zayavil-o-soglasii-ispolzovat-dohody-ot-chasti-sredstv-rossii/\"><h3 class=\"card-full-news__title\">Глава Евросовета заявил о согласии использовать доходы от части средств России</h3><div class=\"card-full-news__info\"><time class=\"card-full-news__info-item card-full-news__date\">16:01, 27 октября 2023</time><span class=\"card-full-news__info-item card-full-news__rubric\">Мир</span></div></a></li>,\n <li class=\"rubric-page__item _news\"><a class=\"card-full-news _subrubric\" href=\"/news/2023/10/27/v-hamas-otsenili-vozmozhnost-peremescheniyu-palestintsev-iz-gazy/\"><h3 class=\"card-full-news__title\">В ХАМАС оценили возможность перемещения палестинцев из Газы</h3><div class=\"card-full-news__info\"><time class=\"card-full-news__info-item card-full-news__date\">15:55, 27 октября 2023</time><span class=\"card-full-news__info-item card-full-news__rubric\">Мир</span></div></a></li>,\n <li class=\"rubric-page__item _news\"><a class=\"card-full-news _subrubric\" href=\"/news/2023/10/27/v-hamas-zayavili-o-bolee-vnimatelnom-otnoshenii-k-zaprosam-rossii-po-zalozhnikam/\"><h3 class=\"card-full-news__title\">В ХАМАС заявили о более внимательном отношении к запросам России по заложникам</h3><div class=\"card-full-news__info\"><time class=\"card-full-news__info-item card-full-news__date\">15:03, 27 октября 2023</time><span class=\"card-full-news__info-item card-full-news__rubric\">Мир</span></div></a></li>,\n <li class=\"rubric-page__item _news\"><a class=\"card-full-news _subrubric\" href=\"/news/2023/10/27/peskov-prokommentiroval-udar-vvs-ssha-po-iranskim-skladam-oruzhiya-v-sirii/\"><h3 class=\"card-full-news__title\">Песков прокомментировал удар ВВС США по иранским складам оружия в Сирии</h3><div class=\"card-full-news__info\"><time class=\"card-full-news__info-item card-full-news__date\">14:35, 27 октября 2023</time><span class=\"card-full-news__info-item card-full-news__rubric\">Мир</span></div></a></li>,\n <li class=\"rubric-page__item _news\"><a class=\"card-full-news _subrubric\" href=\"/news/2023/10/27/v-germanii-raskritikovali-finansovuyu-podderzhku-ukrainy/\"><h3 class=\"card-full-news__title\">В Германии раскритиковали финансовую поддержку Украины</h3><div class=\"card-full-news__info\"><time class=\"card-full-news__info-item card-full-news__date\">14:13, 27 октября 2023</time><span class=\"card-full-news__info-item card-full-news__rubric\">Мир</span></div></a></li>,\n <li class=\"rubric-page__item _news\"><a class=\"card-full-news _subrubric\" href=\"/news/2023/10/27/v-polshe-zapodozrili-ukrainu-v-ustanovke-mayachka-v-limuzin-kortezha-prezidenta/\"><h3 class=\"card-full-news__title\">В Польше заподозрили Украину в установке маячка в лимузин кортежа президента</h3><div class=\"card-full-news__info\"><time class=\"card-full-news__info-item card-full-news__date\">13:42, 27 октября 2023</time><span class=\"card-full-news__info-item card-full-news__rubric\">Мир</span></div></a></li>,\n <li class=\"rubric-page__item _news\"><a class=\"card-full-news _subrubric\" href=\"/news/2023/10/27/v-oon-zayavili-o-sovershenii-izrailem-voennyh-prestupleniy-v-gaze/\"><h3 class=\"card-full-news__title\">В ООН заявили о совершении Израилем военных преступлений в Газе</h3><div class=\"card-full-news__info\"><time class=\"card-full-news__info-item card-full-news__date\">12:32, 27 октября 2023</time><span class=\"card-full-news__info-item card-full-news__rubric\">Мир</span></div></a></li>,\n <li class=\"rubric-page__item _news\"><a class=\"card-full-news _subrubric\" href=\"/news/2023/10/27/neizvestnyy-snaryad-popal-v-egipetskiy-gorod-nuveyba/\"><h3 class=\"card-full-news__title\">Неизвестный снаряд попал в египетский город Нувейба</h3><div class=\"card-full-news__info\"><time class=\"card-full-news__info-item card-full-news__date\">11:31, 27 октября 2023</time><span class=\"card-full-news__info-item card-full-news__rubric\">Мир</span></div></a></li>,\n <li class=\"rubric-page__item _news\"><a class=\"card-full-news _subrubric\" href=\"/news/2023/10/27/mid-izrailya-nazval-amnesty-international-antisemitskoy-organizatsiey/\"><h3 class=\"card-full-news__title\">МИД Израиля назвал Amnesty International антисемитской организацией</h3><div class=\"card-full-news__info\"><time class=\"card-full-news__info-item card-full-news__date\">11:07, 27 октября 2023</time><span class=\"card-full-news__info-item card-full-news__rubric\">Мир</span></div></a></li>,\n <li class=\"rubric-page__item _news\"><a class=\"card-full-news _subrubric\" href=\"/news/2023/10/26/slovakiya-soobschila-evrokomissii-ob-otkaze-postavlyat-voennuyu-pomosch-ukraine/\"><h3 class=\"card-full-news__title\">Словакия сообщила Еврокомиссии об отказе поставлять военную помощь Украине</h3><div class=\"card-full-news__info\"><time class=\"card-full-news__info-item card-full-news__date\">20:36, 26 октября 2023</time><span class=\"card-full-news__info-item card-full-news__rubric\">Мир</span></div></a></li>,\n <li class=\"rubric-page__item _news\"><a class=\"card-full-news _subrubric\" href=\"/news/2023/10/26/mid-izrailya-otreagiroval-na-priglashenie-delegatsii-hamas-v-moskvu/\"><h3 class=\"card-full-news__title\">МИД Израиля отреагировал на приглашение делегации ХАМАС в Москву</h3><div class=\"card-full-news__info\"><time class=\"card-full-news__info-item card-full-news__date\">20:22, 26 октября 2023</time><span class=\"card-full-news__info-item card-full-news__rubric\">Мир</span></div></a></li>,\n <li class=\"rubric-page__item _news\"><a class=\"card-full-news _subrubric\" href=\"/news/2023/10/26/zamglavy-mid-rossii-vstretilsya-s-politicheskim-rukovodstvom-hamas-kakie-temy-obsudili-storony/\"><h3 class=\"card-full-news__title\">Один из лидеров ХАМАС приехал в Москву на переговоры. Он обсудил освобождение заложников и эвакуацию россиян из Газы</h3><div class=\"card-full-news__info\"><time class=\"card-full-news__info-item card-full-news__date\">20:12, 26 октября 2023</time><span class=\"card-full-news__info-item card-full-news__rubric\">Мир</span><svg class=\"card-full-news__info-item card-full-news__super-news\"><use xlink:href=\"#ui-super-news\"></use></svg></div></a></li>,\n <li class=\"rubric-page__item _news\"><a class=\"card-full-news _subrubric\" href=\"/news/2023/10/26/hungary_new_strategy/\"><h3 class=\"card-full-news__title\">Венгрия предложила ЕС разработать новую стратегию по Украине</h3><div class=\"card-full-news__info\"><time class=\"card-full-news__info-item card-full-news__date\">20:12, 26 октября 2023</time><span class=\"card-full-news__info-item card-full-news__rubric\">Мир</span></div></a></li>,\n <li class=\"rubric-page__item _news\"><a class=\"card-full-news _subrubric\" href=\"/news/2023/10/26/erdogan/\"><h3 class=\"card-full-news__title\">Эрдоган возложил на Запад ответственность за гуманитарную ситуацию в Газе</h3><div class=\"card-full-news__info\"><time class=\"card-full-news__info-item card-full-news__date\">19:54, 26 октября 2023</time><span class=\"card-full-news__info-item card-full-news__rubric\">Мир</span></div></a></li>,\n <li class=\"rubric-page__item _news\"><a class=\"card-full-news _subrubric\" href=\"/news/2023/10/26/ssha-ob-yavili-o-vydelenii-150-millionov-dollarov-na-novuyu-pomosch-ukraine/\"><h3 class=\"card-full-news__title\">США объявили о выделении 150 миллионов долларов на новую помощь Украине</h3><div class=\"card-full-news__info\"><time class=\"card-full-news__info-item card-full-news__date\">19:15, 26 октября 2023</time><span class=\"card-full-news__info-item card-full-news__rubric\">Мир</span></div></a></li>,\n <li class=\"rubric-page__item _news\"><a class=\"card-full-news _subrubric\" href=\"/news/2023/10/26/mid-rossii-podtverdil-nahozhdenie-delegatsii-hamas-s-vizitom-v-moskve/\"><h3 class=\"card-full-news__title\">МИД России подтвердил нахождение делегации ХАМАС с визитом в Москве</h3><div class=\"card-full-news__info\"><time class=\"card-full-news__info-item card-full-news__date\">16:52, 26 октября 2023</time><span class=\"card-full-news__info-item card-full-news__rubric\">Мир</span></div></a></li>,\n <li class=\"rubric-page__item _news\"><a class=\"card-full-news _subrubric\" href=\"/news/2023/10/26/erdogan-nazval-narusheniem-mezhdunarodnogo-prava-podderzhku-izrailya-zapadom/\"><h3 class=\"card-full-news__title\">Эрдоган назвал нарушением международного права поддержку Израиля Западом</h3><div class=\"card-full-news__info\"><time class=\"card-full-news__info-item card-full-news__date\">16:34, 26 октября 2023</time><span class=\"card-full-news__info-item card-full-news__rubric\">Мир</span></div></a></li>,\n <li class=\"rubric-page__item _news\"><a class=\"card-full-news _subrubric\" href=\"/news/2023/10/26/v-irane-nazvali-politiku-bezopasnosti-zapada-prichinoy-konflikta-na-ukraine/\"><h3 class=\"card-full-news__title\">В Иране назвали политику безопасности Запада причиной конфликта на Украине</h3><div class=\"card-full-news__info\"><time class=\"card-full-news__info-item card-full-news__date\">16:18, 26 октября 2023</time><span class=\"card-full-news__info-item card-full-news__rubric\">Мир</span></div></a></li>,\n <li class=\"rubric-page__item _news\"><a class=\"card-full-news _subrubric\" href=\"/news/2023/10/26/otvt/\"><h3 class=\"card-full-news__title\">В России рассказали об ответе на размещение США ядерного оружия в Европе</h3><div class=\"card-full-news__info\"><time class=\"card-full-news__info-item card-full-news__date\">15:17, 26 октября 2023</time><span class=\"card-full-news__info-item card-full-news__rubric\">Мир</span></div></a></li>,\n <li class=\"rubric-page__item _news\"><a class=\"card-full-news _subrubric\" href=\"/news/2023/10/26/psldstv/\"><h3 class=\"card-full-news__title\">Генерал ФСБ назвал неизбежное последствие применения ядерного оружия</h3><div class=\"card-full-news__info\"><time class=\"card-full-news__info-item card-full-news__date\">14:19, 26 октября 2023</time><span class=\"card-full-news__info-item card-full-news__rubric\">Мир</span></div></a></li>,\n <li class=\"rubric-page__item _news\"><a class=\"card-full-news _subrubric\" href=\"/news/2023/10/26/palestina-obvinila-izrail-v-ispolzovanii-zapreschennyh-boepripasov-v-gaze/\"><h3 class=\"card-full-news__title\">Палестина обвинила Израиль в использовании запрещенных боеприпасов в Газе</h3><div class=\"card-full-news__info\"><time class=\"card-full-news__info-item card-full-news__date\">14:03, 26 октября 2023</time><span class=\"card-full-news__info-item card-full-news__rubric\">Мир</span></div></a></li>,\n <li class=\"rubric-page__item _news\"><a class=\"card-full-news _subrubric\" href=\"/news/2023/10/26/peskov-prokommentiroval-izbranie-novogo-spikera-palaty-predstaviteley-ssha/\"><h3 class=\"card-full-news__title\">Песков прокомментировал избрание нового спикера Палаты представителей США</h3><div class=\"card-full-news__info\"><time class=\"card-full-news__info-item card-full-news__date\">13:24, 26 октября 2023</time><span class=\"card-full-news__info-item card-full-news__rubric\">Мир</span></div></a></li>,\n <li class=\"rubric-page__item _news\"><a class=\"card-full-news _subrubric\" href=\"/news/2023/10/26/tsahal-nazval-chislo-zaderzhannyh-s-nachala-voyny-palestintsev/\"><h3 class=\"card-full-news__title\">ЦАХАЛ назвал число задержанных с начала войны палестинцев</h3><div class=\"card-full-news__info\"><time class=\"card-full-news__info-item card-full-news__date\">13:23, 26 октября 2023</time><span class=\"card-full-news__info-item card-full-news__rubric\">Мир</span></div></a></li>,\n <li class=\"rubric-page__item _news\"><a class=\"card-full-news _subrubric\" href=\"/news/2023/10/26/peskov-vyskazalsya-o-nezhelanii-slovakii-postavlyat-oruzhie-kievu/\"><h3 class=\"card-full-news__title\">В Кремле прокомментировали нежелание Словакии поставлять оружие Киеву</h3><div class=\"card-full-news__info\"><time class=\"card-full-news__info-item card-full-news__date\">12:47, 26 октября 2023</time><span class=\"card-full-news__info-item card-full-news__rubric\">Мир</span></div></a></li>,\n <li class=\"rubric-page__item _news\"><a class=\"card-full-news _subrubric\" href=\"/news/2023/10/26/scnr/\"><h3 class=\"card-full-news__title\">Перечислены сценарии развития войны Израиля с ХАМАС</h3><div class=\"card-full-news__info\"><time class=\"card-full-news__info-item card-full-news__date\">12:28, 26 октября 2023</time><span class=\"card-full-news__info-item card-full-news__rubric\">Мир</span></div></a></li>,\n <li class=\"rubric-page__item _news\"><a class=\"card-full-news _subrubric\" href=\"/news/2023/10/26/mid-rossii-anonsiroval-vizit-prezidenta-palestiny/\"><h3 class=\"card-full-news__title\">МИД России анонсировал визит президента Палестины</h3><div class=\"card-full-news__info\"><time class=\"card-full-news__info-item card-full-news__date\">11:54, 26 октября 2023</time><span class=\"card-full-news__info-item card-full-news__rubric\">Мир</span></div></a></li>,\n <li class=\"rubric-page__item _news\"><a class=\"card-full-news _subrubric\" href=\"/news/2023/10/26/stalo-izvestno-o-postroyke-tsahal-malenkoy-gazy-dlya-otrabotki-vtorzheniya/\"><h3 class=\"card-full-news__title\">Стало известно о постройке ЦАХАЛ «маленькой Газы» для отработки вторжения</h3><div class=\"card-full-news__info\"><time class=\"card-full-news__info-item card-full-news__date\">09:55, 26 октября 2023</time><span class=\"card-full-news__info-item card-full-news__rubric\">Мир</span></div></a></li>,\n <li class=\"rubric-page__item _news\"><a class=\"card-full-news _subrubric\" href=\"/news/2023/10/26/izrail-provel-nochnoy-reyd-s-tankami-v-sektore-gaza/\"><h3 class=\"card-full-news__title\">Израиль провел ночной рейд с танками в секторе Газа</h3><div class=\"card-full-news__info\"><time class=\"card-full-news__info-item card-full-news__date\">08:07, 26 октября 2023</time><span class=\"card-full-news__info-item card-full-news__rubric\">Мир</span></div></a></li>,\n <li class=\"rubric-page__item _news\"><a class=\"card-full-news _subrubric\" href=\"/news/2023/10/25/v-hamas-nazvali-inostrannyh-zalozhnikov-gostyami/\"><h3 class=\"card-full-news__title\">В ХАМАС назвали иностранных заложников гостями</h3><div class=\"card-full-news__info\"><time class=\"card-full-news__info-item card-full-news__date\">00:09, 26 октября 2023</time><span class=\"card-full-news__info-item card-full-news__rubric\">Мир</span></div></a></li>,\n <li class=\"rubric-page__item _news\"><a class=\"card-full-news _subrubric\" href=\"/news/2023/10/25/obstrel-tel-aviva/\"><h3 class=\"card-full-news__title\">Боевое крыло ХАМАС заявило об очередном обстреле Тель-Авива</h3><div class=\"card-full-news__info\"><time class=\"card-full-news__info-item card-full-news__date\">23:20, 25 октября 2023</time><span class=\"card-full-news__info-item card-full-news__rubric\">Мир</span></div></a></li>,\n <li class=\"rubric-page__item _news\"><a class=\"card-full-news _subrubric\" href=\"/news/2023/10/25/piloty-vsu-nachali-obuchenie-na-f-16-v-ssha/\"><h3 class=\"card-full-news__title\">Пилоты ВСУ начали обучение на F-16 в США</h3><div class=\"card-full-news__info\"><time class=\"card-full-news__info-item card-full-news__date\">23:19, 25 октября 2023</time><span class=\"card-full-news__info-item card-full-news__rubric\">Мир</span></div></a></li>,\n <li class=\"rubric-page__item _news\"><a class=\"card-full-news _subrubric\" href=\"/news/2023/10/25/stalo-izvestno-o-shesti-rossiyanah-v-plenu-hamas/\"><h3 class=\"card-full-news__title\">Стало известно о шести россиянах в плену ХАМАС</h3><div class=\"card-full-news__info\"><time class=\"card-full-news__info-item card-full-news__date\">21:55, 25 октября 2023</time><span class=\"card-full-news__info-item card-full-news__rubric\">Мир</span></div></a></li>,\n <li class=\"rubric-page__item _news\"><a class=\"card-full-news _subrubric\" href=\"/news/2023/10/26/rossiyanka-v-nizhnem-belie-vypala-iz-okna-vosmogo-etazha-i-popala-na-video/\"><h3 class=\"card-full-news__title\">Россиянка в нижнем белье выпала из окна восьмого этажа и попала на видео</h3><div class=\"card-full-news__info\"><time class=\"card-full-news__info-item card-full-news__date\">10:09, 26 октября 2023</time><span class=\"card-full-news__info-item card-full-news__rubric\">Россия</span><svg class=\"card-full-news__info-item card-full-news__play\"><use xlink:href=\"#ui-play\"></use></svg></div></a></li>,\n <li class=\"rubric-page__item _news\"><a class=\"card-full-news _subrubric\" href=\"/news/2023/10/26/rossiyskie-deti-massovo-otravilis-vo-vremya-tsirkovogo-konkursa/\"><h3 class=\"card-full-news__title\">Российские дети массово отравились во время циркового конкурса</h3><div class=\"card-full-news__info\"><time class=\"card-full-news__info-item card-full-news__date\">09:32, 26 октября 2023</time><span class=\"card-full-news__info-item card-full-news__rubric\">Россия</span></div></a></li>,\n <li class=\"rubric-page__item _news\"><a class=\"card-full-news _subrubric\" href=\"/news/2023/10/26/razgulivayuschego-shestoy-den-po-rossiyskomu-gorodu-medvedya-snyali-na-video/\"><h3 class=\"card-full-news__title\">Разгуливающего шестой день по российскому городу медведя сняли на видео</h3><div class=\"card-full-news__info\"><time class=\"card-full-news__info-item card-full-news__date\">09:05, 26 октября 2023</time><span class=\"card-full-news__info-item card-full-news__rubric\">Россия</span><svg class=\"card-full-news__info-item card-full-news__play\"><use xlink:href=\"#ui-play\"></use></svg></div></a></li>,\n <li class=\"rubric-page__item _news\"><a class=\"card-full-news _subrubric\" href=\"/news/2023/10/26/v-rossiyskom-gorode-u-vosmimesyachnogo-malchika-voznik-nekroz-kozhi-posle-privivki/\"><h3 class=\"card-full-news__title\">В российском городе у восьмимесячного мальчика возник некроз кожи после прививки</h3><div class=\"card-full-news__info\"><time class=\"card-full-news__info-item card-full-news__date\">09:02, 26 октября 2023</time><span class=\"card-full-news__info-item card-full-news__rubric\">Россия</span></div></a></li>,\n <li class=\"rubric-page__item _news\"><a class=\"card-full-news _subrubric\" href=\"/news/2023/10/26/v-moskve-semiklassnitsa-popala-v-bolnitsu-s-otravleniem-iz-za-krysy/\"><h3 class=\"card-full-news__title\">В Москве семиклассница попала в больницу с отравлением из-за крысы</h3><div class=\"card-full-news__info\"><time class=\"card-full-news__info-item card-full-news__date\">08:36, 26 октября 2023</time><span class=\"card-full-news__info-item card-full-news__rubric\">Россия</span></div></a></li>,\n <li class=\"rubric-page__item _news\"><a class=\"card-full-news _subrubric\" href=\"/news/2023/10/26/v-rossiyskom-regione-zafiksirovali-vspyshku-neizvestnogo-zabolevaniya/\"><h3 class=\"card-full-news__title\">В российском регионе зафиксировали вспышку неизвестного заболевания</h3><div class=\"card-full-news__info\"><time class=\"card-full-news__info-item card-full-news__date\">08:27, 26 октября 2023</time><span class=\"card-full-news__info-item card-full-news__rubric\">Россия</span></div></a></li>,\n <li class=\"rubric-page__item _news\"><a class=\"card-full-news _subrubric\" href=\"/news/2023/10/26/loony_bin/\"><h3 class=\"card-full-news__title\">Россиянка рассказала о насильной госпитализации после обмана психиатра</h3><div class=\"card-full-news__info\"><time class=\"card-full-news__info-item card-full-news__date\">08:10, 26 октября 2023</time><span class=\"card-full-news__info-item card-full-news__rubric\">Россия</span></div></a></li>,\n <li class=\"rubric-page__item _news\"><a class=\"card-full-news _subrubric\" href=\"/news/2023/10/26/zanovo/\"><h3 class=\"card-full-news__title\">В Херсонской области рассказали о необходимости заново отстраивать Каховскую ГЭС</h3><div class=\"card-full-news__info\"><time class=\"card-full-news__info-item card-full-news__date\">08:02, 26 октября 2023</time><span class=\"card-full-news__info-item card-full-news__rubric\">Россия</span></div></a></li>,\n <li class=\"rubric-page__item _news\"><a class=\"card-full-news _subrubric\" href=\"/news/2023/10/26/rossiyskie-desantniki-presekli-popytku-proryva-vsu-pod-artemovskom/\"><h3 class=\"card-full-news__title\">Российские десантники пресекли попытку прорыва ВСУ под Артемовском</h3><div class=\"card-full-news__info\"><time class=\"card-full-news__info-item card-full-news__date\">07:59, 26 октября 2023</time><span class=\"card-full-news__info-item card-full-news__rubric\">Россия</span></div></a></li>,\n <li class=\"rubric-page__item _news\"><a class=\"card-full-news _subrubric\" href=\"/news/2023/10/26/na-odnoy-iz-vetok-metro-v-moskve-ostanovili-dvizhenie-poezdov/\"><h3 class=\"card-full-news__title\">На одной из веток метро в Москве остановили движение поездов</h3><div class=\"card-full-news__info\"><time class=\"card-full-news__info-item card-full-news__date\">06:54, 26 октября 2023</time><span class=\"card-full-news__info-item card-full-news__rubric\">Россия</span></div></a></li>,\n <li class=\"rubric-page__item _news\"><a class=\"card-full-news _subrubric\" href=\"/news/2023/10/26/udlnk/\"><h3 class=\"card-full-news__title\">Самым популярным местом для созвонов у российских удаленщиков оказалась кровать</h3><div class=\"card-full-news__info\"><time class=\"card-full-news__info-item card-full-news__date\">06:13, 26 октября 2023</time><span class=\"card-full-news__info-item card-full-news__rubric\">Россия</span></div></a></li>,\n <li class=\"rubric-page__item _news\"><a class=\"card-full-news _subrubric\" href=\"/news/2023/10/26/v-rossii-zadumali-ogranichit-vydachu-matkapitala-vozrastom-materi/\"><h3 class=\"card-full-news__title\">В России задумали ограничить выдачу маткапитала возрастом матери</h3><div class=\"card-full-news__info\"><time class=\"card-full-news__info-item card-full-news__date\">01:37, 26 октября 2023</time><span class=\"card-full-news__info-item card-full-news__rubric\">Россия</span></div></a></li>,\n <li class=\"rubric-page__item _news\"><a class=\"card-full-news _subrubric\" href=\"/news/2023/10/26/citizenship/\"><h3 class=\"card-full-news__title\">В России вступил в силу новый закон о гражданстве. Кого и за что теперь могут лишить паспорта?</h3><div class=\"card-full-news__info\"><time class=\"card-full-news__info-item card-full-news__date\">00:37, 26 октября 2023</time><span class=\"card-full-news__info-item card-full-news__rubric\">Россия</span><svg class=\"card-full-news__info-item card-full-news__super-news\"><use xlink:href=\"#ui-super-news\"></use></svg></div></a></li>,\n <li class=\"rubric-page__item _news\"><a class=\"card-full-news _subrubric\" href=\"/news/2023/10/25/rukovodstvo/\"><h3 class=\"card-full-news__title\">Выяснилась причина обысков в российском элитном бизнес-клубе</h3><div class=\"card-full-news__info\"><time class=\"card-full-news__info-item card-full-news__date\">22:47, 25 октября 2023</time><span class=\"card-full-news__info-item card-full-news__rubric\">Россия</span></div></a></li>,\n <li class=\"rubric-page__item _news\"><a class=\"card-full-news _subrubric\" href=\"/news/2023/10/25/posolstvo/\"><h3 class=\"card-full-news__title\">На здании американского посольства в Москве появилась патриотичная надпись</h3><div class=\"card-full-news__info\"><time class=\"card-full-news__info-item card-full-news__date\">21:24, 25 октября 2023</time><span class=\"card-full-news__info-item card-full-news__rubric\">Россия</span></div></a></li>,\n <li class=\"rubric-page__item _news\"><a class=\"card-full-news _subrubric\" href=\"/news/2023/10/25/kdrv/\"><h3 class=\"card-full-news__title\">Боец MMA, участник СВО, актер и «герой всех мусульман». Чем известен 15-летний сын главы Чечни Адам Кадыров?</h3><div class=\"card-full-news__info\"><time class=\"card-full-news__info-item card-full-news__date\">21:15, 25 октября 2023</time><span class=\"card-full-news__info-item card-full-news__rubric\">Россия</span><svg class=\"card-full-news__info-item card-full-news__super-news\"><use xlink:href=\"#ui-super-news\"></use></svg></div></a></li>,\n <li class=\"rubric-page__item _news\"><a class=\"card-full-news _subrubric\" href=\"/news/2023/10/25/nazisty1/\"><h3 class=\"card-full-news__title\">В Светлогорске прошел форум о преступлениях нацистов против человечности</h3><div class=\"card-full-news__info\"><time class=\"card-full-news__info-item card-full-news__date\">20:55, 25 октября 2023</time><span class=\"card-full-news__info-item card-full-news__rubric\">Россия</span></div></a></li>,\n <li class=\"rubric-page__item _news\"><a class=\"card-full-news _subrubric\" href=\"/news/2023/10/25/kaspiisky/\"><h3 class=\"card-full-news__title\">В Дагестане пройдет Первый международный Каспийский цифровой форум</h3><div class=\"card-full-news__info\"><time class=\"card-full-news__info-item card-full-news__date\">20:12, 25 октября 2023</time><span class=\"card-full-news__info-item card-full-news__rubric\">Россия</span></div></a></li>,\n <li class=\"rubric-page__item _news\"><a class=\"card-full-news _subrubric\" href=\"/news/2023/10/25/rcaw/\"><h3 class=\"card-full-news__title\">Российская национальная премия Russian Creative Awards 2023 открыла прием заявок</h3><div class=\"card-full-news__info\"><time class=\"card-full-news__info-item card-full-news__date\">19:32, 25 октября 2023</time><span class=\"card-full-news__info-item card-full-news__rubric\">Россия</span></div></a></li>,\n <li class=\"rubric-page__item _news\"><a class=\"card-full-news _subrubric\" href=\"/news/2023/10/25/v-ingushetii-yurista-zaderzhali-za-pomosch-sbezhavshey-ot-nasiliya-v-semie-zhenschine/\"><h3 class=\"card-full-news__title\">В Ингушетии юриста задержали за помощь сбежавшей от насилия в семье женщине</h3><div class=\"card-full-news__info\"><time class=\"card-full-news__info-item card-full-news__date\">19:06, 25 октября 2023</time><span class=\"card-full-news__info-item card-full-news__rubric\">Россия</span></div></a></li>,\n <li class=\"rubric-page__item _news\"><a class=\"card-full-news _subrubric\" href=\"/news/2023/10/25/dostavil/\"><h3 class=\"card-full-news__title\">Народный фронт доставил танкистам на СВО технику и спецодежду</h3><div class=\"card-full-news__info\"><time class=\"card-full-news__info-item card-full-news__date\">18:52, 25 октября 2023</time><span class=\"card-full-news__info-item card-full-news__rubric\">Россия</span></div></a></li>,\n <li class=\"rubric-page__item _news\"><a class=\"card-full-news _subrubric\" href=\"/news/2023/10/25/putin-pouchastvoval-v-trenirovke-strategicheskih-sil-sderzhivaniya/\"><h3 class=\"card-full-news__title\">Путин поучаствовал в тренировке стратегических сил сдерживания</h3><div class=\"card-full-news__info\"><time class=\"card-full-news__info-item card-full-news__date\">18:37, 25 октября 2023</time><span class=\"card-full-news__info-item card-full-news__rubric\">Россия</span></div></a></li>,\n <li class=\"rubric-page__item _news\"><a class=\"card-full-news _subrubric\" href=\"/news/2023/10/25/medvedev-anonsiroval-formirovanie-novogo-armeyskogo-korpusa-v-2024-godu/\"><h3 class=\"card-full-news__title\">Медведев анонсировал формирование нового армейского корпуса в 2024 году</h3><div class=\"card-full-news__info\"><time class=\"card-full-news__info-item card-full-news__date\">17:28, 25 октября 2023</time><span class=\"card-full-news__info-item card-full-news__rubric\">Россия</span></div></a></li>,\n <li class=\"rubric-page__item _news\"><a class=\"card-full-news _subrubric\" href=\"/news/2023/10/25/medvedev-nazval-chislo-postupivshih-na-voennuyu-sluzhbu-s-nachala-goda-rossiyan/\"><h3 class=\"card-full-news__title\">Медведев назвал число поступивших на военную службу с начала года россиян</h3><div class=\"card-full-news__info\"><time class=\"card-full-news__info-item card-full-news__date\">17:26, 25 октября 2023</time><span class=\"card-full-news__info-item card-full-news__rubric\">Россия</span></div></a></li>,\n <li class=\"rubric-page__item _news\"><a class=\"card-full-news _subrubric\" href=\"/news/2023/10/25/izvestnyy-po-delu-nemtsova-chechenets-vozglavil-batalon-imeni-sheyha-mansura/\"><h3 class=\"card-full-news__title\">Известный по делу Немцова чеченец возглавил батальон имени шейха Мансура</h3><div class=\"card-full-news__info\"><time class=\"card-full-news__info-item card-full-news__date\">17:17, 25 октября 2023</time><span class=\"card-full-news__info-item card-full-news__rubric\">Россия</span></div></a></li>,\n <li class=\"rubric-page__item _news\"><a class=\"card-full-news _subrubric\" href=\"/news/2023/10/25/zyuganov-soobschil-ob-obsuzhdenii-s-putinym-obraza-buduschego-rossii/\"><h3 class=\"card-full-news__title\">Зюганов сообщил об обсуждении с Путиным «образа будущего» России</h3><div class=\"card-full-news__info\"><time class=\"card-full-news__info-item card-full-news__date\">16:15, 25 октября 2023</time><span class=\"card-full-news__info-item card-full-news__rubric\">Россия</span></div></a></li>,\n <li class=\"rubric-page__item _news\"><a class=\"card-full-news _subrubric\" href=\"/news/2023/10/25/zabolevaniy/\"><h3 class=\"card-full-news__title\">Фонд «Круг добра» расширил перечень заболеваний</h3><div class=\"card-full-news__info\"><time class=\"card-full-news__info-item card-full-news__date\">15:32, 25 октября 2023</time><span class=\"card-full-news__info-item card-full-news__rubric\">Россия</span></div></a></li>,\n <li class=\"rubric-page__item _news\"><a class=\"card-full-news _subrubric\" href=\"/news/2023/10/25/pozhiluyu-rossiyanku-zapodozrili-v-postoyannyh-izbieniyah-troih-detey/\"><h3 class=\"card-full-news__title\">Пожилую россиянку заподозрили в постоянных избиениях троих детей</h3><div class=\"card-full-news__info\"><time class=\"card-full-news__info-item card-full-news__date\">15:14, 25 октября 2023</time><span class=\"card-full-news__info-item card-full-news__rubric\">Россия</span></div></a></li>,\n <li class=\"rubric-page__item _news\"><a class=\"card-full-news _subrubric\" href=\"/news/2023/10/25/moskvich-priehal-v-otpusk-iz-zony-svo-i-propal/\"><h3 class=\"card-full-news__title\">Москвич приехал в отпуск из зоны СВО и пропал</h3><div class=\"card-full-news__info\"><time class=\"card-full-news__info-item card-full-news__date\">14:32, 25 октября 2023</time><span class=\"card-full-news__info-item card-full-news__rubric\">Россия</span></div></a></li>,\n <li class=\"rubric-page__item _news\"><a class=\"card-full-news _subrubric\" href=\"/news/2023/10/25/rossiyskie-voennye-unichtozhili-sklad-boepripasov-vsu-v-konstantinovke/\"><h3 class=\"card-full-news__title\">Российские военные уничтожили склад боеприпасов ВСУ в Константиновке</h3><div class=\"card-full-news__info\"><time class=\"card-full-news__info-item card-full-news__date\">14:31, 25 октября 2023</time><span class=\"card-full-news__info-item card-full-news__rubric\">Россия</span></div></a></li>,\n <li class=\"rubric-page__item _news\"><a class=\"card-full-news _subrubric\" href=\"/news/2023/10/25/army_education/\"><h3 class=\"card-full-news__title\">В России предложили дать скидку на высшее образование отслужившим срочникам</h3><div class=\"card-full-news__info\"><time class=\"card-full-news__info-item card-full-news__date\">14:30, 25 октября 2023</time><span class=\"card-full-news__info-item card-full-news__rubric\">Россия</span></div></a></li>,\n <li class=\"rubric-page__item _news\"><a class=\"card-full-news _subrubric\" href=\"/news/2023/10/25/rossiyskie-voyska-vskryli-skoplenie-zhivoy-sily-vsu-u-mosta-cherez-dnepr/\"><h3 class=\"card-full-news__title\">Российские войска вскрыли скопление живой силы ВСУ у моста через Днепр</h3><div class=\"card-full-news__info\"><time class=\"card-full-news__info-item card-full-news__date\">14:28, 25 октября 2023</time><span class=\"card-full-news__info-item card-full-news__rubric\">Россия</span></div></a></li>,\n <li class=\"rubric-page__item _news\"><a class=\"card-full-news _subrubric\" href=\"/news/2023/10/25/festivalm/\"><h3 class=\"card-full-news__title\">Всемирный фестиваль молодежи получил интернет-поддержку</h3><div class=\"card-full-news__info\"><time class=\"card-full-news__info-item card-full-news__date\">14:25, 25 октября 2023</time><span class=\"card-full-news__info-item card-full-news__rubric\">Россия</span></div></a></li>,\n <li class=\"rubric-page__item _news\"><a class=\"card-full-news _subrubric\" href=\"/news/2023/10/25/v-rossii-zayavili-o-neznachitelnoy-roli-arhiepiskopa-reynisa-v-istorii/\"><h3 class=\"card-full-news__title\">В России заявили о незначительной роли архиепископа Рейниса в истории</h3><div class=\"card-full-news__info\"><time class=\"card-full-news__info-item card-full-news__date\">14:25, 25 октября 2023</time><span class=\"card-full-news__info-item card-full-news__rubric\">Россия</span></div></a></li>,\n <li class=\"rubric-page__item _news\"><a class=\"card-full-news _subrubric\" href=\"/news/2023/10/25/adam_kadyrov/\"><h3 class=\"card-full-news__title\">Регионы России один за другим награждают сына Кадырова, избившего поджигателя Корана. За что ему дают ордена и звания?</h3><div class=\"card-full-news__info\"><time class=\"card-full-news__info-item card-full-news__date\">14:15, 25 октября 2023</time><span class=\"card-full-news__info-item card-full-news__rubric\">Россия</span><svg class=\"card-full-news__info-item card-full-news__super-news\"><use xlink:href=\"#ui-super-news\"></use></svg></div></a></li>,\n <li class=\"rubric-page__item _news\"><a class=\"card-full-news _subrubric\" href=\"/news/2023/10/25/rossiyskie-katoliki-prizvali-vernut-pamyatnuyu-dosku-litovskomu-arhiepiskop/\"><h3 class=\"card-full-news__title\">Российские католики призвали вернуть памятную доску литовскому архиепископу</h3><div class=\"card-full-news__info\"><time class=\"card-full-news__info-item card-full-news__date\">13:59, 25 октября 2023</time><span class=\"card-full-news__info-item card-full-news__rubric\">Россия</span></div></a></li>,\n <li class=\"rubric-page__item _news\"><a class=\"card-full-news _subrubric\" href=\"/news/2023/10/25/rossiyanki-nachali-skupat-preparaty-ot-nezhelatelnoy-beremennosti/\"><h3 class=\"card-full-news__title\">Россиянки начали скупать препараты от нежелательной беременности</h3><div class=\"card-full-news__info\"><time class=\"card-full-news__info-item card-full-news__date\">13:47, 25 октября 2023</time><span class=\"card-full-news__info-item card-full-news__rubric\">Россия</span></div></a></li>,\n <li class=\"rubric-page__item _news\"><a class=\"card-full-news _subrubric\" href=\"/news/2023/10/25/hellouin/\"><h3 class=\"card-full-news__title\">В РПЦ назвали Хеллоуин чернушным маскарадом и призвали не пускать его в школы</h3><div class=\"card-full-news__info\"><time class=\"card-full-news__info-item card-full-news__date\">13:40, 25 октября 2023</time><span class=\"card-full-news__info-item card-full-news__rubric\">Россия</span></div></a></li>,\n <li class=\"rubric-page__item _news\"><a class=\"card-full-news _subrubric\" href=\"/news/2023/10/25/przdnk/\"><h3 class=\"card-full-news__title\">В Госдуме рассказали о судьбе идеи о сокращении новогодних праздников</h3><div class=\"card-full-news__info\"><time class=\"card-full-news__info-item card-full-news__date\">12:54, 25 октября 2023</time><span class=\"card-full-news__info-item card-full-news__rubric\">Россия</span></div></a></li>,\n <li class=\"rubric-page__item _news\"><a class=\"card-full-news _subrubric\" href=\"/news/2023/10/25/v-moskve-nachali-proveryat-ne-vstavshih-na-voinskiy-uchet-migrantov-s-pasportami-rf/\"><h3 class=\"card-full-news__title\">В Москве начали проверять не вставших на воинский учет мигрантов с паспортами РФ</h3><div class=\"card-full-news__info\"><time class=\"card-full-news__info-item card-full-news__date\">12:34, 25 октября 2023</time><span class=\"card-full-news__info-item card-full-news__rubric\">Россия</span></div></a></li>,\n <li class=\"rubric-page__item _news\"><a class=\"card-full-news _subrubric\" href=\"/news/2023/10/25/minus24/\"><h3 class=\"card-full-news__title\">Шойгу заявил, что у России появились новые комплексы, которые за пять дней сбили 24 самолета ВСУ. Что об этом известно?</h3><div class=\"card-full-news__info\"><time class=\"card-full-news__info-item card-full-news__date\">12:31, 25 октября 2023</time><span class=\"card-full-news__info-item card-full-news__rubric\">Россия</span><svg class=\"card-full-news__info-item card-full-news__super-news\"><use xlink:href=\"#ui-super-news\"></use></svg></div></a></li>,\n <li class=\"rubric-page__item _news\"><a class=\"card-full-news _subrubric\" href=\"/news/2023/10/25/rossiyanin-izbil-vybezhavshego-pod-kolesa-mashiny-rebenka-i-popal-na-video/\"><h3 class=\"card-full-news__title\">Россиянин избил выбежавшего под колеса машины ребенка и попал на видео</h3><div class=\"card-full-news__info\"><time class=\"card-full-news__info-item card-full-news__date\">12:15, 25 октября 2023</time><span class=\"card-full-news__info-item card-full-news__rubric\">Россия</span><svg class=\"card-full-news__info-item card-full-news__play\"><use xlink:href=\"#ui-play\"></use></svg></div></a></li>,\n <li class=\"rubric-page__item _news\"><a class=\"card-full-news _subrubric\" href=\"/news/2023/10/25/distantsionnyy/\"><h3 class=\"card-full-news__title\">Начался дистанционный этап конкурса «Это у нас семейное»</h3><div class=\"card-full-news__info\"><time class=\"card-full-news__info-item card-full-news__date\">11:55, 25 октября 2023</time><span class=\"card-full-news__info-item card-full-news__rubric\">Россия</span></div></a></li>,\n <li class=\"rubric-page__item _news\"><a class=\"card-full-news _subrubric\" href=\"/news/2023/10/25/rossiyskie-podrostki-tolpoy-izbili-kadeta-i-popali-na-video/\"><h3 class=\"card-full-news__title\">Российские подростки толпой избили кадета и попали на видео</h3><div class=\"card-full-news__info\"><time class=\"card-full-news__info-item card-full-news__date\">11:52, 25 октября 2023</time><span class=\"card-full-news__info-item card-full-news__rubric\">Россия</span><svg class=\"card-full-news__info-item card-full-news__play\"><use xlink:href=\"#ui-play\"></use></svg></div></a></li>,\n <li class=\"rubric-page__item _news\"><a class=\"card-full-news _subrubric\" href=\"/news/2023/10/25/patriarh-kirill-porassuzhdal-o-posledstviyah-zasilya-gastarbayterov-v-rossii/\"><h3 class=\"card-full-news__title\">Патриарх Кирилл порассуждал о последствиях засилья гастарбайтеров в России</h3><div class=\"card-full-news__info\"><time class=\"card-full-news__info-item card-full-news__date\">11:41, 25 октября 2023</time><span class=\"card-full-news__info-item card-full-news__rubric\">Россия</span></div></a></li>,\n <li class=\"rubric-page__item _news\"><a class=\"card-full-news _subrubric\" href=\"/news/2023/10/25/70-letnyaya-rossiyanka-popala-v-bolnitsu-so-slomannymi-rebrami-iz-za-korovy/\"><h3 class=\"card-full-news__title\">70-летняя россиянка попала в больницу со сломанными ребрами из-за коровы</h3><div class=\"card-full-news__info\"><time class=\"card-full-news__info-item card-full-news__date\">11:17, 25 октября 2023</time><span class=\"card-full-news__info-item card-full-news__rubric\">Россия</span></div></a></li>,\n <li class=\"rubric-page__item _news\"><a class=\"card-full-news _subrubric\" href=\"/news/2023/10/25/nagr/\"><h3 class=\"card-full-news__title\">Сына Кадырова наградили орденом Татарстана. Ранее там раскритиковали его за избиение поджигателя Корана, но извинились</h3><div class=\"card-full-news__info\"><time class=\"card-full-news__info-item card-full-news__date\">10:46, 25 октября 2023</time><span class=\"card-full-news__info-item card-full-news__rubric\">Россия</span><svg class=\"card-full-news__info-item card-full-news__super-news\"><use xlink:href=\"#ui-super-news\"></use></svg></div></a></li>,\n <li class=\"rubric-page__item _news\"><a class=\"card-full-news _subrubric\" href=\"/news/2023/10/25/shoygu-zayavil-o-bolshom-kolichestve-vzyatyh-v-plen-v-techenie-mesyatsa-boytsov-v-vsu/\"><h3 class=\"card-full-news__title\">Шойгу заявил о большом количестве взятых в плен в течение месяца бойцов ВСУ</h3><div class=\"card-full-news__info\"><time class=\"card-full-news__info-item card-full-news__date\">10:19, 25 октября 2023</time><span class=\"card-full-news__info-item card-full-news__rubric\">Россия</span></div></a></li>,\n <li class=\"rubric-page__item _news\"><a class=\"card-full-news _subrubric\" href=\"/news/2023/10/25/rossiyanam-napomnili-o-korotkoy-rabochey-nedele/\"><h3 class=\"card-full-news__title\">Россиянам напомнили о короткой рабочей неделе</h3><div class=\"card-full-news__info\"><time class=\"card-full-news__info-item card-full-news__date\">10:10, 25 октября 2023</time><span class=\"card-full-news__info-item card-full-news__rubric\">Россия</span></div></a></li>,\n <li class=\"rubric-page__item _news\"><a class=\"card-full-news _subrubric\" href=\"/news/2023/10/25/nko/\"><h3 class=\"card-full-news__title\">В Москве НКО снова бесплатно предоставят помещения</h3><div class=\"card-full-news__info\"><time class=\"card-full-news__info-item card-full-news__date\">10:07, 25 октября 2023</time><span class=\"card-full-news__info-item card-full-news__rubric\">Россия</span></div></a></li>,\n <li class=\"rubric-page__item _news\"><a class=\"card-full-news _subrubric\" href=\"/news/2023/10/25/rossiyanin-podzheg-mashinu-chlenu-komissii-za-otsenku-v-diplome/\"><h3 class=\"card-full-news__title\">Россиянин поджег машину члену комиссии за оценку в дипломе</h3><div class=\"card-full-news__info\"><time class=\"card-full-news__info-item card-full-news__date\">09:13, 25 октября 2023</time><span class=\"card-full-news__info-item card-full-news__rubric\">Россия</span></div></a></li>,\n <li class=\"rubric-page__item _news\"><a class=\"card-full-news _subrubric\" href=\"/news/2023/10/25/v-rossiyskoy-shkole-proizoshel-vzryv/\"><h3 class=\"card-full-news__title\">В российской школе произошел взрыв</h3><div class=\"card-full-news__info\"><time class=\"card-full-news__info-item card-full-news__date\">09:10, 25 октября 2023</time><span class=\"card-full-news__info-item card-full-news__rubric\">Россия</span></div></a></li>,\n <li class=\"rubric-page__item _news\"><a class=\"card-full-news _subrubric\" href=\"/news/2023/10/25/inst/\"><h3 class=\"card-full-news__title\">В России назвали условия возвращения Facebook и Instagram</h3><div class=\"card-full-news__info\"><time class=\"card-full-news__info-item card-full-news__date\">05:00, 25 октября 2023</time><span class=\"card-full-news__info-item card-full-news__rubric\">Россия</span></div></a></li>,\n <li class=\"rubric-page__item _news\"><a class=\"card-full-news _subrubric\" href=\"/news/2023/10/24/medinskiy-soobschil-o-podgotovke-vtorogo-izdaniya-novogo-uchebnika-po-istorii/\"><h3 class=\"card-full-news__title\">Мединский сообщил о подготовке второго издания нового учебника по истории</h3><div class=\"card-full-news__info\"><time class=\"card-full-news__info-item card-full-news__date\">20:06, 24 октября 2023</time><span class=\"card-full-news__info-item card-full-news__rubric\">Россия</span></div></a></li>,\n <li class=\"rubric-page__item _news\"><a class=\"card-full-news _subrubric\" href=\"/news/2023/10/24/obrazovatelnaya/\"><h3 class=\"card-full-news__title\">На ВДНХ открылась образовательная неделя для педагогов от Общества «Знание»</h3><div class=\"card-full-news__info\"><time class=\"card-full-news__info-item card-full-news__date\">20:01, 24 октября 2023</time><span class=\"card-full-news__info-item card-full-news__rubric\">Россия</span></div></a></li>,\n <li class=\"rubric-page__item _news\"><a class=\"card-full-news _subrubric\" href=\"/news/2023/10/24/svetlogorsk/\"><h3 class=\"card-full-news__title\">На форуме в Светлогорске обсудят преступления нацистов против человечности</h3><div class=\"card-full-news__info\"><time class=\"card-full-news__info-item card-full-news__date\">19:25, 24 октября 2023</time><span class=\"card-full-news__info-item card-full-news__rubric\">Россия</span></div></a></li>,\n <li class=\"rubric-page__item _news\"><a class=\"card-full-news _subrubric\" href=\"/news/2023/10/24/programma/\"><h3 class=\"card-full-news__title\">В Мастерской управления «Сенеж» запустили образовательную программу</h3><div class=\"card-full-news__info\"><time class=\"card-full-news__info-item card-full-news__date\">18:50, 24 октября 2023</time><span class=\"card-full-news__info-item card-full-news__rubric\">Россия</span></div></a></li>,\n <li class=\"rubric-page__item _news\"><a class=\"card-full-news _subrubric\" href=\"/news/2023/10/24/rossiyskiy-mladenets-popal-v-reanimatsiyu-posle-operatsii-na-domu/\"><h3 class=\"card-full-news__title\">Российский младенец попал в реанимацию после операции на дому</h3><div class=\"card-full-news__info\"><time class=\"card-full-news__info-item card-full-news__date\">18:50, 24 октября 2023</time><span class=\"card-full-news__info-item card-full-news__rubric\">Россия</span></div></a></li>,\n <li class=\"rubric-page__item _news\"><a class=\"card-full-news _subrubric\" href=\"/news/2023/10/24/rossiyskiy-region-vtoroy-raz-za-den-popal-pod-obstrel-vsu/\"><h3 class=\"card-full-news__title\">Российский регион второй раз за день попал под обстрел ВСУ</h3><div class=\"card-full-news__info\"><time class=\"card-full-news__info-item card-full-news__date\">18:32, 24 октября 2023</time><span class=\"card-full-news__info-item card-full-news__rubric\">Россия</span></div></a></li>,\n <li class=\"rubric-page__item _news\"><a class=\"card-full-news _subrubric\" href=\"/news/2023/10/24/poyavilis-podrobnosti-draki-studenta-s-rossiyskim-chinovnikom/\"><h3 class=\"card-full-news__title\">Появились подробности драки студента с российским чиновником</h3><div class=\"card-full-news__info\"><time class=\"card-full-news__info-item card-full-news__date\">17:39, 24 октября 2023</time><span class=\"card-full-news__info-item card-full-news__rubric\">Россия</span></div></a></li>,\n <li class=\"rubric-page__item _news\"><a class=\"card-full-news _subrubric\" href=\"/news/2023/10/24/covid-19_rost/\"><h3 class=\"card-full-news__title\">Названа причина роста заболеваемости COVID-19 в России</h3><div class=\"card-full-news__info\"><time class=\"card-full-news__info-item card-full-news__date\">17:09, 24 октября 2023</time><span class=\"card-full-news__info-item card-full-news__rubric\">Россия</span></div></a></li>,\n <li class=\"rubric-page__item _news\"><a class=\"card-full-news _subrubric\" href=\"/news/2023/10/24/zayavili/\"><h3 class=\"card-full-news__title\">В Подмосковье заявили о популярности нового проекта ухода за пожилыми</h3><div class=\"card-full-news__info\"><time class=\"card-full-news__info-item card-full-news__date\">17:01, 24 октября 2023</time><span class=\"card-full-news__info-item card-full-news__rubric\">Россия</span></div></a></li>,\n <li class=\"rubric-page__item _news\"><a class=\"card-full-news _subrubric\" href=\"/news/2023/10/24/rossiyanin-perezhil-napadenie-medvedya-vo-vremya-pohoda-za-gribami/\"><h3 class=\"card-full-news__title\">Россиянин пережил нападение медведя во время похода за грибами</h3><div class=\"card-full-news__info\"><time class=\"card-full-news__info-item card-full-news__date\">16:50, 24 октября 2023</time><span class=\"card-full-news__info-item card-full-news__rubric\">Россия</span></div></a></li>,\n <li class=\"rubric-page__item _news\"><a class=\"card-full-news _subrubric\" href=\"/news/2023/10/24/perezhivshiy-chernobylskuyu-katastrofu-atomschik-ostavil-zapisku-i-pogib-v-moskve/\"><h3 class=\"card-full-news__title\">Переживший Чернобыльскую катастрофу атомщик оставил записку и погиб в Москве</h3><div class=\"card-full-news__info\"><time class=\"card-full-news__info-item card-full-news__date\">16:44, 24 октября 2023</time><span class=\"card-full-news__info-item card-full-news__rubric\">Россия</span></div></a></li>,\n <li class=\"rubric-page__item _news\"><a class=\"card-full-news _subrubric\" href=\"/news/2023/10/24/v-krymu-nashli-fragmenty-nerazorvavsheysya-britanskoy-rakety-storm-shadow/\"><h3 class=\"card-full-news__title\">В Крыму нашли фрагменты неразорвавшейся британской ракеты Storm Shadow</h3><div class=\"card-full-news__info\"><time class=\"card-full-news__info-item card-full-news__date\">15:58, 24 октября 2023</time><span class=\"card-full-news__info-item card-full-news__rubric\">Россия</span></div></a></li>,\n <li class=\"rubric-page__item _news\"><a class=\"card-full-news _subrubric\" href=\"/news/2023/10/24/patriarh-kirill-stal-professorom-moskovskogo-vuza/\"><h3 class=\"card-full-news__title\">Патриарх Кирилл стал профессором московского вуза</h3><div class=\"card-full-news__info\"><time class=\"card-full-news__info-item card-full-news__date\">15:29, 24 октября 2023</time><span class=\"card-full-news__info-item card-full-news__rubric\">Россия</span></div></a></li>,\n <li class=\"rubric-page__item _news\"><a class=\"card-full-news _subrubric\" href=\"/news/2023/10/24/raskryto-sostoyanie-zazhatoy-liftom-mezhdu-etazhami-rossiyanke/\"><h3 class=\"card-full-news__title\">Раскрыто состояние зажатой лифтом между этажами россиянки</h3><div class=\"card-full-news__info\"><time class=\"card-full-news__info-item card-full-news__date\">15:28, 24 октября 2023</time><span class=\"card-full-news__info-item card-full-news__rubric\">Россия</span></div></a></li>,\n <li class=\"rubric-page__item _news\"><a class=\"card-full-news _subrubric\" href=\"/news/2023/10/24/vrach-nazval-neadekvatnoy-prishedshuyu-na-priem-s-bolnoy-nogoy-rossiyskuyu-chinovnitsu/\"><h3 class=\"card-full-news__title\">Врач назвал неадекватной пришедшую на прием с больной ногой российскую чиновницу</h3><div class=\"card-full-news__info\"><time class=\"card-full-news__info-item card-full-news__date\">15:06, 24 октября 2023</time><span class=\"card-full-news__info-item card-full-news__rubric\">Россия</span></div></a></li>,\n <li class=\"rubric-page__item _news\"><a class=\"card-full-news _subrubric\" href=\"/news/2023/10/24/rossiyskie-sredstva-pvo-sbili-dva-ukrainskih-istrebitelya-mig-29/\"><h3 class=\"card-full-news__title\">Российские средства ПВО сбили два украинских истребителя МиГ-29</h3><div class=\"card-full-news__info\"><time class=\"card-full-news__info-item card-full-news__date\">14:16, 24 октября 2023</time><span class=\"card-full-news__info-item card-full-news__rubric\">Россия</span></div></a></li>,\n <li class=\"rubric-page__item _news\"><a class=\"card-full-news _subrubric\" href=\"/news/2023/10/24/minoborony-rossii-soobschilo-o-sabotazhe-vsu-desantnyh-operatsiy-na-dnepre/\"><h3 class=\"card-full-news__title\">Минобороны России заявило о саботаже украинских десантников на берегу Днепра</h3><div class=\"card-full-news__info\"><time class=\"card-full-news__info-item card-full-news__date\">14:15, 24 октября 2023</time><span class=\"card-full-news__info-item card-full-news__rubric\">Россия</span></div></a></li>,\n <li class=\"rubric-page__item _news\"><a class=\"card-full-news _subrubric\" href=\"/news/2023/10/24/peterburgskiy-shkolnik-popal-v-bolnitsu-posle-eksperimenta-s-butylkoy/\"><h3 class=\"card-full-news__title\">Петербургский школьник попал в больницу после эксперимента с бутылкой</h3><div class=\"card-full-news__info\"><time class=\"card-full-news__info-item card-full-news__date\">13:51, 24 октября 2023</time><span class=\"card-full-news__info-item card-full-news__rubric\">Россия</span></div></a></li>,\n <li class=\"rubric-page__item _news\"><a class=\"card-full-news _subrubric\" href=\"/news/2023/10/24/pobediteley/\"><h3 class=\"card-full-news__title\">Сбер объявил победителей конкурса по искусственному интеллекту</h3><div class=\"card-full-news__info\"><time class=\"card-full-news__info-item card-full-news__date\">13:10, 24 октября 2023</time><span class=\"card-full-news__info-item card-full-news__rubric\">Россия</span></div></a></li>,\n <li class=\"rubric-page__item _news\"><a class=\"card-full-news _subrubric\" href=\"/news/2023/10/24/bolee-100-detey-na-urale-otpravili-na-karantin-iz-za-striguschego-lishaya/\"><h3 class=\"card-full-news__title\">Более 100 детей на Урале отправили на карантин из-за стригущего лишая</h3><div class=\"card-full-news__info\"><time class=\"card-full-news__info-item card-full-news__date\">13:10, 24 октября 2023</time><span class=\"card-full-news__info-item card-full-news__rubric\">Россия</span></div></a></li>,\n <li class=\"rubric-page__item _news\"><a class=\"card-full-news _subrubric\" href=\"/news/2023/10/24/abilimpiks/\"><h3 class=\"card-full-news__title\">В Москве завершился «Абилимпикс»</h3><div class=\"card-full-news__info\"><time class=\"card-full-news__info-item card-full-news__date\">12:56, 24 октября 2023</time><span class=\"card-full-news__info-item card-full-news__rubric\">Россия</span></div></a></li>,\n <li class=\"rubric-page__item _news\"><a class=\"card-full-news _subrubric\" href=\"/news/2023/10/24/putin-opisal-posledstviya-opravdaniya-natsistskih-prestupnikov/\"><h3 class=\"card-full-news__title\">Путин описал последствия оправдания нацистских преступников</h3><div class=\"card-full-news__info\"><time class=\"card-full-news__info-item card-full-news__date\">12:22, 24 октября 2023</time><span class=\"card-full-news__info-item card-full-news__rubric\">Россия</span></div></a></li>,\n <li class=\"rubric-page__item _news\"><a class=\"card-full-news _subrubric\" href=\"/news/2023/10/24/harichev/\"><h3 class=\"card-full-news__title\">Александр Харичев назвал Россию семьей семей</h3><div class=\"card-full-news__info\"><time class=\"card-full-news__info-item card-full-news__date\">12:17, 24 октября 2023</time><span class=\"card-full-news__info-item card-full-news__rubric\">Россия</span></div></a></li>,\n <li class=\"rubric-page__item _news\"><a class=\"card-full-news _subrubric\" href=\"/news/2023/10/24/svyaschennik-nazval-idiotami-odnu-kategoriyu-rossiyan/\"><h3 class=\"card-full-news__title\">Священник назвал идиотами одну категорию россиян</h3><div class=\"card-full-news__info\"><time class=\"card-full-news__info-item card-full-news__date\">12:16, 24 октября 2023</time><span class=\"card-full-news__info-item card-full-news__rubric\">Россия</span></div></a></li>,\n <li class=\"rubric-page__item _news\"><a class=\"card-full-news _subrubric\" href=\"/news/2023/10/24/zabolevaemost-covid-19-v-rossii-vyrosla-pochti-na-chetvert/\"><h3 class=\"card-full-news__title\">Заболеваемость COVID-19 в России выросла почти на четверть</h3><div class=\"card-full-news__info\"><time class=\"card-full-news__info-item card-full-news__date\">11:44, 24 октября 2023</time><span class=\"card-full-news__info-item card-full-news__rubric\">Россия</span></div></a></li>,\n <li class=\"rubric-page__item _news\"><a class=\"card-full-news _subrubric\" href=\"/news/2023/10/24/obezdvizhennuyu-inostranku-nashli-v-yaschike-pod-krovatyu-v-peterburge/\"><h3 class=\"card-full-news__title\">Обездвиженную иностранку нашли в ящике под кроватью в Петербурге</h3><div class=\"card-full-news__info\"><time class=\"card-full-news__info-item card-full-news__date\">11:34, 24 октября 2023</time><span class=\"card-full-news__info-item card-full-news__rubric\">Россия</span></div></a></li>,\n <li class=\"rubric-page__item _news\"><a class=\"card-full-news _subrubric\" href=\"/news/2023/10/24/v-rossiyskom-gorode-v-stolovoy-minselhoza-obnaruzhili-afrikanskuyu-chumu-sviney/\"><h3 class=\"card-full-news__title\">В российском городе в столовой Минсельхоза обнаружили африканскую чуму свиней</h3><div class=\"card-full-news__info\"><time class=\"card-full-news__info-item card-full-news__date\">10:48, 24 октября 2023</time><span class=\"card-full-news__info-item card-full-news__rubric\">Россия</span></div></a></li>,\n <li class=\"rubric-page__item _news\"><a class=\"card-full-news _subrubric\" href=\"/news/2023/10/24/rossiyskie-gaishniki-evakuirovali-mashinu-s-rebenkom-v-salone/\"><h3 class=\"card-full-news__title\">Российские гаишники эвакуировали машину с ребенком в салоне</h3><div class=\"card-full-news__info\"><time class=\"card-full-news__info-item card-full-news__date\">10:34, 24 октября 2023</time><span class=\"card-full-news__info-item card-full-news__rubric\">Россия</span></div></a></li>,\n <li class=\"rubric-page__item _news\"><a class=\"card-full-news _subrubric\" href=\"/news/2023/10/24/rossiyskiy-uchitel-slomal-nos-vosmiklassniku-v-vospitatelnyh-tselyah/\"><h3 class=\"card-full-news__title\">Российский учитель сломал нос восьмикласснику в воспитательных целях</h3><div class=\"card-full-news__info\"><time class=\"card-full-news__info-item card-full-news__date\">10:25, 24 октября 2023</time><span class=\"card-full-news__info-item card-full-news__rubric\">Россия</span></div></a></li>,\n <li class=\"rubric-page__item _news\"><a class=\"card-full-news _subrubric\" href=\"/news/2023/10/24/rossiyanin-szheg-chuzhoy-dom-iz-za-gromkoy-muzyki/\"><h3 class=\"card-full-news__title\">Россиянин сжег чужой дом из-за громкой музыки</h3><div class=\"card-full-news__info\"><time class=\"card-full-news__info-item card-full-news__date\">10:20, 24 октября 2023</time><span class=\"card-full-news__info-item card-full-news__rubric\">Россия</span></div></a></li>,\n <li class=\"rubric-page__item _news\"><a class=\"card-full-news _subrubric\" href=\"/news/2023/10/24/ubivshiy-deda-vagnerovets-vystupil-pered-shkolnikami-kak-geroy-svo/\"><h3 class=\"card-full-news__title\">Убивший деда вагнеровец выступил перед школьниками как герой СВО</h3><div class=\"card-full-news__info\"><time class=\"card-full-news__info-item card-full-news__date\">09:47, 24 октября 2023</time><span class=\"card-full-news__info-item card-full-news__rubric\">Россия</span></div></a></li>,\n <li class=\"rubric-page__item _news\"><a class=\"card-full-news _subrubric\" href=\"/news/2023/10/24/boln/\"><h3 class=\"card-full-news__title\">Раскрыта программа подготовки будущих московских врачей</h3><div class=\"card-full-news__info\"><time class=\"card-full-news__info-item card-full-news__date\">09:30, 24 октября 2023</time><span class=\"card-full-news__info-item card-full-news__rubric\">Россия</span></div></a></li>,\n <li class=\"rubric-page__item _news\"><a class=\"card-full-news _subrubric\" href=\"/news/2023/10/24/ychitel_zp/\"><h3 class=\"card-full-news__title\">В России захотели поднять зарплату учителям</h3><div class=\"card-full-news__info\"><time class=\"card-full-news__info-item card-full-news__date\">08:30, 24 октября 2023</time><span class=\"card-full-news__info-item card-full-news__rubric\">Россия</span></div></a></li>,\n <li class=\"rubric-page__item _news\"><a class=\"card-full-news _subrubric\" href=\"/news/2023/10/24/v-rossii-soglasovali-pravki-v-uchebnik-istorii-v-razdel-o-repressiyah/\"><h3 class=\"card-full-news__title\">В России согласовали правки в учебник истории в раздел о репрессиях</h3><div class=\"card-full-news__info\"><time class=\"card-full-news__info-item card-full-news__date\">07:37, 24 октября 2023</time><span class=\"card-full-news__info-item card-full-news__rubric\">Россия</span></div></a></li>,\n <li class=\"rubric-page__item _news\"><a class=\"card-full-news _subrubric\" href=\"/news/2023/10/24/v-rossii-predlozhili-sokratit-reklamu-azartnyh-igr/\"><h3 class=\"card-full-news__title\">В России предложили сократить рекламу азартных игр</h3><div class=\"card-full-news__info\"><time class=\"card-full-news__info-item card-full-news__date\">06:49, 24 октября 2023</time><span class=\"card-full-news__info-item card-full-news__rubric\">Россия</span></div></a></li>,\n <li class=\"rubric-page__item _news\"><a class=\"card-full-news _subrubric\" href=\"/news/2023/10/24/povyshenii_yanvarya_2024/\"><h3 class=\"card-full-news__title\">Россиянам рассказали о резком росте выплат по беременности</h3><div class=\"card-full-news__info\"><time class=\"card-full-news__info-item card-full-news__date\">05:30, 24 октября 2023</time><span class=\"card-full-news__info-item card-full-news__rubric\">Россия</span></div></a></li>,\n <li class=\"rubric-page__item _news\"><a class=\"card-full-news _subrubric\" href=\"/news/2023/10/24/nekotorye-rossiyane-poluchat-polnuyu-kompensatsiyu-pensiy-s-noyabrya/\"><h3 class=\"card-full-news__title\">Некоторые россияне получат полную компенсацию пенсий с ноября</h3><div class=\"card-full-news__info\"><time class=\"card-full-news__info-item card-full-news__date\">02:56, 24 октября 2023</time><span class=\"card-full-news__info-item card-full-news__rubric\">Россия</span></div></a></li>,\n <li class=\"rubric-page__item _news\"><a class=\"card-full-news _subrubric\" href=\"/news/2023/10/23/otseplenie-vozle-gosdumy-snyali/\"><h3 class=\"card-full-news__title\">Оцепление возле здания Госдумы сняли</h3><div class=\"card-full-news__info\"><time class=\"card-full-news__info-item card-full-news__date\">22:22, 23 октября 2023</time><span class=\"card-full-news__info-item card-full-news__rubric\">Россия</span></div></a></li>,\n <li class=\"rubric-page__item _news\"><a class=\"card-full-news _subrubric\" href=\"/news/2023/10/23/v-rossii-uchitelnitsa-zasudila-roditeley-shkolnika-iz-za-foto-s-domashnim-zadaniem/\"><h3 class=\"card-full-news__title\">В России учительница засудила родителей школьника из-за фото с домашним заданием</h3><div class=\"card-full-news__info\"><time class=\"card-full-news__info-item card-full-news__date\">20:17, 23 октября 2023</time><span class=\"card-full-news__info-item card-full-news__rubric\">Россия</span></div></a></li>,\n <li class=\"rubric-page__item _news\"><a class=\"card-full-news _subrubric\" href=\"/news/2023/10/23/arktika7/\"><h3 class=\"card-full-news__title\">Опубликована программа Международного форума «Арктика: настоящее и будущее»</h3><div class=\"card-full-news__info\"><time class=\"card-full-news__info-item card-full-news__date\">20:02, 23 октября 2023</time><span class=\"card-full-news__info-item card-full-news__rubric\">Россия</span></div></a></li>,\n <li class=\"rubric-page__item _news\"><a class=\"card-full-news _subrubric\" href=\"/news/2023/10/23/vozle-gosdumy-poyavilos-politseyskoe-otseplenie-s-kinologami/\"><h3 class=\"card-full-news__title\">Возле Госдумы появилось полицейское оцепление с кинологами</h3><div class=\"card-full-news__info\"><time class=\"card-full-news__info-item card-full-news__date\">19:27, 23 октября 2023</time><span class=\"card-full-news__info-item card-full-news__rubric\">Россия</span></div></a></li>,\n <li class=\"rubric-page__item _news\"><a class=\"card-full-news _subrubric\" href=\"/news/2023/10/23/shoygu-zayavil-o-postavkah-v-zonu-svo-tysyach-tonn-boepripasov-i-topliva-v-den/\"><h3 class=\"card-full-news__title\">Шойгу заявил о поставках в зону СВО тысяч тонн боеприпасов и топлива в день</h3><div class=\"card-full-news__info\"><time class=\"card-full-news__info-item card-full-news__date\">18:28, 23 октября 2023</time><span class=\"card-full-news__info-item card-full-news__rubric\">Россия</span></div></a></li>,\n <li class=\"rubric-page__item _news\"><a class=\"card-full-news _subrubric\" href=\"/news/2023/10/23/blogitogi/\"><h3 class=\"card-full-news__title\">Подведены итоги конкурса на создание контента в блогосфере</h3><div class=\"card-full-news__info\"><time class=\"card-full-news__info-item card-full-news__date\">18:24, 23 октября 2023</time><span class=\"card-full-news__info-item card-full-news__rubric\">Россия</span></div></a></li>,\n <li class=\"rubric-page__item _news\"><a class=\"card-full-news _subrubric\" href=\"/news/2023/10/23/nazvana-data-ii-chteniya-popravok-o-prezidentskih-vyborah-pri-voennom-polozhenii/\"><h3 class=\"card-full-news__title\">Названа дата II чтения поправок о президентских выборах при военном положении</h3><div class=\"card-full-news__info\"><time class=\"card-full-news__info-item card-full-news__date\">18:09, 23 октября 2023</time><span class=\"card-full-news__info-item card-full-news__rubric\">Россия</span></div></a></li>,\n <li class=\"rubric-page__item _news\"><a class=\"card-full-news _subrubric\" href=\"/news/2023/10/23/deputata-gosdumy-prizvali-proverit-za-slova-ob-unichtozhenii-20-protsentov-rossiyan/\"><h3 class=\"card-full-news__title\">Депутата Госдумы призвали проверить за слова об уничтожении 20 процентов россиян</h3><div class=\"card-full-news__info\"><time class=\"card-full-news__info-item card-full-news__date\">17:43, 23 октября 2023</time><span class=\"card-full-news__info-item card-full-news__rubric\">Россия</span></div></a></li>,\n <li class=\"rubric-page__item _news\"><a class=\"card-full-news _subrubric\" href=\"/news/2023/10/23/dostizheniya/\"><h3 class=\"card-full-news__title\">Все субъекты России покажут достижения на Международной выставке-форуме «Россия»</h3><div class=\"card-full-news__info\"><time class=\"card-full-news__info-item card-full-news__date\">16:58, 23 октября 2023</time><span class=\"card-full-news__info-item card-full-news__rubric\">Россия</span></div></a></li>,\n <li class=\"rubric-page__item _news\"><a class=\"card-full-news _subrubric\" href=\"/news/2023/10/23/pod-peterburgom-assenizator-utroil-dtp-zalil-dorogu-fekaliyami-i-popal-na-video/\"><h3 class=\"card-full-news__title\">Под Петербургом ассенизатор устроил ДТП, залил дорогу фекалиями и попал на видео</h3><div class=\"card-full-news__info\"><time class=\"card-full-news__info-item card-full-news__date\">16:32, 23 октября 2023</time><span class=\"card-full-news__info-item card-full-news__rubric\">Россия</span><svg class=\"card-full-news__info-item card-full-news__play\"><use xlink:href=\"#ui-play\"></use></svg></div></a></li>,\n <li class=\"rubric-page__item _news\"><a class=\"card-full-news _subrubric\" href=\"/news/2023/10/23/sistema-pvo-srabotala-nad-esche-odnim-rossiyskim-regionom/\"><h3 class=\"card-full-news__title\">Система ПВО сработала над еще одним российским регионом</h3><div class=\"card-full-news__info\"><time class=\"card-full-news__info-item card-full-news__date\">16:28, 23 октября 2023</time><span class=\"card-full-news__info-item card-full-news__rubric\">Россия</span></div></a></li>,\n <li class=\"rubric-page__item _news\"><a class=\"card-full-news _subrubric\" href=\"/news/2023/10/23/izbityy-v-chechne-advokat-nemov-poluchil-orden/\"><h3 class=\"card-full-news__title\">Избитый в Чечне адвокат Немов получил орден</h3><div class=\"card-full-news__info\"><time class=\"card-full-news__info-item card-full-news__date\">15:52, 23 октября 2023</time><span class=\"card-full-news__info-item card-full-news__rubric\">Россия</span></div></a></li>,\n <li class=\"rubric-page__item _news\"><a class=\"card-full-news _subrubric\" href=\"/news/2023/10/23/komitet-gosdumy-odobril-popravki-o-vyborah-prezidenta-pri-voennom-polozhenii/\"><h3 class=\"card-full-news__title\">Комитет Госдумы одобрил поправки о выборах президента при военном положении</h3><div class=\"card-full-news__info\"><time class=\"card-full-news__info-item card-full-news__date\">15:29, 23 октября 2023</time><span class=\"card-full-news__info-item card-full-news__rubric\">Россия</span></div></a></li>,\n <li class=\"rubric-page__item _news\"><a class=\"card-full-news _subrubric\" href=\"/news/2023/10/23/poyavilos-video-raboty-sredstv-pvo-v-nebe-nad-rostovskoy-oblastyu/\"><h3 class=\"card-full-news__title\">Появилось видео работы средств ПВО в небе над Ростовской областью</h3><div class=\"card-full-news__info\"><time class=\"card-full-news__info-item card-full-news__date\">15:24, 23 октября 2023</time><span class=\"card-full-news__info-item card-full-news__rubric\">Россия</span><svg class=\"card-full-news__info-item card-full-news__play\"><use xlink:href=\"#ui-play\"></use></svg></div></a></li>,\n <li class=\"rubric-page__item _news\"><a class=\"card-full-news _subrubric\" href=\"/news/2023/10/23/gintsburg-anonsiroval-issledovaniya-obnovlennogo-sputnika-v-s-uchastiem-detey/\"><h3 class=\"card-full-news__title\">Гинцбург анонсировал исследования обновленного «Спутника V» с участием детей</h3><div class=\"card-full-news__info\"><time class=\"card-full-news__info-item card-full-news__date\">15:20, 23 октября 2023</time><span class=\"card-full-news__info-item card-full-news__rubric\">Россия</span></div></a></li>,\n <li class=\"rubric-page__item _news\"><a class=\"card-full-news _subrubric\" href=\"/news/2023/10/23/v-rossiyskom-regione-predpriyatiya-poprosili-otkazatsya-ot-prazdnovaniya-hellouina/\"><h3 class=\"card-full-news__title\">В российском регионе предприятия попросили отказаться от празднования Хеллоуина</h3><div class=\"card-full-news__info\"><time class=\"card-full-news__info-item card-full-news__date\">15:08, 23 октября 2023</time><span class=\"card-full-news__info-item card-full-news__rubric\">Россия</span></div></a></li>,\n <li class=\"rubric-page__item _news\"><a class=\"card-full-news _subrubric\" href=\"/news/2023/10/23/infektsionist-nazval-usloviya-vvoda-v-oborot-obnovlennoy-vaktsiny-sputnik-v/\"><h3 class=\"card-full-news__title\">Инфекционист назвал условия ввода в оборот обновленной вакцины «Спутник V»</h3><div class=\"card-full-news__info\"><time class=\"card-full-news__info-item card-full-news__date\">15:03, 23 октября 2023</time><span class=\"card-full-news__info-item card-full-news__rubric\">Россия</span></div></a></li>,\n <li class=\"rubric-page__item _news\"><a class=\"card-full-news _subrubric\" href=\"/news/2023/10/23/sputnikv/\"><h3 class=\"card-full-news__title\">«Спутник V» перестал защищать от новых вариантов коронавируса. Почему вакцины не работают, а пандемия не уходит?</h3><div class=\"card-full-news__info\"><time class=\"card-full-news__info-item card-full-news__date\">14:52, 23 октября 2023</time><span class=\"card-full-news__info-item card-full-news__rubric\">Россия</span><svg class=\"card-full-news__info-item card-full-news__super-news\"><use xlink:href=\"#ui-super-news\"></use></svg></div></a></li>,\n <li class=\"rubric-page__item _news\"><a class=\"card-full-news _subrubric\" href=\"/news/2023/10/23/migrmol/\"><h3 class=\"card-full-news__title\">Россиянка рассказала о молельном доме в жилой многоэтажке в Котельниках</h3><div class=\"card-full-news__info\"><time class=\"card-full-news__info-item card-full-news__date\">14:18, 23 октября 2023</time><span class=\"card-full-news__info-item card-full-news__rubric\">Россия</span></div></a></li>,\n <li class=\"rubric-page__item _news\"><a class=\"card-full-news _subrubric\" href=\"/news/2023/10/23/massovaya-draka-rossiyskih-shkolnikov-popala-na-video/\"><h3 class=\"card-full-news__title\">Массовая драка российских школьников попала на видео</h3><div class=\"card-full-news__info\"><time class=\"card-full-news__info-item card-full-news__date\">14:06, 23 октября 2023</time><span class=\"card-full-news__info-item card-full-news__rubric\">Россия</span><svg class=\"card-full-news__info-item card-full-news__play\"><use xlink:href=\"#ui-play\"></use></svg></div></a></li>,\n <li class=\"rubric-page__item _news\"><a class=\"card-full-news _subrubric\" href=\"/news/2023/10/23/piki/\"><h3 class=\"card-full-news__title\">Иммунолог спрогнозировал пики коронавируса в России</h3><div class=\"card-full-news__info\"><time class=\"card-full-news__info-item card-full-news__date\">13:58, 23 октября 2023</time><span class=\"card-full-news__info-item card-full-news__rubric\">Россия</span></div></a></li>,\n <li class=\"rubric-page__item _news\"><a class=\"card-full-news _subrubric\" href=\"/news/2023/10/23/minzdrav-i-voz-dogovorilis-o-sovmestnyh-meropriyatiyah-na-territorii-rossii/\"><h3 class=\"card-full-news__title\">Минздрав и ВОЗ договорились о совместных мероприятиях на территории России</h3><div class=\"card-full-news__info\"><time class=\"card-full-news__info-item card-full-news__date\">13:54, 23 октября 2023</time><span class=\"card-full-news__info-item card-full-news__rubric\">Россия</span></div></a></li>,\n <li class=\"rubric-page__item _news\"><a class=\"card-full-news _subrubric\" href=\"/news/2023/10/23/komissiya-sochla-igroy-izbienie-rossiyskim-kadetom-odnoklassnika/\"><h3 class=\"card-full-news__title\">Комиссия сочла игрой избиение российским кадетом одноклассника</h3><div class=\"card-full-news__info\"><time class=\"card-full-news__info-item card-full-news__date\">13:23, 23 октября 2023</time><span class=\"card-full-news__info-item card-full-news__rubric\">Россия</span></div></a></li>,\n <li class=\"rubric-page__item _news\"><a class=\"card-full-news _subrubric\" href=\"/news/2023/10/28/rossiyskih-medikov-zahoteli-osvobodit-ot-dopolnitelnyh-obyazannostey/\"><h3 class=\"card-full-news__title\">Российских медиков захотели освободить от дополнительных обязанностей</h3><div class=\"card-full-news__info\"><time class=\"card-full-news__info-item card-full-news__date\">20:18</time><span class=\"card-full-news__info-item card-full-news__rubric\">Россия</span></div></a></li>,\n <li class=\"rubric-page__item _news\"><a class=\"card-full-news _subrubric\" href=\"/news/2023/10/28/stalo-izvestno-o-vozmozhnom-prizyve-rossiyskih-srochnikov-v-pogranvoyska/\"><h3 class=\"card-full-news__title\">Стало известно о возможном призыве российских срочников в погранвойска</h3><div class=\"card-full-news__info\"><time class=\"card-full-news__info-item card-full-news__date\">16:28</time><span class=\"card-full-news__info-item card-full-news__rubric\">Россия</span></div></a></li>,\n <li class=\"rubric-page__item _news\"><a class=\"card-full-news _subrubric\" href=\"/news/2023/10/28/vnuchka-hruscheva-zayavila-o-prevoshodyaschey-karibskiy-krizis-yadernoy-ugroze/\"><h3 class=\"card-full-news__title\">Внучка Хрущева заявила о превосходящей Карибский кризис ядерной угрозе</h3><div class=\"card-full-news__info\"><time class=\"card-full-news__info-item card-full-news__date\">16:06</time><span class=\"card-full-news__info-item card-full-news__rubric\">Россия</span></div></a></li>,\n <li class=\"rubric-page__item _news\"><a class=\"card-full-news _subrubric\" href=\"/news/2023/10/28/covid_opasnost/\"><h3 class=\"card-full-news__title\">Названо самое опасное последствие распространенного в 2023 году штамма COVID-19</h3><div class=\"card-full-news__info\"><time class=\"card-full-news__info-item card-full-news__date\">15:06</time><span class=\"card-full-news__info-item card-full-news__rubric\">Россия</span></div></a></li>,\n <li class=\"rubric-page__item _news\"><a class=\"card-full-news _subrubric\" href=\"/news/2023/10/28/stalo-izvestno-o-massovom-perehode-boytsov-chvk-vagner-v-odno-podrazdelenie/\"><h3 class=\"card-full-news__title\">Стало известно о массовом переходе бойцов ЧВК «Вагнер» в одно подразделение</h3><div class=\"card-full-news__info\"><time class=\"card-full-news__info-item card-full-news__date\">15:02</time><span class=\"card-full-news__info-item card-full-news__rubric\">Россия</span></div></a></li>,\n <li class=\"rubric-page__item _news\"><a class=\"card-full-news _subrubric\" href=\"/news/2023/10/28/v-regionah-rossii-zafiksirovali-pod-em-zabolevaemosti-grippom-i-covid-19/\"><h3 class=\"card-full-news__title\">В регионах России зафиксировали подъем заболеваемости гриппом и COVID-19</h3><div class=\"card-full-news__info\"><time class=\"card-full-news__info-item card-full-news__date\">14:24</time><span class=\"card-full-news__info-item card-full-news__rubric\">Россия</span></div></a></li>,\n <li class=\"rubric-page__item _news\"><a class=\"card-full-news _subrubric\" href=\"/news/2023/10/28/v-gosdume-rasskazali-o-statuse-popravok-k-zakonu-ob-abortah/\"><h3 class=\"card-full-news__title\">В Госдуме рассказали о статусе поправок к закону об абортах</h3><div class=\"card-full-news__info\"><time class=\"card-full-news__info-item card-full-news__date\">13:08</time><span class=\"card-full-news__info-item card-full-news__rubric\">Россия</span></div></a></li>,\n <li class=\"rubric-page__item _news\"><a class=\"card-full-news _subrubric\" href=\"/news/2023/10/28/rossiyskie-voyska-sbili-ukrainskiy-shturmovoy-samolet/\"><h3 class=\"card-full-news__title\">Российские войска сбили украинский штурмовой самолет</h3><div class=\"card-full-news__info\"><time class=\"card-full-news__info-item card-full-news__date\">09:50</time><span class=\"card-full-news__info-item card-full-news__rubric\">Россия</span></div></a></li>,\n <li class=\"rubric-page__item _news\"><a class=\"card-full-news _subrubric\" href=\"/news/2023/10/28/v-mvd-otsenili-vozmozhnost-vydachi-elektronnyh-pasportov-v-rossii/\"><h3 class=\"card-full-news__title\">В МВД оценили возможность выдачи электронных паспортов в России</h3><div class=\"card-full-news__info\"><time class=\"card-full-news__info-item card-full-news__date\">06:17</time><span class=\"card-full-news__info-item card-full-news__rubric\">Россия</span></div></a></li>,\n <li class=\"rubric-page__item _news\"><a class=\"card-full-news _subrubric\" href=\"/news/2023/10/28/grpp/\"><h3 class=\"card-full-news__title\">Стало известно о пристрастии москвичей к лечению гриппа народными средствами</h3><div class=\"card-full-news__info\"><time class=\"card-full-news__info-item card-full-news__date\">04:05</time><span class=\"card-full-news__info-item card-full-news__rubric\">Россия</span></div></a></li>,\n ...]"
     },
     "execution_count": 9,
     "metadata": {},
     "output_type": "execute_result"
    }
   ],
   "source": [
    "pages"
   ],
   "metadata": {
    "collapsed": false
   }
  },
  {
   "cell_type": "code",
   "execution_count": null,
   "metadata": {
    "scrolled": true,
    "id": "M42AfMsIXP0A",
    "colab": {
     "base_uri": "https://localhost:8080/"
    },
    "outputId": "bfad0c4c-4afd-4e95-f42a-f86262db736d",
    "is_executing": true
   },
   "outputs": [
    {
     "name": "stderr",
     "output_type": "stream",
     "text": [
      " 47%|████▋     | 6513/13790 [10:33:14<12:07:42,  6.00s/it]"
     ]
    }
   ],
   "source": [
    "# parse each page and get desired attributes\n",
    "   # few pages are differ significantly from others\n",
    "# using try/except we can ignore them\n",
    "data, topics_order_fixed = [], []\n",
    "for num, page in enumerate(tqdm(pages)):\n",
    "    try:\n",
    "        res = parse_page(page)\n",
    "        data.append(res)\n",
    "        topics_order_fixed.append(topics_order[num])\n",
    "    except:\n",
    "        pass\n",
    "\n",
    "driver.close()"
   ]
  },
  {
   "cell_type": "code",
   "execution_count": null,
   "metadata": {
    "id": "58a2LzszXP0A",
    "colab": {
     "base_uri": "https://localhost:8080/",
     "height": 53
    },
    "outputId": "66a067c7-7944-48bd-a3e7-cd07bb437f4d",
    "is_executing": true
   },
   "outputs": [],
   "source": [
    "df = pd.DataFrame(data=data)\n",
    "df['topic'] = topics_order_fixed\n",
    "df"
   ]
  },
  {
   "cell_type": "code",
   "execution_count": null,
   "outputs": [],
   "source": [
    "df[df.duplicated()]"
   ],
   "metadata": {
    "collapsed": false,
    "is_executing": true
   }
  },
  {
   "cell_type": "code",
   "execution_count": null,
   "outputs": [],
   "source": [
    "topics_order"
   ],
   "metadata": {
    "collapsed": false,
    "is_executing": true
   }
  },
  {
   "cell_type": "code",
   "execution_count": null,
   "metadata": {
    "id": "B4CAS9goXP0B",
    "is_executing": true
   },
   "outputs": [],
   "source": [
    "df.to_pickle('df_4_6_8.p', compression='gzip')"
   ]
  },
  {
   "cell_type": "markdown",
   "metadata": {
    "id": "CNbblhfPXP0B"
   },
   "source": [
    "---"
   ]
  }
 ],
 "metadata": {
  "interpreter": {
   "hash": "403959ecd139c89f35081fab3d0ca535dfc149adc8a1d47a6d44f830632776ba"
  },
  "kernelspec": {
   "display_name": "Python 3 (ipykernel)",
   "language": "python",
   "name": "python3"
  },
  "language_info": {
   "codemirror_mode": {
    "name": "ipython",
    "version": 3
   },
   "file_extension": ".py",
   "mimetype": "text/x-python",
   "name": "python",
   "nbconvert_exporter": "python",
   "pygments_lexer": "ipython3",
   "version": "3.9.13"
  },
  "colab": {
   "provenance": []
  }
 },
 "nbformat": 4,
 "nbformat_minor": 0
}
