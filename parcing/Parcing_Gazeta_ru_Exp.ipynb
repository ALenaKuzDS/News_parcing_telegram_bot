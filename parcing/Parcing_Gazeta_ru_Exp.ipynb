{
 "cells": [
  {
   "cell_type": "markdown",
   "metadata": {
    "id": "Jj02ygTIXPz-"
   },
   "source": [
    "### Часть 1.1\n",
    "### Реализация парсера"
   ]
  },
  {
   "cell_type": "code",
   "execution_count": 17,
   "metadata": {
    "id": "sLvaFNoGXPz-",
    "ExecuteTime": {
     "end_time": "2023-11-01T02:05:17.690053100Z",
     "start_time": "2023-11-01T02:05:15.767707700Z"
    }
   },
   "outputs": [
    {
     "name": "stderr",
     "output_type": "stream",
     "text": [
      "[nltk_data] Downloading package stopwords to\n",
      "[nltk_data]     C:\\Users\\kukof\\AppData\\Roaming\\nltk_data...\n",
      "[nltk_data]   Package stopwords is already up-to-date!\n"
     ]
    }
   ],
   "source": [
    "import time\n",
    "from tqdm import tqdm\n",
    "from bs4 import BeautifulSoup\n",
    "from selenium import webdriver\n",
    "from dataclasses import dataclass\n",
    "import seaborn as sns\n",
    "import pandas as pd\n",
    "import random\n",
    "import requests\n",
    "import nltk\n",
    "nltk.download(\"stopwords\")\n",
    "\n",
    "sns.set(style=\"darkgrid\")\n",
    "%matplotlib inline"
   ]
  },
  {
   "cell_type": "code",
   "execution_count": 18,
   "outputs": [],
   "source": [
    "DEPTH = 20\n",
    "SLEEP = random.randint(1,5)\n",
    "BASE_URL = 'https://www.gazeta.ru/'\n",
    "TOPICS = ['politics' , 'social', 'army', 'culture', 'science', 'family', 'tech', 'style', 'business', 'civilization']"
   ],
   "metadata": {
    "collapsed": false,
    "ExecuteTime": {
     "end_time": "2023-11-01T02:05:17.729063Z",
     "start_time": "2023-11-01T02:05:17.706052900Z"
    }
   }
  },
  {
   "cell_type": "markdown",
   "source": [
    "\n"
   ],
   "metadata": {
    "collapsed": false
   }
  },
  {
   "cell_type": "code",
   "execution_count": 19,
   "metadata": {
    "id": "12FLG9pcXPz_",
    "ExecuteTime": {
     "end_time": "2023-11-01T02:05:20.403061300Z",
     "start_time": "2023-11-01T02:05:17.724068400Z"
    }
   },
   "outputs": [],
   "source": [
    "@dataclass\n",
    "class Article:\n",
    "    id: str = None\n",
    "    url: str = None\n",
    "    source: str = None\n",
    "    title: str = None\n",
    "    content: str = None\n",
    "    datetime: str = None"
   ]
  },
  {
   "cell_type": "code",
   "execution_count": 20,
   "metadata": {
    "id": "WkccHzEPXPz_",
    "ExecuteTime": {
     "end_time": "2023-11-01T02:06:08.829767300Z",
     "start_time": "2023-11-01T02:05:18.457066200Z"
    }
   },
   "outputs": [],
   "source": [
    "# set webdriver params\n",
    "chrome_options = webdriver.ChromeOptions()\n",
    "chrome_options.add_argument('headless')\n",
    "chrome_options.add_argument('no-sandbox')\n",
    "chrome_options.add_argument('disable-dev-shm-usage')\n",
    "driver = webdriver.Chrome(options=chrome_options)\n",
    "\n",
    "# driver = webdriver.Chrome('./chromedriver')"
   ]
  },
  {
   "cell_type": "code",
   "execution_count": 21,
   "metadata": {
    "id": "97RgMNehXPz_"
   },
   "outputs": [],
   "source": [
    "def get_pages():\n",
    "\n",
    "    \"\"\"Load and scroll pages\"\"\"\n",
    "\n",
    "    items, topics_order = [], []\n",
    "\n",
    "    for topic in tqdm(TOPICS):\n",
    "        try:\n",
    "            old_size = len(items)\n",
    "            URL = BASE_URL + topic\n",
    "            driver.get(URL)\n",
    "            time.sleep(SLEEP)\n",
    "\n",
    "     # We can adjust this number to get more posts\n",
    "            last_height = driver.execute_script(\"return document.body.scrollHeight\")\n",
    "\n",
    "            NUM_SCROLLS = 5000\n",
    "\n",
    "            for i in range(NUM_SCROLLS):\n",
    "\n",
    "                driver.execute_script(\"window.scrollTo(0, document.body.scrollHeight);\")\n",
    "                time.sleep(SLEEP)\n",
    "                driver.execute_script(\"document.getElementsByClassName('b_showmorebtn')[0].click()\")\n",
    "                time.sleep(SLEEP)\n",
    "\n",
    "                new_height = driver.execute_script(\"return document.body.scrollHeight\")\n",
    "                if new_height == last_height:\n",
    "                    break\n",
    "                last_height = new_height\n",
    "\n",
    "            html = driver.page_source\n",
    "            soup = BeautifulSoup(html, \"html.parser\")\n",
    "            items += soup.find_all('a', {'class' : 'b_ear'})\n",
    "            new_size = len(items)\n",
    "            if new_size > old_size:\n",
    "                topics_order.extend([topic] * (new_size - old_size))\n",
    "\n",
    "        except:\n",
    "            pass\n",
    "\n",
    "    return items, topics_order\n",
    "\n"
   ]
  },
  {
   "cell_type": "code",
   "execution_count": 22,
   "metadata": {
    "id": "sV-n6jw9XP0A",
    "ExecuteTime": {
     "end_time": "2023-11-01T02:06:09.351742500Z",
     "start_time": "2023-11-01T02:06:09.119744200Z"
    }
   },
   "outputs": [],
   "source": [
    "def parse_page(page):\n",
    "    \"\"\"Extract from page desired fields\"\"\"\n",
    "\n",
    "    # Create article data class object\n",
    "    article = Article()\n",
    "\n",
    "    # article id\n",
    "    article.id = page['href']\n",
    "\n",
    "    # article url\n",
    "    article.url = 'https://www.gazeta.ru' + article.id\n",
    "\n",
    "    # load page\n",
    "    driver.get(article.url)\n",
    "    time.sleep(random.randint(1,5))\n",
    "    html = driver.page_source\n",
    "\n",
    "    #soup = BeautifulSoup(html, \"html.parser\")\n",
    "    response = requests.get(article.url)\n",
    "    soup = BeautifulSoup(response.content, 'html.parser', from_encoding='utf-8')\n",
    "\n",
    "    # article source\n",
    "    article.source = article.url[12: article.url.find('.')]\n",
    "\n",
    "    # process article title\n",
    "    article.title = soup.find('h1', {'class': 'headline'}).text\n",
    "\n",
    "\n",
    "    # article content\n",
    "    article.content = soup.find('div', {'class': 'b_article-text'}).text\n",
    "\n",
    "    # article datetime\n",
    "    str_ = soup.find('time', {'class': 'time'})['datetime']\n",
    "    article.datetime = str_[:str_.find('T')]\n",
    "\n",
    "    return article"
   ]
  },
  {
   "cell_type": "code",
   "execution_count": 23,
   "metadata": {
    "id": "fRINr7HSXP0A",
    "colab": {
     "base_uri": "https://localhost:8080/"
    },
    "outputId": "298bd668-15fb-4433-de44-b931cb7851e3",
    "ExecuteTime": {
     "end_time": "2023-11-01T03:47:21.796726200Z",
     "start_time": "2023-11-01T02:06:09.354739500Z"
    }
   },
   "outputs": [
    {
     "name": "stderr",
     "output_type": "stream",
     "text": [
      "100%|██████████| 10/10 [1:41:12<00:00, 607.23s/it]\n"
     ]
    }
   ],
   "source": [
    "\n",
    "# get pages and topics\n",
    "pages, topics_order = get_pages()\n",
    "# with open('pages.txt', 'w') as f:\n",
    "#     for page in pages:\n",
    "#         f.write(\"%s\\n\" % page)"
   ]
  },
  {
   "cell_type": "code",
   "execution_count": 24,
   "outputs": [
    {
     "data": {
      "text/plain": "3989"
     },
     "execution_count": 24,
     "metadata": {},
     "output_type": "execute_result"
    }
   ],
   "source": [
    "len(pages)"
   ],
   "metadata": {
    "collapsed": false,
    "ExecuteTime": {
     "end_time": "2023-11-01T03:47:22.582726100Z",
     "start_time": "2023-11-01T03:47:21.844723200Z"
    }
   }
  },
  {
   "cell_type": "code",
   "execution_count": 25,
   "metadata": {
    "scrolled": true,
    "id": "M42AfMsIXP0A",
    "colab": {
     "base_uri": "https://localhost:8080/"
    },
    "outputId": "bfad0c4c-4afd-4e95-f42a-f86262db736d",
    "ExecuteTime": {
     "end_time": "2023-11-02T04:30:21.312337200Z",
     "start_time": "2023-11-01T03:47:22.684724700Z"
    }
   },
   "outputs": [
    {
     "name": "stderr",
     "output_type": "stream",
     "text": [
      "100%|██████████| 3989/3989 [24:42:57<00:00, 22.31s/it]    \n"
     ]
    }
   ],
   "source": [
    "# parse each page and get desired attributes\n",
    "   # few pages are differ significantly from others\n",
    "# using try/except we can ignore them\n",
    "data, topics_order_fixed = [], []\n",
    "for num, page in enumerate(tqdm(pages)):\n",
    "    try:\n",
    "        res = parse_page(page)\n",
    "        data.append(res)\n",
    "        topics_order_fixed.append(topics_order[num])\n",
    "    except:\n",
    "        pass\n",
    "\n",
    "driver.close()"
   ]
  },
  {
   "cell_type": "code",
   "execution_count": 33,
   "metadata": {
    "id": "58a2LzszXP0A",
    "colab": {
     "base_uri": "https://localhost:8080/",
     "height": 53
    },
    "outputId": "66a067c7-7944-48bd-a3e7-cd07bb437f4d",
    "ExecuteTime": {
     "end_time": "2023-11-03T16:16:33.736448500Z",
     "start_time": "2023-11-03T16:16:31.446108Z"
    }
   },
   "outputs": [
    {
     "data": {
      "text/plain": "                                            id  \\\n0     /politics/news/2023/11/01/21617029.shtml   \n1     /politics/news/2023/11/01/21616981.shtml   \n2     /politics/news/2023/11/01/21617005.shtml   \n3     /politics/news/2023/11/01/21616933.shtml   \n4     /politics/news/2023/11/01/21616951.shtml   \n...                                        ...   \n3496  /comments/column/articles/17803639.shtml   \n3497      /comments/column/bovt/17796697.shtml   \n3498  /comments/column/articles/17791651.shtml   \n3499  /comments/column/articles/17787793.shtml   \n3500           /column/yardaeva/17781439.shtml   \n\n                                                    url source  \\\n0     https://www.gazeta.ru/politics/news/2023/11/01...          \n1     https://www.gazeta.ru/politics/news/2023/11/01...          \n2     https://www.gazeta.ru/politics/news/2023/11/01...          \n3     https://www.gazeta.ru/politics/news/2023/11/01...          \n4     https://www.gazeta.ru/politics/news/2023/11/01...          \n...                                                 ...    ...   \n3496  https://www.gazeta.ru/comments/column/articles...          \n3497  https://www.gazeta.ru/comments/column/bovt/177...          \n3498  https://www.gazeta.ru/comments/column/articles...          \n3499  https://www.gazeta.ru/comments/column/articles...          \n3500  https://www.gazeta.ru/column/yardaeva/17781439...          \n\n                                                  title  \\\n0     Верховный суд впервые за 100 лет обновит понят...   \n1     Белый дом: Байден наложит вето на законопроект...   \n2     В США заявили, что Вашингтон не даст закончить...   \n3     Венесуэла осудила удар Израиля по лагерю бежен...   \n4           Колумбия и Чили отзывают послов из Израиля    \n...                                                 ...   \n3496                Почему говорить «падик» — не кринж    \n3497       Выпишет ли Америка Украине чек на $60 млрд?    \n3498  «Параллельная реальность». Почему школьники не...   \n3499                               Ориентация на Китай    \n3500                Иностранные языки больше не нужны?    \n\n                                                content    datetime     topic  \n0     Пленум Верховного суда (ВС) готовит постановле...  2023-11-01  politics  \n1     В случае, если палата представителей конгресса...  2023-11-01  politics  \n2     Экс-советник Пентагона полковник в отставке Ду...  2023-11-01  politics  \n3     Венесуэла решительно осуждает удар Армии оборо...  2023-11-01  politics  \n4     Президент Колумбии Густаво Петро заявил в соцс...  2023-11-01  politics  \n...                                                 ...         ...       ...  \n3496  \\n«Ну я же тебе не Хатико, чтоб вечно ждать те...  2023-10-31   science  \n3497  \\nАдминистрация Джо Байдена запросила дополнит...  2023-10-30   science  \n3498  \\nЕсли люди — это новая нефть, то молодежь — э...  2023-10-28   science  \n3499  \\nРоссиян всегда интересовали инструменты, защ...  2023-10-27   science  \n3500  \\nРособрнадзор отменил в школах всероссийские ...  2023-10-26   science  \n\n[3501 rows x 7 columns]",
      "text/html": "<div>\n<style scoped>\n    .dataframe tbody tr th:only-of-type {\n        vertical-align: middle;\n    }\n\n    .dataframe tbody tr th {\n        vertical-align: top;\n    }\n\n    .dataframe thead th {\n        text-align: right;\n    }\n</style>\n<table border=\"1\" class=\"dataframe\">\n  <thead>\n    <tr style=\"text-align: right;\">\n      <th></th>\n      <th>id</th>\n      <th>url</th>\n      <th>source</th>\n      <th>title</th>\n      <th>content</th>\n      <th>datetime</th>\n      <th>topic</th>\n    </tr>\n  </thead>\n  <tbody>\n    <tr>\n      <th>0</th>\n      <td>/politics/news/2023/11/01/21617029.shtml</td>\n      <td>https://www.gazeta.ru/politics/news/2023/11/01...</td>\n      <td></td>\n      <td>Верховный суд впервые за 100 лет обновит понят...</td>\n      <td>Пленум Верховного суда (ВС) готовит постановле...</td>\n      <td>2023-11-01</td>\n      <td>politics</td>\n    </tr>\n    <tr>\n      <th>1</th>\n      <td>/politics/news/2023/11/01/21616981.shtml</td>\n      <td>https://www.gazeta.ru/politics/news/2023/11/01...</td>\n      <td></td>\n      <td>Белый дом: Байден наложит вето на законопроект...</td>\n      <td>В случае, если палата представителей конгресса...</td>\n      <td>2023-11-01</td>\n      <td>politics</td>\n    </tr>\n    <tr>\n      <th>2</th>\n      <td>/politics/news/2023/11/01/21617005.shtml</td>\n      <td>https://www.gazeta.ru/politics/news/2023/11/01...</td>\n      <td></td>\n      <td>В США заявили, что Вашингтон не даст закончить...</td>\n      <td>Экс-советник Пентагона полковник в отставке Ду...</td>\n      <td>2023-11-01</td>\n      <td>politics</td>\n    </tr>\n    <tr>\n      <th>3</th>\n      <td>/politics/news/2023/11/01/21616933.shtml</td>\n      <td>https://www.gazeta.ru/politics/news/2023/11/01...</td>\n      <td></td>\n      <td>Венесуэла осудила удар Израиля по лагерю бежен...</td>\n      <td>Венесуэла решительно осуждает удар Армии оборо...</td>\n      <td>2023-11-01</td>\n      <td>politics</td>\n    </tr>\n    <tr>\n      <th>4</th>\n      <td>/politics/news/2023/11/01/21616951.shtml</td>\n      <td>https://www.gazeta.ru/politics/news/2023/11/01...</td>\n      <td></td>\n      <td>Колумбия и Чили отзывают послов из Израиля</td>\n      <td>Президент Колумбии Густаво Петро заявил в соцс...</td>\n      <td>2023-11-01</td>\n      <td>politics</td>\n    </tr>\n    <tr>\n      <th>...</th>\n      <td>...</td>\n      <td>...</td>\n      <td>...</td>\n      <td>...</td>\n      <td>...</td>\n      <td>...</td>\n      <td>...</td>\n    </tr>\n    <tr>\n      <th>3496</th>\n      <td>/comments/column/articles/17803639.shtml</td>\n      <td>https://www.gazeta.ru/comments/column/articles...</td>\n      <td></td>\n      <td>Почему говорить «падик» — не кринж</td>\n      <td>\\n«Ну я же тебе не Хатико, чтоб вечно ждать те...</td>\n      <td>2023-10-31</td>\n      <td>science</td>\n    </tr>\n    <tr>\n      <th>3497</th>\n      <td>/comments/column/bovt/17796697.shtml</td>\n      <td>https://www.gazeta.ru/comments/column/bovt/177...</td>\n      <td></td>\n      <td>Выпишет ли Америка Украине чек на $60 млрд?</td>\n      <td>\\nАдминистрация Джо Байдена запросила дополнит...</td>\n      <td>2023-10-30</td>\n      <td>science</td>\n    </tr>\n    <tr>\n      <th>3498</th>\n      <td>/comments/column/articles/17791651.shtml</td>\n      <td>https://www.gazeta.ru/comments/column/articles...</td>\n      <td></td>\n      <td>«Параллельная реальность». Почему школьники не...</td>\n      <td>\\nЕсли люди — это новая нефть, то молодежь — э...</td>\n      <td>2023-10-28</td>\n      <td>science</td>\n    </tr>\n    <tr>\n      <th>3499</th>\n      <td>/comments/column/articles/17787793.shtml</td>\n      <td>https://www.gazeta.ru/comments/column/articles...</td>\n      <td></td>\n      <td>Ориентация на Китай</td>\n      <td>\\nРоссиян всегда интересовали инструменты, защ...</td>\n      <td>2023-10-27</td>\n      <td>science</td>\n    </tr>\n    <tr>\n      <th>3500</th>\n      <td>/column/yardaeva/17781439.shtml</td>\n      <td>https://www.gazeta.ru/column/yardaeva/17781439...</td>\n      <td></td>\n      <td>Иностранные языки больше не нужны?</td>\n      <td>\\nРособрнадзор отменил в школах всероссийские ...</td>\n      <td>2023-10-26</td>\n      <td>science</td>\n    </tr>\n  </tbody>\n</table>\n<p>3501 rows × 7 columns</p>\n</div>"
     },
     "execution_count": 33,
     "metadata": {},
     "output_type": "execute_result"
    }
   ],
   "source": [
    "df_gazeta = pd.DataFrame(data=data)\n",
    "df_gazeta['topic'] = topics_order_fixed\n",
    "df_gazeta"
   ]
  },
  {
   "cell_type": "code",
   "execution_count": 77,
   "outputs": [
    {
     "data": {
      "text/plain": "(0, 3501)"
     },
     "execution_count": 77,
     "metadata": {},
     "output_type": "execute_result"
    }
   ],
   "source": [
    "df_gazeta.duplicated().sum(), len(df_gazeta.drop_duplicates())"
   ],
   "metadata": {
    "collapsed": false,
    "ExecuteTime": {
     "end_time": "2023-11-03T16:40:59.329021100Z",
     "start_time": "2023-11-03T16:40:58.658949500Z"
    }
   }
  },
  {
   "cell_type": "code",
   "execution_count": 79,
   "outputs": [
    {
     "data": {
      "text/plain": "                                            id  \\\n0     /politics/news/2023/11/01/21617029.shtml   \n1     /politics/news/2023/11/01/21616981.shtml   \n2     /politics/news/2023/11/01/21617005.shtml   \n3     /politics/news/2023/11/01/21616933.shtml   \n4     /politics/news/2023/11/01/21616951.shtml   \n...                                        ...   \n3496  /comments/column/articles/17803639.shtml   \n3497      /comments/column/bovt/17796697.shtml   \n3498  /comments/column/articles/17791651.shtml   \n3499  /comments/column/articles/17787793.shtml   \n3500           /column/yardaeva/17781439.shtml   \n\n                                                    url  source  \\\n0     https://www.gazeta.ru/politics/news/2023/11/01...  gazeta   \n1     https://www.gazeta.ru/politics/news/2023/11/01...  gazeta   \n2     https://www.gazeta.ru/politics/news/2023/11/01...  gazeta   \n3     https://www.gazeta.ru/politics/news/2023/11/01...  gazeta   \n4     https://www.gazeta.ru/politics/news/2023/11/01...  gazeta   \n...                                                 ...     ...   \n3496  https://www.gazeta.ru/comments/column/articles...  gazeta   \n3497  https://www.gazeta.ru/comments/column/bovt/177...  gazeta   \n3498  https://www.gazeta.ru/comments/column/articles...  gazeta   \n3499  https://www.gazeta.ru/comments/column/articles...  gazeta   \n3500  https://www.gazeta.ru/column/yardaeva/17781439...  gazeta   \n\n                                                  title  \\\n0     Верховный суд впервые за 100 лет обновит понят...   \n1     Белый дом: Байден наложит вето на законопроект...   \n2     В США заявили, что Вашингтон не даст закончить...   \n3     Венесуэла осудила удар Израиля по лагерю бежен...   \n4           Колумбия и Чили отзывают послов из Израиля    \n...                                                 ...   \n3496                Почему говорить «падик» — не кринж    \n3497       Выпишет ли Америка Украине чек на $60 млрд?    \n3498  «Параллельная реальность». Почему школьники не...   \n3499                               Ориентация на Китай    \n3500                Иностранные языки больше не нужны?    \n\n                                                content    datetime     topic  \n0     Пленум Верховного суда (ВС) готовит постановле...  2023-11-01  politics  \n1     В случае, если палата представителей конгресса...  2023-11-01  politics  \n2     Экс-советник Пентагона полковник в отставке Ду...  2023-11-01  politics  \n3     Венесуэла решительно осуждает удар Армии оборо...  2023-11-01  politics  \n4     Президент Колумбии Густаво Петро заявил в соцс...  2023-11-01  politics  \n...                                                 ...         ...       ...  \n3496  \\n«Ну я же тебе не Хатико, чтоб вечно ждать те...  2023-10-31   science  \n3497  \\nАдминистрация Джо Байдена запросила дополнит...  2023-10-30   science  \n3498  \\nЕсли люди — это новая нефть, то молодежь — э...  2023-10-28   science  \n3499  \\nРоссиян всегда интересовали инструменты, защ...  2023-10-27   science  \n3500  \\nРособрнадзор отменил в школах всероссийские ...  2023-10-26   science  \n\n[3501 rows x 7 columns]",
      "text/html": "<div>\n<style scoped>\n    .dataframe tbody tr th:only-of-type {\n        vertical-align: middle;\n    }\n\n    .dataframe tbody tr th {\n        vertical-align: top;\n    }\n\n    .dataframe thead th {\n        text-align: right;\n    }\n</style>\n<table border=\"1\" class=\"dataframe\">\n  <thead>\n    <tr style=\"text-align: right;\">\n      <th></th>\n      <th>id</th>\n      <th>url</th>\n      <th>source</th>\n      <th>title</th>\n      <th>content</th>\n      <th>datetime</th>\n      <th>topic</th>\n    </tr>\n  </thead>\n  <tbody>\n    <tr>\n      <th>0</th>\n      <td>/politics/news/2023/11/01/21617029.shtml</td>\n      <td>https://www.gazeta.ru/politics/news/2023/11/01...</td>\n      <td>gazeta</td>\n      <td>Верховный суд впервые за 100 лет обновит понят...</td>\n      <td>Пленум Верховного суда (ВС) готовит постановле...</td>\n      <td>2023-11-01</td>\n      <td>politics</td>\n    </tr>\n    <tr>\n      <th>1</th>\n      <td>/politics/news/2023/11/01/21616981.shtml</td>\n      <td>https://www.gazeta.ru/politics/news/2023/11/01...</td>\n      <td>gazeta</td>\n      <td>Белый дом: Байден наложит вето на законопроект...</td>\n      <td>В случае, если палата представителей конгресса...</td>\n      <td>2023-11-01</td>\n      <td>politics</td>\n    </tr>\n    <tr>\n      <th>2</th>\n      <td>/politics/news/2023/11/01/21617005.shtml</td>\n      <td>https://www.gazeta.ru/politics/news/2023/11/01...</td>\n      <td>gazeta</td>\n      <td>В США заявили, что Вашингтон не даст закончить...</td>\n      <td>Экс-советник Пентагона полковник в отставке Ду...</td>\n      <td>2023-11-01</td>\n      <td>politics</td>\n    </tr>\n    <tr>\n      <th>3</th>\n      <td>/politics/news/2023/11/01/21616933.shtml</td>\n      <td>https://www.gazeta.ru/politics/news/2023/11/01...</td>\n      <td>gazeta</td>\n      <td>Венесуэла осудила удар Израиля по лагерю бежен...</td>\n      <td>Венесуэла решительно осуждает удар Армии оборо...</td>\n      <td>2023-11-01</td>\n      <td>politics</td>\n    </tr>\n    <tr>\n      <th>4</th>\n      <td>/politics/news/2023/11/01/21616951.shtml</td>\n      <td>https://www.gazeta.ru/politics/news/2023/11/01...</td>\n      <td>gazeta</td>\n      <td>Колумбия и Чили отзывают послов из Израиля</td>\n      <td>Президент Колумбии Густаво Петро заявил в соцс...</td>\n      <td>2023-11-01</td>\n      <td>politics</td>\n    </tr>\n    <tr>\n      <th>...</th>\n      <td>...</td>\n      <td>...</td>\n      <td>...</td>\n      <td>...</td>\n      <td>...</td>\n      <td>...</td>\n      <td>...</td>\n    </tr>\n    <tr>\n      <th>3496</th>\n      <td>/comments/column/articles/17803639.shtml</td>\n      <td>https://www.gazeta.ru/comments/column/articles...</td>\n      <td>gazeta</td>\n      <td>Почему говорить «падик» — не кринж</td>\n      <td>\\n«Ну я же тебе не Хатико, чтоб вечно ждать те...</td>\n      <td>2023-10-31</td>\n      <td>science</td>\n    </tr>\n    <tr>\n      <th>3497</th>\n      <td>/comments/column/bovt/17796697.shtml</td>\n      <td>https://www.gazeta.ru/comments/column/bovt/177...</td>\n      <td>gazeta</td>\n      <td>Выпишет ли Америка Украине чек на $60 млрд?</td>\n      <td>\\nАдминистрация Джо Байдена запросила дополнит...</td>\n      <td>2023-10-30</td>\n      <td>science</td>\n    </tr>\n    <tr>\n      <th>3498</th>\n      <td>/comments/column/articles/17791651.shtml</td>\n      <td>https://www.gazeta.ru/comments/column/articles...</td>\n      <td>gazeta</td>\n      <td>«Параллельная реальность». Почему школьники не...</td>\n      <td>\\nЕсли люди — это новая нефть, то молодежь — э...</td>\n      <td>2023-10-28</td>\n      <td>science</td>\n    </tr>\n    <tr>\n      <th>3499</th>\n      <td>/comments/column/articles/17787793.shtml</td>\n      <td>https://www.gazeta.ru/comments/column/articles...</td>\n      <td>gazeta</td>\n      <td>Ориентация на Китай</td>\n      <td>\\nРоссиян всегда интересовали инструменты, защ...</td>\n      <td>2023-10-27</td>\n      <td>science</td>\n    </tr>\n    <tr>\n      <th>3500</th>\n      <td>/column/yardaeva/17781439.shtml</td>\n      <td>https://www.gazeta.ru/column/yardaeva/17781439...</td>\n      <td>gazeta</td>\n      <td>Иностранные языки больше не нужны?</td>\n      <td>\\nРособрнадзор отменил в школах всероссийские ...</td>\n      <td>2023-10-26</td>\n      <td>science</td>\n    </tr>\n  </tbody>\n</table>\n<p>3501 rows × 7 columns</p>\n</div>"
     },
     "execution_count": 79,
     "metadata": {},
     "output_type": "execute_result"
    }
   ],
   "source": [
    "df_gazeta.source = df_gazeta.url.str[12:18]\n",
    "df_gazeta"
   ],
   "metadata": {
    "collapsed": false,
    "ExecuteTime": {
     "end_time": "2023-11-03T16:41:06.295927500Z",
     "start_time": "2023-11-03T16:41:06.221767200Z"
    }
   }
  },
  {
   "cell_type": "code",
   "execution_count": 80,
   "outputs": [],
   "source": [
    "df_gazeta.to_pickle('df_gazeta.p', compression='gzip')"
   ],
   "metadata": {
    "collapsed": false,
    "ExecuteTime": {
     "end_time": "2023-11-03T16:41:26.300735Z",
     "start_time": "2023-11-03T16:41:08.840608800Z"
    }
   }
  }
 ],
 "metadata": {
  "interpreter": {
   "hash": "403959ecd139c89f35081fab3d0ca535dfc149adc8a1d47a6d44f830632776ba"
  },
  "kernelspec": {
   "display_name": "Python 3 (ipykernel)",
   "language": "python",
   "name": "python3"
  },
  "language_info": {
   "codemirror_mode": {
    "name": "ipython",
    "version": 3
   },
   "file_extension": ".py",
   "mimetype": "text/x-python",
   "name": "python",
   "nbconvert_exporter": "python",
   "pygments_lexer": "ipython3",
   "version": "3.9.13"
  },
  "colab": {
   "provenance": []
  }
 },
 "nbformat": 4,
 "nbformat_minor": 0
}
