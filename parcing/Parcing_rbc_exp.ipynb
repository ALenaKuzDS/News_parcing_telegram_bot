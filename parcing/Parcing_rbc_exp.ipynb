{
 "cells": [
  {
   "cell_type": "markdown",
   "metadata": {
    "id": "Jj02ygTIXPz-"
   },
   "source": [
    "### Часть 1.1\n",
    "### Реализация парсера"
   ]
  },
  {
   "cell_type": "code",
   "execution_count": 1,
   "metadata": {
    "id": "sLvaFNoGXPz-",
    "ExecuteTime": {
     "end_time": "2023-11-04T15:47:10.492861200Z",
     "start_time": "2023-11-04T15:47:08.401457100Z"
    }
   },
   "outputs": [
    {
     "name": "stderr",
     "output_type": "stream",
     "text": [
      "[nltk_data] Downloading package stopwords to\n",
      "[nltk_data]     C:\\Users\\kukof\\AppData\\Roaming\\nltk_data...\n",
      "[nltk_data]   Package stopwords is already up-to-date!\n"
     ]
    }
   ],
   "source": [
    "import time\n",
    "from tqdm import tqdm\n",
    "from bs4 import BeautifulSoup\n",
    "from selenium import webdriver\n",
    "from dataclasses import dataclass\n",
    "import seaborn as sns\n",
    "import pandas as pd\n",
    "import random\n",
    "import requests\n",
    "import nltk\n",
    "nltk.download(\"stopwords\")\n",
    "\n",
    "sns.set(style=\"darkgrid\")\n",
    "%matplotlib inline"
   ]
  },
  {
   "cell_type": "code",
   "execution_count": 2,
   "outputs": [],
   "source": [
    "SLEEP = random.randint(1,5)\n",
    "BASE_URL = 'https://www.rbc.ru/'\n",
    "TOPICS = ['economics','politics' , 'society']"
   ],
   "metadata": {
    "collapsed": false,
    "ExecuteTime": {
     "end_time": "2023-11-04T15:47:10.510462100Z",
     "start_time": "2023-11-04T15:47:10.499092Z"
    }
   }
  },
  {
   "cell_type": "markdown",
   "source": [
    "\n"
   ],
   "metadata": {
    "collapsed": false
   }
  },
  {
   "cell_type": "code",
   "execution_count": 3,
   "metadata": {
    "id": "12FLG9pcXPz_",
    "ExecuteTime": {
     "end_time": "2023-11-04T15:47:10.581477Z",
     "start_time": "2023-11-04T15:47:10.511461Z"
    }
   },
   "outputs": [],
   "source": [
    "@dataclass\n",
    "class Article:\n",
    "    id: str = None\n",
    "    url: str = None\n",
    "    source: str = None\n",
    "    title: str = None\n",
    "    content: str = None\n",
    "    datetime: str = None"
   ]
  },
  {
   "cell_type": "code",
   "execution_count": 4,
   "metadata": {
    "id": "WkccHzEPXPz_",
    "ExecuteTime": {
     "end_time": "2023-11-04T15:47:13.688037700Z",
     "start_time": "2023-11-04T15:47:10.522459700Z"
    }
   },
   "outputs": [],
   "source": [
    "# set webdriver params\n",
    "chrome_options = webdriver.ChromeOptions()\n",
    "chrome_options.add_argument('headless')\n",
    "chrome_options.add_argument('no-sandbox')\n",
    "chrome_options.add_argument('disable-dev-shm-usage')\n",
    "driver = webdriver.Chrome(options=chrome_options)\n",
    "\n",
    "# driver = webdriver.Chrome('./chromedriver')"
   ]
  },
  {
   "cell_type": "code",
   "execution_count": 5,
   "metadata": {
    "id": "97RgMNehXPz_",
    "ExecuteTime": {
     "end_time": "2023-11-04T15:47:13.697848500Z",
     "start_time": "2023-11-04T15:47:13.691034400Z"
    }
   },
   "outputs": [],
   "source": [
    "def get_pages():\n",
    "\n",
    "    \"\"\"Load and scroll pages\"\"\"\n",
    "\n",
    "    items, topics_order = [], []\n",
    "\n",
    "    for topic in tqdm(TOPICS):\n",
    "        try:\n",
    "            old_size = len(items)\n",
    "            URL = BASE_URL + topic\n",
    "            driver.get(URL)\n",
    "            time.sleep(SLEEP)\n",
    "\n",
    "     # We can adjust this number to get more posts\n",
    "            last_height = driver.execute_script(\"return document.body.scrollHeight\")\n",
    "\n",
    "            NUM_SCROLLS = 100000\n",
    "\n",
    "            for i in range(NUM_SCROLLS):\n",
    "\n",
    "                driver.execute_script(\"window.scrollTo(0, document.body.scrollHeight);\")\n",
    "                time.sleep(SLEEP)\n",
    "\n",
    "                new_height = driver.execute_script(\"return document.body.scrollHeight\")\n",
    "                if new_height == last_height:\n",
    "                    break\n",
    "                last_height = new_height\n",
    "\n",
    "            html = driver.page_source\n",
    "            soup = BeautifulSoup(html, \"html.parser\")\n",
    "            items += soup.find_all('a', {'class' : 'item__link rm-cm-item-link js-rm-central-column-item-link'})\n",
    "\n",
    "            new_size = len(items)\n",
    "            if new_size > old_size:\n",
    "                topics_order.extend([topic] * (new_size - old_size))\n",
    "\n",
    "        except:\n",
    "            pass\n",
    "\n",
    "    return items, topics_order\n",
    "\n"
   ]
  },
  {
   "cell_type": "code",
   "execution_count": 6,
   "metadata": {
    "id": "sV-n6jw9XP0A",
    "ExecuteTime": {
     "end_time": "2023-11-04T15:47:13.718827100Z",
     "start_time": "2023-11-04T15:47:13.703185500Z"
    }
   },
   "outputs": [],
   "source": [
    "def parse_page(page):\n",
    "    \"\"\"Extract from page desired fields\"\"\"\n",
    "\n",
    "    # Create article data class object\n",
    "    article = Article()\n",
    "\n",
    "    # article id\n",
    "    article.url = page['href']\n",
    "\n",
    "    # article url\n",
    "    article.id = article.url\n",
    "\n",
    "    # load page\n",
    "    driver.get(article.url)\n",
    "    time.sleep(random.randint(1,5))\n",
    "    html = driver.page_source\n",
    "\n",
    "    response = requests.get(article.url)\n",
    "    soup = BeautifulSoup(response.content, 'html.parser', from_encoding='utf-8')\n",
    "\n",
    "    # article source\n",
    "    article.source = article.url[12:15]\n",
    "\n",
    "    # process article title\n",
    "    article.title = soup.find('h1', {'class': 'article__header__title-in js-slide-title'}).text\n",
    "\n",
    "\n",
    "    # article content\n",
    "    article.content = soup.find('div', {'class': 'article__text article__text_free'}).text\n",
    "\n",
    "    # article datetime\n",
    "    str_ = soup.find('time', {'class': 'article__header__date'})['datetime']\n",
    "    article.datetime = str_[:str_.find('T')]\n",
    "\n",
    "    return article\n"
   ]
  },
  {
   "cell_type": "code",
   "execution_count": 7,
   "metadata": {
    "id": "fRINr7HSXP0A",
    "colab": {
     "base_uri": "https://localhost:8080/"
    },
    "outputId": "298bd668-15fb-4433-de44-b931cb7851e3",
    "ExecuteTime": {
     "end_time": "2023-11-04T15:49:20.778734900Z",
     "start_time": "2023-11-04T15:47:13.712567900Z"
    }
   },
   "outputs": [
    {
     "name": "stderr",
     "output_type": "stream",
     "text": [
      "100%|██████████| 3/3 [02:07<00:00, 42.35s/it]\n"
     ]
    }
   ],
   "source": [
    "\n",
    "\n",
    "# get pages and topics\n",
    "pages, topics_order = get_pages()\n",
    "# with open('pages.txt', 'w') as f:\n",
    "#     for page in pages:\n",
    "#         f.write(\"%s\\n\" % page)"
   ]
  },
  {
   "cell_type": "code",
   "execution_count": 8,
   "outputs": [
    {
     "data": {
      "text/plain": "600"
     },
     "execution_count": 8,
     "metadata": {},
     "output_type": "execute_result"
    }
   ],
   "source": [
    "len(pages)"
   ],
   "metadata": {
    "collapsed": false,
    "ExecuteTime": {
     "end_time": "2023-11-04T15:49:20.824495100Z",
     "start_time": "2023-11-04T15:49:20.779732600Z"
    }
   }
  },
  {
   "cell_type": "code",
   "execution_count": 9,
   "metadata": {
    "scrolled": true,
    "id": "M42AfMsIXP0A",
    "colab": {
     "base_uri": "https://localhost:8080/"
    },
    "outputId": "bfad0c4c-4afd-4e95-f42a-f86262db736d",
    "ExecuteTime": {
     "end_time": "2023-11-04T16:34:53.550095800Z",
     "start_time": "2023-11-04T15:49:20.800149900Z"
    }
   },
   "outputs": [
    {
     "name": "stderr",
     "output_type": "stream",
     "text": [
      "100%|██████████| 600/600 [45:32<00:00,  4.55s/it] \n"
     ]
    }
   ],
   "source": [
    "# parse each page and get desired attributes\n",
    "   # few pages are differ significantly from others\n",
    "# using try/except we can ignore them\n",
    "data, topics_order_fixed = [], []\n",
    "for num, page in enumerate(tqdm(pages)):\n",
    "    try:\n",
    "        res = parse_page(page)\n",
    "        data.append(res)\n",
    "        topics_order_fixed.append(topics_order[num])\n",
    "    except:\n",
    "        pass\n",
    "\n",
    "driver.close()"
   ]
  },
  {
   "cell_type": "code",
   "execution_count": 10,
   "metadata": {
    "id": "58a2LzszXP0A",
    "colab": {
     "base_uri": "https://localhost:8080/",
     "height": 53
    },
    "outputId": "66a067c7-7944-48bd-a3e7-cd07bb437f4d",
    "ExecuteTime": {
     "end_time": "2023-11-04T16:34:53.672375300Z",
     "start_time": "2023-11-04T16:34:53.563973600Z"
    }
   },
   "outputs": [
    {
     "data": {
      "text/plain": "                                                    id  \\\n0    https://www.rbc.ru/rbcfreenews/6546558b9a79475...   \n1    https://www.rbc.ru/economics/04/11/2023/65464a...   \n2    https://www.rbc.ru/economics/04/11/2023/654635...   \n3    https://www.rbc.ru/economics/04/11/2023/65460e...   \n4    https://www.rbc.ru/economics/04/11/2023/654368...   \n..                                                 ...   \n592  https://www.rbc.ru/rbcfreenews/653b76d39a7947f...   \n593  https://www.rbc.ru/photoreport/27/10/2023/653b...   \n594  https://www.rbc.ru/rbcfreenews/653b69909a7947d...   \n595  https://www.rbc.ru/rbcfreenews/653b5a5a9a79474...   \n596  https://www.rbc.ru/rbcfreenews/653b5a799a79474...   \n\n                                                   url source  \\\n0    https://www.rbc.ru/rbcfreenews/6546558b9a79475...    rbc   \n1    https://www.rbc.ru/economics/04/11/2023/65464a...    rbc   \n2    https://www.rbc.ru/economics/04/11/2023/654635...    rbc   \n3    https://www.rbc.ru/economics/04/11/2023/65460e...    rbc   \n4    https://www.rbc.ru/economics/04/11/2023/654368...    rbc   \n..                                                 ...    ...   \n592  https://www.rbc.ru/rbcfreenews/653b76d39a7947f...    rbc   \n593  https://www.rbc.ru/photoreport/27/10/2023/653b...    rbc   \n594  https://www.rbc.ru/rbcfreenews/653b69909a7947d...    rbc   \n595  https://www.rbc.ru/rbcfreenews/653b5a5a9a79474...    rbc   \n596  https://www.rbc.ru/rbcfreenews/653b5a799a79474...    rbc   \n\n                                                 title  \\\n0    \\n                    Песков ответил на слова ...   \n1    \\n                    Фон дер Ляйен раскрыла д...   \n2    \\n                    Абрамченко анонсировала ...   \n3    \\n                    Хуснуллин заявил о беспо...   \n4    \\n                    Как бизнес сократил изно...   \n..                                                 ...   \n592  \\n                    В Якутии запретили празд...   \n593  \\n                    Снегопад в Москве. Фотор...   \n594  \\n                    Кадры первого снега в Мо...   \n595  \\n                    В Якутске произошел силь...   \n596  \\n                    Синоптик рассказал, скол...   \n\n                                               content    datetime      topic  \n0    \\n\\n\\n\\n\\n\\n\\n\\n\\n\\n\\n\\n\\n\\n\\n\\n\\n\\n\\n\\n\\n\\n\\n...  2023-11-04  economics  \n1    \\n\\nБрюссель введет новые ограничения на экспо...  2023-11-04  economics  \n2    \\n\\nПри этом введение новых ограничений на экс...  2023-11-04  economics  \n3    \\n\\nРост цен на стройматериалы вызывает беспок...  2023-11-04  economics  \n4    \\n\\n\\n\\n\\n\\n\\n\\n\\n\\n\\n\\n\\n\\n\\n\\n\\n\\n\\n\\n\\n\\n\\n...  2023-11-04  economics  \n..                                                 ...         ...        ...  \n592  \\n\\n\\n\\n\\n\\n\\n\\n\\n\\n\\n\\n\\n\\n\\n\\n\\n\\n\\n\\n\\n\\n\\n...  2023-10-27    society  \n593  \\n\\nВ Москве и области прошел сильный снег с д...  2023-10-27    society  \n594  \\n \\n\\n\\n\\n\\n\\n \\n\\n\\n\\n\\n\\n\\n\\n\\n\\n\\n\\n\\n\\n\\n...  2023-10-27    society  \n595  \\n \\n\\n\\n\\n\\n\\n \\n\\n\\n\\n\\n\\n\\n\\n\\n\\n\\n\\n\\n\\n\\n...  2023-10-27    society  \n596  \\n\\n\\n\\n\\n\\n\\n\\n\\n\\n\\n\\n\\n\\n\\n\\n\\n\\n\\n\\n\\n\\n\\n...  2023-10-27    society  \n\n[597 rows x 7 columns]",
      "text/html": "<div>\n<style scoped>\n    .dataframe tbody tr th:only-of-type {\n        vertical-align: middle;\n    }\n\n    .dataframe tbody tr th {\n        vertical-align: top;\n    }\n\n    .dataframe thead th {\n        text-align: right;\n    }\n</style>\n<table border=\"1\" class=\"dataframe\">\n  <thead>\n    <tr style=\"text-align: right;\">\n      <th></th>\n      <th>id</th>\n      <th>url</th>\n      <th>source</th>\n      <th>title</th>\n      <th>content</th>\n      <th>datetime</th>\n      <th>topic</th>\n    </tr>\n  </thead>\n  <tbody>\n    <tr>\n      <th>0</th>\n      <td>https://www.rbc.ru/rbcfreenews/6546558b9a79475...</td>\n      <td>https://www.rbc.ru/rbcfreenews/6546558b9a79475...</td>\n      <td>rbc</td>\n      <td>\\n                    Песков ответил на слова ...</td>\n      <td>\\n\\n\\n\\n\\n\\n\\n\\n\\n\\n\\n\\n\\n\\n\\n\\n\\n\\n\\n\\n\\n\\n\\n...</td>\n      <td>2023-11-04</td>\n      <td>economics</td>\n    </tr>\n    <tr>\n      <th>1</th>\n      <td>https://www.rbc.ru/economics/04/11/2023/65464a...</td>\n      <td>https://www.rbc.ru/economics/04/11/2023/65464a...</td>\n      <td>rbc</td>\n      <td>\\n                    Фон дер Ляйен раскрыла д...</td>\n      <td>\\n\\nБрюссель введет новые ограничения на экспо...</td>\n      <td>2023-11-04</td>\n      <td>economics</td>\n    </tr>\n    <tr>\n      <th>2</th>\n      <td>https://www.rbc.ru/economics/04/11/2023/654635...</td>\n      <td>https://www.rbc.ru/economics/04/11/2023/654635...</td>\n      <td>rbc</td>\n      <td>\\n                    Абрамченко анонсировала ...</td>\n      <td>\\n\\nПри этом введение новых ограничений на экс...</td>\n      <td>2023-11-04</td>\n      <td>economics</td>\n    </tr>\n    <tr>\n      <th>3</th>\n      <td>https://www.rbc.ru/economics/04/11/2023/65460e...</td>\n      <td>https://www.rbc.ru/economics/04/11/2023/65460e...</td>\n      <td>rbc</td>\n      <td>\\n                    Хуснуллин заявил о беспо...</td>\n      <td>\\n\\nРост цен на стройматериалы вызывает беспок...</td>\n      <td>2023-11-04</td>\n      <td>economics</td>\n    </tr>\n    <tr>\n      <th>4</th>\n      <td>https://www.rbc.ru/economics/04/11/2023/654368...</td>\n      <td>https://www.rbc.ru/economics/04/11/2023/654368...</td>\n      <td>rbc</td>\n      <td>\\n                    Как бизнес сократил изно...</td>\n      <td>\\n\\n\\n\\n\\n\\n\\n\\n\\n\\n\\n\\n\\n\\n\\n\\n\\n\\n\\n\\n\\n\\n\\n...</td>\n      <td>2023-11-04</td>\n      <td>economics</td>\n    </tr>\n    <tr>\n      <th>...</th>\n      <td>...</td>\n      <td>...</td>\n      <td>...</td>\n      <td>...</td>\n      <td>...</td>\n      <td>...</td>\n      <td>...</td>\n    </tr>\n    <tr>\n      <th>592</th>\n      <td>https://www.rbc.ru/rbcfreenews/653b76d39a7947f...</td>\n      <td>https://www.rbc.ru/rbcfreenews/653b76d39a7947f...</td>\n      <td>rbc</td>\n      <td>\\n                    В Якутии запретили празд...</td>\n      <td>\\n\\n\\n\\n\\n\\n\\n\\n\\n\\n\\n\\n\\n\\n\\n\\n\\n\\n\\n\\n\\n\\n\\n...</td>\n      <td>2023-10-27</td>\n      <td>society</td>\n    </tr>\n    <tr>\n      <th>593</th>\n      <td>https://www.rbc.ru/photoreport/27/10/2023/653b...</td>\n      <td>https://www.rbc.ru/photoreport/27/10/2023/653b...</td>\n      <td>rbc</td>\n      <td>\\n                    Снегопад в Москве. Фотор...</td>\n      <td>\\n\\nВ Москве и области прошел сильный снег с д...</td>\n      <td>2023-10-27</td>\n      <td>society</td>\n    </tr>\n    <tr>\n      <th>594</th>\n      <td>https://www.rbc.ru/rbcfreenews/653b69909a7947d...</td>\n      <td>https://www.rbc.ru/rbcfreenews/653b69909a7947d...</td>\n      <td>rbc</td>\n      <td>\\n                    Кадры первого снега в Мо...</td>\n      <td>\\n \\n\\n\\n\\n\\n\\n \\n\\n\\n\\n\\n\\n\\n\\n\\n\\n\\n\\n\\n\\n\\n...</td>\n      <td>2023-10-27</td>\n      <td>society</td>\n    </tr>\n    <tr>\n      <th>595</th>\n      <td>https://www.rbc.ru/rbcfreenews/653b5a5a9a79474...</td>\n      <td>https://www.rbc.ru/rbcfreenews/653b5a5a9a79474...</td>\n      <td>rbc</td>\n      <td>\\n                    В Якутске произошел силь...</td>\n      <td>\\n \\n\\n\\n\\n\\n\\n \\n\\n\\n\\n\\n\\n\\n\\n\\n\\n\\n\\n\\n\\n\\n...</td>\n      <td>2023-10-27</td>\n      <td>society</td>\n    </tr>\n    <tr>\n      <th>596</th>\n      <td>https://www.rbc.ru/rbcfreenews/653b5a799a79474...</td>\n      <td>https://www.rbc.ru/rbcfreenews/653b5a799a79474...</td>\n      <td>rbc</td>\n      <td>\\n                    Синоптик рассказал, скол...</td>\n      <td>\\n\\n\\n\\n\\n\\n\\n\\n\\n\\n\\n\\n\\n\\n\\n\\n\\n\\n\\n\\n\\n\\n\\n...</td>\n      <td>2023-10-27</td>\n      <td>society</td>\n    </tr>\n  </tbody>\n</table>\n<p>597 rows × 7 columns</p>\n</div>"
     },
     "execution_count": 10,
     "metadata": {},
     "output_type": "execute_result"
    }
   ],
   "source": [
    "df_rbc = pd.DataFrame(data=data)\n",
    "df_rbc['topic'] = topics_order_fixed\n",
    "df_rbc"
   ]
  },
  {
   "cell_type": "code",
   "execution_count": 11,
   "outputs": [
    {
     "data": {
      "text/plain": "(0, 597)"
     },
     "execution_count": 11,
     "metadata": {},
     "output_type": "execute_result"
    }
   ],
   "source": [
    "\n",
    "df_rbc.duplicated().sum(), len(df_rbc.drop_duplicates())"
   ],
   "metadata": {
    "collapsed": false,
    "ExecuteTime": {
     "end_time": "2023-11-04T16:34:53.791260300Z",
     "start_time": "2023-11-04T16:34:53.662750800Z"
    }
   }
  },
  {
   "cell_type": "code",
   "execution_count": 12,
   "outputs": [],
   "source": [
    "df_rbc.to_pickle('df_rbc.p', compression='gzip')"
   ],
   "metadata": {
    "collapsed": false,
    "ExecuteTime": {
     "end_time": "2023-11-04T16:34:54.350468Z",
     "start_time": "2023-11-04T16:34:53.710430100Z"
    }
   }
  },
  {
   "cell_type": "code",
   "execution_count": 13,
   "outputs": [
    {
     "data": {
      "text/plain": "                                                    id  \\\n0    https://www.rbc.ru/rbcfreenews/6546558b9a79475...   \n1    https://www.rbc.ru/economics/04/11/2023/65464a...   \n2    https://www.rbc.ru/economics/04/11/2023/654635...   \n3    https://www.rbc.ru/economics/04/11/2023/65460e...   \n4    https://www.rbc.ru/economics/04/11/2023/654368...   \n..                                                 ...   \n592  https://www.rbc.ru/rbcfreenews/653b76d39a7947f...   \n593  https://www.rbc.ru/photoreport/27/10/2023/653b...   \n594  https://www.rbc.ru/rbcfreenews/653b69909a7947d...   \n595  https://www.rbc.ru/rbcfreenews/653b5a5a9a79474...   \n596  https://www.rbc.ru/rbcfreenews/653b5a799a79474...   \n\n                                                   url source  \\\n0    https://www.rbc.ru/rbcfreenews/6546558b9a79475...    rbc   \n1    https://www.rbc.ru/economics/04/11/2023/65464a...    rbc   \n2    https://www.rbc.ru/economics/04/11/2023/654635...    rbc   \n3    https://www.rbc.ru/economics/04/11/2023/65460e...    rbc   \n4    https://www.rbc.ru/economics/04/11/2023/654368...    rbc   \n..                                                 ...    ...   \n592  https://www.rbc.ru/rbcfreenews/653b76d39a7947f...    rbc   \n593  https://www.rbc.ru/photoreport/27/10/2023/653b...    rbc   \n594  https://www.rbc.ru/rbcfreenews/653b69909a7947d...    rbc   \n595  https://www.rbc.ru/rbcfreenews/653b5a5a9a79474...    rbc   \n596  https://www.rbc.ru/rbcfreenews/653b5a799a79474...    rbc   \n\n                                                 title  \\\n0    \\n                    Песков ответил на слова ...   \n1    \\n                    Фон дер Ляйен раскрыла д...   \n2    \\n                    Абрамченко анонсировала ...   \n3    \\n                    Хуснуллин заявил о беспо...   \n4    \\n                    Как бизнес сократил изно...   \n..                                                 ...   \n592  \\n                    В Якутии запретили празд...   \n593  \\n                    Снегопад в Москве. Фотор...   \n594  \\n                    Кадры первого снега в Мо...   \n595  \\n                    В Якутске произошел силь...   \n596  \\n                    Синоптик рассказал, скол...   \n\n                                               content    datetime      topic  \n0    \\n\\n\\n\\n\\n\\n\\n\\n\\n\\n\\n\\n\\n\\n\\n\\n\\n\\n\\n\\n\\n\\n\\n...  2023-11-04  economics  \n1    \\n\\nБрюссель введет новые ограничения на экспо...  2023-11-04  economics  \n2    \\n\\nПри этом введение новых ограничений на экс...  2023-11-04  economics  \n3    \\n\\nРост цен на стройматериалы вызывает беспок...  2023-11-04  economics  \n4    \\n\\n\\n\\n\\n\\n\\n\\n\\n\\n\\n\\n\\n\\n\\n\\n\\n\\n\\n\\n\\n\\n\\n...  2023-11-04  economics  \n..                                                 ...         ...        ...  \n592  \\n\\n\\n\\n\\n\\n\\n\\n\\n\\n\\n\\n\\n\\n\\n\\n\\n\\n\\n\\n\\n\\n\\n...  2023-10-27    society  \n593  \\n\\nВ Москве и области прошел сильный снег с д...  2023-10-27    society  \n594  \\n \\n\\n\\n\\n\\n\\n \\n\\n\\n\\n\\n\\n\\n\\n\\n\\n\\n\\n\\n\\n\\n...  2023-10-27    society  \n595  \\n \\n\\n\\n\\n\\n\\n \\n\\n\\n\\n\\n\\n\\n\\n\\n\\n\\n\\n\\n\\n\\n...  2023-10-27    society  \n596  \\n\\n\\n\\n\\n\\n\\n\\n\\n\\n\\n\\n\\n\\n\\n\\n\\n\\n\\n\\n\\n\\n\\n...  2023-10-27    society  \n\n[597 rows x 7 columns]",
      "text/html": "<div>\n<style scoped>\n    .dataframe tbody tr th:only-of-type {\n        vertical-align: middle;\n    }\n\n    .dataframe tbody tr th {\n        vertical-align: top;\n    }\n\n    .dataframe thead th {\n        text-align: right;\n    }\n</style>\n<table border=\"1\" class=\"dataframe\">\n  <thead>\n    <tr style=\"text-align: right;\">\n      <th></th>\n      <th>id</th>\n      <th>url</th>\n      <th>source</th>\n      <th>title</th>\n      <th>content</th>\n      <th>datetime</th>\n      <th>topic</th>\n    </tr>\n  </thead>\n  <tbody>\n    <tr>\n      <th>0</th>\n      <td>https://www.rbc.ru/rbcfreenews/6546558b9a79475...</td>\n      <td>https://www.rbc.ru/rbcfreenews/6546558b9a79475...</td>\n      <td>rbc</td>\n      <td>\\n                    Песков ответил на слова ...</td>\n      <td>\\n\\n\\n\\n\\n\\n\\n\\n\\n\\n\\n\\n\\n\\n\\n\\n\\n\\n\\n\\n\\n\\n\\n...</td>\n      <td>2023-11-04</td>\n      <td>economics</td>\n    </tr>\n    <tr>\n      <th>1</th>\n      <td>https://www.rbc.ru/economics/04/11/2023/65464a...</td>\n      <td>https://www.rbc.ru/economics/04/11/2023/65464a...</td>\n      <td>rbc</td>\n      <td>\\n                    Фон дер Ляйен раскрыла д...</td>\n      <td>\\n\\nБрюссель введет новые ограничения на экспо...</td>\n      <td>2023-11-04</td>\n      <td>economics</td>\n    </tr>\n    <tr>\n      <th>2</th>\n      <td>https://www.rbc.ru/economics/04/11/2023/654635...</td>\n      <td>https://www.rbc.ru/economics/04/11/2023/654635...</td>\n      <td>rbc</td>\n      <td>\\n                    Абрамченко анонсировала ...</td>\n      <td>\\n\\nПри этом введение новых ограничений на экс...</td>\n      <td>2023-11-04</td>\n      <td>economics</td>\n    </tr>\n    <tr>\n      <th>3</th>\n      <td>https://www.rbc.ru/economics/04/11/2023/65460e...</td>\n      <td>https://www.rbc.ru/economics/04/11/2023/65460e...</td>\n      <td>rbc</td>\n      <td>\\n                    Хуснуллин заявил о беспо...</td>\n      <td>\\n\\nРост цен на стройматериалы вызывает беспок...</td>\n      <td>2023-11-04</td>\n      <td>economics</td>\n    </tr>\n    <tr>\n      <th>4</th>\n      <td>https://www.rbc.ru/economics/04/11/2023/654368...</td>\n      <td>https://www.rbc.ru/economics/04/11/2023/654368...</td>\n      <td>rbc</td>\n      <td>\\n                    Как бизнес сократил изно...</td>\n      <td>\\n\\n\\n\\n\\n\\n\\n\\n\\n\\n\\n\\n\\n\\n\\n\\n\\n\\n\\n\\n\\n\\n\\n...</td>\n      <td>2023-11-04</td>\n      <td>economics</td>\n    </tr>\n    <tr>\n      <th>...</th>\n      <td>...</td>\n      <td>...</td>\n      <td>...</td>\n      <td>...</td>\n      <td>...</td>\n      <td>...</td>\n      <td>...</td>\n    </tr>\n    <tr>\n      <th>592</th>\n      <td>https://www.rbc.ru/rbcfreenews/653b76d39a7947f...</td>\n      <td>https://www.rbc.ru/rbcfreenews/653b76d39a7947f...</td>\n      <td>rbc</td>\n      <td>\\n                    В Якутии запретили празд...</td>\n      <td>\\n\\n\\n\\n\\n\\n\\n\\n\\n\\n\\n\\n\\n\\n\\n\\n\\n\\n\\n\\n\\n\\n\\n...</td>\n      <td>2023-10-27</td>\n      <td>society</td>\n    </tr>\n    <tr>\n      <th>593</th>\n      <td>https://www.rbc.ru/photoreport/27/10/2023/653b...</td>\n      <td>https://www.rbc.ru/photoreport/27/10/2023/653b...</td>\n      <td>rbc</td>\n      <td>\\n                    Снегопад в Москве. Фотор...</td>\n      <td>\\n\\nВ Москве и области прошел сильный снег с д...</td>\n      <td>2023-10-27</td>\n      <td>society</td>\n    </tr>\n    <tr>\n      <th>594</th>\n      <td>https://www.rbc.ru/rbcfreenews/653b69909a7947d...</td>\n      <td>https://www.rbc.ru/rbcfreenews/653b69909a7947d...</td>\n      <td>rbc</td>\n      <td>\\n                    Кадры первого снега в Мо...</td>\n      <td>\\n \\n\\n\\n\\n\\n\\n \\n\\n\\n\\n\\n\\n\\n\\n\\n\\n\\n\\n\\n\\n\\n...</td>\n      <td>2023-10-27</td>\n      <td>society</td>\n    </tr>\n    <tr>\n      <th>595</th>\n      <td>https://www.rbc.ru/rbcfreenews/653b5a5a9a79474...</td>\n      <td>https://www.rbc.ru/rbcfreenews/653b5a5a9a79474...</td>\n      <td>rbc</td>\n      <td>\\n                    В Якутске произошел силь...</td>\n      <td>\\n \\n\\n\\n\\n\\n\\n \\n\\n\\n\\n\\n\\n\\n\\n\\n\\n\\n\\n\\n\\n\\n...</td>\n      <td>2023-10-27</td>\n      <td>society</td>\n    </tr>\n    <tr>\n      <th>596</th>\n      <td>https://www.rbc.ru/rbcfreenews/653b5a799a79474...</td>\n      <td>https://www.rbc.ru/rbcfreenews/653b5a799a79474...</td>\n      <td>rbc</td>\n      <td>\\n                    Синоптик рассказал, скол...</td>\n      <td>\\n\\n\\n\\n\\n\\n\\n\\n\\n\\n\\n\\n\\n\\n\\n\\n\\n\\n\\n\\n\\n\\n\\n...</td>\n      <td>2023-10-27</td>\n      <td>society</td>\n    </tr>\n  </tbody>\n</table>\n<p>597 rows × 7 columns</p>\n</div>"
     },
     "execution_count": 13,
     "metadata": {},
     "output_type": "execute_result"
    }
   ],
   "source": [
    "df_rbc"
   ],
   "metadata": {
    "collapsed": false,
    "ExecuteTime": {
     "end_time": "2023-11-04T16:34:54.383754400Z",
     "start_time": "2023-11-04T16:34:54.351467900Z"
    }
   }
  }
 ],
 "metadata": {
  "interpreter": {
   "hash": "403959ecd139c89f35081fab3d0ca535dfc149adc8a1d47a6d44f830632776ba"
  },
  "kernelspec": {
   "display_name": "Python 3 (ipykernel)",
   "language": "python",
   "name": "python3"
  },
  "language_info": {
   "codemirror_mode": {
    "name": "ipython",
    "version": 3
   },
   "file_extension": ".py",
   "mimetype": "text/x-python",
   "name": "python",
   "nbconvert_exporter": "python",
   "pygments_lexer": "ipython3",
   "version": "3.9.13"
  },
  "colab": {
   "provenance": []
  }
 },
 "nbformat": 4,
 "nbformat_minor": 0
}
